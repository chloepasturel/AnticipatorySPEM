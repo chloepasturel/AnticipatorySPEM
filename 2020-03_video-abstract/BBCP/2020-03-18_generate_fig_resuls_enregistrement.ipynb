{
 "cells": [
  {
   "cell_type": "code",
   "execution_count": 1,
   "metadata": {},
   "outputs": [],
   "source": [
    "# from ANEMO import ANEMO\n",
    "# from ANEMO import read_edf\n",
    "import numpy as np\n",
    "\n",
    "import pickle\n",
    "import matplotlib.pyplot as plt\n",
    "%matplotlib inline\n",
    "import bayesianchangepoint as bcp"
   ]
  },
  {
   "cell_type": "code",
   "execution_count": 2,
   "metadata": {},
   "outputs": [
    {
     "name": "stdout",
     "output_type": "stream",
     "text": [
      "\n",
      "WELCOME\n",
      "\n",
      "2020-03-25T16:42:53+01:00\n",
      "\n",
      "CPython 3.7.7\n",
      "IPython 7.13.0\n",
      "\n",
      "numpy 1.18.2\n",
      "matplotlib 3.2.1\n",
      "torch 1.4.0\n",
      "\n",
      "compiler   : Clang 11.0.0 (clang-1100.0.33.17)\n",
      "system     : Darwin\n",
      "release    : 19.0.0\n",
      "machine    : x86_64\n",
      "processor  : i386\n",
      "CPU cores  : 4\n",
      "interpreter: 64bit\n",
      "host name  : ekla\n",
      "Git hash   : fc8d0824d2d719d45c9c9748b12e7fe0e63ffce2\n",
      "Git repo   : https://github.com/chloepasturel/AnticipatorySPEM\n",
      "Git branch : master\n"
     ]
    }
   ],
   "source": [
    "%run ../../0_parameters.ipynb"
   ]
  },
  {
   "cell_type": "code",
   "execution_count": 3,
   "metadata": {},
   "outputs": [
    {
     "name": "stdout",
     "output_type": "stream",
     "text": [
      "fig_width = 30\n"
     ]
    }
   ],
   "source": [
    "print('fig_width =', fig_width)"
   ]
  },
  {
   "cell_type": "code",
   "execution_count": 4,
   "metadata": {},
   "outputs": [
    {
     "name": "stdout",
     "output_type": "stream",
     "text": [
      "bet_s01_2017-09-29_123528.pkl     eyeMvt_s05_2017-10-03_143803.EDF\n",
      "bet_s02_2017-09-25_142503.pkl     eyeMvt_s05_2017-10-03_143803.asc\n",
      "bet_s03_2017-09-28_154353.pkl     eyeMvt_s05_2017-10-03_143803.pkl\n",
      "bet_s04_2017-09-26_162348.pkl     eyeMvt_s06_2017-09-28_115250.asc\n",
      "bet_s05_2017-09-26_143606.pkl     eyeMvt_s06_2017-09-28_115250.edf\n",
      "bet_s06_2017-09-26_122431.pkl     eyeMvt_s06_2017-09-28_115250.pkl\n",
      "bet_s07_2017-09-19_152205.pkl     eyeMvt_s07_2017-09-20_151043.asc\n",
      "bet_s08_2017-10-24_105728.pkl     eyeMvt_s07_2017-09-20_151043.edf\n",
      "bet_s09_2017-11-07_105527.pkl     eyeMvt_s07_2017-09-20_151043.pkl\n",
      "bet_s10_2017-11-14_102614.pkl     eyeMvt_s08_2017-10-26_121823.asc\n",
      "bet_s11_2017-11-08_155132.pkl     eyeMvt_s08_2017-10-26_121823.edf\n",
      "bet_s12_2017-11-06_164857.pkl     eyeMvt_s08_2017-10-26_121823.pkl\n",
      "eyeMvt_s01_2017-10-23_100057.asc  eyeMvt_s09_2017-11-08_094717.asc\n",
      "eyeMvt_s01_2017-10-23_100057.edf  eyeMvt_s09_2017-11-08_094717.edf\n",
      "eyeMvt_s01_2017-10-23_100057.pkl  eyeMvt_s09_2017-11-08_094717.pkl\n",
      "eyeMvt_s02_2017-09-26_095637.EDF  eyeMvt_s10_2017-11-16_153313.asc\n",
      "eyeMvt_s02_2017-09-26_095637.asc  eyeMvt_s10_2017-11-16_153313.edf\n",
      "eyeMvt_s02_2017-09-26_095637.pkl  eyeMvt_s10_2017-11-16_153313.pkl\n",
      "eyeMvt_s03_2017-10-03_134421.asc  eyeMvt_s11_2017-11-08_150410.EDF\n",
      "eyeMvt_s03_2017-10-03_134421.edf  eyeMvt_s11_2017-11-08_150410.asc\n",
      "eyeMvt_s03_2017-10-03_134421.pkl  eyeMvt_s11_2017-11-08_150410.pkl\n",
      "eyeMvt_s04_2017-09-27_161040.asc  eyeMvt_s12_2017-11-17_172706.asc\n",
      "eyeMvt_s04_2017-09-27_161040.edf  eyeMvt_s12_2017-11-17_172706.edf\n",
      "eyeMvt_s04_2017-09-27_161040.pkl  eyeMvt_s12_2017-11-17_172706.pkl\n"
     ]
    }
   ],
   "source": [
    "%ls ../../data"
   ]
  },
  {
   "cell_type": "code",
   "execution_count": 5,
   "metadata": {},
   "outputs": [
    {
     "name": "stdout",
     "output_type": "stream",
     "text": [
      "['..', '..', 'data', 'bet_s07_2017-09-19_152205.pkl']\n",
      "['..', '..', 'data', 'bet_s03_2017-09-28_154353.pkl']\n",
      "['..', '..', 'data', 'eyeMvt_s04_2017-09-27_161040.pkl']\n",
      "['..', '..', 'data', 'eyeMvt_s01_2017-10-23_100057.pkl']\n",
      "['..', '..', 'data', 'bet_s09_2017-11-07_105527.pkl']\n",
      "['..', '..', 'data', 'eyeMvt_s02_2017-09-26_095637.pkl']\n",
      "['..', '..', 'data', 'eyeMvt_s09_2017-11-08_094717.pkl']\n",
      "['..', '..', 'data', 'bet_s01_2017-09-29_123528.pkl']\n",
      "['..', '..', 'data', 'bet_s02_2017-09-25_142503.pkl']\n",
      "['..', '..', 'data', 'eyeMvt_s05_2017-10-03_143803.pkl']\n",
      "['..', '..', 'data', 'eyeMvt_s06_2017-09-28_115250.pkl']\n",
      "['..', '..', 'data', 'eyeMvt_s03_2017-10-03_134421.pkl']\n",
      "['..', '..', 'data', 'bet_s08_2017-10-24_105728.pkl']\n",
      "['..', '..', 'data', 'eyeMvt_s12_2017-11-17_172706.pkl']\n",
      "['..', '..', 'data', 'bet_s05_2017-09-26_143606.pkl']\n",
      "['..', '..', 'data', 'eyeMvt_s07_2017-09-20_151043.pkl']\n",
      "['..', '..', 'data', 'bet_s12_2017-11-06_164857.pkl']\n",
      "['..', '..', 'data', 'bet_s11_2017-11-08_155132.pkl']\n",
      "['..', '..', 'data', 'eyeMvt_s11_2017-11-08_150410.pkl']\n",
      "['..', '..', 'data', 'bet_s06_2017-09-26_122431.pkl']\n",
      "['..', '..', 'data', 'eyeMvt_s10_2017-11-16_153313.pkl']\n",
      "['..', '..', 'data', 'bet_s04_2017-09-26_162348.pkl']\n",
      "['..', '..', 'data', 'eyeMvt_s08_2017-10-26_121823.pkl']\n",
      "['..', '..', 'data', 'bet_s10_2017-11-14_102614.pkl']\n"
     ]
    }
   ],
   "source": [
    "subjects = ['s01','s02','s03','s04','s05','s06','s07','s08','s09','s10','s11','s12']\n",
    "\n",
    "import glob\n",
    "liste = {'bet':{}, 'eyeMvt':{}}\n",
    "for fname in glob.glob('../../data/*pkl'):\n",
    "    print(fname.split('/'))\n",
    "    a = fname.split('/')[-1].split('.')[0].split('_')\n",
    "    liste[a[0]][a[1]] = a[2]+'_'+a[3]\n",
    "\n",
    "BET, EYEMVT = {}, {}\n",
    "for s in liste['bet'].keys() :\n",
    "    if s in subjects :\n",
    "        a = '../../data/bet_%s_%s.pkl'%(s, liste['bet'][s])\n",
    "        with open(a, 'rb') as fichier : BET[s] = pickle.load(fichier, encoding='latin1')\n",
    "        a = '../../parametre/fct_velocity_sigmo/param_Fit_%s_fct_velocity_sigmo.pkl'%s\n",
    "        with open(a, 'rb') as fichier : EYEMVT[s] = pickle.load(fichier, encoding='latin1')\n",
    "\n",
    "# ---------------------------------------------------\n",
    "param_exp = BET['s08']"
   ]
  },
  {
   "cell_type": "code",
   "execution_count": 6,
   "metadata": {},
   "outputs": [],
   "source": [
    "import matplotlib.gridspec as gridspec"
   ]
  },
  {
   "cell_type": "code",
   "execution_count": 7,
   "metadata": {},
   "outputs": [],
   "source": [
    "def plot_experiment(mode_bcp=None, tau=40, p=None,\n",
    "                    fig=None, axs=None, fig_width=10, titre=None, t_titre=35, t_label=25,\n",
    "                    color=[['k', 'k'], ['r', 'r'], ['k','w']], color_bet='r', color_va='k',\n",
    "                    color_bcp=['darkgreen'], name_bcp=['$P_{BBCP}$'],\n",
    "                    alpha = [[.35,.15],[.35,.15],[1,0]], lw = 1.3):\n",
    "\n",
    "    \n",
    "    def plot_result_bcp(ax1, mode, observation, time, n_trial, name_bcp, color, name=True) :\n",
    "\n",
    "        from scipy.stats import beta\n",
    "        p_bar, r_bar, beliefs = bcp.inference(observation, h=h, p0=p0, r0=r0)\n",
    "        p_hat, r_hat = bcp.readout(p_bar, r_bar, beliefs, mode=mode, fixed_window_size=40, p0=p0)\n",
    "        p_low, p_sup = np.zeros_like(p_hat), np.zeros_like(p_hat)\n",
    "\n",
    "        for i_trial in range(n_trial):\n",
    "            p_low[i_trial], p_sup[i_trial] = beta.ppf([.05, .95], a=p_hat[i_trial]*r_hat[i_trial], b=(1-p_hat[i_trial])*r_hat[i_trial])\n",
    "        ax1.plot(time, p_hat, c=color, lw=lw, alpha=1, label=name_bcp if name is True else '')\n",
    "        ax1.plot(time, p_sup, c=color, lw=lw, alpha=1, ls='--')\n",
    "        ax1.plot(time, p_low, c=color, lw=lw, alpha=1, ls='--')\n",
    "        ax1.fill_between(time, p_sup, p_low, lw=.5, alpha=.5, facecolor=color)\n",
    "\n",
    "        return ax1\n",
    "\n",
    "\n",
    "    N_trials, N_blocks = param_exp['N_trials'], param_exp['N_blocks']\n",
    "    h = 1./tau\n",
    "    \n",
    "    c = 'w'\n",
    "    p = param_exp['p']\n",
    "    ec = 0.1\n",
    "\n",
    "    mini = 5\n",
    "    ec1 = ec*mini*2\n",
    "    \n",
    "    \n",
    "    def figure():\n",
    "        #------------------------------------------------\n",
    "        # FIGURE\n",
    "        #------------------------------------------------\n",
    "        fig, axs = plt.subplots(3+1, 1, figsize=(fig_width, ((3+0.5)*fig_width/3)/(1.6180)))\n",
    "\n",
    "        gs1 = gridspec.GridSpec(1, 1)\n",
    "        gs1.update(left=0+0.072, bottom=0.84, right=1-0.04, top=1.-0.11, hspace=0.05)\n",
    "        axs[0] = plt.subplot(gs1[0])\n",
    "\n",
    "        for card in ['bottom', 'top', 'right']: axs[0].spines[card].set_visible(False)\n",
    "        axs[0].spines['left'].set_bounds(0, 1)\n",
    "\n",
    "        gs2 = gridspec.GridSpec(3, 1)\n",
    "        gs2.update(left=0+0.072, bottom=0+0.1, right=1-0.04, top=0.85-0.03, hspace=0.05)\n",
    "        for a in range(3): axs[a+1] = plt.subplot(gs2[a])\n",
    "\n",
    "        #------------------------------------------------\n",
    "        # Y\n",
    "        #------------------------------------------------\n",
    "        for a in range(len(axs)):\n",
    "            axs[a].set_ylim(-(ec/2), 1+ec-(ec/2))\n",
    "            axs[a].set_yticks([0])\n",
    "            axs[a].yaxis.set_label_coords(-0.05, 0.5)\n",
    "\n",
    "        axs[0].set_ylabel('TD', fontsize=t_label/1.2)\n",
    "        axs[0].set_yticks([0,1])\n",
    "        axs[0].set_yticklabels(['left','right'],fontsize=t_label/1.8)    \n",
    "\n",
    "        axs[1].set_ylabel('Probability', fontsize=t_label/1.5)\n",
    "        axs[3].set_ylabel('Bet score', fontsize=t_label/1.5)\n",
    "\n",
    "        for a in [1, 3] :\n",
    "            axs[a].set_yticks([0, 0.5, 1])\n",
    "            axs[a].set_yticklabels(['0', '0.5', '1'],fontsize=t_label/1.8)\n",
    "            axs[a].yaxis.set_label_coords(-0.03, 0.5)\n",
    "\n",
    "        axs[2].set_yticks([])\n",
    "        ax2 = axs[2].twinx()\n",
    "        ax2.set_ylabel('Anticipatory\\neye velocity (°/s)', fontsize=t_label/1.5, color=c)\n",
    "        ax2.set_ylim(-mini-(ec1/2), mini + ec1-(ec1/2))\n",
    "        ax2.set_yticks([-mini, 0, mini])\n",
    "        ax2.set_yticklabels(['-%s'%mini, '0', '%s'%mini],fontsize=t_label/1.8)\n",
    "        ax2.yaxis.set_label_coords(-0.063, 0.5)\n",
    "        ax2.yaxis.set_ticks_position('left')\n",
    "\n",
    "        for card in ['left', 'top', 'bottom', 'right']: ax2.spines[card].set_color(c)\n",
    "        ax2.tick_params(axis='both', colors=c, labelcolor=c)\n",
    "\n",
    "        #------------------------------------------------\n",
    "        # X\n",
    "        #------------------------------------------------\n",
    "        for a in range(len(axs)):\n",
    "            #------------------------------------------------\n",
    "            # cosmétique\n",
    "            #------------------------------------------------\n",
    "            axs[a].set_xlim(-1, N_trials)\n",
    "            if a==(len(axs)-1) :\n",
    "                axs[a].set_xticks([0, 50, 100, 150, 200])\n",
    "                axs[a].set_xticklabels([0, 50, 100, 150, 200], ha='left', fontsize=t_label/1.8)\n",
    "                axs[a].xaxis.set_ticks_position('bottom')\n",
    "            else :\n",
    "                axs[a].set_xticks([])\n",
    "        axs[-1].set_xlabel('Trial #', fontsize=t_label)\n",
    "        #----------------------------------------------------------------\n",
    "\n",
    "        for a in axs :\n",
    "            a.tick_params(axis='both', colors=c, labelcolor=c)\n",
    "            a.xaxis.label.set_color(c)\n",
    "            a.yaxis.label.set_color(c)\n",
    "            for card in ['left', 'top', 'bottom', 'right']: a.spines[card].set_color(c)\n",
    "        \n",
    "        return fig, axs, ax2\n",
    "\n",
    "    \n",
    "    ###################################################################################################################################\n",
    "    # PLOT\n",
    "    ###################################################################################################################################\n",
    "    p = BET[subjects[0]]['p']\n",
    "    p0, r0 =  0.5, 1.0\n",
    "    \n",
    "    resusu = np.zeros((len(subjects), N_trials))\n",
    "    v_antiti = np.zeros((len(subjects), N_trials))\n",
    "\n",
    "    for x, y in enumerate(subjects) :\n",
    "        resusu[x] = (BET[y]['results'][:, 0]+1)/2\n",
    "        a_anti, start_anti, latency = EYEMVT[y]['a_anti'][0], EYEMVT[y]['start_anti'][0], EYEMVT[y]['latency'][0]\n",
    "        v_antiti[x] = (np.array(a_anti)*((np.array(latency)-np.array(start_anti))/1000))\n",
    "\n",
    "    results = np.median(resusu, axis=0)\n",
    "    va = np.median(v_antiti, axis=0)\n",
    "\n",
    "    results_low, results_sup = np.percentile(resusu, [25, 75], axis=0)\n",
    "    va_low, va_sup = np.percentile(v_antiti, [25, 75], axis=0)\n",
    "\n",
    "    \n",
    "    for t in range(1, N_trials) :\n",
    "        print(t)\n",
    "        fig, axs, ax2 = figure()\n",
    "\n",
    "        for a in range(len(axs)):\n",
    "            #------------------------------------------------\n",
    "            # Barre Pause\n",
    "            #------------------------------------------------\n",
    "            for num_pause in range(1,4) :\n",
    "                axs[a].bar(num_pause*50-1, 1+ec, bottom=-ec/2, color=c, width=.5, linewidth=0)\n",
    "\n",
    "        \n",
    "        \n",
    "        ###################################################################################################################################\n",
    "        axs[0].plot(np.arange(1, t), p[1:t, 0, 0], 'w.', ms=4)\n",
    "\n",
    "        #-------------------------------------------------------------------------------------------------------------\n",
    "        axs[0].step(range(t), p[:t, 0, 0], lw=1, c=color[0][0], alpha=alpha[0][0], where='mid')\n",
    "        axs[0].fill_between(range(t), np.zeros_like(p[:t, 0, 0]), p[:t, 0, 0],\n",
    "                            lw=.5, alpha=alpha[0][0], facecolor=color[0][0], step='mid')\n",
    "        axs[0].fill_between(range(t), np.ones_like(p[:t, 0, 0]), p[:t, 0, 0],\n",
    "                            lw=.5, alpha=alpha[0][1], facecolor=color[0][1], step='mid')\n",
    "\n",
    "        for a in range(1, 4) :\n",
    "            axs[a].step(range(N_trials), p[:, 0, 1], lw=lw, c=color[1][0], alpha=1, label='$P_{true}$')\n",
    "            axs[a].plot(range(N_trials), 0.5*np.ones(N_trials), lw=1.5, c=c, alpha=0.5)\n",
    "\n",
    "        #------------------------------------------------------------\n",
    "        # BCP\n",
    "        #------------------------------------------------------------\n",
    "\n",
    "        for b, mode in enumerate(mode_bcp):\n",
    "            if t < 51 :    liste = [0,t]\n",
    "            elif t < 101 : liste = [0,50, t]\n",
    "            elif t < 151 : liste = [0,50,100, t]\n",
    "            else :         liste = [0,50,100,150, t]\n",
    "            \n",
    "            for pause in range(len(liste)-1) :\n",
    "                if pause==0 : name=True\n",
    "                else :        name=False\n",
    "                n_trial = liste[pause+1]-liste[pause]\n",
    "                axs[1] = plot_result_bcp(axs[1], mode, p[liste[pause]:liste[pause+1], 0, 0],\n",
    "                                         np.arange(liste[pause], liste[pause+1]), n_trial, name_bcp[b], color_bcp[b],\n",
    "                                         name=name)\n",
    "        \n",
    "        if t < 51 :    liste = [0,t]\n",
    "        elif t < 101 : liste = [0,50, t]\n",
    "        elif t < 151 : liste = [0,50,100, t]\n",
    "        else :         liste = [0,50,100,150, t]\n",
    "            \n",
    "        for pause in range(len(liste)-1) :\n",
    "\n",
    "            #------------------------------------------------------------\n",
    "            # eyeMvt\n",
    "            #------------------------------------------------------------\n",
    "            va__ = va[liste[pause]:liste[pause+1]]\n",
    "            va_sup__ = va_sup[liste[pause]:liste[pause+1]]\n",
    "            va_low__ = va_low[liste[pause]:liste[pause+1]]\n",
    "            titi = np.arange(liste[pause], liste[pause+1])\n",
    "\n",
    "            ax2.plot(titi, va__, color=color_va, lw=lw, alpha=1)\n",
    "\n",
    "            ax2.fill_between(titi, va_sup__, va_low__, lw=.5, alpha=.6, facecolor=color_va)\n",
    "            ax2.plot(titi, va_sup__, c=color_va, lw=lw, alpha=.9, ls='--')\n",
    "            ax2.plot(titi, va_low__, c=color_va, lw=lw, alpha=.9, ls='--')\n",
    "\n",
    "            #------------------------------------------------------------\n",
    "            # bet\n",
    "            #------------------------------------------------------------\n",
    "            results__ = results[liste[pause]:liste[pause+1]]\n",
    "            results_sup__ = results_sup[liste[pause]:liste[pause+1]]\n",
    "            results_low__ = results_low[liste[pause]:liste[pause+1]]\n",
    "\n",
    "            axs[3].plot(titi, results__, color=color_bet, lw=lw, alpha=1)\n",
    "\n",
    "            axs[3].fill_between(titi, results_sup__, results_low__, lw=.5, alpha=.6, facecolor=color_bet)\n",
    "            axs[3].plot(titi, results_sup__, c=color_bet, lw=lw, alpha=.9, ls='--')\n",
    "            axs[3].plot(titi, results_low__, c=color_bet, lw=lw, alpha=.9, ls='--')\n",
    "\n",
    "\n",
    "        #------------------------------------------------\n",
    "        leg = axs[1].legend(fontsize=t_label/1.8, bbox_to_anchor=(0., 1.33, 1, 0.), loc=3, ncol=4,\n",
    "                            mode=\"expand\", borderaxespad=0., framealpha=0)\n",
    "\n",
    "        for line, text in zip(leg.get_lines(), leg.get_texts()): text.set_color(line.get_color())\n",
    "\n",
    "        #fig.tight_layout()\n",
    "        plt.subplots_adjust(hspace=0.05)\n",
    "        fig.savefig('results_enregistrement/2_results_enregistrement_%s.png'%t, dpi=150,\n",
    "                    transparent=True, bbox_inches='tight', pad_inches=0)\n",
    "        \n",
    "        plt.close()\n",
    "        \n",
    "        #plt.show()\n",
    "        #------------------------------------------------\n",
    "\n",
    "    #return fig, axs"
   ]
  },
  {
   "cell_type": "code",
   "execution_count": null,
   "metadata": {},
   "outputs": [
    {
     "name": "stdout",
     "output_type": "stream",
     "text": [
      "1\n"
     ]
    },
    {
     "name": "stderr",
     "output_type": "stream",
     "text": [
      "/usr/local/lib/python3.7/site-packages/ipykernel_launcher.py:218: UserWarning: This figure includes Axes that are not compatible with tight_layout, so results might be incorrect.\n"
     ]
    },
    {
     "name": "stdout",
     "output_type": "stream",
     "text": [
      "2\n"
     ]
    },
    {
     "name": "stderr",
     "output_type": "stream",
     "text": [
      "/usr/local/lib/python3.7/site-packages/ipykernel_launcher.py:218: UserWarning: This figure includes Axes that are not compatible with tight_layout, so results might be incorrect.\n"
     ]
    },
    {
     "name": "stdout",
     "output_type": "stream",
     "text": [
      "3\n"
     ]
    },
    {
     "name": "stderr",
     "output_type": "stream",
     "text": [
      "/usr/local/lib/python3.7/site-packages/ipykernel_launcher.py:218: UserWarning: This figure includes Axes that are not compatible with tight_layout, so results might be incorrect.\n"
     ]
    },
    {
     "name": "stdout",
     "output_type": "stream",
     "text": [
      "4\n"
     ]
    },
    {
     "name": "stderr",
     "output_type": "stream",
     "text": [
      "/usr/local/lib/python3.7/site-packages/ipykernel_launcher.py:218: UserWarning: This figure includes Axes that are not compatible with tight_layout, so results might be incorrect.\n"
     ]
    },
    {
     "name": "stdout",
     "output_type": "stream",
     "text": [
      "5\n"
     ]
    },
    {
     "name": "stderr",
     "output_type": "stream",
     "text": [
      "/usr/local/lib/python3.7/site-packages/ipykernel_launcher.py:218: UserWarning: This figure includes Axes that are not compatible with tight_layout, so results might be incorrect.\n"
     ]
    },
    {
     "name": "stdout",
     "output_type": "stream",
     "text": [
      "6\n"
     ]
    },
    {
     "name": "stderr",
     "output_type": "stream",
     "text": [
      "/usr/local/lib/python3.7/site-packages/ipykernel_launcher.py:218: UserWarning: This figure includes Axes that are not compatible with tight_layout, so results might be incorrect.\n"
     ]
    },
    {
     "name": "stdout",
     "output_type": "stream",
     "text": [
      "7\n"
     ]
    },
    {
     "name": "stderr",
     "output_type": "stream",
     "text": [
      "/usr/local/lib/python3.7/site-packages/ipykernel_launcher.py:218: UserWarning: This figure includes Axes that are not compatible with tight_layout, so results might be incorrect.\n"
     ]
    },
    {
     "name": "stdout",
     "output_type": "stream",
     "text": [
      "8\n"
     ]
    },
    {
     "name": "stderr",
     "output_type": "stream",
     "text": [
      "/usr/local/lib/python3.7/site-packages/ipykernel_launcher.py:218: UserWarning: This figure includes Axes that are not compatible with tight_layout, so results might be incorrect.\n"
     ]
    },
    {
     "name": "stdout",
     "output_type": "stream",
     "text": [
      "9\n"
     ]
    },
    {
     "name": "stderr",
     "output_type": "stream",
     "text": [
      "/usr/local/lib/python3.7/site-packages/ipykernel_launcher.py:218: UserWarning: This figure includes Axes that are not compatible with tight_layout, so results might be incorrect.\n"
     ]
    },
    {
     "name": "stdout",
     "output_type": "stream",
     "text": [
      "10\n"
     ]
    },
    {
     "name": "stderr",
     "output_type": "stream",
     "text": [
      "/usr/local/lib/python3.7/site-packages/ipykernel_launcher.py:218: UserWarning: This figure includes Axes that are not compatible with tight_layout, so results might be incorrect.\n"
     ]
    },
    {
     "name": "stdout",
     "output_type": "stream",
     "text": [
      "11\n"
     ]
    },
    {
     "name": "stderr",
     "output_type": "stream",
     "text": [
      "/usr/local/lib/python3.7/site-packages/ipykernel_launcher.py:218: UserWarning: This figure includes Axes that are not compatible with tight_layout, so results might be incorrect.\n"
     ]
    },
    {
     "name": "stdout",
     "output_type": "stream",
     "text": [
      "12\n"
     ]
    },
    {
     "name": "stderr",
     "output_type": "stream",
     "text": [
      "/usr/local/lib/python3.7/site-packages/ipykernel_launcher.py:218: UserWarning: This figure includes Axes that are not compatible with tight_layout, so results might be incorrect.\n"
     ]
    },
    {
     "name": "stdout",
     "output_type": "stream",
     "text": [
      "13\n"
     ]
    },
    {
     "name": "stderr",
     "output_type": "stream",
     "text": [
      "/usr/local/lib/python3.7/site-packages/ipykernel_launcher.py:218: UserWarning: This figure includes Axes that are not compatible with tight_layout, so results might be incorrect.\n"
     ]
    },
    {
     "name": "stdout",
     "output_type": "stream",
     "text": [
      "14\n"
     ]
    },
    {
     "name": "stderr",
     "output_type": "stream",
     "text": [
      "/usr/local/lib/python3.7/site-packages/ipykernel_launcher.py:218: UserWarning: This figure includes Axes that are not compatible with tight_layout, so results might be incorrect.\n"
     ]
    },
    {
     "name": "stdout",
     "output_type": "stream",
     "text": [
      "15\n"
     ]
    },
    {
     "name": "stderr",
     "output_type": "stream",
     "text": [
      "/usr/local/lib/python3.7/site-packages/ipykernel_launcher.py:218: UserWarning: This figure includes Axes that are not compatible with tight_layout, so results might be incorrect.\n"
     ]
    },
    {
     "name": "stdout",
     "output_type": "stream",
     "text": [
      "16\n"
     ]
    },
    {
     "name": "stderr",
     "output_type": "stream",
     "text": [
      "/usr/local/lib/python3.7/site-packages/ipykernel_launcher.py:218: UserWarning: This figure includes Axes that are not compatible with tight_layout, so results might be incorrect.\n"
     ]
    },
    {
     "name": "stdout",
     "output_type": "stream",
     "text": [
      "17\n"
     ]
    },
    {
     "name": "stderr",
     "output_type": "stream",
     "text": [
      "/usr/local/lib/python3.7/site-packages/ipykernel_launcher.py:218: UserWarning: This figure includes Axes that are not compatible with tight_layout, so results might be incorrect.\n"
     ]
    },
    {
     "name": "stdout",
     "output_type": "stream",
     "text": [
      "18\n"
     ]
    },
    {
     "name": "stderr",
     "output_type": "stream",
     "text": [
      "/usr/local/lib/python3.7/site-packages/ipykernel_launcher.py:218: UserWarning: This figure includes Axes that are not compatible with tight_layout, so results might be incorrect.\n"
     ]
    },
    {
     "name": "stdout",
     "output_type": "stream",
     "text": [
      "19\n"
     ]
    },
    {
     "name": "stderr",
     "output_type": "stream",
     "text": [
      "/usr/local/lib/python3.7/site-packages/ipykernel_launcher.py:218: UserWarning: This figure includes Axes that are not compatible with tight_layout, so results might be incorrect.\n"
     ]
    },
    {
     "name": "stdout",
     "output_type": "stream",
     "text": [
      "20\n"
     ]
    },
    {
     "name": "stderr",
     "output_type": "stream",
     "text": [
      "/usr/local/lib/python3.7/site-packages/ipykernel_launcher.py:218: UserWarning: This figure includes Axes that are not compatible with tight_layout, so results might be incorrect.\n"
     ]
    },
    {
     "name": "stdout",
     "output_type": "stream",
     "text": [
      "21\n"
     ]
    },
    {
     "name": "stderr",
     "output_type": "stream",
     "text": [
      "/usr/local/lib/python3.7/site-packages/ipykernel_launcher.py:218: UserWarning: This figure includes Axes that are not compatible with tight_layout, so results might be incorrect.\n"
     ]
    },
    {
     "name": "stdout",
     "output_type": "stream",
     "text": [
      "22\n"
     ]
    },
    {
     "name": "stderr",
     "output_type": "stream",
     "text": [
      "/usr/local/lib/python3.7/site-packages/ipykernel_launcher.py:218: UserWarning: This figure includes Axes that are not compatible with tight_layout, so results might be incorrect.\n"
     ]
    },
    {
     "name": "stdout",
     "output_type": "stream",
     "text": [
      "23\n"
     ]
    },
    {
     "name": "stderr",
     "output_type": "stream",
     "text": [
      "/usr/local/lib/python3.7/site-packages/ipykernel_launcher.py:218: UserWarning: This figure includes Axes that are not compatible with tight_layout, so results might be incorrect.\n"
     ]
    },
    {
     "name": "stdout",
     "output_type": "stream",
     "text": [
      "24\n"
     ]
    },
    {
     "name": "stderr",
     "output_type": "stream",
     "text": [
      "/usr/local/lib/python3.7/site-packages/ipykernel_launcher.py:218: UserWarning: This figure includes Axes that are not compatible with tight_layout, so results might be incorrect.\n"
     ]
    },
    {
     "name": "stdout",
     "output_type": "stream",
     "text": [
      "25\n"
     ]
    },
    {
     "name": "stderr",
     "output_type": "stream",
     "text": [
      "/usr/local/lib/python3.7/site-packages/ipykernel_launcher.py:218: UserWarning: This figure includes Axes that are not compatible with tight_layout, so results might be incorrect.\n"
     ]
    },
    {
     "name": "stdout",
     "output_type": "stream",
     "text": [
      "26\n"
     ]
    },
    {
     "name": "stderr",
     "output_type": "stream",
     "text": [
      "/usr/local/lib/python3.7/site-packages/ipykernel_launcher.py:218: UserWarning: This figure includes Axes that are not compatible with tight_layout, so results might be incorrect.\n"
     ]
    },
    {
     "name": "stdout",
     "output_type": "stream",
     "text": [
      "27\n"
     ]
    },
    {
     "name": "stderr",
     "output_type": "stream",
     "text": [
      "/usr/local/lib/python3.7/site-packages/ipykernel_launcher.py:218: UserWarning: This figure includes Axes that are not compatible with tight_layout, so results might be incorrect.\n"
     ]
    },
    {
     "name": "stdout",
     "output_type": "stream",
     "text": [
      "28\n"
     ]
    },
    {
     "name": "stderr",
     "output_type": "stream",
     "text": [
      "/usr/local/lib/python3.7/site-packages/ipykernel_launcher.py:218: UserWarning: This figure includes Axes that are not compatible with tight_layout, so results might be incorrect.\n"
     ]
    },
    {
     "name": "stdout",
     "output_type": "stream",
     "text": [
      "29\n"
     ]
    },
    {
     "name": "stderr",
     "output_type": "stream",
     "text": [
      "/usr/local/lib/python3.7/site-packages/ipykernel_launcher.py:218: UserWarning: This figure includes Axes that are not compatible with tight_layout, so results might be incorrect.\n"
     ]
    },
    {
     "name": "stdout",
     "output_type": "stream",
     "text": [
      "30\n"
     ]
    },
    {
     "name": "stderr",
     "output_type": "stream",
     "text": [
      "/usr/local/lib/python3.7/site-packages/ipykernel_launcher.py:218: UserWarning: This figure includes Axes that are not compatible with tight_layout, so results might be incorrect.\n"
     ]
    },
    {
     "name": "stdout",
     "output_type": "stream",
     "text": [
      "31\n"
     ]
    },
    {
     "name": "stderr",
     "output_type": "stream",
     "text": [
      "/usr/local/lib/python3.7/site-packages/ipykernel_launcher.py:218: UserWarning: This figure includes Axes that are not compatible with tight_layout, so results might be incorrect.\n"
     ]
    },
    {
     "name": "stdout",
     "output_type": "stream",
     "text": [
      "32\n"
     ]
    },
    {
     "name": "stderr",
     "output_type": "stream",
     "text": [
      "/usr/local/lib/python3.7/site-packages/ipykernel_launcher.py:218: UserWarning: This figure includes Axes that are not compatible with tight_layout, so results might be incorrect.\n"
     ]
    },
    {
     "name": "stdout",
     "output_type": "stream",
     "text": [
      "33\n"
     ]
    },
    {
     "name": "stderr",
     "output_type": "stream",
     "text": [
      "/usr/local/lib/python3.7/site-packages/ipykernel_launcher.py:218: UserWarning: This figure includes Axes that are not compatible with tight_layout, so results might be incorrect.\n"
     ]
    },
    {
     "name": "stdout",
     "output_type": "stream",
     "text": [
      "34\n"
     ]
    },
    {
     "name": "stderr",
     "output_type": "stream",
     "text": [
      "/usr/local/lib/python3.7/site-packages/ipykernel_launcher.py:218: UserWarning: This figure includes Axes that are not compatible with tight_layout, so results might be incorrect.\n"
     ]
    },
    {
     "name": "stdout",
     "output_type": "stream",
     "text": [
      "35\n"
     ]
    },
    {
     "name": "stderr",
     "output_type": "stream",
     "text": [
      "/usr/local/lib/python3.7/site-packages/ipykernel_launcher.py:218: UserWarning: This figure includes Axes that are not compatible with tight_layout, so results might be incorrect.\n"
     ]
    },
    {
     "name": "stdout",
     "output_type": "stream",
     "text": [
      "36\n"
     ]
    },
    {
     "name": "stderr",
     "output_type": "stream",
     "text": [
      "/usr/local/lib/python3.7/site-packages/ipykernel_launcher.py:218: UserWarning: This figure includes Axes that are not compatible with tight_layout, so results might be incorrect.\n"
     ]
    },
    {
     "name": "stdout",
     "output_type": "stream",
     "text": [
      "37\n"
     ]
    },
    {
     "name": "stderr",
     "output_type": "stream",
     "text": [
      "/usr/local/lib/python3.7/site-packages/ipykernel_launcher.py:218: UserWarning: This figure includes Axes that are not compatible with tight_layout, so results might be incorrect.\n"
     ]
    },
    {
     "name": "stdout",
     "output_type": "stream",
     "text": [
      "38\n"
     ]
    },
    {
     "name": "stderr",
     "output_type": "stream",
     "text": [
      "/usr/local/lib/python3.7/site-packages/ipykernel_launcher.py:218: UserWarning: This figure includes Axes that are not compatible with tight_layout, so results might be incorrect.\n"
     ]
    },
    {
     "name": "stdout",
     "output_type": "stream",
     "text": [
      "39\n"
     ]
    },
    {
     "name": "stderr",
     "output_type": "stream",
     "text": [
      "/usr/local/lib/python3.7/site-packages/ipykernel_launcher.py:218: UserWarning: This figure includes Axes that are not compatible with tight_layout, so results might be incorrect.\n"
     ]
    },
    {
     "name": "stdout",
     "output_type": "stream",
     "text": [
      "40\n"
     ]
    },
    {
     "name": "stderr",
     "output_type": "stream",
     "text": [
      "/usr/local/lib/python3.7/site-packages/ipykernel_launcher.py:218: UserWarning: This figure includes Axes that are not compatible with tight_layout, so results might be incorrect.\n"
     ]
    },
    {
     "name": "stdout",
     "output_type": "stream",
     "text": [
      "41\n"
     ]
    },
    {
     "name": "stderr",
     "output_type": "stream",
     "text": [
      "/usr/local/lib/python3.7/site-packages/ipykernel_launcher.py:218: UserWarning: This figure includes Axes that are not compatible with tight_layout, so results might be incorrect.\n"
     ]
    },
    {
     "name": "stdout",
     "output_type": "stream",
     "text": [
      "42\n"
     ]
    },
    {
     "name": "stderr",
     "output_type": "stream",
     "text": [
      "/usr/local/lib/python3.7/site-packages/ipykernel_launcher.py:218: UserWarning: This figure includes Axes that are not compatible with tight_layout, so results might be incorrect.\n"
     ]
    },
    {
     "name": "stdout",
     "output_type": "stream",
     "text": [
      "43\n"
     ]
    },
    {
     "name": "stderr",
     "output_type": "stream",
     "text": [
      "/usr/local/lib/python3.7/site-packages/ipykernel_launcher.py:218: UserWarning: This figure includes Axes that are not compatible with tight_layout, so results might be incorrect.\n"
     ]
    },
    {
     "name": "stdout",
     "output_type": "stream",
     "text": [
      "44\n"
     ]
    },
    {
     "name": "stderr",
     "output_type": "stream",
     "text": [
      "/usr/local/lib/python3.7/site-packages/ipykernel_launcher.py:218: UserWarning: This figure includes Axes that are not compatible with tight_layout, so results might be incorrect.\n"
     ]
    },
    {
     "name": "stdout",
     "output_type": "stream",
     "text": [
      "45\n"
     ]
    },
    {
     "name": "stderr",
     "output_type": "stream",
     "text": [
      "/usr/local/lib/python3.7/site-packages/ipykernel_launcher.py:218: UserWarning: This figure includes Axes that are not compatible with tight_layout, so results might be incorrect.\n"
     ]
    },
    {
     "name": "stdout",
     "output_type": "stream",
     "text": [
      "46\n"
     ]
    },
    {
     "name": "stderr",
     "output_type": "stream",
     "text": [
      "/usr/local/lib/python3.7/site-packages/ipykernel_launcher.py:218: UserWarning: This figure includes Axes that are not compatible with tight_layout, so results might be incorrect.\n"
     ]
    },
    {
     "name": "stdout",
     "output_type": "stream",
     "text": [
      "47\n"
     ]
    },
    {
     "name": "stderr",
     "output_type": "stream",
     "text": [
      "/usr/local/lib/python3.7/site-packages/ipykernel_launcher.py:218: UserWarning: This figure includes Axes that are not compatible with tight_layout, so results might be incorrect.\n"
     ]
    },
    {
     "name": "stdout",
     "output_type": "stream",
     "text": [
      "48\n"
     ]
    },
    {
     "name": "stderr",
     "output_type": "stream",
     "text": [
      "/usr/local/lib/python3.7/site-packages/ipykernel_launcher.py:218: UserWarning: This figure includes Axes that are not compatible with tight_layout, so results might be incorrect.\n"
     ]
    },
    {
     "name": "stdout",
     "output_type": "stream",
     "text": [
      "49\n"
     ]
    },
    {
     "name": "stderr",
     "output_type": "stream",
     "text": [
      "/usr/local/lib/python3.7/site-packages/ipykernel_launcher.py:218: UserWarning: This figure includes Axes that are not compatible with tight_layout, so results might be incorrect.\n"
     ]
    },
    {
     "name": "stdout",
     "output_type": "stream",
     "text": [
      "50\n"
     ]
    },
    {
     "name": "stderr",
     "output_type": "stream",
     "text": [
      "/usr/local/lib/python3.7/site-packages/ipykernel_launcher.py:218: UserWarning: This figure includes Axes that are not compatible with tight_layout, so results might be incorrect.\n"
     ]
    },
    {
     "name": "stdout",
     "output_type": "stream",
     "text": [
      "51\n"
     ]
    },
    {
     "name": "stderr",
     "output_type": "stream",
     "text": [
      "/usr/local/lib/python3.7/site-packages/ipykernel_launcher.py:218: UserWarning: This figure includes Axes that are not compatible with tight_layout, so results might be incorrect.\n"
     ]
    },
    {
     "name": "stdout",
     "output_type": "stream",
     "text": [
      "52\n"
     ]
    },
    {
     "name": "stderr",
     "output_type": "stream",
     "text": [
      "/usr/local/lib/python3.7/site-packages/ipykernel_launcher.py:218: UserWarning: This figure includes Axes that are not compatible with tight_layout, so results might be incorrect.\n"
     ]
    },
    {
     "name": "stdout",
     "output_type": "stream",
     "text": [
      "53\n"
     ]
    },
    {
     "name": "stderr",
     "output_type": "stream",
     "text": [
      "/usr/local/lib/python3.7/site-packages/ipykernel_launcher.py:218: UserWarning: This figure includes Axes that are not compatible with tight_layout, so results might be incorrect.\n"
     ]
    },
    {
     "name": "stdout",
     "output_type": "stream",
     "text": [
      "54\n"
     ]
    },
    {
     "name": "stderr",
     "output_type": "stream",
     "text": [
      "/usr/local/lib/python3.7/site-packages/ipykernel_launcher.py:218: UserWarning: This figure includes Axes that are not compatible with tight_layout, so results might be incorrect.\n"
     ]
    },
    {
     "name": "stdout",
     "output_type": "stream",
     "text": [
      "55\n"
     ]
    },
    {
     "name": "stderr",
     "output_type": "stream",
     "text": [
      "/usr/local/lib/python3.7/site-packages/ipykernel_launcher.py:218: UserWarning: This figure includes Axes that are not compatible with tight_layout, so results might be incorrect.\n"
     ]
    },
    {
     "name": "stdout",
     "output_type": "stream",
     "text": [
      "56\n"
     ]
    },
    {
     "name": "stderr",
     "output_type": "stream",
     "text": [
      "/usr/local/lib/python3.7/site-packages/ipykernel_launcher.py:218: UserWarning: This figure includes Axes that are not compatible with tight_layout, so results might be incorrect.\n"
     ]
    },
    {
     "name": "stdout",
     "output_type": "stream",
     "text": [
      "57\n"
     ]
    },
    {
     "name": "stderr",
     "output_type": "stream",
     "text": [
      "/usr/local/lib/python3.7/site-packages/ipykernel_launcher.py:218: UserWarning: This figure includes Axes that are not compatible with tight_layout, so results might be incorrect.\n"
     ]
    },
    {
     "name": "stdout",
     "output_type": "stream",
     "text": [
      "58\n"
     ]
    },
    {
     "name": "stderr",
     "output_type": "stream",
     "text": [
      "/usr/local/lib/python3.7/site-packages/ipykernel_launcher.py:218: UserWarning: This figure includes Axes that are not compatible with tight_layout, so results might be incorrect.\n"
     ]
    },
    {
     "name": "stdout",
     "output_type": "stream",
     "text": [
      "59\n"
     ]
    },
    {
     "name": "stderr",
     "output_type": "stream",
     "text": [
      "/usr/local/lib/python3.7/site-packages/ipykernel_launcher.py:218: UserWarning: This figure includes Axes that are not compatible with tight_layout, so results might be incorrect.\n"
     ]
    },
    {
     "name": "stdout",
     "output_type": "stream",
     "text": [
      "60\n"
     ]
    },
    {
     "name": "stderr",
     "output_type": "stream",
     "text": [
      "/usr/local/lib/python3.7/site-packages/ipykernel_launcher.py:218: UserWarning: This figure includes Axes that are not compatible with tight_layout, so results might be incorrect.\n"
     ]
    },
    {
     "name": "stdout",
     "output_type": "stream",
     "text": [
      "61\n"
     ]
    },
    {
     "name": "stderr",
     "output_type": "stream",
     "text": [
      "/usr/local/lib/python3.7/site-packages/ipykernel_launcher.py:218: UserWarning: This figure includes Axes that are not compatible with tight_layout, so results might be incorrect.\n"
     ]
    },
    {
     "name": "stdout",
     "output_type": "stream",
     "text": [
      "62\n"
     ]
    },
    {
     "name": "stderr",
     "output_type": "stream",
     "text": [
      "/usr/local/lib/python3.7/site-packages/ipykernel_launcher.py:218: UserWarning: This figure includes Axes that are not compatible with tight_layout, so results might be incorrect.\n"
     ]
    },
    {
     "name": "stdout",
     "output_type": "stream",
     "text": [
      "63\n"
     ]
    },
    {
     "name": "stderr",
     "output_type": "stream",
     "text": [
      "/usr/local/lib/python3.7/site-packages/ipykernel_launcher.py:218: UserWarning: This figure includes Axes that are not compatible with tight_layout, so results might be incorrect.\n"
     ]
    },
    {
     "name": "stdout",
     "output_type": "stream",
     "text": [
      "64\n"
     ]
    },
    {
     "name": "stderr",
     "output_type": "stream",
     "text": [
      "/usr/local/lib/python3.7/site-packages/ipykernel_launcher.py:218: UserWarning: This figure includes Axes that are not compatible with tight_layout, so results might be incorrect.\n"
     ]
    },
    {
     "name": "stdout",
     "output_type": "stream",
     "text": [
      "65\n"
     ]
    },
    {
     "name": "stderr",
     "output_type": "stream",
     "text": [
      "/usr/local/lib/python3.7/site-packages/ipykernel_launcher.py:218: UserWarning: This figure includes Axes that are not compatible with tight_layout, so results might be incorrect.\n"
     ]
    },
    {
     "name": "stdout",
     "output_type": "stream",
     "text": [
      "66\n"
     ]
    },
    {
     "name": "stderr",
     "output_type": "stream",
     "text": [
      "/usr/local/lib/python3.7/site-packages/ipykernel_launcher.py:218: UserWarning: This figure includes Axes that are not compatible with tight_layout, so results might be incorrect.\n"
     ]
    },
    {
     "name": "stdout",
     "output_type": "stream",
     "text": [
      "67\n"
     ]
    },
    {
     "name": "stderr",
     "output_type": "stream",
     "text": [
      "/usr/local/lib/python3.7/site-packages/ipykernel_launcher.py:218: UserWarning: This figure includes Axes that are not compatible with tight_layout, so results might be incorrect.\n"
     ]
    },
    {
     "name": "stdout",
     "output_type": "stream",
     "text": [
      "68\n"
     ]
    },
    {
     "name": "stderr",
     "output_type": "stream",
     "text": [
      "/usr/local/lib/python3.7/site-packages/ipykernel_launcher.py:218: UserWarning: This figure includes Axes that are not compatible with tight_layout, so results might be incorrect.\n"
     ]
    },
    {
     "name": "stdout",
     "output_type": "stream",
     "text": [
      "69\n"
     ]
    },
    {
     "name": "stderr",
     "output_type": "stream",
     "text": [
      "/usr/local/lib/python3.7/site-packages/ipykernel_launcher.py:218: UserWarning: This figure includes Axes that are not compatible with tight_layout, so results might be incorrect.\n"
     ]
    },
    {
     "name": "stdout",
     "output_type": "stream",
     "text": [
      "70\n"
     ]
    },
    {
     "name": "stderr",
     "output_type": "stream",
     "text": [
      "/usr/local/lib/python3.7/site-packages/ipykernel_launcher.py:218: UserWarning: This figure includes Axes that are not compatible with tight_layout, so results might be incorrect.\n"
     ]
    },
    {
     "name": "stdout",
     "output_type": "stream",
     "text": [
      "71\n"
     ]
    },
    {
     "name": "stderr",
     "output_type": "stream",
     "text": [
      "/usr/local/lib/python3.7/site-packages/ipykernel_launcher.py:218: UserWarning: This figure includes Axes that are not compatible with tight_layout, so results might be incorrect.\n"
     ]
    },
    {
     "name": "stdout",
     "output_type": "stream",
     "text": [
      "72\n"
     ]
    },
    {
     "name": "stderr",
     "output_type": "stream",
     "text": [
      "/usr/local/lib/python3.7/site-packages/ipykernel_launcher.py:218: UserWarning: This figure includes Axes that are not compatible with tight_layout, so results might be incorrect.\n"
     ]
    },
    {
     "name": "stdout",
     "output_type": "stream",
     "text": [
      "73\n"
     ]
    },
    {
     "name": "stderr",
     "output_type": "stream",
     "text": [
      "/usr/local/lib/python3.7/site-packages/ipykernel_launcher.py:218: UserWarning: This figure includes Axes that are not compatible with tight_layout, so results might be incorrect.\n"
     ]
    },
    {
     "name": "stdout",
     "output_type": "stream",
     "text": [
      "74\n"
     ]
    },
    {
     "name": "stderr",
     "output_type": "stream",
     "text": [
      "/usr/local/lib/python3.7/site-packages/ipykernel_launcher.py:218: UserWarning: This figure includes Axes that are not compatible with tight_layout, so results might be incorrect.\n"
     ]
    },
    {
     "name": "stdout",
     "output_type": "stream",
     "text": [
      "75\n"
     ]
    },
    {
     "name": "stderr",
     "output_type": "stream",
     "text": [
      "/usr/local/lib/python3.7/site-packages/ipykernel_launcher.py:218: UserWarning: This figure includes Axes that are not compatible with tight_layout, so results might be incorrect.\n"
     ]
    },
    {
     "name": "stdout",
     "output_type": "stream",
     "text": [
      "76\n"
     ]
    },
    {
     "name": "stderr",
     "output_type": "stream",
     "text": [
      "/usr/local/lib/python3.7/site-packages/ipykernel_launcher.py:218: UserWarning: This figure includes Axes that are not compatible with tight_layout, so results might be incorrect.\n"
     ]
    },
    {
     "name": "stdout",
     "output_type": "stream",
     "text": [
      "77\n"
     ]
    },
    {
     "name": "stderr",
     "output_type": "stream",
     "text": [
      "/usr/local/lib/python3.7/site-packages/ipykernel_launcher.py:218: UserWarning: This figure includes Axes that are not compatible with tight_layout, so results might be incorrect.\n"
     ]
    },
    {
     "name": "stdout",
     "output_type": "stream",
     "text": [
      "78\n"
     ]
    },
    {
     "name": "stderr",
     "output_type": "stream",
     "text": [
      "/usr/local/lib/python3.7/site-packages/ipykernel_launcher.py:218: UserWarning: This figure includes Axes that are not compatible with tight_layout, so results might be incorrect.\n"
     ]
    },
    {
     "name": "stdout",
     "output_type": "stream",
     "text": [
      "79\n"
     ]
    },
    {
     "name": "stderr",
     "output_type": "stream",
     "text": [
      "/usr/local/lib/python3.7/site-packages/ipykernel_launcher.py:218: UserWarning: This figure includes Axes that are not compatible with tight_layout, so results might be incorrect.\n"
     ]
    },
    {
     "name": "stdout",
     "output_type": "stream",
     "text": [
      "80\n"
     ]
    },
    {
     "name": "stderr",
     "output_type": "stream",
     "text": [
      "/usr/local/lib/python3.7/site-packages/ipykernel_launcher.py:218: UserWarning: This figure includes Axes that are not compatible with tight_layout, so results might be incorrect.\n"
     ]
    },
    {
     "name": "stdout",
     "output_type": "stream",
     "text": [
      "81\n"
     ]
    },
    {
     "name": "stderr",
     "output_type": "stream",
     "text": [
      "/usr/local/lib/python3.7/site-packages/ipykernel_launcher.py:218: UserWarning: This figure includes Axes that are not compatible with tight_layout, so results might be incorrect.\n"
     ]
    },
    {
     "name": "stdout",
     "output_type": "stream",
     "text": [
      "82\n"
     ]
    },
    {
     "name": "stderr",
     "output_type": "stream",
     "text": [
      "/usr/local/lib/python3.7/site-packages/ipykernel_launcher.py:218: UserWarning: This figure includes Axes that are not compatible with tight_layout, so results might be incorrect.\n"
     ]
    },
    {
     "name": "stdout",
     "output_type": "stream",
     "text": [
      "83\n"
     ]
    },
    {
     "name": "stderr",
     "output_type": "stream",
     "text": [
      "/usr/local/lib/python3.7/site-packages/ipykernel_launcher.py:218: UserWarning: This figure includes Axes that are not compatible with tight_layout, so results might be incorrect.\n"
     ]
    },
    {
     "name": "stdout",
     "output_type": "stream",
     "text": [
      "84\n"
     ]
    },
    {
     "name": "stderr",
     "output_type": "stream",
     "text": [
      "/usr/local/lib/python3.7/site-packages/ipykernel_launcher.py:218: UserWarning: This figure includes Axes that are not compatible with tight_layout, so results might be incorrect.\n"
     ]
    },
    {
     "name": "stdout",
     "output_type": "stream",
     "text": [
      "85\n"
     ]
    },
    {
     "name": "stderr",
     "output_type": "stream",
     "text": [
      "/usr/local/lib/python3.7/site-packages/ipykernel_launcher.py:218: UserWarning: This figure includes Axes that are not compatible with tight_layout, so results might be incorrect.\n"
     ]
    },
    {
     "name": "stdout",
     "output_type": "stream",
     "text": [
      "86\n"
     ]
    },
    {
     "name": "stderr",
     "output_type": "stream",
     "text": [
      "/usr/local/lib/python3.7/site-packages/ipykernel_launcher.py:218: UserWarning: This figure includes Axes that are not compatible with tight_layout, so results might be incorrect.\n"
     ]
    },
    {
     "name": "stdout",
     "output_type": "stream",
     "text": [
      "87\n"
     ]
    },
    {
     "name": "stderr",
     "output_type": "stream",
     "text": [
      "/usr/local/lib/python3.7/site-packages/ipykernel_launcher.py:218: UserWarning: This figure includes Axes that are not compatible with tight_layout, so results might be incorrect.\n"
     ]
    },
    {
     "name": "stdout",
     "output_type": "stream",
     "text": [
      "88\n"
     ]
    },
    {
     "name": "stderr",
     "output_type": "stream",
     "text": [
      "/usr/local/lib/python3.7/site-packages/ipykernel_launcher.py:218: UserWarning: This figure includes Axes that are not compatible with tight_layout, so results might be incorrect.\n"
     ]
    },
    {
     "name": "stdout",
     "output_type": "stream",
     "text": [
      "89\n"
     ]
    },
    {
     "name": "stderr",
     "output_type": "stream",
     "text": [
      "/usr/local/lib/python3.7/site-packages/ipykernel_launcher.py:218: UserWarning: This figure includes Axes that are not compatible with tight_layout, so results might be incorrect.\n"
     ]
    },
    {
     "name": "stdout",
     "output_type": "stream",
     "text": [
      "90\n"
     ]
    },
    {
     "name": "stderr",
     "output_type": "stream",
     "text": [
      "/usr/local/lib/python3.7/site-packages/ipykernel_launcher.py:218: UserWarning: This figure includes Axes that are not compatible with tight_layout, so results might be incorrect.\n"
     ]
    },
    {
     "name": "stdout",
     "output_type": "stream",
     "text": [
      "91\n"
     ]
    },
    {
     "name": "stderr",
     "output_type": "stream",
     "text": [
      "/usr/local/lib/python3.7/site-packages/ipykernel_launcher.py:218: UserWarning: This figure includes Axes that are not compatible with tight_layout, so results might be incorrect.\n"
     ]
    },
    {
     "name": "stdout",
     "output_type": "stream",
     "text": [
      "92\n"
     ]
    },
    {
     "name": "stderr",
     "output_type": "stream",
     "text": [
      "/usr/local/lib/python3.7/site-packages/ipykernel_launcher.py:218: UserWarning: This figure includes Axes that are not compatible with tight_layout, so results might be incorrect.\n"
     ]
    },
    {
     "name": "stdout",
     "output_type": "stream",
     "text": [
      "93\n"
     ]
    },
    {
     "name": "stderr",
     "output_type": "stream",
     "text": [
      "/usr/local/lib/python3.7/site-packages/ipykernel_launcher.py:218: UserWarning: This figure includes Axes that are not compatible with tight_layout, so results might be incorrect.\n"
     ]
    },
    {
     "name": "stdout",
     "output_type": "stream",
     "text": [
      "94\n"
     ]
    },
    {
     "name": "stderr",
     "output_type": "stream",
     "text": [
      "/usr/local/lib/python3.7/site-packages/ipykernel_launcher.py:218: UserWarning: This figure includes Axes that are not compatible with tight_layout, so results might be incorrect.\n"
     ]
    },
    {
     "name": "stdout",
     "output_type": "stream",
     "text": [
      "95\n"
     ]
    },
    {
     "name": "stderr",
     "output_type": "stream",
     "text": [
      "/usr/local/lib/python3.7/site-packages/ipykernel_launcher.py:218: UserWarning: This figure includes Axes that are not compatible with tight_layout, so results might be incorrect.\n"
     ]
    },
    {
     "name": "stdout",
     "output_type": "stream",
     "text": [
      "96\n"
     ]
    },
    {
     "name": "stderr",
     "output_type": "stream",
     "text": [
      "/usr/local/lib/python3.7/site-packages/ipykernel_launcher.py:218: UserWarning: This figure includes Axes that are not compatible with tight_layout, so results might be incorrect.\n"
     ]
    },
    {
     "name": "stdout",
     "output_type": "stream",
     "text": [
      "97\n"
     ]
    },
    {
     "name": "stderr",
     "output_type": "stream",
     "text": [
      "/usr/local/lib/python3.7/site-packages/ipykernel_launcher.py:218: UserWarning: This figure includes Axes that are not compatible with tight_layout, so results might be incorrect.\n"
     ]
    },
    {
     "name": "stdout",
     "output_type": "stream",
     "text": [
      "98\n"
     ]
    },
    {
     "name": "stderr",
     "output_type": "stream",
     "text": [
      "/usr/local/lib/python3.7/site-packages/ipykernel_launcher.py:218: UserWarning: This figure includes Axes that are not compatible with tight_layout, so results might be incorrect.\n"
     ]
    },
    {
     "name": "stdout",
     "output_type": "stream",
     "text": [
      "99\n"
     ]
    },
    {
     "name": "stderr",
     "output_type": "stream",
     "text": [
      "/usr/local/lib/python3.7/site-packages/ipykernel_launcher.py:218: UserWarning: This figure includes Axes that are not compatible with tight_layout, so results might be incorrect.\n"
     ]
    },
    {
     "name": "stdout",
     "output_type": "stream",
     "text": [
      "100\n"
     ]
    },
    {
     "name": "stderr",
     "output_type": "stream",
     "text": [
      "/usr/local/lib/python3.7/site-packages/ipykernel_launcher.py:218: UserWarning: This figure includes Axes that are not compatible with tight_layout, so results might be incorrect.\n"
     ]
    },
    {
     "name": "stdout",
     "output_type": "stream",
     "text": [
      "101\n"
     ]
    },
    {
     "name": "stderr",
     "output_type": "stream",
     "text": [
      "/usr/local/lib/python3.7/site-packages/ipykernel_launcher.py:218: UserWarning: This figure includes Axes that are not compatible with tight_layout, so results might be incorrect.\n"
     ]
    },
    {
     "name": "stdout",
     "output_type": "stream",
     "text": [
      "102\n"
     ]
    },
    {
     "name": "stderr",
     "output_type": "stream",
     "text": [
      "/usr/local/lib/python3.7/site-packages/ipykernel_launcher.py:218: UserWarning: This figure includes Axes that are not compatible with tight_layout, so results might be incorrect.\n"
     ]
    },
    {
     "name": "stdout",
     "output_type": "stream",
     "text": [
      "103\n"
     ]
    },
    {
     "name": "stderr",
     "output_type": "stream",
     "text": [
      "/usr/local/lib/python3.7/site-packages/ipykernel_launcher.py:218: UserWarning: This figure includes Axes that are not compatible with tight_layout, so results might be incorrect.\n"
     ]
    },
    {
     "name": "stdout",
     "output_type": "stream",
     "text": [
      "104\n"
     ]
    },
    {
     "name": "stderr",
     "output_type": "stream",
     "text": [
      "/usr/local/lib/python3.7/site-packages/ipykernel_launcher.py:218: UserWarning: This figure includes Axes that are not compatible with tight_layout, so results might be incorrect.\n"
     ]
    },
    {
     "name": "stdout",
     "output_type": "stream",
     "text": [
      "105\n"
     ]
    },
    {
     "name": "stderr",
     "output_type": "stream",
     "text": [
      "/usr/local/lib/python3.7/site-packages/ipykernel_launcher.py:218: UserWarning: This figure includes Axes that are not compatible with tight_layout, so results might be incorrect.\n"
     ]
    },
    {
     "name": "stdout",
     "output_type": "stream",
     "text": [
      "106\n"
     ]
    },
    {
     "name": "stderr",
     "output_type": "stream",
     "text": [
      "/usr/local/lib/python3.7/site-packages/ipykernel_launcher.py:218: UserWarning: This figure includes Axes that are not compatible with tight_layout, so results might be incorrect.\n"
     ]
    },
    {
     "name": "stdout",
     "output_type": "stream",
     "text": [
      "107\n"
     ]
    },
    {
     "name": "stderr",
     "output_type": "stream",
     "text": [
      "/usr/local/lib/python3.7/site-packages/ipykernel_launcher.py:218: UserWarning: This figure includes Axes that are not compatible with tight_layout, so results might be incorrect.\n"
     ]
    },
    {
     "name": "stdout",
     "output_type": "stream",
     "text": [
      "108\n"
     ]
    },
    {
     "name": "stderr",
     "output_type": "stream",
     "text": [
      "/usr/local/lib/python3.7/site-packages/ipykernel_launcher.py:218: UserWarning: This figure includes Axes that are not compatible with tight_layout, so results might be incorrect.\n"
     ]
    },
    {
     "name": "stdout",
     "output_type": "stream",
     "text": [
      "109\n"
     ]
    },
    {
     "name": "stderr",
     "output_type": "stream",
     "text": [
      "/usr/local/lib/python3.7/site-packages/ipykernel_launcher.py:218: UserWarning: This figure includes Axes that are not compatible with tight_layout, so results might be incorrect.\n"
     ]
    },
    {
     "name": "stdout",
     "output_type": "stream",
     "text": [
      "110\n"
     ]
    },
    {
     "name": "stderr",
     "output_type": "stream",
     "text": [
      "/usr/local/lib/python3.7/site-packages/ipykernel_launcher.py:218: UserWarning: This figure includes Axes that are not compatible with tight_layout, so results might be incorrect.\n"
     ]
    },
    {
     "name": "stdout",
     "output_type": "stream",
     "text": [
      "111\n"
     ]
    },
    {
     "name": "stderr",
     "output_type": "stream",
     "text": [
      "/usr/local/lib/python3.7/site-packages/ipykernel_launcher.py:218: UserWarning: This figure includes Axes that are not compatible with tight_layout, so results might be incorrect.\n"
     ]
    },
    {
     "name": "stdout",
     "output_type": "stream",
     "text": [
      "112\n"
     ]
    },
    {
     "name": "stderr",
     "output_type": "stream",
     "text": [
      "/usr/local/lib/python3.7/site-packages/ipykernel_launcher.py:218: UserWarning: This figure includes Axes that are not compatible with tight_layout, so results might be incorrect.\n"
     ]
    },
    {
     "name": "stdout",
     "output_type": "stream",
     "text": [
      "113\n"
     ]
    },
    {
     "name": "stderr",
     "output_type": "stream",
     "text": [
      "/usr/local/lib/python3.7/site-packages/ipykernel_launcher.py:218: UserWarning: This figure includes Axes that are not compatible with tight_layout, so results might be incorrect.\n"
     ]
    },
    {
     "name": "stdout",
     "output_type": "stream",
     "text": [
      "114\n"
     ]
    },
    {
     "name": "stderr",
     "output_type": "stream",
     "text": [
      "/usr/local/lib/python3.7/site-packages/ipykernel_launcher.py:218: UserWarning: This figure includes Axes that are not compatible with tight_layout, so results might be incorrect.\n"
     ]
    },
    {
     "name": "stdout",
     "output_type": "stream",
     "text": [
      "115\n"
     ]
    },
    {
     "name": "stderr",
     "output_type": "stream",
     "text": [
      "/usr/local/lib/python3.7/site-packages/ipykernel_launcher.py:218: UserWarning: This figure includes Axes that are not compatible with tight_layout, so results might be incorrect.\n"
     ]
    },
    {
     "name": "stdout",
     "output_type": "stream",
     "text": [
      "116\n"
     ]
    }
   ],
   "source": [
    "N_trials = 200\n",
    "\n",
    "color=[['w', 'w'], [color_true_p, color_true_p], ['w','none']]\n",
    "alpha = [[.9,.5],[.0,.0],[1,0]]\n",
    "\n",
    "#fig_width = fig_width/6\n",
    "#t_label = t_label/6\n",
    "\n",
    "\n",
    "opt = dict(color=color,alpha=alpha, titre='', t_label=t_label, lw=2,\n",
    "           color_bet='dimgrey', color_va='w', fig_width=fig_width)\n",
    "plot_experiment(mode_bcp=['leaky', 'mean'], color_bcp=[color_bcp_fix, color_bcp_mean],\n",
    "                name_bcp=['$P_{leaky}$', '$P_{BBCP}$'], **opt)\n"
   ]
  },
  {
   "cell_type": "code",
   "execution_count": null,
   "metadata": {},
   "outputs": [],
   "source": []
  }
 ],
 "metadata": {
  "kernelspec": {
   "display_name": "Python 3",
   "language": "python",
   "name": "python3"
  },
  "language_info": {
   "codemirror_mode": {
    "name": "ipython",
    "version": 3
   },
   "file_extension": ".py",
   "mimetype": "text/x-python",
   "name": "python",
   "nbconvert_exporter": "python",
   "pygments_lexer": "ipython3",
   "version": "3.7.7"
  }
 },
 "nbformat": 4,
 "nbformat_minor": 4
}
