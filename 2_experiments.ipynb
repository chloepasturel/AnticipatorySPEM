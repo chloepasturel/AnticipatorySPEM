{
 "cells": [
  {
   "cell_type": "markdown",
   "metadata": {},
   "source": [
    "# Speed Discrimination Experiment\n",
    "\n",
    "\n"
   ]
  },
  {
   "cell_type": "code",
   "execution_count": 1,
   "metadata": {},
   "outputs": [],
   "source": [
    "%load_ext autoreload\n",
    "%autoreload 2\n",
    "from  speed_discrimination import SpeedDiscrimination\n",
    "e = SpeedDiscrimination()\n",
    "e.make_protocol()"
   ]
  },
  {
   "cell_type": "code",
   "execution_count": 2,
   "metadata": {},
   "outputs": [
    {
     "name": "stdout",
     "output_type": "stream",
     "text": [
      "2016-11-03_145402\n"
     ]
    }
   ],
   "source": [
    "import time, datetime\n",
    "timeStr = time.strftime(\"%Y-%m-%d_%H%M%S\", time.localtime())\n",
    "print(timeStr)"
   ]
  },
  {
   "cell_type": "code",
   "execution_count": 3,
   "metadata": {},
   "outputs": [
    {
     "name": "stdout",
     "output_type": "stream",
     "text": [
      "Collecting psychopy\n",
      "  Downloading PsychoPy-1.84.2-py2-none-any.whl (11.9MB)\n",
      "\u001b[K    100% |████████████████████████████████| 12.0MB 114kB/s \n",
      "\u001b[?25hCollecting configobj\n",
      "  Downloading configobj-5.0.6.tar.gz\n",
      "Collecting pyglet\n",
      "  Downloading pyglet-1.2.4-py2-none-any.whl (964kB)\n",
      "\u001b[K    100% |████████████████████████████████| 972kB 1.2MB/s \n",
      "\u001b[?25hCollecting scipy\n",
      "  Downloading scipy-0.18.1-cp27-cp27m-macosx_10_6_intel.macosx_10_9_intel.macosx_10_9_x86_64.macosx_10_10_intel.macosx_10_10_x86_64.whl (21.8MB)\n",
      "\u001b[K    100% |████████████████████████████████| 21.8MB 60kB/s \n",
      "\u001b[?25hCollecting Image\n",
      "  Downloading image-1.5.5.tar.gz\n",
      "Collecting six (from configobj)\n",
      "  Downloading six-1.10.0-py2.py3-none-any.whl\n",
      "Requirement already up-to-date: numpy>=1.7.1 in /usr/local/lib/python2.7/site-packages (from scipy)\n",
      "Collecting pillow (from Image)\n",
      "  Downloading Pillow-3.4.2-cp27-cp27m-macosx_10_6_intel.macosx_10_9_intel.macosx_10_9_x86_64.macosx_10_10_intel.macosx_10_10_x86_64.whl (3.4MB)\n",
      "\u001b[K    100% |████████████████████████████████| 3.5MB 378kB/s \n",
      "\u001b[?25hCollecting django (from Image)\n",
      "  Downloading Django-1.10.3-py2.py3-none-any.whl (6.8MB)\n",
      "\u001b[K    100% |████████████████████████████████| 6.8MB 201kB/s \n",
      "\u001b[?25hBuilding wheels for collected packages: configobj, Image\n",
      "  Running setup.py bdist_wheel for configobj ... \u001b[?25l-\b \bdone\n",
      "\u001b[?25h  Stored in directory: /Users/laurentperrinet/Library/Caches/pip/wheels/87/76/48/1564f8466fbd36402af5ac4972ffb56a6ef7f143892ef57fe5\n",
      "  Running setup.py bdist_wheel for Image ... \u001b[?25l-\b \bdone\n",
      "\u001b[?25h  Stored in directory: /Users/laurentperrinet/Library/Caches/pip/wheels/23/e1/79/51fec85e9944e23e62e9fd3af0c1d5506476330be7f1c24df4\n",
      "Successfully built configobj Image\n",
      "Installing collected packages: psychopy, six, configobj, pyglet, scipy, pillow, django, Image\n",
      "Successfully installed Image-1.5.5 configobj-5.0.6 django-1.10.3 pillow-3.4.2 psychopy-1.84.2 pyglet-1.2.4 scipy-0.18.1 six-1.10.0\n"
     ]
    }
   ],
   "source": [
    "! pip2 install -U psychopy configobj pyglet scipy Image"
   ]
  },
  {
   "cell_type": "code",
   "execution_count": 4,
   "metadata": {},
   "outputs": [
    {
     "name": "stdout",
     "output_type": "stream",
     "text": [
      "⚡︎ Running ⚡︎  python2 speed_discrimination.py lup A1 2016-11-03_145402 \n"
     ]
    },
    {
     "data": {
      "text/plain": [
       "'Starting protocol\\nlaunching experiment\\nlaunching experiment\\ngo!\\nnot able to launch psychopy, try with python2\\n'"
      ]
     },
     "execution_count": 4,
     "metadata": {},
     "output_type": "execute_result"
    }
   ],
   "source": [
    "def run_cmd(cmd, doit=True):\n",
    "    import subprocess\n",
    "    print ('⚡︎ Running ⚡︎ ', cmd)\n",
    "    if doit:\n",
    "        stdout = subprocess.check_output([cmd], shell=True)\n",
    "        return stdout.decode()#.splitlines()\n",
    "    \n",
    "fullcmd = 'python2 speed_discrimination.py {observer} {blockid} {timeStr} '.format(\n",
    "    observer='lup', blockid='A1', timeStr=timeStr)\n",
    "run_cmd (fullcmd)"
   ]
  },
  {
   "cell_type": "code",
   "execution_count": 7,
   "metadata": {},
   "outputs": [
    {
     "name": "stdout",
     "output_type": "stream",
     "text": [
      "Starting protocol\n",
      "launching experiment\n",
      "2016-11-03 14:59:42.816 Python[5719:145226] ApplePersistenceIgnoreState: Existing state will not be touched. New state will be written to /var/folders/3p/m0g52j9j69z3gj8ktpgg1dm00000gn/T/org.python.python.savedState\n",
      "launching experiment\n",
      "go!\n",
      "Exception AttributeError: \"'Window' object has no attribute '_closed'\" in <bound method Window.__del__ of <psychopy.visual.window.Window object at 0x112881f50>> ignored\n",
      "Traceback (most recent call last):\n",
      "  File \"speed_discrimination.py\", line 433, in <module>\n",
      "    e.run_experiment(observer, blockid, timeStr)\n",
      "  File \"speed_discrimination.py\", line 333, in run_experiment\n",
      "    allowGUI=False, fullscr=True, mouseVisible=False, screen=self.info['screen'])\n",
      "TypeError: __init__() got an unexpected keyword argument 'mouseVisible'\n"
     ]
    }
   ],
   "source": [
    "!python2  speed_discrimination.py "
   ]
  },
  {
   "cell_type": "code",
   "execution_count": null,
   "metadata": {
    "collapsed": true
   },
   "outputs": [],
   "source": []
  }
 ],
 "metadata": {
  "kernelspec": {
   "display_name": "Python 3",
   "language": "python",
   "name": "python3"
  },
  "language_info": {
   "codemirror_mode": {
    "name": "ipython",
    "version": 3
   },
   "file_extension": ".py",
   "mimetype": "text/x-python",
   "name": "python",
   "nbconvert_exporter": "python",
   "pygments_lexer": "ipython3",
   "version": "3.6.1"
  }
 },
 "nbformat": 4,
 "nbformat_minor": 1
}
