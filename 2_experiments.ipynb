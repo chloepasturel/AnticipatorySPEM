{
 "cells": [
  {
   "cell_type": "markdown",
   "metadata": {},
   "source": [
    "# aSPEM Experiment : running\n",
    "\n",
    "TODO :store all experiments that were run\n"
   ]
  },
  {
   "cell_type": "code",
   "execution_count": 1,
   "metadata": {
    "collapsed": true
   },
   "outputs": [],
   "source": [
    "%load_ext autoreload\n",
    "%autoreload 2\n",
    "from aSPEM import aSPEM\n",
    "e = aSPEM()"
   ]
  },
  {
   "cell_type": "code",
   "execution_count": 2,
   "metadata": {},
   "outputs": [
    {
     "name": "stdout",
     "output_type": "stream",
     "text": [
      "2017-05-31_165237\n"
     ]
    }
   ],
   "source": [
    "import time, datetime\n",
    "timeStr = time.strftime(\"%Y-%m-%d_%H%M%S\", time.localtime())\n",
    "print(timeStr)\n",
    "#timeStr = '2017-05-24_154708'\n",
    "mode = 'psychophysique' # or mode = 'enregistrement'\n",
    "observer = 'chloe'"
   ]
  },
  {
   "cell_type": "code",
   "execution_count": 3,
   "metadata": {},
   "outputs": [
    {
     "name": "stdout",
     "output_type": "stream",
     "text": [
      " 🏆 Running 🏆  python2 aSPEM.py psychophysique chloe 0 2017-05-31_165237 \n",
      " 🏆 Running 🏆  python2 aSPEM.py psychophysique chloe 1 2017-05-31_165237 \n"
     ]
    }
   ],
   "source": [
    "def run_cmd(cmd, doit=True):\n",
    "    import subprocess\n",
    "    print (' 🏆 Running 🏆 ', cmd)\n",
    "    if doit:\n",
    "        stdout = subprocess.check_output([cmd], shell=True)\n",
    "        return stdout.decode()#.splitlines()\n",
    "\n",
    "for block in range(e.params_protocol['N_blocks']):\n",
    "    fullcmd = 'python2 aSPEM.py {mode} {observer} {block} {timeStr} '.format(\n",
    "        mode=mode, observer=observer, block=block, timeStr=timeStr)\n",
    "    run_cmd (fullcmd)"
   ]
  },
  {
   "cell_type": "code",
   "execution_count": 4,
   "metadata": {},
   "outputs": [
    {
     "name": "stdout",
     "output_type": "stream",
     "text": [
      "lup_0_2017-05-24_160243.npy  psychophysique_chloe_0_2017-05-31_165237.npy\r\n",
      "lup_1_2017-05-24_160243.npy  psychophysique_chloe_1_2017-05-31_165237.npy\r\n"
     ]
    }
   ],
   "source": [
    "!ls data"
   ]
  },
  {
   "cell_type": "raw",
   "metadata": {},
   "source": [
    "!python2 aSPEM.py lup 1 2017-05-24_145021"
   ]
  },
  {
   "cell_type": "raw",
   "metadata": {},
   "source": [
    "!python2 aSPEM.py lup 0 2017-05-24_154246"
   ]
  },
  {
   "cell_type": "code",
   "execution_count": null,
   "metadata": {
    "collapsed": true
   },
   "outputs": [],
   "source": []
  }
 ],
 "metadata": {
  "kernelspec": {
   "display_name": "Python 3",
   "language": "python",
   "name": "python3"
  },
  "language_info": {
   "codemirror_mode": {
    "name": "ipython",
    "version": 3
   },
   "file_extension": ".py",
   "mimetype": "text/x-python",
   "name": "python",
   "nbconvert_exporter": "python",
   "pygments_lexer": "ipython3",
   "version": "3.5.2"
  }
 },
 "nbformat": 4,
 "nbformat_minor": 1
}
