{
 "cells": [
  {
   "cell_type": "markdown",
   "metadata": {},
   "source": [
    "# aSPEM Experiment : running\n",
    "\n",
    "TODO :store all experiments that were run\n"
   ]
  },
  {
   "cell_type": "code",
   "execution_count": 1,
   "metadata": {
    "scrolled": true
   },
   "outputs": [
    {
     "name": "stdout",
     "output_type": "stream",
     "text": [
      "2017-10-02_163321\n"
     ]
    }
   ],
   "source": [
    "%load_ext autoreload\n",
    "%autoreload 2\n",
    "\n",
    "import time, datetime\n",
    "timeStr = time.strftime(\"%Y-%m-%d_%H%M%S\", time.localtime())\n",
    "print(timeStr)\n",
    "\n",
    "mode = 'pari' # or mode = 'enregistrement'\n",
    "observer = 'test'\n",
    "\n",
    "from aSPEM import aSPEM\n",
    "e = aSPEM(mode, observer, timeStr)"
   ]
  },
  {
   "cell_type": "code",
   "execution_count": 2,
   "metadata": {},
   "outputs": [
    {
     "name": "stdout",
     "output_type": "stream",
     "text": [
      " 🏆 Running 🏆  python2 aSPEM.py pari test 2017-10-02_163321 \n"
     ]
    }
   ],
   "source": [
    "def run_cmd(cmd, doit=True):\n",
    "    import subprocess\n",
    "    print (' 🏆 Running 🏆 ', cmd)\n",
    "    if doit:\n",
    "        stdout = subprocess.check_output([cmd], shell=True)\n",
    "        return stdout.decode()#.splitlines()\n",
    "\n",
    "fullcmd = 'python2 aSPEM.py {mode} {observer} {timeStr} '.format(\n",
    "        mode=mode, observer=observer, timeStr=timeStr)\n",
    "run_cmd (fullcmd);"
   ]
  },
  {
   "cell_type": "code",
   "execution_count": 3,
   "metadata": {},
   "outputs": [
    {
     "name": "stdout",
     "output_type": "stream",
     "text": [
      "enregistrement_BMC_2017-09-26_095637.asc\r\n",
      "enregistrement_BMC_2017-09-26_095637.EDF\r\n",
      "enregistrement_BMC_2017-09-26_095637.pkl\r\n",
      "enregistrement_DC_2017-09-27_161040.asc\r\n",
      "enregistrement_DC_2017-09-27_161040.edf\r\n",
      "enregistrement_DC_2017-09-27_161040.pkl\r\n",
      "enregistrement_IP_2017-09-28_115250.asc\r\n",
      "enregistrement_IP_2017-09-28_115250.edf\r\n",
      "enregistrement_IP_2017-09-28_115250.pkl\r\n",
      "enregistrement_LB_2017-09-20_151043 (1).asc\r\n",
      "enregistrement_LB_2017-09-20_151043.asc\r\n",
      "enregistrement_LB_2017-09-20_151043.edf\r\n",
      "enregistrement_LB_2017-09-20_151043.pkl\r\n",
      "pari_BMC_2017-09-25_142503.pkl\r\n",
      "pari_CS_2017-09-28_154353.pkl\r\n",
      "pari_DC_2017-09-26_162348.pkl\r\n",
      "pari_FM_2017-09-26_143606.pkl\r\n",
      "pari_IP_2017-09-26_122431.pkl\r\n",
      "pari_LB_2017-09-19_152205.pkl\r\n"
     ]
    }
   ],
   "source": [
    "!ls data"
   ]
  },
  {
   "cell_type": "raw",
   "metadata": {},
   "source": [
    "!python2 aSPEM.py lup 1 2017-05-24_145021"
   ]
  },
  {
   "cell_type": "raw",
   "metadata": {},
   "source": [
    "!python2 aSPEM.py lup 0 2017-05-24_154246"
   ]
  },
  {
   "cell_type": "markdown",
   "metadata": {},
   "source": [
    "!python2 aSPEM.py psychophysique lup 2017-06-22_102207"
   ]
  },
  {
   "cell_type": "code",
   "execution_count": null,
   "metadata": {
    "collapsed": true
   },
   "outputs": [],
   "source": []
  }
 ],
 "metadata": {
  "kernelspec": {
   "display_name": "Python 3",
   "language": "python",
   "name": "python3"
  },
  "language_info": {
   "codemirror_mode": {
    "name": "ipython",
    "version": 3
   },
   "file_extension": ".py",
   "mimetype": "text/x-python",
   "name": "python",
   "nbconvert_exporter": "python",
   "pygments_lexer": "ipython3",
   "version": "3.5.2"
  }
 },
 "nbformat": 4,
 "nbformat_minor": 1
}
