{
 "cells": [
  {
   "cell_type": "markdown",
   "metadata": {},
   "source": [
    "## TODO: make all text bigger (like \"with proba p\") "
   ]
  },
  {
   "cell_type": "raw",
   "metadata": {},
   "source": [
    "!pip3 install git+https://github.com/mkrphys/ipython-tikzmagic"
   ]
  },
  {
   "cell_type": "code",
   "execution_count": null,
   "metadata": {},
   "outputs": [],
   "source": [
    "import tikzmagic"
   ]
  },
  {
   "cell_type": "raw",
   "metadata": {},
   "source": [
    "tikzmagic?"
   ]
  },
  {
   "cell_type": "raw",
   "metadata": {},
   "source": [
    "%%tikz \n",
    "\\draw (0,0) rectangle (1,1);"
   ]
  },
  {
   "cell_type": "raw",
   "metadata": {
    "scrolled": false
   },
   "source": [
    "help(tikzmagic)"
   ]
  },
  {
   "cell_type": "code",
   "execution_count": null,
   "metadata": {
    "scrolled": true
   },
   "outputs": [],
   "source": [
    "%load_ext version_information\n",
    "%version_information numpy, tikzmagic"
   ]
  },
  {
   "cell_type": "markdown",
   "metadata": {},
   "source": [
    "# anna_methode"
   ]
  },
  {
   "cell_type": "code",
   "execution_count": null,
   "metadata": {},
   "outputs": [],
   "source": [
    "figname = 'anna_protocol'"
   ]
  },
  {
   "cell_type": "code",
   "execution_count": null,
   "metadata": {
    "scrolled": false
   },
   "outputs": [],
   "source": [
    "%%tikz --scale 15 -f pdf -S figures/{figname}.pdf\n",
    "\n",
    "\\def\\Titre{5.5}\n",
    "\\def\\sousTitre{3.5}\n",
    "\\def\\text{2.5}\n",
    "\n",
    "\\def\\a{0.3} % ecart horizontal\n",
    "\\def\\b{0.1} % ecart vertical\n",
    "\n",
    "\\draw [line width=0.1mm, color=black!75!white, fill=black!50!white] (0,-0.5) rectangle (1,0.5);\n",
    "\\filldraw [white] (0.5,0) circle(.02);\n",
    "\\draw [white] (0.5,0.1) node[above, scale=\\Titre, font =\\sffamily] {FIXATION};\n",
    "\\draw [white] (0.5,-0.1) node[below, scale=\\sousTitre, font =\\sffamily] {(ramdom)};\n",
    "\n",
    "\\draw [line width=1mm, -|>] (1.03,0) -- (1.27,0);\n",
    "\n",
    "\\draw [line width=0.1mm, color=black!75!white, fill=black!50!white] (1+\\a,-0.5) rectangle (2+\\a,0.5);\n",
    "\\draw [white] (1.5+\\a,0) node[above, scale=\\Titre, font =\\sffamily] {GAP};\n",
    "\\draw [white] (1.5+\\a,0) node[below, scale=\\sousTitre, font =\\sffamily] {(300ms)};\n",
    "\n",
    "\\draw [line width=1mm, -|>] (2.03+\\a,0) -- (2.27+\\a,0.5+\\b);\n",
    "\\draw [black] (2.26+\\a,0.7) node[above, left, scale=\\text, font =\\sffamily] {With proba p};\n",
    "\n",
    "\\draw [line width=0.1mm, color=black!75!white, fill=black!50!white] (2+\\a+\\a,0+\\b) rectangle (3+\\a+\\a,1+\\b);\n",
    "\\filldraw [line width=1mm, color=white, fill=black!50!white] (2.5+\\a+\\a,0.5+\\b) circle(.02);\n",
    "\\draw [line width=1mm, -|>, white] (2.55+\\a+\\a,0.5+\\b) -- (2.55+\\a+\\a+\\a,0.5+\\b);\n",
    "\n",
    "\n",
    "\\draw [line width=1mm, -|>] (2.03+\\a,0) -- (2.27+\\a,-0.5-\\b);\n",
    "\\draw [black] (2.26+\\a,-0.7) node[below, left, scale=\\text, font =\\sffamily] {With proba 1-p};\n",
    "\n",
    "\\draw [line width=0.1mm, color=black!75!white, fill=black!50!white] (2+\\a+\\a,-1-\\b) rectangle (3+\\a+\\a,0-\\b);\n",
    "\\filldraw [line width=1mm, color=white, fill=black!50!white] (2.5+\\a+\\a,-0.5-\\b) circle(.02);\n",
    "\\draw [line width=1mm, -|>, white] (2.45+\\a+\\a,-0.5-\\b) -- (2.45+\\a,-0.5-\\b);"
   ]
  },
  {
   "cell_type": "code",
   "execution_count": null,
   "metadata": {},
   "outputs": [],
   "source": [
    "!convert -density 600  -flatten  -compress lzw -units pixelsperinch  -depth 8 figures/{figname}.pdf figures/{figname}.png\n",
    "!convert  -density 300  -units pixelsperinch figures/{figname}.pdf  figures/{figname}.jpg\n",
    "!convert -density 600  -flatten  -compress lzw -units pixelsperinch  -depth 8 figures/{figname}.pdf figures/{figname}.tiff\n",
    "!echo \"width=\" ; convert figures/{figname}.tiff -format \"%[fx:w]\" info:\n",
    "!echo \", \\nheight=\" ; convert figures/{figname}.tiff -format \"%[fx:h]\" info:\n",
    "!echo \", \\nunit=\" ; convert figures/{figname}.tiff -format \"%U\" info:   "
   ]
  },
  {
   "cell_type": "code",
   "execution_count": null,
   "metadata": {},
   "outputs": [],
   "source": [
    "!ls  -l figures/{figname}*"
   ]
  },
  {
   "cell_type": "code",
   "execution_count": null,
   "metadata": {},
   "outputs": [],
   "source": [
    "from IPython.display import Image\n",
    "Image('figures/{figname}.png'.format(figname=figname))"
   ]
  },
  {
   "cell_type": "markdown",
   "metadata": {},
   "source": [
    "# Materiel_recording"
   ]
  },
  {
   "cell_type": "code",
   "execution_count": null,
   "metadata": {},
   "outputs": [],
   "source": [
    "figname = 'protocol_recording'"
   ]
  },
  {
   "cell_type": "code",
   "execution_count": null,
   "metadata": {
    "scrolled": false
   },
   "outputs": [],
   "source": [
    "%%tikz --scale 15 -f pdf -S figures/{figname}.pdf\n",
    "\n",
    "\\def\\Titre{5.5}\n",
    "\\def\\sousTitre{3.5}\n",
    "\\def\\text{2.5}\n",
    "\n",
    "\\def\\a{0.3} % ecart horizontal\n",
    "\\def\\b{0.1} % ecart vertical\n",
    "\n",
    "\\draw [line width=0.1mm, color=black!75!white, fill=black!50!white] (0,-0.5) rectangle (1,0.5);\n",
    "\\filldraw [white] (0.5,0) circle(.02);\n",
    "\\draw [white] (0.5,0.1) node[above, scale=\\Titre, font =\\sffamily] {FIXATION};\n",
    "\\draw [white] (0.5,-0.1) node[below, scale=\\sousTitre, font =\\sffamily] {(400-800ms)};\n",
    "\n",
    "\\draw [line width=1mm, -|>] (1.03,0) -- (1.27,0);\n",
    "\n",
    "\\draw [line width=0.1mm, color=black!75!white, fill=black!50!white] (1+\\a,-0.5) rectangle (2+\\a,0.5);\n",
    "\\draw [white] (1.5+\\a,0) node[above, scale=\\Titre, font =\\sffamily] {GAP};\n",
    "\\draw [white] (1.5+\\a,0) node[below, scale=\\sousTitre, font =\\sffamily] {(300ms)};\n",
    "\n",
    "\\draw [line width=1mm, -|>] (2.03+\\a,0) -- (2.27+\\a,0.5+\\b);\n",
    "\\draw [black] (2.26+\\a,0.7) node[above, left, scale=\\text, font =\\sffamily] {With proba p};\n",
    "\n",
    "\\draw [line width=0.1mm, color=black!75!white, fill=black!50!white] (2+\\a+\\a,0+\\b) rectangle (3+\\a+\\a,1+\\b);\n",
    "\\filldraw [line width=1mm, color=white, fill=black!50!white] (2.5+\\a+\\a,0.5+\\b) circle(.02);\n",
    "\\draw [line width=1mm, -|>, white] (2.55+\\a+\\a,0.5+\\b) -- (2.55+\\a+\\a+\\a,0.5+\\b);\n",
    "\\draw [line width=1mm, -|>, white] (2.4+\\a+\\a,0.5+\\b) -- (2.45+\\a+\\a,0.5+\\b);\n",
    "\\draw [white] (2.4+\\a+\\a,0.45+\\b) node[below, scale=\\text, font =\\sffamily] {(100ms)};\n",
    "\\draw [white] (2.52+\\a+\\a,0.55+\\b) node[above, right, scale=\\text, font =\\sffamily] {V = 15 $^\\circ$/s};\n",
    "\n",
    "\n",
    "\n",
    "\\draw [line width=1mm, -|>] (2.03+\\a,0) -- (2.27+\\a,-0.5-\\b);\n",
    "\\draw [black] (2.26+\\a,-0.7) node[below, left, scale=\\text, font =\\sffamily] {With proba 1-p};\n",
    "\n",
    "\\draw [line width=0.1mm, color=black!75!white, fill=black!50!white] (2+\\a+\\a,-1-\\b) rectangle (3+\\a+\\a,0-\\b);\n",
    "\\filldraw [line width=1mm, color=white, fill=black!50!white] (2.5+\\a+\\a,-0.5-\\b) circle(.02);\n",
    "\\draw [line width=1mm, -|>, white] (2.45+\\a+\\a,-0.5-\\b) -- (2.45+\\a,-0.5-\\b);\n",
    "\\draw [line width=1mm, -|>, white] (2.6+\\a+\\a,-0.5-\\b) -- (2.55+\\a+\\a,-0.5-\\b);\n",
    "\\draw [white] (2.6+\\a+\\a,-0.55-\\b) node[below, scale=\\text, font =\\sffamily] {(100ms)};\n",
    "\\draw [white] (2.48+\\a+\\a,-0.45-\\b) node[above, left, scale=\\text, font =\\sffamily] {V = 15 $^\\circ$/s};\n"
   ]
  },
  {
   "cell_type": "code",
   "execution_count": null,
   "metadata": {},
   "outputs": [],
   "source": [
    "!convert -density 600  -flatten  -compress lzw -units pixelsperinch  -depth 8 figures/{figname}.pdf figures/{figname}.png\n",
    "!convert  -density 300  -units pixelsperinch figures/{figname}.pdf  figures/{figname}.jpg\n",
    "!convert -density 600  -flatten  -compress lzw -units pixelsperinch  -depth 8 figures/{figname}.pdf figures/{figname}.tiff\n",
    "!echo \"width=\" ; convert figures/{figname}.tiff -format \"%[fx:w]\" info:\n",
    "!echo \", \\nheight=\" ; convert figures/{figname}.tiff -format \"%[fx:h]\" info:\n",
    "!echo \", \\nunit=\" ; convert figures/{figname}.tiff -format \"%U\" info:   "
   ]
  },
  {
   "cell_type": "code",
   "execution_count": null,
   "metadata": {},
   "outputs": [],
   "source": [
    "!ls -l figures/{figname}*"
   ]
  },
  {
   "cell_type": "code",
   "execution_count": null,
   "metadata": {},
   "outputs": [],
   "source": [
    "from IPython.display import Image\n",
    "Image('figures/{figname}.png'.format(figname=figname))"
   ]
  },
  {
   "cell_type": "markdown",
   "metadata": {},
   "source": [
    "# materiel_bet"
   ]
  },
  {
   "cell_type": "code",
   "execution_count": null,
   "metadata": {},
   "outputs": [],
   "source": [
    "figname = 'protocol_bet'"
   ]
  },
  {
   "cell_type": "code",
   "execution_count": null,
   "metadata": {
    "scrolled": false
   },
   "outputs": [],
   "source": [
    "%%tikz --scale 15 -f pdf -S figures/{figname}.pdf\n",
    "\n",
    "\\def\\Titre{5.5}\n",
    "\\def\\sousTitre{3.5}\n",
    "\\def\\text{2.5}\n",
    "\n",
    "\\def\\a{0.3} % ecart horizontal\n",
    "\\def\\b{0.1} % ecart vertical\n",
    "\n",
    "\\draw [line width=0.1mm, color=black!75!white, fill=black!50!white] (0,-0.5) rectangle (1,0.5);\n",
    "\\filldraw [white] (0.5,0) circle(.02);\n",
    "\\draw [line width=1mm, white] (0.1,-0.4) -- (0.9,-0.4);\n",
    "\n",
    "\\draw [line width=1mm, white] (0.1,-0.4) -- (0.1,-0.42);\n",
    "\\draw [line width=1mm, white] (0.5,-0.4) -- (0.5,-0.42);\n",
    "\\draw [line width=1mm, white] (0.9,-0.4) -- (0.9,-0.42);\n",
    "\n",
    "\\draw [white] (0.1,-0.4) node[below, scale=\\text, font =\\sffamily] {Left};\n",
    "\\draw [white] (0.5,-0.4) node[below, scale=\\text, font =\\sffamily] {Unsure};\n",
    "\\draw [white] (0.9,-0.4) node[below, scale=\\text, font =\\sffamily] {Right};\n",
    "\n",
    "\\draw [line width=1mm, black, fill=black] (0.7,-0.39) -- (0.67,-0.35) -- (0.73,-0.35) ;\n",
    "\n",
    "\n",
    "\\draw [line width=1mm, ->] (1.03,0) -- (1.27,0.5+\\b);\n",
    "\\draw [black] (1.26,0.7) node[above, left, scale=\\text, font =\\sffamily] {With proba p};\n",
    "\n",
    "\\draw [line width=0.1mm, color=black!75!white, fill=black!50!white] (1+\\a,0+\\b) rectangle (2+\\a,1+\\b);\n",
    "\\filldraw [line width=1mm, color=white, fill=black!50!white] (1.5+\\a,0.5+\\b) circle(.02);\n",
    "\\draw [line width=1mm, ->, white] (1.55+\\a,0.5+\\b) -- (1.55+\\a+\\a,0.5+\\b);\n",
    "\\draw [line width=1mm, ->, white] (1.4+\\a,0.5+\\b) -- (1.45+\\a,0.5+\\b);\n",
    "\\draw [white] (1.4+\\a,0.45+\\b) node[below, scale=\\text, font =\\sffamily] {(100ms)};\n",
    "\\draw [white] (1.52+\\a,0.55+\\b) node[above, right, scale=\\text, font =\\sffamily] {V = 15 $^\\circ$/s};\n",
    "\n",
    "\n",
    "\n",
    "\\draw [line width=1mm, ->] (1.03,0) -- (1.27,-0.5-\\b);\n",
    "\\draw [black] (1.26,-0.7) node[below, left, scale=\\text, font =\\sffamily] {With proba 1-p};\n",
    "\n",
    "\\draw [line width=0.1mm, color=black!75!white, fill=black!50!white] (1+\\a,-1-\\b) rectangle (2+\\a,0-\\b);\n",
    "\\filldraw [line width=1mm, color=white, fill=black!50!white] (1.5+\\a,-0.5-\\b) circle(.02);\n",
    "\\draw [line width=1mm, ->, white] (1.45+\\a,-0.5-\\b) -- (1.45,-0.5-\\b);\n",
    "\\draw [line width=1mm, ->, white] (1.6+\\a,-0.5-\\b) -- (1.55+\\a,-0.5-\\b);\n",
    "\\draw [white] (1.6+\\a,-0.55-\\b) node[below, scale=\\text, font =\\sffamily] {(100ms)};\n",
    "\\draw [white] (1.48+\\a,-0.45-\\b) node[above, left, scale=\\text, font =\\sffamily] {V = 15 $^\\circ$/s};\n"
   ]
  },
  {
   "cell_type": "code",
   "execution_count": null,
   "metadata": {},
   "outputs": [],
   "source": [
    "!convert -density 600  -flatten  -compress lzw -units pixelsperinch  -depth 8 figures/{figname}.pdf figures/{figname}.png\n",
    "!convert  -density 300  -units pixelsperinch figures/{figname}.pdf  figures/{figname}.jpg\n",
    "!convert -density 600  -flatten  -compress lzw -units pixelsperinch  -depth 8 figures/{figname}.pdf figures/{figname}.tiff\n",
    "!echo \"width=\" ; convert figures/{figname}.tiff -format \"%[fx:w]\" info:\n",
    "!echo \", \\nheight=\" ; convert figures/{figname}.tiff -format \"%[fx:h]\" info:\n",
    "!echo \", \\nunit=\" ; convert figures/{figname}.tiff -format \"%U\" info:   "
   ]
  },
  {
   "cell_type": "code",
   "execution_count": null,
   "metadata": {},
   "outputs": [],
   "source": [
    "!ls -l figures/{figname}*"
   ]
  },
  {
   "cell_type": "raw",
   "metadata": {},
   "source": [
    "from IPython.display import Image\n",
    "Image('figures/{figname}.png'.format(figname=figname))"
   ]
  }
 ],
 "metadata": {
  "kernelspec": {
   "display_name": "Python 3",
   "language": "python",
   "name": "python3"
  },
  "language_info": {
   "codemirror_mode": {
    "name": "ipython",
    "version": 3
   },
   "file_extension": ".py",
   "mimetype": "text/x-python",
   "name": "python",
   "nbconvert_exporter": "python",
   "pygments_lexer": "ipython3",
   "version": "3.6.5"
  },
  "toc": {
   "base_numbering": 1,
   "nav_menu": {},
   "number_sections": true,
   "sideBar": true,
   "skip_h1_title": false,
   "title_cell": "Table of Contents",
   "title_sidebar": "Contents",
   "toc_cell": false,
   "toc_position": {},
   "toc_section_display": true,
   "toc_window_display": false
  }
 },
 "nbformat": 4,
 "nbformat_minor": 1
}
