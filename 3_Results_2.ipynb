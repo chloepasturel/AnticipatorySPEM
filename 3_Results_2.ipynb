{
 "cells": [
  {
   "cell_type": "markdown",
   "metadata": {},
   "source": [
    "# aSPEM Experiment : analysis\n",
    "\n",
    "\n"
   ]
  },
  {
   "cell_type": "code",
   "execution_count": null,
   "metadata": {
    "ExecuteTime": {
     "end_time": "2018-04-03T09:01:37.823125Z",
     "start_time": "2018-04-03T09:01:37.579888Z"
    },
    "collapsed": true
   },
   "outputs": [],
   "source": [
    "%load_ext autoreload\n",
    "%autoreload 2\n",
    "from __future__ import division, print_function, absolute_import\n",
    "import matplotlib.pyplot as plt\n",
    "%matplotlib inline"
   ]
  },
  {
   "cell_type": "raw",
   "metadata": {},
   "source": [
    "!ls data/"
   ]
  },
  {
   "cell_type": "code",
   "execution_count": null,
   "metadata": {
    "ExecuteTime": {
     "end_time": "2018-04-03T09:01:37.836252Z",
     "start_time": "2018-04-03T09:01:37.824726Z"
    },
    "collapsed": true
   },
   "outputs": [],
   "source": [
    "t_titre = 35\n",
    "t_label = 25\n",
    "fig_width= 15\n",
    "ext = '.png'\n",
    "dpi = 400"
   ]
  },
  {
   "cell_type": "code",
   "execution_count": null,
   "metadata": {
    "ExecuteTime": {
     "end_time": "2018-04-03T09:01:37.879226Z",
     "start_time": "2018-04-03T09:01:37.837808Z"
    },
    "scrolled": false
   },
   "outputs": [],
   "source": [
    "observer = 'AM'\n",
    "mode = 'pari'\n",
    "from aSPEM import Analysis\n",
    "e = Analysis(observer=observer, mode=mode)"
   ]
  },
  {
   "cell_type": "code",
   "execution_count": null,
   "metadata": {
    "ExecuteTime": {
     "end_time": "2018-04-03T09:01:37.891988Z",
     "start_time": "2018-04-03T09:01:37.880751Z"
    },
    "collapsed": true
   },
   "outputs": [],
   "source": [
    "sujet = [6, 10, 5, 2]"
   ]
  },
  {
   "cell_type": "code",
   "execution_count": null,
   "metadata": {
    "ExecuteTime": {
     "end_time": "2018-04-03T09:01:40.836656Z",
     "start_time": "2018-04-03T09:01:37.893874Z"
    },
    "collapsed": true,
    "scrolled": true
   },
   "outputs": [],
   "source": [
    "fig, axs = e.plot_results(mode='expectation', sujet=sujet)"
   ]
  },
  {
   "cell_type": "code",
   "execution_count": null,
   "metadata": {
    "ExecuteTime": {
     "end_time": "2018-04-03T09:02:02.054497Z",
     "start_time": "2018-04-03T09:01:40.838163Z"
    },
    "collapsed": true,
    "scrolled": true
   },
   "outputs": [],
   "source": [
    "fig, axs = e.plot_results(mode='expectation', kde='kde', sujet=sujet)"
   ]
  },
  {
   "cell_type": "code",
   "execution_count": null,
   "metadata": {
    "ExecuteTime": {
     "end_time": "2018-04-03T09:03:37.249475Z",
     "start_time": "2018-04-03T09:02:02.056244Z"
    },
    "collapsed": true,
    "scrolled": false
   },
   "outputs": [],
   "source": [
    "for sujet_ in sujet:\n",
    "    fig, axs = e.plot_results(mode='expectation', kde='moyenne', sujet=[sujet_])\n",
    "    fig.savefig('figures/Results_BCP_sujet_' + str(sujet_) + ext, dpi=dpi)\n",
    "    plt.show()"
   ]
  },
  {
   "cell_type": "code",
   "execution_count": null,
   "metadata": {
    "ExecuteTime": {
     "end_time": "2018-04-03T09:03:39.648491Z",
     "start_time": "2018-04-03T09:03:37.250986Z"
    },
    "collapsed": true,
    "scrolled": false
   },
   "outputs": [],
   "source": [
    "fig, axs = e.plot_results(mode='max', sujet=sujet)"
   ]
  },
  {
   "cell_type": "code",
   "execution_count": null,
   "metadata": {
    "ExecuteTime": {
     "end_time": "2018-04-03T09:04:00.462117Z",
     "start_time": "2018-04-03T09:03:39.650050Z"
    },
    "collapsed": true,
    "scrolled": false
   },
   "outputs": [],
   "source": [
    "fig, axs = e.plot_results(mode='max', kde='kde', sujet=sujet)"
   ]
  },
  {
   "cell_type": "code",
   "execution_count": null,
   "metadata": {
    "ExecuteTime": {
     "end_time": "2018-04-03T09:04:21.735479Z",
     "start_time": "2018-04-03T09:04:00.463611Z"
    },
    "collapsed": true
   },
   "outputs": [],
   "source": [
    "fig, axs = e.plot_results(mode='max', kde='moyenne', sujet=sujet)"
   ]
  },
  {
   "cell_type": "code",
   "execution_count": null,
   "metadata": {
    "collapsed": true,
    "scrolled": true
   },
   "outputs": [],
   "source": [
    "sujet = [0, 1]\n",
    "fig, axs = e.plot_experiment(sujet=sujet, BCP=True, mode='deux', direction=False)"
   ]
  },
  {
   "cell_type": "code",
   "execution_count": null,
   "metadata": {
    "ExecuteTime": {
     "end_time": "2018-04-03T09:04:29.146698Z",
     "start_time": "2018-04-03T09:04:21.737063Z"
    },
    "collapsed": true,
    "scrolled": false
   },
   "outputs": [],
   "source": []
  },
  {
   "cell_type": "code",
   "execution_count": null,
   "metadata": {
    "ExecuteTime": {
     "end_time": "2018-04-03T09:04:36.687102Z",
     "start_time": "2018-04-03T09:04:29.148319Z"
    },
    "collapsed": true,
    "scrolled": false
   },
   "outputs": [],
   "source": [
    "fig, axs = plt.subplots(1, 2, figsize=(fig_width, fig_width/2.2))\n",
    "fig, axs[0] = e.plot_scatter_KDE(fig=fig, axs=axs[0], t_titre=35/1.5, t_label=25/1.5)\n",
    "fig, axs[1] = e.plot_scatter_KDE(result='acceleration', fig=fig, axs=axs[1], t_titre=35/1.5, t_label=25/1.5)"
   ]
  },
  {
   "cell_type": "code",
   "execution_count": null,
   "metadata": {
    "ExecuteTime": {
     "end_time": "2018-04-03T09:04:44.061107Z",
     "start_time": "2018-04-03T09:04:36.688832Z"
    },
    "collapsed": true,
    "scrolled": false
   },
   "outputs": [],
   "source": [
    "fig, axs = plt.subplots(1, 2, figsize=(fig_width, fig_width/2.2))\n",
    "fig, axs[0] = e.plot_scatter_KDE(kde='moyenne', fig=fig, axs=axs[0], t_titre=35/1.5, t_label=25/1.5)\n",
    "fig, axs[1] = e.plot_scatter_KDE(result='acceleration', kde='moyenne', fig=fig, axs=axs[1], t_titre=35/1.5, t_label=25/1.5)"
   ]
  },
  {
   "cell_type": "code",
   "execution_count": null,
   "metadata": {
    "ExecuteTime": {
     "end_time": "2018-04-03T09:04:51.568166Z",
     "start_time": "2018-04-03T09:04:44.062812Z"
    },
    "collapsed": true,
    "scrolled": false
   },
   "outputs": [],
   "source": [
    "fig, axs = plt.subplots(1, 2, figsize=(fig_width, fig_width/2.2))\n",
    "fig, axs[0] = e.plot_scatter_KDE(plot='scatter', fig=fig, axs=axs[0], t_titre=35/1.5, t_label=25/1.5)\n",
    "fig, axs[1] = e.plot_scatter_KDE(plot='scatter', result='acceleration', fig=fig, axs=axs[1], t_titre=35/1.5, t_label=25/1.5)"
   ]
  },
  {
   "cell_type": "code",
   "execution_count": null,
   "metadata": {
    "ExecuteTime": {
     "end_time": "2018-04-03T09:05:04.688907Z",
     "start_time": "2018-04-03T09:04:51.569785Z"
    },
    "collapsed": true,
    "scrolled": true
   },
   "outputs": [],
   "source": [
    "fig, axs = plt.subplots(1, 2, figsize=(fig_width, fig_width/2.2))\n",
    "fig, axs[0] = e.plot_scatter_KDE(mode='max', fig=fig, axs=axs[0], t_titre=35/1.5, t_label=25/1.5)\n",
    "fig, axs[1] = e.plot_scatter_KDE(result='acceleration', mode='max', fig=fig, axs=axs[1], t_titre=35/1.5, t_label=25/1.5)"
   ]
  },
  {
   "cell_type": "code",
   "execution_count": null,
   "metadata": {
    "ExecuteTime": {
     "end_time": "2018-04-03T09:05:18.027747Z",
     "start_time": "2018-04-03T09:05:04.690506Z"
    },
    "collapsed": true,
    "scrolled": false
   },
   "outputs": [],
   "source": [
    "fig, axs = plt.subplots(1, 2, figsize=(fig_width, fig_width/2.2))\n",
    "fig, axs[0] = e.plot_scatter_KDE(mode='max', kde='moyenne', fig=fig, axs=axs[0], t_titre=35/1.5, t_label=25/1.5)\n",
    "fig, axs[1] = e.plot_scatter_KDE(result='acceleration', mode='max', kde='moyenne', fig=fig, axs=axs[1], t_titre=35/1.5, t_label=25/1.5)"
   ]
  },
  {
   "cell_type": "code",
   "execution_count": null,
   "metadata": {
    "ExecuteTime": {
     "end_time": "2018-04-03T09:05:31.106216Z",
     "start_time": "2018-04-03T09:05:18.029409Z"
    },
    "scrolled": false
   },
   "outputs": [],
   "source": [
    "fig, axs = plt.subplots(1, 2, figsize=(fig_width, fig_width/2.2))\n",
    "fig, axs[0] = e.plot_scatter_KDE(plot='scatter', mode='max', fig=fig, axs=axs[0], t_titre=35/1.5, t_label=25/1.5)\n",
    "fig, axs[1] = e.plot_scatter_KDE(plot='scatter', mode='max', result='acceleration', fig=fig, axs=axs[1], t_titre=35/1.5, t_label=25/1.5)"
   ]
  },
  {
   "cell_type": "code",
   "execution_count": null,
   "metadata": {
    "ExecuteTime": {
     "end_time": "2018-04-03T09:05:31.106216Z",
     "start_time": "2018-04-03T09:05:18.029409Z"
    },
    "scrolled": false
   },
   "outputs": [],
   "source": [
    "fig, axs = plt.subplots(1, 2, figsize=(fig_width, fig_width/2.2))\n",
    "fig, axs[0] = e.plot_scatter_KDE(plot='scatter', mode='fixed', fig=fig, axs=axs[0], t_titre=35/1.5, t_label=25/1.5)\n",
    "fig, axs[1] = e.plot_scatter_KDE(plot='scatter', mode='fixed', result='acceleration', fig=fig, axs=axs[1], t_titre=35/1.5, t_label=25/1.5)"
   ]
  },
  {
   "cell_type": "code",
   "execution_count": null,
   "metadata": {},
   "outputs": [],
   "source": [
    "fig, axs = plt.subplots(1, 2, figsize=(fig_width, fig_width/2.2))\n",
    "fig, axs[0] = e.plot_scatter_KDE(plot='scatter', mode='reel', fig=fig, axs=axs[0], t_titre=35/1.5, t_label=25/1.5)\n",
    "fig, axs[1] = e.plot_scatter_KDE(plot='scatter', mode='reel', result='acceleration', fig=fig, axs=axs[1], t_titre=35/1.5, t_label=25/1.5)\n"
   ]
  },
  {
   "cell_type": "code",
   "execution_count": null,
   "metadata": {
    "ExecuteTime": {
     "end_time": "2018-04-03T09:05:44.433548Z",
     "start_time": "2018-04-03T09:05:31.107980Z"
    },
    "collapsed": true,
    "scrolled": false
   },
   "outputs": [],
   "source": [
    "import matplotlib.gridspec as gridspec"
   ]
  },
  {
   "cell_type": "code",
   "execution_count": null,
   "metadata": {
    "scrolled": false
   },
   "outputs": [],
   "source": [
    "hspace = 0.3\n",
    "wspace = 0.1\n",
    "\n",
    "\n",
    "for i_layer in range(4) :\n",
    "    print(i_layer)\n",
    "    fig, axs = plt.subplots(2, i_layer+1, figsize=(fig_width*2, fig_width))\n",
    "    \n",
    "    gs1 = gridspec.GridSpec(2, 1)\n",
    "    gs1.update(left=0, bottom=0, right=1/4, top=1, hspace=hspace)\n",
    "    \n",
    "    if i_layer == 0 :\n",
    "        axs[0] = plt.subplot(gs1[0])\n",
    "        axs[1] = plt.subplot(gs1[1])\n",
    "        fig, axs[0] = e.plot_scatter_KDE(mode='reel', fig=fig, axs=axs[0], t_titre=35/1.5, t_label=25/1.5)\n",
    "        fig, axs[1] = e.plot_scatter_KDE(mode='reel', result='acceleration', fig=fig, axs=axs[1], t_titre=35/1.5, t_label=25/1.5)\n",
    "\n",
    "    else :\n",
    "        axs[0][0] = plt.subplot(gs1[0])\n",
    "        axs[1][0] = plt.subplot(gs1[1])\n",
    "        fig, axs[0][0] = e.plot_scatter_KDE(mode='reel', fig=fig, axs=axs[0][0], t_titre=35/1.5, t_label=25/1.5)\n",
    "        fig, axs[1][0] = e.plot_scatter_KDE(mode='reel', result='acceleration', fig=fig, axs=axs[1][0], t_titre=35/1.5, t_label=25/1.5)\n",
    "\n",
    "    if i_layer > 0 :\n",
    "        \n",
    "        gs2 = gridspec.GridSpec(2, 1)\n",
    "        gs2.update(left=1/4+wspace, bottom=0, right=1/2+wspace, top=1, hspace=hspace)\n",
    "        axs[0][1] = plt.subplot(gs2[0])\n",
    "        axs[1][1] = plt.subplot(gs2[1])\n",
    "        \n",
    "        fig, axs[0][1] = e.plot_scatter_KDE(mode='fixed', fig=fig, axs=axs[0][1], t_titre=35/1.5, t_label=25/1.5)\n",
    "        fig, axs[1][1] = e.plot_scatter_KDE(mode='fixed', result='acceleration', fig=fig, axs=axs[1][1], t_titre=35/1.5, t_label=25/1.5)\n",
    "\n",
    "    \n",
    "    if i_layer > 1 :\n",
    "        gs3 = gridspec.GridSpec(2, 1)\n",
    "        gs3.update(left=2/4+(wspace*2), bottom=0, right=3/4+(wspace*2), top=1, hspace=hspace)\n",
    "        axs[0][2] = plt.subplot(gs3[0])\n",
    "        axs[1][2] = plt.subplot(gs3[1])\n",
    "        fig, axs[0][2] = e.plot_scatter_KDE(mode='max', fig=fig, axs=axs[0][2], t_titre=35/1.5, t_label=25/1.5)\n",
    "        fig, axs[1][2] = e.plot_scatter_KDE(mode='max', result='acceleration', fig=fig, axs=axs[1][2], t_titre=35/1.5, t_label=25/1.5)\n",
    "\n",
    "        \n",
    "    if i_layer > 2 :\n",
    "        gs4 = gridspec.GridSpec(2, 1)\n",
    "        gs4.update(left=3/4+(wspace*3), bottom=0, right=1+(wspace*3), top=1, hspace=hspace)\n",
    "        axs[0][3] = plt.subplot(gs4[0])\n",
    "        axs[1][3] = plt.subplot(gs4[1])\n",
    "        fig, axs[0][3] = e.plot_scatter_KDE(mode='expectation', fig=fig, axs=axs[0][3], t_titre=35/1.5, t_label=25/1.5)\n",
    "        fig, axs[1][3] = e.plot_scatter_KDE(mode='expectation', result='acceleration', fig=fig, axs=axs[1][3], t_titre=35/1.5, t_label=25/1.5)\n",
    "\n",
    "    plt.show()"
   ]
  },
  {
   "cell_type": "code",
   "execution_count": null,
   "metadata": {
    "collapsed": true
   },
   "outputs": [],
   "source": []
  },
  {
   "cell_type": "code",
   "execution_count": null,
   "metadata": {
    "collapsed": true
   },
   "outputs": [],
   "source": []
  }
 ],
 "metadata": {
  "kernelspec": {
   "display_name": "Python 3",
   "language": "python",
   "name": "python3"
  },
  "language_info": {
   "codemirror_mode": {
    "name": "ipython",
    "version": 3
   },
   "file_extension": ".py",
   "mimetype": "text/x-python",
   "name": "python",
   "nbconvert_exporter": "python",
   "pygments_lexer": "ipython3",
   "version": "3.5.2"
  },
  "toc": {
   "nav_menu": {
    "height": "30px",
    "width": "252px"
   },
   "number_sections": true,
   "sideBar": true,
   "skip_h1_title": false,
   "title_cell": "Table of Contents",
   "title_sidebar": "Contents",
   "toc_cell": false,
   "toc_position": {},
   "toc_section_display": "block",
   "toc_window_display": false
  }
 },
 "nbformat": 4,
 "nbformat_minor": 1
}
