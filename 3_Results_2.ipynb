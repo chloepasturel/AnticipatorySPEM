{
 "cells": [
  {
   "cell_type": "markdown",
   "metadata": {},
   "source": [
    "# aSPEM Experiment : analysis\n",
    "\n",
    "\n"
   ]
  },
  {
   "cell_type": "code",
   "execution_count": null,
   "metadata": {
    "ExecuteTime": {
     "end_time": "2018-03-30T11:44:55.653225Z",
     "start_time": "2018-03-30T11:44:55.389541Z"
    }
   },
   "outputs": [],
   "source": [
    "%load_ext autoreload\n",
    "%autoreload 2\n",
    "from __future__ import division, print_function, absolute_import\n",
    "import matplotlib.pyplot as plt\n",
    "%matplotlib inline"
   ]
  },
  {
   "cell_type": "raw",
   "metadata": {},
   "source": [
    "!ls data/"
   ]
  },
  {
   "cell_type": "code",
   "execution_count": null,
   "metadata": {
    "ExecuteTime": {
     "end_time": "2018-03-30T11:44:55.668644Z",
     "start_time": "2018-03-30T11:44:55.655029Z"
    },
    "collapsed": true
   },
   "outputs": [],
   "source": [
    "t_titre = 35\n",
    "t_label = 25\n",
    "fig_width= 15\n",
    "ext = '.png'\n",
    "dpi = 400"
   ]
  },
  {
   "cell_type": "code",
   "execution_count": null,
   "metadata": {
    "ExecuteTime": {
     "end_time": "2018-03-30T11:44:55.699969Z",
     "start_time": "2018-03-30T11:44:55.670523Z"
    },
    "scrolled": false
   },
   "outputs": [],
   "source": [
    "observer = 'AM'\n",
    "mode = 'pari'\n",
    "from aSPEM import Analysis\n",
    "e = Analysis(observer=observer, mode=mode)"
   ]
  },
  {
   "cell_type": "code",
   "execution_count": null,
   "metadata": {
    "ExecuteTime": {
     "end_time": "2018-03-30T11:44:55.714315Z",
     "start_time": "2018-03-30T11:44:55.701490Z"
    },
    "collapsed": true
   },
   "outputs": [],
   "source": [
    "sujet = [6, 10, 5, 2]"
   ]
  },
  {
   "cell_type": "code",
   "execution_count": null,
   "metadata": {
    "ExecuteTime": {
     "end_time": "2018-03-30T11:45:00.388404Z",
     "start_time": "2018-03-30T11:44:55.716129Z"
    },
    "scrolled": false
   },
   "outputs": [],
   "source": [
    "fig, axs = e.plot_results(mode='expectation', sujet=sujet)"
   ]
  },
  {
   "cell_type": "code",
   "execution_count": null,
   "metadata": {
    "ExecuteTime": {
     "end_time": "2018-03-30T11:45:22.104042Z",
     "start_time": "2018-03-30T11:45:00.390210Z"
    },
    "scrolled": false
   },
   "outputs": [],
   "source": [
    "fig, axs = e.plot_results(mode='expectation', kde='kde', sujet=sujet)"
   ]
  },
  {
   "cell_type": "code",
   "execution_count": null,
   "metadata": {
    "ExecuteTime": {
     "end_time": "2018-03-30T11:47:00.997066Z",
     "start_time": "2018-03-30T11:45:22.105763Z"
    },
    "scrolled": true
   },
   "outputs": [],
   "source": [
    "for sujet_ in sujet:\n",
    "    fig, axs = e.plot_results(mode='expectation', kde='moyenne', sujet=[sujet_])\n",
    "    fig.savefig('figures/Results_BCP_sujet_' + str(sujet_) + ext, dpi=dpi)\n",
    "    plt.show()"
   ]
  },
  {
   "cell_type": "code",
   "execution_count": null,
   "metadata": {
    "ExecuteTime": {
     "end_time": "2018-03-30T11:47:05.070619Z",
     "start_time": "2018-03-30T11:47:00.998829Z"
    },
    "scrolled": true
   },
   "outputs": [],
   "source": [
    "fig, axs = e.plot_results(mode='max', sujet=sujet)"
   ]
  },
  {
   "cell_type": "code",
   "execution_count": null,
   "metadata": {
    "ExecuteTime": {
     "end_time": "2018-03-30T11:47:26.709938Z",
     "start_time": "2018-03-30T11:47:05.072264Z"
    },
    "scrolled": true
   },
   "outputs": [],
   "source": [
    "fig, axs = e.plot_results(mode='max', kde='kde', sujet=sujet)"
   ]
  },
  {
   "cell_type": "code",
   "execution_count": null,
   "metadata": {
    "ExecuteTime": {
     "end_time": "2018-03-30T11:47:48.971326Z",
     "start_time": "2018-03-30T11:47:26.711825Z"
    }
   },
   "outputs": [],
   "source": [
    "fig, axs = e.plot_results(mode='max', kde='moyenne', sujet=sujet)"
   ]
  },
  {
   "cell_type": "code",
   "execution_count": null,
   "metadata": {
    "collapsed": true
   },
   "outputs": [],
   "source": []
  },
  {
   "cell_type": "code",
   "execution_count": null,
   "metadata": {
    "scrolled": true
   },
   "outputs": [],
   "source": [
    "fig, axs = e.plot_KDE(mode='expectation')"
   ]
  },
  {
   "cell_type": "code",
   "execution_count": null,
   "metadata": {
    "scrolled": true
   },
   "outputs": [],
   "source": [
    "fig, axs = e.plot_KDE(mode='expectation', kde='moyenne')"
   ]
  },
  {
   "cell_type": "code",
   "execution_count": null,
   "metadata": {
    "scrolled": true
   },
   "outputs": [],
   "source": [
    "fig, axs = e.plot_KDE(mode='max')"
   ]
  },
  {
   "cell_type": "code",
   "execution_count": null,
   "metadata": {
    "scrolled": true
   },
   "outputs": [],
   "source": [
    "fig, axs = e.plot_KDE(mode='max', kde='moyenne')"
   ]
  },
  {
   "cell_type": "code",
   "execution_count": null,
   "metadata": {
    "scrolled": true
   },
   "outputs": [],
   "source": [
    "fig, axs = e.plot_KDE(mode='expectation', result='acceleration')"
   ]
  },
  {
   "cell_type": "code",
   "execution_count": null,
   "metadata": {
    "scrolled": true
   },
   "outputs": [],
   "source": [
    "fig, axs = e.plot_KDE(mode='expectation', kde='moyenne', result='acceleration')"
   ]
  },
  {
   "cell_type": "code",
   "execution_count": null,
   "metadata": {
    "scrolled": true
   },
   "outputs": [],
   "source": [
    "fig, axs = e.plot_KDE(mode='max', result='acceleration')"
   ]
  },
  {
   "cell_type": "code",
   "execution_count": null,
   "metadata": {
    "scrolled": true
   },
   "outputs": [],
   "source": [
    "fig, axs = e.plot_KDE(mode='max', kde='moyenne', result='acceleration')"
   ]
  }
 ],
 "metadata": {
  "kernelspec": {
   "display_name": "Python 3",
   "language": "python",
   "name": "python3"
  },
  "language_info": {
   "codemirror_mode": {
    "name": "ipython",
    "version": 3
   },
   "file_extension": ".py",
   "mimetype": "text/x-python",
   "name": "python",
   "nbconvert_exporter": "python",
   "pygments_lexer": "ipython3",
   "version": "3.5.2"
  },
  "toc": {
   "nav_menu": {
    "height": "30px",
    "width": "252px"
   },
   "number_sections": true,
   "sideBar": true,
   "skip_h1_title": false,
   "title_cell": "Table of Contents",
   "title_sidebar": "Contents",
   "toc_cell": false,
   "toc_position": {},
   "toc_section_display": "block",
   "toc_window_display": false
  }
 },
 "nbformat": 4,
 "nbformat_minor": 1
}
