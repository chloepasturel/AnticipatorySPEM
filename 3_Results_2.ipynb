{
 "cells": [
  {
   "cell_type": "markdown",
   "metadata": {},
   "source": [
    "# aSPEM Experiment : analysis\n",
    "\n",
    "\n"
   ]
  },
  {
   "cell_type": "code",
   "execution_count": null,
   "metadata": {
    "ExecuteTime": {
     "end_time": "2018-04-03T09:01:37.823125Z",
     "start_time": "2018-04-03T09:01:37.579888Z"
    },
    "collapsed": true
   },
   "outputs": [],
   "source": [
    "%load_ext autoreload\n",
    "%autoreload 2\n",
    "from __future__ import division, print_function, absolute_import\n",
    "import matplotlib.pyplot as plt\n",
    "%matplotlib inline"
   ]
  },
  {
   "cell_type": "raw",
   "metadata": {},
   "source": [
    "!ls data/"
   ]
  },
  {
   "cell_type": "code",
   "execution_count": null,
   "metadata": {
    "ExecuteTime": {
     "end_time": "2018-04-03T09:01:37.836252Z",
     "start_time": "2018-04-03T09:01:37.824726Z"
    },
    "collapsed": true
   },
   "outputs": [],
   "source": [
    "t_titre = 35\n",
    "t_label = 25\n",
    "fig_width= 15\n",
    "ext = '.png'\n",
    "dpi = 400"
   ]
  },
  {
   "cell_type": "code",
   "execution_count": null,
   "metadata": {
    "ExecuteTime": {
     "end_time": "2018-04-03T09:01:37.879226Z",
     "start_time": "2018-04-03T09:01:37.837808Z"
    },
    "scrolled": false
   },
   "outputs": [],
   "source": [
    "observer = 'AM'\n",
    "mode = 'pari'\n",
    "from aSPEM import Analysis\n",
    "e = Analysis(observer=observer, mode=mode)"
   ]
  },
  {
   "cell_type": "code",
   "execution_count": null,
   "metadata": {
    "ExecuteTime": {
     "end_time": "2018-04-03T09:01:37.891988Z",
     "start_time": "2018-04-03T09:01:37.880751Z"
    },
    "collapsed": true
   },
   "outputs": [],
   "source": [
    "sujet = [6, 10, 5, 2]"
   ]
  },
  {
   "cell_type": "code",
   "execution_count": null,
   "metadata": {
    "ExecuteTime": {
     "end_time": "2018-04-03T09:01:40.836656Z",
     "start_time": "2018-04-03T09:01:37.893874Z"
    },
    "collapsed": true,
    "scrolled": true
   },
   "outputs": [],
   "source": [
    "fig, axs = e.plot_results(mode='expectation', sujet=sujet)"
   ]
  },
  {
   "cell_type": "code",
   "execution_count": null,
   "metadata": {
    "ExecuteTime": {
     "end_time": "2018-04-03T09:02:02.054497Z",
     "start_time": "2018-04-03T09:01:40.838163Z"
    },
    "collapsed": true,
    "scrolled": true
   },
   "outputs": [],
   "source": [
    "fig, axs = e.plot_results(mode='expectation', kde='kde', sujet=sujet)"
   ]
  },
  {
   "cell_type": "code",
   "execution_count": null,
   "metadata": {
    "ExecuteTime": {
     "end_time": "2018-04-03T09:03:37.249475Z",
     "start_time": "2018-04-03T09:02:02.056244Z"
    },
    "collapsed": true,
    "scrolled": false
   },
   "outputs": [],
   "source": [
    "for sujet_ in sujet:\n",
    "    fig, axs = e.plot_results(mode='expectation', kde='moyenne', sujet=[sujet_])\n",
    "    fig.savefig('figures/Results_BCP_sujet_' + str(sujet_) + ext, dpi=dpi)\n",
    "    plt.show()"
   ]
  },
  {
   "cell_type": "code",
   "execution_count": null,
   "metadata": {
    "ExecuteTime": {
     "end_time": "2018-04-03T09:03:39.648491Z",
     "start_time": "2018-04-03T09:03:37.250986Z"
    },
    "collapsed": true,
    "scrolled": false
   },
   "outputs": [],
   "source": [
    "fig, axs = e.plot_results(mode='max', sujet=sujet)"
   ]
  },
  {
   "cell_type": "code",
   "execution_count": null,
   "metadata": {
    "ExecuteTime": {
     "end_time": "2018-04-03T09:04:00.462117Z",
     "start_time": "2018-04-03T09:03:39.650050Z"
    },
    "collapsed": true,
    "scrolled": false
   },
   "outputs": [],
   "source": [
    "fig, axs = e.plot_results(mode='max', kde='kde', sujet=sujet)"
   ]
  },
  {
   "cell_type": "code",
   "execution_count": null,
   "metadata": {
    "ExecuteTime": {
     "end_time": "2018-04-03T09:04:21.735479Z",
     "start_time": "2018-04-03T09:04:00.463611Z"
    },
    "collapsed": true
   },
   "outputs": [],
   "source": [
    "fig, axs = e.plot_results(mode='max', kde='moyenne', sujet=sujet)"
   ]
  },
  {
   "cell_type": "code",
   "execution_count": null,
   "metadata": {
    "collapsed": true,
    "scrolled": true
   },
   "outputs": [],
   "source": [
    "sujet = [0, 1]\n",
    "fig, axs = e.plot_experiment(sujet=sujet, BCP=True, mode='deux', direction=False)"
   ]
  },
  {
   "cell_type": "code",
   "execution_count": null,
   "metadata": {
    "ExecuteTime": {
     "end_time": "2018-04-03T09:04:29.146698Z",
     "start_time": "2018-04-03T09:04:21.737063Z"
    },
    "collapsed": true,
    "scrolled": false
   },
   "outputs": [],
   "source": []
  },
  {
   "cell_type": "code",
   "execution_count": null,
   "metadata": {
    "ExecuteTime": {
     "end_time": "2018-04-03T09:04:36.687102Z",
     "start_time": "2018-04-03T09:04:29.148319Z"
    },
    "collapsed": true,
    "scrolled": false
   },
   "outputs": [],
   "source": [
    "fig, axs = plt.subplots(1, 2, figsize=(fig_width, fig_width/2.2))\n",
    "fig, axs[0] = e.plot_scatter_KDE(fig=fig, axs=axs[0], t_titre=35/1.5, t_label=25/1.5)\n",
    "fig, axs[1] = e.plot_scatter_KDE(result='acceleration', fig=fig, axs=axs[1], t_titre=35/1.5, t_label=25/1.5)"
   ]
  },
  {
   "cell_type": "code",
   "execution_count": null,
   "metadata": {
    "ExecuteTime": {
     "end_time": "2018-04-03T09:04:44.061107Z",
     "start_time": "2018-04-03T09:04:36.688832Z"
    },
    "collapsed": true,
    "scrolled": false
   },
   "outputs": [],
   "source": [
    "fig, axs = plt.subplots(1, 2, figsize=(fig_width, fig_width/2.2))\n",
    "fig, axs[0] = e.plot_scatter_KDE(kde='moyenne', fig=fig, axs=axs[0], t_titre=35/1.5, t_label=25/1.5)\n",
    "fig, axs[1] = e.plot_scatter_KDE(result='acceleration', kde='moyenne', fig=fig, axs=axs[1], t_titre=35/1.5, t_label=25/1.5)"
   ]
  },
  {
   "cell_type": "code",
   "execution_count": null,
   "metadata": {
    "ExecuteTime": {
     "end_time": "2018-04-03T09:04:51.568166Z",
     "start_time": "2018-04-03T09:04:44.062812Z"
    },
    "collapsed": true,
    "scrolled": false
   },
   "outputs": [],
   "source": [
    "fig, axs = plt.subplots(1, 2, figsize=(fig_width, fig_width/2.2))\n",
    "fig, axs[0] = e.plot_scatter_KDE(plot='scatter', fig=fig, axs=axs[0], t_titre=35/1.5, t_label=25/1.5)\n",
    "fig, axs[1] = e.plot_scatter_KDE(plot='scatter', result='acceleration', fig=fig, axs=axs[1], t_titre=35/1.5, t_label=25/1.5)"
   ]
  },
  {
   "cell_type": "code",
   "execution_count": null,
   "metadata": {
    "ExecuteTime": {
     "end_time": "2018-04-03T09:05:04.688907Z",
     "start_time": "2018-04-03T09:04:51.569785Z"
    },
    "collapsed": true,
    "scrolled": true
   },
   "outputs": [],
   "source": [
    "fig, axs = plt.subplots(1, 2, figsize=(fig_width, fig_width/2.2))\n",
    "fig, axs[0] = e.plot_scatter_KDE(mode='max', fig=fig, axs=axs[0], t_titre=35/1.5, t_label=25/1.5)\n",
    "fig, axs[1] = e.plot_scatter_KDE(result='acceleration', mode='max', fig=fig, axs=axs[1], t_titre=35/1.5, t_label=25/1.5)"
   ]
  },
  {
   "cell_type": "code",
   "execution_count": null,
   "metadata": {
    "ExecuteTime": {
     "end_time": "2018-04-03T09:05:18.027747Z",
     "start_time": "2018-04-03T09:05:04.690506Z"
    },
    "collapsed": true,
    "scrolled": false
   },
   "outputs": [],
   "source": [
    "fig, axs = plt.subplots(1, 2, figsize=(fig_width, fig_width/2.2))\n",
    "fig, axs[0] = e.plot_scatter_KDE(mode='max', kde='moyenne', fig=fig, axs=axs[0], t_titre=35/1.5, t_label=25/1.5)\n",
    "fig, axs[1] = e.plot_scatter_KDE(result='acceleration', mode='max', kde='moyenne', fig=fig, axs=axs[1], t_titre=35/1.5, t_label=25/1.5)"
   ]
  },
  {
   "cell_type": "code",
   "execution_count": null,
   "metadata": {
    "ExecuteTime": {
     "end_time": "2018-04-03T09:05:31.106216Z",
     "start_time": "2018-04-03T09:05:18.029409Z"
    },
    "scrolled": false
   },
   "outputs": [],
   "source": [
    "fig, axs = plt.subplots(1, 2, figsize=(fig_width, fig_width/2.2))\n",
    "fig, axs[0] = e.plot_scatter_KDE(plot='scatter', mode='max', fig=fig, axs=axs[0], t_titre=35/1.5, t_label=25/1.5)\n",
    "fig, axs[1] = e.plot_scatter_KDE(plot='scatter', mode='max', result='acceleration', fig=fig, axs=axs[1], t_titre=35/1.5, t_label=25/1.5)"
   ]
  },
  {
   "cell_type": "code",
   "execution_count": null,
   "metadata": {
    "ExecuteTime": {
     "end_time": "2018-04-03T09:05:44.433548Z",
     "start_time": "2018-04-03T09:05:31.107980Z"
    },
    "collapsed": true,
    "scrolled": false
   },
   "outputs": [],
   "source": []
  }
 ],
 "metadata": {
  "kernelspec": {
   "display_name": "Python 3",
   "language": "python",
   "name": "python3"
  },
  "language_info": {
   "codemirror_mode": {
    "name": "ipython",
    "version": 3
   },
   "file_extension": ".py",
   "mimetype": "text/x-python",
   "name": "python",
   "nbconvert_exporter": "python",
   "pygments_lexer": "ipython3",
   "version": "3.5.2"
  },
  "toc": {
   "nav_menu": {
    "height": "30px",
    "width": "252px"
   },
   "number_sections": true,
   "sideBar": true,
   "skip_h1_title": false,
   "title_cell": "Table of Contents",
   "title_sidebar": "Contents",
   "toc_cell": false,
   "toc_position": {},
   "toc_section_display": "block",
   "toc_window_display": false
  }
 },
 "nbformat": 4,
 "nbformat_minor": 1
}
