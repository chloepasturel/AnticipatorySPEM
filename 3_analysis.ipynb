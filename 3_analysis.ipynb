{
 "cells": [
  {
   "cell_type": "markdown",
   "metadata": {},
   "source": [
    "# aSPEM Experiment : analysis\n",
    "\n",
    "\n"
   ]
  },
  {
   "cell_type": "code",
   "execution_count": 4,
   "metadata": {},
   "outputs": [
    {
     "name": "stdout",
     "output_type": "stream",
     "text": [
      "The autoreload extension is already loaded. To reload it, use:\n",
      "  %reload_ext autoreload\n"
     ]
    }
   ],
   "source": [
    "%load_ext autoreload\n",
    "%autoreload 2\n",
    "from __future__ import division, print_function, absolute_import\n",
    "import numpy as np\n",
    "import matplotlib.pyplot as plt\n",
    "fig_width = 12\n",
    "%matplotlib inline\n",
    "\n",
    "from aSPEM import aSPEM\n",
    "e = aSPEM()\n",
    "p = e.params_protocol['p']\n",
    "N_trials = e.params_protocol['N_trials']\n",
    "N_blocks = e.params_protocol['N_blocks']\n",
    "timeStr = '2017-05-24_160243'\n",
    "observer = 'lup'"
   ]
  },
  {
   "cell_type": "code",
   "execution_count": 5,
   "metadata": {},
   "outputs": [
    {
     "name": "stdout",
     "output_type": "stream",
     "text": [
      "lup_0_2017-05-24_160243.npy lup_1_2017-05-24_160243.npy\r\n"
     ]
    }
   ],
   "source": [
    "!ls data/\n"
   ]
  },
  {
   "cell_type": "code",
   "execution_count": 17,
   "metadata": {},
   "outputs": [
    {
     "data": {
      "image/png": "[encoded data removed]",
      "text/plain": [
       "<matplotlib.figure.Figure at 0x10890af60>"
      ]
     },
     "metadata": {},
     "output_type": "display_data"
    }
   ],
   "source": [
    "fig, axs = plt.subplots(3, 1, figsize=(fig_width, fig_width/1.6180))\n",
    "stick = np.zeros_like(p)\n",
    "stick[:, :, 0] = np.ones((N_trials, 1)) * np.arange(N_blocks)[np.newaxis, :]\n",
    "stick[:, :, 2] = np.ones((N_trials, 1)) * np.arange(N_blocks)[np.newaxis, :]\n",
    "corrects = 0\n",
    "for i_layer, label in enumerate([r'$\\^x_1$', r'$\\^p$', r'$\\^x_3$']):\n",
    "    from cycler import cycler\n",
    "    axs[i_layer].set_prop_cycle(cycler('color', [plt.cm.magma(h) for h in np.linspace(0, 1, N_blocks+1)]))\n",
    "    _ = axs[i_layer].step(range(N_trials), p[:, :, i_layer]+stick[:, :, i_layer], lw=.5, alpha=.9)\n",
    "    axs[i_layer].axis('tight')\n",
    "    axs[i_layer].set_ylabel(label, fontsize=14)\n",
    "for block in range(N_blocks):   \n",
    "    results = e.load(observer, block=block, timeStr=timeStr)/2. + .5\n",
    "    corrects += (results == p[:, block, 0]).sum()\n",
    "    border = 0.15\n",
    "    _ = axs[0].scatter(range(N_trials), block + border + (1-2*border) * results, lw=.5, alpha=.9)\n",
    "    \n",
    "fig.tight_layout()\n",
    "for i in range(1): axs[i].set_ylim(-.05, N_blocks + .05)\n",
    "axs[-1].set_xlabel('time', fontsize=14);\n"
   ]
  },
  {
   "cell_type": "code",
   "execution_count": 14,
   "metadata": {},
   "outputs": [
    {
     "name": "stdout",
     "output_type": "stream",
     "text": [
      "65.0 %\n"
     ]
    }
   ],
   "source": [
    "print (corrects / N_trials / N_blocks *100, '%')"
   ]
  }
 ],
 "metadata": {
  "kernelspec": {
   "display_name": "Python 3",
   "language": "python",
   "name": "python3"
  },
  "language_info": {
   "codemirror_mode": {
    "name": "ipython",
    "version": 3
   },
   "file_extension": ".py",
   "mimetype": "text/x-python",
   "name": "python",
   "nbconvert_exporter": "python",
   "pygments_lexer": "ipython3",
   "version": "3.6.1"
  }
 },
 "nbformat": 4,
 "nbformat_minor": 1
}
