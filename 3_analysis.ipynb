{
 "cells": [
  {
   "cell_type": "markdown",
   "metadata": {},
   "source": [
    "# aSPEM Experiment : analysis\n",
    "\n",
    "\n"
   ]
  },
  {
   "cell_type": "code",
   "execution_count": 1,
   "metadata": {
    "collapsed": true
   },
   "outputs": [],
   "source": [
    "%load_ext autoreload\n",
    "%autoreload 2\n",
    "from __future__ import division, print_function, absolute_import\n",
    "import glob\n",
    "import pickle\n",
    "import matplotlib.pyplot as plt\n",
    "from cycler import cycler\n",
    "import numpy as np\n",
    "import scipy as sc\n",
    "from scipy import stats"
   ]
  },
  {
   "cell_type": "code",
   "execution_count": 2,
   "metadata": {
    "scrolled": true
   },
   "outputs": [
    {
     "name": "stdout",
     "output_type": "stream",
     "text": [
      "enregistrement_AM_2017-10-23_100057.asc\r\n",
      "enregistrement_AM_2017-10-23_100057.edf\r\n",
      "enregistrement_AM_2017-10-23_100057.pkl\r\n",
      "enregistrement_BMC_2017-09-26_095637.asc\r\n",
      "enregistrement_BMC_2017-09-26_095637.EDF\r\n",
      "enregistrement_BMC_2017-09-26_095637.pkl\r\n",
      "enregistrement_CS_2017-10-03_134421.asc\r\n",
      "enregistrement_CS_2017-10-03_134421.edf\r\n",
      "enregistrement_CS_2017-10-03_134421.pkl\r\n",
      "enregistrement_DC_2017-09-27_161040.asc\r\n",
      "enregistrement_DC_2017-09-27_161040.edf\r\n",
      "enregistrement_DC_2017-09-27_161040.pkl\r\n",
      "enregistrement_FM_2017-10-03_143803.asc\r\n",
      "enregistrement_FM_2017-10-03_143803.EDF\r\n",
      "enregistrement_FM_2017-10-03_143803.pkl\r\n",
      "enregistrement_IP_2017-09-28_115250.asc\r\n",
      "enregistrement_IP_2017-09-28_115250.edf\r\n",
      "enregistrement_IP_2017-09-28_115250.pkl\r\n",
      "enregistrement_LB_2017-09-20_151043 (1).asc\r\n",
      "enregistrement_LB_2017-09-20_151043.asc\r\n",
      "enregistrement_LB_2017-09-20_151043.edf\r\n",
      "enregistrement_LB_2017-09-20_151043.pkl\r\n",
      "enregistrement_OP_2017-10-26_121823.asc\r\n",
      "enregistrement_OP_2017-10-26_121823.edf\r\n",
      "enregistrement_OP_2017-10-26_121823.pkl\r\n",
      "Nouveau dossier\r\n",
      "pari_AM_2017-09-29_123528.pkl\r\n",
      "pari_BMC_2017-09-25_142503.pkl\r\n",
      "pari_CS_2017-09-28_154353.pkl\r\n",
      "pari_DC_2017-09-26_162348.pkl\r\n",
      "pari_FM_2017-09-26_143606.pkl\r\n",
      "pari_IP_2017-09-26_122431.pkl\r\n",
      "pari_LB_2017-09-19_152205.pkl\r\n",
      "pari_OP_2017-10-24_105728.pkl\r\n"
     ]
    }
   ],
   "source": [
    "!ls data/"
   ]
  },
  {
   "cell_type": "code",
   "execution_count": 3,
   "metadata": {
    "collapsed": true
   },
   "outputs": [],
   "source": [
    "%matplotlib inline\n",
    "fig_width = 12\n",
    "\n",
    "from aSPEM import aSPEM"
   ]
  },
  {
   "cell_type": "raw",
   "metadata": {},
   "source": [
    "timeStr = '2017-10-26_121823'\n",
    "observer = 'OP'\n",
    "\n",
    "mode = 'enregistrement'\n",
    "e = aSPEM(mode, timeStr, observer)\n",
    "\n",
    "#fig, axs = e.plot_enregistrement()\n",
    "e.plot_enregistrement()"
   ]
  },
  {
   "cell_type": "code",
   "execution_count": 5,
   "metadata": {
    "scrolled": true
   },
   "outputs": [
    {
     "data": {
      "image/png": "[encoded data removed]",
      "text/plain": [
       "<matplotlib.figure.Figure at 0x7fd568ad2320>"
      ]
     },
     "metadata": {},
     "output_type": "display_data"
    }
   ],
   "source": [
    "timeStr = '2017-10-24_105728'\n",
    "observer = 'OP'\n",
    "\n",
    "mode = 'pari'\n",
    "e = aSPEM(mode, timeStr, observer)\n",
    "\n",
    "fig, axs, p = e.plot(mode=mode)"
   ]
  },
  {
   "cell_type": "code",
   "execution_count": 6,
   "metadata": {
    "scrolled": true
   },
   "outputs": [
    {
     "name": "stdout",
     "output_type": "stream",
     "text": [
      "['enregistrement', 'AM', '2017-10-23', '100057']\n",
      "['enregistrement', 'CS', '2017-10-03', '134421']\n",
      "['pari', 'FM', '2017-09-26', '143606']\n",
      "['pari', 'LB', '2017-09-19', '152205']\n",
      "['enregistrement', 'LB', '2017-09-20', '151043']\n",
      "['pari', 'DC', '2017-09-26', '162348']\n",
      "['pari', 'IP', '2017-09-26', '122431']\n",
      "['enregistrement', 'OP', '2017-10-26', '121823']\n",
      "['pari', 'AM', '2017-09-29', '123528']\n",
      "['pari', 'BMC', '2017-09-25', '142503']\n",
      "['pari', 'OP', '2017-10-24', '105728']\n",
      "['enregistrement', 'IP', '2017-09-28', '115250']\n",
      "['enregistrement', 'BMC', '2017-09-26', '095637']\n",
      "['pari', 'CS', '2017-09-28', '154353']\n",
      "['enregistrement', 'DC', '2017-09-27', '161040']\n",
      "['enregistrement', 'FM', '2017-10-03', '143803']\n"
     ]
    }
   ],
   "source": [
    "liste = []\n",
    "for fname in glob.glob('data/*pkl'):\n",
    "    a = fname.split('/')[1].split('.')[0].split('_')\n",
    "    liste.append(a)\n",
    "    print(a)"
   ]
  },
  {
   "cell_type": "code",
   "execution_count": 7,
   "metadata": {
    "collapsed": true
   },
   "outputs": [],
   "source": [
    "exp = []\n",
    "for x in range(len(liste)) :\n",
    "    if liste[x][0]=='pari' and liste[x][1] in ['AM', 'BMC', 'CS', 'DC', 'FM', 'LB', 'OP'] :\n",
    "        a = 'data/%s_%s_%s_%s.pkl'%(liste[x][0], liste[x][1],liste[x][2],liste[x][3])\n",
    "        with open(a, 'rb') as fichier :\n",
    "            b = pickle.load(fichier, encoding='latin1')\n",
    "            exp.append(b)"
   ]
  },
  {
   "cell_type": "code",
   "execution_count": 8,
   "metadata": {
    "scrolled": true
   },
   "outputs": [
    {
     "name": "stdout",
     "output_type": "stream",
     "text": [
      "\n",
      " FM 2017-09-26_143606 = black\n",
      "stim_tau = 0.75     Vitesse (deg/s) = 15.0\n",
      "block 1 = (0.41408659641630347, 1.0931334366842138e-09)\n",
      "         1 : p = 0.647523519824 --> 0.483773584906 ( +/- 0.187809883951 )\n",
      "         2 : p = 0.159515642516 --> 0.425142857143 ( +/- 0.136137985222 )\n",
      "         3 : p = 0.700809315349 --> 0.535333333333 ( +/- 0.236632391884 )\n",
      "         4 : p = 0.363458203853 --> 0.487045454545 ( +/- 0.0604652246207 )\n",
      "         5 : p = 0.0216407145976 --> 0.273055555556 ( +/- 0.221771939636 )\n",
      "         6 : p = 0.770964181565 --> 0.6175 ( +/- 0.31869572367 )\n",
      "         7 : p = 0.17987589782 --> 0.473571428571 ( +/- 0.191772079856 )\n",
      "block 2 = (0.75731605517661194, 1.703660943557528e-38)\n",
      "         1 : p = 0.309087453462 --> 0.527307692308 ( +/- 0.150813376582 )\n",
      "         2 : p = 0.0239682943655 --> 0.119259259259 ( +/- 0.203895868956 )\n",
      "         3 : p = 0.986124321066 --> 0.901315789474 ( +/- 0.224785524125 )\n",
      "         4 : p = 0.0102498711568 --> 0.0578260869565 ( +/- 0.211823481101 )\n",
      "         5 : p = 0.6131806477 --> 0.465593220339 ( +/- 0.258789693993 )\n",
      "block 3 = (0.51923368908729117, 3.344266221226676e-15)\n",
      "         1 : p = 0.033071304189 --> 0.0732352941176 ( +/- 0.116289966899 )\n",
      "         2 : p = 0.533945881936 --> 0.516428571429 ( +/- 0.400972457364 )\n",
      "         3 : p = 0.933932964309 --> 0.804273504274 ( +/- 0.268215267032 )\n",
      "         4 : p = 0.699875166505 --> 0.765 ( +/- 0.312265912325 )\n",
      "         5 : p = 0.0352778863244 --> 0.578 ( +/- 0.385980569459 )\n",
      "\n",
      " LB 2017-09-19_152205 = grey\n",
      "stim_tau = 1     Vitesse (deg/s) = 20.0\n",
      "block 1 = (0.50295369187552086, 3.208041014508246e-14)\n",
      "         1 : p = 0.647523519824 --> 0.450943396226 ( +/- 0.266134199024 )\n",
      "         2 : p = 0.159515642516 --> 0.317857142857 ( +/- 0.352457263294 )\n",
      "         3 : p = 0.700809315349 --> 0.730333333333 ( +/- 0.213412485316 )\n",
      "         4 : p = 0.363458203853 --> 0.447954545455 ( +/- 0.242766531554 )\n",
      "         5 : p = 0.0216407145976 --> 0.138888888889 ( +/- 0.179254285208 )\n",
      "         6 : p = 0.770964181565 --> 0.608571428571 ( +/- 0.314792610706 )\n",
      "         7 : p = 0.17987589782 --> 0.437857142857 ( +/- 0.0581781219837 )\n",
      "block 2 = (0.82984048754711914, 4.6426415339102849e-52)\n",
      "         1 : p = 0.309087453462 --> 0.407884615385 ( +/- 0.19187422301 )\n",
      "         2 : p = 0.0239682943655 --> 0.0728703703704 ( +/- 0.107662890594 )\n",
      "         3 : p = 0.986124321066 --> 0.868552631579 ( +/- 0.212679979184 )\n",
      "         4 : p = 0.0102498711568 --> 0.109347826087 ( +/- 0.221875916889 )\n",
      "         5 : p = 0.6131806477 --> 0.51906779661 ( +/- 0.214051860056 )\n",
      "block 3 = (0.67677420131590504, 3.8385023700703265e-28)\n",
      "         1 : p = 0.033071304189 --> 0.177941176471 ( +/- 0.269029075749 )\n",
      "         2 : p = 0.533945881936 --> 0.412857142857 ( +/- 0.224677395331 )\n",
      "         3 : p = 0.933932964309 --> 0.842606837607 ( +/- 0.191157739369 )\n",
      "         4 : p = 0.699875166505 --> 0.714 ( +/- 0.270488447073 )\n",
      "         5 : p = 0.0352778863244 --> 0.376 ( +/- 0.270802511067 )\n",
      "\n",
      " DC 2017-09-26_162348 = rosybrown\n",
      "stim_tau = 0.75     Vitesse (deg/s) = 15.0\n",
      "block 1 = (0.50918126316393875, 1.3701847812441332e-14)\n",
      "         1 : p = 0.647523519824 --> 0.470943396226 ( +/- 0.204662761275 )\n",
      "         2 : p = 0.159515642516 --> 0.382714285714 ( +/- 0.159388755909 )\n",
      "         3 : p = 0.700809315349 --> 0.638 ( +/- 0.148153073992 )\n",
      "         4 : p = 0.363458203853 --> 0.515227272727 ( +/- 0.167918251707 )\n",
      "         5 : p = 0.0216407145976 --> 0.265833333333 ( +/- 0.140573395881 )\n",
      "         6 : p = 0.770964181565 --> 0.65 ( +/- 0.306722303442 )\n",
      "         7 : p = 0.17987589782 --> 0.247857142857 ( +/- 0.199120515246 )\n",
      "block 2 = (0.77696901610713476, 1.1686964421731483e-41)\n",
      "         1 : p = 0.309087453462 --> 0.357307692308 ( +/- 0.261736915657 )\n",
      "         2 : p = 0.0239682943655 --> 0.109814814815 ( +/- 0.0681227307673 )\n",
      "         3 : p = 0.986124321066 --> 0.789868421053 ( +/- 0.232094260689 )\n",
      "         4 : p = 0.0102498711568 --> 0.158695652174 ( +/- 0.226740693646 )\n",
      "         5 : p = 0.6131806477 --> 0.557711864407 ( +/- 0.233864588579 )\n",
      "block 3 = (0.60365149191554823, 3.0485854894580304e-21)\n",
      "         1 : p = 0.033071304189 --> 0.147352941176 ( +/- 0.254090752934 )\n",
      "         2 : p = 0.533945881936 --> 0.425 ( +/- 0.333662932285 )\n",
      "         3 : p = 0.933932964309 --> 0.737008547009 ( +/- 0.190578359312 )\n",
      "         4 : p = 0.699875166505 --> 0.756142857143 ( +/- 0.240642252893 )\n",
      "         5 : p = 0.0352778863244 --> 0.289 ( +/- 0.348495337128 )\n",
      "\n",
      " AM 2017-09-29_123528 = indianred\n",
      "stim_tau = 0.75     Vitesse (deg/s) = 15.0\n",
      "block 1 = (0.56139721955206912, 5.2733221632024479e-18)\n",
      "         1 : p = 0.647523519824 --> 0.510094339623 ( +/- 0.022726648103 )\n",
      "         2 : p = 0.159515642516 --> 0.245571428571 ( +/- 0.192735093656 )\n",
      "         3 : p = 0.700809315349 --> 0.355 ( +/- 0.301369098173 )\n",
      "         4 : p = 0.363458203853 --> 0.468863636364 ( +/- 0.0931144434917 )\n",
      "         5 : p = 0.0216407145976 --> 0.168425925926 ( +/- 0.103112775702 )\n",
      "         6 : p = 0.770964181565 --> 0.498928571429 ( +/- 0.27911325512 )\n",
      "         7 : p = 0.17987589782 --> 0.682857142857 ( +/- 0.0180983706562 )\n",
      "block 2 = (0.71084301082710466, 4.3573871161677074e-32)\n",
      "         1 : p = 0.309087453462 --> 0.547884615385 ( +/- 0.0814787971113 )\n",
      "         2 : p = 0.0239682943655 --> 0.130092592593 ( +/- 0.166197926238 )\n",
      "         3 : p = 0.986124321066 --> 0.800921052632 ( +/- 0.261619086458 )\n",
      "         4 : p = 0.0102498711568 --> 0.227608695652 ( +/- 0.319717502905 )\n",
      "         5 : p = 0.6131806477 --> 0.46093220339 ( +/- 0.15537400088 )\n",
      "block 3 = (0.7415960862549632, 3.5689345530307875e-36)\n",
      "         1 : p = 0.033071304189 --> 0.316176470588 ( +/- 0.192090124465 )\n",
      "         2 : p = 0.533945881936 --> 0.339047619048 ( +/- 0.223194443563 )\n",
      "         3 : p = 0.933932964309 --> 0.917777777778 ( +/- 0.0830004748324 )\n",
      "         4 : p = 0.699875166505 --> 0.703428571429 ( +/- 0.221697256342 )\n",
      "         5 : p = 0.0352778863244 --> 0.5155 ( +/- 0.169977204354 )\n",
      "\n",
      " BMC 2017-09-25_142503 = brown\n",
      "stim_tau = 0.75     Vitesse (deg/s) = 15.0\n",
      "block 1 = (0.79139455365985001, 3.4084127693805055e-44)\n",
      "         1 : p = 0.647523519824 --> 0.669528301887 ( +/- 0.159894611963 )\n",
      "         2 : p = 0.159515642516 --> 0.207 ( +/- 0.217427163502 )\n",
      "         3 : p = 0.700809315349 --> 0.558666666667 ( +/- 0.117082117431 )\n",
      "         4 : p = 0.363458203853 --> 0.378181818182 ( +/- 0.125494888112 )\n",
      "         5 : p = 0.0216407145976 --> 0.0840740740741 ( +/- 0.135503430577 )\n",
      "         6 : p = 0.770964181565 --> 0.671071428571 ( +/- 0.310432754229 )\n",
      "         7 : p = 0.17987589782 --> 0.467857142857 ( +/- 0.0747308094266 )\n",
      "block 2 = (0.80042597582930575, 6.9339003757788264e-46)\n",
      "         1 : p = 0.309087453462 --> 0.495961538462 ( +/- 0.0738634294696 )\n",
      "         2 : p = 0.0239682943655 --> 0.102777777778 ( +/- 0.170461428967 )\n",
      "         3 : p = 0.986124321066 --> 0.865131578947 ( +/- 0.260163124036 )\n",
      "         4 : p = 0.0102498711568 --> 0.126086956522 ( +/- 0.27697887426 )\n",
      "         5 : p = 0.6131806477 --> 0.52093220339 ( +/- 0.159730903414 )\n",
      "block 3 = (0.70910418255062579, 7.1502795821768093e-32)\n",
      "         1 : p = 0.033071304189 --> 0.176470588235 ( +/- 0.224923285653 )\n",
      "         2 : p = 0.533945881936 --> 0.455952380952 ( +/- 0.264843255745 )\n",
      "         3 : p = 0.933932964309 --> 0.851068376068 ( +/- 0.175088291598 )\n",
      "         4 : p = 0.699875166505 --> 0.714 ( +/- 0.205800874634 )\n",
      "         5 : p = 0.0352778863244 --> 0.34 ( +/- 0.37892611417 )\n",
      "\n",
      " OP 2017-10-24_105728 = darkred\n",
      "stim_tau = 0.75     Vitesse (deg/s) = 15.0\n",
      "block 1 = (0.44229685157983073, 5.4846381183691716e-11)\n",
      "         1 : p = 0.647523519824 --> 0.460849056604 ( +/- 0.315515056378 )\n",
      "         2 : p = 0.159515642516 --> 0.335428571429 ( +/- 0.339390991186 )\n",
      "         3 : p = 0.700809315349 --> 0.59 ( +/- 0.239763772632 )\n",
      "         4 : p = 0.363458203853 --> 0.407727272727 ( +/- 0.175179954701 )\n",
      "         5 : p = 0.0216407145976 --> 0.185092592593 ( +/- 0.22755847995 )\n",
      "         6 : p = 0.770964181565 --> 0.661071428571 ( +/- 0.320725620226 )\n",
      "         7 : p = 0.17987589782 --> 0.331428571429 ( +/- 0.0495489862744 )\n",
      "block 2 = (0.77652216967905907, 1.3905598465997764e-41)\n",
      "         1 : p = 0.309087453462 --> 0.330384615385 ( +/- 0.150862412335 )\n",
      "         2 : p = 0.0239682943655 --> 0.0522222222222 ( +/- 0.14603293219 )\n",
      "         3 : p = 0.986124321066 --> 0.881578947368 ( +/- 0.241546838825 )\n",
      "         4 : p = 0.0102498711568 --> 0.0665217391304 ( +/- 0.223453306 )\n",
      "         5 : p = 0.6131806477 --> 0.669491525424 ( +/- 0.38609594719 )\n",
      "block 3 = (0.57697174666136164, 3.8264080491545831e-19)\n",
      "         1 : p = 0.033071304189 --> 0.147058823529 ( +/- 0.227822549777 )\n",
      "         2 : p = 0.533945881936 --> 0.452142857143 ( +/- 0.37460636937 )\n",
      "         3 : p = 0.933932964309 --> 0.798974358974 ( +/- 0.285058502364 )\n",
      "         4 : p = 0.699875166505 --> 0.728571428571 ( +/- 0.249079939631 )\n",
      "         5 : p = 0.0352778863244 --> 0.3005 ( +/- 0.33196724236 )\n"
     ]
    },
    {
     "name": "stdout",
     "output_type": "stream",
     "text": [
      "\n",
      " CS 2017-09-28_154353 = red\n",
      "stim_tau = 0.75     Vitesse (deg/s) = 15.0\n",
      "block 1 = (0.28650665241724677, 3.9059355988164619e-05)\n",
      "         1 : p = 0.647523519824 --> 0.455377358491 ( +/- 0.312599944858 )\n",
      "         2 : p = 0.159515642516 --> 0.441714285714 ( +/- 0.328361610026 )\n",
      "         3 : p = 0.700809315349 --> 0.682666666667 ( +/- 0.373125835194 )\n",
      "         4 : p = 0.363458203853 --> 0.409545454545 ( +/- 0.375087593076 )\n",
      "         5 : p = 0.0216407145976 --> 0.283796296296 ( +/- 0.290789052957 )\n",
      "         6 : p = 0.770964181565 --> 0.653571428571 ( +/- 0.35225512554 )\n",
      "         7 : p = 0.17987589782 --> 0.357142857143 ( +/- 0.257416521043 )\n",
      "block 2 = (0.74234806954475319, 2.788455270982411e-36)\n",
      "         1 : p = 0.309087453462 --> 0.530769230769 ( +/- 0.297165106619 )\n",
      "         2 : p = 0.0239682943655 --> 0.118148148148 ( +/- 0.180393849715 )\n",
      "         3 : p = 0.986124321066 --> 0.888947368421 ( +/- 0.243840321713 )\n",
      "         4 : p = 0.0102498711568 --> 0.0589130434783 ( +/- 0.212623143459 )\n",
      "         5 : p = 0.6131806477 --> 0.562542372881 ( +/- 0.300504340025 )\n",
      "block 3 = (0.58093080146666987, 1.9205792817929342e-19)\n",
      "         1 : p = 0.033071304189 --> 0.247352941176 ( +/- 0.231053327477 )\n",
      "         2 : p = 0.533945881936 --> 0.510952380952 ( +/- 0.286712146369 )\n",
      "         3 : p = 0.933932964309 --> 0.72141025641 ( +/- 0.209523111503 )\n",
      "         4 : p = 0.699875166505 --> 0.589285714286 ( +/- 0.225512568092 )\n",
      "         5 : p = 0.0352778863244 --> 0.273 ( +/- 0.180723545782 )\n"
     ]
    },
    {
     "data": {
      "image/png": "[encoded data removed]",
      "text/plain": [
       "<matplotlib.figure.Figure at 0x7fd56df078d0>"
      ]
     },
     "metadata": {},
     "output_type": "display_data"
    }
   ],
   "source": [
    "fig_width = 20\n",
    "fig, axs = plt.subplots(3, 1, figsize=(fig_width, fig_width/(1.6180)))\n",
    "        \n",
    "mean = []\n",
    "std = []\n",
    "\n",
    "for x, color in enumerate(['black', 'grey', 'rosybrown', 'indianred', 'brown', 'darkred', 'red']):\n",
    "        \n",
    "    N_trials = exp[x]['N_trials']\n",
    "    N_blocks = exp[x]['N_blocks']\n",
    "    p = exp[x]['p']\n",
    "    stick = np.zeros_like(p)\n",
    "    stick[:, :, 0] = np.ones((N_trials, 1)) * np.arange(N_blocks)[np.newaxis, :]\n",
    "    stick[:, :, 1] = np.ones((N_trials, 1)) * np.arange(N_blocks)[np.newaxis, :]\n",
    "    stick[:, :, 2] = np.ones((N_trials, 1)) * np.arange(N_blocks)[np.newaxis, :]\n",
    "    corrects = 0\n",
    "\n",
    "    for i_layer, label in enumerate([r'$\\^x_0$', r'$\\^p$', r'$\\^x_2$']):\n",
    "        #axs[i_layer].set_prop_cycle(cycler('color', [plt.cm.magma(h) for h in np.linspace(0, 1, N_blocks+1)]))\n",
    "        axs[i_layer].step(range(N_trials), p[:, :, i_layer]+stick[:, :, i_layer], lw=1, c='k', alpha=.9)\n",
    "        for i_block in range(N_blocks):\n",
    "            axs[i_layer].fill_between(range(N_trials), i_block + np.zeros_like(p[:, i_block, i_layer]), i_block + p[:, i_block, i_layer], lw=.5, alpha=.03, facecolor='black', step='pre')\n",
    "            #_ = axs[i_layer].fill_between(range(N_trials), i_block + np.ones_like(p[:, i_block, i_layer]), i_block + p[:, i_block, i_layer], lw=.5, alpha=.1, facecolor='red', step='pre')\n",
    "        axs[i_layer].axis('tight')\n",
    "        axs[i_layer].set_yticks(np.arange(N_blocks)+.5)\n",
    "        axs[i_layer].set_yticklabels(np.arange(N_blocks) )\n",
    "        axs[i_layer].set_ylabel(label, fontsize=14)\n",
    "        axs[i_layer].bar(49, 3.1, bottom=-0.05, color='k', width=0, linewidth=2)\n",
    "        axs[i_layer].bar(99, 3.1, bottom=-0.05, color='k', width=0, linewidth=2)\n",
    "        axs[i_layer].bar(149, 3.1, bottom=-0.05, color='k', width=0, linewidth=2)\n",
    "        \n",
    "    results = (exp[x]['results']+1)/2 # results est sur [-1,1] on le ramene sur [0,1]\n",
    "    print('\\n', exp[x]['observer'], exp[x]['timeStr'], '=',color )\n",
    "    print ('stim_tau =', exp[x]['stim_tau'], '    Vitesse (deg/s) =', exp[x]['V_X']/exp[x]['px_per_deg'])\n",
    "\n",
    "    mean_block = []\n",
    "    std_block = []\n",
    "    proba_switch = []\n",
    "    \n",
    "    for block in range(N_blocks):\n",
    "        mean_switch = []\n",
    "        std_switch = []\n",
    "        _ = axs[1].step(range(N_trials), block + results[:, block],  color=color, lw=1, label=exp[x]['observer'])\n",
    "        print('block', block+1, '=', sc.stats.pearsonr(p[:, block, 1], results[:,block]))\n",
    "                \n",
    "        switch = [0]\n",
    "        p_switch = [p[0, block, 1]]\n",
    "        for s in range(N_trials):\n",
    "            if p[s, block, 2]==1 :\n",
    "                switch.append(s)\n",
    "                p_switch.append(p[s, block, 1])\n",
    "        switch.append(N_trials)\n",
    "        \n",
    "        proba_switch.append(p_switch)\n",
    "        \n",
    "        for s1 in range(len(switch)-1) :\n",
    "            mean_s1 = np.mean(results[switch[s1]:switch[s1+1],block])\n",
    "            std_s1 = np.std(results[switch[s1]:switch[s1+1],block])\n",
    "            print('        ',s1+1, ': p =', p_switch[s1] , '-->', mean_s1, '( +/-', std_s1, ')')\n",
    "        \n",
    "            mean_switch.append(mean_s1)\n",
    "            std_switch.append(std_s1)\n",
    "        \n",
    "        mean_block.append(mean_switch)\n",
    "        std_block.append(std_switch)\n",
    "\n",
    "    mean.append(mean_block)\n",
    "    std.append(std_block)\n",
    "    \n",
    "    fig.tight_layout()\n",
    "    for i in range(2): axs[i].set_ylim(-.05, N_blocks + .05)\n",
    "    axs[-1].set_xlabel('trials', fontsize=14)\n",
    "\n",
    "\n",
    "plt.show()"
   ]
  },
  {
   "cell_type": "code",
   "execution_count": 9,
   "metadata": {
    "scrolled": true
   },
   "outputs": [
    {
     "name": "stdout",
     "output_type": "stream",
     "text": [
      "block  0\n",
      "         1 : p = 0.647523519824 --> 0.500215633423 ( +/- 0.209906157936 )\n",
      "         2 : p = 0.159515642516 --> 0.336489795918 ( +/- 0.246556980399 )\n",
      "         3 : p = 0.700809315349 --> 0.584285714286 ( +/- 0.232791253517 )\n",
      "         4 : p = 0.363458203853 --> 0.444935064935 ( +/- 0.17714669818 )\n",
      "         5 : p = 0.0216407145976 --> 0.199880952381 ( +/- 0.185509051416 )\n",
      "         6 : p = 0.770964181565 --> 0.622959183673 ( +/- 0.314676770419 )\n",
      "         7 : p = 0.17987589782 --> 0.428367346939 ( +/- 0.121266486355 )\n",
      "block  1\n",
      "         1 : p = 0.309087453462 --> 0.456785714286 ( +/- 0.172542037255 )\n",
      "         2 : p = 0.0239682943655 --> 0.100740740741 ( +/- 0.148966803918 )\n",
      "         3 : p = 0.986124321066 --> 0.856616541353 ( +/- 0.239532733576 )\n",
      "         4 : p = 0.0102498711568 --> 0.115 ( +/- 0.241887559751 )\n",
      "         5 : p = 0.6131806477 --> 0.536610169492 ( +/- 0.24405876202 )\n",
      "block  2\n",
      "         1 : p = 0.033071304189 --> 0.183655462185 ( +/- 0.216471297565 )\n",
      "         2 : p = 0.533945881936 --> 0.44462585034 ( +/- 0.301238428575 )\n",
      "         3 : p = 0.933932964309 --> 0.810445665446 ( +/- 0.200374535144 )\n",
      "         4 : p = 0.699875166505 --> 0.71006122449 ( +/- 0.246498178713 )\n",
      "         5 : p = 0.0352778863244 --> 0.381714285714 ( +/- 0.295267503474 )\n"
     ]
    }
   ],
   "source": [
    "moyenne = []\n",
    "ecart_type = []\n",
    "for block in range(len(mean[0])) :\n",
    "    moyenne_switch_block = []\n",
    "    std_switch_block = []\n",
    "    \n",
    "    print('block ', block)\n",
    "    for switch in range(len(mean[0][block])):\n",
    "        liste_moyenne = []\n",
    "        liste_std = []\n",
    "        for sujet in range(len(mean)) :\n",
    "            liste_moyenne.append(mean[sujet][block][switch])\n",
    "            liste_std.append(std[sujet][block][switch])\n",
    "            #print (sujet, block, switch, '-->', mean[sujet][block][switch])\n",
    "        moyenne_switch_block.append(np.mean(liste_moyenne))\n",
    "        std_switch_block.append(np.mean(liste_std))\n",
    "        \n",
    "        print('        ',switch+1, ': p =', proba_switch[block][switch] , '-->', np.mean(liste_moyenne), '( +/-', np.mean(liste_std),')')\n",
    "        \n",
    "    moyenne.append(moyenne_switch_block)\n",
    "    ecart_type.append(std_switch_block)"
   ]
  },
  {
   "cell_type": "code",
   "execution_count": null,
   "metadata": {
    "collapsed": true
   },
   "outputs": [],
   "source": []
  }
 ],
 "metadata": {
  "kernelspec": {
   "display_name": "Python 3",
   "language": "python",
   "name": "python3"
  },
  "language_info": {
   "codemirror_mode": {
    "name": "ipython",
    "version": 3
   },
   "file_extension": ".py",
   "mimetype": "text/x-python",
   "name": "python",
   "nbconvert_exporter": "python",
   "pygments_lexer": "ipython3",
   "version": "3.5.2"
  }
 },
 "nbformat": 4,
 "nbformat_minor": 1
}
