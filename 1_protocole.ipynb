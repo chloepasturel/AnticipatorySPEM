{
 "cells": [
  {
   "cell_type": "code",
   "execution_count": 1,
   "metadata": {},
   "outputs": [],
   "source": [
    "import os\n",
    "if not os.path.exists('figures/protocol'):\n",
    "    os.makedirs('figures/protocol')"
   ]
  },
  {
   "cell_type": "code",
   "execution_count": 2,
   "metadata": {},
   "outputs": [],
   "source": [
    "msfigpath = '../PasturelMontagniniPerrinet2019/figures'\n",
    "if not os.path.exists(msfigpath):\n",
    "    os.makedirs(msfigpath)"
   ]
  },
  {
   "cell_type": "raw",
   "metadata": {},
   "source": [
    "!pip3 install git+https://github.com/mkrphys/ipython-tikzmagic"
   ]
  },
  {
   "cell_type": "raw",
   "metadata": {
    "ExecuteTime": {
     "end_time": "2018-07-03T10:34:12.870617Z",
     "start_time": "2018-07-03T10:34:12.282599Z"
    }
   },
   "source": [
    "import tikzmagic"
   ]
  },
  {
   "cell_type": "raw",
   "metadata": {},
   "source": [
    "tikzmagic?"
   ]
  },
  {
   "cell_type": "code",
   "execution_count": 3,
   "metadata": {
    "ExecuteTime": {
     "end_time": "2018-07-03T10:34:12.889183Z",
     "start_time": "2018-07-03T10:34:12.878463Z"
    }
   },
   "outputs": [],
   "source": [
    "%load_ext tikzmagic"
   ]
  },
  {
   "cell_type": "raw",
   "metadata": {},
   "source": [
    "%%tikz \n",
    "\\draw (0,0) rectangle (1,1);"
   ]
  },
  {
   "cell_type": "raw",
   "metadata": {},
   "source": [
    "help(tikzmagic)"
   ]
  },
  {
   "cell_type": "code",
   "execution_count": 4,
   "metadata": {
    "ExecuteTime": {
     "end_time": "2018-07-03T10:34:13.243951Z",
     "start_time": "2018-07-03T10:34:12.897040Z"
    },
    "scrolled": true
   },
   "outputs": [
    {
     "data": {
      "application/json": {
       "Software versions": [
        {
         "module": "Python",
         "version": "3.7.3 64bit [Clang 10.0.1 (clang-1001.0.46.3)]"
        },
        {
         "module": "IPython",
         "version": "7.5.0"
        },
        {
         "module": "OS",
         "version": "Darwin 18.5.0 x86_64 i386 64bit"
        },
        {
         "module": "numpy",
         "version": "1.16.3"
        },
        {
         "module": "tikzmagic",
         "version": "0.1.1"
        }
       ]
      },
      "text/html": [
       "<table><tr><th>Software</th><th>Version</th></tr><tr><td>Python</td><td>3.7.3 64bit [Clang 10.0.1 (clang-1001.0.46.3)]</td></tr><tr><td>IPython</td><td>7.5.0</td></tr><tr><td>OS</td><td>Darwin 18.5.0 x86_64 i386 64bit</td></tr><tr><td>numpy</td><td>1.16.3</td></tr><tr><td>tikzmagic</td><td>0.1.1</td></tr><tr><td colspan='2'>Tue May 14 15:21:45 2019 CEST</td></tr></table>"
      ],
      "text/latex": [
       "\\begin{tabular}{|l|l|}\\hline\n",
       "{\\bf Software} & {\\bf Version} \\\\ \\hline\\hline\n",
       "Python & 3.7.3 64bit [Clang 10.0.1 (clang-1001.0.46.3)] \\\\ \\hline\n",
       "IPython & 7.5.0 \\\\ \\hline\n",
       "OS & Darwin 18.5.0 x86\\_64 i386 64bit \\\\ \\hline\n",
       "numpy & 1.16.3 \\\\ \\hline\n",
       "tikzmagic & 0.1.1 \\\\ \\hline\n",
       "\\hline \\multicolumn{2}{|l|}{Tue May 14 15:21:45 2019 CEST} \\\\ \\hline\n",
       "\\end{tabular}\n"
      ],
      "text/plain": [
       "Software versions\n",
       "Python 3.7.3 64bit [Clang 10.0.1 (clang-1001.0.46.3)]\n",
       "IPython 7.5.0\n",
       "OS Darwin 18.5.0 x86_64 i386 64bit\n",
       "numpy 1.16.3\n",
       "tikzmagic 0.1.1\n",
       "Tue May 14 15:21:45 2019 CEST"
      ]
     },
     "execution_count": 4,
     "metadata": {},
     "output_type": "execute_result"
    }
   ],
   "source": [
    "%load_ext version_information\n",
    "%version_information numpy, tikzmagic"
   ]
  },
  {
   "cell_type": "code",
   "execution_count": 5,
   "metadata": {},
   "outputs": [],
   "source": [
    "preamble = r'''\n",
    "\\tikzstyle{BLOCK} = [line width=0.1mm, color=black!75!white, fill=black!50!white]\n",
    "\\tikzstyle{TITRE} = [scale=\\Titre, font =\\sffamily]\n",
    "\\tikzstyle{SSTITRE} = [scale=\\sousTitre, font =\\sffamily]\n",
    "\\tikzstyle{TEXT} = [scale=\\text, font =\\sffamily]\n",
    "\\tikzstyle{ARROW} = [line width=1mm, >=triangle 60]\n",
    "\\tikzstyle{CIRCLE} = [line width=\\lw, color=white, fill=black!50!white]\n",
    "'''"
   ]
  },
  {
   "cell_type": "markdown",
   "metadata": {},
   "source": [
    "# protocol_recording"
   ]
  },
  {
   "cell_type": "code",
   "execution_count": 6,
   "metadata": {
    "ExecuteTime": {
     "end_time": "2018-07-03T10:34:13.258190Z",
     "start_time": "2018-07-03T10:34:13.251661Z"
    }
   },
   "outputs": [],
   "source": [
    "figname = 'protocol/protocol_recording_simple'"
   ]
  },
  {
   "cell_type": "raw",
   "metadata": {
    "ExecuteTime": {
     "end_time": "2018-07-03T10:34:13.433631Z",
     "start_time": "2018-07-03T10:34:13.265469Z"
    }
   },
   "source": [
    "!rm  -f figures/{figname}*"
   ]
  },
  {
   "cell_type": "code",
   "execution_count": 7,
   "metadata": {
    "ExecuteTime": {
     "end_time": "2018-07-03T10:34:23.511369Z",
     "start_time": "2018-07-03T10:34:13.444164Z"
    },
    "scrolled": true
   },
   "outputs": [
    {
     "name": "stderr",
     "output_type": "stream",
     "text": [
      "LaTeX terminated with signal -1\n"
     ]
    },
    {
     "data": {
      "text/plain": [
       "This is pdfTeX, Version 3.14159265-2.6-1.40.20 (TeX Live 2019) (preloaded format=pdflatex 2019.5.10)  14 MAY 2019 15:21\n",
       "entering extended mode\n",
       " \\write18 enabled.\n",
       " %&-line parsing enabled.\n",
       "**tikz.tex\n",
       "(./tikz.tex\n",
       "LaTeX2e <2018-12-01>\n",
       "(/usr/local/texlive/2019/texmf-dist/tex/latex/standalone/standalone.cls\n",
       "Document Class: standalone 2018/03/26 v1.3a Class to compile TeX sub-files stan\n",
       "dalone\n",
       "(/usr/local/texlive/2019/texmf-dist/tex/latex/tools/shellesc.sty\n",
       "Package: shellesc 2016/06/07 v0.02a unified shell escape interface for LaTeX\n",
       "Package shellesc Info: Unrestricted shell escape enabled on input line 67.\n",
       ")\n",
       "(/usr/local/texlive/2019/texmf-dist/tex/generic/oberdiek/ifluatex.sty\n",
       "Package: ifluatex 2016/05/16 v1.4 Provides the ifluatex switch (HO)\n",
       "Package ifluatex Info: LuaTeX not detected.\n",
       ")\n",
       "(/usr/local/texlive/2019/texmf-dist/tex/generic/oberdiek/ifpdf.sty\n",
       "Package: ifpdf 2018/09/07 v3.3 Provides the ifpdf switch\n",
       ")\n",
       "(/usr/local/texlive/2019/texmf-dist/tex/generic/ifxetex/ifxetex.sty\n",
       "Package: ifxetex 2010/09/12 v0.6 Provides ifxetex conditional\n",
       ")\n",
       "(/usr/local/texlive/2019/texmf-dist/tex/latex/xkeyval/xkeyval.sty\n",
       "Package: xkeyval 2014/12/03 v2.7a package option processing (HA)\n",
       "\n",
       "(/usr/local/texlive/2019/texmf-dist/tex/generic/xkeyval/xkeyval.tex\n",
       "(/usr/local/texlive/2019/texmf-dist/tex/generic/xkeyval/xkvutils.tex\n",
       "\\XKV@toks=\\toks14\n",
       "\\XKV@tempa@toks=\\toks15\n",
       "\n",
       "(/usr/local/texlive/2019/texmf-dist/tex/generic/xkeyval/keyval.tex))\n",
       "\\XKV@depth=\\count80\n",
       "File: xkeyval.tex 2014/12/03 v2.7a key=value parser (HA)\n",
       "))\n",
       "\\sa@internal=\\count81\n",
       "\\c@sapage=\\count82\n",
       "\n",
       "(/usr/local/texlive/2019/texmf-dist/tex/latex/standalone/standalone.cfg\n",
       "File: standalone.cfg 2018/03/26 v1.3a Default configuration file for 'standalon\n",
       "e' class\n",
       ")\n",
       "(/usr/local/texlive/2019/texmf-dist/tex/latex/base/article.cls\n",
       "Document Class: article 2018/09/03 v1.4i Standard LaTeX document class\n",
       "(/usr/local/texlive/2019/texmf-dist/tex/latex/base/size10.clo\n",
       "File: size10.clo 2018/09/03 v1.4i Standard LaTeX file (size option)\n",
       ")\n",
       "\\c@part=\\count83\n",
       "\\c@section=\\count84\n",
       "\\c@subsection=\\count85\n",
       "\\c@subsubsection=\\count86\n",
       "\\c@paragraph=\\count87\n",
       "\\c@subparagraph=\\count88\n",
       "\\c@figure=\\count89\n",
       "\\c@table=\\count90\n",
       "\\abovecaptionskip=\\skip41\n",
       "\\belowcaptionskip=\\skip42\n",
       "\\bibindent=\\dimen102\n",
       ")\n",
       "\\sa@box=\\box27\n",
       "runsystem(pdflatex  -shell-escape  -jobname 'tikz' '\\expandafter\\def\\csname sa@\n",
       "internal@run\\endcsname{1}\\input{tikz}')...executed.\n",
       "\n",
       "runsystem(convert -density 300 -units PixelsPerInch tikz.pdf -resize 400x240 -q\n",
       "uality 90 tikz.png)...executed.\n",
       "\n",
       "\n",
       "\n",
       "Class standalone Warning: Conversion unsuccessful!\n",
       "(standalone)              There might be something wrong with your\n",
       "(standalone)              conversation software or the file permissions!\n",
       "\n",
       ") (/usr/local/texlive/2019/texmf-dist/tex/latex/pgf/frontendlayer/tikz.sty\n",
       "(/usr/local/texlive/2019/texmf-dist/tex/latex/pgf/basiclayer/pgf.sty\n",
       "(/usr/local/texlive/2019/texmf-dist/tex/latex/pgf/utilities/pgfrcs.sty\n",
       "(/usr/local/texlive/2019/texmf-dist/tex/generic/pgf/utilities/pgfutil-common.te\n",
       "x\n",
       "\\pgfutil@everybye=\\toks16\n",
       "\\pgfutil@tempdima=\\dimen103\n",
       "\\pgfutil@tempdimb=\\dimen104\n",
       "\n",
       "(/usr/local/texlive/2019/texmf-dist/tex/generic/pgf/utilities/pgfutil-common-li\n",
       "sts.tex))\n",
       "(/usr/local/texlive/2019/texmf-dist/tex/generic/pgf/utilities/pgfutil-latex.def\n",
       "\\pgfutil@abb=\\box28\n",
       "(/usr/local/texlive/2019/texmf-dist/tex/latex/ms/everyshi.sty\n",
       "Package: everyshi 2001/05/15 v3.00 EveryShipout Package (MS)\n",
       "))\n",
       "(/usr/local/texlive/2019/texmf-dist/tex/generic/pgf/utilities/pgfrcs.code.tex\n",
       "(/usr/local/texlive/2019/texmf-dist/tex/generic/pgf/pgf.revision.tex)\n",
       "Package: pgfrcs 2019/02/02 v3.1.1 (3.1.1)\n",
       "))\n",
       "Package: pgf 2019/02/02 v3.1.1 (3.1.1)\n",
       "\n",
       "(/usr/local/texlive/2019/texmf-dist/tex/latex/pgf/basiclayer/pgfcore.sty\n",
       "(/usr/local/texlive/2019/texmf-dist/tex/latex/graphics/graphicx.sty\n",
       "Package: graphicx 2017/06/01 v1.1a Enhanced LaTeX Graphics (DPC,SPQR)\n",
       "\n",
       "(/usr/local/texlive/2019/texmf-dist/tex/latex/graphics/graphics.sty\n",
       "Package: graphics 2017/06/25 v1.2c Standard LaTeX Graphics (DPC,SPQR)\n",
       "\n",
       "(/usr/local/texlive/2019/texmf-dist/tex/latex/graphics/trig.sty\n",
       "Package: trig 2016/01/03 v1.10 sin cos tan (DPC)\n",
       ")\n",
       "(/usr/local/texlive/2019/texmf-dist/tex/latex/graphics-cfg/graphics.cfg\n",
       "File: graphics.cfg 2016/06/04 v1.11 sample graphics configuration\n",
       ")\n",
       "Package graphics Info: Driver file: pdftex.def on input line 99.\n",
       "\n",
       "(/usr/local/texlive/2019/texmf-dist/tex/latex/graphics-def/pdftex.def\n",
       "File: pdftex.def 2018/01/08 v1.0l Graphics/color driver for pdftex\n",
       "))\n",
       "\\Gin@req@height=\\dimen105\n",
       "\\Gin@req@width=\\dimen106\n",
       ")\n",
       "(/usr/local/texlive/2019/texmf-dist/tex/latex/pgf/systemlayer/pgfsys.sty\n",
       "(/usr/local/texlive/2019/texmf-dist/tex/generic/pgf/systemlayer/pgfsys.code.tex\n",
       "Package: pgfsys 2019/02/02 v3.1.1 (3.1.1)\n",
       "(/usr/local/texlive/2019/texmf-dist/tex/generic/pgf/utilities/pgfkeys.code.tex\n",
       "\\pgfkeys@pathtoks=\\toks17\n",
       "\\pgfkeys@temptoks=\\toks18\n",
       "\n",
       "(/usr/local/texlive/2019/texmf-dist/tex/generic/pgf/utilities/pgfkeysfiltered.c\n",
       "ode.tex\n",
       "\\pgfkeys@tmptoks=\\toks19\n",
       "))\n",
       "\\pgf@x=\\dimen107\n",
       "\\pgf@y=\\dimen108\n",
       "\\pgf@xa=\\dimen109\n",
       "\\pgf@ya=\\dimen110\n",
       "\\pgf@xb=\\dimen111\n",
       "\\pgf@yb=\\dimen112\n",
       "\\pgf@xc=\\dimen113\n",
       "\\pgf@yc=\\dimen114\n",
       "\\w@pgf@writea=\\write3\n",
       "\\r@pgf@reada=\\read1\n",
       "\\c@pgf@counta=\\count91\n",
       "\\c@pgf@countb=\\count92\n",
       "\\c@pgf@countc=\\count93\n",
       "\\c@pgf@countd=\\count94\n",
       "\\t@pgf@toka=\\toks20\n",
       "\\t@pgf@tokb=\\toks21\n",
       "\\t@pgf@tokc=\\toks22\n",
       "\\pgf@sys@id@count=\\count95\n",
       "\n",
       "(/usr/local/texlive/2019/texmf-dist/tex/generic/pgf/systemlayer/pgf.cfg\n",
       "File: pgf.cfg 2019/02/02 v3.1.1 (3.1.1)\n",
       ")\n",
       "Driver file for pgf: pgfsys-pdftex.def\n",
       "\n",
       "(/usr/local/texlive/2019/texmf-dist/tex/generic/pgf/systemlayer/pgfsys-pdftex.d\n",
       "ef\n",
       "File: pgfsys-pdftex.def 2019/02/02 v3.1.1 (3.1.1)\n",
       "\n",
       "(/usr/local/texlive/2019/texmf-dist/tex/generic/pgf/systemlayer/pgfsys-common-p\n",
       "df.def\n",
       "File: pgfsys-common-pdf.def 2019/02/02 v3.1.1 (3.1.1)\n",
       ")))\n",
       "(/usr/local/texlive/2019/texmf-dist/tex/generic/pgf/systemlayer/pgfsyssoftpath.\n",
       "code.tex\n",
       "File: pgfsyssoftpath.code.tex 2019/02/02 v3.1.1 (3.1.1)\n",
       "\\pgfsyssoftpath@smallbuffer@items=\\count96\n",
       "\\pgfsyssoftpath@bigbuffer@items=\\count97\n",
       ")\n",
       "(/usr/local/texlive/2019/texmf-dist/tex/generic/pgf/systemlayer/pgfsysprotocol.\n",
       "code.tex\n",
       "File: pgfsysprotocol.code.tex 2019/02/02 v3.1.1 (3.1.1)\n",
       ")) (/usr/local/texlive/2019/texmf-dist/tex/latex/xcolor/xcolor.sty\n",
       "Package: xcolor 2016/05/11 v2.12 LaTeX color extensions (UK)\n",
       "\n",
       "(/usr/local/texlive/2019/texmf-dist/tex/latex/graphics-cfg/color.cfg\n",
       "File: color.cfg 2016/01/02 v1.6 sample color configuration\n",
       ")\n",
       "Package xcolor Info: Driver file: pdftex.def on input line 225.\n",
       "Package xcolor Info: Model `cmy' substituted by `cmy0' on input line 1348.\n",
       "Package xcolor Info: Model `hsb' substituted by `rgb' on input line 1352.\n",
       "Package xcolor Info: Model `RGB' extended on input line 1364.\n",
       "Package xcolor Info: Model `HTML' substituted by `rgb' on input line 1366.\n",
       "Package xcolor Info: Model `Hsb' substituted by `hsb' on input line 1367.\n",
       "Package xcolor Info: Model `tHsb' substituted by `hsb' on input line 1368.\n",
       "Package xcolor Info: Model `HSB' substituted by `hsb' on input line 1369.\n",
       "Package xcolor Info: Model `Gray' substituted by `gray' on input line 1370.\n",
       "Package xcolor Info: Model `wave' substituted by `hsb' on input line 1371.\n",
       ")\n",
       "(/usr/local/texlive/2019/texmf-dist/tex/generic/pgf/basiclayer/pgfcore.code.tex\n",
       "Package: pgfcore 2019/02/02 v3.1.1 (3.1.1)\n",
       "(/usr/local/texlive/2019/texmf-dist/tex/generic/pgf/math/pgfmath.code.tex\n",
       "(/usr/local/texlive/2019/texmf-dist/tex/generic/pgf/math/pgfmathcalc.code.tex\n",
       "(/usr/local/texlive/2019/texmf-dist/tex/generic/pgf/math/pgfmathutil.code.tex)\n",
       "(/usr/local/texlive/2019/texmf-dist/tex/generic/pgf/math/pgfmathparser.code.tex\n",
       "\\pgfmath@dimen=\\dimen115\n",
       "\\pgfmath@count=\\count98\n",
       "\\pgfmath@box=\\box29\n",
       "\\pgfmath@toks=\\toks23\n",
       "\\pgfmath@stack@operand=\\toks24\n",
       "\\pgfmath@stack@operation=\\toks25\n",
       ")\n",
       "(/usr/local/texlive/2019/texmf-dist/tex/generic/pgf/math/pgfmathfunctions.code.\n",
       "tex\n",
       "(/usr/local/texlive/2019/texmf-dist/tex/generic/pgf/math/pgfmathfunctions.basic\n",
       ".code.tex)\n",
       "(/usr/local/texlive/2019/texmf-dist/tex/generic/pgf/math/pgfmathfunctions.trigo\n",
       "nometric.code.tex)\n",
       "(/usr/local/texlive/2019/texmf-dist/tex/generic/pgf/math/pgfmathfunctions.rando\n",
       "m.code.tex)\n",
       "(/usr/local/texlive/2019/texmf-dist/tex/generic/pgf/math/pgfmathfunctions.compa\n",
       "rison.code.tex)\n",
       "(/usr/local/texlive/2019/texmf-dist/tex/generic/pgf/math/pgfmathfunctions.base.\n",
       "code.tex)\n",
       "(/usr/local/texlive/2019/texmf-dist/tex/generic/pgf/math/pgfmathfunctions.round\n",
       ".code.tex)\n",
       "(/usr/local/texlive/2019/texmf-dist/tex/generic/pgf/math/pgfmathfunctions.misc.\n",
       "code.tex)\n",
       "(/usr/local/texlive/2019/texmf-dist/tex/generic/pgf/math/pgfmathfunctions.integ\n",
       "erarithmetics.code.tex)))\n",
       "(/usr/local/texlive/2019/texmf-dist/tex/generic/pgf/math/pgfmathfloat.code.tex\n",
       "\\c@pgfmathroundto@lastzeros=\\count99\n",
       "))\n",
       "(/usr/local/texlive/2019/texmf-dist/tex/generic/pgf/basiclayer/pgfcorepoints.co\n",
       "de.tex\n",
       "File: pgfcorepoints.code.tex 2019/02/02 v3.1.1 (3.1.1)\n",
       "\\pgf@picminx=\\dimen116\n",
       "\\pgf@picmaxx=\\dimen117\n",
       "\\pgf@picminy=\\dimen118\n",
       "\\pgf@picmaxy=\\dimen119\n",
       "\\pgf@pathminx=\\dimen120\n",
       "\\pgf@pathmaxx=\\dimen121\n",
       "\\pgf@pathminy=\\dimen122\n",
       "\\pgf@pathmaxy=\\dimen123\n",
       "\\pgf@xx=\\dimen124\n",
       "\\pgf@xy=\\dimen125\n",
       "\\pgf@yx=\\dimen126\n",
       "\\pgf@yy=\\dimen127\n",
       "\\pgf@zx=\\dimen128\n",
       "\\pgf@zy=\\dimen129\n",
       ")\n",
       "(/usr/local/texlive/2019/texmf-dist/tex/generic/pgf/basiclayer/pgfcorepathconst\n",
       "ruct.code.tex\n",
       "File: pgfcorepathconstruct.code.tex 2019/02/02 v3.1.1 (3.1.1)\n",
       "\\pgf@path@lastx=\\dimen130\n",
       "\\pgf@path@lasty=\\dimen131\n",
       ")\n",
       "(/usr/local/texlive/2019/texmf-dist/tex/generic/pgf/basiclayer/pgfcorepathusage\n",
       ".code.tex\n",
       "File: pgfcorepathusage.code.tex 2019/02/02 v3.1.1 (3.1.1)\n",
       "\\pgf@shorten@end@additional=\\dimen132\n",
       "\\pgf@shorten@start@additional=\\dimen133\n",
       ")\n",
       "(/usr/local/texlive/2019/texmf-dist/tex/generic/pgf/basiclayer/pgfcorescopes.co\n",
       "de.tex\n",
       "File: pgfcorescopes.code.tex 2019/02/02 v3.1.1 (3.1.1)\n",
       "\\pgfpic=\\box30\n",
       "\\pgf@hbox=\\box31\n",
       "\\pgf@layerbox@main=\\box32\n",
       "\\pgf@picture@serial@count=\\count100\n",
       ")\n",
       "(/usr/local/texlive/2019/texmf-dist/tex/generic/pgf/basiclayer/pgfcoregraphicst\n",
       "ate.code.tex\n",
       "File: pgfcoregraphicstate.code.tex 2019/02/02 v3.1.1 (3.1.1)\n",
       "\\pgflinewidth=\\dimen134\n",
       ")\n",
       "(/usr/local/texlive/2019/texmf-dist/tex/generic/pgf/basiclayer/pgfcoretransform\n",
       "ations.code.tex\n",
       "File: pgfcoretransformations.code.tex 2019/02/02 v3.1.1 (3.1.1)\n",
       "\\pgf@pt@x=\\dimen135\n",
       "\\pgf@pt@y=\\dimen136\n",
       "\\pgf@pt@temp=\\dimen137\n",
       ")\n",
       "(/usr/local/texlive/2019/texmf-dist/tex/generic/pgf/basiclayer/pgfcorequick.cod\n",
       "e.tex\n",
       "File: pgfcorequick.code.tex 2019/02/02 v3.1.1 (3.1.1)\n",
       ")\n",
       "(/usr/local/texlive/2019/texmf-dist/tex/generic/pgf/basiclayer/pgfcoreobjects.c\n",
       "ode.tex\n",
       "File: pgfcoreobjects.code.tex 2019/02/02 v3.1.1 (3.1.1)\n",
       ")\n",
       "(/usr/local/texlive/2019/texmf-dist/tex/generic/pgf/basiclayer/pgfcorepathproce\n",
       "ssing.code.tex\n",
       "File: pgfcorepathprocessing.code.tex 2019/02/02 v3.1.1 (3.1.1)\n",
       ")\n",
       "(/usr/local/texlive/2019/texmf-dist/tex/generic/pgf/basiclayer/pgfcorearrows.co\n",
       "de.tex\n",
       "File: pgfcorearrows.code.tex 2019/02/02 v3.1.1 (3.1.1)\n",
       "\\pgfarrowsep=\\dimen138\n",
       ")\n",
       "(/usr/local/texlive/2019/texmf-dist/tex/generic/pgf/basiclayer/pgfcoreshade.cod\n",
       "e.tex\n",
       "File: pgfcoreshade.code.tex 2019/02/02 v3.1.1 (3.1.1)\n",
       "\\pgf@max=\\dimen139\n",
       "\\pgf@sys@shading@range@num=\\count101\n",
       ")\n",
       "(/usr/local/texlive/2019/texmf-dist/tex/generic/pgf/basiclayer/pgfcoreimage.cod\n",
       "e.tex\n",
       "File: pgfcoreimage.code.tex 2019/02/02 v3.1.1 (3.1.1)\n",
       "\n",
       "(/usr/local/texlive/2019/texmf-dist/tex/generic/pgf/basiclayer/pgfcoreexternal.\n",
       "code.tex\n",
       "File: pgfcoreexternal.code.tex 2019/02/02 v3.1.1 (3.1.1)\n",
       "\\pgfexternal@startupbox=\\box33\n",
       "))\n",
       "(/usr/local/texlive/2019/texmf-dist/tex/generic/pgf/basiclayer/pgfcorelayers.co\n",
       "de.tex\n",
       "File: pgfcorelayers.code.tex 2019/02/02 v3.1.1 (3.1.1)\n",
       ")\n",
       "(/usr/local/texlive/2019/texmf-dist/tex/generic/pgf/basiclayer/pgfcoretranspare\n",
       "ncy.code.tex\n",
       "File: pgfcoretransparency.code.tex 2019/02/02 v3.1.1 (3.1.1)\n",
       ")\n",
       "(/usr/local/texlive/2019/texmf-dist/tex/generic/pgf/basiclayer/pgfcorepatterns.\n",
       "code.tex\n",
       "File: pgfcorepatterns.code.tex 2019/02/02 v3.1.1 (3.1.1)\n",
       ")\n",
       "(/usr/local/texlive/2019/texmf-dist/tex/generic/pgf/basiclayer/pgfcorerdf.code.\n",
       "tex\n",
       "File: pgfcorerdf.code.tex 2019/02/02 v3.1.1 (3.1.1)\n",
       ")))\n",
       "(/usr/local/texlive/2019/texmf-dist/tex/generic/pgf/modules/pgfmoduleshapes.cod\n",
       "e.tex\n",
       "File: pgfmoduleshapes.code.tex 2019/02/02 v3.1.1 (3.1.1)\n",
       "\\pgfnodeparttextbox=\\box34\n",
       ")\n",
       "(/usr/local/texlive/2019/texmf-dist/tex/generic/pgf/modules/pgfmoduleplot.code.\n",
       "tex\n",
       "File: pgfmoduleplot.code.tex 2019/02/02 v3.1.1 (3.1.1)\n",
       ")\n",
       "(/usr/local/texlive/2019/texmf-dist/tex/latex/pgf/compatibility/pgfcomp-version\n",
       "-0-65.sty\n",
       "Package: pgfcomp-version-0-65 2019/02/02 v3.1.1 (3.1.1)\n",
       "\\pgf@nodesepstart=\\dimen140\n",
       "\\pgf@nodesepend=\\dimen141\n",
       ")\n",
       "(/usr/local/texlive/2019/texmf-dist/tex/latex/pgf/compatibility/pgfcomp-version\n",
       "-1-18.sty\n",
       "Package: pgfcomp-version-1-18 2019/02/02 v3.1.1 (3.1.1)\n",
       "))\n",
       "(/usr/local/texlive/2019/texmf-dist/tex/latex/pgf/utilities/pgffor.sty\n",
       "(/usr/local/texlive/2019/texmf-dist/tex/latex/pgf/utilities/pgfkeys.sty\n",
       "(/usr/local/texlive/2019/texmf-dist/tex/generic/pgf/utilities/pgfkeys.code.tex)\n",
       ") (/usr/local/texlive/2019/texmf-dist/tex/latex/pgf/math/pgfmath.sty\n",
       "(/usr/local/texlive/2019/texmf-dist/tex/generic/pgf/math/pgfmath.code.tex))\n",
       "(/usr/local/texlive/2019/texmf-dist/tex/generic/pgf/utilities/pgffor.code.tex\n",
       "Package: pgffor 2019/02/02 v3.1.1 (3.1.1)\n",
       "\n",
       "(/usr/local/texlive/2019/texmf-dist/tex/generic/pgf/math/pgfmath.code.tex)\n",
       "\\pgffor@iter=\\dimen142\n",
       "\\pgffor@skip=\\dimen143\n",
       "\\pgffor@stack=\\toks26\n",
       "\\pgffor@toks=\\toks27\n",
       "))\n",
       "(/usr/local/texlive/2019/texmf-dist/tex/generic/pgf/frontendlayer/tikz/tikz.cod\n",
       "e.tex\n",
       "Package: tikz 2019/02/02 v3.1.1 (3.1.1)\n",
       "\n",
       "(/usr/local/texlive/2019/texmf-dist/tex/generic/pgf/libraries/pgflibraryplothan\n",
       "dlers.code.tex\n",
       "File: pgflibraryplothandlers.code.tex 2019/02/02 v3.1.1 (3.1.1)\n",
       "\\pgf@plot@mark@count=\\count102\n",
       "\\pgfplotmarksize=\\dimen144\n",
       ")\n",
       "\\tikz@lastx=\\dimen145\n",
       "\\tikz@lasty=\\dimen146\n",
       "\\tikz@lastxsaved=\\dimen147\n",
       "\\tikz@lastysaved=\\dimen148\n",
       "\\tikzleveldistance=\\dimen149\n",
       "\\tikzsiblingdistance=\\dimen150\n",
       "\\tikz@figbox=\\box35\n",
       "\\tikz@figbox@bg=\\box36\n",
       "\\tikz@tempbox=\\box37\n",
       "\\tikz@tempbox@bg=\\box38\n",
       "\\tikztreelevel=\\count103\n",
       "\\tikznumberofchildren=\\count104\n",
       "\\tikznumberofcurrentchild=\\count105\n",
       "\\tikz@fig@count=\\count106\n",
       "\n",
       "(/usr/local/texlive/2019/texmf-dist/tex/generic/pgf/modules/pgfmodulematrix.cod\n",
       "e.tex\n",
       "File: pgfmodulematrix.code.tex 2019/02/02 v3.1.1 (3.1.1)\n",
       "\\pgfmatrixcurrentrow=\\count107\n",
       "\\pgfmatrixcurrentcolumn=\\count108\n",
       "\\pgf@matrix@numberofcolumns=\\count109\n",
       ")\n",
       "\\tikz@expandcount=\\count110\n",
       "\n",
       "(/usr/local/texlive/2019/texmf-dist/tex/generic/pgf/frontendlayer/tikz/librarie\n",
       "s/tikzlibrarytopaths.code.tex\n",
       "File: tikzlibrarytopaths.code.tex 2019/02/02 v3.1.1 (3.1.1)\n",
       ")))\n",
       "Runaway argument?\n",
       " \n",
       "! Paragraph ended before \\tikz@style@parseA was complete.\n",
       "<to be read again> \n",
       "                   \\par \n",
       "l.10 \n",
       "     \n",
       "? \n",
       "! Emergency stop.\n",
       "<to be read again> \n",
       "                   \\par \n",
       "l.10 \n",
       "     \n",
       "End of file on the terminal!\n",
       "\n",
       " \n",
       "Here is how much of TeX's memory you used:\n",
       " 11140 strings out of 492623\n",
       " 231865 string characters out of 6129552\n",
       " 265921 words of memory out of 5000000\n",
       " 14878 multiletter control sequences out of 15000+600000\n",
       " 3640 words of font info for 14 fonts, out of 8000000 for 9000\n",
       " 1141 hyphenation exceptions out of 8191\n",
       " 55i,0n,56p,385b,88s stack positions out of 5000i,500n,10000p,200000b,80000s\n",
       "!  ==> Fatal error occurred, no output PDF file produced!\n"
      ]
     },
     "metadata": {},
     "output_type": "display_data"
    }
   ],
   "source": [
    "%%tikz --scale 15 -f pdf -S figures/{figname}.pdf -x $preamble\n",
    "\n",
    "\\def\\Titre{6}\n",
    "\\def\\sousTitre{4}\n",
    "\\def\\text{4}\n",
    "\\def\\lw{1mm}\n",
    "\n",
    "\\def\\a{0.3} % ecart horizontal\n",
    "\\def\\b{0.1} % ecart vertical\n",
    "\n",
    "\\draw [BLOCK] (0,-0.5) rectangle (1,0.5);\n",
    "\\filldraw [white] (0.5,0) circle(.02);\n",
    "\\draw [white] (0.5,0.1) node[TITRE, above] {FIXATION};\n",
    "\\draw [white] (0.5,-0.1) node[SSTITRE, below] {(ramdom)};\n",
    "\n",
    "\\draw [ARROW, -|>] (1.03,0) -- (1.27,0);\n",
    "\n",
    "\\draw [BLOCK] (1+\\a,-0.5) rectangle (2+\\a,0.5);\n",
    "\\draw [white] (1.5+\\a,0) node[TITRE, above] {GAP};\n",
    "%\\draw [white] (1.5+\\a,0) node[SSTITRE, below] {(300ms)};\n",
    "\n",
    "\\draw [ARROW, -|>] (2.03+\\a,0) -- (2.27+\\a,0.5+\\b);\n",
    "\\draw [black] (2.26+\\a,0.7) node[TEXT, above, left] {With proba p};\n",
    "\n",
    "\\draw [BLOCK] (2+\\a+\\a,0+\\b) rectangle (3+\\a+\\a,1+\\b);\n",
    "\\filldraw [CIRCLE] (2.5+\\a+\\a,0.5+\\b) circle(.02);\n",
    "\\draw [ARROW, -|>, white] (2.55+\\a+\\a,0.5+\\b) -- (2.55+\\a+\\a+\\a,0.5+\\b);\n",
    "\n",
    "\\draw [ARROW, -|>] (2.03+\\a,0) -- (2.27+\\a,-0.5-\\b);\n",
    "\\draw [black] (2.26+\\a,-0.7) node[TEXT, below, left] {With proba 1-p};\n",
    "\n",
    "\\draw [BLOCK] (2+\\a+\\a,-1-\\b) rectangle (3+\\a+\\a,0-\\b);\n",
    "\\filldraw [CIRCLE] (2.5+\\a+\\a,-0.5-\\b) circle(.02);\n",
    "\\draw [ARROW, -|>, white] (2.45+\\a+\\a,-0.5-\\b) -- (2.45+\\a,-0.5-\\b);"
   ]
  },
  {
   "cell_type": "code",
   "execution_count": null,
   "metadata": {
    "ExecuteTime": {
     "end_time": "2018-07-03T10:36:00.755780Z",
     "start_time": "2018-07-03T10:34:23.521248Z"
    }
   },
   "outputs": [],
   "source": [
    "!convert -density 600  -flatten  -compress lzw -units pixelsperinch  -depth 8 figures/{figname}.pdf figures/{figname}.png\n",
    "!convert  -density 300  -units pixelsperinch figures/{figname}.pdf  figures/{figname}.jpg\n",
    "!convert -density 600  -flatten  -compress lzw -units pixelsperinch  -depth 8 figures/{figname}.pdf figures/{figname}.tiff\n",
    "!echo \"width=\" ; convert figures/{figname}.tiff -format \"%[fx:w]\" info:\n",
    "!echo \", \\nheight=\" ; convert figures/{figname}.tiff -format \"%[fx:h]\" info:\n",
    "!echo \", \\nunit=\" ; convert figures/{figname}.tiff -format \"%U\" info:   "
   ]
  },
  {
   "cell_type": "code",
   "execution_count": null,
   "metadata": {
    "ExecuteTime": {
     "end_time": "2018-07-03T10:36:00.939193Z",
     "start_time": "2018-07-03T10:36:00.766218Z"
    }
   },
   "outputs": [],
   "source": [
    "!ls  -l figures/{figname}*"
   ]
  },
  {
   "cell_type": "code",
   "execution_count": null,
   "metadata": {
    "ExecuteTime": {
     "end_time": "2018-07-03T10:36:00.981927Z",
     "start_time": "2018-07-03T10:36:00.949864Z"
    }
   },
   "outputs": [],
   "source": [
    "from IPython.display import Image\n",
    "Image('figures/{figname}.png'.format(figname=figname))"
   ]
  },
  {
   "cell_type": "markdown",
   "metadata": {},
   "source": [
    "# Materiel_recording"
   ]
  },
  {
   "cell_type": "code",
   "execution_count": null,
   "metadata": {
    "ExecuteTime": {
     "end_time": "2018-07-03T10:36:00.999747Z",
     "start_time": "2018-07-03T10:36:00.990733Z"
    }
   },
   "outputs": [],
   "source": [
    "figname = 'protocol/protocol_recording'"
   ]
  },
  {
   "cell_type": "code",
   "execution_count": null,
   "metadata": {
    "ExecuteTime": {
     "end_time": "2018-07-03T10:36:14.804246Z",
     "start_time": "2018-07-03T10:36:01.007072Z"
    },
    "scrolled": false
   },
   "outputs": [],
   "source": [
    "%%tikz --scale 15 -f pdf -S figures/{figname}.pdf -x $preamble\n",
    "\n",
    "\\def\\Titre{6}\n",
    "\\def\\sousTitre{5}\n",
    "\\def\\text{5}\n",
    "\\def\\lw{1.5mm}\n",
    "\n",
    "\\def\\a{0.15} % ecart horizontal\n",
    "\\def\\b{0.03} % ecart vertical\n",
    "\n",
    "\\def\\c{0.01} % ecart fleche\n",
    "\n",
    "\\draw [BLOCK] (0,-0.5) rectangle (1,0.5);\n",
    "\\filldraw [white] (0.5,0) circle(.02);\n",
    "\\draw [white] (0.5,0.1) node[TITRE, above] {FIXATION};\n",
    "\\draw [white] (0.5,-0.1) node[SSTITRE, below] {(random,};\n",
    "\\draw [white] (0.5,-0.1-(0.15) node[SSTITRE, below] {400-800ms)};\n",
    "\n",
    "\\draw [ARROW, -|>] (1+\\c,0) -- (1+\\a-\\c,0);\n",
    "\n",
    "\\draw [BLOCK] (1+\\a,-0.5) rectangle (2+\\a,0.5);\n",
    "\\draw [white] (1.5+\\a,0) node[TITRE, above] {GAP};\n",
    "\\draw [white] (1.5+\\a,0) node[SSTITRE, below] {(300ms)};\n",
    "\n",
    "\n",
    "\\draw [ARROW, -|>] (2+\\c+\\a,0) -- (2+\\a-\\c+\\a,0.5+\\b);\n",
    "\\draw [black] (2+\\a-\\c+\\a,0.7) node[TEXT, above, left] {If TD is right};\n",
    "\n",
    "\\draw [BLOCK] (2+\\a+\\a,0+\\b) rectangle (3+\\a+\\a,1+\\b);\n",
    "\\filldraw [CIRCLE] (2.5+\\a+\\a,0.5+\\b) circle(.02);\n",
    "\\draw [ARROW, -|>, white] (2.55+\\a+\\a,0.5+\\b) -- (2.55+\\a+\\a+\\a,0.5+\\b);\n",
    "\\draw [ARROW, -|>, white] (2.4+\\a+\\a,0.5+\\b) -- (2.45+\\a+\\a,0.5+\\b);\n",
    "\\draw [white] (2.4+\\a+\\a,0.55+\\b) node[TEXT, above right] {V=15$^\\circ$/s};\n",
    "\\draw [white] (2.5+\\a+\\a, 0.45+\\b) node[TEXT, below left] {(100ms)};\n",
    "\n",
    "\n",
    "\\draw [ARROW, -|>] (2+\\c+\\a,0) -- (2+\\a-\\c+\\a,-0.5-\\b);\n",
    "\\draw [black] (2+\\a-\\c+\\a,-0.7) node[TEXT, below left] {If TD is left};\n",
    "\n",
    "\\draw [BLOCK] (2+\\a+\\a,-1-\\b) rectangle (3+\\a+\\a,0-\\b);\n",
    "\\filldraw [CIRCLE] (2.5+\\a+\\a,-0.5-\\b) circle(.02);\n",
    "\\draw [ARROW, -|>, white] (2.45+\\a+\\a,-0.5-\\b) -- (2.45+\\a,-0.5-\\b);\n",
    "\\draw [ARROW, -|>, white] (2.6+\\a+\\a,-0.5-\\b) -- (2.55+\\a+\\a,-0.5-\\b);\n",
    "\\draw [white] (2.6+\\a+\\a,-0.45-\\b) node[TEXT, above left] {V=15$^\\circ$/s};\n",
    "\\draw [white] (2.5+\\a+\\a, -0.55-\\b) node[TEXT, below right] {(100ms)};"
   ]
  },
  {
   "cell_type": "code",
   "execution_count": null,
   "metadata": {
    "ExecuteTime": {
     "end_time": "2018-07-03T10:37:53.864739Z",
     "start_time": "2018-07-03T10:36:14.812456Z"
    }
   },
   "outputs": [],
   "source": [
    "!convert -density 600  -flatten  -compress lzw -units pixelsperinch  -depth 8 figures/{figname}.pdf figures/{figname}.png\n",
    "!convert  -density 300  -units pixelsperinch figures/{figname}.pdf  figures/{figname}.jpg\n",
    "!convert -density 600  -flatten  -compress lzw -units pixelsperinch  -depth 8 figures/{figname}.pdf figures/{figname}.tiff\n",
    "!echo \"width=\" ; convert figures/{figname}.tiff -format \"%[fx:w]\" info:\n",
    "!echo \", \\nheight=\" ; convert figures/{figname}.tiff -format \"%[fx:h]\" info:\n",
    "!echo \", \\nunit=\" ; convert figures/{figname}.tiff -format \"%U\" info:   "
   ]
  },
  {
   "cell_type": "code",
   "execution_count": null,
   "metadata": {
    "ExecuteTime": {
     "end_time": "2018-07-03T10:37:54.046587Z",
     "start_time": "2018-07-03T10:37:53.874563Z"
    }
   },
   "outputs": [],
   "source": [
    "!ls -l figures/{figname}*"
   ]
  },
  {
   "cell_type": "code",
   "execution_count": null,
   "metadata": {
    "ExecuteTime": {
     "end_time": "2018-07-03T10:37:54.085777Z",
     "start_time": "2018-07-03T10:37:54.058070Z"
    }
   },
   "outputs": [],
   "source": [
    "from IPython.display import Image\n",
    "Image('figures/{figname}.png'.format(figname=figname))"
   ]
  },
  {
   "cell_type": "markdown",
   "metadata": {},
   "source": [
    "# protocol_recording_ms"
   ]
  },
  {
   "cell_type": "code",
   "execution_count": null,
   "metadata": {
    "ExecuteTime": {
     "end_time": "2018-07-03T10:53:24.678229Z",
     "start_time": "2018-07-03T10:53:24.671271Z"
    }
   },
   "outputs": [],
   "source": [
    "figname = '1_B_protocol_recording'"
   ]
  },
  {
   "cell_type": "code",
   "execution_count": null,
   "metadata": {
    "ExecuteTime": {
     "end_time": "2018-07-03T10:53:36.535219Z",
     "start_time": "2018-07-03T10:53:25.849203Z"
    },
    "scrolled": true
   },
   "outputs": [],
   "source": [
    "%%tikz --scale 15 -f pdf -S {msfigpath}/{figname}.pdf -x $preamble\n",
    "\n",
    "\\def\\Titre{6}\n",
    "\\def\\sousTitre{5}\n",
    "\\def\\text{5}\n",
    "\\def\\lw{1.5mm}\n",
    "\n",
    "\\def\\a{0.15} % ecart horizontal\n",
    "\\def\\b{0.03} % ecart vertical\n",
    "\n",
    "\\def\\c{0.01} % ecart fleche\n",
    "\n",
    "\\draw [BLOCK] (0,-0.5) rectangle (1,0.5);\n",
    "\\filldraw [white] (0.5,0) circle(.02);\n",
    "\\draw [white] (0.5,0.1) node[TITRE, above] {FIXATION};\n",
    "\\draw [white] (0.5,-0.1) node[SSTITRE, below] {(random,};\n",
    "\\draw [white] (0.5,-0.1-(0.15) node[SSTITRE, below] {400-800ms)};\n",
    "\n",
    "\\draw [ARROW, -|>] (1+\\c,0) -- (1+\\a-\\c,0);\n",
    "\n",
    "\\draw [BLOCK] (1+\\a,-0.5) rectangle (2+\\a,0.5);\n",
    "\\draw [white] (1.5+\\a,0) node[TITRE, above] {GAP};\n",
    "\\draw [white] (1.5+\\a,0) node[SSTITRE, below] {(300ms)};\n",
    "\n",
    "\n",
    "\\draw [ARROW, -|>] (2+\\c+\\a,0) -- (2+\\a-\\c+\\a,0.5+\\b);\n",
    "\\draw [black] (2+\\a-\\c+\\a,0.7) node[TEXT, above, left] {If TD is right};\n",
    "\n",
    "\\draw [BLOCK] (2+\\a+\\a,0+\\b) rectangle (3+\\a+\\a,1+\\b);\n",
    "\\filldraw [CIRCLE] (2.5+\\a+\\a,0.5+\\b) circle(.02);\n",
    "\\draw [ARROW, -|>, white] (2.55+\\a+\\a,0.5+\\b) -- (2.55+\\a+\\a+\\a,0.5+\\b);\n",
    "\\draw [ARROW, -|>, white] (2.4+\\a+\\a,0.5+\\b) -- (2.45+\\a+\\a,0.5+\\b);\n",
    "\\draw [white] (2.4+\\a+\\a,0.55+\\b) node[TEXT, above right] {V=15$^\\circ$/s};\n",
    "\\draw [white] (2.5+\\a+\\a, 0.45+\\b) node[TEXT, below] {(100ms)};\n",
    "\n",
    "\n",
    "\\draw [ARROW, -|>] (2+\\c+\\a,0) -- (2+\\a-\\c+\\a,-0.5-\\b);\n",
    "\\draw [black] (2+\\a-\\c+\\a,-0.7) node[TEXT, below left] {If TD is left};\n",
    "\n",
    "\\draw [BLOCK] (2+\\a+\\a,-1-\\b) rectangle (3+\\a+\\a,0-\\b);\n",
    "\\filldraw [CIRCLE] (2.5+\\a+\\a,-0.5-\\b) circle(.02);\n",
    "\\draw [ARROW, -|>, white] (2.45+\\a+\\a,-0.5-\\b) -- (2.45+\\a,-0.5-\\b);\n",
    "\\draw [ARROW, -|>, white] (2.6+\\a+\\a,-0.5-\\b) -- (2.55+\\a+\\a,-0.5-\\b);\n",
    "\\draw [white] (2.6+\\a+\\a,-0.45-\\b) node[TEXT, above left] {V=15$^\\circ$/s};\n",
    "\\draw [white] (2.5+\\a+\\a, -0.55-\\b) node[TEXT, below] {(100ms)};"
   ]
  },
  {
   "cell_type": "code",
   "execution_count": null,
   "metadata": {},
   "outputs": [],
   "source": [
    "%ls ../PasturelMontagniniPerrinet2019/figures"
   ]
  },
  {
   "cell_type": "code",
   "execution_count": null,
   "metadata": {},
   "outputs": [],
   "source": [
    "%pwd"
   ]
  },
  {
   "cell_type": "code",
   "execution_count": null,
   "metadata": {},
   "outputs": [],
   "source": [
    "dpi = 150"
   ]
  },
  {
   "cell_type": "code",
   "execution_count": null,
   "metadata": {
    "ExecuteTime": {
     "end_time": "2018-07-03T10:55:27.834494Z",
     "start_time": "2018-07-03T10:53:36.545813Z"
    }
   },
   "outputs": [],
   "source": [
    "!convert -density {dpi}  -flatten  -compress lzw -units pixelsperinch  -depth 8 {msfigpath}/{figname}.pdf {msfigpath}/{figname}.png\n",
    "!convert  -density {dpi}  -units pixelsperinch {msfigpath}/{figname}.pdf  {msfigpath}/{figname}.jpg\n",
    "!convert -density {dpi}  -flatten  -compress lzw -units pixelsperinch  -depth 8 {msfigpath}/{figname}.pdf {msfigpath}/{figname}.tiff\n",
    "!echo \"width=\" ; convert {msfigpath}/{figname}.tiff -format \"%[fx:w]\" info:\n",
    "!echo \", \\nheight=\" ; convert {msfigpath}/{figname}.tiff -format \"%[fx:h]\" info:\n",
    "!echo \", \\nunit=\" ; convert {msfigpath}/{figname}.tiff -format \"%U\" info:      "
   ]
  },
  {
   "cell_type": "code",
   "execution_count": null,
   "metadata": {
    "ExecuteTime": {
     "end_time": "2018-07-03T10:55:28.018004Z",
     "start_time": "2018-07-03T10:55:27.843914Z"
    }
   },
   "outputs": [],
   "source": [
    "!ls -l {msfigpath}/{figname}*"
   ]
  },
  {
   "cell_type": "code",
   "execution_count": null,
   "metadata": {
    "ExecuteTime": {
     "end_time": "2018-07-03T10:55:28.054256Z",
     "start_time": "2018-07-03T10:55:28.027939Z"
    }
   },
   "outputs": [],
   "source": [
    "from IPython.display import Image\n",
    "#Image(f'{msfigpath}/{figname}.png')\n",
    "Image('{msfigpath}/{figname}.png'.format(msfigpath=msfigpath, figname=figname))"
   ]
  },
  {
   "cell_type": "markdown",
   "metadata": {},
   "source": [
    "# materiel_bet"
   ]
  },
  {
   "cell_type": "code",
   "execution_count": null,
   "metadata": {
    "ExecuteTime": {
     "end_time": "2018-07-03T10:37:54.101181Z",
     "start_time": "2018-07-03T10:37:54.093276Z"
    }
   },
   "outputs": [],
   "source": [
    "figname = 'protocol/protocol_bet'"
   ]
  },
  {
   "cell_type": "code",
   "execution_count": null,
   "metadata": {
    "ExecuteTime": {
     "end_time": "2018-07-03T10:38:01.090950Z",
     "start_time": "2018-07-03T10:37:54.110031Z"
    },
    "scrolled": false
   },
   "outputs": [],
   "source": [
    "%%tikz --scale 15 -f pdf -S figures/{figname}.pdf [code $preamble]\n",
    "\n",
    "\\def\\Titre{6}\n",
    "\\def\\sousTitre{4}\n",
    "\\def\\text{4}\n",
    "\\def\\lw{1mm}\n",
    "\n",
    "\\def\\a{0.3} % ecart horizontal\n",
    "\\def\\b{0.1} % ecart vertical\n",
    "\n",
    "\\draw [BLOCK] (0,-0.5) rectangle (1,0.5);\n",
    "\\filldraw [white] (0.5,0) circle(.02);\n",
    "\\draw [line width=1mm, white] (0.1,-0.38) -- (0.9,-0.38);\n",
    "\n",
    "\\draw [line width=1mm, white] (0.1,-0.38) -- (0.1,-0.4);\n",
    "\\draw [line width=1mm, white] (0.5,-0.38) -- (0.5,-0.4);\n",
    "\\draw [line width=1mm, white] (0.9,-0.38) -- (0.9,-0.4);\n",
    "\n",
    "\\draw [white] (0.005,-0.38) node[TEXT, below right] {Left};\n",
    "\\draw [white] (0.5,-0.38) node[TEXT, below] {Unsure};\n",
    "\\draw [white] (0.995,-0.38) node[TEXT, below left] {Right};\n",
    "\n",
    "\\draw [line width=1mm, black, fill=black] (0.7,-0.37) -- (0.67,-0.33) -- (0.73,-0.33) ;\n",
    "\n",
    "\n",
    "\\draw [ARROW, ->] (1.03,0) -- (1.27,0.5+\\b);\n",
    "\\draw [black] (1.26,0.7) node[TEXT, above, left] {With proba p};\n",
    "\n",
    "\\draw [BLOCK] (1+\\a,0+\\b) rectangle (2+\\a,1+\\b);\n",
    "\\filldraw [CIRCLE] (1.5+\\a,0.5+\\b) circle(.02);\n",
    "\\draw [ARROW, ->, white] (1.55+\\a,0.5+\\b) -- (1.55+\\a+\\a,0.5+\\b);\n",
    "\\draw [ARROW, ->, white] (1.4+\\a,0.5+\\b) -- (1.45+\\a,0.5+\\b);\n",
    "\\draw [white] (1.4+\\a,0.45+\\b) node[TEXT, below] {(100ms)};\n",
    "\\draw [white] (1.52+\\a,0.55+\\b) node[TEXT, above, right] {V = 15 $^\\circ$/s};\n",
    "\n",
    "\n",
    "\n",
    "\\draw [ARROW, ->] (1.03,0) -- (1.27,-0.5-\\b);\n",
    "\\draw [black] (1.26,-0.7) node[TEXT, below, left] {With proba 1-p};\n",
    "\n",
    "\\draw [BLOCK] (1+\\a,-1-\\b) rectangle (2+\\a,0-\\b);\n",
    "\\filldraw [CIRCLE] (1.5+\\a,-0.5-\\b) circle(.02);\n",
    "\\draw [ARROW, ->, white] (1.45+\\a,-0.5-\\b) -- (1.45,-0.5-\\b);\n",
    "\\draw [ARROW, ->, white] (1.6+\\a,-0.5-\\b) -- (1.55+\\a,-0.5-\\b);\n",
    "\\draw [white] (1.6+\\a,-0.55-\\b) node[TEXT, below] {(100ms)};\n",
    "\\draw [white] (1.48+\\a,-0.45-\\b) node[TEXT, above, left] {V = 15 $^\\circ$/s};\n"
   ]
  },
  {
   "cell_type": "code",
   "execution_count": null,
   "metadata": {
    "ExecuteTime": {
     "end_time": "2018-07-03T10:39:05.701247Z",
     "start_time": "2018-07-03T10:38:01.100168Z"
    }
   },
   "outputs": [],
   "source": [
    "!convert -density 600  -flatten  -compress lzw -units pixelsperinch  -depth 8 figures/{figname}.pdf figures/{figname}.png\n",
    "!convert  -density 300  -units pixelsperinch figures/{figname}.pdf  figures/{figname}.jpg\n",
    "!convert -density 600  -flatten  -compress lzw -units pixelsperinch  -depth 8 figures/{figname}.pdf figures/{figname}.tiff\n",
    "!echo \"width=\" ; convert figures/{figname}.tiff -format \"%[fx:w]\" info:\n",
    "!echo \", \\nheight=\" ; convert figures/{figname}.tiff -format \"%[fx:h]\" info:\n",
    "!echo \", \\nunit=\" ; convert figures/{figname}.tiff -format \"%U\" info:   "
   ]
  },
  {
   "cell_type": "code",
   "execution_count": null,
   "metadata": {
    "ExecuteTime": {
     "end_time": "2018-07-03T10:39:05.883497Z",
     "start_time": "2018-07-03T10:39:05.710536Z"
    }
   },
   "outputs": [],
   "source": [
    "!ls -l figures/{figname}*"
   ]
  },
  {
   "cell_type": "code",
   "execution_count": null,
   "metadata": {
    "ExecuteTime": {
     "end_time": "2018-07-03T10:39:05.916149Z",
     "start_time": "2018-07-03T10:39:05.893530Z"
    },
    "scrolled": false
   },
   "outputs": [],
   "source": [
    "from IPython.display import Image\n",
    "Image('figures/{figname}.png'.format(figname=figname))"
   ]
  },
  {
   "cell_type": "markdown",
   "metadata": {},
   "source": [
    "# materiel_bet_simple"
   ]
  },
  {
   "cell_type": "code",
   "execution_count": null,
   "metadata": {
    "ExecuteTime": {
     "end_time": "2018-07-03T10:42:25.915462Z",
     "start_time": "2018-07-03T10:42:25.908289Z"
    }
   },
   "outputs": [],
   "source": [
    "figname = 'protocol/protocol_bet_simple'"
   ]
  },
  {
   "cell_type": "code",
   "execution_count": null,
   "metadata": {
    "ExecuteTime": {
     "end_time": "2018-07-03T10:51:39.980931Z",
     "start_time": "2018-07-03T10:51:37.153420Z"
    },
    "scrolled": false
   },
   "outputs": [],
   "source": [
    "%%tikz --scale 15 -f pdf -S figures/{figname}.pdf [code $preamble]\n",
    "\n",
    "\n",
    "\\def\\text{5}\n",
    "\\def\\lw{1.5mm}\n",
    "\\def\\c{-0.36} % ligne\n",
    "\n",
    "\\draw [BLOCK] (0,-0.5) rectangle (1,0.5);\n",
    "\\filldraw [white] (0.5,0) circle(.02);\n",
    "\n",
    "%horizontal line\n",
    "\\draw [line width=\\lw, white] (0.0975, \\c) -- (0.9025, \\c);\n",
    "% ticks\n",
    "\\draw [line width=\\lw, white] (0.1, \\c) -- (0.1, \\c-0.02);\n",
    "\\draw [line width=\\lw, white] (0.5, \\c) -- (0.5, \\c-0.02);\n",
    "\\draw [line width=\\lw, white] (0.9, \\c) -- (0.9, \\c-0.02);\n",
    "\n",
    "\\draw [white] (0, \\c+0.02) node[TEXT, below right] {Left};\n",
    "\\draw [white] (0.5, \\c+0.02) node[TEXT, below] {Unsure};\n",
    "\\draw [white] (1, \\c+0.02) node[TEXT, below left] {Right};\n",
    "\n",
    "% cuursor\n",
    "\\draw [line width=1mm, black, fill=black] (0.2, \\c+0.01) -- (0.17, \\c+0.05) -- (0.23, \\c+0.05) ;"
   ]
  },
  {
   "cell_type": "code",
   "execution_count": null,
   "metadata": {
    "ExecuteTime": {
     "end_time": "2018-07-03T10:51:55.750233Z",
     "start_time": "2018-07-03T10:51:39.991187Z"
    }
   },
   "outputs": [],
   "source": [
    "!convert -density 600  -flatten  -compress lzw -units pixelsperinch  -depth 8 figures/{figname}.pdf figures/{figname}.png\n",
    "!convert  -density 300  -units pixelsperinch figures/{figname}.pdf  figures/{figname}.jpg\n",
    "!convert -density 600  -flatten  -compress lzw -units pixelsperinch  -depth 8 figures/{figname}.pdf figures/{figname}.tiff\n",
    "!echo \"width=\" ; convert figures/{figname}.tiff -format \"%[fx:w]\" info:\n",
    "!echo \", \\nheight=\" ; convert figures/{figname}.tiff -format \"%[fx:h]\" info:\n",
    "!echo \", \\nunit=\" ; convert figures/{figname}.tiff -format \"%U\" info:   "
   ]
  },
  {
   "cell_type": "code",
   "execution_count": null,
   "metadata": {
    "ExecuteTime": {
     "end_time": "2018-07-03T10:51:55.935572Z",
     "start_time": "2018-07-03T10:51:55.759706Z"
    }
   },
   "outputs": [],
   "source": [
    "!ls -l figures/{figname}*"
   ]
  },
  {
   "cell_type": "code",
   "execution_count": null,
   "metadata": {
    "ExecuteTime": {
     "end_time": "2018-07-03T10:51:55.966865Z",
     "start_time": "2018-07-03T10:51:55.946603Z"
    },
    "scrolled": true
   },
   "outputs": [],
   "source": [
    "from IPython.display import Image\n",
    "Image('figures/{figname}.png'.format(figname=figname))"
   ]
  },
  {
   "cell_type": "markdown",
   "metadata": {},
   "source": [
    "# materiel_bet_simple_ms"
   ]
  },
  {
   "cell_type": "code",
   "execution_count": null,
   "metadata": {
    "ExecuteTime": {
     "end_time": "2018-07-03T10:42:25.915462Z",
     "start_time": "2018-07-03T10:42:25.908289Z"
    }
   },
   "outputs": [],
   "source": [
    "figname = '1_C_protocol_bet_simple'"
   ]
  },
  {
   "cell_type": "code",
   "execution_count": null,
   "metadata": {
    "ExecuteTime": {
     "end_time": "2018-07-03T10:51:39.980931Z",
     "start_time": "2018-07-03T10:51:37.153420Z"
    },
    "scrolled": false
   },
   "outputs": [],
   "source": [
    "%%tikz --scale 15 -f pdf -S {msfigpath}/{figname}.pdf [code $preamble]\n",
    "\n",
    "\\def\\text{5}\n",
    "\\def\\lw{1.5mm}\n",
    "\\def\\c{-0.36} % ligne\n",
    "\n",
    "\\draw [BLOCK] (0,-0.5) rectangle (1,0.5);\n",
    "\\filldraw [white] (0.5,0) circle(.02);\n",
    "\n",
    "%horizontal line\n",
    "\\draw [line width=\\lw, white] (0.0975, \\c) -- (0.9025, \\c);\n",
    "% ticks\n",
    "\\draw [line width=\\lw, white] (0.1, \\c) -- (0.1, \\c-0.02);\n",
    "\\draw [line width=\\lw, white] (0.5, \\c) -- (0.5, \\c-0.02);\n",
    "\\draw [line width=\\lw, white] (0.9, \\c) -- (0.9, \\c-0.02);\n",
    "\n",
    "\\draw [white] (-0.03, \\c+0.01) node[TEXT, below right] {Left};\n",
    "\\draw [white] (0.5, \\c+0.01) node[TEXT, below] {Unsure};\n",
    "\\draw [white] (1.03, \\c+0.01) node[TEXT, below left] {Right};\n",
    "\n",
    "% cuursor\n",
    "\\draw [line width=1mm, black, fill=black] (0.2, \\c+0.01) -- (0.17, \\c+0.05) -- (0.23, \\c+0.05) ;"
   ]
  },
  {
   "cell_type": "code",
   "execution_count": null,
   "metadata": {
    "ExecuteTime": {
     "end_time": "2018-07-03T10:51:55.750233Z",
     "start_time": "2018-07-03T10:51:39.991187Z"
    }
   },
   "outputs": [],
   "source": [
    "!convert -density 600  -flatten  -compress lzw -units pixelsperinch  -depth 8 {msfigpath}/{figname}.pdf {msfigpath}/{figname}.png\n",
    "!convert  -density 300  -units pixelsperinch {msfigpath}/{figname}.pdf  {msfigpath}/{figname}.jpg\n",
    "!convert -density 600  -flatten  -compress lzw -units pixelsperinch  -depth 8 {msfigpath}/{figname}.pdf {msfigpath}/{figname}.tiff\n",
    "!echo \"width=\" ; convert {msfigpath}/{figname}.tiff -format \"%[fx:w]\" info:\n",
    "!echo \", \\nheight=\" ; convert {msfigpath}/{figname}.tiff -format \"%[fx:h]\" info:\n",
    "!echo \", \\nunit=\" ; convert {msfigpath}/{figname}.tiff -format \"%U\" info:   "
   ]
  },
  {
   "cell_type": "code",
   "execution_count": null,
   "metadata": {
    "ExecuteTime": {
     "end_time": "2018-07-03T10:51:55.935572Z",
     "start_time": "2018-07-03T10:51:55.759706Z"
    }
   },
   "outputs": [],
   "source": [
    "!ls -l {msfigpath}/{figname}*"
   ]
  },
  {
   "cell_type": "code",
   "execution_count": null,
   "metadata": {},
   "outputs": [],
   "source": [
    "from IPython.display import Image\n",
    "#Image(f'{msfigpath}/{figname}.png')\n",
    "Image('{msfigpath}/{figname}.png'.format(msfigpath=msfigpath, figname=figname))"
   ]
  },
  {
   "cell_type": "markdown",
   "metadata": {},
   "source": [
    "# P_reel"
   ]
  },
  {
   "cell_type": "code",
   "execution_count": null,
   "metadata": {},
   "outputs": [],
   "source": [
    "import matplotlib.pyplot as plt\n",
    "%matplotlib inline"
   ]
  },
  {
   "cell_type": "code",
   "execution_count": null,
   "metadata": {},
   "outputs": [],
   "source": [
    "from aSPEM import Analysis"
   ]
  },
  {
   "cell_type": "code",
   "execution_count": null,
   "metadata": {},
   "outputs": [],
   "source": [
    "e = Analysis(name_file_fit='fct_velocity_sigmo')"
   ]
  },
  {
   "cell_type": "code",
   "execution_count": null,
   "metadata": {},
   "outputs": [],
   "source": [
    "exts = ['.png', '.svg', '.pdf']"
   ]
  },
  {
   "cell_type": "code",
   "execution_count": null,
   "metadata": {
    "scrolled": false
   },
   "outputs": [],
   "source": [
    "fig_width = 15\n",
    "t_titre = 0\n",
    "t_label = 30*3\n",
    "\n",
    "delta = 0.2\n",
    "color = ['black','dimgrey','indianred','darkred','red']\n",
    "#color = ['black','grey','darkgrey','rosybrown','lightcoral','indianred','firebrick','brown','darkred','red']\n",
    "#color = []\n",
    "#for n in range(int(1/delta)) :\n",
    "#    color.append((0+delta*n, 0, 0, 0.5))\n",
    "\n",
    "fig, axs = plt.subplots(1, 1, figsize=(1*fig_width, 1*fig_width), constrained_layout=True)#/(1.6180*1)))\n",
    "axs = e.Plot_Average_Trace_P_real(delta, color, mean=True, ax=axs, show='r',\n",
    "                                  title='', fig_width=fig_width, t_titre=t_titre, t_label=t_label)\n",
    "plt.show()\n",
    "\n",
    "for ext in exts:\n",
    "    fig.savefig('{msfigpath}/1_B_Trace_moyenne'.format(msfigpath=msfigpath) + ext, dpi=400)\n",
    "fig.savefig('figures/Trace_moyenne.pdf', dpi=400)"
   ]
  },
  {
   "cell_type": "code",
   "execution_count": null,
   "metadata": {},
   "outputs": [],
   "source": []
  }
 ],
 "metadata": {
  "kernelspec": {
   "display_name": "Python 3",
   "language": "python",
   "name": "python3"
  },
  "language_info": {
   "codemirror_mode": {
    "name": "ipython",
    "version": 3
   },
   "file_extension": ".py",
   "mimetype": "text/x-python",
   "name": "python",
   "nbconvert_exporter": "python",
   "pygments_lexer": "ipython3",
   "version": "3.7.3"
  },
  "toc": {
   "base_numbering": 1,
   "nav_menu": {},
   "number_sections": true,
   "sideBar": true,
   "skip_h1_title": false,
   "title_cell": "Table of Contents",
   "title_sidebar": "Contents",
   "toc_cell": false,
   "toc_position": {},
   "toc_section_display": true,
   "toc_window_display": false
  }
 },
 "nbformat": 4,
 "nbformat_minor": 2
}
