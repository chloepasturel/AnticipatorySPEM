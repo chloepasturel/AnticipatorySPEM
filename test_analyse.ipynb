{
 "cells": [
  {
   "cell_type": "code",
   "execution_count": 1,
   "metadata": {},
   "outputs": [],
   "source": [
    "%load_ext autoreload\n",
    "%autoreload 2\n",
    "from __future__ import division, print_function, absolute_import\n",
    "import pickle\n",
    "import os\n",
    "import matplotlib.pyplot as plt\n",
    "from edfreader import read_edf\n",
    "import numpy as np"
   ]
  },
  {
   "cell_type": "raw",
   "metadata": {},
   "source": [
    "!ls data/"
   ]
  },
  {
   "cell_type": "code",
   "execution_count": 2,
   "metadata": {
    "collapsed": true
   },
   "outputs": [],
   "source": [
    "timeStr = '2017-07-21_142241'\n",
    "observer = 'laurent'\n",
    "\n",
    "mode = 'enregistrement'"
   ]
  },
  {
   "cell_type": "code",
   "execution_count": 3,
   "metadata": {},
   "outputs": [],
   "source": [
    "file = os.path.join('data', mode + '_' + observer + '_' + timeStr + '.pkl')\n",
    "with open(file, 'rb') as fichier :\n",
    "    exp = pickle.load(fichier, encoding='latin1')\n",
    "    \n",
    "resultats = os.path.join('data', mode + '_' + observer + '_' + timeStr + '.asc')\n",
    "data = read_edf(resultats, 'TRIALID')"
   ]
  },
  {
   "cell_type": "code",
   "execution_count": 4,
   "metadata": {
    "collapsed": true
   },
   "outputs": [],
   "source": [
    "N_trials = exp['N_trials']\n",
    "N_blocks = exp['N_blocks']\n",
    "screen_width_px = exp['screen_width_px']\n",
    "screen_height_px = exp['screen_height_px']\n",
    "V_X = exp['V_X']\n",
    "RashBass = exp['RashBass']\n",
    "stim_tau = exp['stim_tau']\n",
    "p = exp['p']"
   ]
  },
  {
   "cell_type": "code",
   "execution_count": 5,
   "metadata": {
    "scrolled": false
   },
   "outputs": [
    {
     "data": {
      "image/png": "[encoded data removed]",
      "text/plain": [
       "<matplotlib.figure.Figure at 0x7fc1ad7b9d68>"
      ]
     },
     "metadata": {},
     "output_type": "display_data"
    }
   ],
   "source": [
    "fig_width= 12\n",
    "fig, axs = plt.subplots(1, 1, figsize=(fig_width, (fig_width/1.6180)))\n",
    "\n",
    "block = 0\n",
    "trial = 0\n",
    "\n",
    "trial_data = trial + N_trials*block\n",
    "\n",
    "data_x = data[trial_data]['x']\n",
    "data_y = data[trial_data]['y']\n",
    "trackertime = data[trial_data]['trackertime']\n",
    "\n",
    "TRIALID = data[trial_data]['events']['msg'][0][0]\n",
    "StimulusOn = data[trial_data]['events']['msg'][10][0]\n",
    "StimulusOf = data[trial_data]['events']['msg'][14][0]\n",
    "TargetOn = data[trial_data]['events']['msg'][15][0]\n",
    "TargetOff = data[trial_data]['events']['msg'][16][0]\n",
    "fixations = data[trial_data]['events']['Efix']\n",
    "saccades = data[trial_data]['events']['Esac']\n",
    "\n",
    "liste_1 = []\n",
    "for x in range(len(trackertime-trackertime[0])):\n",
    "    if x >= StimulusOf - trackertime[0] :\n",
    "        if data_x[x] >= (data_x[StimulusOf-trackertime[0]]+40):\n",
    "            liste_1.append(x+trackertime[0])\n",
    "\n",
    "start = TargetOn\n",
    "\n",
    "TRIALID = TRIALID - start\n",
    "StimulusOn = StimulusOn - start\n",
    "StimulusOf = StimulusOf - start\n",
    "TargetOn = TargetOn - start\n",
    "TargetOff = TargetOff - start\n",
    "\n",
    "trackertime = trackertime - start\n",
    "latence = liste_1[0] - start\n",
    "\n",
    "##################################################\n",
    "# TARGET\n",
    "##################################################\n",
    "dir_bool = p[trial, block, 0]*2 - 1\n",
    "tps_mvt = TargetOff-TargetOn\n",
    "Target_trial = []\n",
    "x = screen_width_px/2\n",
    "\n",
    "d = 100\n",
    "for t in range(len(trackertime)):\n",
    "    if t < (TargetOn-trackertime[0]) :\n",
    "        x = screen_width_px/2\n",
    "    elif t == (TargetOn-trackertime[0]) :\n",
    "        # la cible à t=0 recule de sa vitesse * latence=RashBass (ici mis en ms)\n",
    "        x = x -(dir_bool * ((V_X/1000)*RashBass))\n",
    "    elif (t > (TargetOn-trackertime[0]) and t <= ((TargetOn-trackertime[0])+stim_tau*1000)) :\n",
    "        x = x + (dir_bool*(V_X/1000))\n",
    "    else :\n",
    "        x = x\n",
    "    Target_trial.append(x)\n",
    "##################################################\n",
    "\n",
    "axs.axis([StimulusOf-10, TargetOff+10, 0, 1280])\n",
    "\n",
    "axs.plot(trackertime, np.ones(len(trackertime))*(screen_height_px/2), color='grey', linewidth=1.5)\n",
    "axs.plot(trackertime, data_y, color='c', linewidth=1.5)\n",
    "\n",
    "axs.plot(trackertime, Target_trial, color='k', linewidth=1.5)\n",
    "axs.plot(trackertime, data_x, color='r', linewidth=1.5)\n",
    "\n",
    "\n",
    "axs.bar(StimulusOf, 1280, color='r', width=5, linewidth=0)\n",
    "axs.bar(TargetOn, 1280, color='k', width=5, linewidth=0)\n",
    "axs.bar(TargetOff, 1280, color='k', width=5, linewidth=0)\n",
    "axs.bar(latence, 1280, color='g', width=5, linewidth=0)\n",
    "\n",
    "\n",
    "axs.set_xlabel('Time (ms)', fontsize=9)\n",
    "axs.xaxis.set_ticks(range(StimulusOf+1, TargetOff, 100))\n",
    "axs.xaxis.set_ticklabels(range(StimulusOf+1, TargetOff, 100), fontsize=8)\n",
    "axs.set_ylabel(trial+1, fontsize=9)\n",
    "axs.yaxis.set_ticks(range(0, 1280, 600))\n",
    "axs.yaxis.set_ticklabels(range(0, 1280, 600), fontsize=8)\n",
    "\n",
    "\n",
    "for f in range(len(fixations)) :\n",
    "    axs. axvspan(fixations[f][0]-start, fixations[f][1]-start, color='r', alpha=0.1)\n",
    "for s in range(len(saccades)) :\n",
    "    axs. axvspan(saccades[s][0]-start, saccades[s][1]-start, color='k', alpha=0.2)\n",
    "\n",
    "plt.show()"
   ]
  },
  {
   "cell_type": "code",
   "execution_count": null,
   "metadata": {
    "collapsed": true
   },
   "outputs": [],
   "source": []
  },
  {
   "cell_type": "code",
   "execution_count": null,
   "metadata": {
    "collapsed": true
   },
   "outputs": [],
   "source": []
  }
 ],
 "metadata": {
  "kernelspec": {
   "display_name": "Python 2",
   "language": "python",
   "name": "python2"
  },
  "language_info": {
   "codemirror_mode": {
    "name": "ipython",
    "version": 3
   },
   "file_extension": ".py",
   "mimetype": "text/x-python",
   "name": "python",
   "nbconvert_exporter": "python",
   "pygments_lexer": "ipython3",
   "version": "3.5.2"
  }
 },
 "nbformat": 4,
 "nbformat_minor": 2
}
