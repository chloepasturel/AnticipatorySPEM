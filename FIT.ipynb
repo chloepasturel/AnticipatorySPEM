{
 "cells": [
  {
   "cell_type": "code",
   "execution_count": null,
   "metadata": {},
   "outputs": [],
   "source": [
    "%load_ext autoreload\n",
    "%autoreload 2\n",
    "from __future__ import division, print_function, absolute_import\n",
    "import matplotlib.pyplot as plt\n",
    "import sys\n",
    "sys.path.append('..')\n",
    "%matplotlib inline"
   ]
  },
  {
   "cell_type": "code",
   "execution_count": null,
   "metadata": {
    "scrolled": true
   },
   "outputs": [
    {
     "name": "stdout",
     "output_type": "stream",
     "text": [
      "OP\n",
      "block, trial =  0 0\n",
      "block, trial =  0 1\n",
      "block, trial =  0 2\n",
      "block, trial =  0 3\n",
      "block, trial =  0 4\n",
      "block, trial =  0 5\n",
      "block, trial =  0 6\n",
      "block, trial =  0 7\n",
      "block, trial =  0 8\n",
      "block, trial =  0 9\n",
      "block, trial =  0 10\n",
      "block, trial =  0 11\n",
      "block, trial =  0 12\n",
      "block, trial =  0 13\n",
      "block, trial =  0 14\n",
      "block, trial =  0 15\n",
      "block, trial =  0 16\n",
      "block, trial =  0 17\n",
      "block, trial =  0 18\n",
      "block, trial =  0 19\n",
      "block, trial =  0 20\n",
      "block, trial =  0 21\n",
      "block, trial =  0 22\n",
      "block, trial =  0 23\n",
      "block, trial =  0 24\n",
      "block, trial =  0 25\n",
      "block, trial =  0 26\n",
      "block, trial =  0 27\n",
      "block, trial =  0 28\n",
      "block, trial =  0 29\n",
      "block, trial =  0 30\n",
      "block, trial =  0 31\n",
      "block, trial =  0 32\n",
      "block, trial =  0 33\n",
      "block, trial =  0 34\n",
      "block, trial =  0 35\n",
      "block, trial =  0 36\n",
      "block, trial =  0 37\n",
      "block, trial =  0 38\n",
      "block, trial =  0 39\n",
      "block, trial =  0 40\n",
      "block, trial =  0 41\n",
      "block, trial =  0 42\n",
      "block, trial =  0 43\n",
      "block, trial =  0 44\n",
      "block, trial =  0 45\n",
      "block, trial =  0 46\n",
      "block, trial =  0 47\n",
      "block, trial =  0 48\n",
      "block, trial =  0 49\n",
      "block, trial =  0 50\n",
      "block, trial =  0 51\n",
      "block, trial =  0 52\n",
      "block, trial =  0 53\n",
      "block, trial =  0 54\n",
      "block, trial =  0 55\n",
      "block, trial =  0 56\n",
      "block, trial =  0 57\n",
      "block, trial =  0 58\n",
      "block, trial =  0 59\n",
      "block, trial =  0 60\n",
      "block, trial =  0 61\n",
      "block, trial =  0 62\n",
      "block, trial =  0 63\n",
      "block, trial =  0 64\n",
      "block, trial =  0 65\n",
      "block, trial =  0 66\n",
      "block, trial =  0 67\n",
      "block, trial =  0 68\n",
      "block, trial =  0 69\n"
     ]
    }
   ],
   "source": [
    "x = 'OP' # 'AM', 'BMC', 'CS', 'DC', 'FM', 'IP', 'LB', 'OP', 'RS', 'SR', 'TN', 'YK'\n",
    "print(x)\n",
    "observer = x\n",
    "mode = 'enregistrement'\n",
    "from aSPEM import Analysis\n",
    "e = Analysis(observer=observer, mode=mode)\n",
    "e.Fit(plot=True, equation='fct_velocity', do_whitening=True)"
   ]
  },
  {
   "cell_type": "code",
   "execution_count": null,
   "metadata": {
    "collapsed": true
   },
   "outputs": [],
   "source": []
  }
 ],
 "metadata": {
  "kernelspec": {
   "display_name": "Python 3",
   "language": "python",
   "name": "python3"
  },
  "language_info": {
   "codemirror_mode": {
    "name": "ipython",
    "version": 3
   },
   "file_extension": ".py",
   "mimetype": "text/x-python",
   "name": "python",
   "nbconvert_exporter": "python",
   "pygments_lexer": "ipython3",
   "version": "3.5.2"
  },
  "toc": {
   "base_numbering": 1,
   "nav_menu": {
    "height": "12px",
    "width": "252px"
   },
   "number_sections": true,
   "sideBar": true,
   "skip_h1_title": false,
   "title_cell": "Table of Contents",
   "title_sidebar": "Contents",
   "toc_cell": false,
   "toc_position": {},
   "toc_section_display": "block",
   "toc_window_display": false
  }
 },
 "nbformat": 4,
 "nbformat_minor": 2
}
