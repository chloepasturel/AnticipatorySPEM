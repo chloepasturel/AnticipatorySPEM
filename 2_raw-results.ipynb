{
 "cells": [
  {
   "cell_type": "markdown",
   "metadata": {},
   "source": [
    "# aSPEM Experiment : defining a protocol\n",
    "\n",
    "\n"
   ]
  },
  {
   "cell_type": "code",
   "execution_count": 1,
   "metadata": {
    "scrolled": true
   },
   "outputs": [
    {
     "name": "stdout",
     "output_type": "stream",
     "text": [
      "\n",
      "WELCOME\n",
      "\n",
      "2020-03-02T15:57:43+01:00\n",
      "\n",
      "CPython 3.5.2\n",
      "IPython 5.3.0\n",
      "\n",
      "numpy 1.16.3\n",
      "matplotlib 3.0.3\n",
      "torch 1.1.0\n",
      "\n",
      "compiler   : GCC 5.4.0 20160609\n",
      "system     : Linux\n",
      "release    : 4.4.0-83-generic\n",
      "machine    : x86_64\n",
      "processor  : x86_64\n",
      "CPU cores  : 2\n",
      "interpreter: 64bit\n",
      "host name  : INV-OPE-HP01\n",
      "Git hash   : f6b7949acbee171bdffab290b62f0a7fc5595c32\n",
      "Git repo   : https://github.com/chloepasturel/AnticipatorySPEM.git\n",
      "Git branch : master\n"
     ]
    }
   ],
   "source": [
    "%run 0_parameters.ipynb"
   ]
  },
  {
   "cell_type": "raw",
   "metadata": {},
   "source": [
    "%load_ext version_information\n",
    "%version_information numpy, matplotlib"
   ]
  },
  {
   "cell_type": "raw",
   "metadata": {},
   "source": [
    "!ls data/"
   ]
  },
  {
   "cell_type": "code",
   "execution_count": 2,
   "metadata": {},
   "outputs": [],
   "source": [
    "import os\n",
    "if not os.path.exists('figures/Experiment'):\n",
    "    os.makedirs('figures/Experiment')"
   ]
  },
  {
   "cell_type": "code",
   "execution_count": 3,
   "metadata": {
    "ExecuteTime": {
     "end_time": "2018-07-03T14:51:29.113058Z",
     "start_time": "2018-07-03T14:51:23.783700Z"
    },
    "scrolled": true
   },
   "outputs": [],
   "source": [
    "msfigpath = '../PasturelMontagniniPerrinet2019/figures'\n",
    "#exts = ['.svg'] #'.png', '.svg', '.pdf']\n",
    "from  aSPEM import Analysis\n",
    "e = Analysis()\n",
    "\n",
    "from aSPEM import binomial_motion"
   ]
  },
  {
   "cell_type": "code",
   "execution_count": 4,
   "metadata": {},
   "outputs": [],
   "source": [
    "num_block = 0\n",
    "\n",
    "color=[['k', 'k'], [color_true_p, color_true_p], ['k','none']]\n",
    "alpha = [[.35, .15],[.35,.15], [0,0]]"
   ]
  },
  {
   "cell_type": "code",
   "execution_count": 5,
   "metadata": {
    "ExecuteTime": {
     "end_time": "2018-07-03T10:53:24.678229Z",
     "start_time": "2018-07-03T10:53:24.671271Z"
    }
   },
   "outputs": [],
   "source": [
    "figname = '1_A_Experiment_randomblock'"
   ]
  },
  {
   "cell_type": "code",
   "execution_count": 6,
   "metadata": {
    "ExecuteTime": {
     "end_time": "2018-07-03T14:51:56.474416Z",
     "start_time": "2018-07-03T14:51:38.013681Z"
    }
   },
   "outputs": [
    {
     "data": {
      "image/png": "[encoded data removed]",
      "text/plain": [
       "<Figure size 360x360 with 3 Axes>"
      ]
     },
     "metadata": {
      "needs_background": "light"
     },
     "output_type": "display_data"
    }
   ],
   "source": [
    "N_trials = 200\n",
    "trials, p = binomial_motion(N_trials=N_trials, N_blocks=3, tau=40, seed=51, Jeffreys=True, N_layer=3)\n",
    "\n",
    "t_label_f = t_label/3\n",
    "fig_width_f = fig_width/6\n",
    "\n",
    "    \n",
    "fig, axs = plt.subplots(3, 1, figsize=(fig_width_f, fig_width_f))\n",
    "fig, axs = e.plot_experiment_old(num_block=[num_block], p=p, fig=fig, axs=axs[::-1], color=color, alpha=alpha,\n",
    "                             t_label=t_label_f,\n",
    "                             titre=None, mode='planter les choux', pause=0, TD=True, ec = 0.15)\n",
    "\n",
    "\n",
    "\n",
    "#axs[0].fill_between(range(N_trials), p[:, 0, 0], lw=.5, alpha=alpha[0][0], facecolor=color[0][0], step='pre')\n",
    "\n",
    "mask = np.ones(N_trials)\n",
    "mask[p[:, num_block, -1]==0] *= np.nan\n",
    "#axs[-1].plot(np.arange(N_trials)-.5, mask-.02, '^')\n",
    "#axs[-1].cla()\n",
    "axs[-1].plot(np.arange(N_trials)-1., mask, 'r*')\n",
    "\n",
    "axs[-1].vlines(np.arange(N_trials)-0.5, 0, p[:, num_block, -1] + (mask-1))\n",
    "\n",
    "\n",
    "mask = np.zeros(N_trials)\n",
    "mask[p[:, num_block, -1]==1] *= np.nan\n",
    "axs[-1].plot(np.arange(N_trials)-1., mask, 'r.', ms=1)\n",
    "\n",
    "#axs[1].vlines(np.arange(N_trials)-.5, 0, p[:, num_block, 1], lw=.1, color='b')\n",
    "#axs[1].vlines(np.arange(N_trials)-.5, 1, p[:, num_block, 1], lw=.1, color='b')\n",
    "axs[1].plot(np.arange(N_trials)-.5, p[:, num_block, 1], 'b.', ms=1)\n",
    "axs[0].plot(np.arange(N_trials)-.5, p[:, num_block, 0], 'k.', ms=2)\n",
    "\n",
    "\n",
    "axs[0].set_xticks(axs[-1].get_xticks()+.5)\n",
    "axs[0].set_xticklabels(axs[-1].get_xticklabels())\n",
    "\n",
    "axs[-1].set_xticks(axs[1].get_xticks())\n",
    "axs[-1].set_xticklabels(axs[1].get_xticklabels())\n",
    "axs[-1].set_xlabel('')\n",
    "\n",
    "#axs[0].set_xlabel(axs[-1].get_xlabel())\n",
    "axs[0].set_xlabel('Trial #', fontsize=t_label_f/1.2)\n",
    "axs[1].set_ylabel('Pr(TD is right)', fontsize=t_label_f/1.2)\n",
    "axs[0].tick_params('y', right=True, labelright=True, left=False, labelleft=False)\n",
    "offset = .06\n",
    "\n",
    "for ax in axs: \n",
    "    #ax.set_xlim(0, 100)\n",
    "    ax.set_ylim(-offset, 1+offset)\n",
    "    ax.tick_params(labelsize=t_label_f/1.8)\n",
    "    #ax.axis('off')\n",
    "    for card in ['left', 'top', 'bottom']:\n",
    "        ax.spines[card].set_visible(False)\n",
    "        ax.spines[card].set_bounds(0, 1)\n",
    "    ax.spines['right'].set_bounds(0, 1)\n",
    "    ax.spines['right'].set_position(('axes', 1.01))\n",
    "#axs[-1].set_ylim(0, 1.1)\n",
    "for ext in exts: fig.savefig('{msfigpath}/{figname}'.format(msfigpath=msfigpath, figname=figname) + ext, dpi=400, bbox_inches='tight', pad_inches=0)\n",
    "plt.show()    "
   ]
  },
  {
   "cell_type": "code",
   "execution_count": null,
   "metadata": {},
   "outputs": [],
   "source": []
  }
 ],
 "metadata": {
  "kernelspec": {
   "display_name": "Python 3",
   "language": "python",
   "name": "python3"
  },
  "language_info": {
   "codemirror_mode": {
    "name": "ipython",
    "version": 3
   },
   "file_extension": ".py",
   "mimetype": "text/x-python",
   "name": "python",
   "nbconvert_exporter": "python",
   "pygments_lexer": "ipython3",
   "version": "3.5.2"
  },
  "toc": {
   "base_numbering": 1,
   "nav_menu": {
    "height": "63px",
    "width": "252px"
   },
   "number_sections": true,
   "sideBar": true,
   "skip_h1_title": false,
   "title_cell": "Table of Contents",
   "title_sidebar": "Contents",
   "toc_cell": false,
   "toc_position": {},
   "toc_section_display": "block",
   "toc_window_display": false
  }
 },
 "nbformat": 4,
 "nbformat_minor": 4
}
