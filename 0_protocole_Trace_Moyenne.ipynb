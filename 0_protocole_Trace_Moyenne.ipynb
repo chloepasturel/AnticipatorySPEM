{
 "cells": [
  {
   "cell_type": "code",
   "execution_count": 1,
   "metadata": {},
   "outputs": [],
   "source": [
    "%load_ext autoreload\n",
    "%autoreload 2\n",
    "from __future__ import division, print_function, absolute_import\n",
    "import glob\n",
    "import pickle\n",
    "import matplotlib.pyplot as plt\n",
    "import numpy as np\n",
    "import scipy as sc\n",
    "import os\n",
    "from scipy import stats\n",
    "#import sys\n",
    "from ANEMO import read_edf"
   ]
  },
  {
   "cell_type": "code",
   "execution_count": 2,
   "metadata": {
    "collapsed": true
   },
   "outputs": [],
   "source": [
    "%matplotlib inline\n",
    "fig_width = 15\n",
    "\n",
    "from aSPEM import aSPEM\n",
    "import bayesianchangepoint as bcp"
   ]
  },
  {
   "cell_type": "code",
   "execution_count": 3,
   "metadata": {
    "collapsed": true
   },
   "outputs": [],
   "source": [
    "liste = []\n",
    "for fname in glob.glob('data/*pkl'):\n",
    "    a = fname.split('/')[1].split('.')[0].split('_')\n",
    "    liste.append(a)\n",
    "\n",
    "exp = []\n",
    "for x in range(len(liste)) :\n",
    "    if liste[x][0]=='enregistrement' and liste[x][1] in ['AM','BMC','CS','DC','FM','IP','LB','OP','RS','SR','TN','YK']:\n",
    "        a = 'data/%s_%s_%s_%s.pkl'%(liste[x][0], liste[x][1],liste[x][2],liste[x][3])\n",
    "        with open(a, 'rb') as fichier :\n",
    "            b = pickle.load(fichier, encoding='latin1')\n",
    "            exp.append(b)"
   ]
  },
  {
   "cell_type": "code",
   "execution_count": null,
   "metadata": {
    "collapsed": true
   },
   "outputs": [],
   "source": [
    "timeStr = {}\n",
    "timeStr['AM'] = '2017-10-23_100057'\n",
    "timeStr['BMC'] = '2017-09-26_095637'\n",
    "timeStr['CS'] = '2017-10-03_134421'\n",
    "timeStr['DC']= '2017-09-27_161040'\n",
    "timeStr['FM'] = '2017-10-03_143803'\n",
    "timeStr['IP'] = '2017-09-28_115250'\n",
    "timeStr['LB'] = '2017-09-20_151043'\n",
    "timeStr['OP'] = '2017-10-26_121823'\n",
    "timeStr['RS'] = '2017-11-08_094717'\n",
    "timeStr['SR'] = '2017-11-16_153313'\n",
    "timeStr['TN'] = '2017-11-08_150410'\n",
    "timeStr['YK'] = '2017-11-17_172706'"
   ]
  },
  {
   "cell_type": "code",
   "execution_count": null,
   "metadata": {},
   "outputs": [],
   "source": [
    "gradient_deg_NAN = []\n",
    "TargOn = []\n",
    "\n",
    "for x in range(len(exp)) :\n",
    "    gradient_deg_NAN.append([])\n",
    "    TargOn.append([])\n",
    "        \n",
    "    N_blocks = exp[x]['N_blocks']\n",
    "    N_trials = exp[x]['N_trials']\n",
    "    sujet = exp[x]['observer'] # sujet\n",
    "\n",
    "    resultats = os.path.join('data', 'enregistrement_' + sujet + '_' + timeStr[sujet] + '.asc')\n",
    "    data = read_edf(resultats, 'TRIALID')\n",
    "    \n",
    "    for block in range(N_blocks) :\n",
    "        gradient_deg_NAN[x].append([])\n",
    "        TargOn[x].append([])\n",
    "        \n",
    "        for trial in range(N_trials) :\n",
    "            #gradient_deg_NAN[x][block].append([])\n",
    "            #TargOn[x][block].append([])\n",
    "            \n",
    "            trial_data = trial + N_trials*block\n",
    "            \n",
    "            data_x = data[trial_data]['x']\n",
    "            trackertime = data[trial_data]['trackertime']\n",
    "            TargetOn = data[trial_data]['events']['msg'][15][0]\n",
    "            saccades = data[trial_data]['events']['Esac']\n",
    "            t_0 = data[trial_data]['trackertime'][0]\n",
    "\n",
    "            gradient_x = np.gradient(data_x) # gradient en px/ms\n",
    "            gradient_deg = gradient_x * 1/exp[x]['px_per_deg'] * 1000 # gradient en deg/sec\n",
    "\n",
    "            ##################################################\n",
    "            TargOn[x][block].append(TargetOn-t_0)\n",
    "            #StimOn[x][block][trial] = StimulusOn-t_0\n",
    "            \n",
    "            ##################################################\n",
    "            # SUPPRESSION DES SACCADES\n",
    "            ##################################################\n",
    "            gradient_deg_NAN[x][block].append(gradient_deg)\n",
    "            #gradient_deg_NAN[x][block][trial] = gradient_deg\n",
    "\n",
    "            for s in range(len(saccades)) :\n",
    "                if saccades[s][1]-t_0+15 <= (len(trackertime)) :\n",
    "                    for x_data in np.arange((saccades[s][0]-t_0-5), (saccades[s][1]-t_0+15)) :\n",
    "                        gradient_deg_NAN[x][block][trial][x_data] = np.nan\n",
    "                else :\n",
    "                    for x_data in np.arange((saccades[s][0]-t_0-5), (len(trackertime))) :\n",
    "                        gradient_deg_NAN[x][block][trial][x_data] = np.nan\n"
   ]
  },
  {
   "cell_type": "markdown",
   "metadata": {},
   "source": [
    "# P_reel"
   ]
  },
  {
   "cell_type": "code",
   "execution_count": null,
   "metadata": {},
   "outputs": [],
   "source": [
    "def Trace_Moyenne_P_reel(delta, color, title, mean=False, pas_tps=10, ax=None, stop=800) :\n",
    "    va_r, va_l = {}, {}\n",
    "    \n",
    "    PROBA = np.arange(0,1,delta)\n",
    "    for p_r in PROBA :\n",
    "        va_r[p_r], va_l[p_r] = [], []\n",
    "        \n",
    "    if mean is not True :\n",
    "        pas_tps = 1\n",
    "        \n",
    "    for x in range(len(exp)) :\n",
    "\n",
    "        N_blocks = exp[x]['N_blocks']\n",
    "        N_trials = exp[x]['N_trials']\n",
    "        p = exp[x]['p']\n",
    "        \n",
    "        for block in range(N_blocks) :\n",
    "            for trial in range(N_trials) :                \n",
    "                TargetOn = TargOn[x][block][trial]\n",
    "                bino=p[trial, block, 0]\n",
    "                p_reel = p[trial, block, 1]\n",
    "\n",
    "                for p_r in PROBA :\n",
    "                    if p_reel >= p_r and p_reel < (p_r + delta) :\n",
    "                        if bino == 0 : # droite c'est 1 gauche c'est 0\n",
    "                            va_l[p_r].append(gradient_deg_NAN[x][block][trial][TargetOn-300:TargetOn+700])\n",
    "                        elif bino == 1 :\n",
    "                            va_r[p_r].append(gradient_deg_NAN[x][block][trial][TargetOn-300:TargetOn+700])\n",
    "\n",
    "\n",
    "    if ax is None :\n",
    "        fig_width = 20\n",
    "        fig, ax = plt.subplots(1, 1, figsize=(fig_width, 1*fig_width/(1.6180*1)))\n",
    "    ax.plot(np.zeros(stop), c='k', alpha=0.6)            \n",
    "    x=0                      \n",
    "    for p_r in PROBA :\n",
    "        mean_va_r, mean_va_l = [], []\n",
    "        std_va_r, std_va_l = [], []\n",
    "        \n",
    "        for tps in range(stop) :\n",
    "            liste_r = []\n",
    "            for a in range(len(va_r[p_r])) :\n",
    "                liste_r.append(va_r[p_r][a][tps])\n",
    "            mean_va_r.append(np.nanmean(liste_r))\n",
    "            std_va_r.append(np.nanstd(liste_r))\n",
    "\n",
    "            liste_l = []\n",
    "            for b in range(len(va_l[p_r])) :\n",
    "                liste_l.append(va_l[p_r][b][tps])\n",
    "            mean_va_l.append(np.nanmean(liste_l))\n",
    "            std_va_l.append(np.nanstd(liste_l))\n",
    "\n",
    "            \n",
    "        if mean is True :\n",
    "            pipou = 0\n",
    "            mean_m_r, mean_m_l = [], []\n",
    "            std_m_r, std_m_l = [], []\n",
    "            for pipou in np.arange(0,len(mean_va_l),pas_tps) :\n",
    "                mean_m_r.append(np.nanmean(mean_va_r[pipou:pipou+pas_tps]))\n",
    "                mean_m_l.append(np.nanmean(mean_va_l[pipou:pipou+pas_tps]))\n",
    "                std_m_r.append(np.nanmean(std_va_r[pipou:pipou+pas_tps]))\n",
    "                std_m_l.append(np.nanmean(std_va_l[pipou:pipou+pas_tps]))\n",
    "\n",
    "        else :\n",
    "            mean_m_r, mean_m_l = mean_va_r, mean_va_l\n",
    "            std_m_r, std_m_l = std_va_r, std_va_l\n",
    "            \n",
    "        mean_r = np.asarray(mean_m_r)\n",
    "        mean_l = np.asarray(mean_m_l)\n",
    "        std_r = np.asarray(std_m_r)\n",
    "        std_l = np.asarray(std_m_l)\n",
    "        \n",
    "        ax.plot(mean_r, c=color[x], lw=2.5, alpha=1, label=' p = %.1f - %.1f'%(p_r, p_r+delta))\n",
    "        ax.plot(mean_l, c=color[x], lw=2.5, alpha=1)\n",
    "        ax.fill_between(range(int(stop/pas_tps)), mean_r+std_r, mean_r-std_r, facecolor=color[x], alpha=0.05)\n",
    "        ax.fill_between(range(int(stop/pas_tps)), mean_l+std_l, mean_l-std_l, facecolor=color[x], alpha=0.05)\n",
    "\n",
    "\n",
    "        x=x+1 \n",
    "\n",
    "    \n",
    "    ax.axvspan(0, int(300/pas_tps), color='r', alpha=0.2)\n",
    "    ax.axvspan(int(300/pas_tps), int(stop/pas_tps), color='k', alpha=0.15)\n",
    "    \n",
    "    plt.tight_layout(pad=4., w_pad=3., h_pad=3.)\n",
    "    \n",
    "    ax.set_xticks(np.arange(0,(stop/pas_tps)+1,pas_tps))\n",
    "    ax.set_xticklabels(np.arange(-300,stop-300+1,100))\n",
    "    \n",
    "    ax.tick_params(axis='both', labelsize=size_tick)\n",
    "    ax.axis([0, (stop/pas_tps), -21.28, 21.28])\n",
    "    \n",
    "    ax.legend(loc=3, fontsize=size_legend, framealpha=0.3)\n",
    "    ax.set_title(title, fontsize=size_title)\n",
    "    return ax"
   ]
  },
  {
   "cell_type": "code",
   "execution_count": null,
   "metadata": {
    "scrolled": true
   },
   "outputs": [],
   "source": [
    "fig_width = 15\n",
    "size_legend = 50\n",
    "size_tick = 30\n",
    "\n",
    "delta = 0.2\n",
    "#color = ['b','g','r','c','m']\n",
    "color = ['black','dimgrey','indianred','darkred','red']\n",
    "#color = ['black','dimgrey','darkred','red']\n",
    "\n",
    "fig, axs = plt.subplots(1, 1, figsize=(1*fig_width, 1*fig_width))#/(1.6180*1)))\n",
    "axs = Trace_Moyenne_P_reel(delta, color, '', mean=True, ax=axs)\n",
    "\n",
    "plt.show()\n",
    "fig.savefig('figures/Trace_moyenne.png', dpi=400)"
   ]
  },
  {
   "cell_type": "code",
   "execution_count": null,
   "metadata": {
    "collapsed": true
   },
   "outputs": [],
   "source": []
  },
  {
   "cell_type": "code",
   "execution_count": null,
   "metadata": {
    "collapsed": true
   },
   "outputs": [],
   "source": []
  },
  {
   "cell_type": "markdown",
   "metadata": {},
   "source": [
    "# P_hat"
   ]
  },
  {
   "cell_type": "code",
   "execution_count": null,
   "metadata": {
    "collapsed": true
   },
   "outputs": [],
   "source": [
    "import bayesianchangepoint as bcp"
   ]
  },
  {
   "cell_type": "code",
   "execution_count": null,
   "metadata": {
    "collapsed": true
   },
   "outputs": [],
   "source": [
    "p_hat_bcp_e = []\n",
    "p_hat_bcp_m = []\n",
    "\n",
    "for x in range(len(exp)):\n",
    "    \n",
    "    p_hat_bcp_e.append([])\n",
    "    p_hat_bcp_m.append([])\n",
    "    \n",
    "    N_trials = exp[x]['N_trials']\n",
    "    N_blocks = exp[x]['N_blocks']\n",
    "    p = exp[x]['p']\n",
    "    tau = N_trials/5.\n",
    "    h = 1./tau\n",
    "    \n",
    "    for block in range(N_blocks):\n",
    "        p_hat_bcp_e[x].append([])\n",
    "        p_hat_bcp_m[x].append([])\n",
    "        \n",
    "        liste = [0,50,100,150,200]\n",
    "        for a in range(len(liste)-1) :\n",
    "            p_bar, r, beliefs = bcp.inference(p[liste[a]:liste[a+1], block, 0], h=h, p0=.5)\n",
    "            p_hat_e, r_hat_e = bcp.readout(p_bar, r, beliefs, mode='expectation')\n",
    "            p_hat_m, r_hat_m = bcp.readout(p_bar, r, beliefs, mode='max')\n",
    "            \n",
    "            p_hat_bcp_e[x][block].extend(p_hat_e)\n",
    "            p_hat_bcp_m[x][block].extend(p_hat_m)"
   ]
  },
  {
   "cell_type": "code",
   "execution_count": null,
   "metadata": {
    "collapsed": true
   },
   "outputs": [],
   "source": [
    "def Trace_Moyenne_P_hat(delta, color, title, mean=False, pas_tps=10, ax=None, stop=700) :\n",
    "    va_r, va_l = {}, {}\n",
    "\n",
    "    PROBA = np.arange(0,1,delta)\n",
    "    for p_r in PROBA :\n",
    "        va_r[p_r], va_l[p_r] = [], []\n",
    "    if mean is not True :\n",
    "        pas_tps = 1\n",
    "        \n",
    "    for x in range(len(exp)) :\n",
    "\n",
    "        N_blocks = exp[x]['N_blocks']\n",
    "        N_trials = exp[x]['N_trials']\n",
    "        p = exp[x]['p']\n",
    "        \n",
    "        for block in range(N_blocks) :\n",
    "            for trial in range(N_trials) :                \n",
    "                TargetOn = TargOn[x][block][trial]\n",
    "                \n",
    "                bino=p[trial, block, 0]\n",
    "                phat = p_hat_bcp_e[x][block][trial]\n",
    "                #phat = p_hat_bcp_m[x][block][trial]\n",
    "                \n",
    "                for p_r in PROBA :\n",
    "                    if phat >= p_r and phat < (p_r + delta) :\n",
    "                        if bino == 0 : # droite c'est 1 gauche c'est 0\n",
    "                            va_l[p_r].append(gradient_deg_NAN[x][block][trial][TargetOn-400:TargetOn+500])\n",
    "                        elif bino == 1 :\n",
    "                            va_r[p_r].append(gradient_deg_NAN[x][block][trial][TargetOn-400:TargetOn+500])\n",
    "\n",
    "    if ax is None :\n",
    "        fig_width = 20\n",
    "        fig, ax = plt.subplots(1, 1, figsize=(fig_width, 1*fig_width/(1.6180*1)))\n",
    "    ax.plot(np.zeros(stop), c='k', alpha=0.6)            \n",
    "    x=0                      \n",
    "    for p_r in PROBA :\n",
    "        mean_va_r, mean_va_l = [], []\n",
    "        std_va_r, std_va_l = [], []\n",
    "        \n",
    "        for tps in range(stop) :\n",
    "            liste_r = []\n",
    "            for a in range(len(va_r[p_r])) :\n",
    "                liste_r.append(va_r[p_r][a][tps])\n",
    "            mean_va_r.append(np.nanmean(liste_r))\n",
    "            std_va_r.append(np.nanstd(liste_r))\n",
    "\n",
    "            liste_l = []\n",
    "            for b in range(len(va_l[p_r])) :\n",
    "                liste_l.append(va_l[p_r][b][tps])\n",
    "            mean_va_l.append(np.nanmean(liste_l))\n",
    "            std_va_l.append(np.nanstd(liste_l))\n",
    "\n",
    "        if mean is True :\n",
    "            pipou = 0\n",
    "            mean_m_r, mean_m_l = [], []\n",
    "            std_m_r, std_m_l = [], []\n",
    "            for pipou in np.arange(0,len(mean_va_l),pas_tps) :\n",
    "                mean_m_r.append(np.nanmean(mean_va_r[pipou:pipou+pas_tps]))\n",
    "                mean_m_l.append(np.nanmean(mean_va_l[pipou:pipou+pas_tps]))\n",
    "                std_m_r.append(np.nanmean(std_va_r[pipou:pipou+pas_tps]))\n",
    "                std_m_l.append(np.nanmean(std_va_l[pipou:pipou+pas_tps]))\n",
    "\n",
    "        else :\n",
    "            mean_m_r, mean_m_l = mean_va_r, mean_va_l\n",
    "            std_m_r, std_m_l = std_va_r, std_va_l\n",
    "            \n",
    "        mean_r = np.asarray(mean_m_r)\n",
    "        mean_l = np.asarray(mean_m_l)\n",
    "        std_r = np.asarray(std_m_r)\n",
    "        std_l = np.asarray(std_m_l)\n",
    "            \n",
    "        ax.plot(mean_r, c=color[x], lw=1, alpha=0.6, label=' p = %.1f - %.1f'%(p_r, p_r+delta))\n",
    "        ax.plot(mean_l, c=color[x], lw=1, alpha=0.6)\n",
    "        ax.fill_between(range(int(stop/pas_tps)), mean_r+std_r, mean_r-std_r, facecolor=color[x], alpha=0.1)\n",
    "        ax.fill_between(range(int(stop/pas_tps)), mean_l+std_l, mean_l-std_l, facecolor=color[x], alpha=0.1)\n",
    "        \n",
    "        x=x+1 \n",
    "\n",
    "    ax.axvspan(0, int(300/pas_tps), color='r', alpha=0.2)\n",
    "    ax.axvspan(int(300/pas_tps), int(stop/pas_tps), color='k', alpha=0.15)\n",
    "    ax.axis([-0.1, (stop/pas_tps)+0.1, -21.28, 21.28])\n",
    "    \n",
    "    ax.set_xticklabels(np.arange(-400,stop+100,100))\n",
    "    ax.legend(loc=2, fontsize=12)\n",
    "    ax.set_title(title, fontsize=size_title)\n",
    "    return ax"
   ]
  },
  {
   "cell_type": "code",
   "execution_count": null,
   "metadata": {
    "collapsed": true
   },
   "outputs": [],
   "source": [
    "fig_width = 15\n",
    "size_title = 20"
   ]
  },
  {
   "cell_type": "code",
   "execution_count": null,
   "metadata": {
    "collapsed": true
   },
   "outputs": [],
   "source": [
    "delta = 0.1\n",
    "color = ['black','grey','darkgrey','rosybrown','lightcoral','indianred','firebrick','brown','darkred','red']\n",
    "\n",
    "fig, axs = plt.subplots(2, 2, figsize=(2*fig_width, 2*fig_width/(1.6180*1)))\n",
    "axs[0][0] = Trace_Moyenne_P_reel(delta, color, '$P_{reel}$', ax=axs[0][0])\n",
    "axs[0][1] = Trace_Moyenne_P_hat(delta, color, '$\\hat{P}$', ax=axs[0][1])\n",
    "axs[1][0] = Trace_Moyenne_P_reel(delta, color, 'mean $P_{reel}$', mean=True, ax=axs[1][0])\n",
    "axs[1][1] = Trace_Moyenne_P_hat(delta, color, 'mean $\\hat{P}$', mean=True, ax=axs[1][1])\n",
    "plt.show()"
   ]
  },
  {
   "cell_type": "code",
   "execution_count": null,
   "metadata": {
    "collapsed": true
   },
   "outputs": [],
   "source": [
    "delta = 0.2\n",
    "color = ['black','dimgrey','indianred','darkred','red']\n",
    "\n",
    "fig, axs = plt.subplots(2, 2, figsize=(2*fig_width, 2*fig_width/(1.6180*1)))\n",
    "axs[0][0] = Trace_Moyenne_P_reel(delta, color, '$P_{reel}$', ax=axs[0][0])\n",
    "axs[0][1] = Trace_Moyenne_P_hat(delta, color, '$\\hat{P}$', ax=axs[0][1])\n",
    "axs[1][0] = Trace_Moyenne_P_reel(delta, color, 'mean $P_{reel}$', mean=True, ax=axs[1][0])\n",
    "axs[1][1] = Trace_Moyenne_P_hat(delta, color, 'mean $\\hat{P}$', mean=True, ax=axs[1][1])\n",
    "plt.show()"
   ]
  },
  {
   "cell_type": "code",
   "execution_count": null,
   "metadata": {
    "collapsed": true
   },
   "outputs": [],
   "source": [
    "delta = 0.25\n",
    "color = ['black','dimgrey','darkred','red']\n",
    "\n",
    "fig, axs = plt.subplots(2, 2, figsize=(2*fig_width, 2*fig_width/(1.6180*1)))\n",
    "axs[0][0] = Trace_Moyenne_P_reel(delta, color, '$P_{reel}$', ax=axs[0][0])\n",
    "axs[0][1] = Trace_Moyenne_P_hat(delta, color, '$\\hat{P}$', ax=axs[0][1])\n",
    "axs[1][0] = Trace_Moyenne_P_reel(delta, color, 'mean $P_{reel}$', mean=True, ax=axs[1][0])\n",
    "axs[1][1] = Trace_Moyenne_P_hat(delta, color, 'mean $\\hat{P}$', mean=True, ax=axs[1][1])\n",
    "plt.show()"
   ]
  }
 ],
 "metadata": {
  "kernelspec": {
   "display_name": "Python 3",
   "language": "python",
   "name": "python3"
  },
  "language_info": {
   "codemirror_mode": {
    "name": "ipython",
    "version": 3
   },
   "file_extension": ".py",
   "mimetype": "text/x-python",
   "name": "python",
   "nbconvert_exporter": "python",
   "pygments_lexer": "ipython3",
   "version": "3.5.2"
  },
  "toc": {
   "base_numbering": 1,
   "nav_menu": {},
   "number_sections": true,
   "sideBar": true,
   "skip_h1_title": false,
   "title_cell": "Table of Contents",
   "title_sidebar": "Contents",
   "toc_cell": false,
   "toc_position": {},
   "toc_section_display": true,
   "toc_window_display": false
  }
 },
 "nbformat": 4,
 "nbformat_minor": 2
}
