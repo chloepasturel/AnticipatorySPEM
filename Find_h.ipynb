{
 "cells": [
  {
   "cell_type": "code",
   "execution_count": 1,
   "metadata": {
    "scrolled": false
   },
   "outputs": [
    {
     "name": "stdout",
     "output_type": "stream",
     "text": [
      "\n",
      "WELCOME\n",
      "\n"
     ]
    }
   ],
   "source": [
    "%run 0_parameters.ipynb"
   ]
  },
  {
   "cell_type": "code",
   "execution_count": 2,
   "metadata": {},
   "outputs": [],
   "source": [
    "import glob\n",
    "import bayesianchangepoint as bcp"
   ]
  },
  {
   "cell_type": "raw",
   "metadata": {},
   "source": [
    "!ls data/"
   ]
  },
  {
   "cell_type": "code",
   "execution_count": 3,
   "metadata": {
    "ExecuteTime": {
     "end_time": "2018-07-13T14:09:02.644736Z",
     "start_time": "2018-07-13T14:09:02.600752Z"
    }
   },
   "outputs": [],
   "source": [
    "msfigpath = '../PasturelMontagniniPerrinet2019/figures'"
   ]
  },
  {
   "cell_type": "code",
   "execution_count": 4,
   "metadata": {},
   "outputs": [],
   "source": [
    "from aSPEM import Analysis\n",
    "e = Analysis(name_file_fit='fct_velocity_sigmo')"
   ]
  },
  {
   "cell_type": "markdown",
   "metadata": {},
   "source": [
    "# find_h"
   ]
  },
  {
   "cell_type": "code",
   "execution_count": 5,
   "metadata": {},
   "outputs": [],
   "source": [
    "import pickle"
   ]
  },
  {
   "cell_type": "code",
   "execution_count": 6,
   "metadata": {},
   "outputs": [],
   "source": [
    "def r_(p, data) :\n",
    "    \n",
    "    p = np.ma.masked_array(p, mask=np.isnan(data)).compressed()\n",
    "    data = np.ma.masked_array(data, mask=np.isnan(data)).compressed()\n",
    "\n",
    "    from scipy import stats\n",
    "    slope, intercept, r_, p_value, std_err = stats.linregress(p, data)\n",
    "    \n",
    "    return r_"
   ]
  },
  {
   "cell_type": "code",
   "execution_count": 7,
   "metadata": {
    "scrolled": true
   },
   "outputs": [
    {
     "name": "stdout",
     "output_type": "stream",
     "text": [
      "SR "
     ]
    },
    {
     "name": "stderr",
     "output_type": "stream",
     "text": [
      "/usr/local/lib/python3.6/dist-packages/scipy/stats/_stats_mstats_common.py:130: RuntimeWarning: invalid value encountered in double_scalars\n",
      "  slope = r_num / ssxm\n",
      "/usr/local/lib/python3.6/dist-packages/scipy/stats/_stats_mstats_common.py:142: RuntimeWarning: divide by zero encountered in double_scalars\n",
      "  sterrest = np.sqrt((1 - r**2) * ssym / ssxm / df)\n"
     ]
    },
    {
     "name": "stdout",
     "output_type": "stream",
     "text": [
      "AM TN DC LB YK OP RS CS BMC FM IP "
     ]
    }
   ],
   "source": [
    "Full = e.Full_list(modes_bcp=[])\n",
    "modes_bcp = 'mean'\n",
    "tau = np.arange(1, 10001, 1)\n",
    "list_h = 1/tau\n",
    "\n",
    "r_va, r_bet = {}, {}\n",
    "for num, s in enumerate(set(Full.sujet)) :\n",
    "    \n",
    "    print(s, end=' ')\n",
    "    va = Full['va'][Full.sujet==s].values.tolist()\n",
    "    bet = Full['results'][Full.sujet==s].values.tolist()\n",
    "    x = np.array(Full['bino'][Full.sujet==s].values.tolist())\n",
    "\n",
    "    r_va[s], r_bet[s] = [], []\n",
    "    for c in range(0, 3*200-150, 50) : r_va[s].append([]) ; r_bet[s].append([])\n",
    "\n",
    "    for h in list_h :\n",
    "\n",
    "        for d, c in enumerate(range(0, 3*200-150, 200)) :\n",
    "            x_200 = x[c:c+200]\n",
    "            p_hat_200 = np.zeros(200)\n",
    "\n",
    "            liste = [0, 50, 100, 150, 200]\n",
    "            for a in range(len(liste)-1) :\n",
    "                p_bar, r_bar, beliefs = bcp.inference(x_200[liste[a]:liste[a+1]], h=h, p0=.5, r0=1.)\n",
    "                p_hat_p, r_hat = bcp.readout(p_bar, r_bar, beliefs, mode=modes_bcp, p0=.5, fixed_window_size=40)\n",
    "                p_hat_200[liste[a]:liste[a+1]] = p_hat_p\n",
    "            \n",
    "            r_va[s][d].append(r_(p_hat_200.tolist(), va[c:c+200]))\n",
    "            r_bet[s][d].append(r_(p_hat_200.tolist(), bet[c:c+200]))\n",
    "recording = {}\n",
    "recording['list_h'] = list_h\n",
    "recording['list_tau'] = tau\n",
    "recording['r_va'] = r_va\n",
    "recording['r_bet'] = r_bet\n",
    "\n",
    "file = os.path.join('parametre', 'list_h_block.pkl')\n",
    "with open(file, 'wb') as fichier:\n",
    "    f = pickle.Pickler(fichier)\n",
    "    f.dump(recording)"
   ]
  },
  {
   "cell_type": "raw",
   "metadata": {
    "collapsed": true
   },
   "source": [
    "Full = e.Full_list(modes_bcp=[])\n",
    "modes_bcp = 'mean'\n",
    "#list_h = np.geomspace(0.0025, 0.25, 1000)# 21)\n",
    "#list_h = np.geomspace(0.001, 0.5, 100)# 21)\n",
    "tau = np.arange(1, 601, 1)\n",
    "list_h = 1/tau\n",
    "\n",
    "r_va, r_bet = {}, {}\n",
    "for num, s in enumerate(set(Full.sujet)) :\n",
    "    \n",
    "    print(s, end=' ')\n",
    "    va = Full['va'][Full.sujet==s].values.tolist()\n",
    "    bet = Full['results'][Full.sujet==s].values.tolist()\n",
    "    x = np.array(Full['bino'][Full.sujet==s].values.tolist())\n",
    "\n",
    "    r_va[s], r_bet[s] = [], []\n",
    "    for c in range(0, 3*200-50, 50) : r_va[s].append([]) ; r_bet[s].append([])\n",
    "\n",
    "    for h in list_h :\n",
    "\n",
    "        for d, c in enumerate(range(0, 3*200-50, 50)) :\n",
    "            x_100 = x[c:c+100]\n",
    "            p_hat_100 = np.zeros(100)\n",
    "\n",
    "            liste = [0, 50, 100]\n",
    "            for a in range(len(liste)-1) :\n",
    "                p_bar, r_bar, beliefs = bcp.inference(x_100[liste[a]:liste[a+1]], h=h, p0=.5, r0=1.)\n",
    "                p_hat_p, r_hat = bcp.readout(p_bar, r_bar, beliefs, mode=modes_bcp, p0=.5, fixed_window_size=40)\n",
    "                p_hat_100[liste[a]:liste[a+1]] = p_hat_p\n",
    "            \n",
    "            r_va[s][d].append(r_(p_hat_100.tolist(), va[c:c+100]))\n",
    "            r_bet[s][d].append(r_(p_hat_100.tolist(), bet[c:c+100]))\n",
    "recording = {}\n",
    "recording['list_h'] = list_h\n",
    "recording['list_tau'] = tau\n",
    "recording['r_va'] = r_va\n",
    "recording['r_bet'] = r_bet\n",
    "\n",
    "file = os.path.join('parametre', 'list_h_100.pkl')\n",
    "with open(file, 'wb') as fichier:\n",
    "    f = pickle.Pickler(fichier)\n",
    "    f.dump(recording)"
   ]
  },
  {
   "cell_type": "raw",
   "metadata": {},
   "source": [
    "Full = e.Full_list(modes_bcp=[])\n",
    "modes_bcp = 'mean'\n",
    "tau = np.arange(1, 601, 1)\n",
    "list_h = 1/tau\n",
    "\n",
    "r_va, r_bet = {}, {}\n",
    "for num, s in enumerate(set(Full.sujet)) :\n",
    "    \n",
    "    print(s, end=' ')\n",
    "    va = Full['va'][Full.sujet==s].values.tolist()\n",
    "    bet = Full['results'][Full.sujet==s].values.tolist()\n",
    "    x = np.array(Full['bino'][Full.sujet==s].values.tolist())\n",
    "\n",
    "    r_va[s], r_bet[s] = [], []\n",
    "    for c in range(0, 3*200-100, 50) : r_va[s].append([]) ; r_bet[s].append([])\n",
    "\n",
    "    for h in list_h :\n",
    "\n",
    "        for d, c in enumerate(range(0, 3*200-100, 50)) :\n",
    "            x_150 = x[c:c+150]\n",
    "            p_hat_150 = np.zeros(150)\n",
    "\n",
    "            liste = [0, 50, 100, 150]\n",
    "            for a in range(len(liste)-1) :\n",
    "                p_bar, r_bar, beliefs = bcp.inference(x_150[liste[a]:liste[a+1]], h=h, p0=.5, r0=1.)\n",
    "                p_hat_p, r_hat = bcp.readout(p_bar, r_bar, beliefs, mode=modes_bcp, p0=.5, fixed_window_size=40)\n",
    "                p_hat_150[liste[a]:liste[a+1]] = p_hat_p\n",
    "            \n",
    "            r_va[s][d].append(r_(p_hat_150.tolist(), va[c:c+150]))\n",
    "            r_bet[s][d].append(r_(p_hat_150.tolist(), bet[c:c+150]))\n",
    "recording = {}\n",
    "recording['list_h'] = list_h\n",
    "recording['list_tau'] = tau\n",
    "recording['r_va'] = r_va\n",
    "recording['r_bet'] = r_bet\n",
    "\n",
    "file = os.path.join('parametre', 'list_h_150.pkl')\n",
    "with open(file, 'wb') as fichier:\n",
    "    f = pickle.Pickler(fichier)\n",
    "    f.dump(recording)"
   ]
  },
  {
   "cell_type": "raw",
   "metadata": {
    "scrolled": true
   },
   "source": [
    "Full = e.Full_list(modes_bcp=[])\n",
    "modes_bcp = 'mean'\n",
    "tau = np.arange(1, 601, 1)\n",
    "list_h = 1/tau\n",
    "\n",
    "r_va, r_bet = {}, {}\n",
    "for num, s in enumerate(set(Full.sujet)) :\n",
    "    \n",
    "    print(s, end=' ')\n",
    "    va = Full['va'][Full.sujet==s].values.tolist()\n",
    "    bet = Full['results'][Full.sujet==s].values.tolist()\n",
    "    x = np.array(Full['bino'][Full.sujet==s].values.tolist())\n",
    "\n",
    "    r_va[s], r_bet[s] = [], []\n",
    "    for c in range(0, 3*200-150, 50) : r_va[s].append([]) ; r_bet[s].append([])\n",
    "\n",
    "    for h in list_h :\n",
    "\n",
    "        for d, c in enumerate(range(0, 3*200-150, 50)) :\n",
    "            x_200 = x[c:c+200]\n",
    "            p_hat_200 = np.zeros(200)\n",
    "\n",
    "            liste = [0, 50, 100, 150, 200]\n",
    "            for a in range(len(liste)-1) :\n",
    "                p_bar, r_bar, beliefs = bcp.inference(x_200[liste[a]:liste[a+1]], h=h, p0=.5, r0=1.)\n",
    "                p_hat_p, r_hat = bcp.readout(p_bar, r_bar, beliefs, mode=modes_bcp, p0=.5, fixed_window_size=40)\n",
    "                p_hat_200[liste[a]:liste[a+1]] = p_hat_p\n",
    "            \n",
    "            r_va[s][d].append(r_(p_hat_200.tolist(), va[c:c+200]))\n",
    "            r_bet[s][d].append(r_(p_hat_200.tolist(), bet[c:c+200]))\n",
    "recording = {}\n",
    "recording['list_h'] = list_h\n",
    "recording['list_tau'] = tau\n",
    "recording['r_va'] = r_va\n",
    "recording['r_bet'] = r_bet\n",
    "\n",
    "file = os.path.join('parametre', 'list_h_200.pkl')\n",
    "with open(file, 'wb') as fichier:\n",
    "    f = pickle.Pickler(fichier)\n",
    "    f.dump(recording)"
   ]
  },
  {
   "cell_type": "code",
   "execution_count": null,
   "metadata": {},
   "outputs": [],
   "source": []
  }
 ],
 "metadata": {
  "kernelspec": {
   "display_name": "Python 3",
   "language": "python",
   "name": "python3"
  },
  "language_info": {
   "codemirror_mode": {
    "name": "ipython",
    "version": 3
   },
   "file_extension": ".py",
   "mimetype": "text/x-python",
   "name": "python",
   "nbconvert_exporter": "python",
   "pygments_lexer": "ipython3",
   "version": "3.6.7"
  },
  "toc": {
   "base_numbering": 1,
   "nav_menu": {
    "height": "48px",
    "width": "252px"
   },
   "number_sections": true,
   "sideBar": true,
   "skip_h1_title": false,
   "title_cell": "Table of Contents",
   "title_sidebar": "Contents",
   "toc_cell": false,
   "toc_position": {},
   "toc_section_display": "block",
   "toc_window_display": false
  }
 },
 "nbformat": 4,
 "nbformat_minor": 2
}
