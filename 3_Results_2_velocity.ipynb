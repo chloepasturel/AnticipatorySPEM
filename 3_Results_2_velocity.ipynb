{
 "cells": [
  {
   "cell_type": "markdown",
   "metadata": {},
   "source": [
    "# aSPEM Experiment : analysis\n",
    "\n",
    "\n"
   ]
  },
  {
   "cell_type": "code",
   "execution_count": null,
   "metadata": {
    "ExecuteTime": {
     "end_time": "2018-07-03T14:53:21.244223Z",
     "start_time": "2018-07-03T14:53:20.326523Z"
    },
    "collapsed": true
   },
   "outputs": [],
   "source": [
    "%load_ext autoreload\n",
    "%autoreload 2\n",
    "from __future__ import division, print_function, absolute_import\n",
    "import matplotlib.pyplot as plt\n",
    "%matplotlib inline"
   ]
  },
  {
   "cell_type": "raw",
   "metadata": {},
   "source": [
    "%load_ext version_information\n",
    "%version_information numpy, matplotlib"
   ]
  },
  {
   "cell_type": "raw",
   "metadata": {},
   "source": [
    "!ls data/"
   ]
  },
  {
   "cell_type": "code",
   "execution_count": null,
   "metadata": {
    "ExecuteTime": {
     "end_time": "2018-07-03T14:53:21.288871Z",
     "start_time": "2018-07-03T14:53:21.253058Z"
    },
    "collapsed": true
   },
   "outputs": [],
   "source": [
    "t_titre = 35\n",
    "t_label = 25\n",
    "fig_width= 15\n",
    "exts = ['.png', '.svg']\n",
    "dpi = 400\n"
   ]
  },
  {
   "cell_type": "code",
   "execution_count": null,
   "metadata": {
    "ExecuteTime": {
     "end_time": "2018-07-03T14:53:26.729808Z",
     "start_time": "2018-07-03T14:53:21.296767Z"
    },
    "collapsed": true,
    "scrolled": false
   },
   "outputs": [],
   "source": [
    "observer = 'AM'\n",
    "mode = 'pari'\n",
    "from aSPEM import Analysis\n",
    "e = Analysis(observer=observer, mode=mode)"
   ]
  },
  {
   "cell_type": "markdown",
   "metadata": {},
   "source": [
    "mode_bcp='reel', 'fixed', 'max', 'expectation'\n",
    "mode_kde=None, 'normal', 'mean'"
   ]
  },
  {
   "cell_type": "code",
   "execution_count": null,
   "metadata": {
    "ExecuteTime": {
     "end_time": "2018-07-03T14:53:36.211470Z",
     "start_time": "2018-07-03T14:53:26.737011Z"
    },
    "scrolled": true
   },
   "outputs": [],
   "source": [
    "sujet = [6, 10, 5, 2]\n",
    "fig, axs = e.plot_results(sujet=sujet, plot='sujet')"
   ]
  },
  {
   "cell_type": "code",
   "execution_count": null,
   "metadata": {
    "ExecuteTime": {
     "end_time": "2018-07-03T14:54:00.132624Z",
     "start_time": "2018-07-03T14:53:36.220008Z"
    },
    "scrolled": true
   },
   "outputs": [],
   "source": [
    "for i_sujet, sujet_ in enumerate([[6, 10], [5, 2]]):\n",
    "    fig, axs = e.plot_results(sujet=sujet_, plot='sujet')\n",
    "    for ext in exts: fig.savefig('figures/Results_BCP_velocity_' + str(i_sujet) + ext, dpi=dpi)\n",
    "    #plt.subplots_adjust(hspace=0.1)\n",
    "    #fig.tight_layout()\n",
    "    plt.show()"
   ]
  },
  {
   "cell_type": "code",
   "execution_count": null,
   "metadata": {
    "ExecuteTime": {
     "end_time": "2018-07-03T14:54:00.192142Z",
     "start_time": "2018-07-03T14:54:00.140459Z"
    },
    "collapsed": true
   },
   "outputs": [],
   "source": [
    "sujet = [6, 10, 5, 2]"
   ]
  },
  {
   "cell_type": "code",
   "execution_count": null,
   "metadata": {
    "ExecuteTime": {
     "end_time": "2018-07-03T14:54:14.463911Z",
     "start_time": "2018-07-03T14:54:00.201199Z"
    },
    "scrolled": true
   },
   "outputs": [],
   "source": [
    "fig, axs = e.plot_results(mode_bcp='expectation', sujet=sujet)"
   ]
  },
  {
   "cell_type": "code",
   "execution_count": null,
   "metadata": {
    "ExecuteTime": {
     "end_time": "2018-07-03T14:55:09.255141Z",
     "start_time": "2018-07-03T14:54:14.470996Z"
    },
    "scrolled": true
   },
   "outputs": [],
   "source": [
    "for mode in ['expectation', 'max', 'fixed']:\n",
    "    fig, ax = e.plot_results(mode_bcp=mode, sujet=sujet, plot='scatterKDE')\n",
    "    plt.subplots_adjust(hspace=0.1)\n",
    "    fig.tight_layout()\n",
    "    for ext in exts: fig.savefig('figures/scatter_velocity_' + mode + ext, dpi=dpi)\n",
    "    plt.show()\n"
   ]
  },
  {
   "cell_type": "code",
   "execution_count": null,
   "metadata": {
    "ExecuteTime": {
     "end_time": "2018-07-03T15:01:14.808067Z",
     "start_time": "2018-07-03T14:55:09.263845Z"
    },
    "scrolled": true
   },
   "outputs": [],
   "source": [
    "for mode in ['expectation', 'max', 'fixed']:\n",
    "    fig, axs = e.plot_results(mode_bcp=mode, mode_kde='mean', sujet=sujet, plot='scatterKDE')\n",
    "    plt.subplots_adjust(hspace=0.1)\n",
    "    fig.tight_layout()\n",
    "    for ext in exts: fig.savefig('figures/kde_mean_velocity_' + mode + ext, dpi=dpi)\n",
    "    plt.show()\n"
   ]
  },
  {
   "cell_type": "code",
   "execution_count": null,
   "metadata": {
    "ExecuteTime": {
     "end_time": "2018-07-03T15:09:11.445767Z",
     "start_time": "2018-07-03T15:01:14.815228Z"
    },
    "scrolled": true
   },
   "outputs": [],
   "source": [
    "for sujet_ in sujet:\n",
    "    fig, axs = e.plot_results(mode_bcp='expectation', mode_kde='mean', sujet=[sujet_])\n",
    "    #for ext in exts: fig.savefig('figures/Results_BCP_sujet_' + str(sujet_) + ext, dpi=dpi)\n",
    "    plt.show()"
   ]
  },
  {
   "cell_type": "code",
   "execution_count": null,
   "metadata": {
    "ExecuteTime": {
     "end_time": "2018-07-03T15:17:06.718552Z",
     "start_time": "2018-07-03T15:09:11.453066Z"
    },
    "scrolled": true
   },
   "outputs": [],
   "source": [
    "for sujet_ in sujet:\n",
    "    fig, axs = e.plot_results(mode_bcp='expectation', mode_kde='mean', sujet=[sujet_])\n",
    "    #fig.savefig('figures/Results_BCP_sujet_' + str(sujet_) + ext, dpi=dpi)\n",
    "    plt.show()"
   ]
  },
  {
   "cell_type": "code",
   "execution_count": null,
   "metadata": {
    "ExecuteTime": {
     "end_time": "2018-07-03T15:17:18.335333Z",
     "start_time": "2018-07-03T15:17:06.725256Z"
    },
    "scrolled": true
   },
   "outputs": [],
   "source": [
    "fig, axs = e.plot_results(mode_bcp='max', sujet=sujet)"
   ]
  },
  {
   "cell_type": "code",
   "execution_count": null,
   "metadata": {
    "ExecuteTime": {
     "end_time": "2018-07-03T15:19:21.645356Z",
     "start_time": "2018-07-03T15:17:18.341051Z"
    },
    "scrolled": true
   },
   "outputs": [],
   "source": [
    "fig, axs = e.plot_results(mode_bcp='max', mode_kde='mean', sujet=sujet)"
   ]
  },
  {
   "cell_type": "code",
   "execution_count": null,
   "metadata": {
    "ExecuteTime": {
     "end_time": "2018-07-03T15:23:09.165201Z",
     "start_time": "2018-07-03T15:19:21.653313Z"
    },
    "scrolled": true
   },
   "outputs": [],
   "source": [
    "fig, axs = plt.subplots(2, 2, figsize=(fig_width, 2*fig_width/2.2))\n",
    "opt = {'fig':fig, 't_titre':35/1.5, 't_label':25/1.5}\n",
    "\n",
    "fig, axs[0][0] = e.plot_scatter_KDE(mode_kde='normal', axs=axs[0][0], **opt)\n",
    "fig, axs[0][1] = e.plot_scatter_KDE(mode_kde='normal', result='acceleration', axs=axs[0][1], **opt)\n",
    "\n",
    "fig, axs[1][0] = e.plot_scatter_KDE(mode_kde='mean', axs=axs[1][0], **opt)\n",
    "fig, axs[1][1] = e.plot_scatter_KDE(mode_kde='mean', result='acceleration', axs=axs[1][1], **opt)"
   ]
  },
  {
   "cell_type": "code",
   "execution_count": null,
   "metadata": {
    "ExecuteTime": {
     "end_time": "2018-07-03T15:26:59.157388Z",
     "start_time": "2018-07-03T15:23:09.172048Z"
    },
    "scrolled": true
   },
   "outputs": [],
   "source": [
    "fig, axs = plt.subplots(2, 2, figsize=(fig_width, 2*fig_width/2.2))\n",
    "opt = {'mode_bcp':'max', 'fig':fig, 't_titre':35/1.5, 't_label':25/1.5}\n",
    "\n",
    "fig, axs[0][0] = e.plot_scatter_KDE(axs=axs[0][0], **opt)\n",
    "fig, axs[0][1] = e.plot_scatter_KDE(result='acceleration', axs=axs[0][1], **opt)\n",
    "\n",
    "fig, axs[1][0] = e.plot_scatter_KDE(mode_kde='mean', axs=axs[1][0], **opt)\n",
    "fig, axs[1][1] = e.plot_scatter_KDE(mode_kde='mean', result='acceleration', axs=axs[1][1], **opt)"
   ]
  },
  {
   "cell_type": "code",
   "execution_count": null,
   "metadata": {
    "ExecuteTime": {
     "end_time": "2018-07-03T15:26:59.217527Z",
     "start_time": "2018-07-03T15:26:59.165747Z"
    },
    "collapsed": true,
    "scrolled": false
   },
   "outputs": [],
   "source": [
    "import matplotlib.gridspec as gridspec"
   ]
  },
  {
   "cell_type": "code",
   "execution_count": null,
   "metadata": {
    "ExecuteTime": {
     "end_time": "2018-07-03T15:47:26.822058Z",
     "start_time": "2018-07-03T15:26:59.223715Z"
    },
    "scrolled": true
   },
   "outputs": [],
   "source": [
    "hspace = 0.3\n",
    "wspace = 0.1\n",
    "\n",
    "for i_layer in range(4) :\n",
    "    print(i_layer)\n",
    "    fig, axs = plt.subplots(2, i_layer+1, figsize=(fig_width*2, fig_width))\n",
    "    opt = dict(t_titre=35/1.5, t_label=25/1.5, mode_kde='mean', fig=fig)\n",
    "    gs1 = gridspec.GridSpec(2, 1)\n",
    "    gs1.update(left=0, bottom=0, right=1/4, top=1, hspace=hspace)\n",
    "    \n",
    "    if i_layer == 0 :\n",
    "        axs[0] = plt.subplot(gs1[0])\n",
    "        axs[1] = plt.subplot(gs1[1])\n",
    "        fig, axs[0] = e.plot_scatter_KDE(mode_bcp='reel', axs=axs[0], **opt)\n",
    "        fig, axs[1] = e.plot_scatter_KDE(mode_bcp='reel', result='acceleration', axs=axs[1], **opt)\n",
    "\n",
    "    else :\n",
    "        axs[0][0] = plt.subplot(gs1[0])\n",
    "        axs[1][0] = plt.subplot(gs1[1])\n",
    "        fig, axs[0][0] = e.plot_scatter_KDE(mode_bcp='reel', axs=axs[0][0], **opt)\n",
    "        fig, axs[1][0] = e.plot_scatter_KDE(mode_bcp='reel', result='acceleration', axs=axs[1][0], **opt)\n",
    "\n",
    "    if i_layer > 0 :\n",
    "        \n",
    "        gs2 = gridspec.GridSpec(2, 1)\n",
    "        gs2.update(left=1/4+wspace, bottom=0, right=1/2+wspace, top=1, hspace=hspace)\n",
    "        axs[0][1] = plt.subplot(gs2[0])\n",
    "        axs[1][1] = plt.subplot(gs2[1])\n",
    "        fig, axs[0][1] = e.plot_scatter_KDE(mode_bcp='fixed', axs=axs[0][1], **opt)\n",
    "        fig, axs[1][1] = e.plot_scatter_KDE(mode_bcp='fixed', result='acceleration', axs=axs[1][1], **opt)\n",
    "\n",
    "    if i_layer > 1 :\n",
    "        gs3 = gridspec.GridSpec(2, 1)\n",
    "        gs3.update(left=2/4+(wspace*2), bottom=0, right=3/4+(wspace*2), top=1, hspace=hspace)\n",
    "        axs[0][2] = plt.subplot(gs3[0])\n",
    "        axs[1][2] = plt.subplot(gs3[1])\n",
    "        fig, axs[0][2] = e.plot_scatter_KDE(mode_bcp='max', axs=axs[0][2], **opt)\n",
    "        fig, axs[1][2] = e.plot_scatter_KDE(mode_bcp='max', result='acceleration', axs=axs[1][2], **opt)\n",
    "\n",
    "    if i_layer > 2 :\n",
    "        gs4 = gridspec.GridSpec(2, 1)\n",
    "        gs4.update(left=3/4+(wspace*3), bottom=0, right=1+(wspace*3), top=1, hspace=hspace)\n",
    "        axs[0][3] = plt.subplot(gs4[0])\n",
    "        axs[1][3] = plt.subplot(gs4[1])\n",
    "        fig, axs[0][3] = e.plot_scatter_KDE(mode_bcp='expectation', axs=axs[0][3], **opt)\n",
    "        fig, axs[1][3] = e.plot_scatter_KDE(mode_bcp='expectation', result='acceleration', axs=axs[1][3], **opt)\n",
    "    \n",
    "    for ext in exts: fig.savefig('figures/kde_mean_velocity_' + str(i_layer) + ext, dpi=dpi)\n",
    "    plt.show()"
   ]
  },
  {
   "cell_type": "code",
   "execution_count": null,
   "metadata": {
    "collapsed": true
   },
   "outputs": [],
   "source": []
  }
 ],
 "metadata": {
  "kernelspec": {
   "display_name": "Python 3",
   "language": "python",
   "name": "python3"
  },
  "language_info": {
   "codemirror_mode": {
    "name": "ipython",
    "version": 3
   },
   "file_extension": ".py",
   "mimetype": "text/x-python",
   "name": "python",
   "nbconvert_exporter": "python",
   "pygments_lexer": "ipython3",
   "version": "3.5.2"
  },
  "toc": {
   "base_numbering": 1,
   "nav_menu": {
    "height": "30px",
    "width": "252px"
   },
   "number_sections": true,
   "sideBar": true,
   "skip_h1_title": false,
   "title_cell": "Table of Contents",
   "title_sidebar": "Contents",
   "toc_cell": false,
   "toc_position": {},
   "toc_section_display": "block",
   "toc_window_display": false
  }
 },
 "nbformat": 4,
 "nbformat_minor": 1
}
