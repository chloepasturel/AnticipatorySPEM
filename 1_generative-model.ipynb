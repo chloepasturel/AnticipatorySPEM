{
 "cells": [
  {
   "cell_type": "markdown",
   "metadata": {},
   "source": [
    "# aSPEM Experiment : defining a protocol\n",
    "\n",
    "\n"
   ]
  },
  {
   "cell_type": "code",
   "execution_count": null,
   "metadata": {
    "ExecuteTime": {
     "end_time": "2018-04-09T10:47:31.687105Z",
     "start_time": "2018-04-09T10:47:31.391757Z"
    },
    "collapsed": true
   },
   "outputs": [],
   "source": [
    "%load_ext autoreload\n",
    "%autoreload 2\n",
    "import numpy as np\n",
    "import matplotlib.pyplot as plt\n",
    "%matplotlib inline"
   ]
  },
  {
   "cell_type": "raw",
   "metadata": {},
   "source": [
    "!ls data/"
   ]
  },
  {
   "cell_type": "code",
   "execution_count": null,
   "metadata": {
    "ExecuteTime": {
     "end_time": "2018-04-09T10:47:31.723050Z",
     "start_time": "2018-04-09T10:47:31.688596Z"
    },
    "collapsed": true
   },
   "outputs": [],
   "source": [
    "observer = 'LB'\n",
    "mode = 'enregistrement'\n",
    "exts = ['.png', '.svg']\n",
    "from  aSPEM import Analysis\n",
    "e = Analysis() #observer=observer, mode=mode)\n",
    "\n",
    "from aSPEM import binomial_motion"
   ]
  },
  {
   "cell_type": "code",
   "execution_count": null,
   "metadata": {
    "ExecuteTime": {
     "end_time": "2018-04-09T10:47:35.321736Z",
     "start_time": "2018-04-09T10:47:31.724553Z"
    },
    "collapsed": true,
    "scrolled": false
   },
   "outputs": [],
   "source": [
    "fig, axs = e.plot_experiment()\n",
    "for ext in exts: fig.savefig('figures/Experiment_randomblock' + ext, dpi=400)"
   ]
  },
  {
   "cell_type": "code",
   "execution_count": null,
   "metadata": {
    "ExecuteTime": {
     "end_time": "2018-04-09T10:47:43.829636Z",
     "start_time": "2018-04-09T10:47:35.323574Z"
    },
    "collapsed": true,
    "scrolled": false
   },
   "outputs": [],
   "source": [
    "for i in range(4):\n",
    "    trials, p = binomial_motion(N_trials=200, N_blocks=1, tau=50, seed=1515+i, Jeffreys=True, N_layer=3)\n",
    "\n",
    "    fig, axs = plt.subplots(3, 1, figsize=(15, 15/(1.6180*1.5)))\n",
    "    fig, axs = e.plot_experiment(num_block=0, p=p, fig=fig, axs=axs, t_titre=35, t_label=15, titre='Random-length block design')\n",
    "    for ext in exts: fig.savefig('figures/Experiment_randomblock_' + str(i) + ext, dpi=400)\n",
    "    plt.show()\n",
    "    "
   ]
  },
  {
   "cell_type": "code",
   "execution_count": null,
   "metadata": {
    "ExecuteTime": {
     "end_time": "2018-04-09T10:47:52.286616Z",
     "start_time": "2018-04-09T10:47:43.831079Z"
    },
    "collapsed": true,
    "scrolled": false
   },
   "outputs": [],
   "source": [
    "for i in range(4):\n",
    "    trials, p = binomial_motion(200, 1, 500000, 1973+i, Jeffreys=True, N_layer=3)\n",
    "\n",
    "    fig, axs = plt.subplots(3, 1, figsize=(15, 15/(1.6180*1.5)))\n",
    "    fig, axs = e.plot_experiment(num_block=0, p=p, fig=fig, axs=axs, t_titre=35, t_label=15, titre='Fixed-length block design')\n",
    "    for ext in exts: fig.savefig('figures/Experiment_classique_' + str(i) + ext, dpi=400)\n",
    "    plt.show()\n"
   ]
  },
  {
   "cell_type": "code",
   "execution_count": null,
   "metadata": {
    "ExecuteTime": {
     "end_time": "2018-04-09T10:47:55.712187Z",
     "start_time": "2018-04-09T10:47:52.288146Z"
    },
    "collapsed": true,
    "scrolled": true
   },
   "outputs": [],
   "source": [
    "fig, axs = e.plot_experiment(mode='pari')\n",
    "for ext in exts: fig.savefig('figures/Experiment_randomblock_bet' + ext, dpi=400)"
   ]
  },
  {
   "cell_type": "code",
   "execution_count": null,
   "metadata": {
    "ExecuteTime": {
     "end_time": "2018-04-09T10:47:59.128555Z",
     "start_time": "2018-04-09T10:47:55.713793Z"
    },
    "collapsed": true,
    "scrolled": false
   },
   "outputs": [],
   "source": [
    "fig, axs = e.plot_experiment(mode='enregistrement')\n",
    "for ext in exts: fig.savefig('figures/Experiment_randomblock_EM' + ext, dpi=400)"
   ]
  },
  {
   "cell_type": "code",
   "execution_count": null,
   "metadata": {
    "ExecuteTime": {
     "end_time": "2018-04-09T10:48:02.587505Z",
     "start_time": "2018-04-09T10:47:59.130308Z"
    },
    "collapsed": true,
    "scrolled": false
   },
   "outputs": [],
   "source": [
    "fig, axs = e.plot_experiment(mode='deux')\n",
    "for ext in exts: fig.savefig('figures/Experiment_randomblock_bet_EM' + ext, dpi=400)"
   ]
  },
  {
   "cell_type": "code",
   "execution_count": null,
   "metadata": {
    "ExecuteTime": {
     "end_time": "2018-04-09T10:48:04.397369Z",
     "start_time": "2018-04-09T10:48:02.589329Z"
    },
    "collapsed": true,
    "scrolled": false
   },
   "outputs": [],
   "source": [
    "sujet = [0, 6, 10, 5]\n",
    "for ext in exts: fig, axs = e.plot_experiment(sujet=sujet, mode='deux')"
   ]
  }
 ],
 "metadata": {
  "kernelspec": {
   "display_name": "Python 3",
   "language": "python",
   "name": "python3"
  },
  "language_info": {
   "codemirror_mode": {
    "name": "ipython",
    "version": 3
   },
   "file_extension": ".py",
   "mimetype": "text/x-python",
   "name": "python",
   "nbconvert_exporter": "python",
   "pygments_lexer": "ipython3",
   "version": "3.5.2"
  },
  "toc": {
   "nav_menu": {
    "height": "63px",
    "width": "252px"
   },
   "number_sections": true,
   "sideBar": true,
   "skip_h1_title": false,
   "title_cell": "Table of Contents",
   "title_sidebar": "Contents",
   "toc_cell": false,
   "toc_position": {},
   "toc_section_display": "block",
   "toc_window_display": false
  }
 },
 "nbformat": 4,
 "nbformat_minor": 1
}
