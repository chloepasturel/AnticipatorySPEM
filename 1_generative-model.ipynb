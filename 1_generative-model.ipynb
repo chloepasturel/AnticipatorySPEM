{
 "cells": [
  {
   "cell_type": "markdown",
   "metadata": {},
   "source": [
    "# aSPEM Experiment : defining a protocol\n",
    "\n",
    "\n"
   ]
  },
  {
   "cell_type": "code",
   "execution_count": null,
   "metadata": {
    "ExecuteTime": {
     "end_time": "2018-04-03T09:11:20.282514Z",
     "start_time": "2018-04-03T09:11:20.052478Z"
    },
    "collapsed": true
   },
   "outputs": [],
   "source": [
    "%load_ext autoreload\n",
    "%autoreload 2\n",
    "import numpy as np\n",
    "import matplotlib.pyplot as plt\n",
    "%matplotlib inline"
   ]
  },
  {
   "cell_type": "raw",
   "metadata": {},
   "source": [
    "!ls data/"
   ]
  },
  {
   "cell_type": "code",
   "execution_count": null,
   "metadata": {
    "ExecuteTime": {
     "end_time": "2018-04-03T09:11:20.310763Z",
     "start_time": "2018-04-03T09:11:20.284395Z"
    },
    "collapsed": true
   },
   "outputs": [],
   "source": [
    "observer = 'LB'\n",
    "mode = 'enregistrement'\n",
    "ext = '.png'\n",
    "from  aSPEM import Analysis\n",
    "e = Analysis() #observer=observer, mode=mode)\n",
    "\n",
    "from aSPEM import binomial_motion"
   ]
  },
  {
   "cell_type": "code",
   "execution_count": null,
   "metadata": {
    "ExecuteTime": {
     "end_time": "2018-04-03T09:11:23.587850Z",
     "start_time": "2018-04-03T09:11:20.312549Z"
    },
    "collapsed": true,
    "scrolled": false
   },
   "outputs": [],
   "source": [
    "fig, axs = e.plot_experiment()\n",
    "fig.savefig('figures/Experiment_randomblock' + ext, dpi=400)"
   ]
  },
  {
   "cell_type": "code",
   "execution_count": null,
   "metadata": {
    "ExecuteTime": {
     "end_time": "2018-04-03T09:11:32.232562Z",
     "start_time": "2018-04-03T09:11:23.589600Z"
    },
    "collapsed": true,
    "scrolled": false
   },
   "outputs": [],
   "source": [
    "for i in range(4):\n",
    "    trials, p = binomial_motion(N_trials=200, N_blocks=1, tau=50, seed=1515+i, Jeffreys=True, N_layer=3)\n",
    "\n",
    "    fig, axs = plt.subplots(3, 1, figsize=(15, 15/(1.6180*1.5)))\n",
    "    fig, axs = e.plot_experiment(num_block=0, p=p, fig=fig, axs=axs, t_titre=35, t_label=15, titre='Random-length block design')\n",
    "    fig.savefig('figures/Experiment_randomblock_' + str(i) + ext, dpi=400)\n",
    "    plt.show()\n",
    "    "
   ]
  },
  {
   "cell_type": "code",
   "execution_count": null,
   "metadata": {
    "ExecuteTime": {
     "end_time": "2018-04-03T09:11:40.522431Z",
     "start_time": "2018-04-03T09:11:32.234150Z"
    },
    "collapsed": true,
    "scrolled": false
   },
   "outputs": [],
   "source": [
    "for i in range(4):\n",
    "    trials, p = binomial_motion(200, 1, 500000, 1973+i, Jeffreys=True, N_layer=3)\n",
    "\n",
    "    fig, axs = plt.subplots(3, 1, figsize=(15, 15/(1.6180*1.5)))\n",
    "    fig, axs = e.plot_experiment(num_block=0, p=p, fig=fig, axs=axs, t_titre=35, t_label=15, titre='Fixed-length block design')\n",
    "    fig.savefig('figures/Experiment_classique_' + str(i) + ext, dpi=400)\n",
    "    plt.show()\n"
   ]
  },
  {
   "cell_type": "code",
   "execution_count": null,
   "metadata": {
    "ExecuteTime": {
     "end_time": "2018-04-03T09:11:43.821869Z",
     "start_time": "2018-04-03T09:11:40.524171Z"
    },
    "collapsed": true,
    "scrolled": true
   },
   "outputs": [],
   "source": [
    "fig, axs = e.plot_experiment(mode='pari')\n",
    "fig.savefig('figures/Experiment_randomblock_bet' + ext, dpi=400)"
   ]
  },
  {
   "cell_type": "code",
   "execution_count": null,
   "metadata": {
    "ExecuteTime": {
     "end_time": "2018-04-03T09:11:47.146072Z",
     "start_time": "2018-04-03T09:11:43.823791Z"
    },
    "collapsed": true,
    "scrolled": false
   },
   "outputs": [],
   "source": [
    "fig, axs = e.plot_experiment(mode='enregistrement')\n",
    "fig.savefig('figures/Experiment_randomblock_EM' + ext, dpi=400)"
   ]
  },
  {
   "cell_type": "code",
   "execution_count": null,
   "metadata": {
    "ExecuteTime": {
     "end_time": "2018-04-03T09:11:50.539295Z",
     "start_time": "2018-04-03T09:11:47.147967Z"
    },
    "collapsed": true,
    "scrolled": false
   },
   "outputs": [],
   "source": [
    "fig, axs = e.plot_experiment(mode='deux')\n",
    "fig.savefig('figures/Experiment_randomblock_bet_EM' + ext, dpi=400)"
   ]
  },
  {
   "cell_type": "code",
   "execution_count": null,
   "metadata": {
    "ExecuteTime": {
     "end_time": "2018-04-03T09:11:51.383970Z",
     "start_time": "2018-04-03T09:11:50.541014Z"
    },
    "collapsed": true,
    "scrolled": false
   },
   "outputs": [],
   "source": [
    "sujet = [0, 6, 10, 5]\n",
    "fig, axs = e.plot_experiment(sujet=sujet, mode='deux')"
   ]
  },
  {
   "cell_type": "code",
   "execution_count": null,
   "metadata": {
    "collapsed": true
   },
   "outputs": [],
   "source": []
  }
 ],
 "metadata": {
  "kernelspec": {
   "display_name": "Python 3",
   "language": "python",
   "name": "python3"
  },
  "language_info": {
   "codemirror_mode": {
    "name": "ipython",
    "version": 3
   },
   "file_extension": ".py",
   "mimetype": "text/x-python",
   "name": "python",
   "nbconvert_exporter": "python",
   "pygments_lexer": "ipython3",
   "version": "3.5.2"
  },
  "toc": {
   "nav_menu": {
    "height": "63px",
    "width": "252px"
   },
   "number_sections": true,
   "sideBar": true,
   "skip_h1_title": false,
   "title_cell": "Table of Contents",
   "title_sidebar": "Contents",
   "toc_cell": false,
   "toc_position": {},
   "toc_section_display": "block",
   "toc_window_display": false
  }
 },
 "nbformat": 4,
 "nbformat_minor": 1
}
