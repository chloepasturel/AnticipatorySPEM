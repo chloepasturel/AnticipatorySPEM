{
 "cells": [
  {
   "cell_type": "code",
   "execution_count": 1,
   "metadata": {
    "ExecuteTime": {
     "end_time": "2018-07-03T09:50:06.502562Z",
     "start_time": "2018-07-03T09:50:05.521538Z"
    },
    "collapsed": true,
    "scrolled": true
   },
   "outputs": [],
   "source": [
    "%load_ext autoreload\n",
    "%autoreload 2\n",
    "import numpy as np\n",
    "import matplotlib.pyplot as plt\n",
    "%matplotlib inline"
   ]
  },
  {
   "cell_type": "code",
   "execution_count": 2,
   "metadata": {
    "ExecuteTime": {
     "end_time": "2018-07-03T09:50:07.375949Z",
     "start_time": "2018-07-03T09:50:06.510595Z"
    }
   },
   "outputs": [
    {
     "data": {
      "application/json": {
       "Software versions": [
        {
         "module": "Python",
         "version": "3.7.3 64bit [Clang 10.0.1 (clang-1001.0.46.3)]"
        },
        {
         "module": "IPython",
         "version": "7.5.0"
        },
        {
         "module": "OS",
         "version": "Darwin 18.5.0 x86_64 i386 64bit"
        },
        {
         "module": "numpy",
         "version": "1.16.3"
        },
        {
         "module": "matplotlib",
         "version": "3.0.3"
        },
        {
         "module": "bayesianchangepoint",
         "version": "0.1"
        }
       ]
      },
      "text/html": [
       "<table><tr><th>Software</th><th>Version</th></tr><tr><td>Python</td><td>3.7.3 64bit [Clang 10.0.1 (clang-1001.0.46.3)]</td></tr><tr><td>IPython</td><td>7.5.0</td></tr><tr><td>OS</td><td>Darwin 18.5.0 x86_64 i386 64bit</td></tr><tr><td>numpy</td><td>1.16.3</td></tr><tr><td>matplotlib</td><td>3.0.3</td></tr><tr><td>bayesianchangepoint</td><td>0.1</td></tr><tr><td colspan='2'>Thu May 09 17:36:08 2019 CEST</td></tr></table>"
      ],
      "text/latex": [
       "\\begin{tabular}{|l|l|}\\hline\n",
       "{\\bf Software} & {\\bf Version} \\\\ \\hline\\hline\n",
       "Python & 3.7.3 64bit [Clang 10.0.1 (clang-1001.0.46.3)] \\\\ \\hline\n",
       "IPython & 7.5.0 \\\\ \\hline\n",
       "OS & Darwin 18.5.0 x86\\_64 i386 64bit \\\\ \\hline\n",
       "numpy & 1.16.3 \\\\ \\hline\n",
       "matplotlib & 3.0.3 \\\\ \\hline\n",
       "bayesianchangepoint & 0.1 \\\\ \\hline\n",
       "\\hline \\multicolumn{2}{|l|}{Thu May 09 17:36:08 2019 CEST} \\\\ \\hline\n",
       "\\end{tabular}\n"
      ],
      "text/plain": [
       "Software versions\n",
       "Python 3.7.3 64bit [Clang 10.0.1 (clang-1001.0.46.3)]\n",
       "IPython 7.5.0\n",
       "OS Darwin 18.5.0 x86_64 i386 64bit\n",
       "numpy 1.16.3\n",
       "matplotlib 3.0.3\n",
       "bayesianchangepoint 0.1\n",
       "Thu May 09 17:36:08 2019 CEST"
      ]
     },
     "execution_count": 2,
     "metadata": {},
     "output_type": "execute_result"
    }
   ],
   "source": [
    "%load_ext version_information\n",
    "%version_information numpy, matplotlib, bayesianchangepoint"
   ]
  },
  {
   "cell_type": "code",
   "execution_count": 3,
   "metadata": {
    "collapsed": true
   },
   "outputs": [],
   "source": [
    "import os\n",
    "if not os.path.exists('figures/BCP'):\n",
    "    os.makedirs('figures/BCP')"
   ]
  },
  {
   "cell_type": "markdown",
   "metadata": {},
   "source": [
    "\n",
    "# the switching binomial generative model\n"
   ]
  },
  {
   "cell_type": "code",
   "execution_count": 4,
   "metadata": {
    "ExecuteTime": {
     "end_time": "2018-07-03T09:50:07.430745Z",
     "start_time": "2018-07-03T09:50:07.384294Z"
    },
    "collapsed": true
   },
   "outputs": [],
   "source": [
    "t_titre = 35\n",
    "t_label = 25\n",
    "fig_width= 15\n",
    "N_scan = 100\n",
    "#N_scan = 10 # DEBUG"
   ]
  },
  {
   "cell_type": "code",
   "execution_count": 5,
   "metadata": {
    "ExecuteTime": {
     "end_time": "2018-07-03T09:50:12.634694Z",
     "start_time": "2018-07-03T09:50:07.440301Z"
    },
    "collapsed": true
   },
   "outputs": [
    {
     "name": "stdout",
     "output_type": "stream",
     "text": [
      "/!\\ Le fichier Delete n'existe pas pour fct_velocity_2_step_False_whitening !\n"
     ]
    }
   ],
   "source": [
    "msfigpath = '../PasturelMontagniniPerrinet2019/figures'\n",
    "observer = 'AM'\n",
    "mode = 'pari'\n",
    "exts = ['.png', '.svg', '.pdf']\n",
    "dpi = 400\n",
    "from aSPEM import Analysis\n",
    "e = Analysis(observer=observer, mode=mode)"
   ]
  },
  {
   "cell_type": "markdown",
   "metadata": {},
   "source": [
    "# the online BCP model: figures for the model"
   ]
  },
  {
   "cell_type": "code",
   "execution_count": 6,
   "metadata": {},
   "outputs": [],
   "source": [
    "N_trials = 100\n",
    "seed = 2020\n",
    "np.random.seed(seed)\n",
    "\n",
    "trials = np.arange(N_trials)\n",
    "p = np.random.rand(N_trials, 1, 3)\n",
    "p[:, :, 2] = 0\n",
    "p[N_trials//2, 0, 2] = 1\n",
    "\n",
    "p[:N_trials//2, :, 1] = .15\n",
    "p[N_trials//2:, :, 1] = .85\n",
    "\n",
    "for trial in trials:\n",
    "    p[trial, :, 0] =  p[trial, :, 1] > np.random.rand() # Bernouilli trial"
   ]
  },
  {
   "cell_type": "code",
   "execution_count": 7,
   "metadata": {},
   "outputs": [
    {
     "name": "stdout",
     "output_type": "stream",
     "text": [
      "[[0.   0.15 0.  ]\n",
      " [0.   0.15 0.  ]\n",
      " [0.   0.15 0.  ]\n",
      " [0.   0.15 0.  ]\n",
      " [0.   0.15 0.  ]\n",
      " [0.   0.15 0.  ]\n",
      " [1.   0.15 0.  ]\n",
      " [1.   0.15 0.  ]\n",
      " [1.   0.15 0.  ]\n",
      " [0.   0.15 0.  ]]\n"
     ]
    }
   ],
   "source": [
    "N_trials_show = 10\n",
    "print(p[:N_trials_show, 0, :])"
   ]
  },
  {
   "cell_type": "code",
   "execution_count": 8,
   "metadata": {},
   "outputs": [],
   "source": [
    "import bayesianchangepoint as bcp\n",
    "tau = N_trials/5.\n",
    "h = 1/tau\n",
    "i_block = 0\n",
    "\n",
    "p0, r0 =  0.5, 1.0\n",
    "p_bar, r_bar, beliefs = bcp.inference(p[:, i_block, 0], h=h, p0=p0, r0=r0)\n",
    "p_hat, r_hat = bcp.readout(p_bar, r_bar, beliefs, mode='max', p0=p0)"
   ]
  },
  {
   "cell_type": "code",
   "execution_count": 9,
   "metadata": {},
   "outputs": [
    {
     "ename": "NameError",
     "evalue": "name 'r' is not defined",
     "output_type": "error",
     "traceback": [
      "\u001b[0;31m---------------------------------------------------------------------------\u001b[0m",
      "\u001b[0;31mNameError\u001b[0m                                 Traceback (most recent call last)",
      "\u001b[0;32m<ipython-input-9-edfc0f83d0ae>\u001b[0m in \u001b[0;36m<module>\u001b[0;34m\u001b[0m\n\u001b[0;32m----> 1\u001b[0;31m \u001b[0mfig\u001b[0m\u001b[0;34m,\u001b[0m \u001b[0maxs\u001b[0m \u001b[0;34m=\u001b[0m \u001b[0mbcp\u001b[0m\u001b[0;34m.\u001b[0m\u001b[0mplot_inference\u001b[0m\u001b[0;34m(\u001b[0m\u001b[0mp\u001b[0m\u001b[0;34m[\u001b[0m\u001b[0;34m:\u001b[0m\u001b[0;34m,\u001b[0m \u001b[0mi_block\u001b[0m\u001b[0;34m,\u001b[0m \u001b[0;36m0\u001b[0m\u001b[0;34m]\u001b[0m\u001b[0;34m,\u001b[0m \u001b[0mp\u001b[0m\u001b[0;34m[\u001b[0m\u001b[0;34m:\u001b[0m\u001b[0;34m,\u001b[0m \u001b[0mi_block\u001b[0m\u001b[0;34m,\u001b[0m \u001b[0;36m1\u001b[0m\u001b[0;34m]\u001b[0m\u001b[0;34m,\u001b[0m \u001b[0mp_bar\u001b[0m\u001b[0;34m,\u001b[0m \u001b[0mr\u001b[0m\u001b[0;34m,\u001b[0m \u001b[0mbeliefs\u001b[0m\u001b[0;34m,\u001b[0m \u001b[0meps\u001b[0m\u001b[0;34m=\u001b[0m\u001b[0;36m1e-18\u001b[0m\u001b[0;34m,\u001b[0m \u001b[0mp0\u001b[0m\u001b[0;34m=\u001b[0m\u001b[0mp0\u001b[0m\u001b[0;34m,\u001b[0m \u001b[0mmax_run_length\u001b[0m\u001b[0;34m=\u001b[0m\u001b[0;36m100\u001b[0m\u001b[0;34m)\u001b[0m\u001b[0;34m\u001b[0m\u001b[0;34m\u001b[0m\u001b[0m\n\u001b[0m\u001b[1;32m      2\u001b[0m \u001b[0mplt\u001b[0m\u001b[0;34m.\u001b[0m\u001b[0mshow\u001b[0m\u001b[0;34m(\u001b[0m\u001b[0;34m)\u001b[0m\u001b[0;34m\u001b[0m\u001b[0;34m\u001b[0m\u001b[0m\n",
      "\u001b[0;31mNameError\u001b[0m: name 'r' is not defined"
     ]
    }
   ],
   "source": [
    "fig, axs = bcp.plot_inference(p[:, i_block, 0], p[:, i_block, 1], p_bar, r, beliefs, eps=1e-18, p0=p0, max_run_length=100)\n",
    "plt.show()"
   ]
  },
  {
   "cell_type": "code",
   "execution_count": null,
   "metadata": {
    "ExecuteTime": {
     "end_time": "2018-07-03T09:50:20.528737Z",
     "start_time": "2018-07-03T09:50:12.643283Z"
    }
   },
   "outputs": [],
   "source": [
    "fig_width = 5\n",
    "r_cir = 0.1\n",
    "s_arrow = 0.06\n",
    "alpha = .4\n",
    "\n",
    "c_f1 = 'k'\n",
    "c_f2 = 'r'\n",
    "c_cir = 'k'\n",
    "labelsize = 18\n",
    "\n",
    "layer = 4\n",
    "\n",
    "NUM = 6\n",
    "\n",
    "\n",
    "from matplotlib.patches import Circle, Wedge\n",
    "from matplotlib.collections import PatchCollection\n",
    "\n",
    "\n",
    "def arrow_1(ax, x, y, alpha=None):\n",
    "    if alpha is None:\n",
    "        plt.arrow(x+r_cir, y+r_cir, 1-(r_cir*2)-(s_arrow/2), 1-(r_cir*2)-(s_arrow/2),\n",
    "                  head_width=s_arrow, head_length=s_arrow, fc=c_f1, ec=c_f1)\n",
    "    else:\n",
    "        plt.arrow(x+r_cir, y+r_cir, 1-(r_cir*2)-(s_arrow/2), 1-(r_cir*2)-(s_arrow/2),\n",
    "                  head_width=s_arrow, head_length=s_arrow, fc=c_f1, ec=c_f1, alpha=alpha)\n",
    "\n",
    "\n",
    "def arrow_2(ax, x, y, alpha=None):\n",
    "    if alpha is None:\n",
    "        if y == 0:\n",
    "            plt.arrow(x+r_cir, y, 1-(r_cir*2), -y,\n",
    "                      head_width=0., head_length=0., ec=c_f2)\n",
    "        else:\n",
    "            plt.arrow(x+r_cir, y-r_cir, 1-(r_cir*2), -y+r_cir,\n",
    "                      head_width=0., head_length=0., ec=c_f2)\n",
    "    else:\n",
    "        if y == 0:\n",
    "            plt.arrow(x+r_cir, y, 1-(r_cir*2), -y,\n",
    "                      head_width=0., head_length=0., ec=c_f2, alpha=alpha)\n",
    "        else:\n",
    "            plt.arrow(x+r_cir, y-r_cir, 1-(r_cir*2), -y+r_cir,\n",
    "                      head_width=0., head_length=0., ec=c_f2, alpha=alpha)\n",
    "\n",
    "\n",
    "for layer in range(1, 6):\n",
    "    num = NUM\n",
    "\n",
    "    if layer == 1:\n",
    "        num = 2\n",
    "    if layer == 2:\n",
    "        num = 3\n",
    "    if layer == 3:\n",
    "        num = 4\n",
    "\n",
    "    fig, ax = plt.subplots(1, 1, figsize=(\n",
    "        fig_width, fig_width), sharex=True)\n",
    "\n",
    "    patches = []\n",
    "    patches2 = []\n",
    "\n",
    "    if layer < 4:\n",
    "        trials = range(num)\n",
    "    else:\n",
    "        trials = range(int(num*1.6180)+1)\n",
    "\n",
    "    for x in trials:\n",
    "        if x < num:\n",
    "            runlengths = range(x+1)\n",
    "            lalay = num-1\n",
    "        else:\n",
    "            runlengths = range(num)\n",
    "            lalay = lala[-1]\n",
    "            \n",
    "        for r in runlengths:\n",
    "            if num > 4:\n",
    "                if y < lalay and x < int(num*1.6180):\n",
    "                    patches += [Wedge((x, r), r_cir, 0, 360, width=r_cir/10)]\n",
    "                else:\n",
    "                    patches2 += [Wedge((x, r), r_cir, 0, 360, width=r_cir/10)]\n",
    "\n",
    "                if x < int(num*1.6180):\n",
    "                    if r <= lalay-1:\n",
    "                        if y != lalay-1 and x < int(num*1.6180)-1:\n",
    "                            arrow_1(ax, x, r)\n",
    "                        else:\n",
    "                            arrow_1(ax, x, r, alpha=alpha)\n",
    "\n",
    "                        if x < int(num*1.6180)-1:\n",
    "                            arrow_2(ax, x, r)\n",
    "                        else:\n",
    "                            arrow_2(ax, x, r, alpha=alpha)\n",
    "\n",
    "                    else:\n",
    "                        arrow_2(ax, x, r, alpha=alpha)\n",
    "                plt.vlines(9, -0.3, 6.3, color='r', lw=21, alpha=0.01)\n",
    "            else:\n",
    "                patches += [Wedge((x, r), r_cir, 0, 360, width=r_cir/10)]\n",
    "                if r <= lalay-1 and x <= lalay-1:\n",
    "                    arrow_1(ax, x, r)\n",
    "                    arrow_2(ax, x, r)\n",
    "\n",
    "    p = PatchCollection(patches, color=c_cir, lw=1)\n",
    "    ax.add_collection(p)\n",
    "    p = PatchCollection(patches2, color=c_cir, alpha=alpha, lw=1)\n",
    "    ax.add_collection(p)\n",
    "\n",
    "    plt.tick_params(bottom=True, top=False, right=False, left=True)\n",
    "    plt.ylabel('Run length', fontsize=labelsize)\n",
    "    plt.xlabel('Trials', fontsize=labelsize)\n",
    "    ax.set_xticks(np.arange((NUM+0.32)*1.6180)-1)\n",
    "    ax.set_xticklabels(np.arange((NUM+0.32)*1.6180).astype(np.int))\n",
    "\n",
    "    if layer > 4:\n",
    "        plt.plot([0, 1, 2, 3, 4, 0, 1, 2, 3, 4], lw=10, alpha=0.7, c='k')\n",
    "\n",
    "    plt.axis([-0.32, (NUM+0.32)*1.6180 -1, -0.32, NUM+0.32])\n",
    "    for ext in exts: plt.savefig('figures/BCP/bcp_model_layer_%s%s' % (layer, ext))\n",
    "\n",
    "    plt.show()"
   ]
  },
  {
   "cell_type": "code",
   "execution_count": null,
   "metadata": {
    "ExecuteTime": {
     "end_time": "2018-07-03T09:50:20.579650Z",
     "start_time": "2018-07-03T09:50:20.536421Z"
    }
   },
   "outputs": [],
   "source": [
    "NUM"
   ]
  },
  {
   "cell_type": "code",
   "execution_count": null,
   "metadata": {},
   "outputs": [],
   "source": [
    "figname = '3_BCP_model'\n",
    "fig.set_figwidth = 5\n",
    "fig.set_figheight = 5\n",
    "for ext in exts: fig.savefig(f'{msfigpath}/{figname}' + ext, dpi=dpi, bbox_inches='tight', pad_inches=0)"
   ]
  },
  {
   "cell_type": "code",
   "execution_count": null,
   "metadata": {
    "ExecuteTime": {
     "end_time": "2018-07-03T10:55:28.054256Z",
     "start_time": "2018-07-03T10:55:28.027939Z"
    }
   },
   "outputs": [],
   "source": [
    "from IPython.display import Image\n",
    "Image(f'{msfigpath}/{figname}.png')"
   ]
  },
  {
   "cell_type": "markdown",
   "metadata": {},
   "source": [
    "# chosen readout with a comparison with 'fixed'"
   ]
  },
  {
   "cell_type": "code",
   "execution_count": null,
   "metadata": {},
   "outputs": [],
   "source": [
    "figname = '3_BCP_readouts'"
   ]
  },
  {
   "cell_type": "code",
   "execution_count": null,
   "metadata": {
    "ExecuteTime": {
     "end_time": "2018-07-03T09:50:39.655495Z",
     "start_time": "2018-07-03T09:50:20.587179Z"
    },
    "scrolled": true
   },
   "outputs": [],
   "source": [
    "fig, ax1, ax2 = e.plot_bcp(mode=['mean'], mode_compare='fixed', block=1, trial=50, max_run_length=85, \n",
    "                 fig_width=8, t_label=25, show_title=None, show_trial=False, N_scan=0)\n",
    "for card in ['bottom', 'top']: \n",
    "    ax1.spines[card].set_visible(False)\n",
    "    ax2.spines[card].set_visible(False)\n",
    "#ax1.legend(loc='best')\n",
    "ax2.set_ylim(0, 80)\n",
    "     \n",
    "for ext in exts: fig.savefig(f'{msfigpath}/{figname}' + ext, dpi=dpi, bbox_inches='tight', pad_inches=0)"
   ]
  },
  {
   "cell_type": "code",
   "execution_count": null,
   "metadata": {
    "ExecuteTime": {
     "end_time": "2018-07-03T10:55:28.054256Z",
     "start_time": "2018-07-03T10:55:28.027939Z"
    }
   },
   "outputs": [],
   "source": [
    "from IPython.display import Image\n",
    "Image(f'{msfigpath}/{figname}.png')"
   ]
  },
  {
   "cell_type": "markdown",
   "metadata": {},
   "source": [
    "# evaluating the best hazard rate using a likelihood score"
   ]
  },
  {
   "cell_type": "markdown",
   "metadata": {},
   "source": [
    "Vérifier tau !"
   ]
  },
  {
   "cell_type": "code",
   "execution_count": null,
   "metadata": {
    "ExecuteTime": {
     "end_time": "2018-07-03T09:50:39.655495Z",
     "start_time": "2018-07-03T09:50:20.587179Z"
    }
   },
   "outputs": [],
   "source": [
    "fig, ax1, ax2  = e.plot_bcp(show_trial=False, N_scan=0, block=2, trial=50)\n",
    "for ext in exts:\n",
    "    fig.savefig('figures/BCP/BCP_readouts' + ext, dpi=dpi)"
   ]
  },
  {
   "cell_type": "code",
   "execution_count": null,
   "metadata": {},
   "outputs": [],
   "source": []
  },
  {
   "cell_type": "code",
   "execution_count": null,
   "metadata": {
    "ExecuteTime": {
     "end_time": "2018-07-03T09:51:00.577971Z",
     "start_time": "2018-07-03T09:50:39.663255Z"
    },
    "scrolled": true
   },
   "outputs": [],
   "source": [
    "fig = e.plot_bcp(show_trial=False, N_scan=N_scan)\n",
    "for ext in exts: fig.savefig('figures/BCP/BCP_scan' + ext, dpi=dpi)"
   ]
  },
  {
   "cell_type": "code",
   "execution_count": null,
   "metadata": {
    "ExecuteTime": {
     "end_time": "2018-07-03T09:51:24.534017Z",
     "start_time": "2018-07-03T09:51:00.586802Z"
    },
    "scrolled": true
   },
   "outputs": [],
   "source": [
    "fig = e.plot_bcp(show_trial=False, N_scan=N_scan, pause=True)\n",
    "#for ext in exts: fig.savefig('figures/BCP/BCP_scan' + ext, dpi=dpi)"
   ]
  },
  {
   "cell_type": "markdown",
   "metadata": {},
   "source": [
    "TODO: plot pout chaque r la distriubtion Beta correspondant à $P(p |r) = B(p; p(r)*r, (1-p(r))*r)$"
   ]
  },
  {
   "cell_type": "code",
   "execution_count": null,
   "metadata": {
    "collapsed": true
   },
   "outputs": [],
   "source": [
    "%ls {msfigpath}"
   ]
  },
  {
   "cell_type": "code",
   "execution_count": null,
   "metadata": {
    "collapsed": true
   },
   "outputs": [],
   "source": []
  }
 ],
 "metadata": {
  "kernel_info": {
   "name": "python3"
  },
  "kernelspec": {
   "display_name": "Python 3",
   "language": "python",
   "name": "python3"
  },
  "language_info": {
   "codemirror_mode": {
    "name": "ipython",
    "version": 3
   },
   "file_extension": ".py",
   "mimetype": "text/x-python",
   "name": "python",
   "nbconvert_exporter": "python",
   "pygments_lexer": "ipython3",
   "version": "3.7.3"
  },
  "toc": {
   "base_numbering": 1,
   "nav_menu": {
    "height": "63px",
    "width": "252px"
   },
   "number_sections": true,
   "sideBar": true,
   "skip_h1_title": false,
   "title_cell": "Table of Contents",
   "title_sidebar": "Contents",
   "toc_cell": false,
   "toc_position": {},
   "toc_section_display": "block",
   "toc_window_display": false
  }
 },
 "nbformat": 4,
 "nbformat_minor": 2
}
