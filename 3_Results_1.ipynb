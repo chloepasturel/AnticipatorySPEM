{
 "cells": [
  {
   "cell_type": "code",
   "execution_count": 1,
   "metadata": {
    "ExecuteTime": {
     "end_time": "2018-04-11T11:26:03.899215Z",
     "start_time": "2018-04-11T11:26:03.549068Z"
    },
    "collapsed": true
   },
   "outputs": [],
   "source": [
    "%load_ext autoreload\n",
    "%autoreload 2\n",
    "from __future__ import division, print_function, absolute_import\n",
    "import numpy as np\n",
    "import matplotlib.pyplot as plt\n",
    "%matplotlib inline"
   ]
  },
  {
   "cell_type": "code",
   "execution_count": 2,
   "metadata": {
    "ExecuteTime": {
     "end_time": "2018-04-11T11:26:04.230703Z",
     "start_time": "2018-04-11T11:26:03.901282Z"
    }
   },
   "outputs": [
    {
     "ename": "ImportError",
     "evalue": "No module named 'version_information'",
     "output_type": "error",
     "traceback": [
      "\u001b[0;31m---------------------------------------------------------------------------\u001b[0m",
      "\u001b[0;31mImportError\u001b[0m                               Traceback (most recent call last)",
      "\u001b[0;32m<ipython-input-2-acd056ac8290>\u001b[0m in \u001b[0;36m<module>\u001b[0;34m()\u001b[0m\n\u001b[0;32m----> 1\u001b[0;31m \u001b[0mget_ipython\u001b[0m\u001b[0;34m(\u001b[0m\u001b[0;34m)\u001b[0m\u001b[0;34m.\u001b[0m\u001b[0mmagic\u001b[0m\u001b[0;34m(\u001b[0m\u001b[0;34m'load_ext version_information'\u001b[0m\u001b[0;34m)\u001b[0m\u001b[0;34m\u001b[0m\u001b[0m\n\u001b[0m\u001b[1;32m      2\u001b[0m \u001b[0mget_ipython\u001b[0m\u001b[0;34m(\u001b[0m\u001b[0;34m)\u001b[0m\u001b[0;34m.\u001b[0m\u001b[0mmagic\u001b[0m\u001b[0;34m(\u001b[0m\u001b[0;34m'version_information numpy, matplotlib, bayesianchangepoint'\u001b[0m\u001b[0;34m)\u001b[0m\u001b[0;34m\u001b[0m\u001b[0m\n",
      "\u001b[0;32m/home/drone/.local/lib/python3.5/site-packages/IPython/core/interactiveshell.py\u001b[0m in \u001b[0;36mmagic\u001b[0;34m(self, arg_s)\u001b[0m\n\u001b[1;32m   2156\u001b[0m         \u001b[0mmagic_name\u001b[0m\u001b[0;34m,\u001b[0m \u001b[0m_\u001b[0m\u001b[0;34m,\u001b[0m \u001b[0mmagic_arg_s\u001b[0m \u001b[0;34m=\u001b[0m \u001b[0marg_s\u001b[0m\u001b[0;34m.\u001b[0m\u001b[0mpartition\u001b[0m\u001b[0;34m(\u001b[0m\u001b[0;34m' '\u001b[0m\u001b[0;34m)\u001b[0m\u001b[0;34m\u001b[0m\u001b[0m\n\u001b[1;32m   2157\u001b[0m         \u001b[0mmagic_name\u001b[0m \u001b[0;34m=\u001b[0m \u001b[0mmagic_name\u001b[0m\u001b[0;34m.\u001b[0m\u001b[0mlstrip\u001b[0m\u001b[0;34m(\u001b[0m\u001b[0mprefilter\u001b[0m\u001b[0;34m.\u001b[0m\u001b[0mESC_MAGIC\u001b[0m\u001b[0;34m)\u001b[0m\u001b[0;34m\u001b[0m\u001b[0m\n\u001b[0;32m-> 2158\u001b[0;31m         \u001b[0;32mreturn\u001b[0m \u001b[0mself\u001b[0m\u001b[0;34m.\u001b[0m\u001b[0mrun_line_magic\u001b[0m\u001b[0;34m(\u001b[0m\u001b[0mmagic_name\u001b[0m\u001b[0;34m,\u001b[0m \u001b[0mmagic_arg_s\u001b[0m\u001b[0;34m)\u001b[0m\u001b[0;34m\u001b[0m\u001b[0m\n\u001b[0m\u001b[1;32m   2159\u001b[0m \u001b[0;34m\u001b[0m\u001b[0m\n\u001b[1;32m   2160\u001b[0m     \u001b[0;31m#-------------------------------------------------------------------------\u001b[0m\u001b[0;34m\u001b[0m\u001b[0;34m\u001b[0m\u001b[0m\n",
      "\u001b[0;32m/home/drone/.local/lib/python3.5/site-packages/IPython/core/interactiveshell.py\u001b[0m in \u001b[0;36mrun_line_magic\u001b[0;34m(self, magic_name, line)\u001b[0m\n\u001b[1;32m   2077\u001b[0m                 \u001b[0mkwargs\u001b[0m\u001b[0;34m[\u001b[0m\u001b[0;34m'local_ns'\u001b[0m\u001b[0;34m]\u001b[0m \u001b[0;34m=\u001b[0m \u001b[0msys\u001b[0m\u001b[0;34m.\u001b[0m\u001b[0m_getframe\u001b[0m\u001b[0;34m(\u001b[0m\u001b[0mstack_depth\u001b[0m\u001b[0;34m)\u001b[0m\u001b[0;34m.\u001b[0m\u001b[0mf_locals\u001b[0m\u001b[0;34m\u001b[0m\u001b[0m\n\u001b[1;32m   2078\u001b[0m             \u001b[0;32mwith\u001b[0m \u001b[0mself\u001b[0m\u001b[0;34m.\u001b[0m\u001b[0mbuiltin_trap\u001b[0m\u001b[0;34m:\u001b[0m\u001b[0;34m\u001b[0m\u001b[0m\n\u001b[0;32m-> 2079\u001b[0;31m                 \u001b[0mresult\u001b[0m \u001b[0;34m=\u001b[0m \u001b[0mfn\u001b[0m\u001b[0;34m(\u001b[0m\u001b[0;34m*\u001b[0m\u001b[0margs\u001b[0m\u001b[0;34m,\u001b[0m\u001b[0;34m**\u001b[0m\u001b[0mkwargs\u001b[0m\u001b[0;34m)\u001b[0m\u001b[0;34m\u001b[0m\u001b[0m\n\u001b[0m\u001b[1;32m   2080\u001b[0m             \u001b[0;32mreturn\u001b[0m \u001b[0mresult\u001b[0m\u001b[0;34m\u001b[0m\u001b[0m\n\u001b[1;32m   2081\u001b[0m \u001b[0;34m\u001b[0m\u001b[0m\n",
      "\u001b[0;32m<decorator-gen-62>\u001b[0m in \u001b[0;36mload_ext\u001b[0;34m(self, module_str)\u001b[0m\n",
      "\u001b[0;32m/home/drone/.local/lib/python3.5/site-packages/IPython/core/magic.py\u001b[0m in \u001b[0;36m<lambda>\u001b[0;34m(f, *a, **k)\u001b[0m\n\u001b[1;32m    186\u001b[0m     \u001b[0;31m# but it's overkill for just that one bit of state.\u001b[0m\u001b[0;34m\u001b[0m\u001b[0;34m\u001b[0m\u001b[0m\n\u001b[1;32m    187\u001b[0m     \u001b[0;32mdef\u001b[0m \u001b[0mmagic_deco\u001b[0m\u001b[0;34m(\u001b[0m\u001b[0marg\u001b[0m\u001b[0;34m)\u001b[0m\u001b[0;34m:\u001b[0m\u001b[0;34m\u001b[0m\u001b[0m\n\u001b[0;32m--> 188\u001b[0;31m         \u001b[0mcall\u001b[0m \u001b[0;34m=\u001b[0m \u001b[0;32mlambda\u001b[0m \u001b[0mf\u001b[0m\u001b[0;34m,\u001b[0m \u001b[0;34m*\u001b[0m\u001b[0ma\u001b[0m\u001b[0;34m,\u001b[0m \u001b[0;34m**\u001b[0m\u001b[0mk\u001b[0m\u001b[0;34m:\u001b[0m \u001b[0mf\u001b[0m\u001b[0;34m(\u001b[0m\u001b[0;34m*\u001b[0m\u001b[0ma\u001b[0m\u001b[0;34m,\u001b[0m \u001b[0;34m**\u001b[0m\u001b[0mk\u001b[0m\u001b[0;34m)\u001b[0m\u001b[0;34m\u001b[0m\u001b[0m\n\u001b[0m\u001b[1;32m    189\u001b[0m \u001b[0;34m\u001b[0m\u001b[0m\n\u001b[1;32m    190\u001b[0m         \u001b[0;32mif\u001b[0m \u001b[0mcallable\u001b[0m\u001b[0;34m(\u001b[0m\u001b[0marg\u001b[0m\u001b[0;34m)\u001b[0m\u001b[0;34m:\u001b[0m\u001b[0;34m\u001b[0m\u001b[0m\n",
      "\u001b[0;32m/home/drone/.local/lib/python3.5/site-packages/IPython/core/magics/extension.py\u001b[0m in \u001b[0;36mload_ext\u001b[0;34m(self, module_str)\u001b[0m\n\u001b[1;32m     35\u001b[0m         \u001b[0;32mif\u001b[0m \u001b[0;32mnot\u001b[0m \u001b[0mmodule_str\u001b[0m\u001b[0;34m:\u001b[0m\u001b[0;34m\u001b[0m\u001b[0m\n\u001b[1;32m     36\u001b[0m             \u001b[0;32mraise\u001b[0m \u001b[0mUsageError\u001b[0m\u001b[0;34m(\u001b[0m\u001b[0;34m'Missing module name.'\u001b[0m\u001b[0;34m)\u001b[0m\u001b[0;34m\u001b[0m\u001b[0m\n\u001b[0;32m---> 37\u001b[0;31m         \u001b[0mres\u001b[0m \u001b[0;34m=\u001b[0m \u001b[0mself\u001b[0m\u001b[0;34m.\u001b[0m\u001b[0mshell\u001b[0m\u001b[0;34m.\u001b[0m\u001b[0mextension_manager\u001b[0m\u001b[0;34m.\u001b[0m\u001b[0mload_extension\u001b[0m\u001b[0;34m(\u001b[0m\u001b[0mmodule_str\u001b[0m\u001b[0;34m)\u001b[0m\u001b[0;34m\u001b[0m\u001b[0m\n\u001b[0m\u001b[1;32m     38\u001b[0m \u001b[0;34m\u001b[0m\u001b[0m\n\u001b[1;32m     39\u001b[0m         \u001b[0;32mif\u001b[0m \u001b[0mres\u001b[0m \u001b[0;34m==\u001b[0m \u001b[0;34m'already loaded'\u001b[0m\u001b[0;34m:\u001b[0m\u001b[0;34m\u001b[0m\u001b[0m\n",
      "\u001b[0;32m/home/drone/.local/lib/python3.5/site-packages/IPython/core/extensions.py\u001b[0m in \u001b[0;36mload_extension\u001b[0;34m(self, module_str)\u001b[0m\n\u001b[1;32m     81\u001b[0m             \u001b[0;32mif\u001b[0m \u001b[0mmodule_str\u001b[0m \u001b[0;32mnot\u001b[0m \u001b[0;32min\u001b[0m \u001b[0msys\u001b[0m\u001b[0;34m.\u001b[0m\u001b[0mmodules\u001b[0m\u001b[0;34m:\u001b[0m\u001b[0;34m\u001b[0m\u001b[0m\n\u001b[1;32m     82\u001b[0m                 \u001b[0;32mwith\u001b[0m \u001b[0mprepended_to_syspath\u001b[0m\u001b[0;34m(\u001b[0m\u001b[0mself\u001b[0m\u001b[0;34m.\u001b[0m\u001b[0mipython_extension_dir\u001b[0m\u001b[0;34m)\u001b[0m\u001b[0;34m:\u001b[0m\u001b[0;34m\u001b[0m\u001b[0m\n\u001b[0;32m---> 83\u001b[0;31m                     \u001b[0m__import__\u001b[0m\u001b[0;34m(\u001b[0m\u001b[0mmodule_str\u001b[0m\u001b[0;34m)\u001b[0m\u001b[0;34m\u001b[0m\u001b[0m\n\u001b[0m\u001b[1;32m     84\u001b[0m             \u001b[0mmod\u001b[0m \u001b[0;34m=\u001b[0m \u001b[0msys\u001b[0m\u001b[0;34m.\u001b[0m\u001b[0mmodules\u001b[0m\u001b[0;34m[\u001b[0m\u001b[0mmodule_str\u001b[0m\u001b[0;34m]\u001b[0m\u001b[0;34m\u001b[0m\u001b[0m\n\u001b[1;32m     85\u001b[0m             \u001b[0;32mif\u001b[0m \u001b[0mself\u001b[0m\u001b[0;34m.\u001b[0m\u001b[0m_call_load_ipython_extension\u001b[0m\u001b[0;34m(\u001b[0m\u001b[0mmod\u001b[0m\u001b[0;34m)\u001b[0m\u001b[0;34m:\u001b[0m\u001b[0;34m\u001b[0m\u001b[0m\n",
      "\u001b[0;31mImportError\u001b[0m: No module named 'version_information'"
     ]
    }
   ],
   "source": [
    "%load_ext version_information\n",
    "%version_information numpy, matplotlib, bayesianchangepoint"
   ]
  },
  {
   "cell_type": "markdown",
   "metadata": {},
   "source": [
    "\n",
    "# the switching binomial generative model\n"
   ]
  },
  {
   "cell_type": "code",
   "execution_count": null,
   "metadata": {
    "ExecuteTime": {
     "end_time": "2018-04-11T11:26:04.257910Z",
     "start_time": "2018-04-11T11:26:04.234238Z"
    },
    "collapsed": true
   },
   "outputs": [],
   "source": [
    "t_titre = 35\n",
    "t_label = 25\n",
    "fig_width= 15\n",
    "N_scan = 100\n",
    "#N_scan = 10 # DEBUG"
   ]
  },
  {
   "cell_type": "code",
   "execution_count": null,
   "metadata": {
    "ExecuteTime": {
     "end_time": "2018-04-11T11:26:07.065546Z",
     "start_time": "2018-04-11T11:26:04.260875Z"
    },
    "collapsed": true
   },
   "outputs": [],
   "source": [
    "observer = 'AM'\n",
    "mode = 'pari'\n",
    "exts = ['.png', '.svg']\n",
    "dpi = 400\n",
    "from aSPEM import Analysis\n",
    "e = Analysis(observer=observer, mode=mode)"
   ]
  },
  {
   "cell_type": "markdown",
   "metadata": {},
   "source": [
    "\n",
    "\n",
    "# the online BCP model: figures for the model\n",
    "\n",
    "\n",
    "TODO: simplifier le code générant les figures en faisant une boucle\n"
   ]
  },
  {
   "cell_type": "code",
   "execution_count": null,
   "metadata": {
    "ExecuteTime": {
     "end_time": "2018-04-11T11:26:10.576221Z",
     "start_time": "2018-04-11T11:26:07.067563Z"
    },
    "collapsed": true,
    "scrolled": false
   },
   "outputs": [],
   "source": [
    "fig_width = 15\n",
    "r_cir = 0.1\n",
    "s_arrow = 0.06\n",
    "alpha = .4\n",
    "\n",
    "c_f1 = 'k'\n",
    "c_f2 = 'r'\n",
    "c_cir = 'k'\n",
    "labelsize = 18\n",
    "\n",
    "layer = 4\n",
    "\n",
    "NUM = 6\n",
    "\n",
    "\n",
    "from matplotlib.patches import Circle, Wedge\n",
    "from matplotlib.collections import PatchCollection\n",
    "\n",
    "\n",
    "def arrow_1(ax, x, y, alpha=None):\n",
    "    if alpha is None:\n",
    "        plt.arrow(x+r_cir, y+r_cir, 1-(r_cir*2)-(s_arrow/2), 1-(r_cir*2)-(s_arrow/2),\n",
    "                  head_width=s_arrow, head_length=s_arrow, fc=c_f1, ec=c_f1)\n",
    "    else:\n",
    "        plt.arrow(x+r_cir, y+r_cir, 1-(r_cir*2)-(s_arrow/2), 1-(r_cir*2)-(s_arrow/2),\n",
    "                  head_width=s_arrow, head_length=s_arrow, fc=c_f1, ec=c_f1, alpha=alpha)\n",
    "\n",
    "\n",
    "def arrow_2(ax, x, y, alpha=None):\n",
    "    if alpha is None:\n",
    "        if y == 0:\n",
    "            plt.arrow(x+r_cir, y, 1-(r_cir*2), -y,\n",
    "                      head_width=0., head_length=0., ec=c_f2)\n",
    "        else:\n",
    "            plt.arrow(x+r_cir, y-r_cir, 1-(r_cir*2), -y+r_cir,\n",
    "                      head_width=0., head_length=0., ec=c_f2)\n",
    "    else:\n",
    "        if y == 0:\n",
    "            plt.arrow(x+r_cir, y, 1-(r_cir*2), -y,\n",
    "                      head_width=0., head_length=0., ec=c_f2, alpha=alpha)\n",
    "        else:\n",
    "            plt.arrow(x+r_cir, y-r_cir, 1-(r_cir*2), -y+r_cir,\n",
    "                      head_width=0., head_length=0., ec=c_f2, alpha=alpha)\n",
    "\n",
    "\n",
    "for layer in range(1, 6):\n",
    "    num = NUM\n",
    "\n",
    "    if layer == 1:\n",
    "        num = 2\n",
    "    if layer == 2:\n",
    "        num = 3\n",
    "    if layer == 3:\n",
    "        num = 4\n",
    "\n",
    "    fig, ax = plt.subplots(1, 1, figsize=(\n",
    "        fig_width, fig_width/1.6180), sharex=True)\n",
    "\n",
    "    patches = []\n",
    "    patches2 = []\n",
    "\n",
    "    if layer < 4:\n",
    "        ploup = range(num)\n",
    "    else:\n",
    "        ploup = range(int(num*1.6180)+1)\n",
    "\n",
    "    for x in ploup:\n",
    "        if x < num:\n",
    "            lala = range(x+1)\n",
    "            lalay = num-1\n",
    "        else:\n",
    "            lala = range(num)\n",
    "            lalay = lala[-1]\n",
    "        for y in lala:\n",
    "            if num > 4:\n",
    "                if y < lalay and x < int(num*1.6180):\n",
    "                    patches += [Wedge((x, y), r_cir, 0, 360, width=r_cir/10)]\n",
    "                else:\n",
    "                    patches2 += [Wedge((x, y), r_cir, 0, 360, width=r_cir/10)]\n",
    "\n",
    "                if x < int(num*1.6180):\n",
    "                    if y <= lalay-1:\n",
    "                        if y != lalay-1 and x < int(num*1.6180)-1:\n",
    "                            arrow_1(ax, x, y)\n",
    "                        else:\n",
    "                            arrow_1(ax, x, y, alpha=alpha)\n",
    "\n",
    "                        if x < int(num*1.6180)-1:\n",
    "                            arrow_2(ax, x, y)\n",
    "                        else:\n",
    "                            arrow_2(ax, x, y, alpha=alpha)\n",
    "\n",
    "                    else:\n",
    "                        arrow_2(ax, x, y, alpha=alpha)\n",
    "                plt.vlines(4, -0.3, 4.3, color='r', lw=30, alpha=0.01)\n",
    "            else:\n",
    "                patches += [Wedge((x, y), r_cir, 0, 360, width=r_cir/10)]\n",
    "                if y <= lalay-1 and x <= lalay-1:\n",
    "                    arrow_1(ax, x, y)\n",
    "                    arrow_2(ax, x, y)\n",
    "\n",
    "    p = PatchCollection(patches, color=c_cir, lw=1)\n",
    "    ax.add_collection(p)\n",
    "    p = PatchCollection(patches2, color=c_cir, alpha=alpha, lw=1)\n",
    "    ax.add_collection(p)\n",
    "\n",
    "    plt.tick_params(bottom=True, top=False, right=False, left=True)\n",
    "    plt.ylabel('Run lengths', fontsize=labelsize)\n",
    "    plt.xlabel('Trials', fontsize=labelsize)\n",
    "    plt.xticks(np.arange((NUM+0.32)*1.6180))\n",
    "\n",
    "    if layer > 4:\n",
    "        plt.plot([0, 1, 2, 3, 0, 0, 1, 2, 0, 1], lw=10, alpha=alpha+0.1, c='k')\n",
    "\n",
    "    plt.axis([-0.32, (NUM+0.32)*1.6180, -0.32, NUM+0.32])\n",
    "    for ext in exts: plt.savefig('figures/bcp_model_layer_%s%s' % (layer, ext))\n",
    "\n",
    "    plt.show()"
   ]
  },
  {
   "cell_type": "code",
   "execution_count": null,
   "metadata": {
    "ExecuteTime": {
     "end_time": "2018-04-11T11:26:10.599336Z",
     "start_time": "2018-04-11T11:26:10.578107Z"
    },
    "collapsed": true
   },
   "outputs": [],
   "source": [
    "NUM"
   ]
  },
  {
   "cell_type": "markdown",
   "metadata": {},
   "source": [
    "# evaluating the best hazard rate using a likelihood score"
   ]
  },
  {
   "cell_type": "markdown",
   "metadata": {},
   "source": [
    "Vérifier tau !"
   ]
  },
  {
   "cell_type": "code",
   "execution_count": null,
   "metadata": {
    "ExecuteTime": {
     "end_time": "2018-04-11T11:26:20.382910Z",
     "start_time": "2018-04-11T11:26:10.602004Z"
    },
    "collapsed": true,
    "scrolled": false
   },
   "outputs": [],
   "source": [
    "fig, axs = e.plot_bcp(plot='detail', block=2, trial=50)\n",
    "for ext in exts: fig.savefig('figures/BCP_readouts' + ext, dpi=dpi)"
   ]
  },
  {
   "cell_type": "code",
   "execution_count": null,
   "metadata": {
    "ExecuteTime": {
     "end_time": "2018-04-11T11:26:37.179878Z",
     "start_time": "2018-04-11T11:26:20.385035Z"
    },
    "collapsed": true,
    "scrolled": false
   },
   "outputs": [],
   "source": [
    "fig, axs = e.plot_bcp(N_scan=N_scan)\n",
    "for ext in exts: fig.savefig('figures/BCP_scan' + ext, dpi=dpi)"
   ]
  },
  {
   "cell_type": "code",
   "execution_count": null,
   "metadata": {
    "ExecuteTime": {
     "end_time": "2018-04-11T11:26:52.223720Z",
     "start_time": "2018-04-11T11:26:37.181743Z"
    },
    "collapsed": true,
    "scrolled": false
   },
   "outputs": [],
   "source": [
    "fig, axs = e.plot_bcp(N_scan=N_scan, pause=True)\n",
    "#for ext in exts: fig.savefig('figures/BCP_scan' + ext, dpi=dpi)"
   ]
  },
  {
   "cell_type": "markdown",
   "metadata": {},
   "source": [
    "TODO: plot pout chaque r la distriubtion Beta correspondant à $P(p |r) = B(p; p(r)*r, (1-p(r))*r)$"
   ]
  }
 ],
 "metadata": {
  "kernel_info": {
   "name": "python3"
  },
  "kernelspec": {
   "display_name": "Python 3",
   "language": "python",
   "name": "python3"
  },
  "language_info": {
   "codemirror_mode": {
    "name": "ipython",
    "version": 3
   },
   "file_extension": ".py",
   "mimetype": "text/x-python",
   "name": "python",
   "nbconvert_exporter": "python",
   "pygments_lexer": "ipython3",
   "version": "3.5.2"
  },
  "toc": {
   "base_numbering": 1,
   "nav_menu": {
    "height": "63px",
    "width": "252px"
   },
   "number_sections": true,
   "sideBar": true,
   "skip_h1_title": false,
   "title_cell": "Table of Contents",
   "title_sidebar": "Contents",
   "toc_cell": false,
   "toc_position": {},
   "toc_section_display": "block",
   "toc_window_display": false
  }
 },
 "nbformat": 4,
 "nbformat_minor": 1
}
