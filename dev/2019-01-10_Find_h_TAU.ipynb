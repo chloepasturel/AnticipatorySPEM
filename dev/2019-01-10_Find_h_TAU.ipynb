{
 "cells": [
  {
   "cell_type": "code",
   "execution_count": 1,
   "metadata": {
    "ExecuteTime": {
     "end_time": "2018-07-13T14:09:02.470288Z",
     "start_time": "2018-07-13T14:09:00.548346Z"
    }
   },
   "outputs": [],
   "source": [
    "%load_ext autoreload\n",
    "%autoreload 2\n",
    "import os\n",
    "import glob\n",
    "import pickle\n",
    "import numpy as np"
   ]
  },
  {
   "cell_type": "code",
   "execution_count": 2,
   "metadata": {
    "ExecuteTime": {
     "end_time": "2018-07-13T14:09:02.539114Z",
     "start_time": "2018-07-13T14:09:02.477153Z"
    }
   },
   "outputs": [],
   "source": [
    "from aSPEM import Analysis\n",
    "import bayesianchangepoint as bcp"
   ]
  },
  {
   "cell_type": "code",
   "execution_count": 3,
   "metadata": {
    "ExecuteTime": {
     "end_time": "2018-07-13T14:09:02.644736Z",
     "start_time": "2018-07-13T14:09:02.600752Z"
    }
   },
   "outputs": [],
   "source": [
    "list_sujet = ['AM','BMC','CS','DC','FM','IP','LB','OP','RS','SR','TN','YK']\n",
    "nb_sujet = len(list_sujet)"
   ]
  },
  {
   "cell_type": "code",
   "execution_count": 4,
   "metadata": {
    "ExecuteTime": {
     "end_time": "2018-07-13T14:09:07.303209Z",
     "start_time": "2018-07-13T14:09:02.720212Z"
    }
   },
   "outputs": [],
   "source": [
    "liste = []\n",
    "for fname in glob.glob('data/*pkl'):\n",
    "    a = fname.split('/')[1].split('.')[0].split('_')\n",
    "    liste.append(a)\n",
    "            \n",
    "BET = {}\n",
    "for x in range(len(liste)) :\n",
    "    if liste[x][0]=='pari' and liste[x][1] in list_sujet:\n",
    "        a = 'data/%s_%s_%s_%s.pkl'%(liste[x][0], liste[x][1],liste[x][2],liste[x][3])\n",
    "        with open(a, 'rb') as fichier :\n",
    "            b = pickle.load(fichier, encoding='latin1')\n",
    "            BET[liste[x][1]] = b\n",
    "\n",
    "e = Analysis(observer='AM', mode='enregistrement')\n",
    "Full = e.Full_list(modes_bcp=None)"
   ]
  },
  {
   "cell_type": "markdown",
   "metadata": {},
   "source": [
    "# Scaling Data"
   ]
  },
  {
   "cell_type": "code",
   "execution_count": 5,
   "metadata": {
    "ExecuteTime": {
     "end_time": "2018-07-13T14:09:07.303209Z",
     "start_time": "2018-07-13T14:09:02.720212Z"
    }
   },
   "outputs": [],
   "source": [
    "file = os.path.join('parametre', 'Data_Scaling.pkl')\n",
    "with open(file, 'rb') as fichier:\n",
    "    new_data = pickle.load(fichier, encoding='latin1')"
   ]
  },
  {
   "cell_type": "code",
   "execution_count": 6,
   "metadata": {},
   "outputs": [],
   "source": [
    "new_bet_full = new_data['new_bet_full']\n",
    "new_bet_sujet = new_data['new_bet_sujet']\n",
    "new_va_full = new_data['new_va_full']\n",
    "new_va_sujet = new_data['new_va_sujet']"
   ]
  },
  {
   "cell_type": "markdown",
   "metadata": {},
   "source": [
    "# Variation de h"
   ]
  },
  {
   "cell_type": "code",
   "execution_count": 7,
   "metadata": {
    "ExecuteTime": {
     "end_time": "2018-07-13T14:09:08.233741Z",
     "start_time": "2018-07-13T14:09:07.484340Z"
    }
   },
   "outputs": [],
   "source": [
    "from lmfit import  Model, Parameters\n",
    "from lmfit import minimize"
   ]
  },
  {
   "cell_type": "code",
   "execution_count": 8,
   "metadata": {
    "ExecuteTime": {
     "end_time": "2018-07-13T14:09:08.288445Z",
     "start_time": "2018-07-13T14:09:08.242459Z"
    }
   },
   "outputs": [],
   "source": [
    "def fct_BCP(x, tau) :\n",
    "\n",
    "    h = 1/tau\n",
    "    p_bar, r_bar, beliefs = bcp.inference(x, h=h, p0=.5, r0=1.)\n",
    "    p_hat, r_hat = bcp.readout(p_bar, r_bar, beliefs, mode='mean', p0=.5, fixed_window_size=40)#, mode='mean')\n",
    "    \n",
    "    return p_hat"
   ]
  },
  {
   "cell_type": "code",
   "execution_count": 9,
   "metadata": {},
   "outputs": [],
   "source": [
    "def KL_distance(p_data, p_hat):\n",
    "    distance = p_hat * np.log2(p_hat) - p_hat * np.log2(p_data + 1.*(p_data==0.))\n",
    "    distance += (1-p_hat) * np.log2(1-p_hat) - (1-p_hat) * np.log2(1-p_data + 1.*(p_data==1.))\n",
    "    return distance\n",
    "\n",
    "def residual(params, x, data):\n",
    "    tau = params['tau']\n",
    "    model = fct_BCP(x, tau)\n",
    "    return KL_distance(data, model)\n",
    "\n",
    "def fit(h, x, bet, va):\n",
    "    \n",
    "    tau = 1/h\n",
    "    x = np.array(x)\n",
    "    bet = np.array(bet)\n",
    "    va = np.array(va)\n",
    "\n",
    "\n",
    "    params = Parameters()\n",
    "    params.add('tau', value=tau, min=1)\n",
    "\n",
    "    result_res = minimize(residual, params, args=(x, bet), nan_policy='omit')\n",
    "    result_v_ant = minimize(residual, params, args=(x, va), nan_policy='omit')\n",
    "    \n",
    "    h_bet = 1/result_res.params['tau'].value\n",
    "    h_va = 1/result_v_ant.params['tau'].value\n",
    "    \n",
    "    return h_bet, h_va"
   ]
  },
  {
   "cell_type": "code",
   "execution_count": 10,
   "metadata": {},
   "outputs": [],
   "source": [
    "def fit_h(new_bet, new_va) :\n",
    "    \n",
    "    h_bet, h_va = {}, {}\n",
    "\n",
    "    for l in ['pause', 'block', 'sujet'] :\n",
    "        h_bet[l], h_va[l] = {}, {}\n",
    "\n",
    "    for x, sujet in enumerate(list_sujet) :\n",
    "\n",
    "        print(sujet)\n",
    "\n",
    "        prob_sujet, bet_sujet, v_anti_sujet = [], [], []\n",
    "\n",
    "        p = BET[sujet]['p']\n",
    "        tau = BET[sujet]['N_trials']/5.\n",
    "        h = 1./tau \n",
    "\n",
    "        for l in ['pause', 'block', 'sujet'] :\n",
    "            h_bet[l][sujet] = []\n",
    "            h_va[l][sujet] = []\n",
    "\n",
    "        for block in range(BET[sujet]['N_blocks']):\n",
    "            \n",
    "            bet = new_bet[sujet][block]\n",
    "            va = new_va[sujet][block]\n",
    "\n",
    "            prob_block = p[:, block, 0]\n",
    "            h_b, h_v = fit(h, prob_block, bet, va)\n",
    "\n",
    "            h_bet['block'][sujet].append(h_b)\n",
    "            h_va['block'][sujet].append(h_v)\n",
    "\n",
    "            prob_sujet.extend(p[:, block, 0])\n",
    "            bet_sujet.extend(bet)\n",
    "            v_anti_sujet.extend(va)\n",
    "            #----------------------------------------------------\n",
    "            # Pour chaque pause !\n",
    "            #----------------------------------------------------\n",
    "            liste = [0,50,100,150,200]\n",
    "            for a in range(len(liste)-1) :\n",
    "                va_p = va[liste[a]:liste[a+1]]\n",
    "                bet_p = bet[liste[a]:liste[a+1]]\n",
    "                prob_pause = p[liste[a]:liste[a+1], block, 0]\n",
    "\n",
    "                h_b, h_v = fit(h, prob_pause, bet_p, va_p)\n",
    "\n",
    "                h_bet['pause'][sujet].append(h_b)\n",
    "                h_va['pause'][sujet].append(h_v)\n",
    "\n",
    "\n",
    "        h_b, h_v = fit(h, prob_sujet, bet_sujet, v_anti_sujet)\n",
    "        h_bet['sujet'][sujet].append(h_b)\n",
    "        h_va['sujet'][sujet].append(h_v)\n",
    "    return h_bet, h_va"
   ]
  },
  {
   "cell_type": "code",
   "execution_count": 11,
   "metadata": {},
   "outputs": [
    {
     "name": "stdout",
     "output_type": "stream",
     "text": [
      "AM\n",
      "BMC\n",
      "CS\n",
      "DC\n",
      "FM\n",
      "IP\n",
      "LB\n",
      "OP\n",
      "RS\n",
      "SR\n",
      "TN\n",
      "YK\n"
     ]
    }
   ],
   "source": [
    "h_bet_full, h_va_full = fit_h(new_bet_full, new_va_full)"
   ]
  },
  {
   "cell_type": "code",
   "execution_count": 12,
   "metadata": {},
   "outputs": [
    {
     "name": "stdout",
     "output_type": "stream",
     "text": [
      "AM\n",
      "BMC\n",
      "CS\n",
      "DC\n",
      "FM\n",
      "IP\n",
      "LB\n",
      "OP\n",
      "RS\n",
      "SR\n",
      "TN\n",
      "YK\n"
     ]
    }
   ],
   "source": [
    "h_bet_sujet, h_va_sujet = fit_h(new_bet_sujet, new_va_sujet)"
   ]
  },
  {
   "cell_type": "code",
   "execution_count": 13,
   "metadata": {},
   "outputs": [],
   "source": [
    "list_h = {}\n",
    "list_h['h_bet_full'] = h_bet_full\n",
    "list_h['h_va_full'] = h_va_full\n",
    "list_h['h_bet_sujet'] = h_bet_sujet\n",
    "list_h['h_va_sujet'] = h_va_sujet"
   ]
  },
  {
   "cell_type": "code",
   "execution_count": 14,
   "metadata": {},
   "outputs": [],
   "source": [
    "file = os.path.join('parametre', 'list_h_TAU.pkl')\n",
    "with open(file, 'wb') as fichier:\n",
    "    f = pickle.Pickler(fichier)\n",
    "    f.dump(list_h)"
   ]
  },
  {
   "cell_type": "code",
   "execution_count": null,
   "metadata": {},
   "outputs": [],
   "source": []
  },
  {
   "cell_type": "code",
   "execution_count": null,
   "metadata": {},
   "outputs": [],
   "source": []
  }
 ],
 "metadata": {
  "kernelspec": {
   "display_name": "Python 3",
   "language": "python",
   "name": "python3"
  },
  "language_info": {
   "codemirror_mode": {
    "name": "ipython",
    "version": 3
   },
   "file_extension": ".py",
   "mimetype": "text/x-python",
   "name": "python",
   "nbconvert_exporter": "python",
   "pygments_lexer": "ipython3",
   "version": "3.6.7"
  },
  "toc": {
   "base_numbering": 1,
   "nav_menu": {
    "height": "48px",
    "width": "252px"
   },
   "number_sections": true,
   "sideBar": true,
   "skip_h1_title": false,
   "title_cell": "Table of Contents",
   "title_sidebar": "Contents",
   "toc_cell": false,
   "toc_position": {},
   "toc_section_display": "block",
   "toc_window_display": false
  }
 },
 "nbformat": 4,
 "nbformat_minor": 2
}
