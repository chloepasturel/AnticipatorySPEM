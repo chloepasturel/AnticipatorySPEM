{
 "cells": [
  {
   "cell_type": "code",
   "execution_count": 1,
   "metadata": {},
   "outputs": [],
   "source": [
    "%load_ext autoreload\n",
    "%autoreload 2\n",
    "\n",
    "import matplotlib.pyplot as plt\n",
    "import numpy as np\n",
    "\n",
    "from aSPEM import aSPEM\n",
    "import bayesianchangepoint as bcp\n",
    "\n",
    "%matplotlib inline"
   ]
  },
  {
   "cell_type": "code",
   "execution_count": 2,
   "metadata": {},
   "outputs": [],
   "source": [
    "from aSPEM import Analysis\n",
    "e = Analysis(name_file_fit='fct_velocity_sigmo')"
   ]
  },
  {
   "cell_type": "code",
   "execution_count": 3,
   "metadata": {},
   "outputs": [],
   "source": [
    "Full = e.Full_list(modes_bcp=[])"
   ]
  },
  {
   "cell_type": "code",
   "execution_count": 4,
   "metadata": {},
   "outputs": [],
   "source": [
    "def mutual_information(p, data, bin_p=20, bin_data=30):\n",
    "    \n",
    "    x = p\n",
    "    y = data\n",
    "\n",
    "    support_x = np.linspace(min(x), max(x), bin_p)\n",
    "    support_y = np.linspace(min(y), max(y), int(len(data)/bin_data))\n",
    "\n",
    "    summation = 0.00\n",
    "    for a in range(len(support_x)-1):\n",
    "        for b in range(len(support_y)-1):\n",
    "            ind_x = np.where((x>=support_x[a]) & (x<=support_x[a+1]))[0]\n",
    "            ind_y = np.where((y>=support_y[b]) & (y<=support_y[b+1]))[0]\n",
    "\n",
    "            px = len(ind_x) / len(x)\n",
    "            py = len(ind_y) / len(x)\n",
    "            pxy = len(np.where(np.in1d(ind_x, ind_y)==True)[0]) / len(x)\n",
    "\n",
    "            if pxy>0.00: summation += pxy * np.log2(pxy / (px*py))\n",
    "\n",
    "\n",
    "    return summation"
   ]
  },
  {
   "cell_type": "code",
   "execution_count": 5,
   "metadata": {
    "scrolled": true
   },
   "outputs": [
    {
     "name": "stdout",
     "output_type": "stream",
     "text": [
      "sujet = AM  va - h=0.050, mi=0.577   bet - h=0.025, mi=1.602\n",
      "sujet = BMC  va - h=0.075, mi=0.730   bet - h=0.025, mi=1.739\n",
      "sujet = DC  va - h=0.050, mi=0.749   bet - h=0.025, mi=1.281\n",
      "sujet = OP  va - h=0.025, mi=0.526   bet - h=0.050, mi=1.227\n",
      "sujet = LB  va - h=0.100, mi=0.880   bet - h=0.075, mi=1.481\n",
      "sujet = IP  va - h=0.100, mi=0.730   bet - h=0.025, mi=1.906\n",
      "sujet = RS  va - h=0.050, mi=0.645   bet - h=0.100, mi=0.717\n",
      "sujet = FM  va - h=0.100, mi=0.838   bet - h=0.050, mi=1.229\n",
      "sujet = YK  va - h=0.075, mi=0.508   bet - h=0.025, mi=0.621\n",
      "sujet = CS  va - h=0.050, mi=0.792   bet - h=0.075, mi=1.133\n",
      "sujet = SR  va - h=0.100, mi=1.033   bet - h=0.025, mi=1.574\n",
      "sujet = TN  va - h=0.100, mi=0.932   bet - h=0.025, mi=1.372\n"
     ]
    }
   ],
   "source": [
    "modes_bcp = 'mean'\n",
    "list_h = np.linspace(0, 0.1, 5)\n",
    "\n",
    "\n",
    "for s in set(Full.sujet) :\n",
    "    print('sujet =', s, end='  ')\n",
    "    va = Full['va'][Full.sujet==s].values.tolist()\n",
    "    bet = Full['results'][Full.sujet==s].values.tolist()\n",
    "    \n",
    "    mumu_va = []\n",
    "    mumu_bet = []\n",
    "    \n",
    "    for h in list_h :\n",
    "        x = np.array(Full['bino'][Full.sujet=='AM'])\n",
    "        p_hat = np.zeros(len(x))\n",
    "        for b in range(3):\n",
    "            nb = 200*b\n",
    "            liste = [0, 50, 100, 150, 200]\n",
    "            for a in range(len(liste)-1) :\n",
    "                p_bar, r_bar, beliefs = bcp.inference(x[nb+liste[a]:nb+liste[a+1]], h=h, p0=.5, r0=1.)\n",
    "                p_hat_p, r_hat = bcp.readout(p_bar, r_bar, beliefs, mode=modes_bcp, p0=.5, fixed_window_size=40)\n",
    "                p_hat[nb+liste[a]:nb+liste[a+1]] = p_hat_p\n",
    "\n",
    "        \n",
    "        proba = np.ma.masked_array(p_hat.tolist(), mask=np.isnan(va)).compressed()\n",
    "        data = np.ma.masked_array(va, mask=np.isnan(va)).compressed()\n",
    "        \n",
    "        mumu_va.append(mutual_information(proba, data, bin_p=20, bin_data=30))\n",
    "        \n",
    "        \n",
    "        \n",
    "        proba = np.ma.masked_array(p_hat.tolist(), mask=np.isnan(bet)).compressed()\n",
    "        data = np.ma.masked_array(bet, mask=np.isnan(bet)).compressed()\n",
    "        \n",
    "        mumu_bet.append(mutual_information(proba, data, bin_p=20, bin_data=30))\n",
    "    print('va - h=%0.3f, mi=%0.3f'%(list_h[np.argmax(mumu_va)], max(mumu_va)), end='   ')\n",
    "    print('bet - h=%0.3f, mi=%0.3f'%(list_h[np.argmax(mumu_bet)], max(mumu_bet)))"
   ]
  },
  {
   "cell_type": "code",
   "execution_count": null,
   "metadata": {},
   "outputs": [],
   "source": []
  }
 ],
 "metadata": {
  "kernelspec": {
   "display_name": "Python 3",
   "language": "python",
   "name": "python3"
  },
  "language_info": {
   "codemirror_mode": {
    "name": "ipython",
    "version": 3
   },
   "file_extension": ".py",
   "mimetype": "text/x-python",
   "name": "python",
   "nbconvert_exporter": "python",
   "pygments_lexer": "ipython3",
   "version": "3.5.2"
  }
 },
 "nbformat": 4,
 "nbformat_minor": 2
}
