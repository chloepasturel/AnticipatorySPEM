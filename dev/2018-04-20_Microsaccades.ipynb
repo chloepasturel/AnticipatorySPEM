{
 "cells": [
  {
   "cell_type": "code",
   "execution_count": 1,
   "metadata": {
    "collapsed": true
   },
   "outputs": [],
   "source": [
    "%load_ext autoreload\n",
    "%autoreload 2\n",
    "from __future__ import division, print_function, absolute_import\n",
    "import glob\n",
    "import pickle\n",
    "import matplotlib.pyplot as plt\n",
    "import numpy as np\n",
    "import scipy as sc\n",
    "import os\n",
    "from scipy import stats\n",
    "import sys\n",
    "sys.path.append('..')\n",
    "from edfreader import read_edf"
   ]
  },
  {
   "cell_type": "code",
   "execution_count": 2,
   "metadata": {
    "collapsed": true
   },
   "outputs": [],
   "source": [
    "%matplotlib inline\n",
    "fig_width = 15\n",
    "\n",
    "from aSPEM import aSPEM\n",
    "import bayesianchangepoint as bcp"
   ]
  },
  {
   "cell_type": "code",
   "execution_count": 3,
   "metadata": {
    "collapsed": true
   },
   "outputs": [],
   "source": [
    "liste = []\n",
    "for fname in glob.glob('data/*pkl'):\n",
    "    a = fname.split('/')[1].split('.')[0].split('_')\n",
    "    liste.append(a)\n",
    "    #print(a)\n",
    "\n",
    "exp = []\n",
    "for x in range(len(liste)) :\n",
    "    if liste[x][0]=='enregistrement' and liste[x][1] in ['AM','BMC','CS','DC','FM','IP','LB','OP','RS','SR','TN','YK']:\n",
    "        a = 'data/%s_%s_%s_%s.pkl'%(liste[x][0], liste[x][1],liste[x][2],liste[x][3])\n",
    "        with open(a, 'rb') as fichier :\n",
    "            b = pickle.load(fichier, encoding='latin1')\n",
    "            exp.append(b)"
   ]
  },
  {
   "cell_type": "code",
   "execution_count": 4,
   "metadata": {
    "collapsed": true
   },
   "outputs": [],
   "source": [
    "timeStr = {}\n",
    "timeStr['AM'] = '2017-10-23_100057'\n",
    "timeStr['BMC'] = '2017-09-26_095637'\n",
    "timeStr['CS'] = '2017-10-03_134421'\n",
    "timeStr['DC']= '2017-09-27_161040'\n",
    "timeStr['FM'] = '2017-10-03_143803'\n",
    "timeStr['IP'] = '2017-09-28_115250'\n",
    "timeStr['LB'] = '2017-09-20_151043'\n",
    "timeStr['OP'] = '2017-10-26_121823'\n",
    "timeStr['RS'] = '2017-11-08_094717'\n",
    "timeStr['SR'] = '2017-11-16_153313'\n",
    "timeStr['TN'] = '2017-11-08_150410'\n",
    "timeStr['YK'] = '2017-11-17_172706'"
   ]
  },
  {
   "cell_type": "code",
   "execution_count": 5,
   "metadata": {
    "collapsed": true
   },
   "outputs": [],
   "source": [
    "def Microsaccade (grad, VFAC=6, mindur=8, maxdur=100):\n",
    "    '''\n",
    "    mindur et maxdur en ms\n",
    "    '''\n",
    "    msdx = np.sqrt((np.nanmedian(grad**2))-((np.nanmedian(grad))**2))\n",
    "\n",
    "    radiusx = VFAC*msdx\n",
    "\n",
    "    test = (grad/radiusx)**2\n",
    "    index = [x for x in range(len(test)) if test[x] > 1]\n",
    "    \n",
    "    dur = 0\n",
    "    debut_sac = 0\n",
    "    k = 0\n",
    "    \n",
    "    sac = []\n",
    "    for k in np.arange(1, len(index)-1, 1) :\n",
    "        if index[k+1]-index[k]==1 :\n",
    "            dur = dur + 1;\n",
    "        else :\n",
    "            if dur >= mindur and dur < maxdur :\n",
    "                fin_sac = k\n",
    "                sac.append([index[debut_sac], index[fin_sac]])\n",
    "            debut_sac = k+1\n",
    "            dur = 1\n",
    "        k = k + 1\n",
    "    return sac"
   ]
  },
  {
   "cell_type": "code",
   "execution_count": 6,
   "metadata": {
    "collapsed": true
   },
   "outputs": [],
   "source": [
    "def suppression_saccades(data_x, trackertime, saccades, trackertime_0):\n",
    "    gradient_x = np.gradient(data_x) # gradient en px/ms\n",
    "    gradient_deg = gradient_x * 1/exp[0]['px_per_deg'] * 1000 # gradient en deg/sec\n",
    "    \n",
    "    gradient_deg_NAN = gradient_deg\n",
    "    \n",
    "    for s in range(len(saccades)) :\n",
    "        if saccades[s][1]-trackertime_0+15 <= (len(trackertime)) :\n",
    "            for x_data in np.arange((saccades[s][0]-trackertime_0-5), (saccades[s][1]-trackertime_0+15)) :\n",
    "                gradient_deg_NAN[x_data] = np.nan\n",
    "        else :\n",
    "            for x_data in np.arange((saccades[s][0]-trackertime_0-5), (len(trackertime))) :\n",
    "                gradient_deg_NAN[x_data] = np.nan\n",
    "    return gradient_deg_NAN"
   ]
  },
  {
   "cell_type": "code",
   "execution_count": 7,
   "metadata": {
    "collapsed": true
   },
   "outputs": [],
   "source": [
    "def fig_velocity(ax, sujet, block, trial, t_titre=35, t_label=20) :\n",
    "\n",
    "    trial_data = trial + 200*block\n",
    "    \n",
    "    resultats = os.path.join('..','data', 'enregistrement_' + sujet + '_' + timeStr[sujet] + '.asc')\n",
    "    data = read_edf(resultats, 'TRIALID')\n",
    "    \n",
    "    data_x = data[trial_data]['x']\n",
    "    trackertime = data[trial_data]['trackertime']\n",
    "\n",
    "    StimulusOn = data[trial_data]['events']['msg'][10][0]\n",
    "    StimulusOf = data[trial_data]['events']['msg'][14][0]\n",
    "    TargetOn = data[trial_data]['events']['msg'][15][0]\n",
    "    TargetOff = data[trial_data]['events']['msg'][16][0]\n",
    "    saccades = data[trial_data]['events']['Esac']\n",
    "    trackertime_0 = data[trial_data]['trackertime'][0]\n",
    "\n",
    "    start = TargetOn\n",
    "    StimulusOn_s = StimulusOn - start\n",
    "    StimulusOf_s = StimulusOf - start\n",
    "    TargetOn_s = TargetOn - start\n",
    "    TargetOff_s = TargetOff - start\n",
    "    trackertime_s = trackertime - start\n",
    "\n",
    "    grad = suppression_saccades(data_x, trackertime, saccades, trackertime_0)\n",
    "    sac = Microsaccade (grad)\n",
    "\n",
    "    ax.axvspan(StimulusOn_s, StimulusOf_s, color='k', alpha=0.2)\n",
    "    ax.axvspan(StimulusOf_s, TargetOn_s, color='r', alpha=0.2)\n",
    "    ax.axvspan(TargetOn_s, TargetOff_s, color='k', alpha=0.15)\n",
    "\n",
    "    debut  = TargetOn - trackertime_0\n",
    "    grad2=np.copy(grad)\n",
    "\n",
    "    for s in range(len(saccades)) :\n",
    "        ax.axvspan(saccades[s][0]-start, saccades[s][1]-start, color='k', alpha=0.15)\n",
    "    for s in range(len(sac)) :\n",
    "        ax.axvspan(sac[s][0]-debut, sac[s][1]-debut, color='r', alpha=0.3)\n",
    "\n",
    "        if sac[s][1]+15 <= (len(trackertime)) :\n",
    "            for x_data in np.arange((sac[s][0]-5), (sac[s][1]+15)) :\n",
    "                grad2[x_data] = np.nan\n",
    "        else :\n",
    "            for x_data in np.arange((sac[s][0]-5), (len(trackertime))) :\n",
    "                grad2[x_data] = np.nan\n",
    "                \n",
    "    ax.plot(trackertime_s, grad, color='k', alpha=0.4)\n",
    "    ax.plot(trackertime_s, grad2, color='r', alpha=0.4)\n",
    "\n",
    "    ax.axis([-750, 750, -39.5, 39.5])\n",
    "    ax.xaxis.set_ticks_position('bottom')\n",
    "    ax.xaxis.set_tick_params(labelsize=t_label/2)\n",
    "    ax.yaxis.set_ticks_position('left')\n",
    "    ax.yaxis.set_tick_params(labelsize=t_label/2)\n",
    "    ax.set_xlabel('Time (ms)', fontsize=t_label)"
   ]
  },
  {
   "cell_type": "code",
   "execution_count": 8,
   "metadata": {
    "scrolled": false
   },
   "outputs": [
    {
     "name": "stderr",
     "output_type": "stream",
     "text": [
      "IOPub data rate exceeded.\n",
      "The notebook server will temporarily stop sending output\n",
      "to the client in order to avoid crashing it.\n",
      "To change this limit, set the config variable\n",
      "`--NotebookApp.iopub_data_rate_limit`.\n"
     ]
    }
   ],
   "source": [
    "fig, ax = plt.subplots(50,1, figsize=(15, 50*15/1.6180))\n",
    "\n",
    "for x in range(50) :\n",
    "    fig_velocity(ax[x], sujet='CS', block=1, trial=x,  t_titre=35, t_label=20) "
   ]
  },
  {
   "cell_type": "code",
   "execution_count": null,
   "metadata": {
    "collapsed": true
   },
   "outputs": [],
   "source": []
  },
  {
   "cell_type": "code",
   "execution_count": null,
   "metadata": {
    "collapsed": true
   },
   "outputs": [],
   "source": []
  }
 ],
 "metadata": {
  "kernelspec": {
   "display_name": "Python 3",
   "language": "python",
   "name": "python3"
  },
  "language_info": {
   "codemirror_mode": {
    "name": "ipython",
    "version": 3
   },
   "file_extension": ".py",
   "mimetype": "text/x-python",
   "name": "python",
   "nbconvert_exporter": "python",
   "pygments_lexer": "ipython3",
   "version": "3.5.2"
  }
 },
 "nbformat": 4,
 "nbformat_minor": 2
}
