{
 "cells": [
  {
   "cell_type": "markdown",
   "metadata": {},
   "source": [
    "Figure des potentiels essaies à supprimer - aide pour définir des critères d'élimination"
   ]
  },
  {
   "cell_type": "code",
   "execution_count": 1,
   "metadata": {
    "collapsed": true
   },
   "outputs": [],
   "source": [
    "%load_ext autoreload\n",
    "%autoreload 2\n",
    "from __future__ import division, print_function, absolute_import\n",
    "import pickle\n",
    "import os\n",
    "import matplotlib.pyplot as plt\n",
    "import sys\n",
    "sys.path.append('..')\n",
    "from edfreader import read_edf\n",
    "import numpy as np\n",
    "from lmfit import  Model, Parameters\n",
    "%matplotlib inline"
   ]
  },
  {
   "cell_type": "code",
   "execution_count": 2,
   "metadata": {
    "collapsed": true
   },
   "outputs": [],
   "source": [
    "def exponentiel (x, tau, maxi, start_anti, v_anti, latence, bino) :\n",
    "    '''\n",
    "    tau -- courbe\n",
    "    maxi -- maximum\n",
    "    latence -- tps où commence le mvt\n",
    "    bino -- binomial\n",
    "    \n",
    "    start_anti = debut de l'anticipation\n",
    "    v_anti =  vitesse de l'anticipation\n",
    "    ''' \n",
    "    v_anti = v_anti/1000 # pour passer de sec à ms\n",
    "    time = np.arange(len(x))\n",
    "    vitesse = []\n",
    "                \n",
    "    for t in range(len(time)):\n",
    "        \n",
    "        if start_anti >= latence :\n",
    "            if time[t] < latence :\n",
    "                vitesse.append(0)\n",
    "            else :\n",
    "                vitesse.append((bino*2-1)*maxi*(1-np.exp(-1/tau*(time[t]-latence))))\n",
    "        else :\n",
    "\n",
    "            if time[t] < start_anti :\n",
    "                vitesse.append(0)\n",
    "            else :\n",
    "                if time[t] < latence :\n",
    "                    #vitesse.append((bino*2-1)*(time[t]-start_anti)*v_anti)\n",
    "                    vitesse.append((time[t]-start_anti)*v_anti)\n",
    "                    x = (time[t]-start_anti)*v_anti\n",
    "                else :\n",
    "                    vitesse.append((bino*2-1)*maxi*(1-np.exp(-1/tau*(time[t]-latence)))+x)\n",
    "    return vitesse"
   ]
  },
  {
   "cell_type": "code",
   "execution_count": 3,
   "metadata": {
    "scrolled": true
   },
   "outputs": [
    {
     "name": "stdout",
     "output_type": "stream",
     "text": [
      "../data/enregistrement_AM_2017-10-23_100057.asc\r\n",
      "../data/enregistrement_BMC_2017-09-26_095637.asc\r\n",
      "../data/enregistrement_CS_2017-10-03_134421.asc\r\n",
      "../data/enregistrement_DC_2017-09-27_161040.asc\r\n",
      "../data/enregistrement_FM_2017-10-03_143803.asc\r\n",
      "../data/enregistrement_IP_2017-09-28_115250.asc\r\n",
      "../data/enregistrement_LB_2017-09-20_151043 (1).asc\r\n",
      "../data/enregistrement_LB_2017-09-20_151043.asc\r\n",
      "../data/enregistrement_OP_2017-10-26_121823.asc\r\n",
      "../data/enregistrement_RS_2017-11-08_094717.asc\r\n",
      "../data/enregistrement_SR_2017-11-16_153313.asc\r\n",
      "../data/enregistrement_TN_2017-11-08_150410.asc\r\n",
      "../data/enregistrement_YK_2017-11-17_172706.asc\r\n"
     ]
    }
   ],
   "source": [
    "!ls ../data/*.asc"
   ]
  },
  {
   "cell_type": "code",
   "execution_count": 4,
   "metadata": {
    "collapsed": true
   },
   "outputs": [],
   "source": [
    "timeStr = '2017-09-28_115250'\n",
    "observer = 'IP'\n",
    "mode = 'enregistrement'"
   ]
  },
  {
   "cell_type": "code",
   "execution_count": 5,
   "metadata": {
    "collapsed": true
   },
   "outputs": [],
   "source": [
    "file = os.path.join('..','data', mode + '_' + observer + '_' + timeStr + '.pkl')\n",
    "with open(file, 'rb') as fichier :\n",
    "    exp = pickle.load(fichier, encoding='latin1')\n",
    "      \n",
    "resultats = os.path.join('..','data', mode + '_' + observer + '_' + timeStr + '.asc')\n",
    "data = read_edf(resultats, 'TRIALID')"
   ]
  },
  {
   "cell_type": "code",
   "execution_count": 6,
   "metadata": {
    "collapsed": true
   },
   "outputs": [],
   "source": [
    "N_trials = exp['N_trials']\n",
    "N_blocks = exp['N_blocks']\n",
    "screen_width_px = exp['screen_width_px']\n",
    "screen_height_px = exp['screen_height_px']\n",
    "V_X = exp['V_X']\n",
    "RashBass = exp['RashBass']\n",
    "stim_tau = exp['stim_tau']\n",
    "p = exp['p']"
   ]
  },
  {
   "cell_type": "code",
   "execution_count": 7,
   "metadata": {
    "scrolled": true
   },
   "outputs": [
    {
     "name": "stdout",
     "output_type": "stream",
     "text": [
      "0 124\n",
      "0 168\n",
      "1 1\n",
      "1 39\n",
      "1 78\n",
      "1 153\n",
      "2 47\n",
      "2 115\n",
      "FIN !!!\n"
     ]
    }
   ],
   "source": [
    "for block in range(N_blocks) :\n",
    "    if observer == 'BMC' :\n",
    "        if block == 0 :\n",
    "            liste_trial = [156]\n",
    "        elif block == 1 :\n",
    "            liste_trial = [129,131,136,137]\n",
    "        elif block == 2 :\n",
    "            liste_trial = [79,137,145]\n",
    "\n",
    "    if observer == 'CS' :\n",
    "        if block == 0 :\n",
    "            liste_trial = [96,162,175]\n",
    "        elif block == 1 :\n",
    "            liste_trial = [43,45,53,58,85,119,122,123,124,125,126,127,135,138,141,163,167,195]\n",
    "        elif block == 2 :\n",
    "            liste_trial = [7,8,11,12,13,14,15,25,36,37,87,90,91,95,138,166,174]\n",
    "\n",
    "    if observer == 'DC' :\n",
    "        if block == 0 :\n",
    "            liste_trial = [47,57,65,66,68,70,73,74,79,80,81,101,131,161,163,166,169,170,172,173,176,177]\n",
    "        elif block == 1 :\n",
    "            liste_trial = [8,33,55,64,65,76,77,78,90,104,106,109,111,120,123,124,131,132,155]\n",
    "        elif block == 2 :\n",
    "            liste_trial = [7,17,18,31,36,44,50,59,67,78,83]\n",
    "\n",
    "    if observer == 'FM' :\n",
    "        if block == 0 :\n",
    "            liste_trial = [13,29,50,58,59,63,73,76,77,78,85,89,104,107,120,129,130,131,132,141,142,153,154,155,156,159,160,162,163,164,165,167,169,170,171,174,176,177,178]\n",
    "        elif block == 1 :\n",
    "            liste_trial = [12,31,54,55,64,65,66,70,77,79,90,96,98,99,111,117]\n",
    "        elif block == 2 :\n",
    "            liste_trial = [79,100,119,133,136,139,141,142,143,144,145,146,148,155,156,159,160,161,162,163,165,169,171,173,175,177,179,184,185,186,188]\n",
    "\n",
    "    if observer == 'IP':\n",
    "        if block == 0 :\n",
    "            liste_trial = [124,168]\n",
    "        elif block == 1 :\n",
    "            liste_trial = [1,39,78,153]\n",
    "        elif block == 2 :\n",
    "            liste_trial = [47,115]\n",
    "    \n",
    "    \n",
    "    fig_width= 12\n",
    "    fig, axs = plt.subplots(len(liste_trial), 1, figsize=(fig_width, (fig_width*(len(liste_trial)/2))/1.6180))\n",
    "    \n",
    "    x = 0\n",
    "    for trial in liste_trial :\n",
    "        \n",
    "        if len(liste_trial)==1 :\n",
    "            ax = axs\n",
    "        else :\n",
    "            ax = axs[x]\n",
    "        \n",
    "        print(block, trial)\n",
    "        trial_data = trial + N_trials*block\n",
    "        data_x = data[trial_data]['x']\n",
    "        data_y = data[trial_data]['y']\n",
    "        trackertime = data[trial_data]['trackertime']\n",
    "\n",
    "        StimulusOn = data[trial_data]['events']['msg'][10][0]\n",
    "        StimulusOf = data[trial_data]['events']['msg'][14][0]\n",
    "        TargetOn = data[trial_data]['events']['msg'][15][0]\n",
    "        TargetOff = data[trial_data]['events']['msg'][16][0]\n",
    "        saccades = data[trial_data]['events']['Esac']\n",
    "        \n",
    "        trackertime_0 = data[trial_data]['trackertime'][0]\n",
    "\n",
    "        gradient_x = np.gradient(data_x)\n",
    "        gradient_deg = gradient_x * 1/exp['px_per_deg'] * 1000 # gradient en deg/sec\n",
    "\n",
    "        ##################################################\n",
    "        # SUPPRESSION DES SACCADES\n",
    "        ##################################################\n",
    "        gradient_deg_NAN = gradient_deg\n",
    "        for s in range(len(saccades)) :\n",
    "            if saccades[s][1]-trackertime_0+15 <= (len(trackertime)) :\n",
    "                for x_data in np.arange((saccades[s][0]-trackertime_0-5), (saccades[s][1]-trackertime_0+15)) :\n",
    "                    gradient_deg_NAN[x_data] = np.nan\n",
    "            else :\n",
    "                for x_data in np.arange((saccades[s][0]-trackertime_0-5), (len(trackertime))) :\n",
    "                    gradient_deg_NAN[x_data] = np.nan\n",
    "            \n",
    "        stop_latence = []    \n",
    "        for s in range(len(saccades)) :\n",
    "            if (saccades[s][0]-trackertime_0) >= (TargetOn-trackertime_0+100) :\n",
    "                stop_latence.append((saccades[s][0]-trackertime_0))\n",
    "        if stop_latence==[] :\n",
    "            stop_latence.append(len(trackertime))\n",
    "        ##################################################\n",
    "        \n",
    "        start = TargetOn\n",
    "        \n",
    "        StimulusOn_s = StimulusOn - start\n",
    "        StimulusOf_s = StimulusOf - start\n",
    "        TargetOn_s = TargetOn - start\n",
    "        TargetOff_s = TargetOff - start\n",
    "        trackertime_s = trackertime - start\n",
    "        ##################################################\n",
    "        # FIT\n",
    "        ##################################################\n",
    "        model = Model(exponentiel)\n",
    "        bino=p[trial, block, 0]\n",
    "        params = Parameters()\n",
    "        params.add('tau', value=15., min=13., max=70.)#, vary=False)\n",
    "        params.add('maxi', value=15., min=1., max=40.)#, vary=False)\n",
    "        params.add('latence', value=TargetOn-trackertime_0+100, min=TargetOn-trackertime_0+75, max=stop_latence[0])\n",
    "        params.add('start_anti', value=TargetOn-trackertime_0-100, min=StimulusOf-trackertime_0-200, max=TargetOn-trackertime_0+75)\n",
    "        params.add('v_anti', value=0., min=-40., max=40.)\n",
    "        params.add('bino', value=bino, min=0, max=1, vary=False)\n",
    "\n",
    "        result_deg = model.fit(gradient_deg_NAN[:-280], params, x=trackertime[:-280], fit_kws={'nan_policy': 'omit'})\n",
    "        ##################################################\n",
    "\n",
    "        ax.cla() # pour remettre ax figure a zero\n",
    "        ax.axis([StimulusOn_s-10, TargetOff_s+10, -40, 40])\n",
    "\n",
    "        ax.plot(trackertime_s, gradient_deg_NAN, color='k', alpha=0.6)\n",
    "        ax.plot(trackertime_s[:-280], result_deg.init_fit, 'r--', linewidth=2)\n",
    "        ax.plot(trackertime_s[:-280], result_deg.best_fit, color='r', linewidth=2)\n",
    "        ax.plot(trackertime_s, np.ones(np.shape(trackertime_s)[0])*(bino*2-1)*(15), color='k', linewidth=0.2, alpha=0.2)\n",
    "        ax.plot(trackertime_s, np.ones(np.shape(trackertime_s)[0])*(bino*2-1)*(10), color='k', linewidth=0.2, alpha=0.2)\n",
    "        ax.axvspan(StimulusOn_s, StimulusOf_s, color='k', alpha=0.2)\n",
    "        ax.axvspan(StimulusOf_s, TargetOn_s, color='r', alpha=0.2)\n",
    "        ax.axvspan(TargetOn_s, TargetOff_s, color='k', alpha=0.15)\n",
    "        for s in range(len(saccades)) :\n",
    "            ax.axvspan(saccades[s][0]-start, saccades[s][1]-start, color='k', alpha=0.2)\n",
    "\n",
    "        debut  = TargetOn - trackertime_0 # TargetOn - temps_0\n",
    "        \n",
    "        start_anti = result_deg.values['start_anti']-debut\n",
    "        v_anti = result_deg.values['v_anti']\n",
    "        latence = result_deg.values['latence']-debut\n",
    "        tau = result_deg.values['tau']\n",
    "        maxi = result_deg.values['maxi']\n",
    "\n",
    "        ax.bar(latence, 80, bottom=-40, color='r', width=6, linewidth=0)\n",
    "        \n",
    "        if x==0 :\n",
    "            ax.text(StimulusOn_s+(StimulusOf_s-StimulusOn_s)/2, 31, \"FIXATION\", color='k', fontsize=16, ha='center', va='bottom')\n",
    "            ax.text(StimulusOf_s+(TargetOn_s-StimulusOf_s)/2, 31, \"GAP\", color='r', fontsize=16, ha='center', va='bottom')\n",
    "            ax.text(TargetOn_s+(TargetOff_s-TargetOn_s)/2, 31, \"POURSUITE\", color='k', fontsize=16, ha='center', va='bottom')\n",
    "            ax.text(latence+25, -35, \"Latence\"%(latence), color='r', fontsize=14)#,  weight='bold')\n",
    "        ax.text(StimulusOn_s+15, 18, \"start_anti: %s \\nv_anti: %s\"%(start_anti, v_anti), color='k', fontsize=14, va='bottom')\n",
    "        ax.text(StimulusOn_s+15, -18, \"latence: %s \\ntau: %s \\nmaxi: %s\"%(latence, tau, maxi), color='k', fontsize=14, va='top')\n",
    "\n",
    "        ax.set_xlabel('Time (ms)', fontsize=9)\n",
    "        ax.set_ylabel(trial+1, fontsize=30)\n",
    "        x=x+1\n",
    "        \n",
    "    plt.tight_layout() # pour supprimer les marge trop grande\n",
    "    plt.subplots_adjust(hspace=0) # pour enlever espace entre les figures\n",
    "\n",
    "    plt.savefig('figures/suppresion_potentiel/suppresion_potentiel_%s_%s.pdf'%(observer, block+1))\n",
    "    plt.close()\n",
    "\n",
    "print('FIN !!!')"
   ]
  },
  {
   "cell_type": "code",
   "execution_count": null,
   "metadata": {
    "collapsed": true
   },
   "outputs": [],
   "source": []
  }
 ],
 "metadata": {
  "kernelspec": {
   "display_name": "Python 3",
   "language": "python",
   "name": "python3"
  },
  "language_info": {
   "codemirror_mode": {
    "name": "ipython",
    "version": 3
   },
   "file_extension": ".py",
   "mimetype": "text/x-python",
   "name": "python",
   "nbconvert_exporter": "python",
   "pygments_lexer": "ipython3",
   "version": "3.5.2"
  }
 },
 "nbformat": 4,
 "nbformat_minor": 2
}
