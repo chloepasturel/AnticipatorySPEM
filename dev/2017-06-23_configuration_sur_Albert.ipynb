{
 "cells": [
  {
   "cell_type": "markdown",
   "metadata": {},
   "source": [
    "modification des configurations pour que l'expèrience aSPEM marche sur Albert :\n",
    "\n",
    "## configuration psychopy\n",
    "\n",
    "aller dans psychopy preferences, puis dans general\n",
    "\n",
    "modification :\n",
    "- window type : pygame\n",
    "- audio library : ['pygame','pyo']\n",
    "- audio driver : ['jack']\n",
    "\n",
    "## configuration jack\n",
    "\n",
    "configuration effectuer sur QjackCtl\n",
    "\n",
    "cliquer sur Setup puis dans Setting :\n",
    "\n",
    "- configuration parameters :\n",
    "\n",
    "    - Driver : alsa\n",
    "    - (cocher Realtime)\n",
    "    - interface : (default)\n",
    "    - Sample Rate : 48000\n",
    "    - Frame/Period : 512\n",
    "    - Periods/Buffer : 3\n",
    "    - MIDI Driver : none\n",
    "\n",
    "\n",
    "- configuration advanced :\n",
    "\n",
    "    - sever Prefix : jackd\n",
    "    - name : (default)\n",
    "    - (cocher : No memory Lock)\n",
    "    - Piority : 70\n",
    "    - port maximum : 256\n",
    "    - timeout (msec) : 500\n",
    "    - Audio : Duplex\n",
    "    - Dither : None\n",
    "    - Output Device : hw:Intel,0\n",
    "    - Input Device : (default)\n",
    "    - Channels I/O : (default)(default)\n",
    "    - Latency I/O : (default)(default)\n",
    "\n",
    "## groupe audio\n",
    "\n",
    "création d'un groupe nommé 'audio' et ajout de l'utilisateur à ce groupe"
   ]
  },
  {
   "cell_type": "code",
   "execution_count": null,
   "metadata": {
    "collapsed": true
   },
   "outputs": [],
   "source": []
  }
 ],
 "metadata": {
  "kernelspec": {
   "display_name": "Python 2",
   "language": "python",
   "name": "python2"
  },
  "language_info": {
   "codemirror_mode": {
    "name": "ipython",
    "version": 3
   },
   "file_extension": ".py",
   "mimetype": "text/x-python",
   "name": "python",
   "nbconvert_exporter": "python",
   "pygments_lexer": "ipython3",
   "version": "3.5.2"
  }
 },
 "nbformat": 4,
 "nbformat_minor": 2
}
