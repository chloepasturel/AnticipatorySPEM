{
 "cells": [
  {
   "cell_type": "code",
   "execution_count": 1,
   "metadata": {
    "collapsed": true
   },
   "outputs": [],
   "source": [
    "%load_ext autoreload\n",
    "%autoreload 2\n",
    "from __future__ import division, print_function, absolute_import\n",
    "import pickle\n",
    "import glob\n",
    "import os\n",
    "import matplotlib.pyplot as plt\n",
    "import sys\n",
    "sys.path.append('..')\n",
    "import numpy as np\n",
    "from cycler import cycler\n",
    "%matplotlib inline\n",
    "\n",
    "#from sklearn import linear_model\n",
    "from scipy import stats"
   ]
  },
  {
   "cell_type": "raw",
   "metadata": {
    "scrolled": true
   },
   "source": [
    "!ls data/"
   ]
  },
  {
   "cell_type": "code",
   "execution_count": 2,
   "metadata": {
    "collapsed": true
   },
   "outputs": [],
   "source": [
    "t_titre = 35\n",
    "t_label = 25"
   ]
  },
  {
   "cell_type": "code",
   "execution_count": 3,
   "metadata": {},
   "outputs": [
    {
     "name": "stdout",
     "output_type": "stream",
     "text": [
      "['enregistrement', 'IP', '2017-09-28', '115250']\n",
      "['pari', 'FM', '2017-09-26', '143606']\n",
      "['enregistrement', 'BMC', '2017-09-26', '095637']\n",
      "['pari', 'BMC', '2017-09-25', '142503']\n",
      "['pari', 'LB', '2017-09-19', '152205']\n",
      "['pari', 'CS', '2017-09-28', '154353']\n",
      "['enregistrement', 'LB', '2017-09-20', '151043']\n",
      "['enregistrement', 'DC', '2017-09-27', '161040']\n",
      "['pari', 'IP', '2017-09-26', '122431']\n",
      "['pari', 'DC', '2017-09-26', '162348']\n"
     ]
    }
   ],
   "source": [
    "liste = []\n",
    "for fname in glob.glob('data/*pkl'):\n",
    "    a = fname.split('/')[1].split('.')[0].split('_')\n",
    "    liste.append(a)\n",
    "    print(a)"
   ]
  },
  {
   "cell_type": "code",
   "execution_count": 4,
   "metadata": {
    "collapsed": true
   },
   "outputs": [],
   "source": [
    "exp = []\n",
    "for x in range(len(liste)) :\n",
    "    if liste[x][0]=='pari' and liste[x][1] in ['BMC','CS','DC','FM','IP','LB'] :\n",
    "        a = 'data/%s_%s_%s_%s.pkl'%(liste[x][0], liste[x][1],liste[x][2],liste[x][3])\n",
    "        with open(a, 'rb') as fichier :\n",
    "            b = pickle.load(fichier, encoding='latin1')\n",
    "            exp.append(b)"
   ]
  },
  {
   "cell_type": "code",
   "execution_count": 5,
   "metadata": {},
   "outputs": [
    {
     "ename": "FileNotFoundError",
     "evalue": "[Errno 2] No such file or directory: 'parametre/FM_param_Fit.pkl'",
     "output_type": "error",
     "traceback": [
      "\u001b[0;31m---------------------------------------------------------------------------\u001b[0m",
      "\u001b[0;31mFileNotFoundError\u001b[0m                         Traceback (most recent call last)",
      "\u001b[0;32m<ipython-input-5-800da7ffd9f2>\u001b[0m in \u001b[0;36m<module>\u001b[0;34m()\u001b[0m\n\u001b[1;32m      3\u001b[0m     \u001b[0;32mif\u001b[0m \u001b[0mliste\u001b[0m\u001b[0;34m[\u001b[0m\u001b[0mx\u001b[0m\u001b[0;34m]\u001b[0m\u001b[0;34m[\u001b[0m\u001b[0;36m0\u001b[0m\u001b[0;34m]\u001b[0m\u001b[0;34m==\u001b[0m\u001b[0;34m'pari'\u001b[0m \u001b[0;32mand\u001b[0m \u001b[0mliste\u001b[0m\u001b[0;34m[\u001b[0m\u001b[0mx\u001b[0m\u001b[0;34m]\u001b[0m\u001b[0;34m[\u001b[0m\u001b[0;36m1\u001b[0m\u001b[0;34m]\u001b[0m \u001b[0;32min\u001b[0m \u001b[0;34m[\u001b[0m\u001b[0;34m'BMC'\u001b[0m\u001b[0;34m,\u001b[0m\u001b[0;34m'CS'\u001b[0m\u001b[0;34m,\u001b[0m\u001b[0;34m'DC'\u001b[0m\u001b[0;34m,\u001b[0m\u001b[0;34m'FM'\u001b[0m\u001b[0;34m,\u001b[0m\u001b[0;34m'IP'\u001b[0m\u001b[0;34m,\u001b[0m\u001b[0;34m'LB'\u001b[0m\u001b[0;34m]\u001b[0m \u001b[0;34m:\u001b[0m\u001b[0;34m\u001b[0m\u001b[0m\n\u001b[1;32m      4\u001b[0m         \u001b[0ma\u001b[0m \u001b[0;34m=\u001b[0m \u001b[0;34m'parametre/%s_param_Fit.pkl'\u001b[0m\u001b[0;34m%\u001b[0m\u001b[0;34m(\u001b[0m\u001b[0mliste\u001b[0m\u001b[0;34m[\u001b[0m\u001b[0mx\u001b[0m\u001b[0;34m]\u001b[0m\u001b[0;34m[\u001b[0m\u001b[0;36m1\u001b[0m\u001b[0;34m]\u001b[0m\u001b[0;34m)\u001b[0m\u001b[0;34m\u001b[0m\u001b[0m\n\u001b[0;32m----> 5\u001b[0;31m         \u001b[0;32mwith\u001b[0m \u001b[0mopen\u001b[0m\u001b[0;34m(\u001b[0m\u001b[0ma\u001b[0m\u001b[0;34m,\u001b[0m \u001b[0;34m'rb'\u001b[0m\u001b[0;34m)\u001b[0m \u001b[0;32mas\u001b[0m \u001b[0mfichier\u001b[0m \u001b[0;34m:\u001b[0m\u001b[0;34m\u001b[0m\u001b[0m\n\u001b[0m\u001b[1;32m      6\u001b[0m             \u001b[0mb\u001b[0m \u001b[0;34m=\u001b[0m \u001b[0mpickle\u001b[0m\u001b[0;34m.\u001b[0m\u001b[0mload\u001b[0m\u001b[0;34m(\u001b[0m\u001b[0mfichier\u001b[0m\u001b[0;34m,\u001b[0m \u001b[0mencoding\u001b[0m\u001b[0;34m=\u001b[0m\u001b[0;34m'latin1'\u001b[0m\u001b[0;34m)\u001b[0m\u001b[0;34m\u001b[0m\u001b[0m\n\u001b[1;32m      7\u001b[0m             \u001b[0mb\u001b[0m\u001b[0;34m[\u001b[0m\u001b[0;34m'observer'\u001b[0m\u001b[0;34m]\u001b[0m \u001b[0;34m=\u001b[0m \u001b[0mliste\u001b[0m\u001b[0;34m[\u001b[0m\u001b[0mx\u001b[0m\u001b[0;34m]\u001b[0m\u001b[0;34m[\u001b[0m\u001b[0;36m1\u001b[0m\u001b[0;34m]\u001b[0m\u001b[0;34m\u001b[0m\u001b[0m\n",
      "\u001b[0;31mFileNotFoundError\u001b[0m: [Errno 2] No such file or directory: 'parametre/FM_param_Fit.pkl'"
     ]
    }
   ],
   "source": [
    "param = []\n",
    "for x in range(len(liste)) :\n",
    "    if liste[x][0]=='pari' and liste[x][1] in ['BMC','CS','DC','FM','IP','LB'] :\n",
    "        a = 'parametre/%s_param_Fit.pkl'%(liste[x][1])\n",
    "        with open(a, 'rb') as fichier :\n",
    "            b = pickle.load(fichier, encoding='latin1')\n",
    "            b['observer'] = liste[x][1]\n",
    "            param.append(b)"
   ]
  },
  {
   "cell_type": "code",
   "execution_count": null,
   "metadata": {
    "collapsed": true,
    "scrolled": true
   },
   "outputs": [],
   "source": [
    "N_blocks = 3\n",
    "N_trials = 200\n",
    "full_proba = []\n",
    "full_results = []\n",
    "full_va = []\n",
    "full_bino = []\n",
    "for x, color in enumerate(['black','darkgrey','grey','rosybrown','darkred','red']):\n",
    "    p = exp[x]['p']\n",
    "    proba = p[:,:,1]\n",
    "    bino = p[:,:,0]\n",
    "    v_anti = param[x]['v_anti']\n",
    "    results = (exp[x]['results']+1)/2\n",
    "    for block in range(N_blocks) :\n",
    "        for trial in range(N_trials):\n",
    "            full_proba.append(proba[trial, block])\n",
    "            full_results.append(results[trial, block])\n",
    "            full_va.append(v_anti[block][trial])\n",
    "            full_bino.append(bino[trial, block])"
   ]
  },
  {
   "cell_type": "markdown",
   "metadata": {},
   "source": [
    "## Probabilité réel"
   ]
  },
  {
   "cell_type": "code",
   "execution_count": null,
   "metadata": {},
   "outputs": [],
   "source": [
    "fig_width = 15\n",
    "fig, axs = plt.subplots(1, 1, figsize=(fig_width, (fig_width)/1.6180))\n",
    "axs.axis([-0.1, 1.1, -0.1, 1.1])\n",
    "for x, color in enumerate(['black','darkgrey','grey','rosybrown','darkred','red']):\n",
    "\n",
    "    p = exp[x]['p']\n",
    "    results = (exp[x]['results']+1)/2\n",
    "\n",
    "    \n",
    "    print(exp[x]['observer'], exp[x]['timeStr'], '=',color )\n",
    "    plt.scatter(p[:,:,1], results, c=color, alpha=0.5, linewidths=0)\n",
    "\n",
    "slope, intercept, r_value, p_value, std_err = stats.linregress(full_proba, full_results)\n",
    "x_test = np.linspace(np.min(full_proba), np.max(full_proba), 100)\n",
    "fitLine = slope * x_test + intercept\n",
    "plt.plot(x_test, fitLine, c='k', linewidth=2)\n",
    "\n",
    "plt.title(\"Real Probability vs Probability Bet\", fontsize=t_titre)\n",
    "plt.xlabel('Real Probability', fontsize=t_label)\n",
    "plt.ylabel('Probability Bet', fontsize=t_label)"
   ]
  },
  {
   "cell_type": "code",
   "execution_count": null,
   "metadata": {},
   "outputs": [],
   "source": [
    "fig_width = 15\n",
    "fig, axs = plt.subplots(1, 1, figsize=(fig_width, (fig_width)/(1.6180)))\n",
    "axs.axis([-0.1, 1.1, -5, 5])\n",
    "\n",
    "for x, color in enumerate(['black','darkgrey','grey','rosybrown','darkred','red']):\n",
    "    p = exp[x]['p']\n",
    "    v_anti_0_1 = param[x]['v_anti']\n",
    "    print(exp[x]['observer'], exp[x]['timeStr'], '=',color )\n",
    "    plt.scatter(p[:,:,1], v_anti_0_1, c=color, alpha=0.5, linewidths=0)\n",
    "\n",
    "slope, intercept, r_value, p_value, std_err = stats.linregress(full_proba, full_va)\n",
    "x_test = np.linspace(np.min(full_proba), np.max(full_proba), 100)\n",
    "fitLine = slope * x_test + intercept\n",
    "plt.plot(x_test, fitLine, c='k', linewidth=2)\n",
    "\n",
    "plt.title(\"Real Probability vs Acceleration\", fontsize=t_titre)\n",
    "plt.xlabel('Real Probability', fontsize=t_label)\n",
    "plt.ylabel('Acceleration of anticipation (deg/s$^2$)', fontsize=t_label)"
   ]
  },
  {
   "cell_type": "code",
   "execution_count": null,
   "metadata": {},
   "outputs": [],
   "source": [
    "fig_width = 15\n",
    "fig, axs = plt.subplots(1, 1, figsize=(fig_width, (fig_width)/(1.6180)))\n",
    "axs.axis([-0.1, 1.1, -5, 5])\n",
    "\n",
    "for x, color in enumerate(['black','darkgrey','grey','rosybrown','darkred','red']):\n",
    "    results = (exp[x]['results']+1)/2 # results est sur [-1,1] on le ramene sur [0,1]\n",
    "    v_anti_0_1 = param[x]['v_anti']\n",
    "    print(exp[x]['observer'], exp[x]['timeStr'], '=',color )\n",
    "    plt.scatter(results, v_anti_0_1, c=color, alpha=0.5, linewidths=0)\n",
    "\n",
    "slope, intercept, r_value, p_value, std_err = stats.linregress(full_results, full_va)\n",
    "x_test = np.linspace(np.min(full_results), np.max(full_results), 100)\n",
    "fitLine = slope * x_test + intercept\n",
    "plt.plot(x_test, fitLine, c='k', linewidth=2)\n",
    "\n",
    "\n",
    "plt.title(\"Probability Bet vs Acceleration\", fontsize=t_titre)\n",
    "plt.xlabel('Probability Bet', fontsize=t_label)\n",
    "plt.ylabel('Acceleration of anticipation (deg/s$^2$)', fontsize=t_label)"
   ]
  },
  {
   "cell_type": "markdown",
   "metadata": {
    "collapsed": true
   },
   "source": [
    "## Probabilité estimé"
   ]
  },
  {
   "cell_type": "code",
   "execution_count": null,
   "metadata": {},
   "outputs": [],
   "source": [
    "def moving_ave(list_D, tau, p_init=.5, delta=0):\n",
    "    \"\"\"\n",
    "    This function is an agent that infer a P contengencie in function of a pre-established list_D of\n",
    "    either rightward or leftward trials. p_init means we start from a prior of 50% chance for a target\n",
    "    to go to each size. Delta = roll\n",
    "    \"\"\"\n",
    "    list_p = p_init*np.ones_like(list_D)\n",
    "    for i, D in enumerate(list_D[:-1]):\n",
    "        list_p[i+1] = (1 -  1/tau)*list_p[i] + 1/tau * D\n",
    "    return np.roll(list_p, delta).flatten()\n",
    "ploup = exp[0]['p']\n",
    "plt.plot(moving_ave(ploup[:,:,0], tau=5, delta=2), c='r')"
   ]
  },
  {
   "cell_type": "code",
   "execution_count": null,
   "metadata": {
    "scrolled": false
   },
   "outputs": [],
   "source": [
    "fig_width = 15\n",
    "fig, axs = plt.subplots(1, 1, figsize=(fig_width, (fig_width)/1.6180))\n",
    "axs.axis([-0.1, 1.1, -0.1, 1.1])\n",
    "for x, color in enumerate(['black','darkgrey','grey','rosybrown','darkred','red']):\n",
    "\n",
    "    p = exp[x]['p']\n",
    "    results = (exp[x]['results']+1)/2 \n",
    "    print(exp[x]['observer'], exp[x]['timeStr'], '=',color )\n",
    "    plt.scatter(moving_ave(p[:,:,0], tau=5, delta=2), results, c=color, alpha=0.5,linewidths=0)\n",
    "    \n",
    "slope, intercept, r_value, p_value, std_err = stats.linregress(moving_ave(full_bino, tau=5, delta=2), full_results)\n",
    "x_test = np.linspace(np.min(moving_ave(full_bino, tau=5, delta=2)), np.max(moving_ave(full_bino, tau=5, delta=2)), 100)\n",
    "fitLine = slope * x_test + intercept\n",
    "plt.plot(x_test, fitLine, c='k', linewidth=2)\n",
    "\n",
    "plt.title(r'Estimated Probability vs Probability Bet', fontsize=t_titre)\n",
    "plt.xlabel(r'Estimated Probability', fontsize=t_label)\n",
    "plt.ylabel('Probability Bet', fontsize=t_label)"
   ]
  },
  {
   "cell_type": "code",
   "execution_count": null,
   "metadata": {
    "scrolled": false
   },
   "outputs": [],
   "source": [
    "fig_width = 15\n",
    "fig, axs = plt.subplots(1, 1, figsize=(fig_width, (fig_width)/(1.6180)))\n",
    "axs.axis([-0.1, 1.1, -5, 5])\n",
    "\n",
    "for x, color in enumerate(['black','darkgrey','grey','rosybrown','darkred','red']):\n",
    "    p = exp[x]['p']\n",
    "    v_anti_0_1 = param[x]['v_anti']\n",
    "    print(exp[x]['observer'], exp[x]['timeStr'], '=',color )\n",
    "    plt.scatter(moving_ave(p[:,:,0], tau=5, delta=2), v_anti_0_1, c=color, alpha=0.5, linewidths=0)\n",
    "       \n",
    "slope, intercept, r_value, p_value, std_err = stats.linregress(moving_ave(full_bino, tau=5, delta=2), full_va)\n",
    "x_test = np.linspace(np.min(moving_ave(full_bino, tau=5, delta=2)), np.max(moving_ave(full_bino, tau=5, delta=2)), 100)\n",
    "fitLine = slope * x_test + intercept\n",
    "plt.plot(x_test, fitLine, c='k', linewidth=2)\n",
    "\n",
    "plt.title(\"Estimated Probability vs Acceleration\", fontsize=t_titre)\n",
    "plt.xlabel('Estimated Probability', fontsize=t_label)\n",
    "plt.ylabel('Acceleration of anticipation (deg/s$^2$)', fontsize=t_label)"
   ]
  },
  {
   "cell_type": "markdown",
   "metadata": {},
   "source": [
    "# - les 15 premier essais après le switch"
   ]
  },
  {
   "cell_type": "code",
   "execution_count": null,
   "metadata": {
    "collapsed": true,
    "scrolled": true
   },
   "outputs": [],
   "source": [
    "proba_switch_x = []\n",
    "liste_switch_x = []\n",
    "block_result_switch_x = []\n",
    "block_v_anti_switch_x = []\n",
    "proba_x = []\n",
    "bino_x = []\n",
    "for x in range(len(exp)):\n",
    "\n",
    "    N_trials = exp[x]['N_trials']\n",
    "    N_blocks = exp[x]['N_blocks']\n",
    "    p = exp[x]['p']\n",
    "    results = (exp[x]['results']+1)/2\n",
    "    v_anti = param[x]['v_anti']\n",
    "    \n",
    "    liste_switch=[]\n",
    "    proba_switch = []\n",
    "    result_switch = []\n",
    "    v_anti_switch = []\n",
    "    prob = []\n",
    "    bi = []\n",
    "    \n",
    "    for block in range(N_blocks):\n",
    "\n",
    "        switch = [0]\n",
    "        p_switch = [p[0, block, 1]]\n",
    "        for s in range(N_trials):\n",
    "            if p[s, block, 2]==1 :\n",
    "                switch.append(s)\n",
    "                p_switch.append(p[s, block, 1])\n",
    "        switch.append(N_trials)\n",
    "\n",
    "        liste_switch.append(switch)\n",
    "        proba_switch.append(p_switch)\n",
    "\n",
    "        liste_result_switch = []\n",
    "        liste_v_anti_switch = []\n",
    "        liste_proba = []\n",
    "        for s1 in range(len(switch)-1) :\n",
    "\n",
    "            for lala in np.arange(switch[s1]+15, switch[s1+1]) :\n",
    "                result_switch.append(results[lala, block])\n",
    "                v_anti_switch.append(v_anti[block][lala])\n",
    "                prob.append(p[lala, block, 1])\n",
    "                bi.append(p[lala, block, 0])\n",
    "\n",
    "\n",
    "    proba_switch_x.append(proba_switch)\n",
    "    liste_switch_x.append(liste_switch)\n",
    "    block_result_switch_x.append(result_switch)\n",
    "    block_v_anti_switch_x.append(v_anti_switch)\n",
    "    proba_x.append(prob)\n",
    "    bino_x.append(bi)\n",
    "    "
   ]
  },
  {
   "cell_type": "code",
   "execution_count": null,
   "metadata": {
    "collapsed": true
   },
   "outputs": [],
   "source": [
    "full_proba_1 = []\n",
    "full_results_1 = []\n",
    "full_va_1 = []\n",
    "full_bino_1 = []\n",
    "for x, color in enumerate(['black','darkgrey','grey','rosybrown','darkred','red']):\n",
    "\n",
    "    proba = proba_x[x]\n",
    "    v_anti = block_v_anti_switch_x[x]\n",
    "    results = block_result_switch_x[x]\n",
    "    bino = bino_x[x]\n",
    "    for trial in range(len(proba)):\n",
    "        full_proba_1.append(proba[trial])\n",
    "        full_results_1.append(results[trial])\n",
    "        full_va_1.append(v_anti[trial])\n",
    "        full_bino_1.append(bino[trial])"
   ]
  },
  {
   "cell_type": "markdown",
   "metadata": {},
   "source": [
    "## Probabilité réel"
   ]
  },
  {
   "cell_type": "code",
   "execution_count": null,
   "metadata": {
    "scrolled": false
   },
   "outputs": [],
   "source": [
    "fig_width = 15\n",
    "fig, axs = plt.subplots(1, 1, figsize=(fig_width, (fig_width)/1.6180))\n",
    "axs.axis([-0.1, 1.1, -0.1, 1.1])\n",
    "for x, color in enumerate(['black','darkgrey','grey','rosybrown','darkred','red']):\n",
    "\n",
    "    p = proba_x[x]\n",
    "    results = block_result_switch_x[x] #(exp[x]['results']+1)/2\n",
    "\n",
    "    \n",
    "    print(exp[x]['observer'], exp[x]['timeStr'], '=',color )\n",
    "    plt.scatter(p, results, c=color, alpha=0.5, linewidths=0)\n",
    "\n",
    "slope, intercept, r_value, p_value, std_err = stats.linregress(full_proba_1, full_results_1)\n",
    "x_test = np.linspace(np.min(full_proba_1), np.max(full_proba_1), 100)\n",
    "fitLine = slope * x_test + intercept\n",
    "plt.plot(x_test, fitLine, c='k', linewidth=2)\n",
    "\n",
    "plt.title(\"Real Probability vs Probability Bet -- 15\", fontsize=t_titre)\n",
    "plt.xlabel('Real Probability', fontsize=t_label)\n",
    "plt.ylabel('Probability Bet', fontsize=t_label)"
   ]
  },
  {
   "cell_type": "code",
   "execution_count": null,
   "metadata": {
    "scrolled": false
   },
   "outputs": [],
   "source": [
    "fig_width = 15\n",
    "fig, axs = plt.subplots(1, 1, figsize=(fig_width, (fig_width)/(1.6180)))\n",
    "axs.axis([-0.1, 1.1, -5, 5])\n",
    "\n",
    "for x, color in enumerate(['black','darkgrey','grey','rosybrown','darkred','red']):\n",
    "    \n",
    "    p = proba_x[x]\n",
    "    v_anti_0_1 = block_v_anti_switch_x[x]\n",
    "    \n",
    "    print(exp[x]['observer'], exp[x]['timeStr'], '=',color )\n",
    "    plt.scatter(p, v_anti_0_1, c=color, alpha=0.5, linewidths=0)\n",
    "    \n",
    "slope, intercept, r_value, p_value, std_err = stats.linregress(full_proba_1, full_va_1)\n",
    "x_test = np.linspace(np.min(full_proba_1), np.max(full_proba_1), 100)\n",
    "fitLine = slope * x_test + intercept\n",
    "plt.plot(x_test, fitLine, c='k', linewidth=2)\n",
    "\n",
    "plt.title(\"Real Probability vs Acceleration -- 15\", fontsize=t_titre)\n",
    "plt.xlabel('Real Probability', fontsize=t_label)\n",
    "plt.ylabel('Acceleration of anticipation (deg/s$^2$)', fontsize=t_label)"
   ]
  },
  {
   "cell_type": "code",
   "execution_count": null,
   "metadata": {
    "scrolled": false
   },
   "outputs": [],
   "source": [
    "fig_width = 15\n",
    "fig, axs = plt.subplots(1, 1, figsize=(fig_width, (fig_width)/(1.6180)))\n",
    "axs.axis([-0.1, 1.1, -5, 5])\n",
    "\n",
    "for x, color in enumerate(['black','darkgrey','grey','rosybrown','darkred','red']):\n",
    "    results = block_result_switch_x[x] #(exp[x]['results']+1)/2\n",
    "    v_anti_0_1 = block_v_anti_switch_x[x]\n",
    "    print(exp[x]['observer'], exp[x]['timeStr'], '=',color )\n",
    "    plt.scatter(results, v_anti_0_1, c=color, alpha=0.5, linewidths=0)\n",
    "     \n",
    "slope, intercept, r_value, p_value, std_err = stats.linregress(full_results_1, full_va_1)\n",
    "x_test = np.linspace(np.min(full_results_1), np.max(full_results_1), 100)\n",
    "fitLine = slope * x_test + intercept\n",
    "plt.plot(x_test, fitLine, c='k', linewidth=2)\n",
    "\n",
    "\n",
    "plt.title(\"Probability Bet vs Acceleration -- 15\", fontsize=t_titre)\n",
    "plt.xlabel('Probability Bet', fontsize=t_label)\n",
    "plt.ylabel('Acceleration of anticipation (deg/s$^2$)', fontsize=t_label)"
   ]
  },
  {
   "cell_type": "markdown",
   "metadata": {
    "collapsed": true
   },
   "source": [
    "## probabilité estimé"
   ]
  },
  {
   "cell_type": "code",
   "execution_count": null,
   "metadata": {},
   "outputs": [],
   "source": [
    "fig_width = 15\n",
    "fig, axs = plt.subplots(1, 1, figsize=(fig_width, (fig_width)/1.6180))\n",
    "axs.axis([-0.1, 1.1, -0.1, 1.1])\n",
    "for x, color in enumerate(['black','darkgrey','grey','rosybrown','darkred','red']):\n",
    "\n",
    "    bino = bino_x[x]\n",
    "    results = block_result_switch_x[x] #(exp[x]['results']+1)/2\n",
    "\n",
    "    print(exp[x]['observer'], exp[x]['timeStr'], '=',color )\n",
    "    plt.scatter(moving_ave(bino, tau=5, delta=2), results, c=color, alpha=0.5, linewidths=0)\n",
    "\n",
    "slope, intercept, r_value, p_value, std_err = stats.linregress(moving_ave(full_bino_1, tau=5, delta=2), full_results_1)\n",
    "x_test = np.linspace(np.min(moving_ave(full_bino_1, tau=5, delta=2)), np.max(moving_ave(full_bino_1, tau=5, delta=2)), 100)\n",
    "fitLine = slope * x_test + intercept\n",
    "plt.plot(x_test, fitLine, c='k', linewidth=2)\n",
    "\n",
    "plt.title(\"Estimated Probability vs Probability Bet -- 15\", fontsize=t_titre)\n",
    "plt.xlabel('Estimated Probability', fontsize=t_label)\n",
    "plt.ylabel('Probability Bet', fontsize=t_label)"
   ]
  },
  {
   "cell_type": "code",
   "execution_count": null,
   "metadata": {},
   "outputs": [],
   "source": [
    "fig_width = 15\n",
    "fig, axs = plt.subplots(1, 1, figsize=(fig_width, (fig_width)/(1.6180)))\n",
    "axs.axis([-0.1, 1.1, -5, 5])\n",
    "\n",
    "for x, color in enumerate(['black','darkgrey','grey','rosybrown','darkred','red']):\n",
    "    \n",
    "    p = proba_x[x]\n",
    "    v_anti = block_v_anti_switch_x[x]\n",
    "    \n",
    "    print(exp[x]['observer'], exp[x]['timeStr'], '=',color )\n",
    "    plt.scatter(moving_ave(p, tau=5, delta=2), v_anti, c=color, alpha=0.5, linewidths=0)\n",
    "\n",
    "slope, intercept, r_value, p_value, std_err = stats.linregress(moving_ave(full_proba_1, tau=5, delta=2), full_va_1)\n",
    "x_test = np.linspace(np.min(moving_ave(full_proba_1, tau=5, delta=2)), np.max(moving_ave(full_proba_1, tau=5, delta=2)), 100)\n",
    "fitLine = slope * x_test + intercept\n",
    "plt.plot(x_test, fitLine, c='k', linewidth=2)\n",
    "\n",
    "plt.title(\"Estimated Probability vs Acceleration -- 15\", fontsize=t_titre)\n",
    "plt.xlabel('Estimated Probability', fontsize=t_label)\n",
    "plt.ylabel('Acceleration of anticipation (deg/s$^2$)', fontsize=t_label)"
   ]
  },
  {
   "cell_type": "code",
   "execution_count": null,
   "metadata": {
    "collapsed": true
   },
   "outputs": [],
   "source": []
  },
  {
   "cell_type": "code",
   "execution_count": null,
   "metadata": {
    "collapsed": true
   },
   "outputs": [],
   "source": []
  },
  {
   "cell_type": "markdown",
   "metadata": {
    "collapsed": true
   },
   "source": [
    "# Autre Test"
   ]
  },
  {
   "cell_type": "code",
   "execution_count": null,
   "metadata": {
    "collapsed": true,
    "scrolled": false
   },
   "outputs": [],
   "source": [
    "proba_switch_x = []\n",
    "liste_switch_x = []\n",
    "block_result_switch_x = []\n",
    "block_v_anti_switch_x = []\n",
    "\n",
    "block_m_result_switch_x = []\n",
    "block_m_v_anti_switch_x = []\n",
    "block_std_result_switch_x = []\n",
    "block_std_v_anti_switch_x = []\n",
    "\n",
    "for x in range(len(exp)):\n",
    "\n",
    "    N_trials = exp[x]['N_trials']\n",
    "    N_blocks = exp[x]['N_blocks']\n",
    "    p = exp[x]['p']\n",
    "    results = (exp[x]['results']+1)/2 # results est sur [-1,1] on le ramene sur [0,1]\n",
    "    v_anti_0_1 = param[x]['v_anti']\n",
    "    \n",
    "    \n",
    "    proba_switch = []\n",
    "    liste_switch = []\n",
    "    block_result_switch = []\n",
    "    block_v_anti_switch = []\n",
    "\n",
    "    block_m_result_switch = []\n",
    "    block_m_v_anti_switch = []\n",
    "    block_std_result_switch = []\n",
    "    block_std_v_anti_switch = []\n",
    "    for block in range(N_blocks):\n",
    "\n",
    "        switch = [0]\n",
    "        p_switch = [p[0, block, 1]]\n",
    "        for s in range(N_trials):\n",
    "            if p[s, block, 2]==1 :\n",
    "                switch.append(s)\n",
    "                p_switch.append(p[s, block, 1])\n",
    "        switch.append(N_trials)\n",
    "\n",
    "        liste_switch.append(switch)\n",
    "        proba_switch.append(p_switch)\n",
    "\n",
    "        liste_result_switch = []\n",
    "        liste_v_anti_switch = []\n",
    "\n",
    "        liste_m_result_switch = []\n",
    "        liste_m_v_anti_switch = []\n",
    "        liste_std_result_switch = []\n",
    "        liste_std_v_anti_switch = []\n",
    "        \n",
    "        for s1 in range(len(switch)-1) :\n",
    "            result_switch = results[switch[s1]:switch[s1+1], block]\n",
    "            v_anti_switch = v_anti_0_1[block][switch[s1]:switch[s1+1]]\n",
    "\n",
    "            liste_result_switch.append(result_switch)\n",
    "            liste_v_anti_switch.append(v_anti_switch)\n",
    "\n",
    "            m_result_switch = np.mean(results[switch[s1]:switch[s1+1], block])\n",
    "            m_v_anti_switch = np.mean(v_anti_0_1[block][switch[s1]:switch[s1+1]])*100\n",
    "            \n",
    "            std_result_switch = np.std(results[switch[s1]:switch[s1+1],block])\n",
    "            std_v_anti_switch = np.std(v_anti_0_1[block][switch[s1]:switch[s1+1]])*100\n",
    "            \n",
    "            liste_m_result_switch.append(m_result_switch)\n",
    "            liste_m_v_anti_switch.append(m_v_anti_switch)\n",
    "            liste_std_result_switch.append(std_result_switch)\n",
    "            liste_std_v_anti_switch.append(std_v_anti_switch)\n",
    "\n",
    "        block_result_switch.append(liste_result_switch)\n",
    "        block_v_anti_switch.append(liste_v_anti_switch)\n",
    "\n",
    "        block_m_result_switch.append(liste_m_result_switch)\n",
    "        block_m_v_anti_switch.append(liste_m_v_anti_switch)\n",
    "        block_std_result_switch.append(liste_std_result_switch)\n",
    "        block_std_v_anti_switch.append(liste_std_v_anti_switch)\n",
    "    \n",
    "    proba_switch_x.append(proba_switch)\n",
    "    liste_switch_x.append(liste_switch)\n",
    "    block_result_switch_x.append(block_result_switch)\n",
    "    block_v_anti_switch_x.append(block_v_anti_switch)\n",
    "\n",
    "    block_m_result_switch_x.append(block_m_result_switch)\n",
    "    block_m_v_anti_switch_x.append(block_m_v_anti_switch)\n",
    "    block_std_result_switch_x.append(block_std_result_switch)\n",
    "    block_std_v_anti_switch_x.append(block_std_v_anti_switch)"
   ]
  },
  {
   "cell_type": "code",
   "execution_count": null,
   "metadata": {},
   "outputs": [],
   "source": [
    "fig_width = 12\n",
    "fig, axs = plt.subplots(3, 1, figsize=(fig_width, (fig_width*2)/(1.6180)))\n",
    "fig.subplots_adjust(hspace=0.3)\n",
    "\n",
    "for x, color in enumerate(['black','darkgrey','grey','rosybrown','darkred','red']):\n",
    "\n",
    "    print(exp[x]['observer'], exp[x]['timeStr'], '=',color )\n",
    "    \n",
    "    dic = {}\n",
    "    N_blocks = exp[x]['N_blocks']\n",
    "    \n",
    "    for block in range(N_blocks):\n",
    "\n",
    "        axs[block].errorbar(range(len(proba_switch_x[x][block])), block_m_result_switch_x[x][block], c=color, linestyle='dashed') #, yerr=block_std_result_switch_x[x][block] \n",
    "        axs[block].errorbar(range(len(proba_switch_x[x][block])), block_m_v_anti_switch_x[x][block], c=color) # ,yerr=block_std_v_anti_switch_x[x][block]\n",
    "\n",
    "        axs[block].set_xticks(np.arange(len(proba_switch_x[x][block])))\n",
    "        axs[block].set_xticklabels(proba_switch_x[x][block])\n",
    "        axs[block].set_title('moyenne résultat et anticipation bloc %s'%(block+1), fontsize=14)\n",
    "        axs[block].set_xlabel('probabilité')"
   ]
  },
  {
   "cell_type": "code",
   "execution_count": null,
   "metadata": {
    "scrolled": false
   },
   "outputs": [],
   "source": [
    "fig_width= 12\n",
    "fig, axs = plt.subplots(1, 1, figsize=(fig_width, (fig_width)/1.6180))\n",
    "\n",
    "for x, color in enumerate(['black','darkgrey','grey','rosybrown','darkred','red']):\n",
    "    \n",
    "    print(exp[x]['observer'], exp[x]['timeStr'], '=',color )\n",
    "    \n",
    "    dic_m_result = {}\n",
    "    dic_m_v_anti = {}\n",
    "    dic_std_result = {}\n",
    "    dic_std_v_anti = {}\n",
    "    \n",
    "    for block in range(N_blocks):\n",
    "        #print('block', block)\n",
    "        for s1 in range(len(proba_switch_x[x][block])) :\n",
    "            dic_m_result[proba_switch_x[x][block][s1]] = block_m_result_switch_x[x][block][s1]\n",
    "            dic_m_v_anti[proba_switch_x[x][block][s1]] = block_m_v_anti_switch_x[x][block][s1]\n",
    "            dic_std_result[proba_switch_x[x][block][s1]] = block_std_result_switch_x[x][block][s1]\n",
    "            dic_std_v_anti[proba_switch_x[x][block][s1]] = block_std_v_anti_switch_x[x][block][s1]\n",
    "            #print(s1, proba_switch[block][s1], np.correlate(block_result_switch[block][s1], block_v_anti_switch[block][s1])[0])#[0][1])\n",
    "\n",
    "    m_res = sorted(dic_m_result.items())\n",
    "    proba = []\n",
    "    moyenne_resul = []\n",
    "    m_anti = sorted(dic_m_v_anti.items())\n",
    "    moyenne_anti = []\n",
    "\n",
    "    std_res = sorted(dic_std_result.items())\n",
    "    std_resul = []\n",
    "    std_anti = sorted(dic_std_v_anti.items())\n",
    "    std_v_anti = []\n",
    "    \n",
    "    for x in range(len(m_res)):\n",
    "        proba.append(m_res[x][0])\n",
    "        moyenne_resul.append(m_res[x][1])\n",
    "        moyenne_anti.append(m_anti[x][1])\n",
    "        \n",
    "        std_resul.append(std_res[x][1])\n",
    "        std_v_anti.append(std_anti[x][1])\n",
    "        \n",
    "    #print(\"\\nproba dans l'ordre = \", proba)\n",
    "    #print(\"\\ncorrelation dans l'ordre = \", correlation)\n",
    "    plt.errorbar(proba, moyenne_resul, linestyle='dashed', c=color) # , yerr=std_resul\n",
    "    plt.errorbar(proba, moyenne_anti, c=color) # , yerr=std_v_anti\n",
    "    plt.title(\"moyenne résultat et vitesse d'anticipation\", fontsize=14)\n",
    "    plt.xlabel('probabilité')"
   ]
  },
  {
   "cell_type": "code",
   "execution_count": null,
   "metadata": {},
   "outputs": [],
   "source": [
    "fig_width= 12\n",
    "fig, axs = plt.subplots(3, 1, figsize=(fig_width, (fig_width*2)/1.6180))\n",
    "fig.subplots_adjust(hspace=0.3)\n",
    "\n",
    "for x, color in enumerate(['black','darkgrey','grey','rosybrown','darkred','red']):\n",
    "    \n",
    "    print(exp[x]['observer'], exp[x]['timeStr'], '=',color )\n",
    "    \n",
    "    dic = {}\n",
    "    N_blocks = exp[x]['N_blocks']\n",
    "    \n",
    "    for block in range(N_blocks):\n",
    "        #print('block', block)\n",
    "        corr = []\n",
    "        for s1 in range(len(proba_switch_x[x][block])) :\n",
    "            dic[proba_switch_x[x][block][s1]] = np.correlate(block_result_switch_x[x][block][s1], block_v_anti_switch_x[x][block][s1])[0]\n",
    "            #print(s1, proba_switch_x[x][block][s1], np.correlate(block_result_switch_x[x][block][s1], block_v_anti_switch_x[x][block][s1])[0])#[0][1])\n",
    "            corr.append(np.correlate(block_result_switch_x[x][block][s1], block_v_anti_switch_x[x][block][s1])[0])#[1])\n",
    "        axs[block].plot(corr, c=color)\n",
    "        axs[block].set_xticks(np.arange(len(proba_switch_x[x][block])))\n",
    "        axs[block].set_xticklabels(proba_switch_x[x][block])\n",
    "        axs[block].set_title(\"corrélation résultat et vitesse d'anticipation bloc %s\"%(block+1), fontsize=14)\n",
    "        axs[block].set_xlabel('probabilité')\n",
    "        axs[block].set_ylabel('corrélation')"
   ]
  },
  {
   "cell_type": "code",
   "execution_count": null,
   "metadata": {},
   "outputs": [],
   "source": [
    "#fig_width = 20\n",
    "fig, axs = plt.subplots(1, 1, figsize=(fig_width, (fig_width)/1.6180))\n",
    "\n",
    "for x, color in enumerate(['black','darkgrey','grey','rosybrown','darkred','red']):\n",
    "    \n",
    "    print(exp[x]['observer'], exp[x]['timeStr'], '=',color )\n",
    "    \n",
    "    dic_corr = {}\n",
    "    N_blocks = exp[x]['N_blocks']\n",
    "    for block in range(N_blocks):\n",
    "        #print('block', block)\n",
    "        for s1 in range(len(proba_switch_x[x][block])) :\n",
    "            dic_corr[proba_switch_x[x][block][s1]] = np.correlate(block_result_switch_x[x][block][s1], block_v_anti_switch_x[x][block][s1])[0]\n",
    "            #print(s1, proba_switch_x[x][block][s1], np.correlate(block_result_switch_x[x][block][s1], block_v_anti_switch_x[x][block][s1])[0])#[0][1])\n",
    "\n",
    "    corr = sorted(dic_corr.items())\n",
    "    proba = []\n",
    "    correlation = []\n",
    "    for x in range(len(corr)):\n",
    "        proba.append(corr[x][0])\n",
    "        correlation.append(corr[x][1])\n",
    "    #print(\"\\nproba dans l'ordre = \", proba)\n",
    "    #print(\"\\ncorrelation dans l'ordre = \", correlation)\n",
    "    plt.plot(proba, correlation, c=color)\n",
    "    plt.title(\"corrélation résultat et vitesse d'anticipation\", fontsize=14)\n",
    "    plt.ylabel('corrélation')\n",
    "    plt.xlabel('probabilité')"
   ]
  },
  {
   "cell_type": "code",
   "execution_count": null,
   "metadata": {
    "collapsed": true
   },
   "outputs": [],
   "source": []
  }
 ],
 "metadata": {
  "kernelspec": {
   "display_name": "Python 3",
   "language": "python",
   "name": "python3"
  },
  "language_info": {
   "codemirror_mode": {
    "name": "ipython",
    "version": 3
   },
   "file_extension": ".py",
   "mimetype": "text/x-python",
   "name": "python",
   "nbconvert_exporter": "python",
   "pygments_lexer": "ipython3",
   "version": "3.6.3"
  }
 },
 "nbformat": 4,
 "nbformat_minor": 2
}
