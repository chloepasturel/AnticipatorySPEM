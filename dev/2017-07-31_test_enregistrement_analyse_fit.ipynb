{
 "cells": [
  {
   "cell_type": "code",
   "execution_count": 1,
   "metadata": {
    "collapsed": true
   },
   "outputs": [],
   "source": [
    "%load_ext autoreload\n",
    "%autoreload 2\n",
    "from __future__ import division, print_function, absolute_import\n",
    "import pickle\n",
    "import os\n",
    "import matplotlib.pyplot as plt\n",
    "import sys\n",
    "sys.path.append('..')\n",
    "from edfreader import read_edf\n",
    "import numpy as np\n",
    "from lmfit import  Model, Parameters\n",
    "%matplotlib inline"
   ]
  },
  {
   "cell_type": "raw",
   "metadata": {},
   "source": [
    "!ls data/"
   ]
  },
  {
   "cell_type": "code",
   "execution_count": 2,
   "metadata": {
    "collapsed": true
   },
   "outputs": [],
   "source": [
    "timeStr = '2017-07-21_142241'\n",
    "observer = 'laurent'\n",
    "mode = 'enregistrement'"
   ]
  },
  {
   "cell_type": "code",
   "execution_count": 3,
   "metadata": {
    "collapsed": true
   },
   "outputs": [],
   "source": [
    "file = os.path.join('..', 'data', mode + '_' + observer + '_' + timeStr + '.pkl')\n",
    "with open(file, 'rb') as fichier :\n",
    "    exp = pickle.load(fichier, encoding='latin1')\n",
    "      \n",
    "resultats = os.path.join('..', 'data', mode + '_' + observer + '_' + timeStr + '.asc')\n",
    "data = read_edf(resultats, 'TRIALID')"
   ]
  },
  {
   "cell_type": "code",
   "execution_count": 4,
   "metadata": {
    "collapsed": true
   },
   "outputs": [],
   "source": [
    "N_trials = exp['N_trials']\n",
    "N_blocks = exp['N_blocks']\n",
    "screen_width_px = exp['screen_width_px']\n",
    "screen_height_px = exp['screen_height_px']\n",
    "V_X = exp['V_X']\n",
    "RashBass = exp['RashBass']\n",
    "stim_tau = exp['stim_tau']\n",
    "p = exp['p']"
   ]
  },
  {
   "cell_type": "code",
   "execution_count": 5,
   "metadata": {
    "collapsed": true
   },
   "outputs": [],
   "source": [
    "def vitesse (x, tau=0.013, xT=0.01, t_T=0.2, start=1200., bino=1) :\n",
    "    '''\n",
    "    tau -- constante oeuil (0.013)\n",
    "    xT -- position en deg de la cible (1)\n",
    "    t_T -- tps du mvt - s (0.1)\n",
    "    start -- tps où commence le mvt\n",
    "    bino -- binomial\n",
    "    '''    \n",
    "    if bino == 0:\n",
    "        xT =xT*(-1)\n",
    "    \n",
    "    dt = 0.001\n",
    "    T = int(t_T/dt) # tps termine mvt - ms\n",
    "    time = np.arange(len(x))/1000 # en seconde !!!\n",
    "    start = start/1000 # en seconde\n",
    "    rho = tau/t_T*np.log((1+np.exp(t_T/tau))/2) # proportion accélération dans mvt\n",
    "    \n",
    "    Umax = 1/tau*xT/((2*rho-1)*t_T-tau*(2-np.exp(-rho*t_T/tau)-np.exp((1-rho)*t_T/tau))) # signal N\n",
    "\n",
    "    vitesse = []\n",
    "    for t in range(len(time)):\n",
    "        if bino==0 :\n",
    "            if Umax*tau*(1-np.exp(-1/tau*(time[t]-start))) > 0 :\n",
    "                vitesse.append(0)\n",
    "            else :\n",
    "                vitesse.append(Umax*tau*(1-np.exp(-1/tau*(time[t]-start))))\n",
    "        else :\n",
    "            if Umax*tau*(1-np.exp(-1/tau*(time[t]-start))) < 0 :\n",
    "                vitesse.append(0)\n",
    "            else :\n",
    "                vitesse.append(Umax*tau*(1-np.exp(-1/tau*(time[t]-start))))\n",
    "    return vitesse"
   ]
  },
  {
   "cell_type": "code",
   "execution_count": 6,
   "metadata": {
    "scrolled": true
   },
   "outputs": [
    {
     "name": "stderr",
     "output_type": "stream",
     "text": [
      "/home/drone/.local/lib/python3.5/site-packages/ipykernel_launcher.py:23: RuntimeWarning: overflow encountered in exp\n",
      "/home/drone/.local/lib/python3.5/site-packages/ipykernel_launcher.py:28: RuntimeWarning: overflow encountered in exp\n",
      "IOPub data rate exceeded.\n",
      "The notebook server will temporarily stop sending output\n",
      "to the client in order to avoid crashing it.\n",
      "To change this limit, set the config variable\n",
      "`--NotebookApp.iopub_data_rate_limit`.\n"
     ]
    }
   ],
   "source": [
    "for block in range(N_blocks) :\n",
    "    fig_width= 12\n",
    "    fig, axs = plt.subplots(N_trials, 1, figsize=(fig_width, (fig_width*(N_trials/2))/1.6180))\n",
    "    \n",
    "    for trial in range(N_trials) :\n",
    "        \n",
    "        trial_data = trial + N_trials*block\n",
    "\n",
    "        data_x = data[trial_data]['x']\n",
    "        data_y = data[trial_data]['y']\n",
    "        trackertime = data[trial_data]['trackertime']\n",
    "\n",
    "        StimulusOn = data[trial_data]['events']['msg'][10][0]\n",
    "        StimulusOf = data[trial_data]['events']['msg'][14][0]\n",
    "        TargetOn = data[trial_data]['events']['msg'][15][0]\n",
    "        TargetOff = data[trial_data]['events']['msg'][16][0]\n",
    "        saccades = data[trial_data]['events']['Esac']\n",
    "\n",
    "        start = TargetOn\n",
    "\n",
    "        StimulusOn = StimulusOn - start\n",
    "        StimulusOf = StimulusOf - start\n",
    "        TargetOn = TargetOn - start\n",
    "        TargetOff = TargetOff - start\n",
    "        trackertime = trackertime - start\n",
    "        temps = data[trial_data]['trackertime']\n",
    "\n",
    "        gradient_x = np.gradient(data_x)\n",
    "        \n",
    "        # SUPPRESSION DES SACCADES\n",
    "        new_gradient_x=[]\n",
    "        new_time=[]\n",
    "        t=0\n",
    "        for x_data in range(len(data_x)):\n",
    "            saccade = None\n",
    "            for s in range(len(saccades)) :\n",
    "                if x_data in np.arange((saccades[s][0]-temps[0]), (saccades[s][1]-temps[0]+1+4)) :\n",
    "                    saccade = 'yes'\n",
    "            if not saccade :\n",
    "                new_gradient_x.append(gradient_x[x_data])\n",
    "                new_time.append(t)\n",
    "                t = t+1\n",
    "            saccade = None\n",
    "        \n",
    "        \n",
    "        # FIT\n",
    "        model = Model(vitesse)\n",
    "\n",
    "        bino=p[trial, block, 0]\n",
    "        params = Parameters()\n",
    "        params.add('tau', value=0.013, min=0.001, max=0.1)#, vary=False)\n",
    "        params.add('xT', value=0.05, min=0.001, max=0.1)#, vary=False)\n",
    "        params.add('t_T', value= 0.1, min=0.001, max=0.2)#, vary=False)\n",
    "        params.add('start', value=1000., min=0, max=2000.)#, vary=True)\n",
    "        params.add('bino', value=bino, min=0, max=1, vary=False)\n",
    "\n",
    "        result = model.fit(new_gradient_x, params, x=new_time)\n",
    "\n",
    "        debut  = data[trial_data]['events']['msg'][15][0]-data[trial_data]['trackertime'][0]\n",
    "        \n",
    "        axs[trial].cla() # pour remettre ax figure a zero\n",
    "        axs[trial].axis([StimulusOn-10, TargetOff+10, -2, 2])\n",
    "        axs[trial].plot(np.asarray(new_time)-debut, new_gradient_x, color='r')\n",
    "        axs[trial].plot(np.asarray(new_time)-debut, result.init_fit, 'k--')\n",
    "        axs[trial].plot(np.asarray(new_time)-debut, result.best_fit, color='k')\n",
    "\n",
    "        axs[trial].bar(StimulusOn, 4, bottom=-2, color='r', width=4, linewidth=0)\n",
    "        axs[trial].bar(StimulusOf, 4, bottom=-2, color='r', width=4, linewidth=0)\n",
    "        axs[trial].bar(TargetOn, 4, bottom=-2, color='k', width=4, linewidth=0)\n",
    "        axs[trial].bar(TargetOff, 4, bottom=-2, color='k', width=4, linewidth=0)\n",
    "\n",
    "\n",
    "        liste_l =[]\n",
    "        dir_bool = bino*2 - 1\n",
    "        for tps in range(len(new_time)) :\n",
    "            if dir_bool*result.best_fit[tps] > 0.003 :\n",
    "                liste_l.append(new_time[tps])\n",
    "        if len(liste_l)!=0:\n",
    "            latence = liste_l[0]\n",
    "            axs[trial].bar(latence-debut, 4, bottom=-2, color='g', width=5, linewidth=0)\n",
    "            axs[trial].text(StimulusOf+10, 1.5, \"Latence = %s\"%(latence-debut), color='r', fontsize=15)\n",
    "        else:\n",
    "            axs[trial].text(StimulusOf+10, 1.5, \"PAS DE LATENCE !\", color='r', fontsize=15)\n",
    "\n",
    "        #axs[trial].text(StimulusOn+15, -2, \"%s\"%(result.fit_report()), color='k', fontsize=15)\n",
    "        \n",
    "        axs[trial].set_xlabel('Time (ms)', fontsize=9)\n",
    "        axs[trial].set_ylabel(trial+1, fontsize=9)\n",
    "\n",
    "    plt.tight_layout() # pour supprimer les marge trop grande\n",
    "    plt.subplots_adjust(hspace=0) # pour enlever espace entre les figures\n",
    "\n",
    "    plt.savefig('figures/Fit_vitesse_%s_%s_block-%s_%s-trials.pdf'%(observer, timeStr, block+1, N_trials))\n",
    "plt.close()"
   ]
  },
  {
   "cell_type": "markdown",
   "metadata": {
    "collapsed": true
   },
   "source": [
    "**attention ne pas oublier le décalage causer par la suppression des saccades !**"
   ]
  },
  {
   "cell_type": "code",
   "execution_count": null,
   "metadata": {
    "collapsed": true
   },
   "outputs": [],
   "source": []
  }
 ],
 "metadata": {
  "kernelspec": {
   "display_name": "Python 2",
   "language": "python",
   "name": "python2"
  },
  "language_info": {
   "codemirror_mode": {
    "name": "ipython",
    "version": 3
   },
   "file_extension": ".py",
   "mimetype": "text/x-python",
   "name": "python",
   "nbconvert_exporter": "python",
   "pygments_lexer": "ipython3",
   "version": "3.5.2"
  }
 },
 "nbformat": 4,
 "nbformat_minor": 2
}
