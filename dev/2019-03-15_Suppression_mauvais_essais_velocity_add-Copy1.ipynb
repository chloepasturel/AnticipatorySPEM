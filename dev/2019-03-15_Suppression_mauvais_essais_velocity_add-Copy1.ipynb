{
 "cells": [
  {
   "cell_type": "code",
   "execution_count": 1,
   "metadata": {},
   "outputs": [],
   "source": [
    "import pickle\n",
    "import os"
   ]
  },
  {
   "cell_type": "code",
   "execution_count": 2,
   "metadata": {},
   "outputs": [],
   "source": [
    "file = os.path.join('parametre', 'Delete_list_Bad_trials_velocity.pkl')\n",
    "with open(file, 'rb') as fichier :\n",
    "    Bad_Fit = pickle.load(fichier, encoding='latin1')"
   ]
  },
  {
   "cell_type": "code",
   "execution_count": 3,
   "metadata": {},
   "outputs": [],
   "source": [
    "Bad_Fit['BMC'][1].extend([80])\n",
    "\n",
    "Bad_Fit['CS'][0].extend([45])\n",
    "Bad_Fit['CS'][1].extend([195, 186, 126])\n",
    "Bad_Fit['CS'][2].extend([87])\n",
    "\n",
    "Bad_Fit['DC'][0].extend([161, 175, 177])\n",
    "Bad_Fit['DC'][1].extend([55, 65, 111])\n",
    "Bad_Fit['DC'][2].extend([164, 94])\n",
    "\n",
    "Bad_Fit['FM'][0].extend([129, 131, 160, 105, 165, 154, 57, 163, 153, 53])\n",
    "Bad_Fit['FM'][1].extend([107, 152])\n",
    "Bad_Fit['FM'][2].extend([19, 30])\n",
    "\n",
    "Bad_Fit['IP'][2].extend([73])\n",
    "\n",
    "Bad_Fit['LB'][0].extend([35, 133, 39, 156, 106, 101, 111, 56, 38,\n",
    "                         146, 123, 69, 34, 133, 39, 106])\n",
    "Bad_Fit['LB'][1].extend([181, 29, 58, 40, 144, 90, 131, 187, 23, 83, 194,\n",
    "                        130])\n",
    "Bad_Fit['LB'][2].extend([10, 48, 41, 46, 50, 167, 156])\n",
    "\n",
    "Bad_Fit['OP'][0].extend([84, 159, 69, 141, 79, 75, 137])\n",
    "Bad_Fit['OP'][1].extend([86, 88, 192, 134, 178, 108, 43])\n",
    "Bad_Fit['OP'][2].extend([172, 14, 22, 33, 22])\n",
    "\n",
    "Bad_Fit['RS'][1].extend([78, 110, 150])\n",
    "\n",
    "Bad_Fit['SR'][1].extend([197, 133, 65, 55, 23, 19, 194])\n",
    "Bad_Fit['SR'][2].extend([32, 107, 138])\n",
    "\n",
    "Bad_Fit['TN'][1].extend([68, 149])\n",
    "Bad_Fit['TN'][2].extend([13, 157])\n",
    "\n",
    "Bad_Fit['YK'][0].extend([131, 31, 41, 199, 42, 39, 86, 181])\n",
    "Bad_Fit['YK'][1].extend([117, 119, 8, 98, 84])\n",
    "Bad_Fit['YK'][2].extend([43, 74, 196, 146, 128, 103, 31])"
   ]
  },
  {
   "cell_type": "code",
   "execution_count": 4,
   "metadata": {},
   "outputs": [],
   "source": [
    "file = os.path.join('parametre', 'Delete_list_new_Bad_trials_velocity.pkl')\n",
    "with open(file, 'wb') as fichier:\n",
    "    f = pickle.Pickler(fichier)\n",
    "    f.dump(Bad_Fit)"
   ]
  },
  {
   "cell_type": "code",
   "execution_count": null,
   "metadata": {},
   "outputs": [],
   "source": []
  }
 ],
 "metadata": {
  "kernelspec": {
   "display_name": "Python 3",
   "language": "python",
   "name": "python3"
  },
  "language_info": {
   "codemirror_mode": {
    "name": "ipython",
    "version": 3
   },
   "file_extension": ".py",
   "mimetype": "text/x-python",
   "name": "python",
   "nbconvert_exporter": "python",
   "pygments_lexer": "ipython3",
   "version": "3.5.2"
  }
 },
 "nbformat": 4,
 "nbformat_minor": 2
}
