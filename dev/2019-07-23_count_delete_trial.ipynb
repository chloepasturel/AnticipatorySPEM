{
 "cells": [
  {
   "cell_type": "code",
   "execution_count": 1,
   "metadata": {},
   "outputs": [],
   "source": [
    "import pickle\n",
    "import os\n",
    "from ANEMO import read_edf\n",
    "from ANEMO import ANEMO\n",
    "import numpy as np"
   ]
  },
  {
   "cell_type": "code",
   "execution_count": 2,
   "metadata": {},
   "outputs": [],
   "source": [
    "sujet = ['AM','BMC','CS','DC','FM','IP','LB','OP','RS','SR','TN','YK']\n",
    "time = ['2017-10-23_100057','2017-09-26_095637',\n",
    "        '2017-10-03_134421','2017-09-27_161040',\n",
    "        '2017-10-03_143803','2017-09-28_115250',\n",
    "        '2017-09-20_151043','2017-10-26_121823',\n",
    "        '2017-11-08_094717','2017-11-16_153313',\n",
    "        '2017-11-08_150410','2017-11-17_172706']"
   ]
  },
  {
   "cell_type": "code",
   "execution_count": 3,
   "metadata": {
    "scrolled": true
   },
   "outputs": [
    {
     "name": "stderr",
     "output_type": "stream",
     "text": [
      "/usr/local/lib/python3.5/dist-packages/ANEMO-0.0.1-py3.5.egg/ANEMO/ANEMO.py:444: RuntimeWarning: divide by zero encountered in true_divide\n",
      "/usr/local/lib/python3.5/dist-packages/ANEMO-0.0.1-py3.5.egg/ANEMO/ANEMO.py:444: RuntimeWarning: invalid value encountered in true_divide\n"
     ]
    }
   ],
   "source": [
    "Delete_list_trials = {}\n",
    "t_sup, b_s, a_s = 280, 5, 15\n",
    "\n",
    "opt_base = {'stop_search_misac': None, 'time_sup': t_sup,\n",
    "            'before_sacc': b_s, 'after_sacc': a_s} \n",
    "\n",
    "for x in range(len(sujet)) :\n",
    "    \n",
    "    timeStr, observer = time[x], sujet[x]\n",
    "    mode = 'enregistrement'\n",
    "    #print(observer,timeStr)\n",
    "    \n",
    "    file = os.path.join('..','data', mode + '_' + observer + '_' + timeStr + '.pkl')\n",
    "    with open(file, 'rb') as fichier : exp = pickle.load(fichier, encoding='latin1')\n",
    "\n",
    "    A = ANEMO(exp)\n",
    "    \n",
    "    resultats = os.path.join('..','data', mode + '_' + observer + '_' + timeStr + '.asc')\n",
    "    data = read_edf(resultats, 'TRIALID')\n",
    "\n",
    "    N_trials, N_blocks = exp['N_trials'], exp['N_blocks']\n",
    "    \n",
    "    Delete_list_trials['%s'%observer] = []\n",
    "    for block in range(N_blocks) :\n",
    "        supp_trial = []\n",
    "        for trial in range(N_trials) :\n",
    "            \n",
    "            trial_data = trial + N_trials*block\n",
    "            arg = A.arg(data[trial_data], trial=trial, block=block)\n",
    "            opt = opt_base.copy()\n",
    "            opt.update(arg)\n",
    "            \n",
    "            velocity_NAN = A.velocity_NAN(**opt)\n",
    "            new_sacc = arg.saccades\n",
    "            s_gap = []\n",
    "            for s in range(len(new_sacc)) :\n",
    "                s_gap.append([])\n",
    "                for x_data in np.arange((new_sacc[s][0]-arg.t_0-b_s), (new_sacc[s][1]-arg.t_0+a_s)) :\n",
    "                    if x_data in np.arange(arg.TargetOn-arg.t_0-150, arg.TargetOn-arg.t_0+150) :\n",
    "                        s_gap[s].append(x_data)\n",
    "\n",
    "            t = None\n",
    "            \n",
    "            # supp grosse saccade GAP\n",
    "            for x in range(len(s_gap)) :\n",
    "                if len(s_gap[x]) > 45 :\n",
    "                    if t is None :\n",
    "                        supp_trial.append(trial)\n",
    "                        t = True\n",
    "            \n",
    "            # supp trop saccade poursuite\n",
    "            if t is None :\n",
    "                lala2 = velocity_NAN[arg.TargetOn-arg.t_0:arg.TargetOff-arg.t_0-300]\n",
    "                baba2 = [x for x in lala2 if str(x)=='nan']\n",
    "                if len(baba2) >= len(lala2)/3.6 :\n",
    "                    supp_trial.append(trial)\n",
    "        \n",
    "        #print(block, supp_trial)\n",
    "        Delete_list_trials['%s'%observer].extend([supp_trial])"
   ]
  },
  {
   "cell_type": "code",
   "execution_count": 4,
   "metadata": {},
   "outputs": [],
   "source": [
    "a = '../parametre/Delete/Delete_list_BadTrials_Full_fct_velocity_sigmo.pkl'\n",
    "with open(a, 'rb') as fichier :\n",
    "    b = pickle.load(fichier, encoding='latin1')\n",
    "    list_delete = b"
   ]
  },
  {
   "cell_type": "code",
   "execution_count": 5,
   "metadata": {
    "scrolled": true
   },
   "outputs": [],
   "source": [
    "nb_delete = 0\n",
    "nb_fct = 0\n",
    "nb_main = 0\n",
    "for s in list_delete.keys():\n",
    "    for b in range(len(list_delete[s])) :\n",
    "        nb_delete += len(set(list_delete[s][b]))\n",
    "        nb_fct += len(set(Delete_list_trials[s][b]))\n",
    "        \n",
    "        for t in list_delete[s][b]:\n",
    "            if t not in Delete_list_trials[s][b] :\n",
    "                nb_main+=1\n",
    "            "
   ]
  },
  {
   "cell_type": "code",
   "execution_count": 6,
   "metadata": {},
   "outputs": [
    {
     "name": "stdout",
     "output_type": "stream",
     "text": [
      "7200\n"
     ]
    }
   ],
   "source": [
    "nb_trial = 12*3*200\n",
    "print(nb_trial)"
   ]
  },
  {
   "cell_type": "code",
   "execution_count": 7,
   "metadata": {},
   "outputs": [
    {
     "name": "stdout",
     "output_type": "stream",
     "text": [
      "548 7.611111111111112\n"
     ]
    }
   ],
   "source": [
    "print(nb_delete, (nb_delete/nb_trial)*100)"
   ]
  },
  {
   "cell_type": "code",
   "execution_count": 8,
   "metadata": {},
   "outputs": [
    {
     "name": "stdout",
     "output_type": "stream",
     "text": [
      "314 4.361111111111112 57.299270072992705\n"
     ]
    }
   ],
   "source": [
    "print(nb_fct, (nb_fct/nb_trial)*100, (nb_fct/nb_delete)*100)"
   ]
  },
  {
   "cell_type": "code",
   "execution_count": 9,
   "metadata": {},
   "outputs": [
    {
     "name": "stdout",
     "output_type": "stream",
     "text": [
      "234 3.25 42.700729927007295\n"
     ]
    }
   ],
   "source": [
    "print(nb_main, (nb_main/nb_trial)*100, (nb_main/nb_delete)*100)"
   ]
  },
  {
   "cell_type": "code",
   "execution_count": null,
   "metadata": {},
   "outputs": [],
   "source": []
  }
 ],
 "metadata": {
  "kernelspec": {
   "display_name": "Python 3",
   "language": "python",
   "name": "python3"
  },
  "language_info": {
   "codemirror_mode": {
    "name": "ipython",
    "version": 3
   },
   "file_extension": ".py",
   "mimetype": "text/x-python",
   "name": "python",
   "nbconvert_exporter": "python",
   "pygments_lexer": "ipython3",
   "version": "3.5.2"
  }
 },
 "nbformat": 4,
 "nbformat_minor": 2
}
