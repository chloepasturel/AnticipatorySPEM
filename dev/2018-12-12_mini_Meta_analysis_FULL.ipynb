{
 "cells": [
  {
   "cell_type": "code",
   "execution_count": null,
   "metadata": {
    "ExecuteTime": {
     "end_time": "2018-07-13T14:09:02.470288Z",
     "start_time": "2018-07-13T14:09:00.548346Z"
    }
   },
   "outputs": [],
   "source": [
    "%load_ext autoreload\n",
    "%autoreload 2\n",
    "import glob\n",
    "import pickle\n",
    "import matplotlib.pyplot as plt\n",
    "import numpy as np"
   ]
  },
  {
   "cell_type": "markdown",
   "metadata": {},
   "source": [
    "* TODO: distance entre data et true au cours des sous-blocs pour regarder l'appentissage\n",
    "* TODO: équaliser sujet par sujet\n",
    "* TODO: équaliser aussi les résultats obtenus par le modèle"
   ]
  },
  {
   "cell_type": "code",
   "execution_count": null,
   "metadata": {
    "ExecuteTime": {
     "end_time": "2018-07-13T14:09:02.539114Z",
     "start_time": "2018-07-13T14:09:02.477153Z"
    },
    "collapsed": true
   },
   "outputs": [],
   "source": [
    "%matplotlib inline\n",
    "fig_width = 15\n",
    "\n",
    "from aSPEM import Analysis\n",
    "import bayesianchangepoint as bcp"
   ]
  },
  {
   "cell_type": "code",
   "execution_count": null,
   "metadata": {
    "ExecuteTime": {
     "end_time": "2018-07-13T14:09:02.644736Z",
     "start_time": "2018-07-13T14:09:02.600752Z"
    },
    "collapsed": true
   },
   "outputs": [],
   "source": [
    "list_sujet = ['AM','BMC','CS','DC','FM','IP','LB','OP','RS','SR','TN','YK']\n",
    "nb_sujet = len(list_sujet)"
   ]
  },
  {
   "cell_type": "raw",
   "metadata": {},
   "source": [
    "COLOR = []\n",
    "for n in range(nb_sujet) :\n",
    "    COLOR.append((0+(1/nb_sujet)*n, 0, 0, 0.5))"
   ]
  },
  {
   "cell_type": "code",
   "execution_count": null,
   "metadata": {
    "ExecuteTime": {
     "end_time": "2018-07-13T14:09:07.303209Z",
     "start_time": "2018-07-13T14:09:02.720212Z"
    },
    "collapsed": true
   },
   "outputs": [],
   "source": [
    "liste = []\n",
    "for fname in glob.glob('data/*pkl'):\n",
    "    a = fname.split('/')[1].split('.')[0].split('_')\n",
    "    liste.append(a)\n",
    "            \n",
    "BET = {}\n",
    "for x in range(len(liste)) :\n",
    "    if liste[x][0]=='pari' and liste[x][1] in list_sujet:\n",
    "        a = 'data/%s_%s_%s_%s.pkl'%(liste[x][0], liste[x][1],liste[x][2],liste[x][3])\n",
    "        with open(a, 'rb') as fichier :\n",
    "            b = pickle.load(fichier, encoding='latin1')\n",
    "            BET[liste[x][1]] = b"
   ]
  },
  {
   "cell_type": "markdown",
   "metadata": {},
   "source": [
    "# Scaling Data"
   ]
  },
  {
   "cell_type": "code",
   "execution_count": null,
   "metadata": {},
   "outputs": [],
   "source": [
    "e = Analysis(observer='AM', mode='enregistrement')\n",
    "Full = e.Full_list(modes_bcp=None)"
   ]
  },
  {
   "cell_type": "code",
   "execution_count": null,
   "metadata": {},
   "outputs": [],
   "source": [
    "scal_va_sujet, scal_va_full = {}, []\n",
    "scal_bet_sujet, scal_bet_full = {}, []\n",
    "\n",
    "va_full, bet_full = [], []\n",
    "for x in list_sujet :\n",
    "    bet = []\n",
    "    for block in range(BET[x]['N_blocks']) :\n",
    "        bet.extend((BET[x]['results'][:,block]+1)/2)\n",
    "    \n",
    "    bet_full.extend(bet)\n",
    "    va_full.extend(list(Full['va'][Full.sujet==x]))\n",
    "    \n",
    "    scal_bet_sujet[x] = np.sort(bet)\n",
    "    scal_va_sujet[x] = np.sort(list(Full['va'][Full.sujet==x]))\n",
    "\n",
    "scal_va_full = np.sort(va_full)\n",
    "scal_bet_full = np.sort(bet_full)"
   ]
  },
  {
   "cell_type": "code",
   "execution_count": null,
   "metadata": {},
   "outputs": [],
   "source": [
    "new_proba_full = np.linspace(0,1,len(scal_va_full))\n",
    "\n",
    "new_va_sujet, new_va_full = {}, {}\n",
    "new_bet_sujet, new_bet_full = {}, {}\n",
    "\n",
    "\n",
    "for x in list_sujet :\n",
    "    N_trials = BET[x]['N_trials']\n",
    "    \n",
    "    new_proba_sujet = np.linspace(0, 1, len(scal_va_sujet[x]))\n",
    "    va_sujet = list(Full['va'][Full.sujet==x])\n",
    "    \n",
    "    \n",
    "    nb_trial = 0\n",
    "    \n",
    "    new_va_sujet[x], new_va_full[x] = [], []\n",
    "    new_bet_sujet[x], new_bet_full[x] = [], []\n",
    "    \n",
    "    for block in range(3) :\n",
    "        new_va_sujet[x].append([])\n",
    "        new_va_full[x].append([])\n",
    "        \n",
    "        new_bet_sujet[x].append([])\n",
    "        new_bet_full[x].append([])\n",
    "        \n",
    "        \n",
    "        va = va_sujet[nb_trial : N_trials + nb_trial*block]\n",
    "        bet = (BET[x]['results'][:,block]+1)/2\n",
    "        \n",
    "        \n",
    "        for trial in range(len(va)) :\n",
    "            p = []\n",
    "            for t in range(len(scal_va_sujet[x])) :\n",
    "                if scal_va_sujet[x][t] == va[trial] :\n",
    "                    p.append(new_proba_sujet[t])\n",
    "            new_va_sujet[x][block].append(np.mean(p))\n",
    "            \n",
    "            p = []\n",
    "            for t in range(len(scal_va_full)) :\n",
    "                if scal_va_full[t] == va[trial] :\n",
    "                    p.append(new_proba_full[t])\n",
    "            new_va_full[x][block].append(np.mean(p))\n",
    "       \n",
    "\n",
    "        for trial in range(len(bet)) :\n",
    "            p = []\n",
    "            for t in range(len(scal_bet_sujet[x])) :\n",
    "                if scal_bet_sujet[x][t] == bet[trial] :\n",
    "                    p.append(new_proba_sujet[t])\n",
    "            new_bet_sujet[x][block].append(np.mean(p))\n",
    "\n",
    "            p = []\n",
    "            for t in range(len(scal_bet_full)) :\n",
    "                if scal_bet_full[t] == bet[trial] :\n",
    "                    p.append(new_proba_full[t])\n",
    "            new_bet_full[x][block].append(np.mean(p))\n",
    "    \n",
    "    \n",
    "        nb_trial = nb_trial + N_trials"
   ]
  },
  {
   "cell_type": "markdown",
   "metadata": {},
   "source": [
    "# Variation de h"
   ]
  },
  {
   "cell_type": "code",
   "execution_count": null,
   "metadata": {
    "ExecuteTime": {
     "end_time": "2018-07-13T14:09:08.233741Z",
     "start_time": "2018-07-13T14:09:07.484340Z"
    },
    "collapsed": true
   },
   "outputs": [],
   "source": [
    "from lmfit import  Model, Parameters\n",
    "from lmfit import minimize"
   ]
  },
  {
   "cell_type": "code",
   "execution_count": null,
   "metadata": {
    "ExecuteTime": {
     "end_time": "2018-07-13T14:09:08.288445Z",
     "start_time": "2018-07-13T14:09:08.242459Z"
    },
    "collapsed": true
   },
   "outputs": [],
   "source": [
    "def fct_BCP(x, h) :\n",
    "\n",
    "    p_bar, r_bar, beliefs = bcp.inference(x, h=h, p0=.5, r0=1.)\n",
    "    p_hat, r_hat = bcp.readout(p_bar, r_bar, beliefs, mode='mean', p0=.5, fixed_window_size=40)#, mode='mean')\n",
    "    \n",
    "    return p_hat"
   ]
  },
  {
   "cell_type": "code",
   "execution_count": null,
   "metadata": {
    "collapsed": true
   },
   "outputs": [],
   "source": [
    "def KL_distance(p_data, p_hat):\n",
    "    distance = p_hat * np.log2(p_hat) - p_hat * np.log2(p_data + 1.*(p_data==0.))\n",
    "    distance += (1-p_hat) * np.log2(1-p_hat) - (1-p_hat) * np.log2(1-p_data + 1.*(p_data==1.))\n",
    "    return distance\n",
    "\n",
    "def residual(params, x, data):\n",
    "    h = params['h']\n",
    "    model = fct_BCP(x, h)\n",
    "    \n",
    "    return KL_distance(data, model)\n",
    "\n",
    "def fit(h, x, bet, va):\n",
    "    \n",
    "    x = np.array(x)\n",
    "    bet = np.array(bet)\n",
    "    va = np.array(va)\n",
    "\n",
    "    params = Parameters()\n",
    "    params.add('h', value=h, min=0, max=1)\n",
    "\n",
    "    result_res = minimize(residual, params, args=(x, bet), nan_policy='omit')\n",
    "    result_v_ant = minimize(residual, params, args=(x, va), nan_policy='omit')\n",
    "    \n",
    "    h_bet = result_res.params['h'].value\n",
    "    h_va = result_v_ant.params['h'].value\n",
    "    \n",
    "    return h_bet, h_va"
   ]
  },
  {
   "cell_type": "code",
   "execution_count": null,
   "metadata": {},
   "outputs": [],
   "source": [
    "def fit_h(new_bet, new_va) :\n",
    "    \n",
    "    h_bet, h_va = {}, {}\n",
    "\n",
    "    for l in ['pause', 'block', 'sujet'] :\n",
    "        h_bet[l], h_va[l] = [], []\n",
    "\n",
    "    for x, sujet in enumerate(list_sujet) :\n",
    "\n",
    "        print(sujet)\n",
    "\n",
    "        prob_sujet, bet_sujet, v_anti_sujet = [], [], []\n",
    "\n",
    "        p = BET[sujet]['p']\n",
    "        tau = BET[sujet]['N_trials']/5.\n",
    "        h = 1./tau \n",
    "\n",
    "        for l in ['block', 'pause'] :\n",
    "            h_bet[l].append([])\n",
    "            h_va[l].append([])\n",
    "\n",
    "        for block in range(BET[sujet]['N_blocks']):\n",
    "            \n",
    "            bet = new_bet[sujet][block]\n",
    "            va = new_va[sujet][block]\n",
    "\n",
    "            prob_block = p[:, block, 0]\n",
    "            h_b, h_v = fit(h, prob_block, bet, va)\n",
    "\n",
    "            h_bet['block'][x].append(h_b)\n",
    "            h_va['block'][x].append(h_v)\n",
    "\n",
    "            prob_sujet.extend(p[:, block, 0])\n",
    "            bet_sujet.extend(bet)\n",
    "            v_anti_sujet.extend(va)\n",
    "            #----------------------------------------------------\n",
    "            # Pour chaque pause !\n",
    "            #----------------------------------------------------\n",
    "            liste = [0,50,100,150,200]\n",
    "            for a in range(len(liste)-1) :\n",
    "                va_p = va[liste[a]:liste[a+1]]\n",
    "                bet_p = bet[liste[a]:liste[a+1]]\n",
    "                prob_pause = p[liste[a]:liste[a+1], block, 0]\n",
    "\n",
    "                h_b, h_v = fit(h, prob_pause, bet_p, va_p)\n",
    "\n",
    "                h_bet['pause'][x].append(h_b)\n",
    "                h_va['pause'][x].append(h_v)\n",
    "\n",
    "\n",
    "        h_b, h_v = fit(h, prob_sujet, bet_sujet, v_anti_sujet)\n",
    "        h_bet['sujet'].append(h_b)\n",
    "        h_va['sujet'].append(h_v)\n",
    "    return h_bet, h_va"
   ]
  },
  {
   "cell_type": "code",
   "execution_count": null,
   "metadata": {},
   "outputs": [],
   "source": [
    "h_bet_full, h_va_full = fit_h(new_bet_full, new_va_full)"
   ]
  },
  {
   "cell_type": "code",
   "execution_count": null,
   "metadata": {},
   "outputs": [],
   "source": [
    "h_bet_sujet, h_va_sujet = fit_h(new_bet_sujet, new_va_sujet)"
   ]
  },
  {
   "cell_type": "markdown",
   "metadata": {},
   "source": [
    "## evaluating the best hazard rate using a likelihood score between the predicted biases using different values of the hazard rate"
   ]
  },
  {
   "cell_type": "code",
   "execution_count": null,
   "metadata": {},
   "outputs": [],
   "source": [
    "def plot_evaluating(ax, h_eval, data, bino, p, mode):\n",
    "\n",
    "    Jeffreys = True\n",
    "    p0, r0 = .5, 2. - Jeffreys\n",
    "    \n",
    "    distance = np.zeros(N_trials)\n",
    "    p_hat = np.zeros(N_trials)\n",
    "    p_low, p_sup = np.zeros_like(distance), np.zeros_like(distance)\n",
    "    \n",
    "    \n",
    "    p_bar, r, beliefs = bcp.inference(bino, h=h_eval, p0=p0, r0=r0, verbose=False)\n",
    "    p_hat, r_hat = bcp.readout(p_bar, r, beliefs, mode=mode, p0=p0)\n",
    "    from scipy.stats import beta\n",
    "    for trial in range(N_trials):\n",
    "        a = p_hat[trial]*(r_hat[trial])\n",
    "        b = (1-p_hat[trial])*(r_hat[trial])\n",
    "        rv = beta(a, b)\n",
    "        p_low[trial], p_sup[trial] = rv.ppf([.05, .95])\n",
    "        distance[trial] = KL_distance(data[trial], p_hat[trial])\n",
    "\n",
    "    distance = np.exp(-distance/np.median(distance))\n",
    "\n",
    "    trials = range(len(data))\n",
    "    ax.plot(trials, data, c='k', lw=1, alpha=.9)\n",
    "    ax.plot(trials, p_hat, 'r', lw=1, alpha=.5)\n",
    "    ax.scatter(trials, p_hat, c=distance, vmin=distance.min(), vmax=distance.max(), alpha=1., cmap=plt.get_cmap('RdGy'))  # coolwarm\n",
    "\n",
    "    ax.fill_between(trials, np.zeros_like(p), p, lw=.5, alpha=0.2, facecolor='k', step='pre')\n",
    "    ax.fill_between(trials, p_sup, p_low, lw=.2, alpha=0.2, facecolor='r', step='mid')\n",
    "    ax.plot(trials, p_sup, 'r--', lw=1, alpha=.9)\n",
    "    ax.plot(trials, p_low, 'r--', lw=1, alpha=.9)\n",
    "    ax.set_ylim(-0.1, 1.1)\n",
    "    \n",
    "    return ax"
   ]
  },
  {
   "cell_type": "code",
   "execution_count": null,
   "metadata": {},
   "outputs": [],
   "source": [
    "def find_best_h(ax, data, bino, h_sujet, mode, N_scan):\n",
    "    \n",
    "    Jeffreys = True\n",
    "    p0, r0 = .5, 2. - Jeffreys\n",
    "    \n",
    "    hs = np.logspace(-1, 1, N_scan, base=N_scan)/N_scan\n",
    "\n",
    "    full_distance = np.zeros(N_scan)\n",
    "    for i_scan, h_ in enumerate(hs):\n",
    "        p_bar, r, beliefs = bcp.inference(bino, h=h_, p0=p0, r0=r0, verbose=False)\n",
    "        p_hat, r_hat = bcp.readout(p_bar, r, beliefs, mode=mode, p0=p0)\n",
    "        d_ = KL_distance(np.array(data), p_hat)\n",
    "\n",
    "        full_distance[i_scan] = np.mean(d_)\n",
    "\n",
    "    ax.plot(hs, full_distance, 'k')\n",
    "    ax.vlines(h_sujet, ymin=np.nanmin(full_distance), ymax=np.nanmax(full_distance), colors='k', linestyle='--', lw=2)\n",
    "\n",
    "    h_opt = hs[np.argmin(full_distance)]\n",
    "    ax.vlines(h_opt, ymin=np.nanmin(full_distance), ymax=np.nanmax(full_distance), colors='r', linestyle='--', lw=2)\n",
    "    ax.set_xscale(\"log\")\n",
    "    ax.set_ylim(0)\n",
    "    ax.set_xlabel('Hazard rate')\n",
    "    ax.set_ylabel('distance')\n",
    "    return ax, h_opt"
   ]
  },
  {
   "cell_type": "code",
   "execution_count": null,
   "metadata": {},
   "outputs": [],
   "source": [
    "import matplotlib.gridspec as gridspec\n",
    "\n",
    "def evaluating (data_sujet, data_full, h_sujet, h_full):\n",
    "    \n",
    "    \n",
    "    for x, sujet in enumerate(list_sujet) :\n",
    "        print(sujet)\n",
    "\n",
    "        fig = plt.figure(figsize=(30,30/2))\n",
    "        axs = gridspec.GridSpec(3, 2, hspace=0.2)\n",
    "\n",
    "        mode = 'mean'\n",
    "\n",
    "        N_trials, N_blocks = BET[sujet]['N_trials'], BET[sujet]['N_blocks']\n",
    "\n",
    "        tau_true = 40. # N_trials/10.\n",
    "        h_true = 1./tau_true\n",
    "  \n",
    "        for y in range(2) :\n",
    "            if y==0 :\n",
    "                data_eval, h_eval = data_sujet[sujet], h_sujet['block'][x]\n",
    "                titre = 'scalling sujet'\n",
    "            else :\n",
    "                data_eval, h_eval = data_full[sujet], h_full['block'][x]\n",
    "                titre = 'scalling full'\n",
    "            print(titre)\n",
    "            \n",
    "            nb_trial = 0\n",
    "            for block in range(N_blocks) :\n",
    "                gs1 = gridspec.GridSpecFromSubplotSpec(2, 3, subplot_spec=axs[2*block+y], wspace=0.5)\n",
    "                ax1 = plt.Subplot(fig, gs1[0,:-1])\n",
    "                ax2 = plt.Subplot(fig, gs1[:,-1])\n",
    "                ax3 = plt.Subplot(fig, gs1[1,:-1])\n",
    "                fig.add_subplot(ax1)\n",
    "                fig.add_subplot(ax2)\n",
    "                fig.add_subplot(ax3)\n",
    "\n",
    "\n",
    "                data = data_eval[block]\n",
    "                h_fit = h_eval[block]\n",
    "\n",
    "                bino = np.array(list(Full['bino'][Full.sujet==sujet])[nb_trial:N_trials+nb_trial*block])\n",
    "                p = np.array(list(Full['proba'][Full.sujet==sujet])[nb_trial:N_trials+nb_trial*block])\n",
    "\n",
    "                ax1 = plot_evaluating(ax1, h_fit, data, bino, p, mode)\n",
    "                ax1.set_ylabel('h_fit=%.5f'%(h_fit))\n",
    "                if block==0 :\n",
    "                    ax1.set_title(titre)\n",
    "\n",
    "                N_scan = 100\n",
    "\n",
    "                ax2, h_opt = find_best_h(ax2, data, bino, h_fit, mode, N_scan)\n",
    "\n",
    "                ax3 = plot_evaluating(ax3, h_opt, data, bino, p, mode)\n",
    "                ax3.set_ylabel('h_opt=%.5f'%(h_opt))\n",
    "\n",
    "                print('block', block, '--> tau_fit=%.1f ,'%(1/h_fit), 'h_fit=%.5f ,'%(h_fit), 'tau_opt=%.1f ,'%(1/h_opt), 'h_opt=%.5f'%(h_opt))\n",
    "\n",
    "\n",
    "                nb_trial = nb_trial+N_trials\n",
    "\n",
    "        plt.show() "
   ]
  },
  {
   "cell_type": "markdown",
   "metadata": {},
   "source": [
    "### BET"
   ]
  },
  {
   "cell_type": "code",
   "execution_count": null,
   "metadata": {
    "scrolled": true
   },
   "outputs": [],
   "source": [
    "evaluating (new_bet_sujet, new_bet_full, h_bet_sujet, h_bet_full)"
   ]
  },
  {
   "cell_type": "markdown",
   "metadata": {},
   "source": [
    "### VA"
   ]
  },
  {
   "cell_type": "code",
   "execution_count": null,
   "metadata": {
    "scrolled": true
   },
   "outputs": [],
   "source": [
    "evaluating (new_va_full, h_va)"
   ]
  },
  {
   "cell_type": "code",
   "execution_count": null,
   "metadata": {},
   "outputs": [],
   "source": []
  }
 ],
 "metadata": {
  "kernel_info": {
   "name": "python3"
  },
  "kernelspec": {
   "display_name": "Python 3",
   "language": "python",
   "name": "python3"
  },
  "language_info": {
   "codemirror_mode": {
    "name": "ipython",
    "version": 3
   },
   "file_extension": ".py",
   "mimetype": "text/x-python",
   "name": "python",
   "nbconvert_exporter": "python",
   "pygments_lexer": "ipython3",
   "version": "3.5.2"
  },
  "toc": {
   "base_numbering": 1,
   "nav_menu": {},
   "number_sections": true,
   "sideBar": true,
   "skip_h1_title": false,
   "title_cell": "Table of Contents",
   "title_sidebar": "Contents",
   "toc_cell": false,
   "toc_position": {},
   "toc_section_display": "block",
   "toc_window_display": false
  }
 },
 "nbformat": 4,
 "nbformat_minor": 2
}
