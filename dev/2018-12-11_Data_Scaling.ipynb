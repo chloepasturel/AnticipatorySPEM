{
 "cells": [
  {
   "cell_type": "code",
   "execution_count": 1,
   "metadata": {},
   "outputs": [],
   "source": [
    "import os\n",
    "import glob\n",
    "import pickle\n",
    "import numpy as np\n",
    "from aSPEM import Analysis"
   ]
  },
  {
   "cell_type": "code",
   "execution_count": 2,
   "metadata": {
    "ExecuteTime": {
     "end_time": "2018-07-13T14:09:02.644736Z",
     "start_time": "2018-07-13T14:09:02.600752Z"
    }
   },
   "outputs": [],
   "source": [
    "list_sujet = ['s01','s02','s03','s04','s05','s06','s07','s08','s09','s10','s11','s12']\n",
    "nb_sujet = len(list_sujet)"
   ]
  },
  {
   "cell_type": "code",
   "execution_count": 3,
   "metadata": {
    "ExecuteTime": {
     "end_time": "2018-07-13T14:09:07.303209Z",
     "start_time": "2018-07-13T14:09:02.720212Z"
    }
   },
   "outputs": [],
   "source": [
    "liste = []\n",
    "for fname in glob.glob('../data/*pkl'):\n",
    "    a = fname.split('/')[2].split('.')[0].split('_')\n",
    "    liste.append(a)\n",
    "            \n",
    "BET = {}\n",
    "for x in range(len(liste)) :\n",
    "    if liste[x][0]=='bet' and liste[x][1] in list_sujet:\n",
    "        a = '../data/%s_%s_%s_%s.pkl'%(liste[x][0], liste[x][1],liste[x][2],liste[x][3])\n",
    "        with open(a, 'rb') as fichier :\n",
    "            b = pickle.load(fichier, encoding='latin1')\n",
    "            BET[liste[x][1]] = b"
   ]
  },
  {
   "cell_type": "markdown",
   "metadata": {},
   "source": [
    "# Scaling Data"
   ]
  },
  {
   "cell_type": "code",
   "execution_count": 4,
   "metadata": {},
   "outputs": [],
   "source": [
    "e = Analysis(observer='s01', mode='eyeMvt')\n",
    "Full = e.Full_list(modes_bcp=None)"
   ]
  },
  {
   "cell_type": "code",
   "execution_count": 5,
   "metadata": {},
   "outputs": [],
   "source": [
    "scal_va_sujet, scal_va_full = {}, []\n",
    "scal_bet_sujet, scal_bet_full = {}, []\n",
    "\n",
    "va_full, bet_full = [], []\n",
    "for x in list_sujet :\n",
    "    bet = []\n",
    "    for block in range(BET[x]['N_blocks']) :\n",
    "        bet.extend((BET[x]['results'][:,block]+1)/2)\n",
    "    \n",
    "    bet_full.extend(bet)\n",
    "    va_full.extend(list(Full['va'][Full.sujet==x]))\n",
    "    \n",
    "    scal_bet_sujet[x] = np.sort(bet)\n",
    "    scal_va_sujet[x] = np.sort(list(Full['va'][Full.sujet==x]))\n",
    "\n",
    "scal_va_full = np.sort(va_full)\n",
    "scal_bet_full = np.sort(bet_full)"
   ]
  },
  {
   "cell_type": "code",
   "execution_count": 6,
   "metadata": {},
   "outputs": [
    {
     "name": "stderr",
     "output_type": "stream",
     "text": [
      "/usr/local/lib/python3.5/dist-packages/numpy/core/fromnumeric.py:3118: RuntimeWarning: Mean of empty slice.\n",
      "  out=out, **kwargs)\n",
      "/usr/local/lib/python3.5/dist-packages/numpy/core/_methods.py:85: RuntimeWarning: invalid value encountered in double_scalars\n",
      "  ret = ret.dtype.type(ret / rcount)\n"
     ]
    }
   ],
   "source": [
    "new_proba_full = np.linspace(0,1,len(scal_va_full))\n",
    "\n",
    "new_va_sujet, new_va_full = {}, {}\n",
    "new_bet_sujet, new_bet_full = {}, {}\n",
    "\n",
    "\n",
    "for x in list_sujet :\n",
    "    N_trials = BET[x]['N_trials']\n",
    "    \n",
    "    new_proba_sujet = np.linspace(0, 1, len(scal_va_sujet[x]))\n",
    "    va_sujet = list(Full['va'][Full.sujet==x])\n",
    "    \n",
    "    \n",
    "    nb_trial = 0\n",
    "    \n",
    "    new_va_sujet[x], new_va_full[x] = [], []\n",
    "    new_bet_sujet[x], new_bet_full[x] = [], []\n",
    "    \n",
    "    for block in range(3) :\n",
    "        new_va_sujet[x].append([])\n",
    "        new_va_full[x].append([])\n",
    "        \n",
    "        new_bet_sujet[x].append([])\n",
    "        new_bet_full[x].append([])\n",
    "        \n",
    "        \n",
    "        va = va_sujet[nb_trial : N_trials + nb_trial*block]\n",
    "        bet = (BET[x]['results'][:,block]+1)/2\n",
    "        \n",
    "        \n",
    "        for trial in range(len(va)) :\n",
    "            p = []\n",
    "            for t in range(len(scal_va_sujet[x])) :\n",
    "                if scal_va_sujet[x][t] == va[trial] :\n",
    "                    p.append(new_proba_sujet[t])\n",
    "            new_va_sujet[x][block].append(np.mean(p))\n",
    "            \n",
    "            p = []\n",
    "            for t in range(len(scal_va_full)) :\n",
    "                if scal_va_full[t] == va[trial] :\n",
    "                    p.append(new_proba_full[t])\n",
    "            new_va_full[x][block].append(np.mean(p))\n",
    "       \n",
    "\n",
    "        for trial in range(len(bet)) :\n",
    "            p = []\n",
    "            for t in range(len(scal_bet_sujet[x])) :\n",
    "                if scal_bet_sujet[x][t] == bet[trial] :\n",
    "                    p.append(new_proba_sujet[t])\n",
    "            new_bet_sujet[x][block].append(np.mean(p))\n",
    "\n",
    "            p = []\n",
    "            for t in range(len(scal_bet_full)) :\n",
    "                if scal_bet_full[t] == bet[trial] :\n",
    "                    p.append(new_proba_full[t])\n",
    "            new_bet_full[x][block].append(np.mean(p))\n",
    "    \n",
    "    \n",
    "        nb_trial = nb_trial + N_trials"
   ]
  },
  {
   "cell_type": "code",
   "execution_count": 7,
   "metadata": {},
   "outputs": [],
   "source": [
    "new_data = {}\n",
    "new_data['new_bet_full'] = new_bet_full\n",
    "new_data['new_bet_sujet'] = new_bet_sujet\n",
    "new_data['new_va_full'] = new_va_full\n",
    "new_data['new_va_sujet'] = new_va_sujet"
   ]
  },
  {
   "cell_type": "code",
   "execution_count": 8,
   "metadata": {
    "collapsed": true
   },
   "outputs": [],
   "source": [
    "file = os.path.join('parametre', 'Data_Scaling.pkl')\n",
    "with open(file, 'wb') as fichier:\n",
    "    f = pickle.Pickler(fichier)\n",
    "    f.dump(new_data)"
   ]
  },
  {
   "cell_type": "code",
   "execution_count": null,
   "metadata": {},
   "outputs": [],
   "source": []
  }
 ],
 "metadata": {
  "kernelspec": {
   "display_name": "Python 3",
   "language": "python",
   "name": "python3"
  },
  "language_info": {
   "codemirror_mode": {
    "name": "ipython",
    "version": 3
   },
   "file_extension": ".py",
   "mimetype": "text/x-python",
   "name": "python",
   "nbconvert_exporter": "python",
   "pygments_lexer": "ipython3",
   "version": "3.5.2"
  }
 },
 "nbformat": 4,
 "nbformat_minor": 2
}
