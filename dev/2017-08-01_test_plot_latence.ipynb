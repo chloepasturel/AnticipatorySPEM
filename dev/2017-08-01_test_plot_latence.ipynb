{
 "cells": [
  {
   "cell_type": "markdown",
   "metadata": {},
   "source": [
    "# Test Plot Latence"
   ]
  },
  {
   "cell_type": "code",
   "execution_count": 1,
   "metadata": {
    "collapsed": true
   },
   "outputs": [],
   "source": [
    "%load_ext autoreload\n",
    "%autoreload 2\n",
    "from __future__ import division, print_function, absolute_import\n",
    "import pickle\n",
    "import os\n",
    "import matplotlib.pyplot as plt\n",
    "import sys\n",
    "sys.path.append('..')\n",
    "from edfreader import read_edf\n",
    "import numpy as np\n",
    "from lmfit import  Model, Parameters\n",
    "%matplotlib inline"
   ]
  },
  {
   "cell_type": "code",
   "execution_count": 2,
   "metadata": {
    "collapsed": true
   },
   "outputs": [],
   "source": [
    "timeStr = '2017-07-21_142241'\n",
    "observer = 'laurent'\n",
    "mode = 'enregistrement'"
   ]
  },
  {
   "cell_type": "code",
   "execution_count": 3,
   "metadata": {
    "collapsed": true
   },
   "outputs": [],
   "source": [
    "file = os.path.join('..', 'data', mode + '_' + observer + '_' + timeStr + '.pkl')\n",
    "with open(file, 'rb') as fichier :\n",
    "    exp = pickle.load(fichier, encoding='latin1')\n",
    "      \n",
    "resultats = os.path.join('..', 'data', mode + '_' + observer + '_' + timeStr + '.asc')\n",
    "data = read_edf(resultats, 'TRIALID')"
   ]
  },
  {
   "cell_type": "code",
   "execution_count": 4,
   "metadata": {
    "collapsed": true
   },
   "outputs": [],
   "source": [
    "N_trials = exp['N_trials']\n",
    "N_blocks = exp['N_blocks']\n",
    "screen_width_px = exp['screen_width_px']\n",
    "screen_height_px = exp['screen_height_px']\n",
    "V_X = exp['V_X']\n",
    "RashBass = exp['RashBass']\n",
    "stim_tau = exp['stim_tau']\n",
    "p = exp['p']"
   ]
  },
  {
   "cell_type": "code",
   "execution_count": 5,
   "metadata": {
    "collapsed": true
   },
   "outputs": [],
   "source": [
    "def vitesse (x, tau=0.013, xT=0.01, t_T=0.2, start=1200., bino=1) :\n",
    "    '''\n",
    "    tau -- constante oeuil (0.013)\n",
    "    xT -- position en deg de la cible (1)\n",
    "    t_T -- tps du mvt - s (0.1)\n",
    "    start -- tps où commence le mvt\n",
    "    bino -- binomial\n",
    "    '''    \n",
    "    if bino == 0:\n",
    "        xT =xT*(-1)\n",
    "    \n",
    "    dt = 0.001\n",
    "    T = int(t_T/dt) # tps termine mvt - ms\n",
    "    time = np.arange(len(x))/1000 # en seconde !!!\n",
    "    start = start/1000 # en seconde\n",
    "    rho = tau/t_T*np.log((1+np.exp(t_T/tau))/2) # proportion accélération dans mvt\n",
    "    \n",
    "    Umax = 1/tau*xT/((2*rho-1)*t_T-tau*(2-np.exp(-rho*t_T/tau)-np.exp((1-rho)*t_T/tau))) # signal N\n",
    "\n",
    "    vitesse = []\n",
    "    for t in range(len(time)):\n",
    "        if bino==0 :\n",
    "            if Umax*tau*(1-np.exp(-1/tau*(time[t]-start))) > 0 :\n",
    "                vitesse.append(0)\n",
    "            else :\n",
    "                vitesse.append(Umax*tau*(1-np.exp(-1/tau*(time[t]-start))))\n",
    "        else :\n",
    "            if Umax*tau*(1-np.exp(-1/tau*(time[t]-start))) < 0 :\n",
    "                vitesse.append(0)\n",
    "            else :\n",
    "                vitesse.append(Umax*tau*(1-np.exp(-1/tau*(time[t]-start))))\n",
    "    return vitesse"
   ]
  },
  {
   "cell_type": "code",
   "execution_count": 6,
   "metadata": {},
   "outputs": [
    {
     "name": "stderr",
     "output_type": "stream",
     "text": [
      "/home/drone/.local/lib/python3.5/site-packages/ipykernel_launcher.py:23: RuntimeWarning: overflow encountered in exp\n",
      "/home/drone/.local/lib/python3.5/site-packages/ipykernel_launcher.py:28: RuntimeWarning: overflow encountered in exp\n"
     ]
    }
   ],
   "source": [
    "Latences = []\n",
    "for block in range(N_blocks) :\n",
    "    l=[]\n",
    "    \n",
    "    for trial in range(N_trials) :\n",
    "        \n",
    "        trial_data = trial + N_trials*block\n",
    "\n",
    "        data_x = data[trial_data]['x']\n",
    "        trackertime = data[trial_data]['trackertime']\n",
    "        TargetOn = data[trial_data]['events']['msg'][15][0]\n",
    "        saccades = data[trial_data]['events']['Esac']\n",
    "\n",
    "        gradient_x = np.gradient(data_x)\n",
    "        \n",
    "        # SUPPRESSION DES SACCADES\n",
    "        new_gradient_x=[]\n",
    "        new_time=[]\n",
    "        t=0\n",
    "        for x_data in range(len(data_x)):\n",
    "            saccade = None\n",
    "            for s in range(len(saccades)) :\n",
    "                if x_data in np.arange((saccades[s][0]-trackertime[0]), (saccades[s][1]-trackertime[0]+1+4)) :\n",
    "                    saccade = 'yes'\n",
    "            if not saccade :\n",
    "                new_gradient_x.append(gradient_x[x_data])\n",
    "                new_time.append(t)\n",
    "                t = t+1\n",
    "            saccade = None\n",
    "        \n",
    "        # FIT\n",
    "        model = Model(vitesse)\n",
    "\n",
    "        bino=p[trial, block, 0]\n",
    "        params = Parameters()\n",
    "        params.add('tau', value=0.013, min=0.001, max=0.1)#, vary=False)\n",
    "        params.add('xT', value=0.05, min=0.001, max=0.1)#, vary=False)\n",
    "        params.add('t_T', value= 0.1, min=0.001, max=0.2)#, vary=False)\n",
    "        params.add('start', value=1000., min=0, max=2000.)#, vary=True)\n",
    "        params.add('bino', value=bino, min=0, max=1, vary=False)\n",
    "\n",
    "        result = model.fit(new_gradient_x, params, x=new_time)\n",
    "\n",
    "        debut  = TargetOn-trackertime[0]\n",
    "\n",
    "        liste_l =[]\n",
    "        dir_bool = bino*2 - 1\n",
    "        for tps in range(len(new_time)) :\n",
    "            if dir_bool*result.best_fit[tps] > 0.003 :\n",
    "                liste_l.append(new_time[tps])\n",
    "        if len(liste_l)!=0:\n",
    "            latence = liste_l[0]\n",
    "        else:\n",
    "            print('pas de latence pour block %s, essaie %s'%(block, trial))\n",
    "        l.append(latence-debut)\n",
    "    Latences.append(l)"
   ]
  },
  {
   "cell_type": "code",
   "execution_count": 7,
   "metadata": {
    "collapsed": true
   },
   "outputs": [],
   "source": [
    "matrice_latences = np.asarray(Latences)"
   ]
  },
  {
   "cell_type": "code",
   "execution_count": 8,
   "metadata": {},
   "outputs": [
    {
     "data": {
      "image/png": "[encoded data removed]",
      "text/plain": [
       "<matplotlib.figure.Figure at 0x7ff031d2c048>"
      ]
     },
     "metadata": {},
     "output_type": "display_data"
    }
   ],
   "source": [
    "fig_width= 12\n",
    "fig, axs = plt.subplots(7, 1, figsize=(fig_width, fig_width*2/1.6180))\n",
    "\n",
    "stick = np.zeros_like(p)\n",
    "stick[:, :, 0] = np.ones((N_trials, 1)) * np.arange(N_blocks)[np.newaxis, :]\n",
    "stick[:, :, 1] = np.ones((N_trials, 1)) * np.arange(N_blocks)[np.newaxis, :]\n",
    "stick[:, :, 2] = np.ones((N_trials, 1)) * np.arange(N_blocks)[np.newaxis, :]\n",
    "corrects = 0\n",
    "\n",
    "for i_layer, label in enumerate([r'$\\^x_0$', r'$\\^p$', r'$\\^x_2$']):\n",
    "    from cycler import cycler\n",
    "    axs[i_layer].set_prop_cycle(cycler('color', [plt.cm.magma(h) for h in np.linspace(0, 1, N_blocks+1)]))\n",
    "    _ = axs[i_layer].step(range(N_trials), p[:, :, i_layer]+stick[:, :, i_layer], lw=1, alpha=.9)\n",
    "    for i_block in range(N_blocks):\n",
    "        _ = axs[i_layer].fill_between(range(N_trials), i_block + np.zeros_like(p[:, i_block, i_layer]), i_block + p[:, i_block, i_layer], lw=.5, alpha=.1, facecolor='green', step='pre')\n",
    "        _ = axs[i_layer].fill_between(range(N_trials), i_block + np.ones_like(p[:, i_block, i_layer]), i_block + p[:, i_block, i_layer], lw=.5, alpha=.1, facecolor='red', step='pre')\n",
    "    axs[i_layer].axis('tight')\n",
    "    axs[i_layer].set_yticks(np.arange(N_blocks)+.5)\n",
    "    axs[i_layer].set_yticklabels(np.arange(N_blocks) )\n",
    "    axs[i_layer].set_ylabel(label, fontsize=14)\n",
    "\n",
    "for block in range(N_blocks):\n",
    "    _ = axs[3+block].step(range(N_trials), matrice_latences[block,:], alpha=.9, color='r')\n",
    "\n",
    "fig.tight_layout()\n",
    "for i in range(2): axs[i].set_ylim(-.05, N_blocks + .05)\n",
    "axs[-1].set_xlabel('trials', fontsize=14);\n",
    "\n",
    "plt.show()"
   ]
  },
  {
   "cell_type": "code",
   "execution_count": null,
   "metadata": {
    "collapsed": true
   },
   "outputs": [],
   "source": []
  }
 ],
 "metadata": {
  "kernelspec": {
   "display_name": "Python 2",
   "language": "python",
   "name": "python2"
  },
  "language_info": {
   "codemirror_mode": {
    "name": "ipython",
    "version": 3
   },
   "file_extension": ".py",
   "mimetype": "text/x-python",
   "name": "python",
   "nbconvert_exporter": "python",
   "pygments_lexer": "ipython3",
   "version": "3.5.2"
  }
 },
 "nbformat": 4,
 "nbformat_minor": 2
}
