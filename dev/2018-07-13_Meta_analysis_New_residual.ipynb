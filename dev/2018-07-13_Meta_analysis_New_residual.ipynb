{
 "cells": [
  {
   "cell_type": "markdown",
   "metadata": {},
   "source": [
    "# aSPEM Experiment : analysis\n",
    "\n",
    "\n"
   ]
  },
  {
   "cell_type": "code",
   "execution_count": 1,
   "metadata": {
    "ExecuteTime": {
     "end_time": "2018-07-13T14:09:02.470288Z",
     "start_time": "2018-07-13T14:09:00.548346Z"
    },
    "collapsed": true
   },
   "outputs": [],
   "source": [
    "%load_ext autoreload\n",
    "%autoreload 2\n",
    "from __future__ import division, print_function, absolute_import\n",
    "import glob\n",
    "import pickle\n",
    "import matplotlib.pyplot as plt\n",
    "#from cycler import cycler\n",
    "import numpy as np\n",
    "import scipy as sc\n",
    "from scipy import stats\n",
    "#from scipy.stats import beta"
   ]
  },
  {
   "cell_type": "raw",
   "metadata": {},
   "source": [
    "%load_ext version_information\n",
    "%version_information numpy, matplotlib"
   ]
  },
  {
   "cell_type": "raw",
   "metadata": {},
   "source": [
    "!ls data/"
   ]
  },
  {
   "cell_type": "code",
   "execution_count": 2,
   "metadata": {
    "ExecuteTime": {
     "end_time": "2018-07-13T14:09:02.539114Z",
     "start_time": "2018-07-13T14:09:02.477153Z"
    },
    "collapsed": true
   },
   "outputs": [],
   "source": [
    "%matplotlib inline\n",
    "fig_width = 15\n",
    "\n",
    "from aSPEM import aSPEM\n",
    "import bayesianchangepoint as bcp"
   ]
  },
  {
   "cell_type": "code",
   "execution_count": 3,
   "metadata": {
    "ExecuteTime": {
     "end_time": "2018-07-13T14:09:02.593758Z",
     "start_time": "2018-07-13T14:09:02.547277Z"
    },
    "collapsed": true,
    "scrolled": true
   },
   "outputs": [],
   "source": [
    "liste = []\n",
    "for fname in glob.glob('data/*pkl'):\n",
    "    a = fname.split('/')[1].split('.')[0].split('_')\n",
    "    liste.append(a)\n",
    "    #print(a)"
   ]
  },
  {
   "cell_type": "code",
   "execution_count": 4,
   "metadata": {
    "ExecuteTime": {
     "end_time": "2018-07-13T14:09:02.644736Z",
     "start_time": "2018-07-13T14:09:02.600752Z"
    },
    "collapsed": true
   },
   "outputs": [],
   "source": [
    "COLOR = ['black','dimgrey','grey','darkgrey','silver','rosybrown','lightcoral','indianred','firebrick','brown',\n",
    "         'darkred','red']\n",
    "list_sujet = ['AM','BMC','CS','DC','FM','IP','LB','OP','RS','SR','TN']#,'YK']"
   ]
  },
  {
   "cell_type": "code",
   "execution_count": 5,
   "metadata": {
    "ExecuteTime": {
     "end_time": "2018-07-13T14:09:02.713054Z",
     "start_time": "2018-07-13T14:09:02.652254Z"
    },
    "collapsed": true
   },
   "outputs": [],
   "source": [
    "exp = []\n",
    "for x in range(len(liste)) :\n",
    "    if liste[x][0]=='pari' and liste[x][1] in list_sujet:\n",
    "        a = 'data/%s_%s_%s_%s.pkl'%(liste[x][0], liste[x][1],liste[x][2],liste[x][3])\n",
    "        with open(a, 'rb') as fichier :\n",
    "            b = pickle.load(fichier, encoding='latin1')\n",
    "            exp.append(b)"
   ]
  },
  {
   "cell_type": "code",
   "execution_count": 6,
   "metadata": {
    "ExecuteTime": {
     "end_time": "2018-07-13T14:09:07.303209Z",
     "start_time": "2018-07-13T14:09:02.720212Z"
    }
   },
   "outputs": [],
   "source": [
    "param = []\n",
    "for x in range(len(liste)) :\n",
    "    if liste[x][0]=='pari' and liste[x][1] in list_sujet:\n",
    "        a = '../parametre/param_Fit_%s_fct_velocity_2_step_False_whitening.pkl'%(liste[x][1])\n",
    "        with open(a, 'rb') as fichier :\n",
    "            b = pickle.load(fichier, encoding='latin1')\n",
    "            param.append(b)"
   ]
  },
  {
   "cell_type": "code",
   "execution_count": 7,
   "metadata": {
    "ExecuteTime": {
     "end_time": "2018-07-13T14:09:07.355184Z",
     "start_time": "2018-07-13T14:09:07.312322Z"
    },
    "collapsed": true
   },
   "outputs": [],
   "source": [
    "def regress(ax, p, data, c, minx=0, miny=0, maxx=1, maxy=1, t_label=14) :\n",
    "    from scipy import stats\n",
    "    slope, intercept, r_, p_value, std_err = stats.linregress(p, data)\n",
    "    x_test = np.linspace(np.min(p), np.max(p), 100)\n",
    "    fitLine = slope * x_test + intercept\n",
    "    ax.plot(x_test, fitLine, c=c, linewidth=2)\n",
    "    ax.text(maxx-((maxx-minx)/16.180), miny+((maxy-miny)/4), 'r = %0.3f'%(r_), fontsize=t_label/1.2, ha='right', color=c)\n",
    "    ax.text(maxx-((maxx-minx)/16.180), miny+((maxy-miny)/10), 'p_value = %0.3f'%(p_value), fontsize=t_label/1.2, ha='right', color=c)\n",
    "\n",
    "    return ax"
   ]
  },
  {
   "cell_type": "code",
   "execution_count": 8,
   "metadata": {
    "ExecuteTime": {
     "end_time": "2018-07-13T14:09:07.412748Z",
     "start_time": "2018-07-13T14:09:07.362935Z"
    },
    "collapsed": true
   },
   "outputs": [],
   "source": [
    "def scatter_mean(bet, va, titre) :\n",
    "    fig, axs = plt.subplots(1, 2, figsize=((fig_width), (fig_width)/(1.6180*2)))\n",
    "    plt.suptitle(titre, fontsize=20, y=1.05)\n",
    "\n",
    "    c = ['k', 'r']\n",
    "    c1 = ['r', 'k']\n",
    "    for s, mode in enumerate(['expectation', 'max']):\n",
    "        m_bet, m_va = [], []\n",
    "        for x in range(len(bet[mode])):\n",
    "            axs[s].errorbar(np.mean(bet[mode][x]), np.mean(va[mode][x]),\n",
    "                            xerr=np.std(bet[mode][x]), yerr=np.std(va[mode][x]),\n",
    "                            color=c[s], fmt='o', elinewidth=0.8)\n",
    "            m_bet.append(np.mean(bet[mode][x]))\n",
    "            m_va.append(np.mean(va[mode][x]))\n",
    "\n",
    "        axs[s].set_title('mode %s'%mode, fontsize=20)\n",
    "        axs[s].set_xlabel('h$_{bet}$', fontsize=14)\n",
    "        axs[s].set_ylabel('h$_{v_a}$', fontsize=14)\n",
    "        axs[s].axis([-0.03 ,1.03,-0.03,1.03])\n",
    "\n",
    "        regress(axs[s], m_bet, m_va, c1[s])\n",
    "\n",
    "    plt.show()"
   ]
  },
  {
   "cell_type": "code",
   "execution_count": 9,
   "metadata": {
    "ExecuteTime": {
     "end_time": "2018-07-13T14:09:07.476850Z",
     "start_time": "2018-07-13T14:09:07.420468Z"
    },
    "collapsed": true
   },
   "outputs": [],
   "source": [
    "def scatter_full(h_bet, h_va, titre):\n",
    "    fig, axs = plt.subplots(1, 2, figsize=((fig_width), (fig_width)/(1.6180*2)))\n",
    "    plt.suptitle(titre, fontsize=20, y=1.05)\n",
    "    fig2, axs2 = plt.subplots(len(list_sujet), 2, figsize=((fig_width), 12*(fig_width)/(1.6180*2)))\n",
    "\n",
    "    for s, mode in enumerate(['expectation', 'max']):\n",
    "        bet_mode, va_mode = [], []\n",
    "        bet_mode_0, va_mode_0 = [], []\n",
    "        for x, color in enumerate(COLOR[:len(list_sujet)]):\n",
    "            for a in range(len(h_bet[mode][x])):\n",
    "                axs[s].scatter(h_bet[mode][x][a], h_va[mode][x][a],color=color, edgecolors='c')\n",
    "                axs2[x][s].scatter(h_bet[mode][x][a], h_va[mode][x][a],color=color, edgecolors='c')\n",
    "                if a != 0 :\n",
    "                    axs[s].scatter(h_bet[mode][x][a], h_va[mode][x][a],color=color, edgecolors=color)\n",
    "                    axs2[x][s].scatter(h_bet[mode][x][a], h_va[mode][x][a],color=color, edgecolors=color)\n",
    "\n",
    "                    bet_mode_0.append(h_bet[mode][x][a])\n",
    "                    va_mode_0.append(h_va[mode][x][a])\n",
    "                bet_mode.append(h_bet[mode][x][a])\n",
    "                va_mode.append(h_va[mode][x][a])\n",
    "\n",
    "            regress(axs2[x][s], h_bet[mode][x], h_va[mode][x], 'r')\n",
    "            regress(axs2[x][s], h_bet[mode][x][1:], h_va[mode][x][1:], 'k', miny=0.5)\n",
    "            \n",
    "            axs2[x][s].set_title('%s mode %s'%(x,mode), fontsize=20)\n",
    "            axs2[x][s].set_xlabel('h$_{bet}$', fontsize=14)\n",
    "            axs2[x][s].set_ylabel('h$_{v_a}$', fontsize=14)\n",
    "            axs2[x][s].axis([-0.03 ,1.03,-0.03,1.03])\n",
    "\n",
    "        #------------------------------------------------------------------------\n",
    "        axs[s].set_title('mode %s'%mode, fontsize=20)\n",
    "        axs[s].set_xlabel('h$_{bet}$', fontsize=14)\n",
    "        axs[s].set_ylabel('h$_{v_a}$', fontsize=14)\n",
    "        axs[s].axis([-0.03 ,1.03,-0.03,1.03])\n",
    "\n",
    "\n",
    "        regress(axs[s], bet_mode_0, va_mode_0, 'r')\n",
    "        regress(axs[s], bet_mode, va_mode, 'k', miny=0.5)\n",
    "\n",
    "    fig2.tight_layout()\n",
    "    plt.show()"
   ]
  },
  {
   "cell_type": "markdown",
   "metadata": {},
   "source": [
    "# Variation de h"
   ]
  },
  {
   "cell_type": "code",
   "execution_count": 10,
   "metadata": {
    "ExecuteTime": {
     "end_time": "2018-07-13T14:09:08.233741Z",
     "start_time": "2018-07-13T14:09:07.484340Z"
    },
    "collapsed": true
   },
   "outputs": [],
   "source": [
    "from lmfit import  Model, Parameters"
   ]
  },
  {
   "cell_type": "code",
   "execution_count": 11,
   "metadata": {
    "collapsed": true
   },
   "outputs": [],
   "source": [
    "from lmfit import minimize"
   ]
  },
  {
   "cell_type": "raw",
   "metadata": {
    "ExecuteTime": {
     "end_time": "2018-07-13T14:09:08.288445Z",
     "start_time": "2018-07-13T14:09:08.242459Z"
    }
   },
   "source": [
    "def fct_BCP(x, h, num_mode) :\n",
    "    if num_mode==0 :\n",
    "        mode = 'expectation'\n",
    "    elif num_mode==1:\n",
    "        mode = 'max'\n",
    "    p_bar, r, beliefs = bcp.inference(x, h=h, p0=.5)\n",
    "    p_hat, r_hat = bcp.readout(p_bar, r, beliefs, mode=mode)\n",
    "    \n",
    "    return p_hat"
   ]
  },
  {
   "cell_type": "raw",
   "metadata": {
    "ExecuteTime": {
     "end_time": "2018-07-13T14:09:08.347121Z",
     "start_time": "2018-07-13T14:09:08.294633Z"
    }
   },
   "source": [
    "def fit(h, proba, bet, va, num_mode):\n",
    "    params = Parameters()\n",
    "    model = Model(fct_BCP)\n",
    "\n",
    "    params.add('h', value=h, min=0.00001, max=0.99999)\n",
    "    params.add('num_mode', value=num_mode, vary=False)\n",
    "\n",
    "    result_res = model.fit(bet, params, x=proba, nan_policy='omit')\n",
    "    result_v_ant = model.fit(va, params, x=proba, nan_policy='omit')\n",
    "\n",
    "    h_bet = result_res.values['h']\n",
    "    h_va = result_v_ant.values['h']\n",
    "    \n",
    "    return h_bet, h_va"
   ]
  },
  {
   "cell_type": "code",
   "execution_count": 12,
   "metadata": {
    "ExecuteTime": {
     "end_time": "2018-07-13T14:09:08.288445Z",
     "start_time": "2018-07-13T14:09:08.242459Z"
    },
    "collapsed": true
   },
   "outputs": [],
   "source": [
    "def fct_BCP(params, x, data) :\n",
    "    \n",
    "    h = params['h']\n",
    "    num_mode = params['num_mode']\n",
    "    \n",
    "    if num_mode==0 :\n",
    "        mode = 'expectation'\n",
    "    elif num_mode==1:\n",
    "        mode = 'max'\n",
    "    p_bar, r, beliefs = bcp.inference(x, h=h, p0=.5)\n",
    "    p_hat, r_hat = bcp.readout(p_bar, r, beliefs, mode=mode)\n",
    "    \n",
    "    data = np.array(data)\n",
    "    p_hat = np.array(p_hat)\n",
    "    dist = (p_hat)*np.log(p_hat/data) + (1-p_hat)*np.log((1-p_hat)/(1-data))\n",
    "    \n",
    "    return np.sqrt(dist)"
   ]
  },
  {
   "cell_type": "code",
   "execution_count": 13,
   "metadata": {
    "ExecuteTime": {
     "end_time": "2018-07-13T14:09:08.347121Z",
     "start_time": "2018-07-13T14:09:08.294633Z"
    }
   },
   "outputs": [],
   "source": [
    "def fit(h, proba, bet, va, num_mode):\n",
    "    params = Parameters()\n",
    "    #model = Model(fct_BCP)\n",
    "\n",
    "    params.add('h', value=h, min=0.00001, max=0.99999)\n",
    "    params.add('num_mode', value=num_mode, vary=False)\n",
    "\n",
    "    result_res = minimize(fct_BCP, params, args=(proba, bet), method='Nelder', nan_policy='omit')\n",
    "    result_v_ant = minimize(fct_BCP, params, args=(proba, va), method='Nelder', nan_policy='omit')\n",
    "    \n",
    "    h_bet = result_res.params['h']\n",
    "    h_va = result_v_ant.params['h']\n",
    "    \n",
    "    #h_bet = result_res.values['h']\n",
    "    #h_va = result_v_ant.values['h']\n",
    "    \n",
    "    return h_bet, h_va"
   ]
  },
  {
   "cell_type": "code",
   "execution_count": 14,
   "metadata": {
    "ExecuteTime": {
     "end_time": "2018-07-13T14:14:47.745460Z",
     "start_time": "2018-07-13T14:09:08.355164Z"
    },
    "scrolled": true
   },
   "outputs": [
    {
     "name": "stderr",
     "output_type": "stream",
     "text": [
      "/home/drone/.local/lib/python3.5/site-packages/ipykernel_launcher.py:15: RuntimeWarning: divide by zero encountered in true_divide\n",
      "  from ipykernel import kernelapp as app\n",
      "/home/drone/.local/lib/python3.5/site-packages/ipykernel_launcher.py:15: RuntimeWarning: invalid value encountered in log\n",
      "  from ipykernel import kernelapp as app\n"
     ]
    },
    {
     "ename": "ValueError",
     "evalue": "setting an array element with a sequence.",
     "output_type": "error",
     "traceback": [
      "\u001b[0;31m---------------------------------------------------------------------------\u001b[0m",
      "\u001b[0;31mValueError\u001b[0m                                Traceback (most recent call last)",
      "\u001b[0;32m<ipython-input-14-0ec9fe787877>\u001b[0m in \u001b[0;36m<module>\u001b[0;34m()\u001b[0m\n\u001b[1;32m     45\u001b[0m                 \u001b[0mbet_p\u001b[0m \u001b[0;34m=\u001b[0m \u001b[0mbet\u001b[0m\u001b[0;34m[\u001b[0m\u001b[0mliste\u001b[0m\u001b[0;34m[\u001b[0m\u001b[0ma\u001b[0m\u001b[0;34m]\u001b[0m\u001b[0;34m:\u001b[0m\u001b[0mliste\u001b[0m\u001b[0;34m[\u001b[0m\u001b[0ma\u001b[0m\u001b[0;34m+\u001b[0m\u001b[0;36m1\u001b[0m\u001b[0;34m]\u001b[0m\u001b[0;34m,\u001b[0m \u001b[0mblock\u001b[0m\u001b[0;34m]\u001b[0m\u001b[0;34m\u001b[0m\u001b[0m\n\u001b[1;32m     46\u001b[0m                 \u001b[0mv_p\u001b[0m \u001b[0;34m=\u001b[0m \u001b[0ma_anti\u001b[0m\u001b[0;34m[\u001b[0m\u001b[0mblock\u001b[0m\u001b[0;34m]\u001b[0m\u001b[0;34m[\u001b[0m\u001b[0mliste\u001b[0m\u001b[0;34m[\u001b[0m\u001b[0ma\u001b[0m\u001b[0;34m]\u001b[0m\u001b[0;34m:\u001b[0m\u001b[0mliste\u001b[0m\u001b[0;34m[\u001b[0m\u001b[0ma\u001b[0m\u001b[0;34m+\u001b[0m\u001b[0;36m1\u001b[0m\u001b[0;34m]\u001b[0m\u001b[0;34m]\u001b[0m\u001b[0;34m\u001b[0m\u001b[0m\n\u001b[0;32m---> 47\u001b[0;31m                 \u001b[0mh_bet\u001b[0m\u001b[0;34m,\u001b[0m \u001b[0mh_va\u001b[0m \u001b[0;34m=\u001b[0m \u001b[0mfit\u001b[0m\u001b[0;34m(\u001b[0m\u001b[0mh\u001b[0m\u001b[0;34m,\u001b[0m \u001b[0mprob_pause\u001b[0m\u001b[0;34m,\u001b[0m \u001b[0mbet_p\u001b[0m\u001b[0;34m,\u001b[0m \u001b[0mv_p\u001b[0m\u001b[0;34m,\u001b[0m \u001b[0mnum_mode\u001b[0m\u001b[0;34m)\u001b[0m\u001b[0;34m\u001b[0m\u001b[0m\n\u001b[0m\u001b[1;32m     48\u001b[0m \u001b[0;34m\u001b[0m\u001b[0m\n\u001b[1;32m     49\u001b[0m                 \u001b[0mh_bet_pause\u001b[0m\u001b[0;34m[\u001b[0m\u001b[0mmode\u001b[0m\u001b[0;34m]\u001b[0m\u001b[0;34m[\u001b[0m\u001b[0mx\u001b[0m\u001b[0;34m]\u001b[0m\u001b[0;34m.\u001b[0m\u001b[0mappend\u001b[0m\u001b[0;34m(\u001b[0m\u001b[0mh_bet\u001b[0m\u001b[0;34m)\u001b[0m\u001b[0;34m\u001b[0m\u001b[0m\n",
      "\u001b[0;32m<ipython-input-13-99b06bca5e97>\u001b[0m in \u001b[0;36mfit\u001b[0;34m(h, proba, bet, va, num_mode)\u001b[0m\n\u001b[1;32m      7\u001b[0m \u001b[0;34m\u001b[0m\u001b[0m\n\u001b[1;32m      8\u001b[0m     \u001b[0mresult_res\u001b[0m \u001b[0;34m=\u001b[0m \u001b[0mminimize\u001b[0m\u001b[0;34m(\u001b[0m\u001b[0mfct_BCP\u001b[0m\u001b[0;34m,\u001b[0m \u001b[0mparams\u001b[0m\u001b[0;34m,\u001b[0m \u001b[0margs\u001b[0m\u001b[0;34m=\u001b[0m\u001b[0;34m(\u001b[0m\u001b[0mproba\u001b[0m\u001b[0;34m,\u001b[0m \u001b[0mbet\u001b[0m\u001b[0;34m)\u001b[0m\u001b[0;34m,\u001b[0m \u001b[0mmethod\u001b[0m\u001b[0;34m=\u001b[0m\u001b[0;34m'Nelder'\u001b[0m\u001b[0;34m,\u001b[0m \u001b[0mnan_policy\u001b[0m\u001b[0;34m=\u001b[0m\u001b[0;34m'omit'\u001b[0m\u001b[0;34m)\u001b[0m\u001b[0;34m\u001b[0m\u001b[0m\n\u001b[0;32m----> 9\u001b[0;31m     \u001b[0mresult_v_ant\u001b[0m \u001b[0;34m=\u001b[0m \u001b[0mminimize\u001b[0m\u001b[0;34m(\u001b[0m\u001b[0mfct_BCP\u001b[0m\u001b[0;34m,\u001b[0m \u001b[0mparams\u001b[0m\u001b[0;34m,\u001b[0m \u001b[0margs\u001b[0m\u001b[0;34m=\u001b[0m\u001b[0;34m(\u001b[0m\u001b[0mproba\u001b[0m\u001b[0;34m,\u001b[0m \u001b[0mva\u001b[0m\u001b[0;34m)\u001b[0m\u001b[0;34m,\u001b[0m \u001b[0mmethod\u001b[0m\u001b[0;34m=\u001b[0m\u001b[0;34m'Nelder'\u001b[0m\u001b[0;34m,\u001b[0m \u001b[0mnan_policy\u001b[0m\u001b[0;34m=\u001b[0m\u001b[0;34m'omit'\u001b[0m\u001b[0;34m)\u001b[0m\u001b[0;34m\u001b[0m\u001b[0m\n\u001b[0m\u001b[1;32m     10\u001b[0m \u001b[0;34m\u001b[0m\u001b[0m\n\u001b[1;32m     11\u001b[0m     \u001b[0mh_bet\u001b[0m \u001b[0;34m=\u001b[0m \u001b[0mresult_res\u001b[0m\u001b[0;34m.\u001b[0m\u001b[0mparams\u001b[0m\u001b[0;34m[\u001b[0m\u001b[0;34m'h'\u001b[0m\u001b[0;34m]\u001b[0m\u001b[0;34m\u001b[0m\u001b[0m\n",
      "\u001b[0;32m/home/drone/.local/lib/python3.5/site-packages/lmfit/minimizer.py\u001b[0m in \u001b[0;36mminimize\u001b[0;34m(fcn, params, method, args, kws, scale_covar, iter_cb, reduce_fcn, **fit_kws)\u001b[0m\n\u001b[1;32m   2134\u001b[0m                        \u001b[0miter_cb\u001b[0m\u001b[0;34m=\u001b[0m\u001b[0miter_cb\u001b[0m\u001b[0;34m,\u001b[0m \u001b[0mscale_covar\u001b[0m\u001b[0;34m=\u001b[0m\u001b[0mscale_covar\u001b[0m\u001b[0;34m,\u001b[0m\u001b[0;34m\u001b[0m\u001b[0m\n\u001b[1;32m   2135\u001b[0m                        reduce_fcn=reduce_fcn, **fit_kws)\n\u001b[0;32m-> 2136\u001b[0;31m     \u001b[0;32mreturn\u001b[0m \u001b[0mfitter\u001b[0m\u001b[0;34m.\u001b[0m\u001b[0mminimize\u001b[0m\u001b[0;34m(\u001b[0m\u001b[0mmethod\u001b[0m\u001b[0;34m=\u001b[0m\u001b[0mmethod\u001b[0m\u001b[0;34m)\u001b[0m\u001b[0;34m\u001b[0m\u001b[0m\n\u001b[0m",
      "\u001b[0;32m/home/drone/.local/lib/python3.5/site-packages/lmfit/minimizer.py\u001b[0m in \u001b[0;36mminimize\u001b[0;34m(self, method, params, **kws)\u001b[0m\n\u001b[1;32m   1806\u001b[0m                         val.lower().startswith(user_method)):\n\u001b[1;32m   1807\u001b[0m                     \u001b[0mkwargs\u001b[0m\u001b[0;34m[\u001b[0m\u001b[0;34m'method'\u001b[0m\u001b[0;34m]\u001b[0m \u001b[0;34m=\u001b[0m \u001b[0mval\u001b[0m\u001b[0;34m\u001b[0m\u001b[0m\n\u001b[0;32m-> 1808\u001b[0;31m         \u001b[0;32mreturn\u001b[0m \u001b[0mfunction\u001b[0m\u001b[0;34m(\u001b[0m\u001b[0;34m**\u001b[0m\u001b[0mkwargs\u001b[0m\u001b[0;34m)\u001b[0m\u001b[0;34m\u001b[0m\u001b[0m\n\u001b[0m\u001b[1;32m   1809\u001b[0m \u001b[0;34m\u001b[0m\u001b[0m\n\u001b[1;32m   1810\u001b[0m \u001b[0;34m\u001b[0m\u001b[0m\n",
      "\u001b[0;32m/home/drone/.local/lib/python3.5/site-packages/lmfit/minimizer.py\u001b[0m in \u001b[0;36mscalar_minimize\u001b[0;34m(self, method, params, **kws)\u001b[0m\n\u001b[1;32m    784\u001b[0m         \u001b[0;32melse\u001b[0m\u001b[0;34m:\u001b[0m\u001b[0;34m\u001b[0m\u001b[0m\n\u001b[1;32m    785\u001b[0m             \u001b[0;32mtry\u001b[0m\u001b[0;34m:\u001b[0m\u001b[0;34m\u001b[0m\u001b[0m\n\u001b[0;32m--> 786\u001b[0;31m                 \u001b[0mret\u001b[0m \u001b[0;34m=\u001b[0m \u001b[0mscipy_minimize\u001b[0m\u001b[0;34m(\u001b[0m\u001b[0mself\u001b[0m\u001b[0;34m.\u001b[0m\u001b[0mpenalty\u001b[0m\u001b[0;34m,\u001b[0m \u001b[0mvariables\u001b[0m\u001b[0;34m,\u001b[0m \u001b[0;34m**\u001b[0m\u001b[0mfmin_kws\u001b[0m\u001b[0;34m)\u001b[0m\u001b[0;34m\u001b[0m\u001b[0m\n\u001b[0m\u001b[1;32m    787\u001b[0m             \u001b[0;32mexcept\u001b[0m \u001b[0mAbortFitException\u001b[0m\u001b[0;34m:\u001b[0m\u001b[0;34m\u001b[0m\u001b[0m\n\u001b[1;32m    788\u001b[0m                 \u001b[0;32mpass\u001b[0m\u001b[0;34m\u001b[0m\u001b[0m\n",
      "\u001b[0;32m/usr/local/lib/python3.5/dist-packages/scipy/optimize/_minimize.py\u001b[0m in \u001b[0;36mminimize\u001b[0;34m(fun, x0, args, method, jac, hess, hessp, bounds, constraints, tol, callback, options)\u001b[0m\n\u001b[1;32m    473\u001b[0m                       callback=callback, **options)\n\u001b[1;32m    474\u001b[0m     \u001b[0;32melif\u001b[0m \u001b[0mmeth\u001b[0m \u001b[0;34m==\u001b[0m \u001b[0;34m'nelder-mead'\u001b[0m\u001b[0;34m:\u001b[0m\u001b[0;34m\u001b[0m\u001b[0m\n\u001b[0;32m--> 475\u001b[0;31m         \u001b[0;32mreturn\u001b[0m \u001b[0m_minimize_neldermead\u001b[0m\u001b[0;34m(\u001b[0m\u001b[0mfun\u001b[0m\u001b[0;34m,\u001b[0m \u001b[0mx0\u001b[0m\u001b[0;34m,\u001b[0m \u001b[0margs\u001b[0m\u001b[0;34m,\u001b[0m \u001b[0mcallback\u001b[0m\u001b[0;34m,\u001b[0m \u001b[0;34m**\u001b[0m\u001b[0moptions\u001b[0m\u001b[0;34m)\u001b[0m\u001b[0;34m\u001b[0m\u001b[0m\n\u001b[0m\u001b[1;32m    476\u001b[0m     \u001b[0;32melif\u001b[0m \u001b[0mmeth\u001b[0m \u001b[0;34m==\u001b[0m \u001b[0;34m'powell'\u001b[0m\u001b[0;34m:\u001b[0m\u001b[0;34m\u001b[0m\u001b[0m\n\u001b[1;32m    477\u001b[0m         \u001b[0;32mreturn\u001b[0m \u001b[0m_minimize_powell\u001b[0m\u001b[0;34m(\u001b[0m\u001b[0mfun\u001b[0m\u001b[0;34m,\u001b[0m \u001b[0mx0\u001b[0m\u001b[0;34m,\u001b[0m \u001b[0margs\u001b[0m\u001b[0;34m,\u001b[0m \u001b[0mcallback\u001b[0m\u001b[0;34m,\u001b[0m \u001b[0;34m**\u001b[0m\u001b[0moptions\u001b[0m\u001b[0;34m)\u001b[0m\u001b[0;34m\u001b[0m\u001b[0m\n",
      "\u001b[0;32m/usr/local/lib/python3.5/dist-packages/scipy/optimize/optimize.py\u001b[0m in \u001b[0;36m_minimize_neldermead\u001b[0;34m(func, x0, args, callback, maxiter, maxfev, disp, return_all, initial_simplex, xatol, fatol, **unknown_options)\u001b[0m\n\u001b[1;32m    530\u001b[0m \u001b[0;34m\u001b[0m\u001b[0m\n\u001b[1;32m    531\u001b[0m     \u001b[0;32mfor\u001b[0m \u001b[0mk\u001b[0m \u001b[0;32min\u001b[0m \u001b[0mrange\u001b[0m\u001b[0;34m(\u001b[0m\u001b[0mN\u001b[0m \u001b[0;34m+\u001b[0m \u001b[0;36m1\u001b[0m\u001b[0;34m)\u001b[0m\u001b[0;34m:\u001b[0m\u001b[0;34m\u001b[0m\u001b[0m\n\u001b[0;32m--> 532\u001b[0;31m         \u001b[0mfsim\u001b[0m\u001b[0;34m[\u001b[0m\u001b[0mk\u001b[0m\u001b[0;34m]\u001b[0m \u001b[0;34m=\u001b[0m \u001b[0mfunc\u001b[0m\u001b[0;34m(\u001b[0m\u001b[0msim\u001b[0m\u001b[0;34m[\u001b[0m\u001b[0mk\u001b[0m\u001b[0;34m]\u001b[0m\u001b[0;34m)\u001b[0m\u001b[0;34m\u001b[0m\u001b[0m\n\u001b[0m\u001b[1;32m    533\u001b[0m \u001b[0;34m\u001b[0m\u001b[0m\n\u001b[1;32m    534\u001b[0m     \u001b[0mind\u001b[0m \u001b[0;34m=\u001b[0m \u001b[0mnumpy\u001b[0m\u001b[0;34m.\u001b[0m\u001b[0margsort\u001b[0m\u001b[0;34m(\u001b[0m\u001b[0mfsim\u001b[0m\u001b[0;34m)\u001b[0m\u001b[0;34m\u001b[0m\u001b[0m\n",
      "\u001b[0;31mValueError\u001b[0m: setting an array element with a sequence."
     ]
    }
   ],
   "source": [
    "h_bet_pause, h_va_pause = {'expectation':[], 'max':[]}, {'expectation':[], 'max':[]}\n",
    "h_bet_block, h_va_block = {'expectation':[], 'max':[]}, {'expectation':[], 'max':[]}\n",
    "h_bet_sujet, h_va_sujet = {'expectation':[], 'max':[]}, {'expectation':[], 'max':[]}\n",
    "\n",
    "for x in range(len(exp)) :\n",
    "    \n",
    "    prob_sujet, bet_sujet, a_anti_sujet = [], [], []\n",
    "\n",
    "    p = exp[x]['p']\n",
    "    tau = exp[x]['N_trials']/5.\n",
    "    h = 1./tau \n",
    "    #hs = h*np.logspace(-1., 1., 50)\n",
    "    #print(hs)\n",
    "    bet = (exp[x]['results']+1)/2 # results est sur [-1,1] on le ramene sur [0,1]\n",
    "    a_anti = param[x]['a_anti']\n",
    "\n",
    "    for s, mode in enumerate(['expectation', 'max']):\n",
    "        h_bet_block[mode].append([])\n",
    "        h_bet_pause[mode].append([])\n",
    "        h_va_block[mode].append([])\n",
    "        h_va_pause[mode].append([])\n",
    "        \n",
    "        if mode=='expectation':\n",
    "            num_mode=0\n",
    "        elif mode=='max':\n",
    "            num_mode=1\n",
    "        \n",
    "        for block in range(exp[x]['N_blocks']):\n",
    "\n",
    "            prob_block = p[:, block, 0]\n",
    "            h_bet, h_va = fit(h, prob_block, bet[:, block], a_anti[block], num_mode)\n",
    "            \n",
    "            h_bet_block[mode][x].append(h_bet)\n",
    "            h_va_block[mode][x].append(h_va)\n",
    "\n",
    "            prob_sujet.extend(p[:, block, 0])\n",
    "            bet_sujet.extend(bet[:, block])\n",
    "            a_anti_sujet.extend(a_anti[block])\n",
    "            #----------------------------------------------------\n",
    "            # Pour chaque pause !\n",
    "            #----------------------------------------------------\n",
    "            liste = [0,50,100,150,200]\n",
    "            for a in range(len(liste)-1) :\n",
    "                prob_pause = p[liste[a]:liste[a+1], block, 0]\n",
    "                bet_p = bet[liste[a]:liste[a+1], block]\n",
    "                v_p = a_anti[block][liste[a]:liste[a+1]]\n",
    "                h_bet, h_va = fit(h, prob_pause, bet_p, v_p, num_mode)\n",
    "                \n",
    "                h_bet_pause[mode][x].append(h_bet)\n",
    "                h_va_pause[mode][x].append(h_va)\n",
    "                \n",
    "\n",
    "        h_bet, h_va = fit(h, prob_sujet, bet_sujet, a_anti_sujet, num_mode)\n",
    "        h_bet_sujet[mode].append(h_bet)\n",
    "        h_va_sujet[mode].append(h_va)"
   ]
  },
  {
   "cell_type": "markdown",
   "metadata": {},
   "source": [
    "/!\\ a réglé !!!"
   ]
  },
  {
   "cell_type": "code",
   "execution_count": null,
   "metadata": {
    "ExecuteTime": {
     "end_time": "2018-07-13T14:14:49.309014Z",
     "start_time": "2018-07-13T14:14:47.751655Z"
    }
   },
   "outputs": [],
   "source": [
    "fig, axs = plt.subplots(1, 2, figsize=((fig_width), (fig_width)/(1.6180*2)))\n",
    "plt.suptitle('Sujet', fontsize=20, y=1.05)\n",
    "\n",
    "for s, mode in enumerate(['expectation', 'max']):\n",
    "    for x, color in enumerate(COLOR[:len(list_sujet)]):\n",
    "        axs[s].scatter(h_bet_sujet[mode][x], h_va_sujet[mode][x],color=color)\n",
    "        \n",
    "    #------------------------------------------------------------------------\n",
    "    axs[s].set_title('mode %s'%mode, fontsize=20)\n",
    "    axs[s].set_xlabel('h$_{bet}$', fontsize=14)\n",
    "    axs[s].set_ylabel('h$_{v_a}$', fontsize=14)\n",
    "    axs[s].axis([-0.03 ,1.03,-0.03,1.03])\n",
    "\n",
    "\n",
    "    regress(axs[s], h_bet_sujet[mode], h_va_sujet[mode], 'k')\n",
    "\n",
    "plt.show()"
   ]
  },
  {
   "cell_type": "code",
   "execution_count": null,
   "metadata": {
    "ExecuteTime": {
     "end_time": "2018-07-13T14:14:49.372316Z",
     "start_time": "2018-07-13T14:14:49.316742Z"
    },
    "collapsed": true
   },
   "outputs": [],
   "source": [
    "new_h_bet_block, new_h_va_block = {'expectation':[], 'max':[]}, {'expectation':[], 'max':[]}\n",
    "#new_h_bet_pause, new_h_va_pause = {'expectation':[], 'max':[]}, {'expectation':[], 'max':[]}\n",
    "\n",
    "for mode in ['expectation', 'max']:\n",
    "    for x in range(len(h_bet_block[mode][0])):\n",
    "        new_h_bet_block[mode].append([])\n",
    "        new_h_va_block[mode].append([])\n",
    "        for a in range(len(h_bet_block[mode])):\n",
    "            new_h_bet_block[mode][x].append(h_bet_block[mode][a][x])\n",
    "            new_h_va_block[mode][x].append(h_va_block[mode][a][x])\n",
    "\n",
    "    for x in range(len(h_bet_pause[mode][0])):\n",
    "        new_h_bet_pause[mode].append([])\n",
    "        new_h_va_pause[mode].append([])\n",
    "        for a in range(len(h_bet_pause[mode])):\n",
    "            new_h_bet_pause[mode][x].append(h_bet_pause[mode][a][x])\n",
    "            new_h_va_pause[mode][x].append(h_va_pause[mode][a][x])"
   ]
  },
  {
   "cell_type": "code",
   "execution_count": null,
   "metadata": {
    "ExecuteTime": {
     "end_time": "2018-07-13T14:14:50.409909Z",
     "start_time": "2018-07-13T14:14:49.380103Z"
    }
   },
   "outputs": [],
   "source": [
    "scatter_mean(new_h_bet_block, new_h_va_block, 'Moyenne par block');"
   ]
  },
  {
   "cell_type": "code",
   "execution_count": null,
   "metadata": {
    "ExecuteTime": {
     "end_time": "2018-07-13T14:14:51.782444Z",
     "start_time": "2018-07-13T14:14:50.416465Z"
    }
   },
   "outputs": [],
   "source": [
    "scatter_mean(new_h_bet_pause, new_h_va_pause, 'Moyenne par pause')"
   ]
  },
  {
   "cell_type": "code",
   "execution_count": null,
   "metadata": {
    "ExecuteTime": {
     "end_time": "2018-07-13T14:14:53.660264Z",
     "start_time": "2018-07-13T14:14:51.790452Z"
    }
   },
   "outputs": [],
   "source": [
    "scatter_mean(h_bet_block, h_va_block, 'Moyenne par Sujet block')"
   ]
  },
  {
   "cell_type": "code",
   "execution_count": null,
   "metadata": {
    "ExecuteTime": {
     "end_time": "2018-07-13T14:14:55.026227Z",
     "start_time": "2018-07-13T14:14:53.667132Z"
    },
    "scrolled": false
   },
   "outputs": [],
   "source": [
    "scatter_mean(h_bet_pause, h_va_pause, 'Moyenne par Sujet pause')"
   ]
  },
  {
   "cell_type": "code",
   "execution_count": null,
   "metadata": {
    "ExecuteTime": {
     "end_time": "2018-07-13T14:15:15.675514Z",
     "start_time": "2018-07-13T14:14:55.033225Z"
    },
    "scrolled": false
   },
   "outputs": [],
   "source": [
    "scatter_full(h_bet_pause, h_va_pause, 'Tout les sujets pause')"
   ]
  },
  {
   "cell_type": "code",
   "execution_count": null,
   "metadata": {
    "ExecuteTime": {
     "end_time": "2018-07-13T14:15:28.483859Z",
     "start_time": "2018-07-13T14:15:15.682473Z"
    },
    "scrolled": false
   },
   "outputs": [],
   "source": [
    "scatter_full(h_bet_block, h_va_block, 'Tout les sujets block')"
   ]
  },
  {
   "cell_type": "code",
   "execution_count": null,
   "metadata": {
    "collapsed": true
   },
   "outputs": [],
   "source": []
  }
 ],
 "metadata": {
  "kernelspec": {
   "display_name": "Python 3",
   "language": "python",
   "name": "python3"
  },
  "language_info": {
   "codemirror_mode": {
    "name": "ipython",
    "version": 3
   },
   "file_extension": ".py",
   "mimetype": "text/x-python",
   "name": "python",
   "nbconvert_exporter": "python",
   "pygments_lexer": "ipython3",
   "version": "3.7.1"
  },
  "toc": {
   "base_numbering": 1,
   "nav_menu": {
    "height": "48px",
    "width": "252px"
   },
   "number_sections": true,
   "sideBar": true,
   "skip_h1_title": false,
   "title_cell": "Table of Contents",
   "title_sidebar": "Contents",
   "toc_cell": false,
   "toc_position": {},
   "toc_section_display": "block",
   "toc_window_display": false
  }
 },
 "nbformat": 4,
 "nbformat_minor": 2
}
