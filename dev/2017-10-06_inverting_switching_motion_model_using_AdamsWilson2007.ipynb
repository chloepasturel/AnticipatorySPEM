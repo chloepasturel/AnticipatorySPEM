{
 "cells": [
  {
   "cell_type": "code",
   "execution_count": 1,
   "metadata": {
    "collapsed": true
   },
   "outputs": [],
   "source": [
    "%load_ext autoreload\n",
    "%autoreload 2\n",
    "from __future__ import division, print_function, absolute_import\n",
    "import numpy as np\n",
    "import matplotlib.pyplot as plt\n",
    "fig_width = 12\n",
    "%matplotlib inline"
   ]
  },
  {
   "cell_type": "markdown",
   "metadata": {},
   "source": [
    "\n",
    "TODO: issues at github\n",
    "\n",
    "TODO: mark all pauses \n",
    "\n",
    "TODO: copy working notebooks inot functions in the script + main folder\n",
    "\n",
    "\n",
    "# the switching binomial generative model\n",
    "## the data to model"
   ]
  },
  {
   "cell_type": "code",
   "execution_count": 2,
   "metadata": {},
   "outputs": [
    {
     "data": {
      "image/png": "[encoded data removed]",
      "text/plain": [
       "<matplotlib.figure.Figure at 0x11008def0>"
      ]
     },
     "metadata": {},
     "output_type": "display_data"
    }
   ],
   "source": [
    "import sys\n",
    "sys.path.append('..')\n",
    "\n",
    "from aSPEM import binomial_motion, aSPEM\n",
    "\n",
    "import time\n",
    "a = aSPEM(mode='pari', timeStr = time.strftime(\"%Y-%m-%d_%H%M%S\", time.localtime()))\n",
    "fig, axs, p = a.plot()"
   ]
  },
  {
   "cell_type": "raw",
   "metadata": {},
   "source": [
    "\n",
    "seed = 42\n",
    "np.random.seed(seed)\n",
    "N_time = 1000\n",
    "N_trials = 4\n",
    "\n",
    "tau = 25.\n",
    "N_blocks = 3 # 4 blocks avant\n",
    "seed = 51 #119 #2017\n",
    "N_trials = 10 #200\n",
    "tau = N_trials/5.\n",
    "(trials, p) = binomial_motion(N_trials=N_trials, N_blocks=N_blocks, tau=tau, seed=seed)\n"
   ]
  },
  {
   "cell_type": "code",
   "execution_count": 3,
   "metadata": {},
   "outputs": [
    {
     "data": {
      "text/plain": [
       "(200, 3, 3)"
      ]
     },
     "execution_count": 3,
     "metadata": {},
     "output_type": "execute_result"
    }
   ],
   "source": [
    "p.shape"
   ]
  },
  {
   "cell_type": "code",
   "execution_count": 6,
   "metadata": {},
   "outputs": [
    {
     "name": "stdout",
     "output_type": "stream",
     "text": [
      "occurrences= [ 0.  1.  1.  0.  1.  0.  0.  1.  0.  0.  1.  1.  0.  1.  1.  1.  0.  1.\n",
      "  1.  0.  1.  1.  0.  0.  0.  1.  1.  1.  1.  0.  1.  1.  1.  1.  0.  0.\n",
      "  0.  0.  1.  1.  1.  1.  0.  0.  1.  1.  1.  1.  0.  1.  1.  1.  1.  0.\n",
      "  0.  0.  0.  0.  0.  1.  0.  0.  0.  0.  1.  0.  0.  0.  0.  0.  0.  0.\n",
      "  0.  0.  0.  0.  0.  0.  0.  0.  0.  0.  1.  0.  0.  1.  1.  0.  1.  1.\n",
      "  0.  1.  1.  1.  1.  1.  1.  1.  1.  1.  1.  0.  1.  1.  0.  0.  0.  0.\n",
      "  0.  0.  0.  1.  0.  0.  0.  1.  1.  0.  0.  0.  1.  0.  0.  1.  0.  0.\n",
      "  0.  0.  0.  0.  0.  0.  0.  1.  0.  0.  0.  0.  0.  0.  0.  0.  0.  1.\n",
      "  0.  0.  1.  0.  0.  0.  0.  0.  0.  0.  0.  0.  0.  0.  0.  0.  0.  0.\n",
      "  0.  0.  0.  0.  0.  0.  0.  0.  0.  0.  0.  0.  0.  0.  0.  0.  0.  1.\n",
      "  1.  1.  1.  1.  1.  1.  1.  0.  1.  0.  0.  1.  0.  0.  0.  0.  1.  0.\n",
      "  1.  1.]\n",
      "p= [ 0.64752352  0.64752352  0.64752352  0.64752352  0.64752352  0.64752352\n",
      "  0.64752352  0.64752352  0.64752352  0.64752352  0.64752352  0.64752352\n",
      "  0.64752352  0.64752352  0.64752352  0.64752352  0.64752352  0.64752352\n",
      "  0.64752352  0.64752352  0.64752352  0.64752352  0.64752352  0.64752352\n",
      "  0.64752352  0.64752352  0.64752352  0.64752352  0.64752352  0.64752352\n",
      "  0.64752352  0.64752352  0.64752352  0.64752352  0.64752352  0.64752352\n",
      "  0.64752352  0.64752352  0.64752352  0.64752352  0.64752352  0.64752352\n",
      "  0.64752352  0.64752352  0.64752352  0.64752352  0.64752352  0.64752352\n",
      "  0.64752352  0.64752352  0.64752352  0.64752352  0.64752352  0.15951564\n",
      "  0.15951564  0.15951564  0.15951564  0.15951564  0.15951564  0.15951564\n",
      "  0.15951564  0.15951564  0.15951564  0.15951564  0.15951564  0.15951564\n",
      "  0.15951564  0.15951564  0.15951564  0.15951564  0.15951564  0.15951564\n",
      "  0.15951564  0.15951564  0.15951564  0.15951564  0.15951564  0.15951564\n",
      "  0.15951564  0.15951564  0.15951564  0.15951564  0.15951564  0.15951564\n",
      "  0.15951564  0.15951564  0.15951564  0.15951564  0.70080932  0.70080932\n",
      "  0.70080932  0.70080932  0.70080932  0.70080932  0.70080932  0.70080932\n",
      "  0.70080932  0.70080932  0.70080932  0.70080932  0.70080932  0.70080932\n",
      "  0.70080932  0.3634582   0.3634582   0.3634582   0.3634582   0.3634582\n",
      "  0.3634582   0.3634582   0.3634582   0.3634582   0.3634582   0.3634582\n",
      "  0.3634582   0.3634582   0.3634582   0.3634582   0.3634582   0.3634582\n",
      "  0.3634582   0.3634582   0.3634582   0.3634582   0.3634582   0.02164071\n",
      "  0.02164071  0.02164071  0.02164071  0.02164071  0.02164071  0.02164071\n",
      "  0.02164071  0.02164071  0.02164071  0.02164071  0.02164071  0.02164071\n",
      "  0.02164071  0.02164071  0.02164071  0.02164071  0.02164071  0.02164071\n",
      "  0.02164071  0.02164071  0.02164071  0.02164071  0.02164071  0.02164071\n",
      "  0.02164071  0.02164071  0.02164071  0.02164071  0.02164071  0.02164071\n",
      "  0.02164071  0.02164071  0.02164071  0.02164071  0.02164071  0.02164071\n",
      "  0.02164071  0.02164071  0.02164071  0.02164071  0.02164071  0.02164071\n",
      "  0.02164071  0.02164071  0.02164071  0.02164071  0.02164071  0.02164071\n",
      "  0.02164071  0.02164071  0.02164071  0.02164071  0.02164071  0.77096418\n",
      "  0.77096418  0.77096418  0.77096418  0.77096418  0.77096418  0.77096418\n",
      "  0.77096418  0.77096418  0.77096418  0.77096418  0.77096418  0.77096418\n",
      "  0.77096418  0.1798759   0.1798759   0.1798759   0.1798759   0.1798759\n",
      "  0.1798759   0.1798759 ]\n",
      "switches= [ 0.  0.  0.  0.  0.  0.  0.  0.  0.  0.  0.  0.  0.  0.  0.  0.  0.  0.\n",
      "  0.  0.  0.  0.  0.  0.  0.  0.  0.  0.  0.  0.  0.  0.  0.  0.  0.  0.\n",
      "  0.  0.  0.  0.  0.  0.  0.  0.  0.  0.  0.  0.  0.  0.  0.  0.  0.  1.\n",
      "  0.  0.  0.  0.  0.  0.  0.  0.  0.  0.  0.  0.  0.  0.  0.  0.  0.  0.\n",
      "  0.  0.  0.  0.  0.  0.  0.  0.  0.  0.  0.  0.  0.  0.  0.  0.  1.  0.\n",
      "  0.  0.  0.  0.  0.  0.  0.  0.  0.  0.  0.  0.  0.  1.  0.  0.  0.  0.\n",
      "  0.  0.  0.  0.  0.  0.  0.  0.  0.  0.  0.  0.  0.  0.  0.  0.  0.  1.\n",
      "  0.  0.  0.  0.  0.  0.  0.  0.  0.  0.  0.  0.  0.  0.  0.  0.  0.  0.\n",
      "  0.  0.  0.  0.  0.  0.  0.  0.  0.  0.  0.  0.  0.  0.  0.  0.  0.  0.\n",
      "  0.  0.  0.  0.  0.  0.  0.  0.  0.  0.  0.  0.  0.  0.  0.  0.  0.  1.\n",
      "  0.  0.  0.  0.  0.  0.  0.  0.  0.  0.  0.  0.  0.  1.  0.  0.  0.  0.\n",
      "  0.  0.]\n"
     ]
    }
   ],
   "source": [
    "i_block = 0\n",
    "print('occurrences=', p[:, i_block, 0])\n",
    "print('p=', p[:, i_block, 1])\n",
    "print('switches=', p[:, i_block, -1])"
   ]
  },
  {
   "cell_type": "code",
   "execution_count": 8,
   "metadata": {},
   "outputs": [
    {
     "data": {
      "text/plain": [
       "200"
      ]
     },
     "execution_count": 8,
     "metadata": {},
     "output_type": "execute_result"
    }
   ],
   "source": [
    "a.exp['N_trials']\n",
    "\n"
   ]
  },
  {
   "cell_type": "code",
   "execution_count": null,
   "metadata": {
    "collapsed": true
   },
   "outputs": [],
   "source": [
    "# -*- coding: utf8 -*-\n",
    "\"\"\"\n",
    " An implementation of:\n",
    " @TECHREPORT{ adams-mackay-2007,\n",
    "    AUTHOR = {Ryan Prescott Adams and David J.C. MacKay},\n",
    "    TITLE  = \"{B}ayesian Online Changepoint Detection\",\n",
    "    INSTITUTION = \"University of Cambridge\",\n",
    "    ADDRESS = \"Cambridge, UK\",\n",
    "    YEAR = \"2007\",\n",
    "    NOTE = \"arXiv:0710.3742v1 [stat.ML]\"\n",
    " }\n",
    " \n",
    " adapted from\n",
    "    url='https://github.com/laurentperrinet/bayesianchangepoint',\n",
    "    \n",
    " by\n",
    "    Copyright 2013 Jack Kelly (aka Daniel) jack@jack-kelly.com\n",
    "    author='Jack Kelly',\n",
    "    author_email='jack@jack-kelly.com',\n",
    " \n",
    "\n",
    "\"\"\"\n",
    "from __future__ import print_function, division\n",
    "import numpy as np\n",
    "from numpy.random import gamma, randn, rand\n",
    "from scipy.special import gammaln\n",
    "\n",
    "def inference(x, hazard_func, mu0=0, kappa0=1, alpha0=1, beta0=1):\n",
    "    \"\"\"\n",
    "    Args:\n",
    "      * x (np.ndarray): data\n",
    "      * hazard_func (function):\n",
    "        This is a handle to a function that takes one argument, the number of\n",
    "        time increments since the last changepoint, and returns a value in the\n",
    "        interval [0,1] that is the probability of a changepoint.\n",
    "        e.g. hazard_func=lambda beliefs: constant_hazard(beliefs, 200)\n",
    "\n",
    "      * mu0, kappa0, alpha0, beta0 (float): specify normal-inverse-gamma prior.\n",
    "        This data is Gaussian with unknown mean and variance.  We are going to\n",
    "        use the standard conjugate prior of a normal-inverse-gamma.  Note that\n",
    "        one cannot use non-informative priors for changepoint detection in\n",
    "        this construction.  The normal-inverse-gamma yields a closed-form\n",
    "        predictive distribution, which makes it easy to use in this context.\n",
    "        There are lots of references out there for doing this kind of inference:\n",
    "          - Chris Bishop's \"Pattern Recognition and Machine Learning\" Chapter 2\n",
    "          - Also, Kevin Murphy's lecture notes.\n",
    "    \"\"\"\n",
    "\n",
    "    # First, setup the matrix that will hold our beliefs about the current\n",
    "    # run lengths.  We'll initialize it all to zero at first.  Obviously\n",
    "    # we're assuming here that we know how long we're going to do the\n",
    "    # inference.  You can imagine other data structures that don't make that\n",
    "    # assumption (e.g. linked lists).  We're doing this because it's easy.\n",
    "    beliefs = np.zeros([x.size+1, x.size+1])\n",
    "\n",
    "    # At time t=0, we actually have complete knowledge about the run\n",
    "    # length.  It is definitely zero.  See the paper for other possible\n",
    "    # boundary conditions.  'beliefs' is called 'R' in gaussdemo.m.\n",
    "    beliefs[0,0] = 1.0\n",
    "\n",
    "    # Convert floats to arrays\n",
    "    mu0    = np.array([mu0])\n",
    "    kappa0 = np.array([kappa0])\n",
    "    alpha0 = np.array([alpha0])\n",
    "    beta0  = np.array([beta0])\n",
    "\n",
    "    # Track the current set of parameters.  These start out at the prior and\n",
    "    # accumulate data as we proceed.\n",
    "    muT    = mu0\n",
    "    kappaT = kappa0\n",
    "    alphaT = alpha0\n",
    "    betaT  = beta0\n",
    "\n",
    "    # Keep track of the maximums.\n",
    "    maxes  = np.zeros([x.size+1, x.size+1])\n",
    "\n",
    "    # Loop over the data like we're seeing it all for the first time.\n",
    "    for t in range(x.size):\n",
    "\n",
    "        # Evaluate the predictive distribution for the new datum under each of\n",
    "        # the parameters.  This is the standard thing from Bayesian inference.\n",
    "        predprobs = studentpdf(x[t], muT,\n",
    "                               betaT*(kappaT+1)/(alphaT*kappaT),\n",
    "                               2 * alphaT)\n",
    "\n",
    "        # Evaluate the hazard function for this interval.\n",
    "        haz = hazard_func(np.arange(t+1))\n",
    "\n",
    "        # Evaluate the growth probabilities - shift the probabilities down and to\n",
    "        # the right, scaled by the hazard function and the predictive\n",
    "        # probabilities.\n",
    "        beliefs[1:t+2,t+1] = beliefs[0:t+1,t] * predprobs * (1-haz)\n",
    "\n",
    "        # Evaluate the probability that there *was* a changepoint and we're\n",
    "        # accumulating the mass back down at beliefs = 0.\n",
    "        beliefs[0,t+1] = (beliefs[0:t+1,t] * predprobs * haz).sum()\n",
    "\n",
    "        # Renormalize the run length probabilities for improved numerical\n",
    "        # stability.\n",
    "        beliefs[:,t+1] = beliefs[:,t+1] / beliefs[:,t+1].sum()\n",
    "\n",
    "        # Update the parameter sets for each possible run length.\n",
    "        # TODO: continue porting from here...\n",
    "\n",
    "        muT0    = np.concatenate([mu0   , (kappaT*muT + x[t]) / (kappaT+1) ])\n",
    "        kappaT0 = np.concatenate([kappa0, kappaT + 1 ])\n",
    "        alphaT0 = np.concatenate([alpha0, alphaT + 0.5 ])\n",
    "        betaT0  = np.concatenate([beta0 , kappaT +\n",
    "                                          (kappaT*(x[t]-muT)**2)/(2*(kappaT+1))])\n",
    "        muT     = muT0\n",
    "        kappaT  = kappaT0\n",
    "        alphaT  = alphaT0\n",
    "        betaT   = betaT0\n",
    "\n",
    "        # Store the maximum, to plot later.\n",
    "        maxes[t] = np.where(beliefs[:,t]==beliefs[:,t].max())[0]\n",
    "\n",
    "    return beliefs, maxes\n"
   ]
  }
 ],
 "metadata": {
  "kernel_info": {
   "name": "python3"
  },
  "kernelspec": {
   "display_name": "Python 3",
   "language": "python",
   "name": "python3"
  },
  "language_info": {
   "codemirror_mode": {
    "name": "ipython",
    "version": 3
   },
   "file_extension": ".py",
   "mimetype": "text/x-python",
   "name": "python",
   "nbconvert_exporter": "python",
   "pygments_lexer": "ipython3",
   "version": "3.6.3"
  }
 },
 "nbformat": 4,
 "nbformat_minor": 1
}
