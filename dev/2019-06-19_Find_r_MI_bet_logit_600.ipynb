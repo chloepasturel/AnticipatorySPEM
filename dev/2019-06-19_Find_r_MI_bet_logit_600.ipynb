{
 "cells": [
  {
   "cell_type": "markdown",
   "metadata": {},
   "source": [
    "# aSPEM Experiment : analysis\n",
    "\n",
    "\n",
    "Test de différtentes pentes $k$ pour la relation entre $p_bet$ et $\\hat{p}$\n"
   ]
  },
  {
   "cell_type": "code",
   "execution_count": 1,
   "metadata": {
    "scrolled": false
   },
   "outputs": [
    {
     "name": "stdout",
     "output_type": "stream",
     "text": [
      "\n",
      "WELCOME\n",
      "\n"
     ]
    }
   ],
   "source": [
    "%run ../0_parameters.ipynb"
   ]
  },
  {
   "cell_type": "code",
   "execution_count": 2,
   "metadata": {},
   "outputs": [],
   "source": [
    "import glob\n",
    "import bayesianchangepoint as bcp"
   ]
  },
  {
   "cell_type": "raw",
   "metadata": {},
   "source": [
    "!ls data/"
   ]
  },
  {
   "cell_type": "code",
   "execution_count": 3,
   "metadata": {
    "ExecuteTime": {
     "end_time": "2018-07-13T14:09:02.593758Z",
     "start_time": "2018-07-13T14:09:02.547277Z"
    },
    "scrolled": true
   },
   "outputs": [],
   "source": [
    "liste = []\n",
    "for fname in glob.glob('data/*pkl'):\n",
    "    a = fname.split('/')[1].split('.')[0].split('_')\n",
    "    liste.append(a)"
   ]
  },
  {
   "cell_type": "code",
   "execution_count": 4,
   "metadata": {},
   "outputs": [],
   "source": [
    "from aSPEM import Analysis\n",
    "e = Analysis(name_file_fit='fct_velocity_sigmo')"
   ]
  },
  {
   "cell_type": "code",
   "execution_count": 5,
   "metadata": {},
   "outputs": [],
   "source": [
    "def sigmoid(y):\n",
    "    return 1 / (1 + np.exp(-y))\n",
    "def logit(p):\n",
    "    return np.log(p / (1 - p))"
   ]
  },
  {
   "cell_type": "code",
   "execution_count": 6,
   "metadata": {},
   "outputs": [],
   "source": [
    "def r_(p, data) :\n",
    "    \n",
    "    p = np.ma.masked_array(p, mask=np.isnan(data)).compressed()\n",
    "    data = np.ma.masked_array(data, mask=np.isnan(data)).compressed()\n",
    "\n",
    "    from scipy import stats\n",
    "    slope, intercept, r_, p_value, std_err = stats.linregress(p, data)\n",
    "    \n",
    "    return r_"
   ]
  },
  {
   "cell_type": "code",
   "execution_count": null,
   "metadata": {},
   "outputs": [],
   "source": [
    "def mutual_information(p, data, bin_p=5, sub_data=40):\n",
    "    \n",
    "    x = np.ma.masked_array(p, mask=np.isnan(data)).compressed()\n",
    "    y = np.ma.masked_array(data, mask=np.isnan(data)).compressed()\n",
    "\n",
    "    support_x = np.linspace(min(x), max(x), bin_p)\n",
    "    support_y = np.linspace(min(y), max(y), int(len(data)/sub_data))\n",
    "\n",
    "    summation = 0.00\n",
    "    for a in range(len(support_x)-1):\n",
    "        for b in range(len(support_y)-1):\n",
    "            ind_x = np.where((x>=support_x[a]) & (x<=support_x[a+1]))[0]\n",
    "            ind_y = np.where((y>=support_y[b]) & (y<=support_y[b+1]))[0]\n",
    "\n",
    "            px = len(ind_x) / len(x)\n",
    "            py = len(ind_y) / len(x)\n",
    "            pxy = len(np.where(np.in1d(ind_x, ind_y)==True)[0]) / len(x)\n",
    "\n",
    "            if pxy>0.00: summation += pxy * np.log2(pxy / (px*py))\n",
    "\n",
    "\n",
    "    return summation"
   ]
  },
  {
   "cell_type": "code",
   "execution_count": 7,
   "metadata": {},
   "outputs": [],
   "source": [
    "import pickle"
   ]
  },
  {
   "cell_type": "code",
   "execution_count": null,
   "metadata": {},
   "outputs": [],
   "source": [
    "Full = e.Full_list(modes_bcp=[])\n",
    "modes_bcp = 'mean'\n",
    "tau = np.arange(1, 601, 1) #np.arange(1, 602, 1)\n",
    "list_h = 1/tau\n",
    "#print(h)\n",
    "\n",
    "def find_r_MI(regress='r', pause=True) :\n",
    "    r_k_s = {}\n",
    "    for num, s in enumerate(list(set(Full.sujet))):\n",
    "        print(s, end=' ')\n",
    "\n",
    "        bet = Full['results'][Full.sujet==s].values.tolist()\n",
    "        x = np.array(Full['bino'][Full.sujet==s].values.tolist())\n",
    "\n",
    "        r_k_s[s] = {'sslogit':[]}\n",
    "\n",
    "        for num, k in enumerate(np.logspace(-1, 1, 10, base=2)) :\n",
    "\n",
    "            r_bet_l, r_bet_ = [], []\n",
    "\n",
    "            for h in list_h :\n",
    "\n",
    "                if pause==True :\n",
    "                    p_hat = np.zeros(600)\n",
    "                    liste = np.arange(0, 601, 50)\n",
    "                    for a in range(len(liste)-1) :\n",
    "                        p_bar, r_bar, beliefs = bcp.inference(x[liste[a]:liste[a+1]], h=h, p0=.5, r0=1.)\n",
    "                        p_hat_p, r_hat = bcp.readout(p_bar, r_bar, beliefs, mode=modes_bcp, p0=.5, fixed_window_size=40)\n",
    "                        p_hat[liste[a]:liste[a+1]] = p_hat_p\n",
    "                else :\n",
    "                    p_bar, r_bar, beliefs = bcp.inference(x, h=h, p0=.5, r0=1.)\n",
    "                    p_hat, r_hat = bcp.readout(p_bar, r_bar, beliefs, mode=modes_bcp, p0=.5, fixed_window_size=40)\n",
    "            \n",
    "                    \n",
    "                if regress=='r' :\n",
    "                        if num==0 : r_bet_.append(r_(p_hat.tolist(), bet))\n",
    "                        r_bet_l.append(r_(sigmoid(k*logit(p_hat)), bet))\n",
    "                    elif regress=='MI' :\n",
    "                        if num==0 : r_bet_.append(mutual_information(p_hat.tolist(), bet))\n",
    "                        r_bet_l.append(mutual_information(sigmoid(k*logit(p_hat)), bet))\n",
    "\n",
    "            if num==0 : r_k_s[s]['sslogit']=r_bet_\n",
    "            r_k_s[s][k]=r_bet_l"
   ]
  },
  {
   "cell_type": "code",
   "execution_count": null,
   "metadata": {},
   "outputs": [],
   "source": [
    "r_k_s = find_r_MI(regress='MI', pause=True)\n",
    "\n",
    "recording = {}\n",
    "recording['list_h'] = list_h\n",
    "recording['list_tau'] = tau\n",
    "recording['list_pente'] = np.logspace(-1, 1, 10, base=2)\n",
    "recording['r_bet_k'] = r_k_s\n",
    "\n",
    "file = os.path.join('parametre', 'list_MI_bet_logit_600.pkl')\n",
    "with open(file, 'wb') as fichier:\n",
    "    f = pickle.Pickler(fichier)\n",
    "    f.dump(recording)"
   ]
  },
  {
   "cell_type": "raw",
   "metadata": {},
   "source": [
    "r_k_s = find_r_MI(regress='MI', pause=False)\n",
    "\n",
    "recording = {}\n",
    "recording['list_h'] = list_h\n",
    "recording['list_tau'] = tau\n",
    "recording['list_pente'] = np.logspace(-1, 1, 10, base=2)\n",
    "recording['r_bet_k'] = r_k_s\n",
    "\n",
    "file = os.path.join('parametre', 'list_MI_bet_logit_600_ss_pauses.pkl')\n",
    "with open(file, 'wb') as fichier:\n",
    "    f = pickle.Pickler(fichier)\n",
    "    f.dump(recording)"
   ]
  },
  {
   "cell_type": "raw",
   "metadata": {},
   "source": [
    "r_k_s = find_r_MI(regress='r', pause=True)\n",
    "\n",
    "recording = {}\n",
    "recording['list_h'] = list_h\n",
    "recording['list_tau'] = tau\n",
    "recording['list_pente'] = np.logspace(-1, 1, 10, base=2)\n",
    "recording['r_bet_k'] = r_k_s\n",
    "\n",
    "file = os.path.join('parametre', 'list_r_bet_logit_600.pkl')\n",
    "with open(file, 'wb') as fichier:\n",
    "    f = pickle.Pickler(fichier)\n",
    "    f.dump(recording)"
   ]
  },
  {
   "cell_type": "raw",
   "metadata": {},
   "source": [
    "r_k_s = find_r_MI(regress='r', pause=False)\n",
    "\n",
    "recording = {}\n",
    "recording['list_h'] = list_h\n",
    "recording['list_tau'] = tau\n",
    "recording['list_pente'] = np.logspace(-1, 1, 10, base=2)\n",
    "recording['r_bet_k'] = r_k_s\n",
    "\n",
    "file = os.path.join('parametre', 'list_r_bet_logit_600_ss_pauses.pkl')\n",
    "with open(file, 'wb') as fichier:\n",
    "    f = pickle.Pickler(fichier)\n",
    "    f.dump(recording)"
   ]
  },
  {
   "cell_type": "code",
   "execution_count": null,
   "metadata": {},
   "outputs": [],
   "source": []
  }
 ],
 "metadata": {
  "kernelspec": {
   "display_name": "Python 3",
   "language": "python",
   "name": "python3"
  },
  "language_info": {
   "codemirror_mode": {
    "name": "ipython",
    "version": 3
   },
   "file_extension": ".py",
   "mimetype": "text/x-python",
   "name": "python",
   "nbconvert_exporter": "python",
   "pygments_lexer": "ipython3",
   "version": "3.5.2"
  },
  "toc": {
   "base_numbering": 1,
   "nav_menu": {
    "height": "48px",
    "width": "252px"
   },
   "number_sections": true,
   "sideBar": true,
   "skip_h1_title": false,
   "title_cell": "Table of Contents",
   "title_sidebar": "Contents",
   "toc_cell": false,
   "toc_position": {},
   "toc_section_display": "block",
   "toc_window_display": false
  }
 },
 "nbformat": 4,
 "nbformat_minor": 2
}
