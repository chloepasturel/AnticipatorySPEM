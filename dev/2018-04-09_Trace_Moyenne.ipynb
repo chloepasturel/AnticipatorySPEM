{
 "cells": [
  {
   "cell_type": "code",
   "execution_count": null,
   "metadata": {},
   "outputs": [],
   "source": [
    "%load_ext autoreload\n",
    "%autoreload 2\n",
    "from __future__ import division, print_function, absolute_import\n",
    "import glob\n",
    "import pickle\n",
    "import matplotlib.pyplot as plt\n",
    "import numpy as np\n",
    "import scipy as sc\n",
    "import os\n",
    "from scipy import stats\n",
    "import sys\n",
    "sys.path.append('..')\n",
    "from edfreader import read_edf"
   ]
  },
  {
   "cell_type": "code",
   "execution_count": null,
   "metadata": {},
   "outputs": [],
   "source": [
    "%matplotlib inline\n",
    "fig_width = 15\n",
    "\n",
    "from aSPEM import aSPEM\n",
    "import bayesianchangepoint as bcp"
   ]
  },
  {
   "cell_type": "code",
   "execution_count": null,
   "metadata": {},
   "outputs": [],
   "source": [
    "liste = []\n",
    "for fname in glob.glob('data/*pkl'):\n",
    "    a = fname.split('/')[1].split('.')[0].split('_')\n",
    "    liste.append(a)\n",
    "    #print(a)\n",
    "\n",
    "exp = []\n",
    "for x in range(len(liste)) :\n",
    "    if liste[x][0]=='enregistrement' and liste[x][1] in ['AM','BMC','CS','DC','FM','IP','LB','OP','RS','SR','TN','YK']:\n",
    "        a = 'data/%s_%s_%s_%s.pkl'%(liste[x][0], liste[x][1],liste[x][2],liste[x][3])\n",
    "        with open(a, 'rb') as fichier :\n",
    "            b = pickle.load(fichier, encoding='latin1')\n",
    "            exp.append(b)"
   ]
  },
  {
   "cell_type": "code",
   "execution_count": null,
   "metadata": {},
   "outputs": [],
   "source": [
    "timeStr = {}\n",
    "timeStr['AM'] = '2017-10-23_100057'\n",
    "timeStr['BMC'] = '2017-09-26_095637'\n",
    "timeStr['CS'] = '2017-10-03_134421'\n",
    "timeStr['DC']= '2017-09-27_161040'\n",
    "timeStr['FM'] = '2017-10-03_143803'\n",
    "timeStr['IP'] = '2017-09-28_115250'\n",
    "timeStr['LB'] = '2017-09-20_151043'\n",
    "timeStr['OP'] = '2017-10-26_121823'\n",
    "timeStr['RS'] = '2017-11-08_094717'\n",
    "timeStr['SR'] = '2017-11-16_153313'\n",
    "timeStr['TN'] = '2017-11-08_150410'\n",
    "timeStr['YK'] = '2017-11-17_172706'"
   ]
  },
  {
   "cell_type": "code",
   "execution_count": null,
   "metadata": {},
   "outputs": [],
   "source": [
    "gradient_deg_NAN = []\n",
    "StimOf = []\n",
    "tracker_0 = []\n",
    "\n",
    "for x in range(len(exp)) :\n",
    "    gradient_deg_NAN.append([])\n",
    "    StimOf.append([])\n",
    "    tracker_0.append([])\n",
    "        \n",
    "    N_blocks = exp[x]['N_blocks']\n",
    "    N_trials = exp[x]['N_trials']\n",
    "    sujet = exp[x]['observer'] # sujet\n",
    "\n",
    "    resultats = os.path.join('..','data', 'enregistrement_' + sujet + '_' + timeStr[sujet] + '.asc')\n",
    "    data = read_edf(resultats, 'TRIALID')\n",
    "    \n",
    "    for block in range(N_blocks) :\n",
    "        gradient_deg_NAN[x].append([])\n",
    "        StimOf[x].append([])\n",
    "        tracker_0[x].append([])\n",
    "        \n",
    "        for trial in range(N_trials) :\n",
    "            gradient_deg_NAN[x][block].append([])\n",
    "            StimOf[x][block].append([])\n",
    "            tracker_0[x][block].append([])\n",
    "            \n",
    "            trial_data = trial + N_trials*block\n",
    "            \n",
    "            data_x = data[trial_data]['x']\n",
    "            trackertime = data[trial_data]['trackertime']\n",
    "            StimulusOf = data[trial_data]['events']['msg'][14][0]\n",
    "            \n",
    "            saccades = data[trial_data]['events']['Esac']\n",
    "            trackertime_0 = data[trial_data]['trackertime'][0]\n",
    "\n",
    "            gradient_x = np.gradient(data_x) # gradient en px/ms\n",
    "            gradient_deg = gradient_x * 1/exp[x]['px_per_deg'] * 1000 # gradient en deg/sec\n",
    "\n",
    "            ##################################################\n",
    "            StimOf[x][block][trial] = StimulusOf\n",
    "            tracker_0[x][block][trial] = trackertime_0\n",
    "            ##################################################\n",
    "            \n",
    "            ##################################################\n",
    "            # SUPPRESSION DES SACCADES\n",
    "            ##################################################\n",
    "            gradient_deg_NAN[x][block][trial] = gradient_deg\n",
    "\n",
    "            for s in range(len(saccades)) :\n",
    "                if saccades[s][1]-trackertime_0+15 <= (len(trackertime)) :\n",
    "                    for x_data in np.arange((saccades[s][0]-trackertime_0-5), (saccades[s][1]-trackertime_0+15)) :\n",
    "                        gradient_deg_NAN[x][block][trial][x_data] = np.nan\n",
    "                else :\n",
    "                    for x_data in np.arange((saccades[s][0]-trackertime_0-5), (len(trackertime))) :\n",
    "                        gradient_deg_NAN[x][block][trial][x_data] = np.nan\n"
   ]
  },
  {
   "cell_type": "markdown",
   "metadata": {},
   "source": [
    "# P_reel"
   ]
  },
  {
   "cell_type": "code",
   "execution_count": null,
   "metadata": {},
   "outputs": [],
   "source": [
    "def Trace_Moyenne_P_reel(delta, color, PROBA) :\n",
    "    va_r = {}\n",
    "    va_l = {}\n",
    "    mean_va_r = {}\n",
    "    mean_va_l = {}\n",
    "\n",
    "    for p_r in PROBA :\n",
    "        va_r[p_r] = []\n",
    "        va_l[p_r] = []\n",
    "        mean_va_r[p_r] = []\n",
    "        mean_va_l[p_r] = []\n",
    "\n",
    "    for x in range(len(exp)) :\n",
    "\n",
    "        N_blocks = exp[x]['N_blocks']\n",
    "        N_trials = exp[x]['N_trials']\n",
    "        p = exp[x]['p']\n",
    "\n",
    "\n",
    "        for block in range(N_blocks) :\n",
    "            for trial in range(N_trials) :                \n",
    "                StimulusOf = StimOf[x][block][trial]\n",
    "                trackertime_0 = tracker_0[x][block][trial]\n",
    "\n",
    "\n",
    "                bino=p[trial, block, 0]\n",
    "                p_reel = p[trial, block, 1]\n",
    "\n",
    "                for p_r in PROBA :\n",
    "                    if p_reel >= p_r and p_reel < (p_r + delta) :\n",
    "                        if bino == 0 : # droite c'est 1 gauche c'est 0\n",
    "                            va_l[p_r].append(gradient_deg_NAN[x][block][trial][StimulusOf-trackertime_0:StimulusOf-trackertime_0+1300])\n",
    "                        elif bino == 1 :\n",
    "                            va_r[p_r].append(gradient_deg_NAN[x][block][trial][StimulusOf-trackertime_0:StimulusOf-trackertime_0+1300])\n",
    "\n",
    "\n",
    "    fig_width = 20\n",
    "    fig, axs = plt.subplots(1, 1, figsize=(fig_width, 1*fig_width/(1.6180*1)))\n",
    "    axs.plot(np.zeros(1000), c='k')            \n",
    "    x=0                      \n",
    "    for p_r in PROBA :\n",
    "        for tps in range(1000) :\n",
    "            liste_r = []\n",
    "            for a in range(len(va_r[p_r])) :\n",
    "                liste_r.append(va_r[p_r][a][tps])\n",
    "            mean_va_r[p_r].append(np.nanmean(liste_r))\n",
    "\n",
    "            liste_l = []\n",
    "            for b in range(len(va_l[p_r])) :\n",
    "                liste_l.append(va_l[p_r][b][tps])\n",
    "            mean_va_l[p_r].append(np.nanmean(liste_l))\n",
    "\n",
    "        axs.plot(mean_va_r[p_r], c=color[x], label=' p = %s - %s'%(p_r, p_r+delta), alpha=0.7)\n",
    "        axs.plot(mean_va_l[p_r], c=color[x], alpha=0.7)\n",
    "        x=x+1 \n",
    "\n",
    "    axs.axvspan(0, 300, color='r', alpha=0.2)\n",
    "    axs.axvspan(300, 1000, color='k', alpha=0.15)\n",
    "    plt.legend()\n",
    "    plt.show()"
   ]
  },
  {
   "cell_type": "markdown",
   "metadata": {},
   "source": [
    "TODO : formater les valeurs de p pour montrer seulement une décimale avec"
   ]
  },
  {
   "cell_type": "code",
   "execution_count": null,
   "metadata": {},
   "outputs": [],
   "source": [
    "' %.1f' % .3"
   ]
  },
  {
   "cell_type": "markdown",
   "metadata": {},
   "source": [
    "au lieu de"
   ]
  },
  {
   "cell_type": "code",
   "execution_count": null,
   "metadata": {},
   "outputs": [],
   "source": [
    "' %.6f' % .3"
   ]
  },
  {
   "cell_type": "markdown",
   "metadata": {},
   "source": [
    "TODO : mettre moins de points de temps en moyennant sur disons 10 pas de temps  (la variabilité est visuellement exagérée- c'est philosophique maison peut en parler) +  ajouter en transparence +/- une deviation standard + couper à 700 ms\n"
   ]
  },
  {
   "cell_type": "code",
   "execution_count": null,
   "metadata": {},
   "outputs": [],
   "source": [
    "delta = 0.1\n",
    "color = ['black','grey','darkgrey','rosybrown','lightcoral','indianred','firebrick','brown','darkred','red']\n",
    "PROBA = np.arange(0,1,delta)\n",
    "\n",
    "Trace_Moyenne_P_reel(delta, color, PROBA)"
   ]
  },
  {
   "cell_type": "code",
   "execution_count": null,
   "metadata": {},
   "outputs": [],
   "source": [
    "delta = 0.2\n",
    "color = ['black','dimgrey','indianred','darkred','red']\n",
    "PROBA = np.arange(0,1,delta)\n",
    "Trace_Moyenne_P_reel(delta, color, PROBA)"
   ]
  },
  {
   "cell_type": "code",
   "execution_count": null,
   "metadata": {},
   "outputs": [],
   "source": [
    "delta = 0.25\n",
    "color = ['black','dimgrey','darkred','red']\n",
    "PROBA = np.arange(0,1,delta)\n",
    "Trace_Moyenne_P_reel(delta, color, PROBA)"
   ]
  },
  {
   "cell_type": "markdown",
   "metadata": {},
   "source": [
    "# P_hat"
   ]
  },
  {
   "cell_type": "code",
   "execution_count": null,
   "metadata": {},
   "outputs": [],
   "source": [
    "import bayesianchangepoint as bcp"
   ]
  },
  {
   "cell_type": "code",
   "execution_count": null,
   "metadata": {},
   "outputs": [],
   "source": [
    "p_hat_bcp_e = []\n",
    "p_hat_bcp_m = []\n",
    "\n",
    "for x in range(len(exp)):\n",
    "    \n",
    "    p_hat_bcp_e.append([])\n",
    "    p_hat_bcp_m.append([])\n",
    "    \n",
    "    N_trials = exp[x]['N_trials']\n",
    "    N_blocks = exp[x]['N_blocks']\n",
    "    p = exp[x]['p']\n",
    "    tau = N_trials/5.\n",
    "    h = 1./tau\n",
    "    \n",
    "    #print('\\n', exp[x]['observer'])\n",
    "    for block in range(N_blocks):\n",
    "        p_hat_bcp_e[x].append([])\n",
    "        p_hat_bcp_m[x].append([])\n",
    "        \n",
    "        liste = [0,50,100,150,200]\n",
    "        for a in range(len(liste)-1) :\n",
    "            #----------------------------------------------------\n",
    "            p_bar, r, beliefs = bcp.inference(p[liste[a]:liste[a+1], block, 0], h=h, p0=.5)\n",
    "            p_hat_e, r_hat_e = bcp.readout(p_bar, r, beliefs, mode='expectation')\n",
    "            p_hat_m, r_hat_m = bcp.readout(p_bar, r, beliefs, mode='max')\n",
    "            \n",
    "            p_hat_bcp_e[x][block].extend(p_hat_e)\n",
    "            p_hat_bcp_m[x][block].extend(p_hat_m)"
   ]
  },
  {
   "cell_type": "code",
   "execution_count": null,
   "metadata": {},
   "outputs": [],
   "source": [
    "def Trace_Moyenne_P_hat(delta, color, PROBA) :\n",
    "    va_r = {}\n",
    "    va_l = {}\n",
    "    mean_va_r = {}\n",
    "    mean_va_l = {}\n",
    "\n",
    "    for p_r in PROBA :\n",
    "        va_r[p_r] = []\n",
    "        va_l[p_r] = []\n",
    "        mean_va_r[p_r] = []\n",
    "        mean_va_l[p_r] = []\n",
    "\n",
    "    for x in range(len(exp)) :\n",
    "\n",
    "        N_blocks = exp[x]['N_blocks']\n",
    "        N_trials = exp[x]['N_trials']\n",
    "        p = exp[x]['p']\n",
    "\n",
    "\n",
    "        for block in range(N_blocks) :\n",
    "            for trial in range(N_trials) :                \n",
    "                StimulusOf = StimOf[x][block][trial]\n",
    "                trackertime_0 = tracker_0[x][block][trial]\n",
    "\n",
    "\n",
    "                bino=p[trial, block, 0]\n",
    "                phat = p_hat_bcp_e[x][block][trial]\n",
    "                #phat = p_hat_bcp_m[x][block][trial]\n",
    "                \n",
    "                for p_r in PROBA :\n",
    "                    if phat >= p_r and phat < (p_r + delta) :\n",
    "                        if bino == 0 : # droite c'est 1 gauche c'est 0\n",
    "                            va_l[p_r].append(gradient_deg_NAN[x][block][trial][StimulusOf-trackertime_0:StimulusOf-trackertime_0+1300])\n",
    "                        elif bino == 1 :\n",
    "                            va_r[p_r].append(gradient_deg_NAN[x][block][trial][StimulusOf-trackertime_0:StimulusOf-trackertime_0+1300])\n",
    "\n",
    "\n",
    "    fig_width = 20\n",
    "    fig, axs = plt.subplots(1, 1, figsize=(fig_width, 1*fig_width/(1.6180*1)))\n",
    "    axs.plot(np.zeros(1000), c='k')            \n",
    "    x=0                      \n",
    "    for p_r in PROBA :\n",
    "        for tps in range(1000) :\n",
    "            liste_r = []\n",
    "            for a in range(len(va_r[p_r])) :\n",
    "                liste_r.append(va_r[p_r][a][tps])\n",
    "            mean_va_r[p_r].append(np.nanmean(liste_r))\n",
    "\n",
    "            liste_l = []\n",
    "            for b in range(len(va_l[p_r])) :\n",
    "                liste_l.append(va_l[p_r][b][tps])\n",
    "            mean_va_l[p_r].append(np.nanmean(liste_l))\n",
    "\n",
    "        axs.plot(mean_va_r[p_r], c=color[x], label=' p = %s - %s'%(p_r, p_r+delta), alpha=0.7)\n",
    "        axs.plot(mean_va_l[p_r], c=color[x], alpha=0.7)\n",
    "        x=x+1 \n",
    "\n",
    "    axs.axvspan(0, 300, color='r', alpha=0.2)\n",
    "    axs.axvspan(300, 1000, color='k', alpha=0.15)\n",
    "    plt.legend()\n",
    "    plt.show()"
   ]
  },
  {
   "cell_type": "code",
   "execution_count": null,
   "metadata": {},
   "outputs": [],
   "source": [
    "delta = 0.1\n",
    "color = ['black','grey','darkgrey','rosybrown','lightcoral','indianred','firebrick','brown','darkred','red']\n",
    "PROBA = np.arange(0,1,delta)\n",
    "\n",
    "Trace_Moyenne_P_hat(delta, color, PROBA)"
   ]
  },
  {
   "cell_type": "code",
   "execution_count": null,
   "metadata": {},
   "outputs": [],
   "source": [
    "delta = 0.2\n",
    "color = ['black','dimgrey','indianred','darkred','red']\n",
    "PROBA = np.arange(0,1,delta)\n",
    "Trace_Moyenne_P_hat(delta, color, PROBA)"
   ]
  },
  {
   "cell_type": "code",
   "execution_count": null,
   "metadata": {},
   "outputs": [],
   "source": [
    "delta = 0.25\n",
    "color = ['black','dimgrey','darkred','red']\n",
    "PROBA = np.arange(0,1,delta)\n",
    "Trace_Moyenne_P_hat(delta, color, PROBA)"
   ]
  }
 ],
 "metadata": {
  "kernelspec": {
   "display_name": "Python 3",
   "language": "python",
   "name": "python3"
  },
  "language_info": {
   "codemirror_mode": {
    "name": "ipython",
    "version": 3
   },
   "file_extension": ".py",
   "mimetype": "text/x-python",
   "name": "python",
   "nbconvert_exporter": "python",
   "pygments_lexer": "ipython3",
   "version": "3.6.5"
  },
  "toc": {
   "base_numbering": 1,
   "nav_menu": {},
   "number_sections": true,
   "sideBar": true,
   "skip_h1_title": false,
   "title_cell": "Table of Contents",
   "title_sidebar": "Contents",
   "toc_cell": false,
   "toc_position": {},
   "toc_section_display": true,
   "toc_window_display": false
  }
 },
 "nbformat": 4,
 "nbformat_minor": 2
}
