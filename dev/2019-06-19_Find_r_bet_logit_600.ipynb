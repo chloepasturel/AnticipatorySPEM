{
 "cells": [
  {
   "cell_type": "markdown",
   "metadata": {},
   "source": [
    "# aSPEM Experiment : analysis\n",
    "\n",
    "\n",
    "Test de différtentes pentes $k$ pour la relation entre $p_bet$ et $\\hat{p}$\n"
   ]
  },
  {
   "cell_type": "code",
   "execution_count": 1,
   "metadata": {
    "scrolled": true
   },
   "outputs": [
    {
     "name": "stdout",
     "output_type": "stream",
     "text": [
      "\n",
      "WELCOME\n",
      "\n"
     ]
    }
   ],
   "source": [
    "%run ../0_parameters.ipynb"
   ]
  },
  {
   "cell_type": "code",
   "execution_count": 2,
   "metadata": {},
   "outputs": [],
   "source": [
    "import glob\n",
    "import bayesianchangepoint as bcp"
   ]
  },
  {
   "cell_type": "raw",
   "metadata": {},
   "source": [
    "!ls data/"
   ]
  },
  {
   "cell_type": "code",
   "execution_count": 3,
   "metadata": {
    "ExecuteTime": {
     "end_time": "2018-07-13T14:09:02.593758Z",
     "start_time": "2018-07-13T14:09:02.547277Z"
    },
    "scrolled": true
   },
   "outputs": [],
   "source": [
    "liste = []\n",
    "for fname in glob.glob('data/*pkl'):\n",
    "    a = fname.split('/')[1].split('.')[0].split('_')\n",
    "    liste.append(a)"
   ]
  },
  {
   "cell_type": "code",
   "execution_count": 4,
   "metadata": {},
   "outputs": [],
   "source": [
    "from aSPEM import Analysis\n",
    "e = Analysis(name_file_fit='fct_velocity_sigmo')"
   ]
  },
  {
   "cell_type": "code",
   "execution_count": 5,
   "metadata": {},
   "outputs": [],
   "source": [
    "def sigmoid(y):\n",
    "    return 1 / (1 + np.exp(-y))\n",
    "def logit(p):\n",
    "    return np.log(p / (1 - p))"
   ]
  },
  {
   "cell_type": "code",
   "execution_count": 6,
   "metadata": {},
   "outputs": [],
   "source": [
    "def r_(p, data) :\n",
    "    \n",
    "    p = np.ma.masked_array(p, mask=np.isnan(data)).compressed()\n",
    "    data = np.ma.masked_array(data, mask=np.isnan(data)).compressed()\n",
    "\n",
    "    from scipy import stats\n",
    "    slope, intercept, r_, p_value, std_err = stats.linregress(p, data)\n",
    "    \n",
    "    return r_"
   ]
  },
  {
   "cell_type": "code",
   "execution_count": 7,
   "metadata": {
    "scrolled": true
   },
   "outputs": [
    {
     "name": "stdout",
     "output_type": "stream",
     "text": [
      "DC "
     ]
    },
    {
     "name": "stderr",
     "output_type": "stream",
     "text": [
      "/usr/local/lib/python3.6/dist-packages/scipy/stats/_stats_mstats_common.py:130: RuntimeWarning: invalid value encountered in double_scalars\n",
      "  slope = r_num / ssxm\n",
      "/usr/local/lib/python3.6/dist-packages/scipy/stats/_stats_mstats_common.py:142: RuntimeWarning: divide by zero encountered in double_scalars\n",
      "  sterrest = np.sqrt((1 - r**2) * ssym / ssxm / df)\n"
     ]
    },
    {
     "name": "stdout",
     "output_type": "stream",
     "text": [
      "FM RS YK AM CS LB OP IP SR TN BMC "
     ]
    }
   ],
   "source": [
    "Full = e.Full_list(modes_bcp=[])\n",
    "modes_bcp = 'mean'\n",
    "tau = np.arange(1, 601, 1) #np.arange(1, 602, 1)\n",
    "list_h = 1/tau\n",
    "#print(h)\n",
    "\n",
    "r_k_s = {}\n",
    "for num, s in enumerate(list(set(Full.sujet))):\n",
    "    print(s, end=' ')\n",
    "    \n",
    "    bet = Full['results'][Full.sujet==s].values.tolist()\n",
    "    x = np.array(Full['bino'][Full.sujet==s].values.tolist())\n",
    "\n",
    "    r_k_s[s] = {'sslogit':[]}\n",
    "    \n",
    "    for num, k in enumerate(np.logspace(-1, 1, 10, base=2)) :\n",
    "        \n",
    "        r_bet_l, r_bet_ = [], []\n",
    "        \n",
    "        for h in list_h :\n",
    "            \n",
    "            p_hat = np.zeros(600)\n",
    "            liste = np.arange(0, 601, 50)\n",
    "            for a in range(len(liste)-1) :\n",
    "                p_bar, r_bar, beliefs = bcp.inference(x[liste[a]:liste[a+1]], h=h, p0=.5, r0=1.)\n",
    "                p_hat_p, r_hat = bcp.readout(p_bar, r_bar, beliefs, mode=modes_bcp, p0=.5, fixed_window_size=40)\n",
    "                p_hat[liste[a]:liste[a+1]] = p_hat_p\n",
    "\n",
    "            if num==0 : r_bet_.append(r_(p_hat.tolist(), bet))\n",
    "            r_bet_l.append(r_(sigmoid(k*logit(p_hat)), bet))\n",
    "\n",
    "        if num==0 : r_k_s[s]['sslogit']=r_bet_\n",
    "        r_k_s[s][k]=r_bet_l"
   ]
  },
  {
   "cell_type": "code",
   "execution_count": 9,
   "metadata": {},
   "outputs": [],
   "source": [
    "import pickle"
   ]
  },
  {
   "cell_type": "code",
   "execution_count": 10,
   "metadata": {},
   "outputs": [],
   "source": [
    "recording = {}\n",
    "recording['list_h'] = list_h\n",
    "recording['list_tau'] = tau\n",
    "recording['list_pente'] = np.logspace(-1, 1, 10, base=2)\n",
    "recording['r_bet_k'] = r_k_s\n",
    "\n",
    "file = os.path.join('parametre', 'list_r_bet_logit_600.pkl')\n",
    "with open(file, 'wb') as fichier:\n",
    "    f = pickle.Pickler(fichier)\n",
    "    f.dump(recording)"
   ]
  },
  {
   "cell_type": "code",
   "execution_count": null,
   "metadata": {},
   "outputs": [],
   "source": []
  }
 ],
 "metadata": {
  "kernelspec": {
   "display_name": "Python 3",
   "language": "python",
   "name": "python3"
  },
  "language_info": {
   "codemirror_mode": {
    "name": "ipython",
    "version": 3
   },
   "file_extension": ".py",
   "mimetype": "text/x-python",
   "name": "python",
   "nbconvert_exporter": "python",
   "pygments_lexer": "ipython3",
   "version": "3.6.7"
  },
  "toc": {
   "base_numbering": 1,
   "nav_menu": {
    "height": "48px",
    "width": "252px"
   },
   "number_sections": true,
   "sideBar": true,
   "skip_h1_title": false,
   "title_cell": "Table of Contents",
   "title_sidebar": "Contents",
   "toc_cell": false,
   "toc_position": {},
   "toc_section_display": "block",
   "toc_window_display": false
  }
 },
 "nbformat": 4,
 "nbformat_minor": 2
}
