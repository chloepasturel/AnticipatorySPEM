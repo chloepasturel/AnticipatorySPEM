{
 "cells": [
  {
   "cell_type": "markdown",
   "metadata": {},
   "source": [
    "# aSPEM Experiment : analysis\n",
    "\n",
    "\n",
    "\n",
    "TODO: clean-up garder blocs indep full R\n",
    "\n",
    "TODO: moulinette statistique ? https://en.wikipedia.org/wiki/Kolmogorov%E2%80%93Smirnov_test https://en.wikipedia.org/wiki/Earth_mover%27s_distance\n",
    "\n",
    "TODO: https://stackoverflow.com/questions/37008112/matplotlib-plotting-histogram-plot-just-above-scatter-plot\n",
    "\n",
    "TODO: tester qu'à chaque pause, l'agent se réinitialise à $\\hat{p}=.5$"
   ]
  },
  {
   "cell_type": "code",
   "execution_count": 1,
   "metadata": {
    "scrolled": true
   },
   "outputs": [
    {
     "name": "stdout",
     "output_type": "stream",
     "text": [
      "\n",
      "WELCOME\n",
      "\n"
     ]
    }
   ],
   "source": [
    "%run 0_parameters.ipynb"
   ]
  },
  {
   "cell_type": "code",
   "execution_count": 2,
   "metadata": {},
   "outputs": [],
   "source": [
    "import glob\n",
    "import bayesianchangepoint as bcp"
   ]
  },
  {
   "cell_type": "raw",
   "metadata": {},
   "source": [
    "!ls data/"
   ]
  },
  {
   "cell_type": "code",
   "execution_count": 3,
   "metadata": {
    "ExecuteTime": {
     "end_time": "2018-07-13T14:09:02.593758Z",
     "start_time": "2018-07-13T14:09:02.547277Z"
    },
    "scrolled": true
   },
   "outputs": [],
   "source": [
    "liste = []\n",
    "for fname in glob.glob('data/*pkl'):\n",
    "    a = fname.split('/')[1].split('.')[0].split('_')\n",
    "    liste.append(a)"
   ]
  },
  {
   "cell_type": "code",
   "execution_count": 4,
   "metadata": {
    "ExecuteTime": {
     "end_time": "2018-07-13T14:09:02.644736Z",
     "start_time": "2018-07-13T14:09:02.600752Z"
    }
   },
   "outputs": [],
   "source": [
    "msfigpath = '../PasturelMontagniniPerrinet2019/figures'"
   ]
  },
  {
   "cell_type": "code",
   "execution_count": 5,
   "metadata": {},
   "outputs": [],
   "source": [
    "from aSPEM import Analysis\n",
    "e = Analysis(name_file_fit='fct_velocity_sigmo')"
   ]
  },
  {
   "cell_type": "markdown",
   "metadata": {},
   "source": [
    "# find_h_with_MI"
   ]
  },
  {
   "cell_type": "code",
   "execution_count": 6,
   "metadata": {},
   "outputs": [],
   "source": [
    "def regress(ax, p, data, t_label=20, color='k', lw=2, axis=None) :\n",
    "    from scipy import stats\n",
    "    slope, intercept, r_, p_value, std_err = stats.linregress(p, data)\n",
    "    x_test = np.linspace(np.min(p), np.max(p), 100)\n",
    "    fitLine = slope * x_test + intercept\n",
    "    \n",
    "    ax.plot(x_test, fitLine, c=color, linewidth=lw)\n",
    "\n",
    "    if axis is None :\n",
    "        x1, x2 = np.min(p), np.max(p)\n",
    "        y1, y2 = np.min(data), np.max(data)\n",
    "    else :\n",
    "        x1, x2, y1, y2  = axis[0], axis[1], axis[2], axis[3]\n",
    "    #x_pos=x2-(x2-x1)/10 ; h_pos='right'\n",
    "    #x_pos=x1+(x2-x1)/10 ; h_pos='left'\n",
    "    #y_pos_r=y2-(y2-y1)/10 ; y_pos_m=y2-2*(y2-y1)/10\n",
    "    y_pos_r=y1+(y2-y1)/10 ; y_pos_m=y1+2*(y2-y1)/10\n",
    "\n",
    "    \n",
    "    ax.text(x2, y_pos_r, 'r = %0.3f'%(r_), color=color, fontsize=t_label/1.2, ha='right')\n",
    "    \n",
    "    return ax\n"
   ]
  },
  {
   "cell_type": "code",
   "execution_count": 7,
   "metadata": {},
   "outputs": [],
   "source": [
    "# https://en.wikipedia.org/wiki/Pearson_correlation_coefficient#Weighted_correlation_coefficient\n",
    "# https://stackoverflow.com/questions/38641691/weighted-correlation-coefficient-with-pandas\n",
    "def r_weight(ax, x, y, w, t_label=20, color='k', lw=2, axis=None) :\n",
    "    \n",
    "    x = np.ma.masked_array(x, mask=np.isnan(y)).compressed()\n",
    "    y = np.ma.masked_array(y, mask=np.isnan(y)).compressed()\n",
    "    \n",
    "    def m(x, w):\n",
    "        \"\"\"Weighted Mean\"\"\"\n",
    "        return np.sum(x * w) / np.sum(w)\n",
    "\n",
    "    def cov(x, y, w):\n",
    "        \"\"\"Weighted Covariance\"\"\"\n",
    "        return np.sum(w * (x - m(x, w)) * (y - m(y, w))) / np.sum(w)\n",
    "\n",
    "    def corr(x, y, w):\n",
    "        \"\"\"Weighted Correlation\"\"\"\n",
    "        return cov(x, y, w) / np.sqrt(cov(x, x, w) * cov(y, y, w))    \n",
    "\n",
    "    r = corr(x, y, w)\n",
    "    \n",
    "    \n",
    "    if axis is None :\n",
    "        x1, x2 = np.min(x), np.max(x)\n",
    "        y1, y2 = np.min(y), np.max(y)\n",
    "    else :\n",
    "        x1, x2, y1, y2  = axis[0], axis[1], axis[2], axis[3]\n",
    "    \n",
    "    \n",
    "    \n",
    "    #x_pos=x2-(x2-x1)/10 ; h_pos='right'\n",
    "    #x_pos=x1+(x2-x1)/10 ; h_pos='left'\n",
    "    #y_pos_r=y2-(y2-y1)/10 ; y_pos_m=y2-2*(y2-y1)/10\n",
    "    y_pos_r=y1+(y2-y1)/10 ; y_pos_m=y1+2*(y2-y1)/10\n",
    "\n",
    "    ax.text(x1, y_pos_r, 'r weight = %0.3f'%(r), color=color, fontsize=t_label/1.2, ha='left')\n",
    "    \n",
    "    return ax\n"
   ]
  },
  {
   "cell_type": "code",
   "execution_count": 8,
   "metadata": {},
   "outputs": [],
   "source": [
    "def mask_nan(h_va, h_bet, r_va, r_bet) :\n",
    "    r_va = np.ma.masked_array(r_va, mask=np.isnan(h_bet)).compressed()\n",
    "    h_va = np.ma.masked_array(h_va, mask=np.isnan(h_bet)).compressed()\n",
    "\n",
    "    r_bet = np.ma.masked_array(r_bet, mask=np.isnan(h_bet)).compressed()\n",
    "    h_bet = np.ma.masked_array(h_bet, mask=np.isnan(h_bet)).compressed()\n",
    "\n",
    "    r_bet = np.ma.masked_array(r_bet, mask=np.isnan(h_va)).compressed()\n",
    "    h_bet = np.ma.masked_array(h_bet, mask=np.isnan(h_va)).compressed()\n",
    "    \n",
    "    r_va = np.ma.masked_array(r_va, mask=np.isnan(h_va)).compressed()\n",
    "    h_va = np.ma.masked_array(h_va, mask=np.isnan(h_va)).compressed()\n",
    "    \n",
    "    return h_va, h_bet, r_va, r_bet"
   ]
  },
  {
   "cell_type": "code",
   "execution_count": 9,
   "metadata": {},
   "outputs": [],
   "source": [
    "suj = ['AM', 'BMC', 'CS', 'DC', 'FM', 'IP', 'LB', 'OP', 'RS', 'SR',  'TN', 'YK']\n",
    "\n",
    "list_suj = {'AM': 'F', 'BMC': 'M', 'CS': 'F', 'DC': 'F',\n",
    "            'FM': 'F', 'IP': 'F',  'LB': 'F', 'OP': 'M',\n",
    "            'RS': 'M', 'SR': 'F',  'TN': 'M', 'YK': 'M'}"
   ]
  },
  {
   "cell_type": "code",
   "execution_count": 10,
   "metadata": {
    "scrolled": false
   },
   "outputs": [],
   "source": [
    "def plot_fig(recording) :\n",
    "    \n",
    "    #fig, ax = plt.subplots(3,1,figsize=(15,20))\n",
    "    Full = e.Full_list(modes_bcp=[])\n",
    "    list_h = recording['list_h'][:]\n",
    "    COLOR = ['b', 'r', 'k', 'g', 'm', 'c', 'gold', 'darkred', 'peru', 'silver', 'plum', 'olivedrab']\n",
    "    \n",
    "    fig = plt.figure(figsize=(15,15))\n",
    "    import matplotlib.gridspec as gridspec\n",
    "    gs = gridspec.GridSpec(6, 6)\n",
    "    ax_ = plt.subplot(gs[1:5, :4])\n",
    "    ax_x = plt.subplot(gs[0, :4])#,sharex=ax_)\n",
    "    ax_y = plt.subplot(gs[1:5, 4])#,sharey=ax_)\n",
    "\n",
    "    ax_xCum = ax_x.twinx() ; ax_xCum.tick_params('y', colors='r') ; ax_xCum.set_ylabel('cumulative',color='r')\n",
    "    ax_yCum = ax_y.twiny() ; ax_yCum.tick_params('x', colors='r') ; ax_yCum.set_xlabel('cumulative',color='r')\n",
    "    lim = (np.log(min(list_h)-min(list_h)/10), np.log(max(list_h)+max(list_h)/10))\n",
    "    for a in [ax_x, ax_xCum] : a.set_xlim(lim) ; a.set_xticks(())\n",
    "    for a in [ax_y, ax_yCum] : a.set_ylim(lim) ; a.set_yticks(())\n",
    "    \n",
    "    \n",
    "    # DECO\n",
    "    #---------------------------------------------------------------\n",
    "    ax_.plot(np.arange(-10,10), np.arange(-10,10), '--k')\n",
    "    ax_.vlines(0.025, 0, 0.025, colors='k') ; ax_.hlines(0.025, 0, 0.025, colors='k')\n",
    "    ax_.set_xlabel('$h_{va}$', fontsize=20) ; ax_.set_ylabel('$h_{bet}$', fontsize=20)\n",
    "    \n",
    "    lim = (min(list_h)-min(list_h)/10, max(list_h)+max(list_h)/10)\n",
    "    ax_.set_xlim(lim)     ; ax_.set_ylim(lim)\n",
    "    ax_.set_xscale(\"log\") ; ax_.set_yscale(\"log\")\n",
    "    \n",
    "    #---------------------------------------------------------------\n",
    "    h_va, h_bet = {'full':[], 'F':[], 'M':[]}, {'full':[], 'F':[], 'M':[]}\n",
    "    r_va, r_bet = {'full':[], 'F':[], 'M':[]}, {'full':[], 'F':[], 'M':[]}\n",
    "    \n",
    "    \n",
    "    for num, s in enumerate(suj) :\n",
    "        if list_suj[s]=='F' : coco='r'\n",
    "        else :                coco='b'\n",
    "        \n",
    "        print(s, end=' ')\n",
    "\n",
    "        h_va_s, h_bet_s, r_va_s, r_bet_s = [], [], [], []\n",
    "        for d, c in enumerate(range(0, 3*200-150, 200)) :\n",
    "            \n",
    "\n",
    "            r_va_d, r_bet_d = recording['r_va'][s][d][:], recording['r_bet'][s][d][:]\n",
    "\n",
    "            h_va_s.append(list_h[np.argmax(r_va_d)]) ; h_bet_s.append(list_h[np.argmax(r_bet_d)])\n",
    "            r_va_s.append(np.max(r_va_d)) ; r_bet_s.append(np.max(r_bet_d))\n",
    "\n",
    "        opt = dict(c=COLOR[num], alpha=0.5, lw=2, edgecolors=coco,) \n",
    "        ax_.scatter(h_va_s[:1], h_bet_s[:1], s=(np.array(r_va_s[:1])*np.array(r_bet_s[:1]))*400,\n",
    "                    marker='*' if s in ['TN', 'LB'] else None, **opt)\n",
    "        ax_.scatter(h_va_s[1:], h_bet_s[1:], s=(np.array(r_va_s[1:])*np.array(r_bet_s[1:]))*400, **opt)\n",
    "\n",
    "        h_va['full'].extend(h_va_s) ; h_bet['full'].extend(h_bet_s)\n",
    "        r_va['full'].extend(r_va_s) ; r_bet['full'].extend(r_bet_s)\n",
    "\n",
    "\n",
    "        h_va[list_suj[s]].extend(h_va_s[b] if np.isnan(h_bet_s[b])==False else np.nan for b in range(len(h_va_s)))\n",
    "        h_bet[list_suj[s]].extend(h_bet_s[b] if np.isnan(h_va_s[b])==False else np.nan for b in range(len(h_va_s)))\n",
    "        r_va[list_suj[s]].extend(r_va_s)\n",
    "        r_bet[list_suj[s]].extend(r_bet_s)\n",
    "        \n",
    "    h_va['full'], h_bet['full'], r_va['full'], r_bet['full'] = mask_nan(h_va['full'], h_bet['full'], r_va['full'], r_bet['full'])\n",
    "    r_va['full'], r_bet['full'] = np.array(r_va['full']), np.array(r_bet['full'])\n",
    "\n",
    "\n",
    "    axis_r = [min(list_h)-min(list_h)/100, max(list_h)+max(list_h)/100,\n",
    "              min(list_h)-min(list_h)/100, max(list_h)+max(list_h)/100]\n",
    "    \n",
    "    opt = dict(t_label=20, color='k', lw=2, axis=axis_r)\n",
    "    ax_ = regress(ax_, np.log(h_bet['full']), np.log(h_va['full']), **opt)\n",
    "    ax_ = r_weight(ax_, np.log(h_bet['full']), np.log(h_va['full']), r_va['full']*r_bet['full'], **opt)\n",
    "\n",
    "    \n",
    "\n",
    "    #-------------------------------------------------------------------------------------\n",
    "    range_his = (np.log(min(list_h)), np.log(max(list_h)))\n",
    "    bins_his=20\n",
    "\n",
    "    opt = dict(range=range_his, bins=bins_his, alpha=0.3)\n",
    "    ax_x.hist(np.log(h_va['full']), weights=r_va['full'], color='k', **opt)\n",
    "    ax_x.hist([np.log(h_va['F']), np.log(h_va['M'])], weights=[r_va['F'], r_va['M']], color=['r', 'b'], **opt)\n",
    "\n",
    "    opt['orientation'] = \"horizontal\"\n",
    "    ax_y.hist(np.log(h_bet['full']), weights=r_bet['full'], color='k', **opt)\n",
    "    ax_y.hist([np.log(h_bet['F']), np.log(h_bet['M'])],weights=[r_bet['F'], r_bet['M']], color=['r', 'b'],  **opt)\n",
    "\n",
    "\n",
    "    #{'bar', 'barstacked', 'step',  'stepfilled'}\n",
    "    opt_cum = dict(range=range_his, bins=bins_his, cumulative=True, histtype='step',\n",
    "                   align='mid', color=['k', 'r', 'b'], lw=2)\n",
    "    ax_xCum.hist([np.log(h_va['full']), np.log(h_va['F']), np.log(h_va['M'])],\n",
    "                 weights=[r_va['full'], r_va['F'], r_va['M']], **opt_cum)\n",
    "    \n",
    "    opt_cum['orientation'] = \"horizontal\"\n",
    "    ax_yCum.hist([np.log(h_bet['full']), np.log(h_bet['F']), np.log(h_bet['M'])],\n",
    "                 weights=[r_bet['full'], r_bet['F'], r_bet['M']],  **opt_cum)\n",
    "    \n",
    "    ax_.vlines(0.002, 0, 10, colors='r') ; ax_.hlines(0.002, 0, 10, colors='r')\n",
    "    ax_.vlines(0.01, 0, 10, colors='r') ; ax_.hlines(0.01, 0, 10, colors='r')\n",
    "    from scipy import stats\n",
    "    for h, r, title in zip([h_va, h_bet], [r_va, r_bet], ['h_va', 'h_bet']) :\n",
    "        print('\\n\\n%s'%title)\n",
    "        print('\\n', stats.mannwhitneyu(h['F'], h['M']),\n",
    "              '\\n', stats.kruskal(h['F'], h['M']),\n",
    "              '\\n', stats.ks_2samp(h['F'], h['M']),\n",
    "              '\\nwasserstein_distance (Earth movers distance) : ',\n",
    "              stats.wasserstein_distance(h['F'], h['M'], u_weights=r['F'], v_weights=r['M']), sep='')\n",
    "                \n",
    "        for h_g, r_g in zip([h['F'], h['M']], [r['F'], r['M']]) :\n",
    "            g=0\n",
    "            while g < len(h_g) :\n",
    "                if h_g[g] < 0.002 : del h_g[g] ; del r_g[g]\n",
    "                else :              g=g+1\n",
    "        \n",
    "        print('\\nCoupe à 0.002')\n",
    "        print(stats.mannwhitneyu(h['F'], h['M']),\n",
    "              '\\n', stats.kruskal(h['F'], h['M']),\n",
    "              '\\n', stats.ks_2samp(h['F'], h['M']),\n",
    "              '\\nwasserstein_distance (Earth movers distance) : ',\n",
    "              stats.wasserstein_distance(h['F'], h['M'], u_weights=r['F'], v_weights=r['M']), sep='')\n",
    "        \n",
    "        for h_g, r_g in zip([h['F'], h['M']], [r['F'], r['M']]) :\n",
    "            g=0\n",
    "            while g < len(h_g) :\n",
    "                if h_g[g] < 0.01 : del h_g[g] ; del r_g[g]\n",
    "                else :              g=g+1\n",
    "        \n",
    "        print('\\nCoupe à 0.01')\n",
    "        print(stats.mannwhitneyu(h['F'], h['M']),\n",
    "              '\\n', stats.kruskal(h['F'], h['M']),\n",
    "              '\\n', stats.ks_2samp(h['F'], h['M']),\n",
    "              '\\nwasserstein_distance (Earth movers distance) : ',\n",
    "              stats.wasserstein_distance(h['F'], h['M'], u_weights=r['F'], v_weights=r['M']), sep='')\n",
    "    \n",
    "    plt.show()"
   ]
  },
  {
   "cell_type": "code",
   "execution_count": 11,
   "metadata": {},
   "outputs": [],
   "source": [
    "import pickle"
   ]
  },
  {
   "cell_type": "code",
   "execution_count": 12,
   "metadata": {
    "scrolled": false
   },
   "outputs": [
    {
     "name": "stdout",
     "output_type": "stream",
     "text": [
      "AM BMC CS DC FM IP LB OP RS SR TN YK \n",
      "\n",
      "h_va\n",
      "\n",
      "MannwhitneyuResult(statistic=113.0, pvalue=0.07863620215317485)\n",
      "KruskalResult(statistic=2.0459770114942413, pvalue=0.15260898123752092)\n",
      "Ks_2sampResult(statistic=0.3619047619047619, pvalue=0.15865361228591657)\n",
      "wasserstein_distance (Earth movers distance) : 0.01962805787275468\n",
      "\n",
      "Coupe à 0.002\n",
      "MannwhitneyuResult(statistic=98.0, pvalue=0.07280665220992306)\n",
      "KruskalResult(statistic=2.168947529917163, pvalue=0.14082258303321188)\n",
      "Ks_2sampResult(statistic=0.37142857142857144, pvalue=0.15695564471228796)\n",
      "wasserstein_distance (Earth movers distance) : 0.019089310110914297\n",
      "\n",
      "Coupe à 0.01\n",
      "MannwhitneyuResult(statistic=98.0, pvalue=0.07280665220992306)\n",
      "KruskalResult(statistic=2.168947529917163, pvalue=0.14082258303321188)\n",
      "Ks_2sampResult(statistic=0.37142857142857144, pvalue=0.15695564471228796)\n",
      "wasserstein_distance (Earth movers distance) : 0.019089310110914297\n",
      "\n",
      "\n",
      "h_bet\n",
      "\n",
      "MannwhitneyuResult(statistic=145.0, pvalue=0.3499811794311365)\n",
      "KruskalResult(statistic=0.16114477246358502, pvalue=0.6881047323713209)\n",
      "Ks_2sampResult(statistic=0.3142857142857143, pvalue=0.2885863663533653)\n",
      "wasserstein_distance (Earth movers distance) : 0.03213225408646136\n",
      "\n",
      "Coupe à 0.002\n",
      "MannwhitneyuResult(statistic=95.0, pvalue=0.1663373291494546)\n",
      "KruskalResult(statistic=0.9771535202743453, pvalue=0.3229025679706406)\n",
      "Ks_2sampResult(statistic=0.425, pvalue=0.08252524092492886)\n",
      "wasserstein_distance (Earth movers distance) : 0.043859944968806484\n",
      "\n",
      "Coupe à 0.01\n",
      "MannwhitneyuResult(statistic=52.0, pvalue=0.030803538792865355)\n",
      "KruskalResult(statistic=3.5849155427523853, pvalue=0.05830638046447248)\n",
      "Ks_2sampResult(statistic=0.554945054945055, pvalue=0.020939162341774065)\n",
      "wasserstein_distance (Earth movers distance) : 0.056118475805888225\n"
     ]
    },
    {
     "data": {
      "image/png": "[encoded data removed]",
      "text/plain": [
       "<Figure size 1080x1080 with 5 Axes>"
      ]
     },
     "metadata": {
      "needs_background": "light"
     },
     "output_type": "display_data"
    }
   ],
   "source": [
    "file = os.path.join('parametre', 'list_h_block.pkl')\n",
    "with open(file, 'rb') as fichier:\n",
    "    recording = pickle.load(fichier, encoding='latin1')\n",
    "plot_fig(recording)"
   ]
  },
  {
   "cell_type": "raw",
   "metadata": {},
   "source": [
    "for ext in exts: fig.savefig('{msfigpath}/5_inter-individual_differences_fit'.format(msfigpath=msfigpath) + ext, dpi=dpi)"
   ]
  }
 ],
 "metadata": {
  "kernelspec": {
   "display_name": "Python 3",
   "language": "python",
   "name": "python3"
  },
  "language_info": {
   "codemirror_mode": {
    "name": "ipython",
    "version": 3
   },
   "file_extension": ".py",
   "mimetype": "text/x-python",
   "name": "python",
   "nbconvert_exporter": "python",
   "pygments_lexer": "ipython3",
   "version": "3.7.3"
  },
  "toc": {
   "base_numbering": 1,
   "nav_menu": {
    "height": "48px",
    "width": "252px"
   },
   "number_sections": true,
   "sideBar": true,
   "skip_h1_title": false,
   "title_cell": "Table of Contents",
   "title_sidebar": "Contents",
   "toc_cell": false,
   "toc_position": {},
   "toc_section_display": "block",
   "toc_window_display": false
  }
 },
 "nbformat": 4,
 "nbformat_minor": 2
}
