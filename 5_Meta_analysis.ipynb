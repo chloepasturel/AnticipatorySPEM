{
 "cells": [
  {
   "cell_type": "markdown",
   "metadata": {},
   "source": [
    "# aSPEM Experiment : analysis\n",
    "\n",
    "\n"
   ]
  },
  {
   "cell_type": "markdown",
   "metadata": {},
   "source": [
    "TODO: tester qu'à chaque pause, l'agent se réinitialise à $\\hat{p}=.5$"
   ]
  },
  {
   "cell_type": "code",
   "execution_count": 1,
   "metadata": {
    "ExecuteTime": {
     "end_time": "2018-07-13T14:09:02.470288Z",
     "start_time": "2018-07-13T14:09:00.548346Z"
    }
   },
   "outputs": [],
   "source": [
    "%load_ext autoreload\n",
    "%autoreload 2\n",
    "#from __future__ import division, print_function, absolute_import\n",
    "import glob\n",
    "import pickle\n",
    "import matplotlib.pyplot as plt\n",
    "import numpy as np"
   ]
  },
  {
   "cell_type": "raw",
   "metadata": {},
   "source": [
    "%load_ext version_information\n",
    "%version_information numpy, matplotlib"
   ]
  },
  {
   "cell_type": "raw",
   "metadata": {},
   "source": [
    "!ls data/"
   ]
  },
  {
   "cell_type": "code",
   "execution_count": 2,
   "metadata": {},
   "outputs": [],
   "source": [
    "exts = ['.png', '.svg', '.pdf']"
   ]
  },
  {
   "cell_type": "code",
   "execution_count": 3,
   "metadata": {
    "ExecuteTime": {
     "end_time": "2018-07-13T14:09:02.539114Z",
     "start_time": "2018-07-13T14:09:02.477153Z"
    }
   },
   "outputs": [],
   "source": [
    "%matplotlib inline\n",
    "fig_width = 15\n",
    "dpi = 400\n",
    "from aSPEM import aSPEM\n",
    "import bayesianchangepoint as bcp"
   ]
  },
  {
   "cell_type": "code",
   "execution_count": 4,
   "metadata": {
    "ExecuteTime": {
     "end_time": "2018-07-13T14:09:02.593758Z",
     "start_time": "2018-07-13T14:09:02.547277Z"
    },
    "scrolled": true
   },
   "outputs": [],
   "source": [
    "liste = []\n",
    "for fname in glob.glob('data/*pkl'):\n",
    "    a = fname.split('/')[1].split('.')[0].split('_')\n",
    "    liste.append(a)"
   ]
  },
  {
   "cell_type": "code",
   "execution_count": 5,
   "metadata": {
    "ExecuteTime": {
     "end_time": "2018-07-13T14:09:02.644736Z",
     "start_time": "2018-07-13T14:09:02.600752Z"
    }
   },
   "outputs": [],
   "source": [
    "msfigpath = '../PasturelMontagniniPerrinet2019/figures'\n",
    "#COLOR = ['black','dimgrey','grey','darkgrey','silver','rosybrown','lightcoral','indianred','firebrick','brown', 'darkred','red']\n",
    "list_sujet = ['AM','BMC','CS','DC','FM','IP','LB','OP','RS','SR','TN','YK']\n",
    "\n",
    "nb_sujet = len(list_sujet)\n",
    "COLOR = [(0+(1/nb_sujet)*n, 0, 0, 0.5) for n in range(nb_sujet)]"
   ]
  },
  {
   "cell_type": "code",
   "execution_count": 6,
   "metadata": {},
   "outputs": [],
   "source": [
    "from aSPEM import Analysis\n",
    "e = Analysis(name_file_fit='fct_velocity_sigmo')"
   ]
  },
  {
   "cell_type": "markdown",
   "metadata": {},
   "source": [
    "# find_h_with_MI"
   ]
  },
  {
   "cell_type": "code",
   "execution_count": 7,
   "metadata": {},
   "outputs": [],
   "source": [
    "def r_(p, data) :\n",
    "    \n",
    "    p = np.ma.masked_array(p, mask=np.isnan(data)).compressed()\n",
    "    data = np.ma.masked_array(data, mask=np.isnan(data)).compressed()\n",
    "\n",
    "    from scipy import stats\n",
    "    slope, intercept, r_, p_value, std_err = stats.linregress(p, data)\n",
    "    \n",
    "    return r_"
   ]
  },
  {
   "cell_type": "code",
   "execution_count": 8,
   "metadata": {},
   "outputs": [],
   "source": [
    "def regress(ax, p, data, t_label=10, color='k', lw=2) :\n",
    "    from scipy import stats\n",
    "    slope, intercept, r_, p_value, std_err = stats.linregress(p, data)\n",
    "    x_test = np.linspace(np.min(p), np.max(p), 100)\n",
    "    fitLine = slope * x_test + intercept\n",
    "\n",
    "    \n",
    "    ax.plot(x_test, fitLine, c=color, linewidth=lw)\n",
    "\n",
    "    x1, x2 = np.min(p), np.max(p)\n",
    "    y1, y2 = np.min(data), np.max(data)\n",
    "    \n",
    "    \n",
    "    #x_pos=x2-(x2-x1)/10 ; h_pos='right'\n",
    "    #x_pos=x1+(x2-x1)/10 ; h_pos='left'\n",
    "    #y_pos_r=y2-(y2-y1)/10 ; y_pos_m=y2-2*(y2-y1)/10\n",
    "    y_pos_r=y1+(y2-y1)/10 ; y_pos_m=y1+2*(y2-y1)/10\n",
    "\n",
    "    \n",
    "    ax.text(x2, y_pos_r, 'r = %0.3f'%(r_), color=color, fontsize=t_label/1.2, ha='right')\n",
    "    \n",
    "    return ax\n"
   ]
  },
  {
   "cell_type": "code",
   "execution_count": 9,
   "metadata": {},
   "outputs": [],
   "source": [
    "# https://en.wikipedia.org/wiki/Pearson_correlation_coefficient#Weighted_correlation_coefficient\n",
    "# https://stackoverflow.com/questions/38641691/weighted-correlation-coefficient-with-pandas\n",
    "def r_weight(ax, x, y, w, t_label=10, color='k', lw=2) :\n",
    "    \n",
    "    x = np.ma.masked_array(x, mask=np.isnan(y)).compressed()\n",
    "    y = np.ma.masked_array(y, mask=np.isnan(y)).compressed()\n",
    "    \n",
    "    def m(x, w):\n",
    "        \"\"\"Weighted Mean\"\"\"\n",
    "        return np.sum(x * w) / np.sum(w)\n",
    "\n",
    "    def cov(x, y, w):\n",
    "        \"\"\"Weighted Covariance\"\"\"\n",
    "        return np.sum(w * (x - m(x, w)) * (y - m(y, w))) / np.sum(w)\n",
    "\n",
    "    def corr(x, y, w):\n",
    "        \"\"\"Weighted Correlation\"\"\"\n",
    "        return cov(x, y, w) / np.sqrt(cov(x, x, w) * cov(y, y, w))    \n",
    "\n",
    "    r = corr(x, y, w)\n",
    "    \n",
    "    x1, x2 = np.min(x), np.max(x)\n",
    "    y1, y2 = np.min(y), np.max(y)\n",
    "    \n",
    "    \n",
    "    #x_pos=x2-(x2-x1)/10 ; h_pos='right'\n",
    "    #x_pos=x1+(x2-x1)/10 ; h_pos='left'\n",
    "    #y_pos_r=y2-(y2-y1)/10 ; y_pos_m=y2-2*(y2-y1)/10\n",
    "    y_pos_r=y1+(y2-y1)/10 ; y_pos_m=y1+2*(y2-y1)/10\n",
    "\n",
    "    \n",
    "    ax.text(x1, y_pos_r, 'r weight = %0.3f'%(r), color=color, fontsize=t_label/1.2, ha='left')\n",
    "    \n",
    "    return ax\n"
   ]
  },
  {
   "cell_type": "code",
   "execution_count": 10,
   "metadata": {
    "scrolled": false
   },
   "outputs": [
    {
     "name": "stdout",
     "output_type": "stream",
     "text": [
      "LB RS SR FM BMC IP DC TN OP YK CS AM "
     ]
    },
    {
     "data": {
      "image/png": "[encoded data removed]",
      "text/plain": [
       "<Figure size 720x720 with 1 Axes>"
      ]
     },
     "metadata": {
      "needs_background": "light"
     },
     "output_type": "display_data"
    }
   ],
   "source": [
    "fig, ax = plt.subplots(1,1,figsize=(10,10))\n",
    "\n",
    "\n",
    "Full = e.Full_list(modes_bcp=[])\n",
    "modes_bcp = 'mean'\n",
    "#list_h = np.geomspace(0.0025, 0.25, 1000)# 21)\n",
    "#list_h = np.geomspace(0.001, 0.5, 100)# 21)\n",
    "tau = np.arange(2, 401, 1)\n",
    "list_h = 1/tau\n",
    "#print(h)\n",
    "\n",
    "COLOR = ['b', 'r', 'k', 'g', 'm', 'c',\n",
    "         'darkblue', 'darkred', 'peru', 'darkgreen', 'darkmagenta', 'darkcyan']\n",
    "\n",
    "\n",
    "h_va_full, h_bet_full = [], []\n",
    "r_va_full, r_bet_full = [], []\n",
    "\n",
    "for num, s in enumerate(set(Full.sujet)) :\n",
    "    print(s, end=' ')\n",
    "    va = Full['va'][Full.sujet==s].values.tolist()\n",
    "    bet = Full['results'][Full.sujet==s].values.tolist()\n",
    "    x = np.array(Full['bino'][Full.sujet==s].values.tolist())\n",
    "\n",
    "    r_va_100, r_bet_100 = [], []\n",
    "    for c in range(0, 3*200-50, 50) : r_va_100.append([]) ; r_bet_100.append([])\n",
    "\n",
    "    for h in list_h :\n",
    "\n",
    "        for d, c in enumerate(range(0, 3*200-50, 50)) :\n",
    "            x_100 = x[c:c+100]\n",
    "            p_hat_100 = np.zeros(100)\n",
    "\n",
    "            liste = [0, 50, 100]\n",
    "            for a in range(len(liste)-1) :\n",
    "                p_bar, r_bar, beliefs = bcp.inference(x_100[liste[a]:liste[a+1]], h=h, p0=.5, r0=1.)\n",
    "                p_hat_p, r_hat = bcp.readout(p_bar, r_bar, beliefs, mode=modes_bcp, p0=.5, fixed_window_size=40)\n",
    "                p_hat_100[liste[a]:liste[a+1]] = p_hat_p\n",
    "            r_va_100[d].append(r_(p_hat_100.tolist(), va[c:c+100]))\n",
    "            r_bet_100[d].append(r_(p_hat_100.tolist(), bet[c:c+100]))\n",
    "\n",
    "    h_va_100, h_bet_100 = [], []\n",
    "    r_va, r_bet = [], []\n",
    "    for d, c in enumerate(range(0, 3*200-50, 50)) :\n",
    "        #print(np.max(r_va_100[d]), np.max(r_bet_100[d]))\n",
    "        h_va_100.append(list_h[np.argmax(r_va_100[d])] if np.max(r_va_100[d]) > 0.6 else np.nan)\n",
    "        h_bet_100.append(list_h[np.argmax(r_bet_100[d])] if np.max(r_bet_100[d]) > 0.6 else np.nan)\n",
    "        \n",
    "        r_va.append(np.max(r_va_100[d]))\n",
    "        r_bet.append(np.max(r_bet_100[d]))\n",
    "        \n",
    "    ax.scatter(h_va_100, h_bet_100, c=COLOR[num], alpha=0.5, s=(np.array(r_va)*np.array(r_bet))*100,\n",
    "               marker='*' if s in ['AM', 'IP'] else None)\n",
    "    \n",
    "    h_va_full.extend(h_va_100)\n",
    "    h_bet_full.extend(h_bet_100)\n",
    "    \n",
    "    r_va_full.extend(r_va)\n",
    "    r_bet_full.extend(r_bet)\n",
    "\n",
    "    \n",
    "\n",
    "h_va_full = np.ma.masked_array(h_va_full, mask=np.isnan(h_bet_full)).compressed()\n",
    "r_va_full = np.ma.masked_array(r_va_full, mask=np.isnan(h_bet_full)).compressed()\n",
    "r_bet_full = np.ma.masked_array(r_bet_full, mask=np.isnan(h_bet_full)).compressed()\n",
    "h_bet_full = np.ma.masked_array(h_bet_full, mask=np.isnan(h_bet_full)).compressed()\n",
    "\n",
    "h_bet_full = np.ma.masked_array(h_bet_full, mask=np.isnan(h_va_full)).compressed()\n",
    "r_bet_full = np.ma.masked_array(r_bet_full, mask=np.isnan(h_va_full)).compressed()\n",
    "r_va_full = np.ma.masked_array(r_va_full, mask=np.isnan(h_va_full)).compressed()\n",
    "h_va_full = np.ma.masked_array(h_va_full, mask=np.isnan(h_va_full)).compressed()\n",
    "\n",
    "r_va_full = np.array(r_va_full)\n",
    "r_bet_full = np.array(r_bet_full)\n",
    "\n",
    "\n",
    "ax = regress(ax, h_bet_full, h_va_full, t_label=20, color='k', lw=2)\n",
    "ax = r_weight(ax, h_bet_full, h_va_full, r_va_full*r_bet_full, t_label=20, color='k', lw=2)\n",
    "\n",
    "ax.plot(np.arange(-10,10), np.arange(-10,10), '--k')\n",
    "ax.vlines(0.025, 0, 0.025, colors='k')\n",
    "ax.hlines(0.025, 0, 0.025, colors='k')\n",
    "    \n",
    "ax.set_xlabel('$h_{bet}$', fontsize=20) ; ax.set_xlim(min(list_h)-min(list_h)/10, max(list_h)+max(list_h)/10)\n",
    "ax.set_ylabel('$h_{va}$', fontsize=20)  ; ax.set_ylim(min(list_h)-min(list_h)/10, max(list_h)+max(list_h)/10)\n",
    "ax.set_xscale(\"log\") ; ax.set_yscale(\"log\")\n",
    "plt.show()"
   ]
  },
  {
   "cell_type": "raw",
   "metadata": {},
   "source": [
    "for ext in exts: fig.savefig('{msfigpath}/5_inter-individual_differences_fit'.format(msfigpath=msfigpath) + ext, dpi=dpi)"
   ]
  },
  {
   "cell_type": "code",
   "execution_count": null,
   "metadata": {},
   "outputs": [],
   "source": []
  }
 ],
 "metadata": {
  "kernelspec": {
   "display_name": "Python 3",
   "language": "python",
   "name": "python3"
  },
  "language_info": {
   "codemirror_mode": {
    "name": "ipython",
    "version": 3
   },
   "file_extension": ".py",
   "mimetype": "text/x-python",
   "name": "python",
   "nbconvert_exporter": "python",
   "pygments_lexer": "ipython3",
   "version": "3.6.7"
  },
  "toc": {
   "base_numbering": 1,
   "nav_menu": {
    "height": "48px",
    "width": "252px"
   },
   "number_sections": true,
   "sideBar": true,
   "skip_h1_title": false,
   "title_cell": "Table of Contents",
   "title_sidebar": "Contents",
   "toc_cell": false,
   "toc_position": {},
   "toc_section_display": "block",
   "toc_window_display": false
  }
 },
 "nbformat": 4,
 "nbformat_minor": 2
}
