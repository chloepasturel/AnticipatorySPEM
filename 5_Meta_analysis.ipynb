{
 "cells": [
  {
   "cell_type": "markdown",
   "metadata": {},
   "source": [
    "# aSPEM Experiment : analysis\n",
    "\n",
    "TODO: tester qu'à chaque pause, l'agent se réinitialise à $\\hat{p}=.5$"
   ]
  },
  {
   "cell_type": "code",
   "execution_count": 1,
   "metadata": {},
   "outputs": [
    {
     "name": "stdout",
     "output_type": "stream",
     "text": [
      "\n",
      "WELCOME\n",
      "\n",
      "2019-07-22T16:25:02+02:00\n",
      "\n",
      "CPython 3.7.4\n",
      "IPython 7.6.1\n",
      "\n",
      "numpy 1.16.4\n",
      "matplotlib 3.1.1\n",
      "torch 1.1.0.post2\n",
      "\n",
      "compiler   : Clang 10.0.1 (clang-1001.0.46.4)\n",
      "system     : Darwin\n",
      "release    : 18.6.0\n",
      "machine    : x86_64\n",
      "processor  : i386\n",
      "CPU cores  : 36\n",
      "interpreter: 64bit\n",
      "host name  : fortytwo\n",
      "Git hash   : da74a22f6b222fcaff62453c5ad89464b7bffa15\n",
      "Git repo   : https://github.com/chloepasturel/AnticipatorySPEM\n",
      "Git branch : master\n"
     ]
    }
   ],
   "source": [
    "%run 0_parameters.ipynb"
   ]
  },
  {
   "cell_type": "code",
   "execution_count": 2,
   "metadata": {},
   "outputs": [],
   "source": [
    "import pickle\n",
    "import glob\n",
    "import bayesianchangepoint as bcp"
   ]
  },
  {
   "cell_type": "code",
   "execution_count": 3,
   "metadata": {
    "ExecuteTime": {
     "end_time": "2018-07-13T14:09:02.593758Z",
     "start_time": "2018-07-13T14:09:02.547277Z"
    },
    "scrolled": true
   },
   "outputs": [],
   "source": [
    "liste = []\n",
    "for fname in glob.glob('data/*pkl'):\n",
    "    a = fname.split('/')[1].split('.')[0].split('_')\n",
    "    liste.append(a)"
   ]
  },
  {
   "cell_type": "code",
   "execution_count": 4,
   "metadata": {},
   "outputs": [],
   "source": [
    "from aSPEM import Analysis\n",
    "e = Analysis(name_file_fit='fct_velocity_sigmo')"
   ]
  },
  {
   "cell_type": "markdown",
   "metadata": {},
   "source": [
    "## find best h"
   ]
  },
  {
   "cell_type": "code",
   "execution_count": 5,
   "metadata": {},
   "outputs": [],
   "source": [
    "def best_h(exp, max_tau) :\n",
    "\n",
    "    # see notebook dev/2019_07_10_test_harzardrate\n",
    "    def pred_score(o, p_hat):\n",
    "        score = o * np.log2(p_hat) + (1-o) * np.log2(1-p_hat)\n",
    "        return score\n",
    "\n",
    "    best_h = []\n",
    "    \n",
    "    N_blocks = exp['N_blocks']\n",
    "    p = exp['p']\n",
    "    tau = np.arange(1, max_tau, 1)\n",
    "    hs = 1/tau\n",
    "    \n",
    "    for i_block in range(N_blocks):\n",
    "        score = []\n",
    "        \n",
    "        o = p[:, i_block, 0] # observations\n",
    "        p_true = p[:, i_block, 1]\n",
    "\n",
    "        for i_scan, h_ in enumerate(hs):\n",
    "\n",
    "            p_hat = np.zeros(200)\n",
    "\n",
    "            liste = [0, 50, 100, 150, 200]\n",
    "            for a in range(len(liste)-1) :\n",
    "                p_bar, r_bar, beliefs = bcp.inference(o[liste[a]:liste[a+1]], h=h_)\n",
    "                p_hat_p, r_hat = bcp.readout(p_bar, r_bar, beliefs, mode='mean')\n",
    "\n",
    "                p_hat[liste[a]:liste[a+1]] = p_hat_p\n",
    "\n",
    "            score.append(np.mean(pred_score(o, p_hat)))\n",
    "        \n",
    "        best_h.append(hs[np.argmax(score)])\n",
    "        \n",
    "    return best_h"
   ]
  },
  {
   "cell_type": "code",
   "execution_count": 6,
   "metadata": {},
   "outputs": [],
   "source": [
    "def mask_nan(h_va, h_bet, r_va, r_bet) :\n",
    "    r_va = np.ma.masked_array(r_va, mask=np.isnan(h_bet)).compressed()\n",
    "    h_va = np.ma.masked_array(h_va, mask=np.isnan(h_bet)).compressed()\n",
    "\n",
    "    r_bet = np.ma.masked_array(r_bet, mask=np.isnan(h_bet)).compressed()\n",
    "    h_bet = np.ma.masked_array(h_bet, mask=np.isnan(h_bet)).compressed()\n",
    "\n",
    "    r_bet = np.ma.masked_array(r_bet, mask=np.isnan(h_va)).compressed()\n",
    "    h_bet = np.ma.masked_array(h_bet, mask=np.isnan(h_va)).compressed()\n",
    "    \n",
    "    r_va = np.ma.masked_array(r_va, mask=np.isnan(h_va)).compressed()\n",
    "    h_va = np.ma.masked_array(h_va, mask=np.isnan(h_va)).compressed()\n",
    "    \n",
    "    return h_va, h_bet, r_va, r_bet"
   ]
  },
  {
   "cell_type": "code",
   "execution_count": 7,
   "metadata": {},
   "outputs": [],
   "source": [
    "def maxx_pourcentage(r_, pourcentage) :\n",
    "    maxx=None\n",
    "    for round_ in list(reversed(np.arange(5))) :\n",
    "        if maxx is None :\n",
    "            for x in range(len(r_)) :\n",
    "                if np.round(r_[x], round_)==np.round(pourcentage*np.max(r_), round_) :\n",
    "                    maxx=x\n",
    "    return maxx"
   ]
  },
  {
   "cell_type": "code",
   "execution_count": 8,
   "metadata": {},
   "outputs": [],
   "source": [
    "def print_stat(h) :\n",
    "    from scipy import stats\n",
    "    \n",
    "    print('\\n\\t\\t\\tmannwhitneyu', '\\tkruskal', '\\t\\tks_2samp', sep='')\n",
    "    print('\\t\\t\\t','-'*12, '\\t', '-'*7, '\\t\\t', '-'*8, sep='')\n",
    "    \n",
    "    def stata(h1, h2) :\n",
    "        man = stats.mannwhitneyu(h1, h2).pvalue\n",
    "        kr = stats.kruskal(h1, h2).pvalue\n",
    "        ks = stats.ks_2samp(h1, h2).pvalue\n",
    "        print('%.4f'%man, '%.4f'%kr, '%.4f'%ks, sep='\\t\\t')\n",
    "        return man, kr, ks\n",
    "    \n",
    "    list_signi = []\n",
    "    for b1 in range(2) :\n",
    "        for b2 in range(1, 3) :\n",
    "            if b1!=b2 :\n",
    "                print('BLOCK %s vs %s'%(b1,b2), end=' :\\t\\t')\n",
    "                man, kr, ks = stata(h['b'][b1], h['b'][b2])\n",
    "                for s in [man, kr, ks] :\n",
    "                    if s < 0.05 : list_signi.append('B %s-%s'%(b1,b2)) ; break\n",
    "    print('\\nSignificatif :', list_signi)"
   ]
  },
  {
   "cell_type": "code",
   "execution_count": 9,
   "metadata": {},
   "outputs": [],
   "source": [
    "suj = ['AM', 'BMC', 'CS', 'DC', 'FM', 'IP', 'LB', 'OP', 'RS', 'SR',  'TN', 'YK']"
   ]
  },
  {
   "cell_type": "code",
   "execution_count": 10,
   "metadata": {},
   "outputs": [],
   "source": [
    "fig_width_f = fig_width/2\n",
    "def plot_fig(recording, max_tau=None, coupe=[1/500, 1/200], pourcentage=None, ls=None, v_line_supp=None) :\n",
    "    \n",
    "    from matplotlib.patches import Polygon\n",
    "    \n",
    "    Full = e.Full_list(modes_bcp=[])\n",
    "    list_h = recording['list_h'][:max_tau]\n",
    "    c_block = ['olive', 'peru', 'brown']\n",
    "    \n",
    "    \n",
    "    fig = plt.figure(figsize=(fig_width_f,fig_width_f))\n",
    "    import matplotlib.gridspec as gridspec\n",
    "\n",
    "    gs = gridspec.GridSpec(5, 5, figure=fig, left=0.1, bottom=0.1, right=1, top=1,\n",
    "                           wspace=0.1, hspace=0.1)\n",
    "    ax_ = plt.subplot(gs[1:, :4])\n",
    "    ax_xC, ax_yC  = plt.subplot(gs[0, :4]), plt.subplot(gs[1:, 4])\n",
    "    \n",
    "    \n",
    "    # DECO\n",
    "    #---------------------------------------------------------------\n",
    "    lim = (min(list_h)-min(list_h)/10, max(list_h)+max(list_h)/10)\n",
    "    ax_.set_xlim(lim)     ; ax_.set_ylim(lim)\n",
    "    ax_.set_xscale(\"log\") ; ax_.set_yscale(\"log\")\n",
    "    \n",
    "    ax_x, ax_y = ax_xC.twinx(), ax_yC.twiny()\n",
    "    \n",
    "    lim = (np.log(min(list_h)-min(list_h)/10), np.log(max(list_h)+max(list_h)/10))\n",
    "    for a in [ax_x, ax_xC] : a.set_xlim(lim) ; a.set_xticks(())\n",
    "    for a in [ax_y, ax_yC] : a.set_ylim(lim) ; a.set_yticks(())\n",
    "    \n",
    "    ax_xC.set_ylim(0,1.05); ax_yC.set_xlim(0,1.05)\n",
    "    \n",
    "    # LABEL\n",
    "    ax_.set_xlabel(r'$h_{\\mathrm{aSPEM}}$', fontsize=t_label) ; ax_.set_ylabel(r'$h_{\\mathrm{bet}}$', labelpad=-20, fontsize=t_label)\n",
    "    opt = dict(fontsize=t_label/2.7)\n",
    "    \n",
    "    \n",
    "    ax_xC.set_ylabel('cumulative', **opt)\n",
    "    ax_yC.set_xlabel('cumulative', **opt) \n",
    "    opt['color'] = 'dimgrey'\n",
    "    ax_x.set_ylabel('density of $h_{\\mathrm{aSPEM}}$', va='bottom', rotation=270, **opt)\n",
    "    ax_y.set_xlabel('density of $h_{\\mathrm{bet}}$'', va='bottom', **opt) \n",
    "    \n",
    "    for a in [ax_, ax_x, ax_xC, ax_y, ax_yC] : a.set_title('', fontsize=0)\n",
    "    \n",
    "    # tick\n",
    "    ax_.tick_params(labelsize=t_label/2.7, length=7, which='major') ; ax_.tick_params(length=5, which='minor')\n",
    "    \n",
    "    opt = dict(labelsize=t_label/2.7)\n",
    "    for a in [ax_x, ax_xC, ax_y, ax_yC] : a.tick_params(**opt)\n",
    "    ax_x.set_yticks(())                    ; ax_y.set_xticks(())\n",
    "    ax_xC.set_yticks((0,0.5,1))            ; ax_yC.set_xticks((0,0.5,1))\n",
    "    ax_xC.set_yticklabels(('0','0.5','1')) ; ax_yC.set_xticklabels(('0','0.5','1'))\n",
    "    \n",
    "    #---------------------------------------------------------------\n",
    "    h_va, h_bet, r_va, r_bet = {}, {}, {}, {}\n",
    "    for l in [h_va, h_bet, r_va, r_bet] : l['full'], l['b'] = [], [[],[],[]]\n",
    "        \n",
    "    #---------------------------------------------------------------\n",
    "    for num, s in enumerate(suj) :\n",
    "        \n",
    "        print(s, end=' ')\n",
    "\n",
    "        h_va_s, h_bet_s, r_va_s, r_bet_s = [], [], [], []\n",
    "        for d, c in enumerate(range(0, 3*200-150, 200)) :\n",
    "            r_va_d, r_bet_d = recording['r_va'][s][d][:max_tau], recording['r_bet'][s][d][:max_tau]\n",
    "\n",
    "            r_va_s.append(np.max(r_va_d))   ; h_va_s.append(list_h[np.argmax(r_va_d)])\n",
    "            r_bet_s.append(np.max(r_bet_d)) ; h_bet_s.append(list_h[np.argmax(r_bet_d)])\n",
    "\n",
    "            h_va['b'][d].append(h_va_s[d]) ; h_bet['b'][d].append(h_bet_s[d])\n",
    "            r_va['b'][d].append(r_va_s[d]) ; r_bet['b'][d].append(r_bet_s[d])\n",
    "        \n",
    "        #-----------------------------------------------------------------------\n",
    "        # TRIANGLE\n",
    "        tritri = np.array([[h_va_s[y], h_bet_s[y]] for y in range(len(h_va_s))])\n",
    "        popo = Polygon(tritri, edgecolor='k', alpha=0.4, lw=1,\n",
    "                       ls=ls[num] if ls is not None else '-', facecolor='none') # color=COLOR[num]  \n",
    "        ax_.add_artist(popo)\n",
    "        \n",
    "        #-----------------------------------------------------------------------           \n",
    "        opt = dict(alpha=0.6, lw=0, edgecolors='k') # c=COLOR[num], lw=3\n",
    "        if s in ['TN', 'LB'] :\n",
    "            ax_.scatter(h_va_s[:1], h_bet_s[:1], s=(np.array(r_va_s[:1])*np.array(r_bet_s[:1]))*1000,\n",
    "                        marker='*', c=c_block[:1], zorder=100, lw=0.2, edgecolors='k')\n",
    "        else :\n",
    "            ax_.scatter(h_va_s[:1], h_bet_s[:1], s=(np.array(r_va_s[:1])*np.array(r_bet_s[:1]))*600,\n",
    "                        c=c_block[:1], zorder=50, **opt)\n",
    "\n",
    "        ax_.scatter(h_va_s[1:], h_bet_s[1:], s=(np.array(r_va_s[1:])*np.array(r_bet_s[1:]))*600,\n",
    "                    c=c_block[1:], zorder=50, **opt)\n",
    "        \n",
    "        #-----------------------------------------------------------------------\n",
    "        h_va['full'].extend(h_va_s) ; h_bet['full'].extend(h_bet_s)\n",
    "        r_va['full'].extend(r_va_s) ; r_bet['full'].extend(r_bet_s)\n",
    "    \n",
    "    h_va['full'], h_bet['full'], r_va['full'], r_bet['full'] = mask_nan(h_va['full'], h_bet['full'], r_va['full'], r_bet['full'])\n",
    "    r_va['full'], r_bet['full'] = np.array(r_va['full']), np.array(r_bet['full'])\n",
    "\n",
    "    #--------------------------------------------------------------------------------------------\n",
    "    # HISTOGRAMME\n",
    "    #--------------------------------------------------------------------------------------------\n",
    "    opt = dict(range=(np.log(min(list_h)), np.log(max(list_h))), bins=20)\n",
    "    opt_c = dict(range=(np.log(min(list_h)-min(list_h)/9), np.log(max(list_h)+max(list_h)/9)),\n",
    "                 bins=len(list_h), cumulative=True, histtype='step', align='mid', lw=2, density=True)\n",
    "    \n",
    "    # hist VA\n",
    "    #--------------------------------------------------------------------\n",
    "    for a, o, c in zip([ax_x, ax_xC], [opt, opt_c], ['dimgrey', 'k']) :\n",
    "        a.hist(np.log(h_va['full']), color=c, label='Full', alpha=0.3 if o==opt else 1, **o)\n",
    "        a.hist([np.log(h_va['b'][0]), np.log(h_va['b'][1]), np.log(h_va['b'][2])],\n",
    "               color=c_block, label=['block 1', 'block 2', 'block 3'],\n",
    "               alpha=0.6 if o==opt else 1, **o)\n",
    "    # hist BET\n",
    "    #--------------------------------------------------------------------\n",
    "    opt['orientation'], opt_c['orientation'] = \"horizontal\", \"horizontal\"\n",
    "    for a, o, c in zip([ax_y, ax_yC], [opt, opt_c], ['dimgrey', 'k']) :\n",
    "        a.hist(np.log(h_bet['full']), color=c, label='Full', alpha=0.3 if o==opt else 1, **o)\n",
    "        a.hist([np.log(h_bet['b'][0]), np.log(h_bet['b'][1]), np.log(h_bet['b'][2])],\n",
    "               color=c_block, label=['block 1', 'block 2', 'block 3'],\n",
    "               alpha=0.6 if o==opt else 1, **o)\n",
    "    \n",
    "    # lines\n",
    "    #--------------------------------------------------------------------------------------------\n",
    "    ax_.plot(np.arange(-10,10), np.arange(-10,10), '-k', alpha=0.5, lw=1.5)\n",
    "    opt=dict(colors='teal', linestyles='-', alpha=0.7, linewidth=1.5)\n",
    "    ax_.vlines(0.025, -10, 10, label='h$_{true}$', **opt) ; ax_.hlines(0.025, -10, 10, **opt)\n",
    "    ax_xC.vlines(np.log(0.025), 0, 1.1, **opt) ; ax_yC.hlines(np.log(0.025), 0, 1.1, **opt)\n",
    "    \n",
    "    lim = [np.log(min(list_h)-min(list_h)/10), np.log(max(list_h)+max(list_h)/10)]\n",
    "    ax_xC.hlines(0.5, lim[1], lim[0], colors='k', alpha=0.5, linewidth=1)\n",
    "    ax_yC.vlines(0.5, lim[1], lim[0], colors='k', alpha=0.5, linewidth=1)\n",
    "    \n",
    "    \n",
    "    \n",
    "    opt_legend = dict(alpha=0.7, lw=15, colors='k')\n",
    "    ax_.vlines(0, 0, 0, label='Full', **opt_legend)\n",
    "    \n",
    "    mimi_va, mimi_bet = np.nanmedian(h_va['full']), np.nanmedian(h_bet['full'])\n",
    "    \n",
    "    \n",
    "    opt=dict(colors='k', alpha=0.8, lw=1.5, linestyles=(3.5,[4, 2, 4, 2]))\n",
    "    ax_.vlines(mimi_va, 0, 10, **opt) ; ax_.hlines(mimi_bet, 0, 10, **opt)\n",
    "    ax_xC.vlines(np.log(mimi_va), 0, 1.1, **opt) ; ax_yC.hlines(np.log(mimi_bet), 0, 1.1, **opt)\n",
    "    \n",
    "    for b, c in enumerate(c_block) :\n",
    "        opt['colors'] = c\n",
    "        opt_legend['colors'] = c\n",
    "        mimi_va, mimi_bet = np.nanmedian(h_va['b'][b]), np.nanmedian(h_bet['b'][b])\n",
    "        \n",
    "        print('\\nBLOCK %s'%(b), end=' :\\t\\t')\n",
    "        print('\\nVA\\tmedian', np.nanmedian(h_va['b'][b]),\n",
    "              '\\t25%', np.quantile(h_va['b'][b], 0.25),\n",
    "              '\\t75%', np.quantile(h_va['b'][b], 0.75),\n",
    "             '\\nBET\\tmedian', np.nanmedian(h_bet['b'][b]),\n",
    "              '\\t25%', np.quantile(h_bet['b'][b], 0.25),\n",
    "              '\\t75%', np.quantile(h_bet['b'][b], 0.75)\n",
    "             )\n",
    "        \n",
    "        ax_.vlines(mimi_va, 0, 10, **opt) ; ax_.hlines(mimi_bet, 0, 10, **opt)\n",
    "        ax_xC.vlines(np.log(mimi_va), 0, 1.1, **opt) ; ax_yC.hlines(np.log(mimi_bet), 0, 1.1, **opt)\n",
    "        \n",
    "        ax_.vlines(0, 0, 0, label='block %s'%(b+1), **opt_legend)\n",
    "    \n",
    "    if v_line_supp is not None :\n",
    "        opt=dict(alpha=0.8, lw=1.5)\n",
    "        \n",
    "        for i, l in enumerate(v_line_supp['lines']) :\n",
    "            opt['colors'] = v_line_supp['colors'][i]\n",
    "            ax_.vlines(l, 0, 10, **opt) ; ax_.hlines(l, 0, 10, **opt)\n",
    "            ax_xC.vlines(np.log(l), 0, 1.1, **opt) ; ax_yC.hlines(np.log(l), 0, 1.1, **opt)\n",
    "    #--------------------------------------------------------------------\n",
    "    # Legend\n",
    "    opt_l = dict(fontsize=t_label/2.7, framealpha=0)#, handlelength=0.6, handletextpad=0.2)\n",
    "    ax_.legend(loc=2, bbox_to_anchor=(0.05, 0.95, 0., 0.) ,**opt_l)\n",
    "    #--------------------------------------------------------------------------------------------\n",
    "    \n",
    "    plt.show()\n",
    "    \n",
    "    #--------------------------------------------------------------------------------------------\n",
    "    # STAT\n",
    "    #--------------------------------------------------------------------------------------------\n",
    "    from scipy import stats\n",
    "    print('h_va/h_bet :', stats.wilcoxon(h_va['full'], h_bet['full']))\n",
    "    _, _, r, _, _ = stats.linregress(h_va['full'], h_bet['full'])\n",
    "    print('h_va/h_bet : r =', r)\n",
    "    \n",
    "    for h, r, title in zip([h_va, h_bet], [r_va, r_bet], [r'$h_{\\mathrm{aSPEM}}$', r'$h_{\\mathrm{bet}}$']) :\n",
    "        print('\\n\\n', '-'*64,'\\n%s\\n'%title, '-'*64, sep='')        \n",
    "        h['full'] = list(h['full'])\n",
    "        print('median', np.nanmedian(h['full']),\n",
    "              '\\n25%', np.quantile(h['full'], 0.25),\n",
    "              '\\n75%', np.quantile(h['full'], 0.75))\n",
    "        print_stat(h)\n",
    "    #--------------------------------------------------------------------------------------------\n",
    "    \n",
    "    return fig"
   ]
  },
  {
   "cell_type": "code",
   "execution_count": 11,
   "metadata": {
    "scrolled": true
   },
   "outputs": [],
   "source": [
    "file = os.path.join('parametre', 'list_h_block.pkl')\n",
    "with open(file, 'rb') as fichier : recording = pickle.load(fichier, encoding='latin1')"
   ]
  },
  {
   "cell_type": "code",
   "execution_count": 12,
   "metadata": {},
   "outputs": [],
   "source": [
    "max_tau=1601"
   ]
  },
  {
   "cell_type": "code",
   "execution_count": null,
   "metadata": {},
   "outputs": [],
   "source": [
    "import glob\n",
    "import pickle\n",
    "for fname in glob.glob('data/pari*pkl'):\n",
    "    l = fname.split('/')[1].split('.')[0].split('_')\n",
    "    if l[1]=='AM' :\n",
    "        a = 'data/pari_AM_%s.pkl'%(l[2]+'_'+l[3])\n",
    "        with open(a, 'rb') as fichier :\n",
    "            b = pickle.load(fichier, encoding='latin1')\n",
    "            exp = b\n",
    "\n",
    "v_line_supp = {}\n",
    "v_line_supp['colors'] = ['olive', 'peru', 'brown']\n",
    "v_line_supp['lines'] = best_h(exp, max_tau)"
   ]
  },
  {
   "cell_type": "code",
   "execution_count": null,
   "metadata": {},
   "outputs": [],
   "source": [
    "ls =   [(0,[3*i,2,3*i,2]) for i in range(1, 13)]\n",
    "opt = dict(max_tau=max_tau, ls=ls)"
   ]
  },
  {
   "cell_type": "code",
   "execution_count": null,
   "metadata": {},
   "outputs": [],
   "source": [
    "print('best_h :', v_line_supp['lines'])"
   ]
  },
  {
   "cell_type": "code",
   "execution_count": null,
   "metadata": {},
   "outputs": [],
   "source": [
    "fig = plot_fig(recording, v_line_supp=v_line_supp,  **opt)"
   ]
  },
  {
   "cell_type": "code",
   "execution_count": null,
   "metadata": {},
   "outputs": [],
   "source": [
    "msfigpath = '../PasturelMontagniniPerrinet2019/figures'\n",
    "for ext in exts: fig.savefig('{msfigpath}/5_inter-individual_differences_fit'.format(msfigpath=msfigpath) + ext, dpi=dpi)"
   ]
  },
  {
   "cell_type": "code",
   "execution_count": null,
   "metadata": {
    "scrolled": true
   },
   "outputs": [],
   "source": [
    "import glob\n",
    "\n",
    "for fname in glob.glob('data/pari*pkl'):\n",
    "    l = fname.split('/')[1].split('.')[0].split('_')\n",
    "    if l[1]=='AM' :\n",
    "        a = 'data/pari_AM_%s.pkl'%(l[2]+'_'+l[3])\n",
    "        with open(a, 'rb') as fichier :\n",
    "            b = pickle.load(fichier, encoding='latin1')\n",
    "            exp = b"
   ]
  },
  {
   "cell_type": "code",
   "execution_count": null,
   "metadata": {},
   "outputs": [],
   "source": [
    "s, p = {}, {}\n",
    "for b in range(3) :\n",
    "    s[b], p[b] = [], []\n",
    "    p[b].append(exp['p'][0, b, 1])\n",
    "    for t in range(200) :\n",
    "        if exp['p'][t, b, 2]==1:\n",
    "            s[b].append(t)\n",
    "            p[b].append(exp['p'][t, b, 1])\n",
    "    print(b, s[b], p[b])"
   ]
  },
  {
   "cell_type": "code",
   "execution_count": null,
   "metadata": {},
   "outputs": [],
   "source": [
    "l, l1 = {}, {}\n",
    "for b in range(3) :\n",
    "    l[b], l1[b] = [s[b][0]], []\n",
    "    for t in range(1, len(s[b])) :\n",
    "        l[b].append(s[b][t]-s[b][t-1])\n",
    "    for t in range(len(p[b])-1) :\n",
    "        l1[b].append(p[b][t+1]-p[b][t] if p[b][t+1]>p[b][t] else p[b][t]-p[b][t+1])"
   ]
  },
  {
   "cell_type": "code",
   "execution_count": null,
   "metadata": {},
   "outputs": [],
   "source": [
    "for b in range(3) :\n",
    "    print(b, 'tau: %.3f+/-%.3f' %(np.mean(l[b]), np.std(l[b])),\n",
    "             ' h: %.3f+/-%.3f' %(1/np.mean(l[b]), 1/np.std(l[b])),\n",
    "             ' p: %.3f+/-%.3f' %(np.mean(p[b]), np.std(p[b])),\n",
    "             ' diff: %.3f+/-%.3f' %(np.mean(l1[b]), np.std(l1[b])))"
   ]
  },
  {
   "cell_type": "markdown",
   "metadata": {},
   "source": [
    "# TODO : clean-up this cell\n",
    "\n",
    "\n",
    "BIZZARERIE numéro 1 BLOCK 3 H_va:\n",
    "\n",
    "- Les h trouvés dans bloc 3 sont signifiativement diffèrent des deux autre bloc avec des h plus élevé (plus volatil) !\n",
    "- pourtant true h plus petit dans block 3 (plus stable) !\n",
    "    \n",
    "    TRUE h pour tout les blocs :\n",
    "        - bloc 1 : 0.031 +/- 0.060\n",
    "        - bloc 2 : 0.028 +/- 0.082\n",
    "        - bloc 3 : 0.021 +/- 0.025\n",
    "        \n",
    "- et différence entre les proba plus petit dans block 3  !\n",
    "    \n",
    "    différence proba pour tout les blocs :\n",
    "        - bloc 1 : 0.508+/-0.143\n",
    "        - bloc 2 : 0.707+/-0.286\n",
    "        - bloc 3 : 0.450+/-0.156\n",
    "\n",
    "**reglé best_h reagit pareil que h_sujet**\n",
    "\n",
    "BIZZARERIE numéro 2 BLOC 1 H_bet:\n",
    "\n",
    "- h plus petit (plus stable) que les deux autre alors qu'il plus grand (plus volatil) que les deux autre block"
   ]
  },
  {
   "cell_type": "code",
   "execution_count": null,
   "metadata": {},
   "outputs": [],
   "source": [
    "fig, axs = e.plot_experiment(color=[['k', 'k'], ['b', 'b'], ['k','none']])"
   ]
  }
 ],
 "metadata": {
  "kernelspec": {
   "display_name": "Python 3",
   "language": "python",
   "name": "python3"
  },
  "language_info": {
   "codemirror_mode": {
    "name": "ipython",
    "version": 3
   },
   "file_extension": ".py",
   "mimetype": "text/x-python",
   "name": "python",
   "nbconvert_exporter": "python",
   "pygments_lexer": "ipython3",
   "version": "3.7.4"
  },
  "toc": {
   "base_numbering": 1,
   "nav_menu": {
    "height": "48px",
    "width": "252px"
   },
   "number_sections": true,
   "sideBar": true,
   "skip_h1_title": false,
   "title_cell": "Table of Contents",
   "title_sidebar": "Contents",
   "toc_cell": false,
   "toc_position": {},
   "toc_section_display": "block",
   "toc_window_display": false
  }
 },
 "nbformat": 4,
 "nbformat_minor": 4
}
