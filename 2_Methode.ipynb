{
 "cells": [
  {
   "cell_type": "code",
   "execution_count": null,
   "metadata": {
    "ExecuteTime": {
     "end_time": "2018-03-30T13:57:13.510987Z",
     "start_time": "2018-03-30T13:57:13.213998Z"
    }
   },
   "outputs": [],
   "source": [
    "%load_ext autoreload\n",
    "%autoreload 2\n",
    "from __future__ import division, print_function, absolute_import\n",
    "import matplotlib.pyplot as plt\n",
    "import sys\n",
    "sys.path.append('..')\n",
    "%matplotlib inline"
   ]
  },
  {
   "cell_type": "code",
   "execution_count": null,
   "metadata": {
    "ExecuteTime": {
     "end_time": "2018-03-30T13:57:13.524299Z",
     "start_time": "2018-03-30T13:57:13.512676Z"
    }
   },
   "outputs": [],
   "source": [
    "t_titre = 35\n",
    "t_label = 25\n",
    "fig_width = 15"
   ]
  },
  {
   "cell_type": "code",
   "execution_count": null,
   "metadata": {
    "ExecuteTime": {
     "end_time": "2018-03-30T13:57:13.658531Z",
     "start_time": "2018-03-30T13:57:13.526143Z"
    }
   },
   "outputs": [],
   "source": [
    "!ls data"
   ]
  },
  {
   "cell_type": "code",
   "execution_count": null,
   "metadata": {
    "ExecuteTime": {
     "end_time": "2018-03-30T13:57:14.199715Z",
     "start_time": "2018-03-30T13:57:14.157453Z"
    }
   },
   "outputs": [],
   "source": [
    "observer = 'LB'\n",
    "mode = 'enregistrement'\n",
    "from aSPEM import Analysis\n",
    "e = Analysis()#observer=observer, mode=mode)"
   ]
  },
  {
   "cell_type": "code",
   "execution_count": null,
   "metadata": {
    "ExecuteTime": {
     "end_time": "2018-03-30T13:57:19.126980Z",
     "start_time": "2018-03-30T13:57:14.201379Z"
    },
    "scrolled": false
   },
   "outputs": [],
   "source": [
    "fig, axs= e.plot_Fit()"
   ]
  },
  {
   "cell_type": "code",
   "execution_count": null,
   "metadata": {
    "ExecuteTime": {
     "end_time": "2018-03-30T13:57:19.270752Z",
     "start_time": "2018-03-30T13:57:19.128811Z"
    }
   },
   "outputs": [],
   "source": [
    "fig, axs= e.plot_velocity()"
   ]
  },
  {
   "cell_type": "code",
   "execution_count": null,
   "metadata": {
    "ExecuteTime": {
     "end_time": "2018-03-30T13:57:19.271338Z",
     "start_time": "2018-03-30T13:57:13.207Z"
    }
   },
   "outputs": [],
   "source": [
    "fig, axs = e.plot_Fit(plot='velocity')\n"
   ]
  },
  {
   "cell_type": "code",
   "execution_count": null,
   "metadata": {
    "ExecuteTime": {
     "end_time": "2018-03-30T13:57:19.272264Z",
     "start_time": "2018-03-30T13:57:13.209Z"
    },
    "scrolled": false
   },
   "outputs": [],
   "source": [
    "fig, axs, result = e.plot_Fit(plot='velocity', report=True, trials=[19,71,83])"
   ]
  },
  {
   "cell_type": "code",
   "execution_count": null,
   "metadata": {
    "ExecuteTime": {
     "end_time": "2018-03-30T13:57:19.273263Z",
     "start_time": "2018-03-30T13:57:13.210Z"
    }
   },
   "outputs": [],
   "source": [
    "for x in range(len(result)) :\n",
    "    print('essai',x ,'\\n', result[0])"
   ]
  },
  {
   "cell_type": "markdown",
   "metadata": {},
   "source": [
    "### Fit"
   ]
  },
  {
   "cell_type": "code",
   "execution_count": null,
   "metadata": {
    "ExecuteTime": {
     "end_time": "2018-03-30T13:57:19.274485Z",
     "start_time": "2018-03-30T13:57:13.211Z"
    }
   },
   "outputs": [],
   "source": [
    "# pour générer les paramètre fit ainsi que les figures de tout les essais\n",
    "#e.Fit()"
   ]
  },
  {
   "cell_type": "code",
   "execution_count": null,
   "metadata": {},
   "outputs": [],
   "source": []
  }
 ],
 "metadata": {
  "kernelspec": {
   "display_name": "Python 3",
   "language": "python",
   "name": "python3"
  },
  "language_info": {
   "codemirror_mode": {
    "name": "ipython",
    "version": 3
   },
   "file_extension": ".py",
   "mimetype": "text/x-python",
   "name": "python",
   "nbconvert_exporter": "python",
   "pygments_lexer": "ipython3",
   "version": "3.6.4"
  },
  "toc": {
   "nav_menu": {
    "height": "12px",
    "width": "252px"
   },
   "number_sections": true,
   "sideBar": true,
   "skip_h1_title": false,
   "title_cell": "Table of Contents",
   "title_sidebar": "Contents",
   "toc_cell": false,
   "toc_position": {},
   "toc_section_display": "block",
   "toc_window_display": false
  }
 },
 "nbformat": 4,
 "nbformat_minor": 2
}
