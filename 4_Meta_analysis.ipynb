{
 "cells": [
  {
   "cell_type": "markdown",
   "metadata": {},
   "source": [
    "# aSPEM Experiment : analysis\n",
    "\n",
    "\n"
   ]
  },
  {
   "cell_type": "code",
   "execution_count": 1,
   "metadata": {
    "ExecuteTime": {
     "end_time": "2018-07-13T14:09:02.470288Z",
     "start_time": "2018-07-13T14:09:00.548346Z"
    },
    "collapsed": true
   },
   "outputs": [
    {
     "ename": "SyntaxError",
     "evalue": "from __future__ imports must occur at the beginning of the file (cell_name, line 6)",
     "output_type": "error",
     "traceback": [
      "\u001b[0;36m  File \u001b[0;32m\"cell_name\"\u001b[0;36m, line \u001b[0;32m6\u001b[0m\n\u001b[0;31mSyntaxError\u001b[0m\u001b[0;31m:\u001b[0m from __future__ imports must occur at the beginning of the file\n"
     ]
    }
   ],
   "source": [
    "%load_ext autoreload\n",
    "%autoreload 2\n",
    "import glob\n",
    "import pickle\n",
    "import matplotlib.pyplot as plt\n",
    "import numpy as np"
   ]
  },
  {
   "cell_type": "raw",
   "metadata": {},
   "source": [
    "%load_ext version_information\n",
    "%version_information numpy, matplotlib"
   ]
  },
  {
   "cell_type": "raw",
   "metadata": {},
   "source": [
    "!ls data/"
   ]
  },
  {
   "cell_type": "code",
   "execution_count": null,
   "metadata": {
    "ExecuteTime": {
     "end_time": "2018-07-13T14:09:02.539114Z",
     "start_time": "2018-07-13T14:09:02.477153Z"
    },
    "collapsed": true
   },
   "outputs": [],
   "source": [
    "%matplotlib inline\n",
    "fig_width = 15\n",
    "\n",
    "from aSPEM import aSPEM\n",
    "import bayesianchangepoint as bcp"
   ]
  },
  {
   "cell_type": "code",
   "execution_count": null,
   "metadata": {
    "ExecuteTime": {
     "end_time": "2018-07-13T14:09:02.593758Z",
     "start_time": "2018-07-13T14:09:02.547277Z"
    },
    "collapsed": true,
    "scrolled": true
   },
   "outputs": [],
   "source": [
    "liste = []\n",
    "for fname in glob.glob('data/*pkl'):\n",
    "    a = fname.split('/')[1].split('.')[0].split('_')\n",
    "    liste.append(a)"
   ]
  },
  {
   "cell_type": "code",
   "execution_count": null,
   "metadata": {
    "ExecuteTime": {
     "end_time": "2018-07-13T14:09:02.644736Z",
     "start_time": "2018-07-13T14:09:02.600752Z"
    },
    "collapsed": true
   },
   "outputs": [],
   "source": [
    "#COLOR = ['black','dimgrey','grey','darkgrey','silver','rosybrown','lightcoral','indianred','firebrick','brown', 'darkred','red']\n",
    "list_sujet = ['AM','BMC','CS','DC','FM','IP','LB','OP','RS','SR','TN']#,'YK']\n",
    "\n",
    "nb_sujet = len(list_sujet)\n",
    "\n",
    "COLOR = []\n",
    "for n in range(nb_sujet) :\n",
    "    COLOR.append((0+(1/nb_sujet)*n, 0, 0, 0.5))"
   ]
  },
  {
   "cell_type": "code",
   "execution_count": null,
   "metadata": {
    "ExecuteTime": {
     "end_time": "2018-07-13T14:09:02.713054Z",
     "start_time": "2018-07-13T14:09:02.652254Z"
    },
    "collapsed": true
   },
   "outputs": [],
   "source": [
    "exp = []\n",
    "for x in range(len(liste)) :\n",
    "    if liste[x][0]=='pari' and liste[x][1] in list_sujet:\n",
    "        a = 'data/%s_%s_%s_%s.pkl'%(liste[x][0], liste[x][1],liste[x][2],liste[x][3])\n",
    "        with open(a, 'rb') as fichier :\n",
    "            b = pickle.load(fichier, encoding='latin1')\n",
    "            exp.append(b)"
   ]
  },
  {
   "cell_type": "code",
   "execution_count": null,
   "metadata": {
    "ExecuteTime": {
     "end_time": "2018-07-13T14:09:07.303209Z",
     "start_time": "2018-07-13T14:09:02.720212Z"
    },
    "collapsed": true
   },
   "outputs": [],
   "source": [
    "param = []\n",
    "for x in range(len(liste)) :\n",
    "    if liste[x][0]=='pari' and liste[x][1] in list_sujet:\n",
    "        a = 'parametre/param_Fit_%s_fct_velocity_2_step_False_whitening.pkl'%(liste[x][1])\n",
    "        with open(a, 'rb') as fichier :\n",
    "            b = pickle.load(fichier, encoding='latin1')\n",
    "            param.append(b)"
   ]
  },
  {
   "cell_type": "markdown",
   "metadata": {},
   "source": [
    "# Variation de h"
   ]
  },
  {
   "cell_type": "code",
   "execution_count": null,
   "metadata": {
    "ExecuteTime": {
     "end_time": "2018-07-13T14:09:08.233741Z",
     "start_time": "2018-07-13T14:09:07.484340Z"
    },
    "collapsed": true
   },
   "outputs": [],
   "source": [
    "from lmfit import  Model, Parameters"
   ]
  },
  {
   "cell_type": "code",
   "execution_count": null,
   "metadata": {
    "ExecuteTime": {
     "end_time": "2018-07-13T14:09:08.288445Z",
     "start_time": "2018-07-13T14:09:08.242459Z"
    },
    "collapsed": true
   },
   "outputs": [],
   "source": [
    "def fct_BCP(x, h) :\n",
    "\n",
    "    p_bar, r_bar, beliefs = bcp.inference(x, h=h, p0=.5, r0=1.)\n",
    "    p_hat, r_hat = bcp.readout(p_bar, r_bar, beliefs, mode='mean', p0=.5, fixed_window_size=40)#, mode='mean')\n",
    "    \n",
    "    return p_hat"
   ]
  },
  {
   "cell_type": "code",
   "execution_count": 1,
   "metadata": {},
   "outputs": [
    {
     "ename": "NameError",
     "evalue": "name 'Parameters' is not defined",
     "output_type": "error",
     "traceback": [
      "\u001b[0;31m---------------------------------------------------------------------------\u001b[0m",
      "\u001b[0;31mNameError\u001b[0m                                 Traceback (most recent call last)",
      "\u001b[0;32m<ipython-input-1-76c498416bb6>\u001b[0m in \u001b[0;36m<module>\u001b[0;34m\u001b[0m\n\u001b[1;32m     20\u001b[0m \u001b[0;34m\u001b[0m\u001b[0m\n\u001b[1;32m     21\u001b[0m \u001b[0;34m\u001b[0m\u001b[0m\n\u001b[0;32m---> 22\u001b[0;31m \u001b[0mparams\u001b[0m \u001b[0;34m=\u001b[0m \u001b[0mParameters\u001b[0m\u001b[0;34m(\u001b[0m\u001b[0;34m)\u001b[0m\u001b[0;34m\u001b[0m\u001b[0;34m\u001b[0m\u001b[0m\n\u001b[0m\u001b[1;32m     23\u001b[0m \u001b[0mparams\u001b[0m\u001b[0;34m.\u001b[0m\u001b[0madd\u001b[0m\u001b[0;34m(\u001b[0m\u001b[0;34m'amp'\u001b[0m\u001b[0;34m,\u001b[0m \u001b[0mvalue\u001b[0m\u001b[0;34m=\u001b[0m\u001b[0;36m10\u001b[0m\u001b[0;34m)\u001b[0m\u001b[0;34m\u001b[0m\u001b[0;34m\u001b[0m\u001b[0m\n\u001b[1;32m     24\u001b[0m \u001b[0mparams\u001b[0m\u001b[0;34m.\u001b[0m\u001b[0madd\u001b[0m\u001b[0;34m(\u001b[0m\u001b[0;34m'decay'\u001b[0m\u001b[0;34m,\u001b[0m \u001b[0mvalue\u001b[0m\u001b[0;34m=\u001b[0m\u001b[0;36m0.007\u001b[0m\u001b[0;34m)\u001b[0m\u001b[0;34m\u001b[0m\u001b[0;34m\u001b[0m\u001b[0m\n",
      "\u001b[0;31mNameError\u001b[0m: name 'Parameters' is not defined"
     ]
    }
   ],
   "source": [
    "#def KL_distance(p_data, p_hat):\n",
    "#    distance = p_hat * np.log2(p_hat) - p_hat * np.log2(p_data)\n",
    "#    distance += (1-p_hat) * np.log2(1-p_hat) - (1-p_hat) * np.log2(1-p_data)\n",
    "#    return distance\n",
    "\n",
    "def KL_distance(p_data, p_hat):\n",
    "    distance = p_data * np.log2(p_data + 1.*(p_data==0.)) - p_data * np.log2(p_hat)\n",
    "    distance += (1-p_data) * np.log2(1-p_data + 1.*(p_data==1.)) - (1-p_data) * np.log2(1-p_hat)\n",
    "    return distance\n",
    "\n",
    "\n",
    "from lmfit import minimize\n",
    "\n",
    "def residual(params, x, data, eps_data):\n",
    "    amp = params['amp']\n",
    "\n",
    "    model = fct_BCP(x, h)\n",
    "\n",
    "    return (data-model) / eps_data\n",
    "\n",
    "\n",
    "params = Parameters()\n",
    "params.add('amp', value=10)\n",
    "params.add('decay', value=0.007)\n",
    "params.add('phase', value=0.2)\n",
    "params.add('frequency', value=3.0)\n",
    "\n",
    "out = minimize(residual, params, args=(x, data, eps_data))\n"
   ]
  },
  {
   "cell_type": "code",
   "execution_count": null,
   "metadata": {
    "ExecuteTime": {
     "end_time": "2018-07-13T14:09:08.347121Z",
     "start_time": "2018-07-13T14:09:08.294633Z"
    },
    "collapsed": true
   },
   "outputs": [],
   "source": [
    "def fit(h, proba, bet, va):\n",
    "    params = Parameters()\n",
    "    model = Model(fct_BCP)\n",
    "\n",
    "    params.add('h', value=h, min=0, max=1)\n",
    "    \n",
    "    result_res = model.fit(bet, params, x=proba, nan_policy='omit')\n",
    "    result_v_ant = model.fit(va, params, x=proba, nan_policy='omit')\n",
    "\n",
    "    h_bet = result_res.values['h']\n",
    "    h_va = result_v_ant.values['h']\n",
    "    \n",
    "    return h_bet, h_va"
   ]
  },
  {
   "cell_type": "code",
   "execution_count": null,
   "metadata": {
    "ExecuteTime": {
     "end_time": "2018-07-13T14:14:47.745460Z",
     "start_time": "2018-07-13T14:09:08.355164Z"
    },
    "collapsed": true,
    "scrolled": true
   },
   "outputs": [],
   "source": [
    "h_bet = {}\n",
    "h_va = {}\n",
    "\n",
    "for l in ['pause', 'block', 'sujet'] :\n",
    "    h_bet[l] = []\n",
    "    h_va[l] = []\n",
    "\n",
    "for x in range(len(exp)) :\n",
    "    \n",
    "    prob_sujet, bet_sujet, v_anti_sujet = [], [], []\n",
    "\n",
    "    p = exp[x]['p']\n",
    "    tau = exp[x]['N_trials']/5.\n",
    "    h = 1./tau \n",
    "\n",
    "    bet = (exp[x]['results']+1)/2 # results est sur [-1,1] on le ramene sur [0,1]\n",
    "    a_anti = param[x]['v_anti']\n",
    "    latence = param[x]['latence']\n",
    "    start_anti = param[x]['start_anti']\n",
    "\n",
    "    for l in ['block', 'pause'] :\n",
    "        h_bet[l].append([])\n",
    "        h_va[l].append([])\n",
    "\n",
    "    for block in range(exp[x]['N_blocks']):\n",
    "\n",
    "        va = (np.array(a_anti[block])*((np.array(latence[block])-np.array(start_anti[block]))/1000))\n",
    "        \n",
    "        prob_block = p[:, block, 0]\n",
    "        h_b, h_v = fit(h, prob_block, bet[:, block], va)\n",
    "\n",
    "        h_bet['block'][x].append(h_b)\n",
    "        h_va['block'][x].append(h_v)\n",
    "\n",
    "        prob_sujet.extend(p[:, block, 0])\n",
    "        bet_sujet.extend(bet[:, block])\n",
    "        v_anti_sujet.extend(va)\n",
    "        #----------------------------------------------------\n",
    "        # Pour chaque pause !\n",
    "        #----------------------------------------------------\n",
    "        liste = [0,50,100,150,200]\n",
    "        for a in range(len(liste)-1) :\n",
    "            va_p = (np.array(a_anti[block][liste[a]:liste[a+1]])*((np.array(latence[block][liste[a]:liste[a+1]])-np.array(start_anti[block][liste[a]:liste[a+1]]))/1000))\n",
    "            \n",
    "            prob_pause = p[liste[a]:liste[a+1], block, 0]\n",
    "            h_b, h_v = fit(h, prob_pause, bet[liste[a]:liste[a+1], block], va_p)\n",
    "\n",
    "            h_bet['pause'][x].append(h_b)\n",
    "            h_va['pause'][x].append(h_v)\n",
    "                \n",
    "\n",
    "    h_b, h_v = fit(h, prob_sujet, bet_sujet, v_anti_sujet)\n",
    "    h_bet['sujet'].append(h_b)\n",
    "    h_va['sujet'].append(h_v)"
   ]
  },
  {
   "cell_type": "code",
   "execution_count": null,
   "metadata": {
    "collapsed": true
   },
   "outputs": [],
   "source": [
    "fig_width = 15\n",
    "t_titre = 70\n",
    "t_label = (30*4)/3"
   ]
  },
  {
   "cell_type": "code",
   "execution_count": null,
   "metadata": {
    "ExecuteTime": {
     "end_time": "2018-07-13T14:09:07.355184Z",
     "start_time": "2018-07-13T14:09:07.312322Z"
    },
    "collapsed": true
   },
   "outputs": [],
   "source": [
    "def regress(ax, p, data, c, minx=0, miny=0, maxx=1, maxy=1, t_label=t_label) :\n",
    "    from scipy import stats\n",
    "    slope, intercept, r_, p_value, std_err = stats.linregress(p, data)\n",
    "    x_test = np.linspace(np.min(p), np.max(p), 100)\n",
    "    fitLine = slope * x_test + intercept\n",
    "    ax.plot(x_test, fitLine, c=c, linewidth=2)\n",
    "    \n",
    "    ax.text(maxx-((maxx-minx)/10), miny+((maxy-miny)/10), 'r = %0.3f\\np_value = %0.3f'%(r_, p_value), fontsize=t_label/1.2, ha='right', color=c)\n",
    "    return ax"
   ]
  },
  {
   "cell_type": "code",
   "execution_count": null,
   "metadata": {
    "ExecuteTime": {
     "end_time": "2018-07-13T14:09:07.412748Z",
     "start_time": "2018-07-13T14:09:07.362935Z"
    },
    "collapsed": true
   },
   "outputs": [],
   "source": [
    "def scatter_mean(bet, va, titre, maxx=0.55, maxy=0.25, ex=0.02, ey=0.01,\n",
    "                 ellipse=False, color=False, mean='mean', supp=False, fig_width=10) :\n",
    "    \n",
    "    if ellipse is True :\n",
    "        from matplotlib.patches import Ellipse\n",
    "    \n",
    "    fig, axs = plt.subplots(1, 1, figsize=((fig_width), (fig_width)), constrained_layout=True) #/(1.6180*1))\n",
    "\n",
    "    m_bet, m_va = [], []\n",
    "    for x in range(len(bet)):\n",
    "        if ellipse is True :\n",
    "            ells = Ellipse((np.mean(bet[x]), np.mean(va[x])), 2*np.std(bet[x]), 2*np.std(va[x]), 0,\n",
    "                           color='k', alpha=0.2, clip_box=axs.bbox)\n",
    "            axs.add_artist(ells)\n",
    "        \n",
    "        if mean=='mean' :\n",
    "            mean_bet = np.mean(bet[x])\n",
    "            mean_va = np.mean(va[x])\n",
    "        elif mean=='mediane' :\n",
    "            mean_bet = np.median(bet[x])\n",
    "            mean_va = np.median(va[x])           \n",
    "            \n",
    "        if color is False :\n",
    "            c = 'k'\n",
    "        else :\n",
    "            c = color[x]\n",
    "            \n",
    "        axs.errorbar(mean_bet, mean_va,\n",
    "                    xerr=np.std(bet[x]), yerr=np.std(va[x]),\n",
    "                    color=c, fmt='o', elinewidth=2, ms=10, alpha=0.6)\n",
    "        \n",
    "        m_bet.append(mean_bet)\n",
    "        m_va.append(mean_va)\n",
    "\n",
    "    axs.set_title(titre, fontsize=t_titre)\n",
    "    axs.set_xlabel('h$_{bet}$', fontsize=t_label)\n",
    "    axs.set_ylabel('h$_{v_a}$', fontsize=t_label)\n",
    "    axs.tick_params(axis='both', labelsize=t_label/1.8)\n",
    "    \n",
    "    axs.axis([-ex ,maxx+ex,-ey,maxy+ey])\n",
    "    axs.plot(np.arange(-10,10), np.arange(-10,10), '--k')\n",
    "\n",
    "    regress(axs, m_bet, m_va, 'r', minx=-ex, miny=-ey, maxx=maxx+ex, maxy=(maxy+ey)/2)\n",
    "    \n",
    "    if supp is True :\n",
    "        print(np.argmax(m_bet), exp[np.argmax(m_bet)]['observer'])\n",
    "        del m_va[np.argmax(m_bet)]\n",
    "        del m_bet[np.argmax(m_bet)]\n",
    "        print(np.argmax(m_bet), exp[np.argmax(m_bet)]['observer'])\n",
    "        del m_va[np.argmax(m_bet)]\n",
    "        del m_bet[np.argmax(m_bet)]\n",
    "\n",
    "        regress(axs, m_bet, m_va, 'k', minx=0, miny=maxy/2, maxx=maxx, maxy=maxy)\n",
    "    \n",
    "    fig.tight_layout()\n",
    "    plt.show()\n",
    "    return fig, axs"
   ]
  },
  {
   "cell_type": "code",
   "execution_count": null,
   "metadata": {
    "ExecuteTime": {
     "end_time": "2018-07-13T14:14:49.309014Z",
     "start_time": "2018-07-13T14:14:47.751655Z"
    },
    "scrolled": true
   },
   "outputs": [],
   "source": [
    "fig, axs = plt.subplots(1, 1, figsize=((fig_width), (fig_width)/(1.6180*1)), constrained_layout=True)\n",
    "\n",
    "for x, color in enumerate(COLOR):\n",
    "    axs.scatter(h_bet['sujet'][x], h_va['sujet'][x],color=color)\n",
    "\n",
    "axs.set_title('Sujet', fontsize=t_titre)\n",
    "axs.set_xlabel('h$_{bet}$', fontsize=t_label)\n",
    "axs.set_ylabel('h$_{v_a}$', fontsize=t_label)\n",
    "axs.axis([-0.01 ,0.21,-0.01,0.11])\n",
    "\n",
    "regress(axs, h_bet['sujet'], h_va['sujet'], 'k', minx=-0.01, miny=-0.01, maxx=0.21, maxy=0.08)\n",
    "\n",
    "Hva = h_va['sujet'].copy()\n",
    "Hbet = h_bet['sujet'].copy()\n",
    "\n",
    "del Hva[np.argmax(Hbet)]\n",
    "del Hbet[np.argmax(Hbet)]\n",
    "del Hva[np.argmax(Hbet)]\n",
    "del Hbet[np.argmax(Hbet)]\n",
    "regress(axs, Hbet, Hva, 'r', minx=-0.01, miny=0.03, maxx=0.21, maxy=0.11)\n",
    "\n",
    "axs.plot(np.arange(-10,10), np.arange(-10,10), '--k')\n",
    "plt.show()"
   ]
  },
  {
   "cell_type": "code",
   "execution_count": 2,
   "metadata": {
    "ExecuteTime": {
     "end_time": "2018-07-13T14:14:49.309014Z",
     "start_time": "2018-07-13T14:14:47.751655Z"
    },
    "scrolled": true
   },
   "outputs": [
    {
     "ename": "NameError",
     "evalue": "name 'plt' is not defined",
     "output_type": "error",
     "traceback": [
      "\u001b[0;31m---------------------------------------------------------------------------\u001b[0m",
      "\u001b[0;31mNameError\u001b[0m                                 Traceback (most recent call last)",
      "\u001b[0;32m<ipython-input-2-2051be8fb213>\u001b[0m in \u001b[0;36m<module>\u001b[0;34m\u001b[0m\n\u001b[0;32m----> 1\u001b[0;31m \u001b[0mfig\u001b[0m\u001b[0;34m,\u001b[0m \u001b[0maxs\u001b[0m \u001b[0;34m=\u001b[0m \u001b[0mplt\u001b[0m\u001b[0;34m.\u001b[0m\u001b[0msubplots\u001b[0m\u001b[0;34m(\u001b[0m\u001b[0;36m1\u001b[0m\u001b[0;34m,\u001b[0m \u001b[0;36m1\u001b[0m\u001b[0;34m,\u001b[0m \u001b[0mfigsize\u001b[0m\u001b[0;34m=\u001b[0m\u001b[0;34m(\u001b[0m\u001b[0;34m(\u001b[0m\u001b[0mfig_width\u001b[0m\u001b[0;34m)\u001b[0m\u001b[0;34m,\u001b[0m \u001b[0;34m(\u001b[0m\u001b[0mfig_width\u001b[0m\u001b[0;34m)\u001b[0m\u001b[0;34m/\u001b[0m\u001b[0;34m(\u001b[0m\u001b[0;36m1.6180\u001b[0m\u001b[0;34m*\u001b[0m\u001b[0;36m1\u001b[0m\u001b[0;34m)\u001b[0m\u001b[0;34m)\u001b[0m\u001b[0;34m,\u001b[0m \u001b[0mconstrained_layout\u001b[0m\u001b[0;34m=\u001b[0m\u001b[0;32mTrue\u001b[0m\u001b[0;34m)\u001b[0m\u001b[0;34m\u001b[0m\u001b[0;34m\u001b[0m\u001b[0m\n\u001b[0m\u001b[1;32m      2\u001b[0m \u001b[0;34m\u001b[0m\u001b[0m\n\u001b[1;32m      3\u001b[0m \u001b[0mc\u001b[0m \u001b[0;34m=\u001b[0m \u001b[0;34m[\u001b[0m\u001b[0;34m'k'\u001b[0m\u001b[0;34m,\u001b[0m \u001b[0;34m'r'\u001b[0m\u001b[0;34m,\u001b[0m \u001b[0;34m'grey'\u001b[0m\u001b[0;34m]\u001b[0m\u001b[0;34m\u001b[0m\u001b[0;34m\u001b[0m\u001b[0m\n\u001b[1;32m      4\u001b[0m \u001b[0;34m\u001b[0m\u001b[0m\n\u001b[1;32m      5\u001b[0m \u001b[0mh_bet_block\u001b[0m \u001b[0;34m=\u001b[0m \u001b[0;34m[\u001b[0m\u001b[0;34m]\u001b[0m\u001b[0;34m\u001b[0m\u001b[0;34m\u001b[0m\u001b[0m\n",
      "\u001b[0;31mNameError\u001b[0m: name 'plt' is not defined"
     ]
    }
   ],
   "source": [
    "fig, axs = plt.subplots(1, 1, figsize=((fig_width), (fig_width)/(1.6180*1)), constrained_layout=True)\n",
    "\n",
    "c = ['k', 'r', 'grey']\n",
    "\n",
    "h_bet_block = []\n",
    "h_va_block = []\n",
    "\n",
    "for x, color in enumerate(COLOR):\n",
    "    for a in range(len(h_bet['block'][x])) :\n",
    "        axs.scatter(h_bet['block'][x][a], h_va['block'][x][a],color=c[a], s=150)\n",
    "        if x==0:\n",
    "            h_bet_block.append([])\n",
    "            h_va_block.append([])\n",
    "        h_bet_block[a].append(h_bet['block'][x][a])\n",
    "        h_va_block[a].append(h_va['block'][x][a])\n",
    "\n",
    "for a in range(len(h_bet_block)) :\n",
    "    axs.text(0.25, 0.11-(0.02*(a)+((0.02*(a+3)-0.02*(a))/10)), 'block %s'%(a+1), color=c[a], fontsize=17)\n",
    "    axs=regress(axs, h_bet_block[a], h_va_block[a], c[a], minx=-0.01, miny=0.10-(0.02*(a)), maxx=0.40, maxy=0.11-(0.02*(a+3)))\n",
    "\n",
    "axs.set_title('Block', fontsize=t_titre)\n",
    "axs.set_xlabel('h$_{bet}$', fontsize=t_label)\n",
    "axs.set_ylabel('h$_{v_a}$', fontsize=t_label)\n",
    "axs.axis([-0.01 ,0.36,-0.01,0.11])\n",
    "\n",
    "axs.plot(np.arange(-10,10), np.arange(-10,10), '--k')\n",
    "plt.show()"
   ]
  },
  {
   "cell_type": "code",
   "execution_count": null,
   "metadata": {
    "ExecuteTime": {
     "end_time": "2018-07-13T14:14:53.660264Z",
     "start_time": "2018-07-13T14:14:51.790452Z"
    },
    "scrolled": true
   },
   "outputs": [],
   "source": [
    "print('Moyenne par block')\n",
    "fig, axs = scatter_mean(h_bet_block, h_va_block, '', maxx=0.1, maxy=0.1, color=c)\n",
    "fig, axs = scatter_mean(h_bet_block, h_va_block, '', maxx=0.1, maxy=0.1, mean='mediane', color=c)\n",
    "\n",
    "#fig1, axs1 = scatter_mean(h_bet_block, h_va_block, '', maxx=0.1, maxy=0.1, ellipse=True)"
   ]
  },
  {
   "cell_type": "code",
   "execution_count": null,
   "metadata": {
    "collapsed": true
   },
   "outputs": [],
   "source": [
    "exts = ['.png', '.svg', '.pdf']"
   ]
  },
  {
   "cell_type": "code",
   "execution_count": null,
   "metadata": {
    "ExecuteTime": {
     "end_time": "2018-07-13T14:14:53.660264Z",
     "start_time": "2018-07-13T14:14:51.790452Z"
    },
    "scrolled": true
   },
   "outputs": [],
   "source": [
    "print('Moyenne par Sujet block')\n",
    "fig, axs = scatter_mean(h_bet['block'], h_va['block'], '', maxx=0.4, maxy=0.1, supp=True, color=COLOR)\n",
    "#for ext in exts: fig.savefig('ms/figures/5_inter-individual_differences_fit' + ext, dpi=400)\n",
    "\n",
    "fig, axs = scatter_mean(h_bet['block'], h_va['block'], '', maxx=0.3, maxy=0.1, mean='mediane', supp=True, color=COLOR)\n",
    "\n",
    "##fig1, axs1 = scatter_mean(h_bet['block'], h_va['block'], '', maxx=0.4, maxy=0.1, ellipse=True)"
   ]
  },
  {
   "cell_type": "code",
   "execution_count": null,
   "metadata": {
    "ExecuteTime": {
     "end_time": "2018-07-13T14:14:55.026227Z",
     "start_time": "2018-07-13T14:14:53.667132Z"
    },
    "scrolled": true
   },
   "outputs": [],
   "source": [
    "print('Moyenne par Sujet pause')\n",
    "fig, axs = scatter_mean(h_bet['pause'], h_va['pause'], '',maxx=0.4, maxy=0.4, color=COLOR)\n",
    "fig, axs = scatter_mean(h_bet['pause'], h_va['pause'], '',maxx=0.4, maxy=0.4, mean='mediane', color=COLOR)\n",
    "##fig1, axs1 = scatter_mean(h_bet['pause'], h_va['pause'], '',maxx=0.4, maxy=0.4, ellipse=True)"
   ]
  },
  {
   "cell_type": "markdown",
   "metadata": {},
   "source": [
    "## MI"
   ]
  },
  {
   "cell_type": "code",
   "execution_count": null,
   "metadata": {
    "collapsed": true
   },
   "outputs": [],
   "source": [
    "# https://matthew-brett.github.io/teaching/mutual_information.html\n",
    "def mutual_information(hgram):\n",
    "    \"\"\" Mutual information for joint histogram\"\"\"\n",
    "    # Convert bins counts to probability values\n",
    "    pxy = hgram / float(np.sum(hgram))\n",
    "    px = np.sum(pxy, axis=1) # marginal for x over y\n",
    "    py = np.sum(pxy, axis=0) # marginal for y over x\n",
    "    px_py = px[:, None] * py[None, :] # Broadcast to multiply marginals\n",
    "    # Now we can do the calculation using the pxy, px_py 2D arrays\n",
    "    nzs = pxy > 0 # Only non-zero pxy values contribute to the sum\n",
    "    return np.sum(pxy[nzs] * np.log(pxy[nzs] / px_py[nzs]))"
   ]
  },
  {
   "cell_type": "code",
   "execution_count": null,
   "metadata": {
    "collapsed": true
   },
   "outputs": [],
   "source": [
    "fig_width = 15\n",
    "t_titre = 70\n",
    "t_label = 30*4"
   ]
  },
  {
   "cell_type": "code",
   "execution_count": null,
   "metadata": {
    "scrolled": true
   },
   "outputs": [],
   "source": [
    "mi_h_bet_block, mi_h_va_block = [], []\n",
    "mimi_bet_block, mimi_va_block = [], []\n",
    "\n",
    "for x in range(len(exp)) :\n",
    "    \n",
    "    prob_sujet, bet_sujet, v_anti_sujet = [], [], []\n",
    "    \n",
    "    p = exp[x]['p']\n",
    "    tau = exp[x]['N_trials']/5.\n",
    "    h = 1./tau \n",
    "    hs = np.arange(0,1,0.001) #h*np.logspace(-1., 1., 50)\n",
    "    \n",
    "    bet = (exp[x]['results']+1)/2 # results est sur [-1,1] on le ramene sur [0,1]\n",
    "    a_anti = param[x]['v_anti']\n",
    "    latence = param[x]['latence']\n",
    "    start_anti = param[x]['start_anti']\n",
    "     \n",
    "    mi_h_bet_block.append([])\n",
    "    mi_h_va_block.append([])\n",
    "    \n",
    "    mimi_bet_block.append([])\n",
    "    mimi_va_block.append([])\n",
    "\n",
    "    for block in range(exp[x]['N_blocks']):\n",
    "        va = (np.array(a_anti[block])*((np.array(latence[block])-np.array(start_anti[block]))/1000))\n",
    "        prob_block = p[:, block, 0]\n",
    "        \n",
    "        mi_bet = np.ndarray(len(hs))\n",
    "        mi_va = np.ndarray(len(hs))\n",
    "\n",
    "        for H in range(len(hs)):\n",
    "            p_hat = fct_BCP(prob_block, hs[H])\n",
    "            p_hat_nan = np.ma.masked_array(p_hat, mask=np.isnan(va)).compressed()\n",
    "            va_nan = np.ma.masked_array(va, mask=np.isnan(va)).compressed()\n",
    "            \n",
    "            hist_bet, x_edges, y_edges = np.histogram2d(p_hat,bet[:, block],bins=20)\n",
    "            hist_va, x_edges, y_edges = np.histogram2d(p_hat_nan,va_nan,bins=20)\n",
    "\n",
    "            mi_bet[H] = mutual_information(hist_bet)\n",
    "            mi_va[H] = mutual_information(hist_va)\n",
    "                            \n",
    "        tutu_bet = mi_bet.argmax()\n",
    "        tutu_va = mi_va.argmax()\n",
    "        \n",
    "        if x==5 :\n",
    "            if block==1:\n",
    "                fig, axs = plt.subplots(1, 1, figsize=((fig_width), (fig_width)), constrained_layout=True)#/(1.6180*1)))\n",
    "                axs.vlines(hs[tutu_bet], 0, 1.5, colors='r', lw=3) \n",
    "                axs.plot(hs, mi_bet, c='k', lw=3)\n",
    "                axs.axis([-0.032 , 1.032,-0.048,1.548])\n",
    "                axs.set_xlabel('h', fontsize=t_label)\n",
    "                axs.set_ylabel('MI', fontsize=t_label)\n",
    "                axs.tick_params(axis='both', labelsize=t_label/1.8)\n",
    "                #for ext in exts: fig.savefig('ms/figures/5_A_h_bet' + ext, dpi=400)\n",
    "                \n",
    "                fig, axs = plt.subplots(1, 1, figsize=((fig_width), (fig_width)), constrained_layout=True)#/(1.6180*1)))\n",
    "                axs.vlines(hs[tutu_va], 0, 1.5, colors='r', lw=3) \n",
    "                axs.plot(hs, mi_va, c='k', lw=3)\n",
    "                axs.axis([-0.032 , 1.032,-0.048,1.548])\n",
    "                axs.set_xlabel('h', fontsize=t_label)\n",
    "                axs.set_ylabel('MI', fontsize=t_label)\n",
    "                axs.tick_params(axis='both', labelsize=t_label/1.8)\n",
    "                #for ext in exts: fig.savefig('ms/figures/5_A_h_va' + ext, dpi=400)\n",
    "                \n",
    "        mi_h_bet_block[x].append(hs[tutu_bet])\n",
    "        mi_h_va_block[x].append(hs[tutu_va])\n",
    "\n",
    "        mimi_bet_block[x].append(mi_bet[tutu_bet])\n",
    "        mimi_va_block[x].append(mi_va[tutu_va])"
   ]
  },
  {
   "cell_type": "code",
   "execution_count": null,
   "metadata": {
    "scrolled": false
   },
   "outputs": [],
   "source": [
    "print('Moyenne par Sujet block')\n",
    "fig_width = 15\n",
    "t_titre = 70\n",
    "t_label = (30*4)/3\n",
    "fig, axs = scatter_mean(mi_h_bet_block, mi_h_va_block, '', maxx=0.5, maxy=0.5, ex=0.01, ey=0.01)\n",
    "fig.tight_layout()\n",
    "#for ext in exts: fig.savefig('ms/figures/5_inter-individual_differences_MI' + ext, dpi=400)\n",
    "    \n",
    "##fig1, axs1 = scatter_mean(mi_h_bet_block, mi_h_va_block, '', maxx=0.5, maxy=0.5, ex=0.01, ey=0.01, ellipse=True)\n",
    "##fig1.tight_layout()"
   ]
  },
  {
   "cell_type": "code",
   "execution_count": null,
   "metadata": {
    "collapsed": true
   },
   "outputs": [],
   "source": []
  }
 ],
 "metadata": {
  "kernelspec": {
   "display_name": "Python 3",
   "language": "python",
   "name": "python3"
  },
  "language_info": {
   "codemirror_mode": {
    "name": "ipython",
    "version": 3
   },
   "file_extension": ".py",
   "mimetype": "text/x-python",
   "name": "python",
   "nbconvert_exporter": "python",
   "pygments_lexer": "ipython3",
   "version": "3.7.1"
  },
  "toc": {
   "base_numbering": 1,
   "nav_menu": {
    "height": "48px",
    "width": "252px"
   },
   "number_sections": true,
   "sideBar": true,
   "skip_h1_title": false,
   "title_cell": "Table of Contents",
   "title_sidebar": "Contents",
   "toc_cell": false,
   "toc_position": {},
   "toc_section_display": "block",
   "toc_window_display": false
  }
 },
 "nbformat": 4,
 "nbformat_minor": 2
}
