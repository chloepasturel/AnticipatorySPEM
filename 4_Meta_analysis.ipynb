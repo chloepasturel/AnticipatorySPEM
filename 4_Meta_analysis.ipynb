{
 "cells": [
  {
   "cell_type": "markdown",
   "metadata": {},
   "source": [
    "# aSPEM Experiment : analysis\n",
    "\n",
    "\n"
   ]
  },
  {
   "cell_type": "code",
   "execution_count": 1,
   "metadata": {
    "collapsed": true
   },
   "outputs": [],
   "source": [
    "%load_ext autoreload\n",
    "%autoreload 2\n",
    "from __future__ import division, print_function, absolute_import\n",
    "import glob\n",
    "import pickle\n",
    "import matplotlib.pyplot as plt\n",
    "#from cycler import cycler\n",
    "import numpy as np\n",
    "import scipy as sc\n",
    "from scipy import stats\n",
    "#from scipy.stats import beta"
   ]
  },
  {
   "cell_type": "raw",
   "metadata": {},
   "source": [
    "!ls data/"
   ]
  },
  {
   "cell_type": "markdown",
   "metadata": {},
   "source": [
    "TODO: inclure une réinitialisation à cahque pause en considérant chaque s-ous bloc comme des blocs indép"
   ]
  },
  {
   "cell_type": "code",
   "execution_count": 2,
   "metadata": {
    "collapsed": true
   },
   "outputs": [],
   "source": [
    "%matplotlib inline\n",
    "fig_width = 15\n",
    "\n",
    "from aSPEM import aSPEM\n",
    "import bayesianchangepoint as bcp"
   ]
  },
  {
   "cell_type": "code",
   "execution_count": 3,
   "metadata": {
    "collapsed": true,
    "scrolled": true
   },
   "outputs": [],
   "source": [
    "liste = []\n",
    "for fname in glob.glob('data/*pkl'):\n",
    "    a = fname.split('/')[1].split('.')[0].split('_')\n",
    "    liste.append(a)\n",
    "    #print(a)"
   ]
  },
  {
   "cell_type": "code",
   "execution_count": 4,
   "metadata": {
    "collapsed": true
   },
   "outputs": [],
   "source": [
    "exp = []\n",
    "for x in range(len(liste)) :\n",
    "    if liste[x][0]=='pari' and liste[x][1] in ['AM','BMC','CS','DC','FM','IP','LB','OP','RS','TN'] : #'SR','YK'\n",
    "        a = 'data/%s_%s_%s_%s.pkl'%(liste[x][0], liste[x][1],liste[x][2],liste[x][3])\n",
    "        with open(a, 'rb') as fichier :\n",
    "            b = pickle.load(fichier, encoding='latin1')\n",
    "            exp.append(b)"
   ]
  },
  {
   "cell_type": "code",
   "execution_count": 5,
   "metadata": {
    "collapsed": true
   },
   "outputs": [],
   "source": [
    "param = []\n",
    "for x in range(len(liste)) :\n",
    "    if liste[x][0]=='pari' and liste[x][1] in ['AM','BMC','CS','DC','FM','IP','LB','OP','RS','TN'] :#'SR','YK'\n",
    "        a = 'parametre/%s_param_Fit.pkl'%(liste[x][1])\n",
    "        with open(a, 'rb') as fichier :\n",
    "            b = pickle.load(fichier, encoding='latin1')\n",
    "            param.append(b)"
   ]
  },
  {
   "cell_type": "markdown",
   "metadata": {},
   "source": [
    "TODO: essayer avec les deux modes de readout pour voir si un est mieux que l'autre"
   ]
  },
  {
   "cell_type": "markdown",
   "metadata": {},
   "source": [
    "# Variation de h"
   ]
  },
  {
   "cell_type": "code",
   "execution_count": 6,
   "metadata": {
    "scrolled": true
   },
   "outputs": [],
   "source": [
    "h_bet_e = []\n",
    "h_bet_m = []\n",
    "coco_bet = []\n",
    "\n",
    "h_va_e = []\n",
    "h_va_m = []\n",
    "coco_va = []\n",
    "\n",
    "\n",
    "for x in range(len(exp)) :\n",
    "    \n",
    "    N_trials = exp[x]['N_trials']\n",
    "    N_blocks = exp[x]['N_blocks']\n",
    "    p = exp[x]['p']\n",
    "    tau = N_trials/5.\n",
    "    h = 1./tau \n",
    "    hs = h*np.logspace(-1., 1., 50)\n",
    "    \n",
    "    results = (exp[x]['results']+1)/2 # results est sur [-1,1] on le ramene sur [0,1]\n",
    "    h_bet_e.append([])\n",
    "    h_bet_m.append([])\n",
    "    coco_bet.append([])\n",
    "    \n",
    "    v_anti = param[x]['v_anti']\n",
    "    h_va_e.append([])\n",
    "    h_va_m.append([])\n",
    "    coco_va.append([])\n",
    "    \n",
    "    \n",
    "    stick = np.zeros_like(p)\n",
    "    stick[:, :, 0] = np.ones((N_trials, 1)) * np.arange(N_blocks)[np.newaxis, :]\n",
    "    stick[:, :, 1] = np.ones((N_trials, 1)) * np.arange(N_blocks)[np.newaxis, :]\n",
    "    stick[:, :, 2] = np.ones((N_trials, 1)) * np.arange(N_blocks)[np.newaxis, :]\n",
    "\n",
    "    \n",
    "    for s, mode in enumerate(['expectation', 'max']):\n",
    "        coco_bet[x].append([])\n",
    "        coco_va[x].append([])\n",
    "        \n",
    "        for block in range(N_blocks):\n",
    "           \n",
    "            coef_bet = np.ndarray(50)\n",
    "            coef_va = np.ndarray(50)\n",
    "            #----------------------------------------------------\n",
    "            # Pour chaque pause !\n",
    "            #----------------------------------------------------\n",
    "            liste = [0,50,100,150,200]\n",
    "            for a in range(len(liste)-1) :\n",
    "                for H in range(len(hs)):\n",
    "                    p_bar, r, beliefs = bcp.inference(p[liste[a]:liste[a+1], block, 0], h=hs[H], p0=.5)\n",
    "                    p_hat, r_hat = bcp.readout(p_bar, r, beliefs, mode=mode)\n",
    "\n",
    "                    coef_bet[H] = np.corrcoef(results[liste[a]:liste[a+1], block], p_hat)[0][1]\n",
    "                    coef_va[H] = np.corrcoef(v_anti[block][liste[a]:liste[a+1]], p_hat)[0][1]\n",
    "\n",
    "                tutu_bet = coef_bet.argmax()\n",
    "                tutu_va = coef_va.argmax()\n",
    "                \n",
    "                p_bar_bet, r_bet, beliefs_bet = bcp.inference(p[liste[a]:liste[a+1], block, 0], h=hs[tutu_bet], p0=.5)\n",
    "                p_hat_bet, r_hat_bet = bcp.readout(p_bar_bet, r_bet, beliefs_bet, mode=mode)\n",
    "                p_low_bet, p_sup_bet = np.zeros_like(p_hat_bet), np.zeros_like(p_hat_bet)\n",
    "                \n",
    "                p_bar_va, r_va, beliefs_va = bcp.inference(p[liste[a]:liste[a+1], block, 0], h=hs[tutu_va], p0=.5)\n",
    "                p_hat_va, r_hat_va = bcp.readout(p_bar_va, r_va, beliefs_va, mode=mode)\n",
    "                p_low_va, p_sup_va = np.zeros_like(p_hat_va), np.zeros_like(p_hat_va)\n",
    "                \n",
    "                for i_trial in range(50):#N_trials):\n",
    "                    p_low_bet[i_trial], p_sup_bet[i_trial] = stats.beta.ppf([.05, .95], a=p_hat_bet[i_trial]*r_hat_bet[i_trial], b=(1-p_hat_bet[i_trial])*r_hat_bet[i_trial])\n",
    "                    p_low_va[i_trial], p_sup_va[i_trial] = stats.beta.ppf([.05, .95], a=p_hat_va[i_trial]*r_hat_va[i_trial], b=(1-p_hat_va[i_trial])*r_hat_va[i_trial])\n",
    "\n",
    "                if mode=='expectation' :\n",
    "                    h_bet_e[x].append(hs[tutu_bet])\n",
    "                    h_va_e[x].append(hs[tutu_va])\n",
    "                elif mode=='max' :\n",
    "                    h_bet_m[x].append(hs[tutu_bet])\n",
    "                    h_va_m[x].append(hs[tutu_va])\n",
    "            \n",
    "                coco_bet[x][s].append(coef_bet[tutu_bet])\n",
    "                coco_va[x][s].append(coef_va[tutu_va])\n",
    "            #----------------------------------------------------\n",
    "            \n",
    "            '''for H in range(len(hs)):\n",
    "                p_bar, r, beliefs = bcp.inference(p[:, block, 0], h=hs[H], p0=.5)\n",
    "                p_hat, r_hat = bcp.readout(p_bar, r, beliefs, mode=mode)\n",
    "                coef_bet[H] = np.corrcoef(results[:, block], p_hat)[0][1]\n",
    "                coef_va[H] = np.corrcoef(v_anti[:, block], p_hat)[0][1]\n",
    "\n",
    "            tutu_bet = coef_bet.argmax()\n",
    "            tutu_va = coef_va.argmax()\n",
    "            \n",
    "            p_bar_bet, r_bet, beliefs_bet = bcp.inference(p[:, block, 0], h=hs[tutu_bet], p0=.5)\n",
    "            p_hat_bet, r_hat_bet = bcp.readout(p_bar_bet, r_bet, beliefs_bet, mode=mode)\n",
    "            p_low_bet, p_sup_bet = np.zeros_like(p_hat_bet), np.zeros_like(p_hat_bet)\n",
    "\n",
    "            p_bar_va, r_va, beliefs_va = bcp.inference(p[:, block, 0], h=hs[tutu_va], p0=.5)\n",
    "            p_hat_va, r_hat_va = bcp.readout(p_bar_va, r_va, beliefs_va, mode=mode)\n",
    "            p_low_va, p_sup_va = np.zeros_like(p_hat_va), np.zeros_like(p_hat_va)\n",
    "                \n",
    "                \n",
    "            for i_trial in range(50):#N_trials):\n",
    "                p_low_bet[i_trial], p_sup_bet[i_trial] = stats.beta.ppf([.05, .95], a=p_hat_bet[i_trial]*r_hat_bet[i_trial], b=(1-p_hat_bet[i_trial])*r_hat_bet[i_trial])\n",
    "                p_low_va[i_trial], p_sup_va[i_trial] = stats.beta.ppf([.05, .95], a=p_hat_va[i_trial]*r_hat_va[i_trial], b=(1-p_hat_va[i_trial])*r_hat_va[i_trial])'''\n",
    "\n",
    "            #----------------------------------------------------\n"
   ]
  },
  {
   "cell_type": "code",
   "execution_count": 7,
   "metadata": {
    "collapsed": true
   },
   "outputs": [],
   "source": [
    "new_h_bet_e = []\n",
    "new_h_bet_m = []\n",
    "new_h_va_e = []\n",
    "new_h_va_m = []\n",
    "for x in range(len(h_bet_e[0])):\n",
    "    new_h_bet_e.append([])\n",
    "    new_h_bet_m.append([])\n",
    "    new_h_va_e.append([])\n",
    "    new_h_va_m.append([])\n",
    "    for a in range(len(h_bet_e)):\n",
    "        new_h_bet_e[x].append(h_bet_e[a][x])\n",
    "        new_h_bet_m[x].append(h_bet_m[a][x])\n",
    "        new_h_va_e[x].append(h_va_e[a][x])\n",
    "        new_h_va_m[x].append(h_va_m[a][x])"
   ]
  },
  {
   "cell_type": "code",
   "execution_count": 8,
   "metadata": {
    "scrolled": true
   },
   "outputs": [
    {
     "data": {
      "image/png": "[encoded data removed]",
      "text/plain": [
       "<matplotlib.figure.Figure at 0x7feb16027128>"
      ]
     },
     "metadata": {},
     "output_type": "display_data"
    }
   ],
   "source": [
    "fig, axs = plt.subplots(1, 2, figsize=((fig_width), (fig_width)/(1.6180*2)))\n",
    "for x in range(len(h_va_e[0])):\n",
    "    axs[0].errorbar(np.mean(new_h_bet_e[x]), np.mean(new_h_va_e[x]), xerr=np.std(new_h_bet_e[x]), yerr=np.std(new_h_va_e[x]),color='k', fmt='o')\n",
    "    axs[1].errorbar(np.mean(new_h_bet_m[x]), np.mean(new_h_va_m[x]), xerr=np.std(new_h_bet_m[x]), yerr=np.std(new_h_va_m[x]),color='r', fmt='o')\n",
    "\n",
    "axs[0].set_title('mode expectation', fontsize=20)\n",
    "axs[0].set_xlabel('h$_{bet}$', fontsize=14)\n",
    "axs[0].set_ylabel('h$_{v_a}$', fontsize=14)\n",
    "axs[0].axis([-0.03 ,0.28,-0.03,0.28])\n",
    "\n",
    "axs[1].set_title('mode max', fontsize=20)\n",
    "axs[1].set_xlabel('h$_{bet}$', fontsize=14)\n",
    "axs[1].set_ylabel('h$_{v_a}$', fontsize=14)\n",
    "axs[1].axis([-0.03 ,0.28,-0.03,0.28])\n",
    "\n",
    "plt.show()"
   ]
  }
 ],
 "metadata": {
  "kernelspec": {
   "display_name": "Python 3",
   "language": "python",
   "name": "python3"
  },
  "language_info": {
   "codemirror_mode": {
    "name": "ipython",
    "version": 3
   },
   "file_extension": ".py",
   "mimetype": "text/x-python",
   "name": "python",
   "nbconvert_exporter": "python",
   "pygments_lexer": "ipython3",
   "version": "3.6.3"
  },
  "toc": {
   "colors": {
    "hover_highlight": "#DAA520",
    "navigate_num": "#000000",
    "navigate_text": "#333333",
    "running_highlight": "#FF0000",
    "selected_highlight": "#FFD700",
    "sidebar_border": "#EEEEEE",
    "wrapper_background": "#FFFFFF"
   },
   "moveMenuLeft": true,
   "nav_menu": {
    "height": "48px",
    "width": "252px"
   },
   "navigate_menu": true,
   "number_sections": true,
   "sideBar": true,
   "threshold": 4,
   "toc_cell": false,
   "toc_section_display": "block",
   "toc_window_display": false,
   "widenNotebook": false
  }
 },
 "nbformat": 4,
 "nbformat_minor": 1
}
