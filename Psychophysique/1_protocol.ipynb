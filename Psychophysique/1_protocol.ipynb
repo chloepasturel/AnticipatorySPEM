{
 "cells": [
  {
   "cell_type": "markdown",
   "metadata": {},
   "source": [
    "# aSPEM Experiment :defining a protocol\n",
    "\n",
    "\n"
   ]
  },
  {
   "cell_type": "code",
   "execution_count": 1,
   "metadata": {},
   "outputs": [],
   "source": [
    "%load_ext autoreload\n",
    "%autoreload 2\n",
    "import numpy as np\n",
    "from  aSPEM_psychophysique import aSPEM_psychophysique\n",
    "e = aSPEM_psychophysique()"
   ]
  },
  {
   "cell_type": "code",
   "execution_count": 2,
   "metadata": {},
   "outputs": [
    {
     "name": "stdout",
     "output_type": "stream",
     "text": [
      "TODO\n"
     ]
    }
   ],
   "source": [
    "print(e.print_protocol())"
   ]
  },
  {
   "cell_type": "markdown",
   "metadata": {},
   "source": [
    "## installing dependencies"
   ]
  },
  {
   "cell_type": "code",
   "execution_count": 3,
   "metadata": {},
   "outputs": [
    {
     "name": "stdout",
     "output_type": "stream",
     "text": [
      "Requirement already up-to-date: psychopy in /usr/local/lib/python2.7/dist-packages\n",
      "Requirement already up-to-date: configobj in /usr/local/lib/python2.7/dist-packages\n",
      "Collecting pyglet\n",
      "  Using cached pyglet-1.2.4-py2-none-any.whl\n",
      "Collecting scipy\n",
      "  Using cached scipy-0.19.0-cp27-cp27mu-manylinux1_x86_64.whl\n",
      "Collecting Image\n",
      "Requirement already up-to-date: six in /home/drone/.local/lib/python2.7/site-packages (from configobj)\n",
      "Collecting numpy>=1.8.2 (from scipy)\n",
      "  Using cached numpy-1.12.1-cp27-cp27mu-manylinux1_x86_64.whl\n",
      "Collecting pillow (from Image)\n",
      "  Using cached Pillow-4.1.1-cp27-cp27mu-manylinux1_x86_64.whl\n",
      "Collecting django (from Image)\n",
      "  Using cached Django-1.11.1-py2.py3-none-any.whl\n",
      "Collecting olefile (from pillow->Image)\n",
      "Collecting pytz (from django->Image)\n",
      "  Using cached pytz-2017.2-py2.py3-none-any.whl\n",
      "Installing collected packages: pyglet, numpy, scipy, olefile, pillow, pytz, django, Image\n",
      "  Found existing installation: pyglet 1.1.4\n",
      "\u001b[31m    DEPRECATION: Uninstalling a distutils installed project (pyglet) has been deprecated and will be removed in a future version. This is due to the fact that uninstalling a distutils project will only partially uninstall the project.\u001b[0m\n",
      "    Uninstalling pyglet-1.1.4:\n",
      "\u001b[31mException:\n",
      "Traceback (most recent call last):\n",
      "  File \"/home/drone/.local/lib/python2.7/site-packages/pip/basecommand.py\", line 215, in main\n",
      "    status = self.run(options, args)\n",
      "  File \"/home/drone/.local/lib/python2.7/site-packages/pip/commands/install.py\", line 342, in run\n",
      "    prefix=options.prefix_path,\n",
      "  File \"/home/drone/.local/lib/python2.7/site-packages/pip/req/req_set.py\", line 778, in install\n",
      "    requirement.uninstall(auto_confirm=True)\n",
      "  File \"/home/drone/.local/lib/python2.7/site-packages/pip/req/req_install.py\", line 754, in uninstall\n",
      "    paths_to_remove.remove(auto_confirm)\n",
      "  File \"/home/drone/.local/lib/python2.7/site-packages/pip/req/req_uninstall.py\", line 115, in remove\n",
      "    renames(path, new_path)\n",
      "  File \"/home/drone/.local/lib/python2.7/site-packages/pip/utils/__init__.py\", line 267, in renames\n",
      "    shutil.move(old, new)\n",
      "  File \"/usr/lib/python2.7/shutil.py\", line 303, in move\n",
      "    os.unlink(src)\n",
      "OSError: [Errno 13] Permission non accordée: '/usr/lib/python2.7/dist-packages/pyglet-1.1.4.egg-info'\u001b[0m\n"
     ]
    }
   ],
   "source": [
    "! pip2 install -U psychopy configobj pyglet scipy Image "
   ]
  },
  {
   "cell_type": "code",
   "execution_count": 4,
   "metadata": {},
   "outputs": [
    {
     "name": "stdout",
     "output_type": "stream",
     "text": [
      "Uninstalling PsychoPy-1.84.2:\n",
      "\u001b[31mException:\n",
      "Traceback (most recent call last):\n",
      "  File \"/home/drone/.local/lib/python2.7/site-packages/pip/basecommand.py\", line 215, in main\n",
      "    status = self.run(options, args)\n",
      "  File \"/home/drone/.local/lib/python2.7/site-packages/pip/commands/uninstall.py\", line 76, in run\n",
      "    requirement_set.uninstall(auto_confirm=options.yes)\n",
      "  File \"/home/drone/.local/lib/python2.7/site-packages/pip/req/req_set.py\", line 346, in uninstall\n",
      "    req.uninstall(auto_confirm=auto_confirm)\n",
      "  File \"/home/drone/.local/lib/python2.7/site-packages/pip/req/req_install.py\", line 754, in uninstall\n",
      "    paths_to_remove.remove(auto_confirm)\n",
      "  File \"/home/drone/.local/lib/python2.7/site-packages/pip/req/req_uninstall.py\", line 115, in remove\n",
      "    renames(path, new_path)\n",
      "  File \"/home/drone/.local/lib/python2.7/site-packages/pip/utils/__init__.py\", line 267, in renames\n",
      "    shutil.move(old, new)\n",
      "  File \"/usr/lib/python2.7/shutil.py\", line 303, in move\n",
      "    os.unlink(src)\n",
      "OSError: [Errno 13] Permission non accordée: '/usr/local/bin/psychopyApp.py'\u001b[0m\n"
     ]
    }
   ],
   "source": [
    "! pip2 uninstall -y psychopy configobj pyglet scipy Image wx"
   ]
  },
  {
   "cell_type": "code",
   "execution_count": null,
   "metadata": {
    "collapsed": true
   },
   "outputs": [],
   "source": []
  }
 ],
 "metadata": {
  "kernelspec": {
   "display_name": "Python 3",
   "language": "python",
   "name": "python3"
  },
  "language_info": {
   "codemirror_mode": {
    "name": "ipython",
    "version": 3
   },
   "file_extension": ".py",
   "mimetype": "text/x-python",
   "name": "python",
   "nbconvert_exporter": "python",
   "pygments_lexer": "ipython3",
   "version": "3.5.2"
  }
 },
 "nbformat": 4,
 "nbformat_minor": 1
}
