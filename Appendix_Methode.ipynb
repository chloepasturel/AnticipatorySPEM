{
 "cells": [
  {
   "cell_type": "code",
   "execution_count": 1,
   "metadata": {
    "ExecuteTime": {
     "end_time": "2018-07-03T09:50:04.699189Z",
     "start_time": "2018-07-03T09:50:03.814988Z"
    },
    "collapsed": true
   },
   "outputs": [],
   "source": [
    "%load_ext autoreload\n",
    "%autoreload 2"
   ]
  },
  {
   "cell_type": "code",
   "execution_count": 2,
   "metadata": {
    "ExecuteTime": {
     "end_time": "2018-07-03T09:50:04.699189Z",
     "start_time": "2018-07-03T09:50:03.814988Z"
    },
    "collapsed": true
   },
   "outputs": [],
   "source": [
    "import matplotlib.pyplot as plt\n",
    "import sys\n",
    "sys.path.append('..')\n",
    "%matplotlib inline"
   ]
  },
  {
   "cell_type": "code",
   "execution_count": 3,
   "metadata": {
    "ExecuteTime": {
     "end_time": "2018-07-03T09:50:07.390961Z",
     "start_time": "2018-07-03T09:50:04.707361Z"
    }
   },
   "outputs": [
    {
     "data": {
      "application/json": {
       "Software versions": [
        {
         "module": "Python",
         "version": "3.7.3 64bit [Clang 10.0.1 (clang-1001.0.46.3)]"
        },
        {
         "module": "IPython",
         "version": "7.5.0"
        },
        {
         "module": "OS",
         "version": "Darwin 18.2.0 x86_64 i386 64bit"
        },
        {
         "module": "numpy",
         "version": "1.16.3"
        },
        {
         "module": "matplotlib",
         "version": "3.0.3"
        },
        {
         "module": "lmfit",
         "version": "0.9.13"
        },
        {
         "module": "bayesianchangepoint",
         "version": "0.1"
        },
        {
         "module": "ANEMO",
         "version": "0.0.1"
        }
       ]
      },
      "text/html": [
       "<table><tr><th>Software</th><th>Version</th></tr><tr><td>Python</td><td>3.7.3 64bit [Clang 10.0.1 (clang-1001.0.46.3)]</td></tr><tr><td>IPython</td><td>7.5.0</td></tr><tr><td>OS</td><td>Darwin 18.2.0 x86_64 i386 64bit</td></tr><tr><td>numpy</td><td>1.16.3</td></tr><tr><td>matplotlib</td><td>3.0.3</td></tr><tr><td>lmfit</td><td>0.9.13</td></tr><tr><td>bayesianchangepoint</td><td>0.1</td></tr><tr><td>ANEMO</td><td>0.0.1</td></tr><tr><td colspan='2'>Tue Apr 30 17:00:05 2019 CEST</td></tr></table>"
      ],
      "text/latex": [
       "\\begin{tabular}{|l|l|}\\hline\n",
       "{\\bf Software} & {\\bf Version} \\\\ \\hline\\hline\n",
       "Python & 3.7.3 64bit [Clang 10.0.1 (clang-1001.0.46.3)] \\\\ \\hline\n",
       "IPython & 7.5.0 \\\\ \\hline\n",
       "OS & Darwin 18.2.0 x86\\_64 i386 64bit \\\\ \\hline\n",
       "numpy & 1.16.3 \\\\ \\hline\n",
       "matplotlib & 3.0.3 \\\\ \\hline\n",
       "lmfit & 0.9.13 \\\\ \\hline\n",
       "bayesianchangepoint & 0.1 \\\\ \\hline\n",
       "ANEMO & 0.0.1 \\\\ \\hline\n",
       "\\hline \\multicolumn{2}{|l|}{Tue Apr 30 17:00:05 2019 CEST} \\\\ \\hline\n",
       "\\end{tabular}\n"
      ],
      "text/plain": [
       "Software versions\n",
       "Python 3.7.3 64bit [Clang 10.0.1 (clang-1001.0.46.3)]\n",
       "IPython 7.5.0\n",
       "OS Darwin 18.2.0 x86_64 i386 64bit\n",
       "numpy 1.16.3\n",
       "matplotlib 3.0.3\n",
       "lmfit 0.9.13\n",
       "bayesianchangepoint 0.1\n",
       "ANEMO 0.0.1\n",
       "Tue Apr 30 17:00:05 2019 CEST"
      ]
     },
     "execution_count": 3,
     "metadata": {},
     "output_type": "execute_result"
    }
   ],
   "source": [
    "import version_information\n",
    "%load_ext version_information\n",
    "%version_information numpy, matplotlib, lmfit, bayesianchangepoint, ANEMO"
   ]
  },
  {
   "cell_type": "code",
   "execution_count": 4,
   "metadata": {
    "collapsed": true
   },
   "outputs": [],
   "source": [
    "import os\n",
    "if not os.path.exists('figures/raw'):\n",
    "    os.makedirs('figures/raw')"
   ]
  },
  {
   "cell_type": "code",
   "execution_count": 5,
   "metadata": {
    "ExecuteTime": {
     "end_time": "2018-07-03T09:50:07.464312Z",
     "start_time": "2018-07-03T09:50:07.399178Z"
    },
    "collapsed": true
   },
   "outputs": [],
   "source": [
    "t_titre = 35\n",
    "t_label = 25\n",
    "fig_width = 15\n",
    "exts = ['.png', '.svg']\n",
    "dpi = 400"
   ]
  },
  {
   "cell_type": "raw",
   "metadata": {},
   "source": [
    "!ls data"
   ]
  },
  {
   "cell_type": "code",
   "execution_count": 6,
   "metadata": {
    "ExecuteTime": {
     "end_time": "2018-07-03T09:50:12.735042Z",
     "start_time": "2018-07-03T09:50:07.472537Z"
    },
    "collapsed": true
   },
   "outputs": [
    {
     "name": "stdout",
     "output_type": "stream",
     "text": [
      "/!\\ Le fichier Delete n'existe pas pour fct_velocity_2_step_False_whitening !\n"
     ]
    }
   ],
   "source": [
    "msfigpath = '../PasturelMontagniniPerrinet2019/figures'\n",
    "observer = 'LB'\n",
    "mode = 'enregistrement'\n",
    "from aSPEM import Analysis\n",
    "e = Analysis()#observer=observer, mode=mode)"
   ]
  },
  {
   "cell_type": "code",
   "execution_count": 7,
   "metadata": {
    "ExecuteTime": {
     "end_time": "2018-07-03T09:50:26.080976Z",
     "start_time": "2018-07-03T09:50:12.742744Z"
    }
   },
   "outputs": [
    {
     "ename": "TypeError",
     "evalue": "plot_data() got an unexpected keyword argument 'name_trial_show'",
     "output_type": "error",
     "traceback": [
      "\u001b[0;31m---------------------------------------------------------------------------\u001b[0m",
      "\u001b[0;31mTypeError\u001b[0m                                 Traceback (most recent call last)",
      "\u001b[0;32m<ipython-input-7-6d6c470acad1>\u001b[0m in \u001b[0;36m<module>\u001b[0;34m\u001b[0m\n\u001b[0;32m----> 1\u001b[0;31m \u001b[0mfig\u001b[0m\u001b[0;34m,\u001b[0m \u001b[0maxs\u001b[0m \u001b[0;34m=\u001b[0m \u001b[0me\u001b[0m\u001b[0;34m.\u001b[0m\u001b[0mplot_data\u001b[0m\u001b[0;34m(\u001b[0m\u001b[0mshow\u001b[0m\u001b[0;34m=\u001b[0m\u001b[0;34m'velocity'\u001b[0m\u001b[0;34m,\u001b[0m \u001b[0mtrials\u001b[0m\u001b[0;34m=\u001b[0m\u001b[0;34m[\u001b[0m\u001b[0;36m19\u001b[0m\u001b[0;34m,\u001b[0m \u001b[0;36m71\u001b[0m\u001b[0;34m]\u001b[0m\u001b[0;34m)\u001b[0m\u001b[0;34m\u001b[0m\u001b[0;34m\u001b[0m\u001b[0m\n\u001b[0m\u001b[1;32m      2\u001b[0m \u001b[0;32mfor\u001b[0m \u001b[0mext\u001b[0m \u001b[0;32min\u001b[0m \u001b[0mexts\u001b[0m\u001b[0;34m:\u001b[0m \u001b[0mfig\u001b[0m\u001b[0;34m.\u001b[0m\u001b[0msavefig\u001b[0m\u001b[0;34m(\u001b[0m\u001b[0;34m'figures/raw/raw_trace'\u001b[0m \u001b[0;34m+\u001b[0m \u001b[0mext\u001b[0m\u001b[0;34m,\u001b[0m \u001b[0mdpi\u001b[0m\u001b[0;34m=\u001b[0m\u001b[0mdpi\u001b[0m\u001b[0;34m)\u001b[0m\u001b[0;34m\u001b[0m\u001b[0;34m\u001b[0m\u001b[0m\n",
      "\u001b[0;32m~/pool/AME_is_AnalyseModelisationExperimentation_Chloe/AnticipatorySPEM/aSPEM.py\u001b[0m in \u001b[0;36mplot_data\u001b[0;34m(self, show, trials, block, N_trials, fig_width, t_titre, t_label, stop_search_misac, name_trial_show, before_sacc, after_sacc)\u001b[0m\n\u001b[1;32m    943\u001b[0m                                     \u001b[0mN_trials\u001b[0m\u001b[0;34m=\u001b[0m\u001b[0mN_trials\u001b[0m\u001b[0;34m,\u001b[0m\u001b[0;34m\u001b[0m\u001b[0;34m\u001b[0m\u001b[0m\n\u001b[1;32m    944\u001b[0m                                     \u001b[0mfig_width\u001b[0m\u001b[0;34m=\u001b[0m\u001b[0mfig_width\u001b[0m\u001b[0;34m,\u001b[0m \u001b[0mt_titre\u001b[0m\u001b[0;34m=\u001b[0m\u001b[0mt_titre\u001b[0m\u001b[0;34m,\u001b[0m \u001b[0mt_label\u001b[0m\u001b[0;34m=\u001b[0m\u001b[0mt_label\u001b[0m\u001b[0;34m,\u001b[0m\u001b[0;34m\u001b[0m\u001b[0;34m\u001b[0m\u001b[0m\n\u001b[0;32m--> 945\u001b[0;31m                                     stop_search_misac=stop_search_misac, name_trial_show=name_trial_show, before_sacc=before_sacc, after_sacc=after_sacc)\n\u001b[0m\u001b[1;32m    946\u001b[0m \u001b[0;34m\u001b[0m\u001b[0m\n\u001b[1;32m    947\u001b[0m         \u001b[0;32mreturn\u001b[0m \u001b[0mfig\u001b[0m\u001b[0;34m,\u001b[0m \u001b[0maxs\u001b[0m\u001b[0;34m\u001b[0m\u001b[0;34m\u001b[0m\u001b[0m\n",
      "\u001b[0;31mTypeError\u001b[0m: plot_data() got an unexpected keyword argument 'name_trial_show'"
     ]
    }
   ],
   "source": [
    "fig, axs = e.plot_data(show='velocity', trials=[19, 71])\n",
    "for ext in exts: fig.savefig('figures/raw/raw_trace' + ext, dpi=dpi)"
   ]
  },
  {
   "cell_type": "code",
   "execution_count": null,
   "metadata": {
    "ExecuteTime": {
     "end_time": "2018-07-03T09:50:26.084376Z",
     "start_time": "2018-07-03T09:50:03.866Z"
    },
    "scrolled": false
   },
   "outputs": [],
   "source": [
    "fig, axs= e.plot_equation()\n",
    "for ext in exts: fig.savefig('figures/raw/raw_fit' + ext, dpi=dpi)"
   ]
  },
  {
   "cell_type": "code",
   "execution_count": null,
   "metadata": {
    "ExecuteTime": {
     "end_time": "2018-07-03T09:50:26.089040Z",
     "start_time": "2018-07-03T09:50:03.877Z"
    }
   },
   "outputs": [],
   "source": [
    "fig, axs, result = e.plot_fit(equation='fct_velocity', trials=[19, 71], report=True)\n",
    "for ext in exts: fig.savefig('figures/raw/raw_fitted' + ext, dpi=dpi)"
   ]
  },
  {
   "cell_type": "code",
   "execution_count": null,
   "metadata": {
    "ExecuteTime": {
     "end_time": "2018-07-03T09:50:26.096825Z",
     "start_time": "2018-07-03T09:50:03.898Z"
    },
    "scrolled": true
   },
   "outputs": [],
   "source": [
    "for x in range(len(result)) :\n",
    "    print('essai',x ,'\\n', result[0])"
   ]
  },
  {
   "cell_type": "markdown",
   "metadata": {},
   "source": [
    "### Fit"
   ]
  },
  {
   "cell_type": "code",
   "execution_count": null,
   "metadata": {
    "ExecuteTime": {
     "end_time": "2018-07-03T09:50:26.100830Z",
     "start_time": "2018-07-03T09:50:03.907Z"
    },
    "collapsed": true
   },
   "outputs": [],
   "source": [
    "# pour générer les paramètre fit ainsi que les figures de tout les essais\n",
    "#e.Fit()"
   ]
  },
  {
   "cell_type": "code",
   "execution_count": null,
   "metadata": {
    "collapsed": true
   },
   "outputs": [],
   "source": []
  }
 ],
 "metadata": {
  "kernelspec": {
   "display_name": "Python 3",
   "language": "python",
   "name": "python3"
  },
  "language_info": {
   "codemirror_mode": {
    "name": "ipython",
    "version": 3
   },
   "file_extension": ".py",
   "mimetype": "text/x-python",
   "name": "python",
   "nbconvert_exporter": "python",
   "pygments_lexer": "ipython3",
   "version": "3.7.3"
  },
  "toc": {
   "base_numbering": 1,
   "nav_menu": {
    "height": "12px",
    "width": "252px"
   },
   "number_sections": true,
   "sideBar": true,
   "skip_h1_title": false,
   "title_cell": "Table of Contents",
   "title_sidebar": "Contents",
   "toc_cell": false,
   "toc_position": {},
   "toc_section_display": "block",
   "toc_window_display": false
  }
 },
 "nbformat": 4,
 "nbformat_minor": 2
}
