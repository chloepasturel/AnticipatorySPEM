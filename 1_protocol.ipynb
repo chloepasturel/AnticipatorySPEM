{
 "cells": [
  {
   "cell_type": "markdown",
   "metadata": {
    "deletable": true,
    "editable": true
   },
   "source": [
    "# aSPEM Experiment :defining a protocol\n",
    "\n",
    "\n"
   ]
  },
  {
   "cell_type": "code",
   "execution_count": 3,
   "metadata": {
    "collapsed": false,
    "deletable": true,
    "editable": true
   },
   "outputs": [
    {
     "name": "stdout",
     "output_type": "stream",
     "text": [
      "The autoreload extension is already loaded. To reload it, use:\n",
      "  %reload_ext autoreload\n"
     ]
    }
   ],
   "source": [
    "%load_ext autoreload\n",
    "%autoreload 2\n",
    "import numpy as np\n",
    "from  aSPEM import aSPEM\n",
    "e = aSPEM()"
   ]
  },
  {
   "cell_type": "code",
   "execution_count": 8,
   "metadata": {
    "collapsed": false,
    "deletable": true,
    "editable": true
   },
   "outputs": [
    {
     "name": "stdout",
     "output_type": "stream",
     "text": [
      "\n",
      "    ##########################\n",
      "    #  🐭 🐁 PROTOCOL 🐭 🐁 #\n",
      "    ##########################\n",
      "\n",
      "    We used a two alternative forced choice (2AFC) paradigm. In each trial, a gray fixation screen with a small dark fixation spot was followed by a moving target during 0.25 second each. Different trials are separated by an uniformly gray 0.25  inter-stimulus interval. Before each trial, a gray screen appears asking the participant to report in which direction he thinks the target will go.\n",
      "\n",
      "     * Presentation of stimuli at 100.0 Hz on the 1024x1024 array during 0.5 s\n",
      "\n",
      "     * fixed parameters:\n",
      "             - dot_size = 0.1 dot's size,\n",
      "             - XXX\n",
      "\n",
      "    Fro each condition (blockid), we used 2 blocks of 400 trials. \n",
      "\n",
      "     * parameters:\n",
      "             - N_blocks = 2 different blocks: seed=1973 and their 2 increments to generate different movies within one block\n",
      "             - N_trials = 400 number of trials within a block\n",
      "\n",
      "            Grand total for one block is\n",
      "             - 400 trials ⨉\n",
      "             - 2 blocks x\n",
      "             - 0.5s\n",
      "\n",
      "            That is,\n",
      "             - One block=  400  trials\n",
      "             - One block=  20000  frames\n",
      "             - One block= 200.0 seconds\n",
      "             - 2 repetitions of each block= 400.0 seconds\n",
      "\n",
      "\n",
      "     # and now... let's 💃\n",
      "        \n"
     ]
    }
   ],
   "source": [
    "print(e.print_protocol())"
   ]
  },
  {
   "cell_type": "markdown",
   "metadata": {
    "deletable": true,
    "editable": true
   },
   "source": [
    "## installing dependencies"
   ]
  },
  {
   "cell_type": "code",
   "execution_count": 3,
   "metadata": {
    "collapsed": false,
    "deletable": true,
    "editable": true
   },
   "outputs": [
    {
     "name": "stdout",
     "output_type": "stream",
     "text": [
      "Requirement already up-to-date: psychopy in /usr/local/lib/python2.7/site-packages\n",
      "Requirement already up-to-date: configobj in /usr/local/lib/python2.7/site-packages\n",
      "Requirement already up-to-date: pyglet in /usr/local/lib/python2.7/site-packages\n",
      "Collecting scipy\n",
      "  Using cached scipy-0.19.0-cp27-cp27m-macosx_10_6_intel.macosx_10_9_intel.macosx_10_9_x86_64.macosx_10_10_intel.macosx_10_10_x86_64.whl\n",
      "Requirement already up-to-date: Image in /usr/local/lib/python2.7/site-packages\n",
      "Requirement already up-to-date: six in /usr/local/lib/python2.7/site-packages (from configobj)\n",
      "Collecting numpy>=1.8.2 (from scipy)\n",
      "  Using cached numpy-1.12.1-cp27-cp27m-macosx_10_6_intel.macosx_10_9_intel.macosx_10_9_x86_64.macosx_10_10_intel.macosx_10_10_x86_64.whl\n",
      "Collecting django (from Image)\n",
      "  Using cached Django-1.11.1-py2.py3-none-any.whl\n",
      "Collecting pillow (from Image)\n",
      "  Using cached Pillow-4.1.1-cp27-cp27m-macosx_10_6_intel.macosx_10_9_intel.macosx_10_9_x86_64.macosx_10_10_intel.macosx_10_10_x86_64.whl\n",
      "Collecting pytz (from django->Image)\n",
      "  Using cached pytz-2017.2-py2.py3-none-any.whl\n",
      "Collecting olefile (from pillow->Image)\n",
      "Installing collected packages: numpy, scipy, pytz, django, olefile, pillow\n",
      "\u001b[31mException:\n",
      "Traceback (most recent call last):\n",
      "  File \"/usr/local/lib/python2.7/site-packages/pip/basecommand.py\", line 215, in main\n",
      "    status = self.run(options, args)\n",
      "  File \"/usr/local/lib/python2.7/site-packages/pip/commands/install.py\", line 342, in run\n",
      "    prefix=options.prefix_path,\n",
      "  File \"/usr/local/lib/python2.7/site-packages/pip/req/req_set.py\", line 784, in install\n",
      "    **kwargs\n",
      "  File \"/usr/local/lib/python2.7/site-packages/pip/req/req_install.py\", line 851, in install\n",
      "    self.move_wheel_files(self.source_dir, root=root, prefix=prefix)\n",
      "  File \"/usr/local/lib/python2.7/site-packages/pip/req/req_install.py\", line 1064, in move_wheel_files\n",
      "    isolated=self.isolated,\n",
      "  File \"/usr/local/lib/python2.7/site-packages/pip/wheel.py\", line 345, in move_wheel_files\n",
      "    clobber(source, lib_dir, True)\n",
      "  File \"/usr/local/lib/python2.7/site-packages/pip/wheel.py\", line 323, in clobber\n",
      "    shutil.copyfile(srcfile, destfile)\n",
      "  File \"/usr/local/Cellar/python/2.7.13/Frameworks/Python.framework/Versions/2.7/lib/python2.7/shutil.py\", line 83, in copyfile\n",
      "    with open(dst, 'wb') as fdst:\n",
      "IOError: [Errno 13] Permission denied: '/usr/local/lib/python2.7/site-packages/numpy/__config__.pyc'\u001b[0m\n"
     ]
    }
   ],
   "source": [
    "! pip2 install -U psychopy configobj pyglet scipy Image "
   ]
  },
  {
   "cell_type": "code",
   "execution_count": 10,
   "metadata": {
    "collapsed": false,
    "deletable": true,
    "editable": true
   },
   "outputs": [
    {
     "name": "stdout",
     "output_type": "stream",
     "text": [
      "Uninstalling PsychoPy-1.84.2:\n",
      "  Successfully uninstalled PsychoPy-1.84.2\n",
      "Uninstalling configobj-5.0.6:\n",
      "  Successfully uninstalled configobj-5.0.6\n",
      "Uninstalling pyglet-1.2.4:\n",
      "  Successfully uninstalled pyglet-1.2.4\n",
      "Uninstalling scipy-0.19.0:\n",
      "  Successfully uninstalled scipy-0.19.0\n",
      "Uninstalling image-1.5.5:\n",
      "  Successfully uninstalled image-1.5.5\n"
     ]
    }
   ],
   "source": [
    "! pip2 uninstall -y psychopy configobj pyglet scipy Image wx"
   ]
  }
 ],
 "metadata": {
  "kernelspec": {
   "display_name": "Python 3",
   "language": "python",
   "name": "python3"
  },
  "language_info": {
   "codemirror_mode": {
    "name": "ipython",
    "version": 3
   },
   "file_extension": ".py",
   "mimetype": "text/x-python",
   "name": "python",
   "nbconvert_exporter": "python",
   "pygments_lexer": "ipython3",
   "version": "3.6.1"
  }
 },
 "nbformat": 4,
 "nbformat_minor": 1
}
