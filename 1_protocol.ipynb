{
 "cells": [
  {
   "cell_type": "markdown",
   "metadata": {},
   "source": [
    "# Speed Discrimination Experiment\n",
    "\n",
    "\n"
   ]
  },
  {
   "cell_type": "code",
   "execution_count": 1,
   "metadata": {},
   "outputs": [],
   "source": [
    "%load_ext autoreload\n",
    "%autoreload 2\n",
    "import numpy as np\n",
    "from  speed_discrimination import SpeedDiscrimination\n",
    "e = SpeedDiscrimination()"
   ]
  },
  {
   "cell_type": "code",
   "execution_count": 2,
   "metadata": {},
   "outputs": [
    {
     "name": "stdout",
     "output_type": "stream",
     "text": [
      "\n",
      "    ##########################\n",
      "    #  🐭 🐁 PROTOCOL 🐭 🐁 #\n",
      "    ##########################\n",
      "\n",
      "    We used a two alternative forced choice (2AFC) paradigm. In each trial, a gray fixation screen with a small dark fixation spot was followed by two stimulus intervals of 0.25 second each, separated by an uniformly gray 0.25 second inter-stimulus interval. The first stimulus had parameters (v1, z1) and the second had parameters (v2, z2). At the end of the trial, a gray screen appeared asking the participant to report which one of the two intervals was perceived as moving faster by pressing one of two buttons, that is whether v1 > v2 or v2 > v1.\n",
      "\n",
      "     * Presentation of stimuli at 100.0 Hz on the 1024x1024 array during 1.0 s\n",
      "\n",
      "     * fixed parameters:\n",
      "             - sf_0 = 0.01 mean spatial frequency,\n",
      "             - B_sf = 0.005 is the spatial frequency bandwidth,\n",
      "             - B_V = 0.1 is the temporal frequency bandwidth,\n",
      "             - B_theta = 0.2617993877991494, theta is arbitrary\n",
      "\n",
      "    Fro each condition (blockid), we used 2 repetitions of each of the 25 possible combinations of these parameters are made per block of 50 trials. Finally, 4 such blocks were collected per condition (blockid) tested.\n",
      "\n",
      "     * parameters:\n",
      "             - N_seed = 2 different seeds: seed=1973 and their 2 increments to generate different movies within one block\n",
      "             - N_trials = 4 different repetitions of the same block\n",
      "\n",
      "            Grand total for one block is\n",
      "             - 25 combinations ⨉\n",
      "             - 2 repetitions x\n",
      "             - 1.0s\n",
      "\n",
      "            That is,\n",
      "             - One block=  50  movies\n",
      "             - One block=  1250  frames\n",
      "             - One block= 100.0 seconds\n",
      "             - 4 repetitions of one block= 200.0 seconds\n",
      "\n",
      "             Finally, the grand total time is equal to:\n",
      "\n",
      "             - 6 blocks  ⨉ 200.0 seconds = 1200.0 seconds\n",
      "\n",
      "\n",
      "     # and now... let's 💃\n",
      "        \n"
     ]
    }
   ],
   "source": [
    "print(e.print_protocol())"
   ]
  },
  {
   "cell_type": "code",
   "execution_count": 3,
   "metadata": {
    "scrolled": true
   },
   "outputs": [
    {
     "name": "stdout",
     "output_type": "stream",
     "text": [
      "Help on method make_protocol in module speed_discrimination:\n",
      "\n",
      "make_protocol(p_diconame='data/protocol.pkl') method of speed_discrimination.SpeedDiscrimination instance\n",
      "    This function generates the diconame file to freeze the protocol given the global seed.\n",
      "\n"
     ]
    }
   ],
   "source": [
    "help(e.make_protocol)"
   ]
  },
  {
   "cell_type": "markdown",
   "metadata": {},
   "source": [
    "## generating blocks"
   ]
  },
  {
   "cell_type": "code",
   "execution_count": 4,
   "metadata": {
    "scrolled": true
   },
   "outputs": [
    {
     "data": {
      "text/plain": [
       "array([12,  9, 16,  2, 11,  8, 24, 21,  4, 22,  2, 12,  1, 18, 16,  3,  0,\n",
       "       10, 23,  5,  1,  7, 17, 15,  5, 20, 14,  0,  9, 22,  6, 13,  8,  7,\n",
       "       20, 24,  6, 18, 17, 13, 19, 10, 15, 14, 23,  3,  4, 19, 21, 11])"
      ]
     },
     "execution_count": 4,
     "metadata": {},
     "output_type": "execute_result"
    }
   ],
   "source": [
    "np.random.permutation(range(e.params_protocol['N_combinations']*e.params_protocol['N_seed'])) // e.params_protocol['N_seed']"
   ]
  },
  {
   "cell_type": "code",
   "execution_count": 5,
   "metadata": {},
   "outputs": [
    {
     "data": {
      "text/plain": [
       "array([[ 0,  0],\n",
       "       [ 1,  1],\n",
       "       [ 2,  2],\n",
       "       [ 3,  3],\n",
       "       [ 4,  4],\n",
       "       [ 5,  5],\n",
       "       [ 6,  6],\n",
       "       [ 7,  7],\n",
       "       [ 8,  8],\n",
       "       [ 9,  9],\n",
       "       [10, 10],\n",
       "       [11, 11],\n",
       "       [12, 12],\n",
       "       [13, 13],\n",
       "       [14, 14],\n",
       "       [15, 15],\n",
       "       [16, 16],\n",
       "       [17, 17],\n",
       "       [18, 18],\n",
       "       [19, 19],\n",
       "       [20, 20],\n",
       "       [21, 21],\n",
       "       [22, 22],\n",
       "       [23, 23],\n",
       "       [24, 24]])"
      ]
     },
     "execution_count": 5,
     "metadata": {},
     "output_type": "execute_result"
    }
   ],
   "source": [
    "np.sort(_).reshape((25, e.params_protocol['N_seed']))"
   ]
  },
  {
   "cell_type": "code",
   "execution_count": 6,
   "metadata": {},
   "outputs": [
    {
     "data": {
      "text/plain": [
       "nan"
      ]
     },
     "execution_count": 6,
     "metadata": {},
     "output_type": "execute_result"
    }
   ],
   "source": [
    "e.params_protocol['blockids']['C1']['sigma_f']"
   ]
  },
  {
   "cell_type": "code",
   "execution_count": 7,
   "metadata": {},
   "outputs": [
    {
     "name": "stdout",
     "output_type": "stream",
     "text": [
      "0 C4 {'B_f': 1.28, 'v_ref': 5.0, 'sigma_f': nan, 'f_ref': 0.8, 'delta_V': [-2.0, -1.0, 0.0, 1.0, 2.0], 't': 0.2, 'delta_f': [-0.48, -0.21, 0, 0.32, 0.85]}\n",
      "1 A4 {'B_f': nan, 'v_ref': 5.0, 'sigma_f': 1.0, 'f_ref': 0.8, 'delta_V': [-2.0, -1.0, 0.0, 1.0, 2.0], 't': 0.2, 'delta_f': [-0.48, -0.21, 0, 0.32, 0.85]}\n",
      "2 C1 {'B_f': 1.28, 'v_ref': 5.0, 'sigma_f': nan, 'f_ref': 0.8, 'delta_V': [-2.0, -1.0, 0.0, 1.0, 2.0], 't': 0.1, 'delta_f': [-0.48, -0.21, 0, 0.32, 0.85]}\n",
      "3 A2 {'B_f': nan, 'v_ref': 5.0, 'sigma_f': 1.0, 'f_ref': 0.8, 'delta_V': [-2.0, -1.0, 0.0, 1.0, 2.0], 't': 0.2, 'delta_f': [-0.48, -0.21, 0, 0.32, 0.85]}\n",
      "4 A1 {'B_f': nan, 'v_ref': 5.0, 'sigma_f': 1.0, 'f_ref': 0.8, 'delta_V': [-2.0, -1.0, 0.0, 1.0, 2.0], 't': 0.2, 'delta_f': [-0.27, -0.16, 0, 0.27, 0.48]}\n",
      "5 C3 {'B_f': 1.28, 'v_ref': 5.0, 'sigma_f': nan, 'f_ref': 0.8, 'delta_V': [-2.0, -1.0, 0.0, 1.0, 2.0], 't': 0.2, 'delta_f': [-0.48, -0.21, 0, 0.32, 0.85]}\n"
     ]
    }
   ],
   "source": [
    "for i_block, block in enumerate(e.params_protocol['blockids']):\n",
    "    print (i_block, block, e.params_protocol['blockids'][block])"
   ]
  },
  {
   "cell_type": "code",
   "execution_count": 8,
   "metadata": {
    "scrolled": false
   },
   "outputs": [],
   "source": [
    "e.make_protocol()"
   ]
  },
  {
   "cell_type": "code",
   "execution_count": 9,
   "metadata": {},
   "outputs": [
    {
     "name": "stdout",
     "output_type": "stream",
     "text": [
      "0 C4 [{'df': -0.48, 'dV': -2.0, 'ref_first': False, 'blockid': 'C4', 'seed_': 1, 'go_right': False}, {'df': 0.32, 'dV': 2.0, 'ref_first': False, 'blockid': 'C4', 'seed_': 0, 'go_right': False}, {'df': 0.0, 'dV': -1.0, 'ref_first': False, 'blockid': 'C4', 'seed_': 0, 'go_right': True}, {'df': 0.85, 'dV': 1.0, 'ref_first': False, 'blockid': 'C4', 'seed_': 1, 'go_right': False}, {'df': 0.32, 'dV': -1.0, 'ref_first': False, 'blockid': 'C4', 'seed_': 1, 'go_right': False}, {'df': 0.85, 'dV': 1.0, 'ref_first': True, 'blockid': 'C4', 'seed_': 0, 'go_right': False}, {'df': -0.48, 'dV': 1.0, 'ref_first': False, 'blockid': 'C4', 'seed_': 0, 'go_right': True}, {'df': 0.85, 'dV': 0.0, 'ref_first': False, 'blockid': 'C4', 'seed_': 1, 'go_right': False}, {'df': -0.48, 'dV': 0.0, 'ref_first': True, 'blockid': 'C4', 'seed_': 0, 'go_right': True}, {'df': -0.21, 'dV': 1.0, 'ref_first': False, 'blockid': 'C4', 'seed_': 1, 'go_right': True}, {'df': 0.32, 'dV': -2.0, 'ref_first': False, 'blockid': 'C4', 'seed_': 1, 'go_right': False}, {'df': 0.85, 'dV': 2.0, 'ref_first': True, 'blockid': 'C4', 'seed_': 0, 'go_right': True}, {'df': 0.32, 'dV': 2.0, 'ref_first': True, 'blockid': 'C4', 'seed_': 1, 'go_right': True}, {'df': 0.85, 'dV': 0.0, 'ref_first': True, 'blockid': 'C4', 'seed_': 0, 'go_right': True}, {'df': -0.48, 'dV': -2.0, 'ref_first': False, 'blockid': 'C4', 'seed_': 0, 'go_right': True}, {'df': -0.21, 'dV': 0.0, 'ref_first': False, 'blockid': 'C4', 'seed_': 0, 'go_right': True}, {'df': -0.48, 'dV': 2.0, 'ref_first': True, 'blockid': 'C4', 'seed_': 1, 'go_right': False}, {'df': 0.32, 'dV': 0.0, 'ref_first': False, 'blockid': 'C4', 'seed_': 0, 'go_right': False}, {'df': -0.48, 'dV': -1.0, 'ref_first': False, 'blockid': 'C4', 'seed_': 1, 'go_right': True}, {'df': -0.21, 'dV': 2.0, 'ref_first': True, 'blockid': 'C4', 'seed_': 1, 'go_right': False}, {'df': 0.85, 'dV': -2.0, 'ref_first': True, 'blockid': 'C4', 'seed_': 0, 'go_right': False}, {'df': 0.0, 'dV': 0.0, 'ref_first': True, 'blockid': 'C4', 'seed_': 1, 'go_right': False}, {'df': 0.32, 'dV': 1.0, 'ref_first': False, 'blockid': 'C4', 'seed_': 0, 'go_right': True}, {'df': -0.48, 'dV': 1.0, 'ref_first': True, 'blockid': 'C4', 'seed_': 1, 'go_right': False}, {'df': -0.21, 'dV': 1.0, 'ref_first': True, 'blockid': 'C4', 'seed_': 0, 'go_right': False}, {'df': 0.32, 'dV': -2.0, 'ref_first': False, 'blockid': 'C4', 'seed_': 0, 'go_right': False}, {'df': 0.32, 'dV': 1.0, 'ref_first': True, 'blockid': 'C4', 'seed_': 1, 'go_right': True}, {'df': 0.85, 'dV': -2.0, 'ref_first': False, 'blockid': 'C4', 'seed_': 1, 'go_right': False}, {'df': -0.48, 'dV': 0.0, 'ref_first': True, 'blockid': 'C4', 'seed_': 1, 'go_right': True}, {'df': 0.0, 'dV': -2.0, 'ref_first': False, 'blockid': 'C4', 'seed_': 0, 'go_right': True}, {'df': -0.48, 'dV': -1.0, 'ref_first': False, 'blockid': 'C4', 'seed_': 0, 'go_right': True}, {'df': 0.85, 'dV': 2.0, 'ref_first': False, 'blockid': 'C4', 'seed_': 1, 'go_right': False}, {'df': -0.21, 'dV': -1.0, 'ref_first': False, 'blockid': 'C4', 'seed_': 0, 'go_right': False}, {'df': -0.48, 'dV': 2.0, 'ref_first': False, 'blockid': 'C4', 'seed_': 0, 'go_right': True}, {'df': 0.32, 'dV': 0.0, 'ref_first': True, 'blockid': 'C4', 'seed_': 1, 'go_right': True}, {'df': 0.0, 'dV': 1.0, 'ref_first': False, 'blockid': 'C4', 'seed_': 1, 'go_right': False}, {'df': -0.21, 'dV': 2.0, 'ref_first': True, 'blockid': 'C4', 'seed_': 0, 'go_right': True}, {'df': -0.21, 'dV': -2.0, 'ref_first': False, 'blockid': 'C4', 'seed_': 0, 'go_right': False}, {'df': 0.0, 'dV': -1.0, 'ref_first': False, 'blockid': 'C4', 'seed_': 1, 'go_right': False}, {'df': 0.85, 'dV': -1.0, 'ref_first': False, 'blockid': 'C4', 'seed_': 1, 'go_right': False}, {'df': -0.21, 'dV': -1.0, 'ref_first': False, 'blockid': 'C4', 'seed_': 1, 'go_right': False}, {'df': -0.21, 'dV': -2.0, 'ref_first': False, 'blockid': 'C4', 'seed_': 1, 'go_right': False}, {'df': 0.0, 'dV': 2.0, 'ref_first': True, 'blockid': 'C4', 'seed_': 0, 'go_right': False}, {'df': 0.0, 'dV': 2.0, 'ref_first': False, 'blockid': 'C4', 'seed_': 1, 'go_right': False}, {'df': 0.0, 'dV': 1.0, 'ref_first': True, 'blockid': 'C4', 'seed_': 0, 'go_right': False}, {'df': 0.0, 'dV': -2.0, 'ref_first': True, 'blockid': 'C4', 'seed_': 1, 'go_right': False}, {'df': 0.85, 'dV': -1.0, 'ref_first': True, 'blockid': 'C4', 'seed_': 0, 'go_right': False}, {'df': 0.0, 'dV': 0.0, 'ref_first': False, 'blockid': 'C4', 'seed_': 0, 'go_right': False}, {'df': 0.32, 'dV': -1.0, 'ref_first': True, 'blockid': 'C4', 'seed_': 0, 'go_right': True}, {'df': -0.21, 'dV': 0.0, 'ref_first': True, 'blockid': 'C4', 'seed_': 1, 'go_right': True}] 50\n",
      "1 A4 [{'df': 0.85, 'dV': 2.0, 'ref_first': False, 'blockid': 'A4', 'seed_': 0, 'go_right': False}, {'df': 0.32, 'dV': -1.0, 'ref_first': False, 'blockid': 'A4', 'seed_': 1, 'go_right': True}, {'df': 0.85, 'dV': 1.0, 'ref_first': True, 'blockid': 'A4', 'seed_': 1, 'go_right': True}, {'df': -0.48, 'dV': -1.0, 'ref_first': False, 'blockid': 'A4', 'seed_': 1, 'go_right': False}, {'df': 0.32, 'dV': -2.0, 'ref_first': False, 'blockid': 'A4', 'seed_': 0, 'go_right': False}, {'df': -0.48, 'dV': 0.0, 'ref_first': True, 'blockid': 'A4', 'seed_': 0, 'go_right': False}, {'df': 0.32, 'dV': 2.0, 'ref_first': True, 'blockid': 'A4', 'seed_': 1, 'go_right': False}, {'df': -0.21, 'dV': -1.0, 'ref_first': False, 'blockid': 'A4', 'seed_': 0, 'go_right': False}, {'df': -0.48, 'dV': 1.0, 'ref_first': True, 'blockid': 'A4', 'seed_': 1, 'go_right': False}, {'df': 0.32, 'dV': -2.0, 'ref_first': False, 'blockid': 'A4', 'seed_': 1, 'go_right': False}, {'df': 0.85, 'dV': -2.0, 'ref_first': True, 'blockid': 'A4', 'seed_': 1, 'go_right': False}, {'df': 0.85, 'dV': -2.0, 'ref_first': True, 'blockid': 'A4', 'seed_': 0, 'go_right': False}, {'df': -0.21, 'dV': -1.0, 'ref_first': True, 'blockid': 'A4', 'seed_': 1, 'go_right': True}, {'df': 0.0, 'dV': 0.0, 'ref_first': False, 'blockid': 'A4', 'seed_': 1, 'go_right': False}, {'df': 0.32, 'dV': -1.0, 'ref_first': False, 'blockid': 'A4', 'seed_': 0, 'go_right': True}, {'df': -0.21, 'dV': 0.0, 'ref_first': False, 'blockid': 'A4', 'seed_': 0, 'go_right': True}, {'df': 0.32, 'dV': 0.0, 'ref_first': True, 'blockid': 'A4', 'seed_': 0, 'go_right': True}, {'df': -0.21, 'dV': 2.0, 'ref_first': False, 'blockid': 'A4', 'seed_': 1, 'go_right': True}, {'df': -0.48, 'dV': -1.0, 'ref_first': True, 'blockid': 'A4', 'seed_': 0, 'go_right': True}, {'df': 0.32, 'dV': 2.0, 'ref_first': False, 'blockid': 'A4', 'seed_': 0, 'go_right': False}, {'df': 0.0, 'dV': 0.0, 'ref_first': False, 'blockid': 'A4', 'seed_': 0, 'go_right': True}, {'df': 0.85, 'dV': 0.0, 'ref_first': False, 'blockid': 'A4', 'seed_': 0, 'go_right': False}, {'df': 0.0, 'dV': 1.0, 'ref_first': True, 'blockid': 'A4', 'seed_': 0, 'go_right': False}, {'df': 0.85, 'dV': 2.0, 'ref_first': False, 'blockid': 'A4', 'seed_': 1, 'go_right': True}, {'df': 0.0, 'dV': 2.0, 'ref_first': True, 'blockid': 'A4', 'seed_': 0, 'go_right': False}, {'df': 0.85, 'dV': -1.0, 'ref_first': True, 'blockid': 'A4', 'seed_': 0, 'go_right': True}, {'df': -0.21, 'dV': -2.0, 'ref_first': False, 'blockid': 'A4', 'seed_': 0, 'go_right': True}, {'df': 0.85, 'dV': 1.0, 'ref_first': True, 'blockid': 'A4', 'seed_': 0, 'go_right': True}, {'df': -0.48, 'dV': 1.0, 'ref_first': False, 'blockid': 'A4', 'seed_': 0, 'go_right': False}, {'df': 0.0, 'dV': 2.0, 'ref_first': False, 'blockid': 'A4', 'seed_': 1, 'go_right': False}, {'df': 0.85, 'dV': 0.0, 'ref_first': False, 'blockid': 'A4', 'seed_': 1, 'go_right': False}, {'df': -0.21, 'dV': 1.0, 'ref_first': True, 'blockid': 'A4', 'seed_': 0, 'go_right': True}, {'df': 0.85, 'dV': -1.0, 'ref_first': True, 'blockid': 'A4', 'seed_': 1, 'go_right': True}, {'df': 0.0, 'dV': -2.0, 'ref_first': False, 'blockid': 'A4', 'seed_': 1, 'go_right': True}, {'df': 0.0, 'dV': -1.0, 'ref_first': True, 'blockid': 'A4', 'seed_': 0, 'go_right': True}, {'df': -0.48, 'dV': 2.0, 'ref_first': True, 'blockid': 'A4', 'seed_': 1, 'go_right': True}, {'df': -0.21, 'dV': 2.0, 'ref_first': True, 'blockid': 'A4', 'seed_': 0, 'go_right': False}, {'df': -0.21, 'dV': 0.0, 'ref_first': True, 'blockid': 'A4', 'seed_': 1, 'go_right': False}, {'df': -0.48, 'dV': 2.0, 'ref_first': True, 'blockid': 'A4', 'seed_': 0, 'go_right': True}, {'df': -0.21, 'dV': -2.0, 'ref_first': True, 'blockid': 'A4', 'seed_': 1, 'go_right': True}, {'df': 0.32, 'dV': 1.0, 'ref_first': True, 'blockid': 'A4', 'seed_': 0, 'go_right': True}, {'df': 0.32, 'dV': 1.0, 'ref_first': False, 'blockid': 'A4', 'seed_': 1, 'go_right': True}, {'df': 0.0, 'dV': 1.0, 'ref_first': True, 'blockid': 'A4', 'seed_': 1, 'go_right': False}, {'df': 0.0, 'dV': -1.0, 'ref_first': True, 'blockid': 'A4', 'seed_': 1, 'go_right': False}, {'df': -0.48, 'dV': 0.0, 'ref_first': True, 'blockid': 'A4', 'seed_': 1, 'go_right': False}, {'df': 0.32, 'dV': 0.0, 'ref_first': False, 'blockid': 'A4', 'seed_': 1, 'go_right': True}, {'df': -0.48, 'dV': -2.0, 'ref_first': False, 'blockid': 'A4', 'seed_': 1, 'go_right': True}, {'df': -0.48, 'dV': -2.0, 'ref_first': True, 'blockid': 'A4', 'seed_': 0, 'go_right': False}, {'df': 0.0, 'dV': -2.0, 'ref_first': False, 'blockid': 'A4', 'seed_': 0, 'go_right': True}, {'df': -0.21, 'dV': 1.0, 'ref_first': True, 'blockid': 'A4', 'seed_': 1, 'go_right': False}] 50\n",
      "2 C1 [{'df': -0.21, 'dV': -2.0, 'ref_first': False, 'blockid': 'C1', 'seed_': 0, 'go_right': False}, {'df': -0.21, 'dV': 0.0, 'ref_first': False, 'blockid': 'C1', 'seed_': 0, 'go_right': True}, {'df': 0.0, 'dV': 0.0, 'ref_first': False, 'blockid': 'C1', 'seed_': 1, 'go_right': False}, {'df': 0.85, 'dV': -1.0, 'ref_first': False, 'blockid': 'C1', 'seed_': 1, 'go_right': True}, {'df': 0.85, 'dV': 1.0, 'ref_first': False, 'blockid': 'C1', 'seed_': 0, 'go_right': False}, {'df': 0.85, 'dV': 2.0, 'ref_first': True, 'blockid': 'C1', 'seed_': 1, 'go_right': False}, {'df': -0.48, 'dV': -2.0, 'ref_first': False, 'blockid': 'C1', 'seed_': 1, 'go_right': False}, {'df': 0.0, 'dV': -2.0, 'ref_first': False, 'blockid': 'C1', 'seed_': 0, 'go_right': True}, {'df': 0.0, 'dV': -2.0, 'ref_first': True, 'blockid': 'C1', 'seed_': 1, 'go_right': True}, {'df': 0.85, 'dV': 0.0, 'ref_first': False, 'blockid': 'C1', 'seed_': 0, 'go_right': False}, {'df': -0.21, 'dV': 2.0, 'ref_first': True, 'blockid': 'C1', 'seed_': 1, 'go_right': False}, {'df': 0.32, 'dV': 0.0, 'ref_first': False, 'blockid': 'C1', 'seed_': 1, 'go_right': True}, {'df': -0.48, 'dV': -2.0, 'ref_first': True, 'blockid': 'C1', 'seed_': 0, 'go_right': False}, {'df': -0.48, 'dV': 1.0, 'ref_first': True, 'blockid': 'C1', 'seed_': 0, 'go_right': False}, {'df': 0.0, 'dV': 1.0, 'ref_first': False, 'blockid': 'C1', 'seed_': 1, 'go_right': True}, {'df': 0.32, 'dV': 1.0, 'ref_first': True, 'blockid': 'C1', 'seed_': 0, 'go_right': True}, {'df': 0.0, 'dV': 2.0, 'ref_first': True, 'blockid': 'C1', 'seed_': 1, 'go_right': True}, {'df': 0.85, 'dV': 1.0, 'ref_first': False, 'blockid': 'C1', 'seed_': 1, 'go_right': True}, {'df': 0.0, 'dV': -1.0, 'ref_first': True, 'blockid': 'C1', 'seed_': 0, 'go_right': False}, {'df': 0.85, 'dV': -2.0, 'ref_first': True, 'blockid': 'C1', 'seed_': 1, 'go_right': False}, {'df': 0.85, 'dV': 2.0, 'ref_first': True, 'blockid': 'C1', 'seed_': 0, 'go_right': True}, {'df': 0.0, 'dV': 0.0, 'ref_first': True, 'blockid': 'C1', 'seed_': 0, 'go_right': True}, {'df': 0.32, 'dV': -1.0, 'ref_first': True, 'blockid': 'C1', 'seed_': 0, 'go_right': True}, {'df': -0.21, 'dV': -1.0, 'ref_first': False, 'blockid': 'C1', 'seed_': 0, 'go_right': True}, {'df': 0.32, 'dV': 2.0, 'ref_first': False, 'blockid': 'C1', 'seed_': 1, 'go_right': True}, {'df': -0.48, 'dV': -1.0, 'ref_first': True, 'blockid': 'C1', 'seed_': 0, 'go_right': False}, {'df': 0.85, 'dV': -1.0, 'ref_first': True, 'blockid': 'C1', 'seed_': 0, 'go_right': False}, {'df': -0.48, 'dV': 1.0, 'ref_first': False, 'blockid': 'C1', 'seed_': 1, 'go_right': True}, {'df': 0.32, 'dV': -2.0, 'ref_first': False, 'blockid': 'C1', 'seed_': 0, 'go_right': True}, {'df': -0.21, 'dV': 0.0, 'ref_first': True, 'blockid': 'C1', 'seed_': 1, 'go_right': False}, {'df': -0.21, 'dV': 1.0, 'ref_first': True, 'blockid': 'C1', 'seed_': 0, 'go_right': False}, {'df': 0.85, 'dV': -2.0, 'ref_first': True, 'blockid': 'C1', 'seed_': 0, 'go_right': True}, {'df': -0.21, 'dV': -1.0, 'ref_first': False, 'blockid': 'C1', 'seed_': 1, 'go_right': False}, {'df': -0.48, 'dV': 0.0, 'ref_first': False, 'blockid': 'C1', 'seed_': 0, 'go_right': False}, {'df': 0.32, 'dV': 0.0, 'ref_first': True, 'blockid': 'C1', 'seed_': 0, 'go_right': False}, {'df': 0.32, 'dV': -2.0, 'ref_first': False, 'blockid': 'C1', 'seed_': 1, 'go_right': True}, {'df': -0.48, 'dV': 0.0, 'ref_first': True, 'blockid': 'C1', 'seed_': 1, 'go_right': True}, {'df': -0.48, 'dV': 2.0, 'ref_first': True, 'blockid': 'C1', 'seed_': 1, 'go_right': False}, {'df': -0.21, 'dV': 2.0, 'ref_first': False, 'blockid': 'C1', 'seed_': 0, 'go_right': False}, {'df': 0.32, 'dV': -1.0, 'ref_first': True, 'blockid': 'C1', 'seed_': 1, 'go_right': False}, {'df': -0.21, 'dV': 1.0, 'ref_first': True, 'blockid': 'C1', 'seed_': 1, 'go_right': False}, {'df': 0.32, 'dV': 2.0, 'ref_first': False, 'blockid': 'C1', 'seed_': 0, 'go_right': False}, {'df': -0.48, 'dV': 2.0, 'ref_first': False, 'blockid': 'C1', 'seed_': 0, 'go_right': False}, {'df': 0.0, 'dV': 1.0, 'ref_first': True, 'blockid': 'C1', 'seed_': 0, 'go_right': True}, {'df': -0.21, 'dV': -2.0, 'ref_first': True, 'blockid': 'C1', 'seed_': 1, 'go_right': True}, {'df': -0.48, 'dV': -1.0, 'ref_first': True, 'blockid': 'C1', 'seed_': 1, 'go_right': False}, {'df': 0.85, 'dV': 0.0, 'ref_first': False, 'blockid': 'C1', 'seed_': 1, 'go_right': False}, {'df': 0.32, 'dV': 1.0, 'ref_first': True, 'blockid': 'C1', 'seed_': 1, 'go_right': False}, {'df': 0.0, 'dV': 2.0, 'ref_first': True, 'blockid': 'C1', 'seed_': 0, 'go_right': False}, {'df': 0.0, 'dV': -1.0, 'ref_first': False, 'blockid': 'C1', 'seed_': 1, 'go_right': True}] 50\n",
      "3 A2 [{'df': 0.0, 'dV': -1.0, 'ref_first': False, 'blockid': 'A2', 'seed_': 0, 'go_right': False}, {'df': 0.32, 'dV': 0.0, 'ref_first': True, 'blockid': 'A2', 'seed_': 0, 'go_right': True}, {'df': 0.85, 'dV': -1.0, 'ref_first': True, 'blockid': 'A2', 'seed_': 0, 'go_right': True}, {'df': 0.0, 'dV': 2.0, 'ref_first': False, 'blockid': 'A2', 'seed_': 1, 'go_right': False}, {'df': 0.32, 'dV': 2.0, 'ref_first': True, 'blockid': 'A2', 'seed_': 0, 'go_right': True}, {'df': 0.85, 'dV': 1.0, 'ref_first': True, 'blockid': 'A2', 'seed_': 1, 'go_right': True}, {'df': -0.48, 'dV': -2.0, 'ref_first': True, 'blockid': 'A2', 'seed_': 0, 'go_right': False}, {'df': -0.21, 'dV': 1.0, 'ref_first': True, 'blockid': 'A2', 'seed_': 0, 'go_right': False}, {'df': -0.21, 'dV': 0.0, 'ref_first': True, 'blockid': 'A2', 'seed_': 1, 'go_right': True}, {'df': -0.21, 'dV': -1.0, 'ref_first': True, 'blockid': 'A2', 'seed_': 1, 'go_right': False}, {'df': 0.32, 'dV': -2.0, 'ref_first': True, 'blockid': 'A2', 'seed_': 1, 'go_right': False}, {'df': -0.48, 'dV': -1.0, 'ref_first': True, 'blockid': 'A2', 'seed_': 1, 'go_right': True}, {'df': 0.85, 'dV': -2.0, 'ref_first': True, 'blockid': 'A2', 'seed_': 1, 'go_right': True}, {'df': 0.32, 'dV': -1.0, 'ref_first': False, 'blockid': 'A2', 'seed_': 1, 'go_right': True}, {'df': -0.21, 'dV': 2.0, 'ref_first': False, 'blockid': 'A2', 'seed_': 0, 'go_right': True}, {'df': 0.0, 'dV': 1.0, 'ref_first': True, 'blockid': 'A2', 'seed_': 0, 'go_right': True}, {'df': -0.48, 'dV': 2.0, 'ref_first': False, 'blockid': 'A2', 'seed_': 1, 'go_right': True}, {'df': 0.85, 'dV': -2.0, 'ref_first': True, 'blockid': 'A2', 'seed_': 0, 'go_right': True}, {'df': 0.32, 'dV': -2.0, 'ref_first': True, 'blockid': 'A2', 'seed_': 0, 'go_right': True}, {'df': -0.48, 'dV': 0.0, 'ref_first': False, 'blockid': 'A2', 'seed_': 0, 'go_right': False}, {'df': -0.21, 'dV': 1.0, 'ref_first': False, 'blockid': 'A2', 'seed_': 1, 'go_right': False}, {'df': -0.48, 'dV': 0.0, 'ref_first': True, 'blockid': 'A2', 'seed_': 1, 'go_right': True}, {'df': -0.21, 'dV': 2.0, 'ref_first': False, 'blockid': 'A2', 'seed_': 1, 'go_right': False}, {'df': 0.32, 'dV': 1.0, 'ref_first': False, 'blockid': 'A2', 'seed_': 1, 'go_right': False}, {'df': 0.85, 'dV': 0.0, 'ref_first': False, 'blockid': 'A2', 'seed_': 0, 'go_right': False}, {'df': 0.0, 'dV': -2.0, 'ref_first': False, 'blockid': 'A2', 'seed_': 1, 'go_right': True}, {'df': 0.85, 'dV': 0.0, 'ref_first': True, 'blockid': 'A2', 'seed_': 1, 'go_right': True}, {'df': 0.0, 'dV': 2.0, 'ref_first': False, 'blockid': 'A2', 'seed_': 0, 'go_right': True}, {'df': 0.85, 'dV': -1.0, 'ref_first': True, 'blockid': 'A2', 'seed_': 1, 'go_right': True}, {'df': -0.48, 'dV': 1.0, 'ref_first': True, 'blockid': 'A2', 'seed_': 0, 'go_right': False}, {'df': 0.32, 'dV': 0.0, 'ref_first': False, 'blockid': 'A2', 'seed_': 1, 'go_right': False}, {'df': -0.48, 'dV': -1.0, 'ref_first': False, 'blockid': 'A2', 'seed_': 0, 'go_right': True}, {'df': -0.48, 'dV': 2.0, 'ref_first': False, 'blockid': 'A2', 'seed_': 0, 'go_right': False}, {'df': -0.48, 'dV': 1.0, 'ref_first': True, 'blockid': 'A2', 'seed_': 1, 'go_right': True}, {'df': 0.0, 'dV': -1.0, 'ref_first': False, 'blockid': 'A2', 'seed_': 1, 'go_right': False}, {'df': 0.85, 'dV': 2.0, 'ref_first': False, 'blockid': 'A2', 'seed_': 0, 'go_right': False}, {'df': 0.85, 'dV': 1.0, 'ref_first': False, 'blockid': 'A2', 'seed_': 0, 'go_right': False}, {'df': -0.21, 'dV': -2.0, 'ref_first': False, 'blockid': 'A2', 'seed_': 1, 'go_right': False}, {'df': 0.32, 'dV': 1.0, 'ref_first': False, 'blockid': 'A2', 'seed_': 0, 'go_right': False}, {'df': -0.21, 'dV': -2.0, 'ref_first': False, 'blockid': 'A2', 'seed_': 0, 'go_right': False}, {'df': -0.21, 'dV': -1.0, 'ref_first': True, 'blockid': 'A2', 'seed_': 0, 'go_right': False}, {'df': 0.32, 'dV': -1.0, 'ref_first': True, 'blockid': 'A2', 'seed_': 0, 'go_right': True}, {'df': 0.32, 'dV': 2.0, 'ref_first': False, 'blockid': 'A2', 'seed_': 1, 'go_right': True}, {'df': -0.48, 'dV': -2.0, 'ref_first': False, 'blockid': 'A2', 'seed_': 1, 'go_right': True}, {'df': 0.0, 'dV': -2.0, 'ref_first': True, 'blockid': 'A2', 'seed_': 0, 'go_right': True}, {'df': 0.85, 'dV': 2.0, 'ref_first': False, 'blockid': 'A2', 'seed_': 1, 'go_right': False}, {'df': -0.21, 'dV': 0.0, 'ref_first': False, 'blockid': 'A2', 'seed_': 0, 'go_right': True}, {'df': 0.0, 'dV': 0.0, 'ref_first': False, 'blockid': 'A2', 'seed_': 1, 'go_right': False}, {'df': 0.0, 'dV': 0.0, 'ref_first': True, 'blockid': 'A2', 'seed_': 0, 'go_right': False}, {'df': 0.0, 'dV': 1.0, 'ref_first': False, 'blockid': 'A2', 'seed_': 1, 'go_right': True}] 50\n",
      "4 A1 [{'df': 0.48, 'dV': 0.0, 'ref_first': False, 'blockid': 'A1', 'seed_': 0, 'go_right': False}, {'df': 0.0, 'dV': 1.0, 'ref_first': True, 'blockid': 'A1', 'seed_': 0, 'go_right': True}, {'df': 0.48, 'dV': -1.0, 'ref_first': True, 'blockid': 'A1', 'seed_': 0, 'go_right': True}, {'df': -0.16, 'dV': -1.0, 'ref_first': False, 'blockid': 'A1', 'seed_': 1, 'go_right': True}, {'df': -0.27, 'dV': 0.0, 'ref_first': False, 'blockid': 'A1', 'seed_': 1, 'go_right': True}, {'df': -0.27, 'dV': -2.0, 'ref_first': True, 'blockid': 'A1', 'seed_': 1, 'go_right': True}, {'df': 0.27, 'dV': 2.0, 'ref_first': False, 'blockid': 'A1', 'seed_': 0, 'go_right': False}, {'df': -0.16, 'dV': -1.0, 'ref_first': True, 'blockid': 'A1', 'seed_': 0, 'go_right': True}, {'df': 0.0, 'dV': -2.0, 'ref_first': True, 'blockid': 'A1', 'seed_': 0, 'go_right': False}, {'df': -0.16, 'dV': 0.0, 'ref_first': False, 'blockid': 'A1', 'seed_': 0, 'go_right': False}, {'df': -0.27, 'dV': 0.0, 'ref_first': True, 'blockid': 'A1', 'seed_': 0, 'go_right': False}, {'df': 0.48, 'dV': -1.0, 'ref_first': True, 'blockid': 'A1', 'seed_': 1, 'go_right': True}, {'df': 0.0, 'dV': -1.0, 'ref_first': False, 'blockid': 'A1', 'seed_': 1, 'go_right': True}, {'df': -0.16, 'dV': -2.0, 'ref_first': True, 'blockid': 'A1', 'seed_': 1, 'go_right': False}, {'df': 0.48, 'dV': 1.0, 'ref_first': False, 'blockid': 'A1', 'seed_': 1, 'go_right': True}, {'df': 0.27, 'dV': 1.0, 'ref_first': True, 'blockid': 'A1', 'seed_': 0, 'go_right': False}, {'df': 0.48, 'dV': 1.0, 'ref_first': True, 'blockid': 'A1', 'seed_': 0, 'go_right': False}, {'df': -0.27, 'dV': -1.0, 'ref_first': False, 'blockid': 'A1', 'seed_': 0, 'go_right': False}, {'df': -0.27, 'dV': 2.0, 'ref_first': False, 'blockid': 'A1', 'seed_': 0, 'go_right': True}, {'df': 0.0, 'dV': 2.0, 'ref_first': True, 'blockid': 'A1', 'seed_': 0, 'go_right': False}, {'df': 0.27, 'dV': 0.0, 'ref_first': False, 'blockid': 'A1', 'seed_': 0, 'go_right': False}, {'df': -0.27, 'dV': 1.0, 'ref_first': False, 'blockid': 'A1', 'seed_': 1, 'go_right': False}, {'df': -0.27, 'dV': -1.0, 'ref_first': False, 'blockid': 'A1', 'seed_': 1, 'go_right': True}, {'df': 0.48, 'dV': 2.0, 'ref_first': False, 'blockid': 'A1', 'seed_': 1, 'go_right': True}, {'df': 0.27, 'dV': -1.0, 'ref_first': True, 'blockid': 'A1', 'seed_': 1, 'go_right': True}, {'df': -0.27, 'dV': -2.0, 'ref_first': True, 'blockid': 'A1', 'seed_': 0, 'go_right': True}, {'df': -0.16, 'dV': -2.0, 'ref_first': True, 'blockid': 'A1', 'seed_': 0, 'go_right': False}, {'df': -0.27, 'dV': 1.0, 'ref_first': False, 'blockid': 'A1', 'seed_': 0, 'go_right': True}, {'df': 0.0, 'dV': 0.0, 'ref_first': False, 'blockid': 'A1', 'seed_': 1, 'go_right': True}, {'df': -0.16, 'dV': 2.0, 'ref_first': False, 'blockid': 'A1', 'seed_': 0, 'go_right': True}, {'df': -0.16, 'dV': 1.0, 'ref_first': False, 'blockid': 'A1', 'seed_': 1, 'go_right': True}, {'df': 0.0, 'dV': 1.0, 'ref_first': True, 'blockid': 'A1', 'seed_': 1, 'go_right': False}, {'df': 0.27, 'dV': 0.0, 'ref_first': False, 'blockid': 'A1', 'seed_': 1, 'go_right': False}, {'df': 0.27, 'dV': -2.0, 'ref_first': False, 'blockid': 'A1', 'seed_': 0, 'go_right': False}, {'df': 0.48, 'dV': -2.0, 'ref_first': True, 'blockid': 'A1', 'seed_': 0, 'go_right': False}, {'df': 0.27, 'dV': 1.0, 'ref_first': False, 'blockid': 'A1', 'seed_': 1, 'go_right': False}, {'df': 0.48, 'dV': 2.0, 'ref_first': True, 'blockid': 'A1', 'seed_': 0, 'go_right': True}, {'df': 0.27, 'dV': -2.0, 'ref_first': False, 'blockid': 'A1', 'seed_': 1, 'go_right': False}, {'df': 0.48, 'dV': 0.0, 'ref_first': True, 'blockid': 'A1', 'seed_': 1, 'go_right': True}, {'df': 0.27, 'dV': -1.0, 'ref_first': False, 'blockid': 'A1', 'seed_': 0, 'go_right': False}, {'df': 0.0, 'dV': 2.0, 'ref_first': True, 'blockid': 'A1', 'seed_': 1, 'go_right': True}, {'df': 0.27, 'dV': 2.0, 'ref_first': False, 'blockid': 'A1', 'seed_': 1, 'go_right': True}, {'df': 0.0, 'dV': 0.0, 'ref_first': True, 'blockid': 'A1', 'seed_': 0, 'go_right': False}, {'df': -0.16, 'dV': 1.0, 'ref_first': True, 'blockid': 'A1', 'seed_': 0, 'go_right': True}, {'df': 0.0, 'dV': -2.0, 'ref_first': False, 'blockid': 'A1', 'seed_': 1, 'go_right': True}, {'df': -0.27, 'dV': 2.0, 'ref_first': True, 'blockid': 'A1', 'seed_': 1, 'go_right': False}, {'df': -0.16, 'dV': 2.0, 'ref_first': False, 'blockid': 'A1', 'seed_': 1, 'go_right': False}, {'df': -0.16, 'dV': 0.0, 'ref_first': False, 'blockid': 'A1', 'seed_': 1, 'go_right': True}, {'df': 0.0, 'dV': -1.0, 'ref_first': False, 'blockid': 'A1', 'seed_': 0, 'go_right': True}, {'df': 0.48, 'dV': -2.0, 'ref_first': False, 'blockid': 'A1', 'seed_': 1, 'go_right': False}] 50\n",
      "5 C3 [{'df': 0.32, 'dV': 0.0, 'ref_first': False, 'blockid': 'C3', 'seed_': 1, 'go_right': False}, {'df': 0.85, 'dV': 1.0, 'ref_first': True, 'blockid': 'C3', 'seed_': 0, 'go_right': False}, {'df': 0.0, 'dV': 2.0, 'ref_first': True, 'blockid': 'C3', 'seed_': 0, 'go_right': False}, {'df': 0.0, 'dV': 0.0, 'ref_first': True, 'blockid': 'C3', 'seed_': 1, 'go_right': True}, {'df': 0.0, 'dV': -1.0, 'ref_first': False, 'blockid': 'C3', 'seed_': 1, 'go_right': False}, {'df': 0.85, 'dV': -1.0, 'ref_first': False, 'blockid': 'C3', 'seed_': 0, 'go_right': True}, {'df': 0.0, 'dV': 1.0, 'ref_first': True, 'blockid': 'C3', 'seed_': 0, 'go_right': True}, {'df': 0.32, 'dV': 2.0, 'ref_first': True, 'blockid': 'C3', 'seed_': 1, 'go_right': False}, {'df': -0.48, 'dV': 0.0, 'ref_first': False, 'blockid': 'C3', 'seed_': 0, 'go_right': True}, {'df': 0.0, 'dV': 1.0, 'ref_first': False, 'blockid': 'C3', 'seed_': 1, 'go_right': False}, {'df': -0.48, 'dV': 0.0, 'ref_first': False, 'blockid': 'C3', 'seed_': 1, 'go_right': True}, {'df': 0.85, 'dV': 0.0, 'ref_first': True, 'blockid': 'C3', 'seed_': 1, 'go_right': True}, {'df': 0.0, 'dV': -1.0, 'ref_first': False, 'blockid': 'C3', 'seed_': 0, 'go_right': True}, {'df': -0.48, 'dV': 1.0, 'ref_first': True, 'blockid': 'C3', 'seed_': 1, 'go_right': True}, {'df': 0.0, 'dV': 2.0, 'ref_first': False, 'blockid': 'C3', 'seed_': 1, 'go_right': True}, {'df': -0.48, 'dV': 2.0, 'ref_first': True, 'blockid': 'C3', 'seed_': 0, 'go_right': True}, {'df': -0.21, 'dV': -1.0, 'ref_first': False, 'blockid': 'C3', 'seed_': 0, 'go_right': False}, {'df': 0.32, 'dV': -1.0, 'ref_first': True, 'blockid': 'C3', 'seed_': 1, 'go_right': True}, {'df': -0.48, 'dV': 2.0, 'ref_first': True, 'blockid': 'C3', 'seed_': 1, 'go_right': True}, {'df': 0.32, 'dV': -1.0, 'ref_first': False, 'blockid': 'C3', 'seed_': 0, 'go_right': True}, {'df': 0.0, 'dV': -2.0, 'ref_first': True, 'blockid': 'C3', 'seed_': 0, 'go_right': True}, {'df': 0.32, 'dV': -2.0, 'ref_first': True, 'blockid': 'C3', 'seed_': 1, 'go_right': True}, {'df': 0.85, 'dV': 0.0, 'ref_first': False, 'blockid': 'C3', 'seed_': 0, 'go_right': True}, {'df': -0.21, 'dV': 0.0, 'ref_first': False, 'blockid': 'C3', 'seed_': 0, 'go_right': False}, {'df': -0.21, 'dV': -2.0, 'ref_first': False, 'blockid': 'C3', 'seed_': 1, 'go_right': True}, {'df': 0.32, 'dV': 0.0, 'ref_first': False, 'blockid': 'C3', 'seed_': 0, 'go_right': True}, {'df': -0.48, 'dV': -1.0, 'ref_first': False, 'blockid': 'C3', 'seed_': 1, 'go_right': False}, {'df': -0.48, 'dV': -2.0, 'ref_first': False, 'blockid': 'C3', 'seed_': 0, 'go_right': False}, {'df': 0.85, 'dV': 2.0, 'ref_first': True, 'blockid': 'C3', 'seed_': 0, 'go_right': False}, {'df': 0.85, 'dV': 2.0, 'ref_first': False, 'blockid': 'C3', 'seed_': 1, 'go_right': True}, {'df': 0.0, 'dV': 0.0, 'ref_first': False, 'blockid': 'C3', 'seed_': 0, 'go_right': False}, {'df': -0.21, 'dV': -1.0, 'ref_first': False, 'blockid': 'C3', 'seed_': 1, 'go_right': False}, {'df': -0.21, 'dV': 1.0, 'ref_first': False, 'blockid': 'C3', 'seed_': 1, 'go_right': True}, {'df': 0.85, 'dV': -1.0, 'ref_first': True, 'blockid': 'C3', 'seed_': 1, 'go_right': False}, {'df': -0.48, 'dV': -2.0, 'ref_first': False, 'blockid': 'C3', 'seed_': 1, 'go_right': True}, {'df': 0.85, 'dV': 1.0, 'ref_first': False, 'blockid': 'C3', 'seed_': 1, 'go_right': True}, {'df': -0.21, 'dV': 2.0, 'ref_first': True, 'blockid': 'C3', 'seed_': 0, 'go_right': True}, {'df': 0.32, 'dV': 1.0, 'ref_first': True, 'blockid': 'C3', 'seed_': 1, 'go_right': False}, {'df': -0.21, 'dV': 2.0, 'ref_first': False, 'blockid': 'C3', 'seed_': 1, 'go_right': True}, {'df': -0.48, 'dV': -1.0, 'ref_first': True, 'blockid': 'C3', 'seed_': 0, 'go_right': True}, {'df': -0.21, 'dV': -2.0, 'ref_first': True, 'blockid': 'C3', 'seed_': 0, 'go_right': True}, {'df': -0.48, 'dV': 1.0, 'ref_first': False, 'blockid': 'C3', 'seed_': 0, 'go_right': True}, {'df': 0.32, 'dV': 2.0, 'ref_first': True, 'blockid': 'C3', 'seed_': 0, 'go_right': False}, {'df': 0.32, 'dV': -2.0, 'ref_first': True, 'blockid': 'C3', 'seed_': 0, 'go_right': False}, {'df': 0.85, 'dV': -2.0, 'ref_first': False, 'blockid': 'C3', 'seed_': 0, 'go_right': False}, {'df': 0.32, 'dV': 1.0, 'ref_first': True, 'blockid': 'C3', 'seed_': 0, 'go_right': False}, {'df': -0.21, 'dV': 0.0, 'ref_first': False, 'blockid': 'C3', 'seed_': 1, 'go_right': True}, {'df': -0.21, 'dV': 1.0, 'ref_first': True, 'blockid': 'C3', 'seed_': 0, 'go_right': False}, {'df': 0.0, 'dV': -2.0, 'ref_first': False, 'blockid': 'C3', 'seed_': 1, 'go_right': True}, {'df': 0.85, 'dV': -2.0, 'ref_first': False, 'blockid': 'C3', 'seed_': 1, 'go_right': False}] 50\n"
     ]
    }
   ],
   "source": [
    "for i_block, block in enumerate(e.params_protocol['blockids']):\n",
    "    print (i_block, block, e.protocol[block], len(e.protocol[block]))"
   ]
  },
  {
   "cell_type": "code",
   "execution_count": 10,
   "metadata": {},
   "outputs": [
    {
     "data": {
      "text/plain": [
       "{'B_f': nan,\n",
       " 'delta_V': [-2.0, -1.0, 0.0, 1.0, 2.0],\n",
       " 'delta_f': [-0.27, -0.16, 0, 0.27, 0.48],\n",
       " 'f_ref': 0.8,\n",
       " 'sigma_f': 1.0,\n",
       " 't': 0.2,\n",
       " 'v_ref': 5.0}"
      ]
     },
     "execution_count": 10,
     "metadata": {},
     "output_type": "execute_result"
    }
   ],
   "source": [
    "e.params_protocol['blockids']['A1']"
   ]
  },
  {
   "cell_type": "raw",
   "metadata": {},
   "source": [
    "help(lmfit.minimize)"
   ]
  }
 ],
 "metadata": {
  "kernelspec": {
   "display_name": "Python 3",
   "language": "python",
   "name": "python3"
  },
  "language_info": {
   "codemirror_mode": {
    "name": "ipython",
    "version": 3
   },
   "file_extension": ".py",
   "mimetype": "text/x-python",
   "name": "python",
   "nbconvert_exporter": "python",
   "pygments_lexer": "ipython3",
   "version": "3.6.1"
  }
 },
 "nbformat": 4,
 "nbformat_minor": 1
}
